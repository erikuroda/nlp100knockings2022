{
 "cells": [
  {
   "cell_type": "code",
   "execution_count": 1,
   "id": "57e029dc",
   "metadata": {},
   "outputs": [],
   "source": [
    "import pickle\n",
    "with open('train.pickle', 'rb') as f:\n",
    "    train = pickle.load(f)"
   ]
  },
  {
   "cell_type": "code",
   "execution_count": 2,
   "id": "71092ca3",
   "metadata": {},
   "outputs": [],
   "source": [
    "with open('valid.pickle', 'rb') as f:\n",
    "    valid = pickle.load(f)"
   ]
  },
  {
   "cell_type": "code",
   "execution_count": 3,
   "id": "ddbec7f0",
   "metadata": {},
   "outputs": [],
   "source": [
    "with open('test.pickle', 'rb') as f:\n",
    "    test = pickle.load(f)"
   ]
  },
  {
   "cell_type": "code",
   "execution_count": 4,
   "id": "81077660",
   "metadata": {},
   "outputs": [],
   "source": [
    "import pandas as pd"
   ]
  },
  {
   "cell_type": "code",
   "execution_count": 5,
   "id": "1295950b",
   "metadata": {},
   "outputs": [],
   "source": [
    "import string\n",
    "import re"
   ]
  },
  {
   "cell_type": "code",
   "execution_count": 6,
   "id": "f0c8f1b2",
   "metadata": {},
   "outputs": [],
   "source": [
    "def preprocess(text):\n",
    "    #小文字にする\n",
    "    text = text.lower()\n",
    "    #記号を取り除く\n",
    "    code_regex = re.compile('[!\"#$%&\\'\\\\\\\\()*+,-./:;<=>?@[\\\\]^_`{|}~「」〔〕“”〈〉『』【】＆＊・（）＄＃＠。、？！｀＋￥％]')\n",
    "    text = code_regex.sub('', text)\n",
    "    #数字を全部0に\n",
    "    text = re.sub('[0-9]+', '0', text)\n",
    "    return text"
   ]
  },
  {
   "cell_type": "code",
   "execution_count": 7,
   "id": "2ce48c79",
   "metadata": {},
   "outputs": [
    {
     "data": {
      "text/html": [
       "<div>\n",
       "<style scoped>\n",
       "    .dataframe tbody tr th:only-of-type {\n",
       "        vertical-align: middle;\n",
       "    }\n",
       "\n",
       "    .dataframe tbody tr th {\n",
       "        vertical-align: top;\n",
       "    }\n",
       "\n",
       "    .dataframe thead th {\n",
       "        text-align: right;\n",
       "    }\n",
       "</style>\n",
       "<table border=\"1\" class=\"dataframe\">\n",
       "  <thead>\n",
       "    <tr style=\"text-align: right;\">\n",
       "      <th></th>\n",
       "      <th>TITLE</th>\n",
       "      <th>CATEGORY</th>\n",
       "    </tr>\n",
       "  </thead>\n",
       "  <tbody>\n",
       "    <tr>\n",
       "      <th>0</th>\n",
       "      <td>refileupdate 0european car sales up for sixth ...</td>\n",
       "      <td>b</td>\n",
       "    </tr>\n",
       "    <tr>\n",
       "      <th>1</th>\n",
       "      <td>amazon plans to fight ftc over mobileapp purch...</td>\n",
       "      <td>t</td>\n",
       "    </tr>\n",
       "    <tr>\n",
       "      <th>2</th>\n",
       "      <td>kids still get codeine in emergency rooms desp...</td>\n",
       "      <td>m</td>\n",
       "    </tr>\n",
       "    <tr>\n",
       "      <th>3</th>\n",
       "      <td>what on earth happened between solange and jay...</td>\n",
       "      <td>e</td>\n",
       "    </tr>\n",
       "    <tr>\n",
       "      <th>4</th>\n",
       "      <td>nato missile defense is flight tested over hawaii</td>\n",
       "      <td>b</td>\n",
       "    </tr>\n",
       "    <tr>\n",
       "      <th>...</th>\n",
       "      <td>...</td>\n",
       "      <td>...</td>\n",
       "    </tr>\n",
       "    <tr>\n",
       "      <th>10679</th>\n",
       "      <td>the pillow book of tim geithner</td>\n",
       "      <td>b</td>\n",
       "    </tr>\n",
       "    <tr>\n",
       "      <th>10680</th>\n",
       "      <td>robin thicke spends 0 on amethyst stone at cry...</td>\n",
       "      <td>e</td>\n",
       "    </tr>\n",
       "    <tr>\n",
       "      <th>10681</th>\n",
       "      <td>japanese shares little changed after biggest r...</td>\n",
       "      <td>b</td>\n",
       "    </tr>\n",
       "    <tr>\n",
       "      <th>10682</th>\n",
       "      <td>wrapup 0liberia shuts schools as ebola spreads...</td>\n",
       "      <td>m</td>\n",
       "    </tr>\n",
       "    <tr>\n",
       "      <th>10683</th>\n",
       "      <td>justin bieber caught using nword  joining kkk ...</td>\n",
       "      <td>e</td>\n",
       "    </tr>\n",
       "  </tbody>\n",
       "</table>\n",
       "<p>10684 rows × 2 columns</p>\n",
       "</div>"
      ],
      "text/plain": [
       "                                                   TITLE CATEGORY\n",
       "0      refileupdate 0european car sales up for sixth ...        b\n",
       "1      amazon plans to fight ftc over mobileapp purch...        t\n",
       "2      kids still get codeine in emergency rooms desp...        m\n",
       "3      what on earth happened between solange and jay...        e\n",
       "4      nato missile defense is flight tested over hawaii        b\n",
       "...                                                  ...      ...\n",
       "10679                    the pillow book of tim geithner        b\n",
       "10680  robin thicke spends 0 on amethyst stone at cry...        e\n",
       "10681  japanese shares little changed after biggest r...        b\n",
       "10682  wrapup 0liberia shuts schools as ebola spreads...        m\n",
       "10683  justin bieber caught using nword  joining kkk ...        e\n",
       "\n",
       "[10684 rows x 2 columns]"
      ]
     },
     "execution_count": 7,
     "metadata": {},
     "output_type": "execute_result"
    }
   ],
   "source": [
    "train['TITLE'] = train['TITLE'].map(lambda x: preprocess(x))\n",
    "train.reset_index(drop=True, inplace=True)\n",
    "train"
   ]
  },
  {
   "cell_type": "code",
   "execution_count": 8,
   "id": "12c48764",
   "metadata": {},
   "outputs": [],
   "source": [
    "valid['TITLE'] = valid['TITLE'].map(lambda x: preprocess(x))\n",
    "valid.reset_index(drop=True, inplace=True)"
   ]
  },
  {
   "cell_type": "code",
   "execution_count": 9,
   "id": "a1718ebd",
   "metadata": {},
   "outputs": [],
   "source": [
    "test['TITLE'] = test['TITLE'].map(lambda x: preprocess(x))\n",
    "test.reset_index(drop=True, inplace=True)"
   ]
  },
  {
   "cell_type": "code",
   "execution_count": 10,
   "id": "ab4d6256",
   "metadata": {},
   "outputs": [],
   "source": [
    "from sklearn.feature_extraction.text import TfidfVectorizer"
   ]
  },
  {
   "cell_type": "code",
   "execution_count": 11,
   "id": "65513fe2",
   "metadata": {},
   "outputs": [],
   "source": [
    "vectorizer = TfidfVectorizer(min_df=10, max_df=0.8)\n",
    "X_train = vectorizer.fit_transform(train['TITLE'])\n",
    "X_valid = vectorizer.transform(valid['TITLE'])\n",
    "X_test = vectorizer.transform(test['TITLE'])\n",
    "X_train = pd.DataFrame(X_train.toarray(), columns=vectorizer.get_feature_names())\n",
    "X_valid = pd.DataFrame(X_valid.toarray(), columns=vectorizer.get_feature_names())\n",
    "X_test = pd.DataFrame(X_test.toarray(), columns=vectorizer.get_feature_names())"
   ]
  },
  {
   "cell_type": "code",
   "execution_count": 12,
   "id": "9fb32e21",
   "metadata": {},
   "outputs": [],
   "source": [
    "X_train.to_csv('./train.features.txt', sep='\\t', index=False)\n",
    "X_valid.to_csv('./valid.features.txt', sep='\\t', index=False)\n",
    "X_test.to_csv('./test.features.txt', sep='\\t', index=False)"
   ]
  },
  {
   "cell_type": "code",
   "execution_count": 13,
   "id": "4e69d4c2",
   "metadata": {},
   "outputs": [
    {
     "data": {
      "text/plain": [
       "LogisticRegression(max_iter=10000, random_state=123)"
      ]
     },
     "execution_count": 13,
     "metadata": {},
     "output_type": "execute_result"
    }
   ],
   "source": [
    "from sklearn.linear_model import LogisticRegression\n",
    "\n",
    "lg = LogisticRegression(random_state=123, max_iter=10000)\n",
    "lg.fit(X_train, train['CATEGORY'])"
   ]
  },
  {
   "cell_type": "code",
   "execution_count": 14,
   "id": "5260c9f2",
   "metadata": {},
   "outputs": [],
   "source": [
    "import numpy as np\n",
    "\n",
    "def score_lg(lg, X):\n",
    "  return [np.max(lg.predict_proba(X), axis=1), lg.predict(X)]"
   ]
  },
  {
   "cell_type": "code",
   "execution_count": 15,
   "id": "16eb1038",
   "metadata": {},
   "outputs": [
    {
     "name": "stdout",
     "output_type": "stream",
     "text": [
      "[array([0.71004862, 0.416498  , 0.55317779, ..., 0.85856646, 0.57328845,\n",
      "       0.85644157]), array(['b', 'b', 'm', ..., 'b', 'm', 'e'], dtype=object)]\n"
     ]
    }
   ],
   "source": [
    "train_pred = score_lg(lg, X_train)\n",
    "test_pred = score_lg(lg, X_test)\n",
    "\n",
    "print(train_pred)"
   ]
  },
  {
   "cell_type": "code",
   "execution_count": 16,
   "id": "c1f50f96",
   "metadata": {},
   "outputs": [],
   "source": [
    "from sklearn.metrics import confusion_matrix, accuracy_score, precision_score, recall_score, f1_score"
   ]
  },
  {
   "cell_type": "code",
   "execution_count": 17,
   "id": "d7f1d64e",
   "metadata": {},
   "outputs": [],
   "source": [
    "Y_train = train['CATEGORY']\n",
    "Y_train_pred = train_pred[1]\n",
    "Y_test = test['CATEGORY']\n",
    "Y_test_pred = test_pred[1]"
   ]
  },
  {
   "cell_type": "code",
   "execution_count": 18,
   "id": "faf08303",
   "metadata": {},
   "outputs": [
    {
     "name": "stdout",
     "output_type": "stream",
     "text": [
      "正解率(訓練データ) :  0.9108947959565705\n"
     ]
    }
   ],
   "source": [
    "print('正解率(訓練データ) : ',accuracy_score(y_true=Y_train, y_pred=Y_train_pred))"
   ]
  },
  {
   "cell_type": "code",
   "execution_count": 19,
   "id": "d3ec1ffc",
   "metadata": {},
   "outputs": [
    {
     "name": "stdout",
     "output_type": "stream",
     "text": [
      "正解率(評価データ) :  0.8794910179640718\n"
     ]
    }
   ],
   "source": [
    "print('正解率(評価データ) : ',accuracy_score(y_true=Y_test, y_pred=Y_test_pred))"
   ]
  },
  {
   "cell_type": "code",
   "execution_count": 20,
   "id": "a0affac2",
   "metadata": {},
   "outputs": [
    {
     "data": {
      "text/plain": [
       "array([[4297,  124,   14,   66],\n",
       "       [  69, 4149,    3,   14],\n",
       "       [ 118,  116,  475,   19],\n",
       "       [ 244,  155,   10,  811]])"
      ]
     },
     "execution_count": 20,
     "metadata": {},
     "output_type": "execute_result"
    }
   ],
   "source": [
    "cm_train = confusion_matrix(y_true=Y_train, y_pred=Y_train_pred)\n",
    "cm_train"
   ]
  },
  {
   "cell_type": "code",
   "execution_count": 21,
   "id": "a5f26e0e",
   "metadata": {},
   "outputs": [
    {
     "data": {
      "text/plain": [
       "array([[522,  28,   2,  11],\n",
       "       [ 13, 516,   0,   1],\n",
       "       [ 14,  30,  46,   1],\n",
       "       [ 38,  22,   1,  91]])"
      ]
     },
     "execution_count": 21,
     "metadata": {},
     "output_type": "execute_result"
    }
   ],
   "source": [
    "cm_test = confusion_matrix(y_true=Y_test, y_pred=Y_test_pred)\n",
    "cm_test"
   ]
  },
  {
   "cell_type": "code",
   "execution_count": 22,
   "id": "af29e3b1",
   "metadata": {},
   "outputs": [],
   "source": [
    "import seaborn as sns"
   ]
  },
  {
   "cell_type": "code",
   "execution_count": 23,
   "id": "139e2fa2",
   "metadata": {},
   "outputs": [
    {
     "data": {
      "text/plain": [
       "<AxesSubplot:>"
      ]
     },
     "execution_count": 23,
     "metadata": {},
     "output_type": "execute_result"
    },
    {
     "data": {
      "image/png": "[encoded data removed]",
      "text/plain": [
       "<Figure size 432x288 with 2 Axes>"
      ]
     },
     "metadata": {
      "needs_background": "light"
     },
     "output_type": "display_data"
    }
   ],
   "source": [
    "sns.heatmap(cm_train, square=True, cbar=True, annot=True, cmap='Blues')"
   ]
  },
  {
   "cell_type": "code",
   "execution_count": 24,
   "id": "1760853d",
   "metadata": {},
   "outputs": [
    {
     "data": {
      "text/plain": [
       "<AxesSubplot:>"
      ]
     },
     "execution_count": 24,
     "metadata": {},
     "output_type": "execute_result"
    },
    {
     "data": {
      "image/png": "[encoded data removed]",
      "text/plain": [
       "<Figure size 432x288 with 2 Axes>"
      ]
     },
     "metadata": {
      "needs_background": "light"
     },
     "output_type": "display_data"
    }
   ],
   "source": [
    "sns.heatmap(cm_test, square=True, cbar=True, annot=True, cmap='Blues')"
   ]
  },
  {
   "cell_type": "code",
   "execution_count": 25,
   "id": "14a77f82",
   "metadata": {},
   "outputs": [
    {
     "name": "stdout",
     "output_type": "stream",
     "text": [
      "適合率 : \n",
      "b : 0.8893\n",
      "e : 0.8658\n",
      "m : 0.8750\n",
      "t : 0.9388\n",
      "マクロ平均 : 0.8922\n",
      "マイクロ平均 : 0.8795\n"
     ]
    }
   ],
   "source": [
    "labels = lg.classes_\n",
    "precision = precision_score(y_true=Y_test, y_pred=Y_test_pred, average=None, labels=['b', 'e', 't', 'm'])\n",
    "\n",
    "print('適合率 : ')\n",
    "for i, category in enumerate(labels):\n",
    "    print(category+' : {:.4f}'.format(precision[i]))\n",
    "print('マクロ平均 : {:.4f}'.format(precision_score(y_true=Y_test, y_pred=Y_test_pred, average='macro', labels=['b', 'e', 't', 'm'])))\n",
    "print('マイクロ平均 : {:.4f}'.format(precision_score(y_true=Y_test, y_pred=Y_test_pred, average='micro', labels=['b', 'e', 't', 'm'])))"
   ]
  },
  {
   "cell_type": "code",
   "execution_count": 26,
   "id": "5512b194",
   "metadata": {},
   "outputs": [
    {
     "name": "stdout",
     "output_type": "stream",
     "text": [
      "再現率 : \n",
      "b : 0.9272\n",
      "e : 0.9736\n",
      "m : 0.5987\n",
      "t : 0.5055\n",
      "マクロ平均 : 0.7512\n",
      "マイクロ平均 : 0.8795\n"
     ]
    }
   ],
   "source": [
    "recall = recall_score(y_true=Y_test, y_pred=Y_test_pred, average=None, labels=['b', 'e', 't', 'm'])\n",
    "\n",
    "print('再現率 : ')\n",
    "for i, category in enumerate(labels):\n",
    "    print(category+' : {:.4f}'.format(recall[i]))\n",
    "print('マクロ平均 : {:.4f}'.format(recall_score(y_true=Y_test, y_pred=Y_test_pred, average='macro', labels=['b', 'e', 't', 'm'])))\n",
    "print('マイクロ平均 : {:.4f}'.format(recall_score(y_true=Y_test, y_pred=Y_test_pred, average='micro', labels=['b', 'e', 't', 'm'])))"
   ]
  },
  {
   "cell_type": "code",
   "execution_count": 27,
   "id": "e6a54d29",
   "metadata": {},
   "outputs": [
    {
     "name": "stdout",
     "output_type": "stream",
     "text": [
      "F1スコア : \n",
      "b : 0.9078\n",
      "e : 0.9165\n",
      "m : 0.7109\n",
      "t : 0.6571\n",
      "マクロ平均 : 0.7981\n",
      "マイクロ平均 : 0.8795\n"
     ]
    }
   ],
   "source": [
    "f1 = f1_score(y_true=Y_test, y_pred=Y_test_pred, average=None, labels=['b', 'e', 't', 'm'])\n",
    "\n",
    "print('F1スコア : ')\n",
    "for i, category in enumerate(labels):\n",
    "    print(category+' : {:.4f}'.format(f1[i]))\n",
    "print('マクロ平均 : {:.4f}'.format(f1_score(y_true=Y_test, y_pred=Y_test_pred, average='macro', labels=['b', 'e', 't', 'm'])))\n",
    "print('マイクロ平均 : {:.4f}'.format(f1_score(y_true=Y_test, y_pred=Y_test_pred, average='micro', labels=['b', 'e', 't', 'm'])))"
   ]
  },
  {
   "cell_type": "code",
   "execution_count": 28,
   "id": "b803053b",
   "metadata": {},
   "outputs": [
    {
     "name": "stdout",
     "output_type": "stream",
     "text": [
      "【カテゴリ】b\n"
     ]
    },
    {
     "data": {
      "text/html": [
       "<div>\n",
       "<style scoped>\n",
       "    .dataframe tbody tr th:only-of-type {\n",
       "        vertical-align: middle;\n",
       "    }\n",
       "\n",
       "    .dataframe tbody tr th {\n",
       "        vertical-align: top;\n",
       "    }\n",
       "\n",
       "    .dataframe thead th {\n",
       "        text-align: right;\n",
       "    }\n",
       "</style>\n",
       "<table border=\"1\" class=\"dataframe\">\n",
       "  <thead>\n",
       "    <tr style=\"text-align: right;\">\n",
       "      <th></th>\n",
       "      <th>1</th>\n",
       "      <th>2</th>\n",
       "      <th>3</th>\n",
       "      <th>4</th>\n",
       "      <th>5</th>\n",
       "      <th>6</th>\n",
       "      <th>7</th>\n",
       "      <th>8</th>\n",
       "      <th>9</th>\n",
       "      <th>10</th>\n",
       "    </tr>\n",
       "  </thead>\n",
       "  <tbody>\n",
       "    <tr>\n",
       "      <th>重要度上位</th>\n",
       "      <td>bank</td>\n",
       "      <td>fed</td>\n",
       "      <td>ecb</td>\n",
       "      <td>stocks</td>\n",
       "      <td>obamacare</td>\n",
       "      <td>oil</td>\n",
       "      <td>ukraine</td>\n",
       "      <td>euro</td>\n",
       "      <td>china</td>\n",
       "      <td>yellen</td>\n",
       "    </tr>\n",
       "    <tr>\n",
       "      <th>重要度下位</th>\n",
       "      <td>video</td>\n",
       "      <td>her</td>\n",
       "      <td>the</td>\n",
       "      <td>ebola</td>\n",
       "      <td>she</td>\n",
       "      <td>could</td>\n",
       "      <td>star</td>\n",
       "      <td>virus</td>\n",
       "      <td>mers</td>\n",
       "      <td>my</td>\n",
       "    </tr>\n",
       "  </tbody>\n",
       "</table>\n",
       "</div>"
      ],
      "text/plain": [
       "          1    2    3       4          5      6        7      8      9   \\\n",
       "重要度上位   bank  fed  ecb  stocks  obamacare    oil  ukraine   euro  china   \n",
       "重要度下位  video  her  the   ebola        she  could     star  virus   mers   \n",
       "\n",
       "           10  \n",
       "重要度上位  yellen  \n",
       "重要度下位      my  "
      ]
     },
     "metadata": {},
     "output_type": "display_data"
    },
    {
     "name": "stdout",
     "output_type": "stream",
     "text": [
      "\n",
      "\n",
      "【カテゴリ】e\n"
     ]
    },
    {
     "data": {
      "text/html": [
       "<div>\n",
       "<style scoped>\n",
       "    .dataframe tbody tr th:only-of-type {\n",
       "        vertical-align: middle;\n",
       "    }\n",
       "\n",
       "    .dataframe tbody tr th {\n",
       "        vertical-align: top;\n",
       "    }\n",
       "\n",
       "    .dataframe thead th {\n",
       "        text-align: right;\n",
       "    }\n",
       "</style>\n",
       "<table border=\"1\" class=\"dataframe\">\n",
       "  <thead>\n",
       "    <tr style=\"text-align: right;\">\n",
       "      <th></th>\n",
       "      <th>1</th>\n",
       "      <th>2</th>\n",
       "      <th>3</th>\n",
       "      <th>4</th>\n",
       "      <th>5</th>\n",
       "      <th>6</th>\n",
       "      <th>7</th>\n",
       "      <th>8</th>\n",
       "      <th>9</th>\n",
       "      <th>10</th>\n",
       "    </tr>\n",
       "  </thead>\n",
       "  <tbody>\n",
       "    <tr>\n",
       "      <th>重要度上位</th>\n",
       "      <td>chris</td>\n",
       "      <td>kardashian</td>\n",
       "      <td>her</td>\n",
       "      <td>movie</td>\n",
       "      <td>she</td>\n",
       "      <td>paul</td>\n",
       "      <td>kim</td>\n",
       "      <td>miley</td>\n",
       "      <td>film</td>\n",
       "      <td>he</td>\n",
       "    </tr>\n",
       "    <tr>\n",
       "      <th>重要度下位</th>\n",
       "      <td>update</td>\n",
       "      <td>us</td>\n",
       "      <td>google</td>\n",
       "      <td>study</td>\n",
       "      <td>ceo</td>\n",
       "      <td>risk</td>\n",
       "      <td>says</td>\n",
       "      <td>data</td>\n",
       "      <td>gm</td>\n",
       "      <td>billion</td>\n",
       "    </tr>\n",
       "  </tbody>\n",
       "</table>\n",
       "</div>"
      ],
      "text/plain": [
       "           1           2       3      4    5     6     7      8     9   \\\n",
       "重要度上位   chris  kardashian     her  movie  she  paul   kim  miley  film   \n",
       "重要度下位  update          us  google  study  ceo  risk  says   data    gm   \n",
       "\n",
       "            10  \n",
       "重要度上位       he  \n",
       "重要度下位  billion  "
      ]
     },
     "metadata": {},
     "output_type": "display_data"
    },
    {
     "name": "stdout",
     "output_type": "stream",
     "text": [
      "\n",
      "\n",
      "【カテゴリ】m\n"
     ]
    },
    {
     "data": {
      "text/html": [
       "<div>\n",
       "<style scoped>\n",
       "    .dataframe tbody tr th:only-of-type {\n",
       "        vertical-align: middle;\n",
       "    }\n",
       "\n",
       "    .dataframe tbody tr th {\n",
       "        vertical-align: top;\n",
       "    }\n",
       "\n",
       "    .dataframe thead th {\n",
       "        text-align: right;\n",
       "    }\n",
       "</style>\n",
       "<table border=\"1\" class=\"dataframe\">\n",
       "  <thead>\n",
       "    <tr style=\"text-align: right;\">\n",
       "      <th></th>\n",
       "      <th>1</th>\n",
       "      <th>2</th>\n",
       "      <th>3</th>\n",
       "      <th>4</th>\n",
       "      <th>5</th>\n",
       "      <th>6</th>\n",
       "      <th>7</th>\n",
       "      <th>8</th>\n",
       "      <th>9</th>\n",
       "      <th>10</th>\n",
       "    </tr>\n",
       "  </thead>\n",
       "  <tbody>\n",
       "    <tr>\n",
       "      <th>重要度上位</th>\n",
       "      <td>ebola</td>\n",
       "      <td>study</td>\n",
       "      <td>cancer</td>\n",
       "      <td>mers</td>\n",
       "      <td>drug</td>\n",
       "      <td>fda</td>\n",
       "      <td>medical</td>\n",
       "      <td>doctors</td>\n",
       "      <td>outbreak</td>\n",
       "      <td>cases</td>\n",
       "    </tr>\n",
       "    <tr>\n",
       "      <th>重要度下位</th>\n",
       "      <td>ceo</td>\n",
       "      <td>facebook</td>\n",
       "      <td>gm</td>\n",
       "      <td>bank</td>\n",
       "      <td>deal</td>\n",
       "      <td>sales</td>\n",
       "      <td>apple</td>\n",
       "      <td>climate</td>\n",
       "      <td>twitter</td>\n",
       "      <td>he</td>\n",
       "    </tr>\n",
       "  </tbody>\n",
       "</table>\n",
       "</div>"
      ],
      "text/plain": [
       "          1         2       3     4     5      6        7        8         9   \\\n",
       "重要度上位  ebola     study  cancer  mers  drug    fda  medical  doctors  outbreak   \n",
       "重要度下位    ceo  facebook      gm  bank  deal  sales    apple  climate   twitter   \n",
       "\n",
       "          10  \n",
       "重要度上位  cases  \n",
       "重要度下位     he  "
      ]
     },
     "metadata": {},
     "output_type": "display_data"
    },
    {
     "name": "stdout",
     "output_type": "stream",
     "text": [
      "\n",
      "\n",
      "【カテゴリ】t\n"
     ]
    },
    {
     "data": {
      "text/html": [
       "<div>\n",
       "<style scoped>\n",
       "    .dataframe tbody tr th:only-of-type {\n",
       "        vertical-align: middle;\n",
       "    }\n",
       "\n",
       "    .dataframe tbody tr th {\n",
       "        vertical-align: top;\n",
       "    }\n",
       "\n",
       "    .dataframe thead th {\n",
       "        text-align: right;\n",
       "    }\n",
       "</style>\n",
       "<table border=\"1\" class=\"dataframe\">\n",
       "  <thead>\n",
       "    <tr style=\"text-align: right;\">\n",
       "      <th></th>\n",
       "      <th>1</th>\n",
       "      <th>2</th>\n",
       "      <th>3</th>\n",
       "      <th>4</th>\n",
       "      <th>5</th>\n",
       "      <th>6</th>\n",
       "      <th>7</th>\n",
       "      <th>8</th>\n",
       "      <th>9</th>\n",
       "      <th>10</th>\n",
       "    </tr>\n",
       "  </thead>\n",
       "  <tbody>\n",
       "    <tr>\n",
       "      <th>重要度上位</th>\n",
       "      <td>google</td>\n",
       "      <td>facebook</td>\n",
       "      <td>apple</td>\n",
       "      <td>climate</td>\n",
       "      <td>microsoft</td>\n",
       "      <td>tmobile</td>\n",
       "      <td>tesla</td>\n",
       "      <td>gm</td>\n",
       "      <td>fcc</td>\n",
       "      <td>googles</td>\n",
       "    </tr>\n",
       "    <tr>\n",
       "      <th>重要度下位</th>\n",
       "      <td>her</td>\n",
       "      <td>drug</td>\n",
       "      <td>stocks</td>\n",
       "      <td>cancer</td>\n",
       "      <td>american</td>\n",
       "      <td>percent</td>\n",
       "      <td>fed</td>\n",
       "      <td>ukraine</td>\n",
       "      <td>at</td>\n",
       "      <td>before</td>\n",
       "    </tr>\n",
       "  </tbody>\n",
       "</table>\n",
       "</div>"
      ],
      "text/plain": [
       "           1         2       3        4          5        6      7        8   \\\n",
       "重要度上位  google  facebook   apple  climate  microsoft  tmobile  tesla       gm   \n",
       "重要度下位     her      drug  stocks   cancer   american  percent    fed  ukraine   \n",
       "\n",
       "        9        10  \n",
       "重要度上位  fcc  googles  \n",
       "重要度下位   at   before  "
      ]
     },
     "metadata": {},
     "output_type": "display_data"
    },
    {
     "name": "stdout",
     "output_type": "stream",
     "text": [
      "\n",
      "\n"
     ]
    }
   ],
   "source": [
    "features = X_train.columns.values\n",
    "index = [i for i in range(1, 11)]\n",
    "for c, coef in zip(lg.classes_, lg.coef_):\n",
    "  print(f'【カテゴリ】{c}')\n",
    "  best10 = pd.DataFrame(features[np.argsort(coef)[::-1][:10]], columns=['重要度上位'], index=index).T\n",
    "  worst10 = pd.DataFrame(features[np.argsort(coef)[:10]], columns=['重要度下位'], index=index).T\n",
    "  display(pd.concat([best10, worst10], axis=0))\n",
    "  print('\\n')"
   ]
  },
  {
   "cell_type": "code",
   "execution_count": 29,
   "id": "3fce3ad5",
   "metadata": {},
   "outputs": [],
   "source": [
    "from tqdm import tqdm"
   ]
  },
  {
   "cell_type": "code",
   "execution_count": 30,
   "id": "66fa63fc",
   "metadata": {},
   "outputs": [
    {
     "name": "stderr",
     "output_type": "stream",
     "text": [
      "100%|██████████| 10/10 [06:53<00:00, 41.36s/it] \n"
     ]
    }
   ],
   "source": [
    "result = []\n",
    "for C in tqdm(np.logspace(-5, 5, 10, base=10)):\n",
    "    lg = LogisticRegression(random_state=123, max_iter=10000, C=C)\n",
    "    lg.fit(X_train, train['CATEGORY'])\n",
    "    \n",
    "    train_pred = score_lg(lg, X_train)\n",
    "    valid_pred = score_lg(lg, X_valid)\n",
    "    test_pred = score_lg(lg, X_test)\n",
    "     \n",
    "    acc_train = accuracy_score(y_true=train['CATEGORY'], y_pred=train_pred[1])\n",
    "    acc_valid = accuracy_score(y_true=valid['CATEGORY'], y_pred=valid_pred[1])\n",
    "    acc_test = accuracy_score(y_true=test['CATEGORY'], y_pred=test_pred[1])\n",
    "    \n",
    "    result.append([C, acc_train, acc_valid, acc_test]) "
   ]
  },
  {
   "cell_type": "code",
   "execution_count": 31,
   "id": "7fbdb96a",
   "metadata": {},
   "outputs": [],
   "source": [
    "import matplotlib.pyplot as plt"
   ]
  },
  {
   "cell_type": "code",
   "execution_count": 32,
   "id": "8ded9a8a",
   "metadata": {},
   "outputs": [
    {
     "data": {
      "image/png": "[encoded data removed]",
      "text/plain": [
       "<Figure size 432x288 with 1 Axes>"
      ]
     },
     "metadata": {
      "needs_background": "light"
     },
     "output_type": "display_data"
    }
   ],
   "source": [
    "result = np.array(result).T\n",
    "plt.plot(result[0], result[1], label='train')\n",
    "plt.plot(result[0], result[2], label='valid')\n",
    "plt.plot(result[0], result[3], label='test')\n",
    "plt.ylim(0, 1.1)\n",
    "plt.ylabel('Accuracy')\n",
    "plt.xscale ('log')\n",
    "plt.xlabel('C')\n",
    "plt.legend()\n",
    "plt.show()"
   ]
  },
  {
   "cell_type": "code",
   "execution_count": 33,
   "id": "b049f14d",
   "metadata": {},
   "outputs": [],
   "source": [
    "import optuna\n",
    "\n",
    "class Objective:\n",
    "    def __init__(self, X, y):\n",
    "        # 変数X,yの初期化\n",
    "        self.X = X\n",
    "        self.y = y\n",
    "\n",
    "    def __call__(self, trial):\n",
    "        # ハイパーパラメータの設定\n",
    "        params = {\n",
    "            # 最適化アルゴリズムを指定\n",
    "            'solver' : trial.suggest_categorical('solver', ['newton-cg', 'lbfgs', 'liblinear', 'sag', 'saga']),\n",
    "            # 正則化の強さを指定（0.0001から10まで）\n",
    "            'C': trial.suggest_loguniform('C', 0.0001, 10),\n",
    "            # 最大反復回数（＊ソルバーが収束するまで）\n",
    "            'max_iter': trial.suggest_int('max_iter', 100, 100000)\n",
    "            }\n",
    "\n",
    "        lg = LogisticRegression(**params)\n",
    "        lg.fit(self.X, self.y)\n",
    "        \n",
    "        valid_pred = score_lg(lg, X_valid)\n",
    "        acc_valid = accuracy_score(y_true=valid['CATEGORY'], y_pred=valid_pred[1])\n",
    "        \n",
    "        return acc_valid"
   ]
  },
  {
   "cell_type": "code",
   "execution_count": 34,
   "id": "a4d9fea0",
   "metadata": {},
   "outputs": [
    {
     "name": "stderr",
     "output_type": "stream",
     "text": [
      "\u001b[32m[I 2022-04-25 14:04:31,123]\u001b[0m A new study created in memory with name: no-name-12ad46cf-ce1a-412b-9ac7-234794b7ecea\u001b[0m\n",
      "\u001b[32m[I 2022-04-25 14:04:36,921]\u001b[0m Trial 0 finished with value: 0.8720059880239521 and parameters: {'solver': 'lbfgs', 'C': 1.4211099307133992, 'max_iter': 81581}. Best is trial 0 with value: 0.8720059880239521.\u001b[0m\n",
      "\u001b[32m[I 2022-04-25 14:04:47,647]\u001b[0m Trial 1 finished with value: 0.8038922155688623 and parameters: {'solver': 'saga', 'C': 0.1573707493764093, 'max_iter': 51384}. Best is trial 0 with value: 0.8720059880239521.\u001b[0m\n",
      "\u001b[32m[I 2022-04-25 14:04:51,113]\u001b[0m Trial 2 finished with value: 0.8263473053892215 and parameters: {'solver': 'newton-cg', 'C': 0.2762680042871743, 'max_iter': 83337}. Best is trial 0 with value: 0.8720059880239521.\u001b[0m\n",
      "\u001b[32m[I 2022-04-25 14:04:57,712]\u001b[0m Trial 3 finished with value: 0.8682634730538922 and parameters: {'solver': 'newton-cg', 'C': 9.273356504195789, 'max_iter': 14515}. Best is trial 0 with value: 0.8720059880239521.\u001b[0m\n",
      "\u001b[32m[I 2022-04-25 14:05:15,022]\u001b[0m Trial 4 finished with value: 0.8735029940119761 and parameters: {'solver': 'saga', 'C': 4.144845350023167, 'max_iter': 81898}. Best is trial 4 with value: 0.8735029940119761.\u001b[0m\n",
      "\u001b[32m[I 2022-04-25 14:05:15,713]\u001b[0m Trial 5 finished with value: 0.5052395209580839 and parameters: {'solver': 'lbfgs', 'C': 0.0010909897215624395, 'max_iter': 66145}. Best is trial 4 with value: 0.8735029940119761.\u001b[0m\n",
      "\u001b[32m[I 2022-04-25 14:05:28,723]\u001b[0m Trial 6 finished with value: 0.46706586826347307 and parameters: {'solver': 'sag', 'C': 0.0008804010931654822, 'max_iter': 59380}. Best is trial 4 with value: 0.8735029940119761.\u001b[0m\n",
      "\u001b[32m[I 2022-04-25 14:05:40,941]\u001b[0m Trial 7 finished with value: 0.4708083832335329 and parameters: {'solver': 'saga', 'C': 0.000894611830892232, 'max_iter': 57346}. Best is trial 4 with value: 0.8735029940119761.\u001b[0m\n",
      "\u001b[32m[I 2022-04-25 14:05:52,558]\u001b[0m Trial 8 finished with value: 0.8727544910179641 and parameters: {'solver': 'saga', 'C': 1.5876307703595416, 'max_iter': 64567}. Best is trial 4 with value: 0.8735029940119761.\u001b[0m\n",
      "\u001b[32m[I 2022-04-25 14:05:56,689]\u001b[0m Trial 9 finished with value: 0.8480538922155688 and parameters: {'solver': 'newton-cg', 'C': 0.4255429151156575, 'max_iter': 92815}. Best is trial 4 with value: 0.8735029940119761.\u001b[0m\n",
      "\u001b[32m[I 2022-04-25 14:05:57,126]\u001b[0m Trial 10 finished with value: 0.7387724550898204 and parameters: {'solver': 'liblinear', 'C': 0.01297305786712813, 'max_iter': 28830}. Best is trial 4 with value: 0.8735029940119761.\u001b[0m\n",
      "\u001b[32m[I 2022-04-25 14:06:14,291]\u001b[0m Trial 11 finished with value: 0.875 and parameters: {'solver': 'saga', 'C': 4.493096786227744, 'max_iter': 98854}. Best is trial 11 with value: 0.875.\u001b[0m\n",
      "\u001b[32m[I 2022-04-25 14:06:40,555]\u001b[0m Trial 12 finished with value: 0.8727544910179641 and parameters: {'solver': 'saga', 'C': 8.154537497177301, 'max_iter': 99599}. Best is trial 11 with value: 0.875.\u001b[0m\n",
      "\u001b[32m[I 2022-04-25 14:06:52,764]\u001b[0m Trial 13 finished with value: 0.750748502994012 and parameters: {'solver': 'saga', 'C': 0.0146335509984915, 'max_iter': 98258}. Best is trial 11 with value: 0.875.\u001b[0m\n",
      "\u001b[32m[I 2022-04-25 14:07:21,134]\u001b[0m Trial 14 finished with value: 0.8682634730538922 and parameters: {'solver': 'saga', 'C': 9.398376716739891, 'max_iter': 74937}. Best is trial 11 with value: 0.875.\u001b[0m\n",
      "\u001b[32m[I 2022-04-25 14:07:21,545]\u001b[0m Trial 15 finished with value: 0.8712574850299402 and parameters: {'solver': 'liblinear', 'C': 1.8883123260978778, 'max_iter': 34607}. Best is trial 11 with value: 0.875.\u001b[0m\n",
      "\u001b[32m[I 2022-04-25 14:07:35,918]\u001b[0m Trial 16 finished with value: 0.7649700598802395 and parameters: {'solver': 'sag', 'C': 0.06010270723070373, 'max_iter': 89789}. Best is trial 11 with value: 0.875.\u001b[0m\n",
      "\u001b[32m[I 2022-04-25 14:07:49,087]\u001b[0m Trial 17 finished with value: 0.875 and parameters: {'solver': 'saga', 'C': 3.102142529095702, 'max_iter': 75621}. Best is trial 11 with value: 0.875.\u001b[0m\n",
      "\u001b[32m[I 2022-04-25 14:08:00,110]\u001b[0m Trial 18 finished with value: 0.8562874251497006 and parameters: {'solver': 'saga', 'C': 0.6570712348599261, 'max_iter': 40621}. Best is trial 11 with value: 0.875.\u001b[0m\n",
      "\u001b[32m[I 2022-04-25 14:08:00,835]\u001b[0m Trial 19 finished with value: 0.6931137724550899 and parameters: {'solver': 'lbfgs', 'C': 0.003771946472048455, 'max_iter': 72441}. Best is trial 11 with value: 0.875.\u001b[0m\n",
      "\u001b[32m[I 2022-04-25 14:08:14,059]\u001b[0m Trial 20 finished with value: 0.7754491017964071 and parameters: {'solver': 'sag', 'C': 0.0856265991421117, 'max_iter': 99812}. Best is trial 11 with value: 0.875.\u001b[0m\n",
      "\u001b[32m[I 2022-04-25 14:08:32,200]\u001b[0m Trial 21 finished with value: 0.874251497005988 and parameters: {'solver': 'saga', 'C': 4.7417947000362055, 'max_iter': 83405}. Best is trial 11 with value: 0.875.\u001b[0m\n",
      "\u001b[32m[I 2022-04-25 14:08:42,929]\u001b[0m Trial 22 finished with value: 0.4214071856287425 and parameters: {'solver': 'saga', 'C': 0.00014477624266929397, 'max_iter': 89309}. Best is trial 11 with value: 0.875.\u001b[0m\n",
      "\u001b[32m[I 2022-04-25 14:09:02,050]\u001b[0m Trial 23 finished with value: 0.874251497005988 and parameters: {'solver': 'saga', 'C': 5.038467300436033, 'max_iter': 74253}. Best is trial 11 with value: 0.875.\u001b[0m\n",
      "\u001b[32m[I 2022-04-25 14:09:15,642]\u001b[0m Trial 24 finished with value: 0.8735029940119761 and parameters: {'solver': 'saga', 'C': 2.766068859794994, 'max_iter': 93341}. Best is trial 11 with value: 0.875.\u001b[0m\n",
      "\u001b[32m[I 2022-04-25 14:09:16,038]\u001b[0m Trial 25 finished with value: 0.8525449101796407 and parameters: {'solver': 'liblinear', 'C': 0.7586960366070197, 'max_iter': 84230}. Best is trial 11 with value: 0.875.\u001b[0m\n",
      "\u001b[32m[I 2022-04-25 14:09:36,251]\u001b[0m Trial 26 finished with value: 0.8735029940119761 and parameters: {'solver': 'saga', 'C': 5.620617114625303, 'max_iter': 70068}. Best is trial 11 with value: 0.875.\u001b[0m\n",
      "\u001b[32m[I 2022-04-25 14:09:47,904]\u001b[0m Trial 27 finished with value: 0.8645209580838323 and parameters: {'solver': 'saga', 'C': 0.8786971739031121, 'max_iter': 48960}. Best is trial 11 with value: 0.875.\u001b[0m\n",
      "\u001b[32m[I 2022-04-25 14:10:00,083]\u001b[0m Trial 28 finished with value: 0.811377245508982 and parameters: {'solver': 'saga', 'C': 0.18147705093995128, 'max_iter': 76454}. Best is trial 11 with value: 0.875.\u001b[0m\n",
      "\u001b[32m[I 2022-04-25 14:10:07,452]\u001b[0m Trial 29 finished with value: 0.874251497005988 and parameters: {'solver': 'lbfgs', 'C': 2.579924847355948, 'max_iter': 60554}. Best is trial 11 with value: 0.875.\u001b[0m\n",
      "\u001b[32m[I 2022-04-25 14:10:13,823]\u001b[0m Trial 30 finished with value: 0.8727544910179641 and parameters: {'solver': 'lbfgs', 'C': 1.7067614496201744, 'max_iter': 51972}. Best is trial 11 with value: 0.875.\u001b[0m\n",
      "\u001b[32m[I 2022-04-25 14:10:30,747]\u001b[0m Trial 31 finished with value: 0.874251497005988 and parameters: {'solver': 'saga', 'C': 4.845505970363284, 'max_iter': 77122}. Best is trial 11 with value: 0.875.\u001b[0m\n",
      "\u001b[32m[I 2022-04-25 14:10:39,142]\u001b[0m Trial 32 finished with value: 0.8735029940119761 and parameters: {'solver': 'lbfgs', 'C': 2.7868437319149497, 'max_iter': 58962}. Best is trial 11 with value: 0.875.\u001b[0m\n",
      "\u001b[32m[I 2022-04-25 14:10:44,936]\u001b[0m Trial 33 finished with value: 0.8697604790419161 and parameters: {'solver': 'lbfgs', 'C': 1.1677582651181106, 'max_iter': 65124}. Best is trial 11 with value: 0.875.\u001b[0m\n",
      "\u001b[32m[I 2022-04-25 14:10:48,687]\u001b[0m Trial 34 finished with value: 0.8405688622754491 and parameters: {'solver': 'lbfgs', 'C': 0.36068130845628443, 'max_iter': 46969}. Best is trial 11 with value: 0.875.\u001b[0m\n",
      "\u001b[32m[I 2022-04-25 14:10:55,646]\u001b[0m Trial 35 finished with value: 0.8682634730538922 and parameters: {'solver': 'newton-cg', 'C': 9.51285785417819, 'max_iter': 78914}. Best is trial 11 with value: 0.875.\u001b[0m\n",
      "\u001b[32m[I 2022-04-25 14:11:04,083]\u001b[0m Trial 36 finished with value: 0.8727544910179641 and parameters: {'solver': 'lbfgs', 'C': 3.565655175245204, 'max_iter': 67199}. Best is trial 11 with value: 0.875.\u001b[0m\n",
      "\u001b[32m[I 2022-04-25 14:11:31,976]\u001b[0m Trial 37 finished with value: 0.8682634730538922 and parameters: {'solver': 'saga', 'C': 9.897866876876089, 'max_iter': 85747}. Best is trial 11 with value: 0.875.\u001b[0m\n",
      "\u001b[32m[I 2022-04-25 14:11:51,825]\u001b[0m Trial 38 finished with value: 0.8720059880239521 and parameters: {'solver': 'saga', 'C': 5.368224621846241, 'max_iter': 5775}. Best is trial 11 with value: 0.875.\u001b[0m\n"
     ]
    },
    {
     "name": "stderr",
     "output_type": "stream",
     "text": [
      "\u001b[32m[I 2022-04-25 14:11:57,004]\u001b[0m Trial 39 finished with value: 0.8720059880239521 and parameters: {'solver': 'newton-cg', 'C': 1.7966116739184714, 'max_iter': 55206}. Best is trial 11 with value: 0.875.\u001b[0m\n",
      "\u001b[32m[I 2022-04-25 14:11:59,979]\u001b[0m Trial 40 finished with value: 0.8241017964071856 and parameters: {'solver': 'lbfgs', 'C': 0.23073579122074866, 'max_iter': 80135}. Best is trial 11 with value: 0.875.\u001b[0m\n",
      "\u001b[32m[I 2022-04-25 14:12:13,825]\u001b[0m Trial 41 finished with value: 0.875 and parameters: {'solver': 'saga', 'C': 3.0083606315933173, 'max_iter': 85574}. Best is trial 11 with value: 0.875.\u001b[0m\n",
      "\u001b[32m[I 2022-04-25 14:12:33,948]\u001b[0m Trial 42 finished with value: 0.8727544910179641 and parameters: {'solver': 'saga', 'C': 6.142464603280651, 'max_iter': 95180}. Best is trial 11 with value: 0.875.\u001b[0m\n",
      "\u001b[32m[I 2022-04-25 14:12:44,955]\u001b[0m Trial 43 finished with value: 0.8517964071856288 and parameters: {'solver': 'saga', 'C': 0.5146014354017912, 'max_iter': 86308}. Best is trial 11 with value: 0.875.\u001b[0m\n",
      "\u001b[32m[I 2022-04-25 14:13:22,245]\u001b[0m Trial 44 finished with value: 0.8735029940119761 and parameters: {'solver': 'sag', 'C': 2.718182405298239, 'max_iter': 61434}. Best is trial 11 with value: 0.875.\u001b[0m\n",
      "\u001b[32m[I 2022-04-25 14:13:34,222]\u001b[0m Trial 45 finished with value: 0.8705089820359282 and parameters: {'solver': 'saga', 'C': 1.1712203725317298, 'max_iter': 71330}. Best is trial 11 with value: 0.875.\u001b[0m\n",
      "\u001b[32m[I 2022-04-25 14:13:51,167]\u001b[0m Trial 46 finished with value: 0.8735029940119761 and parameters: {'solver': 'saga', 'C': 4.196793068191808, 'max_iter': 81998}. Best is trial 11 with value: 0.875.\u001b[0m\n",
      "\u001b[32m[I 2022-04-25 14:14:20,374]\u001b[0m Trial 47 finished with value: 0.8682634730538922 and parameters: {'solver': 'saga', 'C': 9.857811075928014, 'max_iter': 76230}. Best is trial 11 with value: 0.875.\u001b[0m\n",
      "\u001b[32m[I 2022-04-25 14:14:20,815]\u001b[0m Trial 48 finished with value: 0.8720059880239521 and parameters: {'solver': 'liblinear', 'C': 2.240469329773816, 'max_iter': 67843}. Best is trial 11 with value: 0.875.\u001b[0m\n",
      "\u001b[32m[I 2022-04-25 14:14:32,769]\u001b[0m Trial 49 finished with value: 0.8675149700598802 and parameters: {'solver': 'saga', 'C': 1.020890185069476, 'max_iter': 88938}. Best is trial 11 with value: 0.875.\u001b[0m\n",
      "\u001b[32m[I 2022-04-25 14:14:36,616]\u001b[0m Trial 50 finished with value: 0.8353293413173652 and parameters: {'solver': 'newton-cg', 'C': 0.33731578414182806, 'max_iter': 98502}. Best is trial 11 with value: 0.875.\u001b[0m\n",
      "\u001b[32m[I 2022-04-25 14:14:58,668]\u001b[0m Trial 51 finished with value: 0.8720059880239521 and parameters: {'solver': 'saga', 'C': 6.428730697384004, 'max_iter': 81323}. Best is trial 11 with value: 0.875.\u001b[0m\n",
      "\u001b[32m[I 2022-04-25 14:15:12,954]\u001b[0m Trial 52 finished with value: 0.8727544910179641 and parameters: {'solver': 'saga', 'C': 3.3761812589965143, 'max_iter': 73207}. Best is trial 11 with value: 0.875.\u001b[0m\n",
      "\u001b[32m[I 2022-04-25 14:15:24,311]\u001b[0m Trial 53 finished with value: 0.8727544910179641 and parameters: {'solver': 'saga', 'C': 1.5369955231536052, 'max_iter': 77096}. Best is trial 11 with value: 0.875.\u001b[0m\n",
      "\u001b[32m[I 2022-04-25 14:15:51,687]\u001b[0m Trial 54 finished with value: 0.8682634730538922 and parameters: {'solver': 'saga', 'C': 9.78909164340004, 'max_iter': 61851}. Best is trial 11 with value: 0.875.\u001b[0m\n",
      "\u001b[32m[I 2022-04-25 14:16:09,909]\u001b[0m Trial 55 finished with value: 0.875 and parameters: {'solver': 'saga', 'C': 4.268439687645946, 'max_iter': 95626}. Best is trial 11 with value: 0.875.\u001b[0m\n",
      "\u001b[32m[I 2022-04-25 14:16:26,815]\u001b[0m Trial 56 finished with value: 0.8525449101796407 and parameters: {'solver': 'sag', 'C': 0.5335529208866132, 'max_iter': 94892}. Best is trial 11 with value: 0.875.\u001b[0m\n",
      "\u001b[32m[I 2022-04-25 14:16:49,724]\u001b[0m Trial 57 finished with value: 0.8727544910179641 and parameters: {'solver': 'saga', 'C': 6.893607256828796, 'max_iter': 90709}. Best is trial 11 with value: 0.875.\u001b[0m\n",
      "\u001b[32m[I 2022-04-25 14:16:50,142]\u001b[0m Trial 58 finished with value: 0.8720059880239521 and parameters: {'solver': 'liblinear', 'C': 2.2690430371465387, 'max_iter': 95506}. Best is trial 11 with value: 0.875.\u001b[0m\n",
      "\u001b[32m[I 2022-04-25 14:17:00,417]\u001b[0m Trial 59 finished with value: 0.7971556886227545 and parameters: {'solver': 'saga', 'C': 0.12473247815022159, 'max_iter': 87351}. Best is trial 11 with value: 0.875.\u001b[0m\n",
      "\u001b[32m[I 2022-04-25 14:17:09,113]\u001b[0m Trial 60 finished with value: 0.8735029940119761 and parameters: {'solver': 'lbfgs', 'C': 3.773774605795579, 'max_iter': 91950}. Best is trial 11 with value: 0.875.\u001b[0m\n",
      "\u001b[32m[I 2022-04-25 14:17:27,269]\u001b[0m Trial 61 finished with value: 0.874251497005988 and parameters: {'solver': 'saga', 'C': 4.817272982249382, 'max_iter': 73033}. Best is trial 11 with value: 0.875.\u001b[0m\n",
      "\u001b[32m[I 2022-04-25 14:17:43,040]\u001b[0m Trial 62 finished with value: 0.8735029940119761 and parameters: {'solver': 'saga', 'C': 4.058612038620216, 'max_iter': 69536}. Best is trial 11 with value: 0.875.\u001b[0m\n",
      "\u001b[32m[I 2022-04-25 14:17:54,918]\u001b[0m Trial 63 finished with value: 0.8712574850299402 and parameters: {'solver': 'saga', 'C': 1.3830071735703113, 'max_iter': 63272}. Best is trial 11 with value: 0.875.\u001b[0m\n",
      "\u001b[32m[I 2022-04-25 14:18:17,514]\u001b[0m Trial 64 finished with value: 0.8727544910179641 and parameters: {'solver': 'saga', 'C': 7.022471282021679, 'max_iter': 82229}. Best is trial 11 with value: 0.875.\u001b[0m\n",
      "\u001b[32m[I 2022-04-25 14:18:28,284]\u001b[0m Trial 65 finished with value: 0.4214071856287425 and parameters: {'solver': 'saga', 'C': 0.0001433469149067088, 'max_iter': 99771}. Best is trial 11 with value: 0.875.\u001b[0m\n",
      "\u001b[32m[I 2022-04-25 14:18:38,599]\u001b[0m Trial 66 finished with value: 0.7582335329341318 and parameters: {'solver': 'saga', 'C': 0.02103589512978634, 'max_iter': 78380}. Best is trial 11 with value: 0.875.\u001b[0m\n",
      "\u001b[32m[I 2022-04-25 14:18:49,633]\u001b[0m Trial 67 finished with value: 0.8592814371257484 and parameters: {'solver': 'saga', 'C': 0.7238904731758925, 'max_iter': 83990}. Best is trial 11 with value: 0.875.\u001b[0m\n",
      "\u001b[32m[I 2022-04-25 14:18:56,127]\u001b[0m Trial 68 finished with value: 0.874251497005988 and parameters: {'solver': 'lbfgs', 'C': 2.29561889795652, 'max_iter': 97043}. Best is trial 11 with value: 0.875.\u001b[0m\n",
      "\u001b[32m[I 2022-04-25 14:19:02,779]\u001b[0m Trial 69 finished with value: 0.875748502994012 and parameters: {'solver': 'lbfgs', 'C': 2.233472708274803, 'max_iter': 96788}. Best is trial 69 with value: 0.875748502994012.\u001b[0m\n",
      "\u001b[32m[I 2022-04-25 14:19:10,073]\u001b[0m Trial 70 finished with value: 0.875748502994012 and parameters: {'solver': 'lbfgs', 'C': 2.2392719326575046, 'max_iter': 97659}. Best is trial 69 with value: 0.875748502994012.\u001b[0m\n",
      "\u001b[32m[I 2022-04-25 14:19:11,019]\u001b[0m Trial 71 finished with value: 0.7260479041916168 and parameters: {'solver': 'lbfgs', 'C': 0.006001170031248136, 'max_iter': 92603}. Best is trial 69 with value: 0.875748502994012.\u001b[0m\n",
      "\u001b[32m[I 2022-04-25 14:19:17,831]\u001b[0m Trial 72 finished with value: 0.875748502994012 and parameters: {'solver': 'lbfgs', 'C': 2.0624466614878765, 'max_iter': 97081}. Best is trial 69 with value: 0.875748502994012.\u001b[0m\n",
      "\u001b[32m[I 2022-04-25 14:19:24,590]\u001b[0m Trial 73 finished with value: 0.875748502994012 and parameters: {'solver': 'lbfgs', 'C': 2.0993139296755405, 'max_iter': 97291}. Best is trial 69 with value: 0.875748502994012.\u001b[0m\n",
      "\u001b[32m[I 2022-04-25 14:19:30,975]\u001b[0m Trial 74 finished with value: 0.8720059880239521 and parameters: {'solver': 'lbfgs', 'C': 1.5677160150731064, 'max_iter': 99302}. Best is trial 69 with value: 0.875748502994012.\u001b[0m\n",
      "\u001b[32m[I 2022-04-25 14:19:37,355]\u001b[0m Trial 75 finished with value: 0.8690119760479041 and parameters: {'solver': 'lbfgs', 'C': 1.121213494127102, 'max_iter': 96345}. Best is trial 69 with value: 0.875748502994012.\u001b[0m\n",
      "\u001b[32m[I 2022-04-25 14:19:42,337]\u001b[0m Trial 76 finished with value: 0.8645209580838323 and parameters: {'solver': 'lbfgs', 'C': 0.8409835276685237, 'max_iter': 89564}. Best is trial 69 with value: 0.875748502994012.\u001b[0m\n",
      "\u001b[32m[I 2022-04-25 14:19:50,579]\u001b[0m Trial 77 finished with value: 0.875 and parameters: {'solver': 'lbfgs', 'C': 3.1753632607952027, 'max_iter': 24617}. Best is trial 69 with value: 0.875748502994012.\u001b[0m\n",
      "\u001b[32m[I 2022-04-25 14:19:57,844]\u001b[0m Trial 78 finished with value: 0.8727544910179641 and parameters: {'solver': 'lbfgs', 'C': 1.7159906036198145, 'max_iter': 20350}. Best is trial 69 with value: 0.875748502994012.\u001b[0m\n"
     ]
    },
    {
     "name": "stderr",
     "output_type": "stream",
     "text": [
      "\u001b[32m[I 2022-04-25 14:20:06,255]\u001b[0m Trial 79 finished with value: 0.874251497005988 and parameters: {'solver': 'lbfgs', 'C': 3.1939967798338382, 'max_iter': 986}. Best is trial 69 with value: 0.875748502994012.\u001b[0m\n",
      "\u001b[32m[I 2022-04-25 14:20:10,583]\u001b[0m Trial 80 finished with value: 0.8540419161676647 and parameters: {'solver': 'lbfgs', 'C': 0.5908177538968766, 'max_iter': 26509}. Best is trial 69 with value: 0.875748502994012.\u001b[0m\n",
      "\u001b[32m[I 2022-04-25 14:20:11,179]\u001b[0m Trial 81 finished with value: 0.4214071856287425 and parameters: {'solver': 'lbfgs', 'C': 0.0003342024686541596, 'max_iter': 42103}. Best is trial 69 with value: 0.875748502994012.\u001b[0m\n",
      "\u001b[32m[I 2022-04-25 14:20:17,972]\u001b[0m Trial 82 finished with value: 0.874251497005988 and parameters: {'solver': 'lbfgs', 'C': 2.3204157229422457, 'max_iter': 93127}. Best is trial 69 with value: 0.875748502994012.\u001b[0m\n",
      "\u001b[32m[I 2022-04-25 14:20:25,981]\u001b[0m Trial 83 finished with value: 0.8727544910179641 and parameters: {'solver': 'lbfgs', 'C': 3.4026706935605846, 'max_iter': 99967}. Best is trial 69 with value: 0.875748502994012.\u001b[0m\n",
      "\u001b[32m[I 2022-04-25 14:20:32,513]\u001b[0m Trial 84 finished with value: 0.8705089820359282 and parameters: {'solver': 'lbfgs', 'C': 1.3054207807935154, 'max_iter': 13015}. Best is trial 69 with value: 0.875748502994012.\u001b[0m\n",
      "\u001b[32m[I 2022-04-25 14:20:40,094]\u001b[0m Trial 85 finished with value: 0.875748502994012 and parameters: {'solver': 'lbfgs', 'C': 1.9766149101234145, 'max_iter': 87277}. Best is trial 69 with value: 0.875748502994012.\u001b[0m\n",
      "\u001b[32m[I 2022-04-25 14:20:47,251]\u001b[0m Trial 86 finished with value: 0.875748502994012 and parameters: {'solver': 'lbfgs', 'C': 1.9838042690912032, 'max_iter': 88426}. Best is trial 69 with value: 0.875748502994012.\u001b[0m\n",
      "\u001b[32m[I 2022-04-25 14:20:53,906]\u001b[0m Trial 87 finished with value: 0.8727544910179641 and parameters: {'solver': 'lbfgs', 'C': 1.9369286779455712, 'max_iter': 87315}. Best is trial 69 with value: 0.875748502994012.\u001b[0m\n",
      "\u001b[32m[I 2022-04-25 14:20:59,024]\u001b[0m Trial 88 finished with value: 0.8652694610778443 and parameters: {'solver': 'lbfgs', 'C': 0.8611932968143701, 'max_iter': 90961}. Best is trial 69 with value: 0.875748502994012.\u001b[0m\n",
      "\u001b[32m[I 2022-04-25 14:21:09,113]\u001b[0m Trial 89 finished with value: 0.8727544910179641 and parameters: {'solver': 'lbfgs', 'C': 7.3713489248667985, 'max_iter': 94546}. Best is trial 69 with value: 0.875748502994012.\u001b[0m\n",
      "\u001b[32m[I 2022-04-25 14:21:12,343]\u001b[0m Trial 90 finished with value: 0.8465568862275449 and parameters: {'solver': 'lbfgs', 'C': 0.4144361366404624, 'max_iter': 85858}. Best is trial 69 with value: 0.875748502994012.\u001b[0m\n",
      "\u001b[32m[I 2022-04-25 14:21:19,493]\u001b[0m Trial 91 finished with value: 0.8735029940119761 and parameters: {'solver': 'lbfgs', 'C': 2.7581374376267487, 'max_iter': 97719}. Best is trial 69 with value: 0.875748502994012.\u001b[0m\n",
      "\u001b[32m[I 2022-04-25 14:21:25,924]\u001b[0m Trial 92 finished with value: 0.874251497005988 and parameters: {'solver': 'newton-cg', 'C': 5.086055109888703, 'max_iter': 88946}. Best is trial 69 with value: 0.875748502994012.\u001b[0m\n",
      "\u001b[32m[I 2022-04-25 14:21:52,528]\u001b[0m Trial 93 finished with value: 0.875748502994012 and parameters: {'solver': 'sag', 'C': 2.0845014354286127, 'max_iter': 93457}. Best is trial 69 with value: 0.875748502994012.\u001b[0m\n",
      "\u001b[32m[I 2022-04-25 14:22:20,095]\u001b[0m Trial 94 finished with value: 0.8720059880239521 and parameters: {'solver': 'sag', 'C': 1.8149626568107216, 'max_iter': 93457}. Best is trial 69 with value: 0.875748502994012.\u001b[0m\n",
      "\u001b[32m[I 2022-04-25 14:22:41,296]\u001b[0m Trial 95 finished with value: 0.8652694610778443 and parameters: {'solver': 'sag', 'C': 0.9726198270315319, 'max_iter': 97403}. Best is trial 69 with value: 0.875748502994012.\u001b[0m\n",
      "\u001b[32m[I 2022-04-25 14:23:01,810]\u001b[0m Trial 96 finished with value: 0.8705089820359282 and parameters: {'solver': 'sag', 'C': 1.33347853307068, 'max_iter': 32642}. Best is trial 69 with value: 0.875748502994012.\u001b[0m\n",
      "\u001b[32m[I 2022-04-25 14:23:32,326]\u001b[0m Trial 97 finished with value: 0.8735029940119761 and parameters: {'solver': 'sag', 'C': 1.9479682043972208, 'max_iter': 84577}. Best is trial 69 with value: 0.875748502994012.\u001b[0m\n",
      "\u001b[32m[I 2022-04-25 14:23:41,702]\u001b[0m Trial 98 finished with value: 0.875 and parameters: {'solver': 'lbfgs', 'C': 4.270293497530507, 'max_iter': 92131}. Best is trial 69 with value: 0.875748502994012.\u001b[0m\n",
      "\u001b[32m[I 2022-04-25 14:23:50,220]\u001b[0m Trial 99 finished with value: 0.875 and parameters: {'solver': 'lbfgs', 'C': 3.175729581225189, 'max_iter': 99629}. Best is trial 69 with value: 0.875748502994012.\u001b[0m\n",
      "\u001b[32m[I 2022-04-25 14:23:58,067]\u001b[0m Trial 100 finished with value: 0.874251497005988 and parameters: {'solver': 'lbfgs', 'C': 2.5836274800934698, 'max_iter': 95671}. Best is trial 69 with value: 0.875748502994012.\u001b[0m\n",
      "\u001b[32m[I 2022-04-25 14:24:08,658]\u001b[0m Trial 101 finished with value: 0.8727544910179641 and parameters: {'solver': 'lbfgs', 'C': 8.161306677196928, 'max_iter': 87404}. Best is trial 69 with value: 0.875748502994012.\u001b[0m\n",
      "\u001b[32m[I 2022-04-25 14:24:18,279]\u001b[0m Trial 102 finished with value: 0.8735029940119761 and parameters: {'solver': 'lbfgs', 'C': 5.63278318745656, 'max_iter': 91301}. Best is trial 69 with value: 0.875748502994012.\u001b[0m\n",
      "\u001b[32m[I 2022-04-25 14:24:18,759]\u001b[0m Trial 103 finished with value: 0.875748502994012 and parameters: {'solver': 'liblinear', 'C': 3.0464243314806327, 'max_iter': 89191}. Best is trial 69 with value: 0.875748502994012.\u001b[0m\n",
      "\u001b[32m[I 2022-04-25 14:24:19,165]\u001b[0m Trial 104 finished with value: 0.8690119760479041 and parameters: {'solver': 'liblinear', 'C': 1.4327375008689538, 'max_iter': 89397}. Best is trial 69 with value: 0.875748502994012.\u001b[0m\n",
      "\u001b[32m[I 2022-04-25 14:24:19,576]\u001b[0m Trial 105 finished with value: 0.8720059880239521 and parameters: {'solver': 'liblinear', 'C': 2.2642493740280307, 'max_iter': 98799}. Best is trial 69 with value: 0.875748502994012.\u001b[0m\n",
      "\u001b[32m[I 2022-04-25 14:24:19,994]\u001b[0m Trial 106 finished with value: 0.8779940119760479 and parameters: {'solver': 'liblinear', 'C': 3.903226507225634, 'max_iter': 93090}. Best is trial 106 with value: 0.8779940119760479.\u001b[0m\n",
      "\u001b[32m[I 2022-04-25 14:24:20,408]\u001b[0m Trial 107 finished with value: 0.8787425149700598 and parameters: {'solver': 'liblinear', 'C': 3.168492654659479, 'max_iter': 99913}. Best is trial 107 with value: 0.8787425149700598.\u001b[0m\n",
      "\u001b[32m[I 2022-04-25 14:24:20,806]\u001b[0m Trial 108 finished with value: 0.8600299401197605 and parameters: {'solver': 'liblinear', 'C': 1.1281431763092045, 'max_iter': 94155}. Best is trial 107 with value: 0.8787425149700598.\u001b[0m\n",
      "\u001b[32m[I 2022-04-25 14:24:21,213]\u001b[0m Trial 109 finished with value: 0.8712574850299402 and parameters: {'solver': 'liblinear', 'C': 1.988762354595709, 'max_iter': 80352}. Best is trial 107 with value: 0.8787425149700598.\u001b[0m\n",
      "\u001b[32m[I 2022-04-25 14:24:21,610]\u001b[0m Trial 110 finished with value: 0.8502994011976048 and parameters: {'solver': 'liblinear', 'C': 0.6770341604760637, 'max_iter': 88446}. Best is trial 107 with value: 0.8787425149700598.\u001b[0m\n",
      "\u001b[32m[I 2022-04-25 14:24:22,026]\u001b[0m Trial 111 finished with value: 0.8764970059880239 and parameters: {'solver': 'liblinear', 'C': 3.097879218349598, 'max_iter': 85010}. Best is trial 107 with value: 0.8787425149700598.\u001b[0m\n",
      "\u001b[32m[I 2022-04-25 14:24:22,441]\u001b[0m Trial 112 finished with value: 0.8787425149700598 and parameters: {'solver': 'liblinear', 'C': 3.1545097277528673, 'max_iter': 97095}. Best is trial 107 with value: 0.8787425149700598.\u001b[0m\n",
      "\u001b[32m[I 2022-04-25 14:24:22,856]\u001b[0m Trial 113 finished with value: 0.8779940119760479 and parameters: {'solver': 'liblinear', 'C': 3.8439626501665347, 'max_iter': 96653}. Best is trial 107 with value: 0.8787425149700598.\u001b[0m\n",
      "\u001b[32m[I 2022-04-25 14:24:23,271]\u001b[0m Trial 114 finished with value: 0.8779940119760479 and parameters: {'solver': 'liblinear', 'C': 3.880847059015948, 'max_iter': 97105}. Best is trial 107 with value: 0.8787425149700598.\u001b[0m\n",
      "\u001b[32m[I 2022-04-25 14:24:23,689]\u001b[0m Trial 115 finished with value: 0.8779940119760479 and parameters: {'solver': 'liblinear', 'C': 4.058457164078614, 'max_iter': 93696}. Best is trial 107 with value: 0.8787425149700598.\u001b[0m\n",
      "\u001b[32m[I 2022-04-25 14:24:24,116]\u001b[0m Trial 116 finished with value: 0.8787425149700598 and parameters: {'solver': 'liblinear', 'C': 5.589921604433664, 'max_iter': 97083}. Best is trial 107 with value: 0.8787425149700598.\u001b[0m\n"
     ]
    },
    {
     "name": "stderr",
     "output_type": "stream",
     "text": [
      "\u001b[32m[I 2022-04-25 14:24:24,547]\u001b[0m Trial 117 finished with value: 0.8787425149700598 and parameters: {'solver': 'liblinear', 'C': 6.2318069453719, 'max_iter': 93927}. Best is trial 107 with value: 0.8787425149700598.\u001b[0m\n",
      "\u001b[32m[I 2022-04-25 14:24:24,976]\u001b[0m Trial 118 finished with value: 0.8787425149700598 and parameters: {'solver': 'liblinear', 'C': 6.130604159680217, 'max_iter': 91542}. Best is trial 107 with value: 0.8787425149700598.\u001b[0m\n",
      "\u001b[32m[I 2022-04-25 14:24:25,410]\u001b[0m Trial 119 finished with value: 0.8787425149700598 and parameters: {'solver': 'liblinear', 'C': 8.955214123608537, 'max_iter': 91247}. Best is trial 107 with value: 0.8787425149700598.\u001b[0m\n",
      "\u001b[32m[I 2022-04-25 14:24:25,848]\u001b[0m Trial 120 finished with value: 0.8794910179640718 and parameters: {'solver': 'liblinear', 'C': 7.954133709686597, 'max_iter': 93335}. Best is trial 120 with value: 0.8794910179640718.\u001b[0m\n",
      "\u001b[32m[I 2022-04-25 14:24:26,286]\u001b[0m Trial 121 finished with value: 0.8794910179640718 and parameters: {'solver': 'liblinear', 'C': 8.660901955110742, 'max_iter': 91246}. Best is trial 120 with value: 0.8794910179640718.\u001b[0m\n",
      "\u001b[32m[I 2022-04-25 14:24:26,723]\u001b[0m Trial 122 finished with value: 0.8802395209580839 and parameters: {'solver': 'liblinear', 'C': 8.503323232259548, 'max_iter': 91179}. Best is trial 122 with value: 0.8802395209580839.\u001b[0m\n",
      "\u001b[32m[I 2022-04-25 14:24:27,165]\u001b[0m Trial 123 finished with value: 0.8787425149700598 and parameters: {'solver': 'liblinear', 'C': 9.939631230477808, 'max_iter': 91593}. Best is trial 122 with value: 0.8802395209580839.\u001b[0m\n",
      "\u001b[32m[I 2022-04-25 14:24:27,602]\u001b[0m Trial 124 finished with value: 0.8787425149700598 and parameters: {'solver': 'liblinear', 'C': 9.621570031333217, 'max_iter': 91425}. Best is trial 122 with value: 0.8802395209580839.\u001b[0m\n",
      "\u001b[32m[I 2022-04-25 14:24:28,043]\u001b[0m Trial 125 finished with value: 0.8794910179640718 and parameters: {'solver': 'liblinear', 'C': 8.780008653593177, 'max_iter': 90935}. Best is trial 122 with value: 0.8802395209580839.\u001b[0m\n",
      "\u001b[32m[I 2022-04-25 14:24:28,482]\u001b[0m Trial 126 finished with value: 0.8787425149700598 and parameters: {'solver': 'liblinear', 'C': 9.726115183118846, 'max_iter': 90946}. Best is trial 122 with value: 0.8802395209580839.\u001b[0m\n",
      "\u001b[32m[I 2022-04-25 14:24:28,925]\u001b[0m Trial 127 finished with value: 0.8787425149700598 and parameters: {'solver': 'liblinear', 'C': 9.832090246362094, 'max_iter': 91877}. Best is trial 122 with value: 0.8802395209580839.\u001b[0m\n",
      "\u001b[32m[I 2022-04-25 14:24:29,373]\u001b[0m Trial 128 finished with value: 0.8787425149700598 and parameters: {'solver': 'liblinear', 'C': 9.735696126163575, 'max_iter': 91518}. Best is trial 122 with value: 0.8802395209580839.\u001b[0m\n",
      "\u001b[32m[I 2022-04-25 14:24:29,807]\u001b[0m Trial 129 finished with value: 0.8794910179640718 and parameters: {'solver': 'liblinear', 'C': 7.573539241745102, 'max_iter': 83124}. Best is trial 122 with value: 0.8802395209580839.\u001b[0m\n",
      "\u001b[32m[I 2022-04-25 14:24:30,245]\u001b[0m Trial 130 finished with value: 0.8794910179640718 and parameters: {'solver': 'liblinear', 'C': 7.575338278915506, 'max_iter': 83563}. Best is trial 122 with value: 0.8802395209580839.\u001b[0m\n",
      "\u001b[32m[I 2022-04-25 14:24:30,683]\u001b[0m Trial 131 finished with value: 0.8794910179640718 and parameters: {'solver': 'liblinear', 'C': 7.580757931711794, 'max_iter': 83126}. Best is trial 122 with value: 0.8802395209580839.\u001b[0m\n",
      "\u001b[32m[I 2022-04-25 14:24:31,118]\u001b[0m Trial 132 finished with value: 0.8802395209580839 and parameters: {'solver': 'liblinear', 'C': 8.583594692869159, 'max_iter': 84560}. Best is trial 122 with value: 0.8802395209580839.\u001b[0m\n",
      "\u001b[32m[I 2022-04-25 14:24:31,557]\u001b[0m Trial 133 finished with value: 0.8809880239520959 and parameters: {'solver': 'liblinear', 'C': 7.121206744012977, 'max_iter': 81135}. Best is trial 133 with value: 0.8809880239520959.\u001b[0m\n",
      "\u001b[32m[I 2022-04-25 14:24:31,987]\u001b[0m Trial 134 finished with value: 0.8787425149700598 and parameters: {'solver': 'liblinear', 'C': 6.450173166622131, 'max_iter': 83553}. Best is trial 133 with value: 0.8809880239520959.\u001b[0m\n",
      "\u001b[32m[I 2022-04-25 14:24:32,428]\u001b[0m Trial 135 finished with value: 0.8794910179640718 and parameters: {'solver': 'liblinear', 'C': 7.63150217197821, 'max_iter': 81915}. Best is trial 133 with value: 0.8809880239520959.\u001b[0m\n",
      "\u001b[32m[I 2022-04-25 14:24:32,868]\u001b[0m Trial 136 finished with value: 0.8794910179640718 and parameters: {'solver': 'liblinear', 'C': 8.108351626771013, 'max_iter': 75024}. Best is trial 133 with value: 0.8809880239520959.\u001b[0m\n",
      "\u001b[32m[I 2022-04-25 14:24:33,304]\u001b[0m Trial 137 finished with value: 0.8794910179640718 and parameters: {'solver': 'liblinear', 'C': 7.987495431108272, 'max_iter': 79940}. Best is trial 133 with value: 0.8809880239520959.\u001b[0m\n",
      "\u001b[32m[I 2022-04-25 14:24:33,741]\u001b[0m Trial 138 finished with value: 0.8794910179640718 and parameters: {'solver': 'liblinear', 'C': 7.884883361776316, 'max_iter': 78916}. Best is trial 133 with value: 0.8809880239520959.\u001b[0m\n",
      "\u001b[32m[I 2022-04-25 14:24:34,176]\u001b[0m Trial 139 finished with value: 0.8794910179640718 and parameters: {'solver': 'liblinear', 'C': 7.691732290115102, 'max_iter': 77785}. Best is trial 133 with value: 0.8809880239520959.\u001b[0m\n",
      "\u001b[32m[I 2022-04-25 14:24:34,613]\u001b[0m Trial 140 finished with value: 0.8794910179640718 and parameters: {'solver': 'liblinear', 'C': 7.911384019858676, 'max_iter': 78554}. Best is trial 133 with value: 0.8809880239520959.\u001b[0m\n",
      "\u001b[32m[I 2022-04-25 14:24:35,051]\u001b[0m Trial 141 finished with value: 0.8794910179640718 and parameters: {'solver': 'liblinear', 'C': 8.151128114049234, 'max_iter': 77938}. Best is trial 133 with value: 0.8809880239520959.\u001b[0m\n",
      "\u001b[32m[I 2022-04-25 14:24:35,486]\u001b[0m Trial 142 finished with value: 0.8794910179640718 and parameters: {'solver': 'liblinear', 'C': 7.729249438468165, 'max_iter': 75290}. Best is trial 133 with value: 0.8809880239520959.\u001b[0m\n",
      "\u001b[32m[I 2022-04-25 14:24:35,921]\u001b[0m Trial 143 finished with value: 0.8794910179640718 and parameters: {'solver': 'liblinear', 'C': 7.602585644034625, 'max_iter': 74565}. Best is trial 133 with value: 0.8809880239520959.\u001b[0m\n",
      "\u001b[32m[I 2022-04-25 14:24:36,355]\u001b[0m Trial 144 finished with value: 0.8809880239520959 and parameters: {'solver': 'liblinear', 'C': 7.08812501816649, 'max_iter': 81813}. Best is trial 133 with value: 0.8809880239520959.\u001b[0m\n",
      "\u001b[32m[I 2022-04-25 14:24:36,783]\u001b[0m Trial 145 finished with value: 0.8787425149700598 and parameters: {'solver': 'liblinear', 'C': 5.557091400720867, 'max_iter': 78135}. Best is trial 133 with value: 0.8809880239520959.\u001b[0m\n",
      "\u001b[32m[I 2022-04-25 14:24:37,208]\u001b[0m Trial 146 finished with value: 0.8772455089820359 and parameters: {'solver': 'liblinear', 'C': 4.927614393340689, 'max_iter': 80560}. Best is trial 133 with value: 0.8809880239520959.\u001b[0m\n",
      "\u001b[32m[I 2022-04-25 14:24:37,643]\u001b[0m Trial 147 finished with value: 0.8809880239520959 and parameters: {'solver': 'liblinear', 'C': 6.877312546449046, 'max_iter': 82159}. Best is trial 133 with value: 0.8809880239520959.\u001b[0m\n",
      "\u001b[32m[I 2022-04-25 14:24:38,073]\u001b[0m Trial 148 finished with value: 0.8809880239520959 and parameters: {'solver': 'liblinear', 'C': 6.564577442390252, 'max_iter': 82390}. Best is trial 133 with value: 0.8809880239520959.\u001b[0m\n",
      "\u001b[32m[I 2022-04-25 14:24:38,502]\u001b[0m Trial 149 finished with value: 0.8802395209580839 and parameters: {'solver': 'liblinear', 'C': 6.547804283754873, 'max_iter': 82387}. Best is trial 133 with value: 0.8809880239520959.\u001b[0m\n",
      "\u001b[32m[I 2022-04-25 14:24:38,926]\u001b[0m Trial 150 finished with value: 0.8787425149700598 and parameters: {'solver': 'liblinear', 'C': 5.156918593327971, 'max_iter': 82076}. Best is trial 133 with value: 0.8809880239520959.\u001b[0m\n",
      "\u001b[32m[I 2022-04-25 14:24:39,357]\u001b[0m Trial 151 finished with value: 0.8787425149700598 and parameters: {'solver': 'liblinear', 'C': 6.37992458715178, 'max_iter': 82528}. Best is trial 133 with value: 0.8809880239520959.\u001b[0m\n",
      "\u001b[32m[I 2022-04-25 14:24:39,793]\u001b[0m Trial 152 finished with value: 0.8809880239520959 and parameters: {'solver': 'liblinear', 'C': 7.102363881751173, 'max_iter': 80113}. Best is trial 133 with value: 0.8809880239520959.\u001b[0m\n",
      "\u001b[32m[I 2022-04-25 14:24:40,217]\u001b[0m Trial 153 finished with value: 0.8772455089820359 and parameters: {'solver': 'liblinear', 'C': 4.936348404453317, 'max_iter': 80812}. Best is trial 133 with value: 0.8809880239520959.\u001b[0m\n"
     ]
    },
    {
     "name": "stderr",
     "output_type": "stream",
     "text": [
      "\u001b[32m[I 2022-04-25 14:24:40,650]\u001b[0m Trial 154 finished with value: 0.8809880239520959 and parameters: {'solver': 'liblinear', 'C': 6.818240357054431, 'max_iter': 83331}. Best is trial 133 with value: 0.8809880239520959.\u001b[0m\n",
      "\u001b[32m[I 2022-04-25 14:24:41,078]\u001b[0m Trial 155 finished with value: 0.8787425149700598 and parameters: {'solver': 'liblinear', 'C': 6.426691535780205, 'max_iter': 84507}. Best is trial 133 with value: 0.8809880239520959.\u001b[0m\n",
      "\u001b[32m[I 2022-04-25 14:24:41,520]\u001b[0m Trial 156 finished with value: 0.8787425149700598 and parameters: {'solver': 'liblinear', 'C': 9.708014239800276, 'max_iter': 83508}. Best is trial 133 with value: 0.8809880239520959.\u001b[0m\n",
      "\u001b[32m[I 2022-04-25 14:24:41,962]\u001b[0m Trial 157 finished with value: 0.8787425149700598 and parameters: {'solver': 'liblinear', 'C': 9.860614701934532, 'max_iter': 80239}. Best is trial 133 with value: 0.8809880239520959.\u001b[0m\n",
      "\u001b[32m[I 2022-04-25 14:24:42,381]\u001b[0m Trial 158 finished with value: 0.8772455089820359 and parameters: {'solver': 'liblinear', 'C': 4.640066765626679, 'max_iter': 76200}. Best is trial 133 with value: 0.8809880239520959.\u001b[0m\n",
      "\u001b[32m[I 2022-04-25 14:24:42,811]\u001b[0m Trial 159 finished with value: 0.8809880239520959 and parameters: {'solver': 'liblinear', 'C': 6.671368984636713, 'max_iter': 71331}. Best is trial 133 with value: 0.8809880239520959.\u001b[0m\n",
      "\u001b[32m[I 2022-04-25 14:24:43,244]\u001b[0m Trial 160 finished with value: 0.8787425149700598 and parameters: {'solver': 'liblinear', 'C': 5.974397001516004, 'max_iter': 70816}. Best is trial 133 with value: 0.8809880239520959.\u001b[0m\n",
      "\u001b[32m[I 2022-04-25 14:24:43,616]\u001b[0m Trial 161 finished with value: 0.7567365269461078 and parameters: {'solver': 'liblinear', 'C': 0.04836702061205778, 'max_iter': 73172}. Best is trial 133 with value: 0.8809880239520959.\u001b[0m\n",
      "\u001b[32m[I 2022-04-25 14:24:44,049]\u001b[0m Trial 162 finished with value: 0.8794910179640718 and parameters: {'solver': 'liblinear', 'C': 7.362905512044441, 'max_iter': 79227}. Best is trial 133 with value: 0.8809880239520959.\u001b[0m\n",
      "\u001b[32m[I 2022-04-25 14:24:44,483]\u001b[0m Trial 163 finished with value: 0.8809880239520959 and parameters: {'solver': 'liblinear', 'C': 6.765214746360164, 'max_iter': 74899}. Best is trial 133 with value: 0.8809880239520959.\u001b[0m\n",
      "\u001b[32m[I 2022-04-25 14:24:44,903]\u001b[0m Trial 164 finished with value: 0.8772455089820359 and parameters: {'solver': 'liblinear', 'C': 4.8445715708525965, 'max_iter': 78480}. Best is trial 133 with value: 0.8809880239520959.\u001b[0m\n",
      "\u001b[32m[I 2022-04-25 14:24:45,330]\u001b[0m Trial 165 finished with value: 0.8787425149700598 and parameters: {'solver': 'liblinear', 'C': 5.761208854868845, 'max_iter': 81418}. Best is trial 133 with value: 0.8809880239520959.\u001b[0m\n",
      "\u001b[32m[I 2022-04-25 14:24:45,761]\u001b[0m Trial 166 finished with value: 0.8794910179640718 and parameters: {'solver': 'liblinear', 'C': 6.031772220743816, 'max_iter': 75196}. Best is trial 133 with value: 0.8809880239520959.\u001b[0m\n",
      "\u001b[32m[I 2022-04-25 14:24:46,224]\u001b[0m Trial 167 finished with value: 0.8787425149700598 and parameters: {'solver': 'liblinear', 'C': 9.874457485666214, 'max_iter': 74063}. Best is trial 133 with value: 0.8809880239520959.\u001b[0m\n",
      "\u001b[32m[I 2022-04-25 14:24:46,659]\u001b[0m Trial 168 finished with value: 0.8809880239520959 and parameters: {'solver': 'liblinear', 'C': 6.8782559037579345, 'max_iter': 76819}. Best is trial 133 with value: 0.8809880239520959.\u001b[0m\n",
      "\u001b[32m[I 2022-04-25 14:24:47,077]\u001b[0m Trial 169 finished with value: 0.8772455089820359 and parameters: {'solver': 'liblinear', 'C': 4.71548934657017, 'max_iter': 68430}. Best is trial 133 with value: 0.8809880239520959.\u001b[0m\n",
      "\u001b[32m[I 2022-04-25 14:24:47,508]\u001b[0m Trial 170 finished with value: 0.8809880239520959 and parameters: {'solver': 'liblinear', 'C': 6.656552200064961, 'max_iter': 76360}. Best is trial 133 with value: 0.8809880239520959.\u001b[0m\n",
      "\u001b[32m[I 2022-04-25 14:24:47,939]\u001b[0m Trial 171 finished with value: 0.8809880239520959 and parameters: {'solver': 'liblinear', 'C': 6.625320532905847, 'max_iter': 77744}. Best is trial 133 with value: 0.8809880239520959.\u001b[0m\n",
      "\u001b[32m[I 2022-04-25 14:24:48,370]\u001b[0m Trial 172 finished with value: 0.8787425149700598 and parameters: {'solver': 'liblinear', 'C': 6.432443960118312, 'max_iter': 77241}. Best is trial 133 with value: 0.8809880239520959.\u001b[0m\n",
      "\u001b[32m[I 2022-04-25 14:24:48,812]\u001b[0m Trial 173 finished with value: 0.8787425149700598 and parameters: {'solver': 'liblinear', 'C': 9.856562309384412, 'max_iter': 72653}. Best is trial 133 with value: 0.8809880239520959.\u001b[0m\n",
      "\u001b[32m[I 2022-04-25 14:24:49,231]\u001b[0m Trial 174 finished with value: 0.8787425149700598 and parameters: {'solver': 'liblinear', 'C': 4.197087288312529, 'max_iter': 85261}. Best is trial 133 with value: 0.8809880239520959.\u001b[0m\n",
      "\u001b[32m[I 2022-04-25 14:24:55,986]\u001b[0m Trial 175 finished with value: 0.8727544910179641 and parameters: {'solver': 'newton-cg', 'C': 6.700715734088202, 'max_iter': 82169}. Best is trial 133 with value: 0.8809880239520959.\u001b[0m\n",
      "\u001b[32m[I 2022-04-25 14:24:56,478]\u001b[0m Trial 176 finished with value: 0.8779940119760479 and parameters: {'solver': 'liblinear', 'C': 5.061364851519248, 'max_iter': 86798}. Best is trial 133 with value: 0.8809880239520959.\u001b[0m\n",
      "\u001b[32m[I 2022-04-25 14:24:56,921]\u001b[0m Trial 177 finished with value: 0.8787425149700598 and parameters: {'solver': 'liblinear', 'C': 9.931007387774837, 'max_iter': 77429}. Best is trial 133 with value: 0.8809880239520959.\u001b[0m\n",
      "\u001b[32m[I 2022-04-25 14:24:57,279]\u001b[0m Trial 178 finished with value: 0.49476047904191617 and parameters: {'solver': 'liblinear', 'C': 0.001360987252034431, 'max_iter': 75484}. Best is trial 133 with value: 0.8809880239520959.\u001b[0m\n",
      "\u001b[32m[I 2022-04-25 14:24:57,709]\u001b[0m Trial 179 finished with value: 0.8787425149700598 and parameters: {'solver': 'liblinear', 'C': 6.439834713738541, 'max_iter': 79822}. Best is trial 133 with value: 0.8809880239520959.\u001b[0m\n",
      "\u001b[32m[I 2022-04-25 14:24:58,123]\u001b[0m Trial 180 finished with value: 0.8779940119760479 and parameters: {'solver': 'liblinear', 'C': 4.115644544386045, 'max_iter': 71764}. Best is trial 133 with value: 0.8809880239520959.\u001b[0m\n",
      "\u001b[32m[I 2022-04-25 14:24:58,562]\u001b[0m Trial 181 finished with value: 0.8794910179640718 and parameters: {'solver': 'liblinear', 'C': 8.085309447184626, 'max_iter': 78930}. Best is trial 133 with value: 0.8809880239520959.\u001b[0m\n",
      "\u001b[32m[I 2022-04-25 14:24:59,002]\u001b[0m Trial 182 finished with value: 0.8787425149700598 and parameters: {'solver': 'liblinear', 'C': 9.966326694148869, 'max_iter': 76798}. Best is trial 133 with value: 0.8809880239520959.\u001b[0m\n",
      "\u001b[32m[I 2022-04-25 14:24:59,439]\u001b[0m Trial 183 finished with value: 0.8809880239520959 and parameters: {'solver': 'liblinear', 'C': 6.970619866438425, 'max_iter': 85719}. Best is trial 133 with value: 0.8809880239520959.\u001b[0m\n",
      "\u001b[32m[I 2022-04-25 14:24:59,864]\u001b[0m Trial 184 finished with value: 0.8787425149700598 and parameters: {'solver': 'liblinear', 'C': 5.532452178619823, 'max_iter': 85810}. Best is trial 133 with value: 0.8809880239520959.\u001b[0m\n",
      "\u001b[32m[I 2022-04-25 14:25:00,298]\u001b[0m Trial 185 finished with value: 0.8809880239520959 and parameters: {'solver': 'liblinear', 'C': 7.024622795965039, 'max_iter': 79209}. Best is trial 133 with value: 0.8809880239520959.\u001b[0m\n",
      "\u001b[32m[I 2022-04-25 14:25:00,740]\u001b[0m Trial 186 finished with value: 0.8787425149700598 and parameters: {'solver': 'liblinear', 'C': 9.798946154437473, 'max_iter': 81603}. Best is trial 133 with value: 0.8809880239520959.\u001b[0m\n",
      "\u001b[32m[I 2022-04-25 14:25:01,174]\u001b[0m Trial 187 finished with value: 0.8809880239520959 and parameters: {'solver': 'liblinear', 'C': 6.818776327920815, 'max_iter': 74370}. Best is trial 133 with value: 0.8809880239520959.\u001b[0m\n",
      "\u001b[32m[I 2022-04-25 14:25:01,597]\u001b[0m Trial 188 finished with value: 0.8787425149700598 and parameters: {'solver': 'liblinear', 'C': 4.475675354496707, 'max_iter': 80821}. Best is trial 133 with value: 0.8809880239520959.\u001b[0m\n",
      "\u001b[32m[I 2022-04-25 14:25:02,022]\u001b[0m Trial 189 finished with value: 0.8787425149700598 and parameters: {'solver': 'liblinear', 'C': 6.3661976359229655, 'max_iter': 73370}. Best is trial 133 with value: 0.8809880239520959.\u001b[0m\n",
      "\u001b[32m[I 2022-04-25 14:25:02,442]\u001b[0m Trial 190 finished with value: 0.8779940119760479 and parameters: {'solver': 'liblinear', 'C': 5.10055058542872, 'max_iter': 86220}. Best is trial 133 with value: 0.8809880239520959.\u001b[0m\n"
     ]
    },
    {
     "name": "stderr",
     "output_type": "stream",
     "text": [
      "\u001b[32m[I 2022-04-25 14:25:02,872]\u001b[0m Trial 191 finished with value: 0.8809880239520959 and parameters: {'solver': 'liblinear', 'C': 6.584289676029054, 'max_iter': 84115}. Best is trial 133 with value: 0.8809880239520959.\u001b[0m\n",
      "\u001b[32m[I 2022-04-25 14:25:03,305]\u001b[0m Trial 192 finished with value: 0.8809880239520959 and parameters: {'solver': 'liblinear', 'C': 6.84118714872426, 'max_iter': 84457}. Best is trial 133 with value: 0.8809880239520959.\u001b[0m\n",
      "\u001b[32m[I 2022-04-25 14:25:03,723]\u001b[0m Trial 193 finished with value: 0.8779940119760479 and parameters: {'solver': 'liblinear', 'C': 3.906869962118098, 'max_iter': 66196}. Best is trial 133 with value: 0.8809880239520959.\u001b[0m\n",
      "\u001b[32m[I 2022-04-25 14:25:04,182]\u001b[0m Trial 194 finished with value: 0.8787425149700598 and parameters: {'solver': 'liblinear', 'C': 6.3361863557747515, 'max_iter': 84188}. Best is trial 133 with value: 0.8809880239520959.\u001b[0m\n",
      "\u001b[32m[I 2022-04-25 14:25:04,610]\u001b[0m Trial 195 finished with value: 0.8787425149700598 and parameters: {'solver': 'liblinear', 'C': 5.842798304327388, 'max_iter': 69658}. Best is trial 133 with value: 0.8809880239520959.\u001b[0m\n",
      "\u001b[32m[I 2022-04-25 14:25:05,039]\u001b[0m Trial 196 finished with value: 0.8787425149700598 and parameters: {'solver': 'liblinear', 'C': 5.470693549199529, 'max_iter': 76065}. Best is trial 133 with value: 0.8809880239520959.\u001b[0m\n",
      "\u001b[32m[I 2022-04-25 14:25:05,479]\u001b[0m Trial 197 finished with value: 0.8787425149700598 and parameters: {'solver': 'liblinear', 'C': 9.806122643000773, 'max_iter': 80393}. Best is trial 133 with value: 0.8809880239520959.\u001b[0m\n",
      "\u001b[32m[I 2022-04-25 14:25:05,917]\u001b[0m Trial 198 finished with value: 0.8802395209580839 and parameters: {'solver': 'liblinear', 'C': 7.725778574300383, 'max_iter': 84879}. Best is trial 133 with value: 0.8809880239520959.\u001b[0m\n",
      "\u001b[32m[I 2022-04-25 14:25:06,333]\u001b[0m Trial 199 finished with value: 0.8802395209580839 and parameters: {'solver': 'liblinear', 'C': 3.705998014055931, 'max_iter': 87157}. Best is trial 133 with value: 0.8809880239520959.\u001b[0m\n",
      "\u001b[32m[I 2022-04-25 14:25:06,772]\u001b[0m Trial 200 finished with value: 0.8809880239520959 and parameters: {'solver': 'liblinear', 'C': 6.989928801217778, 'max_iter': 84368}. Best is trial 133 with value: 0.8809880239520959.\u001b[0m\n",
      "\u001b[32m[I 2022-04-25 14:25:07,205]\u001b[0m Trial 201 finished with value: 0.8809880239520959 and parameters: {'solver': 'liblinear', 'C': 6.859586826979833, 'max_iter': 85569}. Best is trial 133 with value: 0.8809880239520959.\u001b[0m\n",
      "\u001b[32m[I 2022-04-25 14:25:07,620]\u001b[0m Trial 202 finished with value: 0.8794910179640718 and parameters: {'solver': 'liblinear', 'C': 3.5902386721972674, 'max_iter': 87062}. Best is trial 133 with value: 0.8809880239520959.\u001b[0m\n",
      "\u001b[32m[I 2022-04-25 14:25:08,043]\u001b[0m Trial 203 finished with value: 0.8772455089820359 and parameters: {'solver': 'liblinear', 'C': 4.669662551306669, 'max_iter': 82891}. Best is trial 133 with value: 0.8809880239520959.\u001b[0m\n",
      "\u001b[32m[I 2022-04-25 14:25:08,477]\u001b[0m Trial 204 finished with value: 0.8809880239520959 and parameters: {'solver': 'liblinear', 'C': 6.822493211160159, 'max_iter': 88855}. Best is trial 133 with value: 0.8809880239520959.\u001b[0m\n",
      "\u001b[32m[I 2022-04-25 14:25:08,912]\u001b[0m Trial 205 finished with value: 0.8809880239520959 and parameters: {'solver': 'liblinear', 'C': 6.884839499451288, 'max_iter': 85463}. Best is trial 133 with value: 0.8809880239520959.\u001b[0m\n",
      "\u001b[32m[I 2022-04-25 14:25:09,342]\u001b[0m Trial 206 finished with value: 0.8809880239520959 and parameters: {'solver': 'liblinear', 'C': 6.697887907503316, 'max_iter': 85080}. Best is trial 133 with value: 0.8809880239520959.\u001b[0m\n",
      "\u001b[32m[I 2022-04-25 14:25:09,766]\u001b[0m Trial 207 finished with value: 0.8787425149700598 and parameters: {'solver': 'liblinear', 'C': 5.331933684524492, 'max_iter': 87884}. Best is trial 133 with value: 0.8809880239520959.\u001b[0m\n",
      "\u001b[32m[I 2022-04-25 14:25:10,196]\u001b[0m Trial 208 finished with value: 0.8802395209580839 and parameters: {'solver': 'liblinear', 'C': 6.5408786370924465, 'max_iter': 85155}. Best is trial 133 with value: 0.8809880239520959.\u001b[0m\n",
      "\u001b[32m[I 2022-04-25 14:25:10,637]\u001b[0m Trial 209 finished with value: 0.8787425149700598 and parameters: {'solver': 'liblinear', 'C': 9.935156750420541, 'max_iter': 88394}. Best is trial 133 with value: 0.8809880239520959.\u001b[0m\n",
      "\u001b[32m[I 2022-04-25 14:25:16,420]\u001b[0m Trial 210 finished with value: 0.875 and parameters: {'solver': 'newton-cg', 'C': 4.509687921423949, 'max_iter': 79831}. Best is trial 133 with value: 0.8809880239520959.\u001b[0m\n",
      "\u001b[32m[I 2022-04-25 14:25:16,926]\u001b[0m Trial 211 finished with value: 0.8809880239520959 and parameters: {'solver': 'liblinear', 'C': 6.936102598694458, 'max_iter': 84334}. Best is trial 133 with value: 0.8809880239520959.\u001b[0m\n",
      "\u001b[32m[I 2022-04-25 14:25:17,365]\u001b[0m Trial 212 finished with value: 0.8809880239520959 and parameters: {'solver': 'liblinear', 'C': 6.958959539975361, 'max_iter': 85689}. Best is trial 133 with value: 0.8809880239520959.\u001b[0m\n",
      "\u001b[32m[I 2022-04-25 14:25:17,793]\u001b[0m Trial 213 finished with value: 0.8787425149700598 and parameters: {'solver': 'liblinear', 'C': 5.503418248014142, 'max_iter': 85848}. Best is trial 133 with value: 0.8809880239520959.\u001b[0m\n",
      "\u001b[32m[I 2022-04-25 14:25:18,228]\u001b[0m Trial 214 finished with value: 0.8809880239520959 and parameters: {'solver': 'liblinear', 'C': 6.886922837132596, 'max_iter': 83175}. Best is trial 133 with value: 0.8809880239520959.\u001b[0m\n",
      "\u001b[32m[I 2022-04-25 14:25:18,662]\u001b[0m Trial 215 finished with value: 0.8809880239520959 and parameters: {'solver': 'liblinear', 'C': 7.019532024290242, 'max_iter': 82892}. Best is trial 133 with value: 0.8809880239520959.\u001b[0m\n",
      "\u001b[32m[I 2022-04-25 14:25:19,087]\u001b[0m Trial 216 finished with value: 0.8772455089820359 and parameters: {'solver': 'liblinear', 'C': 4.79652105006544, 'max_iter': 81508}. Best is trial 133 with value: 0.8809880239520959.\u001b[0m\n",
      "\u001b[32m[I 2022-04-25 14:25:19,523]\u001b[0m Trial 217 finished with value: 0.8794910179640718 and parameters: {'solver': 'liblinear', 'C': 8.42453468855229, 'max_iter': 78785}. Best is trial 133 with value: 0.8809880239520959.\u001b[0m\n",
      "\u001b[32m[I 2022-04-25 14:25:19,963]\u001b[0m Trial 218 finished with value: 0.8787425149700598 and parameters: {'solver': 'liblinear', 'C': 9.765059382062823, 'max_iter': 76645}. Best is trial 133 with value: 0.8809880239520959.\u001b[0m\n",
      "\u001b[32m[I 2022-04-25 14:25:20,402]\u001b[0m Trial 219 finished with value: 0.8794910179640718 and parameters: {'solver': 'liblinear', 'C': 7.47171582128382, 'max_iter': 83931}. Best is trial 133 with value: 0.8809880239520959.\u001b[0m\n",
      "\u001b[32m[I 2022-04-25 14:25:20,825]\u001b[0m Trial 220 finished with value: 0.8787425149700598 and parameters: {'solver': 'liblinear', 'C': 5.229038006052534, 'max_iter': 82710}. Best is trial 133 with value: 0.8809880239520959.\u001b[0m\n",
      "\u001b[32m[I 2022-04-25 14:25:21,259]\u001b[0m Trial 221 finished with value: 0.8787425149700598 and parameters: {'solver': 'liblinear', 'C': 6.4416124264076, 'max_iter': 86321}. Best is trial 133 with value: 0.8809880239520959.\u001b[0m\n",
      "\u001b[32m[I 2022-04-25 14:25:21,693]\u001b[0m Trial 222 finished with value: 0.8809880239520959 and parameters: {'solver': 'liblinear', 'C': 7.031447680422022, 'max_iter': 85032}. Best is trial 133 with value: 0.8809880239520959.\u001b[0m\n",
      "\u001b[32m[I 2022-04-25 14:25:22,126]\u001b[0m Trial 223 finished with value: 0.8787425149700598 and parameters: {'solver': 'liblinear', 'C': 5.9045936776053916, 'max_iter': 88010}. Best is trial 133 with value: 0.8809880239520959.\u001b[0m\n",
      "\u001b[32m[I 2022-04-25 14:25:22,568]\u001b[0m Trial 224 finished with value: 0.8787425149700598 and parameters: {'solver': 'liblinear', 'C': 9.953177651820527, 'max_iter': 81036}. Best is trial 133 with value: 0.8809880239520959.\u001b[0m\n",
      "\u001b[32m[I 2022-04-25 14:25:23,008]\u001b[0m Trial 225 finished with value: 0.8794910179640718 and parameters: {'solver': 'liblinear', 'C': 7.918154390009967, 'max_iter': 83258}. Best is trial 133 with value: 0.8809880239520959.\u001b[0m\n",
      "\u001b[32m[I 2022-04-25 14:25:23,450]\u001b[0m Trial 226 finished with value: 0.8787425149700598 and parameters: {'solver': 'liblinear', 'C': 9.899219657108233, 'max_iter': 89358}. Best is trial 133 with value: 0.8809880239520959.\u001b[0m\n",
      "\u001b[32m[I 2022-04-25 14:25:23,869]\u001b[0m Trial 227 finished with value: 0.8787425149700598 and parameters: {'solver': 'liblinear', 'C': 4.320126775314724, 'max_iter': 79687}. Best is trial 133 with value: 0.8809880239520959.\u001b[0m\n"
     ]
    },
    {
     "name": "stderr",
     "output_type": "stream",
     "text": [
      "\u001b[32m[I 2022-04-25 14:25:24,300]\u001b[0m Trial 228 finished with value: 0.8809880239520959 and parameters: {'solver': 'liblinear', 'C': 6.7139663198605914, 'max_iter': 86107}. Best is trial 133 with value: 0.8809880239520959.\u001b[0m\n",
      "\u001b[32m[I 2022-04-25 14:25:24,731]\u001b[0m Trial 229 finished with value: 0.8787425149700598 and parameters: {'solver': 'liblinear', 'C': 5.563974016893727, 'max_iter': 77019}. Best is trial 133 with value: 0.8809880239520959.\u001b[0m\n",
      "\u001b[32m[I 2022-04-25 14:25:25,148]\u001b[0m Trial 230 finished with value: 0.8794910179640718 and parameters: {'solver': 'liblinear', 'C': 3.7510517443961495, 'max_iter': 81315}. Best is trial 133 with value: 0.8809880239520959.\u001b[0m\n",
      "\u001b[32m[I 2022-04-25 14:25:25,585]\u001b[0m Trial 231 finished with value: 0.8809880239520959 and parameters: {'solver': 'liblinear', 'C': 6.8629574343790525, 'max_iter': 85965}. Best is trial 133 with value: 0.8809880239520959.\u001b[0m\n",
      "\u001b[32m[I 2022-04-25 14:25:26,018]\u001b[0m Trial 232 finished with value: 0.8787425149700598 and parameters: {'solver': 'liblinear', 'C': 6.457503429016997, 'max_iter': 86661}. Best is trial 133 with value: 0.8809880239520959.\u001b[0m\n",
      "\u001b[32m[I 2022-04-25 14:25:26,457]\u001b[0m Trial 233 finished with value: 0.8794910179640718 and parameters: {'solver': 'liblinear', 'C': 8.054133031340006, 'max_iter': 84907}. Best is trial 133 with value: 0.8809880239520959.\u001b[0m\n",
      "\u001b[32m[I 2022-04-25 14:25:26,886]\u001b[0m Trial 234 finished with value: 0.8787425149700598 and parameters: {'solver': 'liblinear', 'C': 5.496908567166209, 'max_iter': 89172}. Best is trial 133 with value: 0.8809880239520959.\u001b[0m\n",
      "\u001b[32m[I 2022-04-25 14:25:27,327]\u001b[0m Trial 235 finished with value: 0.8794910179640718 and parameters: {'solver': 'liblinear', 'C': 7.975172313841347, 'max_iter': 82162}. Best is trial 133 with value: 0.8809880239520959.\u001b[0m\n",
      "\u001b[32m[I 2022-04-25 14:25:27,763]\u001b[0m Trial 236 finished with value: 0.8809880239520959 and parameters: {'solver': 'liblinear', 'C': 6.981786951865671, 'max_iter': 84095}. Best is trial 133 with value: 0.8809880239520959.\u001b[0m\n",
      "\u001b[32m[I 2022-04-25 14:25:28,182]\u001b[0m Trial 237 finished with value: 0.8772455089820359 and parameters: {'solver': 'liblinear', 'C': 4.767260815276261, 'max_iter': 83790}. Best is trial 133 with value: 0.8809880239520959.\u001b[0m\n",
      "\u001b[32m[I 2022-04-25 14:25:28,625]\u001b[0m Trial 238 finished with value: 0.8794910179640718 and parameters: {'solver': 'liblinear', 'C': 9.99119302307943, 'max_iter': 85650}. Best is trial 133 with value: 0.8809880239520959.\u001b[0m\n",
      "\u001b[32m[I 2022-04-25 14:25:29,061]\u001b[0m Trial 239 finished with value: 0.8809880239520959 and parameters: {'solver': 'liblinear', 'C': 7.179999451065336, 'max_iter': 84900}. Best is trial 133 with value: 0.8809880239520959.\u001b[0m\n",
      "\u001b[32m[I 2022-04-25 14:25:29,489]\u001b[0m Trial 240 finished with value: 0.8787425149700598 and parameters: {'solver': 'liblinear', 'C': 5.495487975494965, 'max_iter': 74206}. Best is trial 133 with value: 0.8809880239520959.\u001b[0m\n",
      "\u001b[32m[I 2022-04-25 14:25:29,928]\u001b[0m Trial 241 finished with value: 0.8794910179640718 and parameters: {'solver': 'liblinear', 'C': 7.393319124073093, 'max_iter': 83357}. Best is trial 133 with value: 0.8809880239520959.\u001b[0m\n",
      "\u001b[32m[I 2022-04-25 14:25:30,366]\u001b[0m Trial 242 finished with value: 0.8802395209580839 and parameters: {'solver': 'liblinear', 'C': 8.510906091429787, 'max_iter': 55887}. Best is trial 133 with value: 0.8809880239520959.\u001b[0m\n",
      "\u001b[32m[I 2022-04-25 14:25:30,797]\u001b[0m Trial 243 finished with value: 0.8787425149700598 and parameters: {'solver': 'liblinear', 'C': 6.175345213646733, 'max_iter': 88378}. Best is trial 133 with value: 0.8809880239520959.\u001b[0m\n",
      "\u001b[32m[I 2022-04-25 14:25:31,227]\u001b[0m Trial 244 finished with value: 0.8802395209580839 and parameters: {'solver': 'liblinear', 'C': 6.544203436387959, 'max_iter': 79064}. Best is trial 133 with value: 0.8809880239520959.\u001b[0m\n",
      "\u001b[32m[I 2022-04-25 14:25:31,651]\u001b[0m Trial 245 finished with value: 0.8779940119760479 and parameters: {'solver': 'liblinear', 'C': 4.515053867662524, 'max_iter': 83024}. Best is trial 133 with value: 0.8809880239520959.\u001b[0m\n",
      "\u001b[32m[I 2022-04-25 14:25:32,100]\u001b[0m Trial 246 finished with value: 0.8787425149700598 and parameters: {'solver': 'liblinear', 'C': 9.598231507704014, 'max_iter': 82617}. Best is trial 133 with value: 0.8809880239520959.\u001b[0m\n",
      "\u001b[32m[I 2022-04-25 14:25:32,529]\u001b[0m Trial 247 finished with value: 0.8787425149700598 and parameters: {'solver': 'liblinear', 'C': 5.522684155148014, 'max_iter': 80238}. Best is trial 133 with value: 0.8809880239520959.\u001b[0m\n",
      "\u001b[32m[I 2022-04-25 14:25:32,964]\u001b[0m Trial 248 finished with value: 0.8809880239520959 and parameters: {'solver': 'liblinear', 'C': 7.120174146685185, 'max_iter': 77570}. Best is trial 133 with value: 0.8809880239520959.\u001b[0m\n",
      "\u001b[32m[I 2022-04-25 14:25:33,403]\u001b[0m Trial 249 finished with value: 0.8794910179640718 and parameters: {'solver': 'liblinear', 'C': 8.420771816122087, 'max_iter': 77373}. Best is trial 133 with value: 0.8809880239520959.\u001b[0m\n",
      "\u001b[32m[I 2022-04-25 14:25:33,841]\u001b[0m Trial 250 finished with value: 0.8794910179640718 and parameters: {'solver': 'liblinear', 'C': 7.6725129787311825, 'max_iter': 85380}. Best is trial 133 with value: 0.8809880239520959.\u001b[0m\n",
      "\u001b[32m[I 2022-04-25 14:25:34,261]\u001b[0m Trial 251 finished with value: 0.8787425149700598 and parameters: {'solver': 'liblinear', 'C': 4.31105021723609, 'max_iter': 72835}. Best is trial 133 with value: 0.8809880239520959.\u001b[0m\n",
      "\u001b[32m[I 2022-04-25 14:25:34,703]\u001b[0m Trial 252 finished with value: 0.8787425149700598 and parameters: {'solver': 'liblinear', 'C': 9.846889584061884, 'max_iter': 86926}. Best is trial 133 with value: 0.8809880239520959.\u001b[0m\n",
      "\u001b[32m[I 2022-04-25 14:25:35,131]\u001b[0m Trial 253 finished with value: 0.8787425149700598 and parameters: {'solver': 'liblinear', 'C': 5.443649679479219, 'max_iter': 81351}. Best is trial 133 with value: 0.8809880239520959.\u001b[0m\n",
      "\u001b[32m[I 2022-04-25 14:25:35,564]\u001b[0m Trial 254 finished with value: 0.8809880239520959 and parameters: {'solver': 'liblinear', 'C': 6.647969172355855, 'max_iter': 83831}. Best is trial 133 with value: 0.8809880239520959.\u001b[0m\n",
      "\u001b[32m[I 2022-04-25 14:25:41,954]\u001b[0m Trial 255 finished with value: 0.8727544910179641 and parameters: {'solver': 'newton-cg', 'C': 6.086313461015014, 'max_iter': 84152}. Best is trial 133 with value: 0.8809880239520959.\u001b[0m\n",
      "\u001b[32m[I 2022-04-25 14:25:42,458]\u001b[0m Trial 256 finished with value: 0.8787425149700598 and parameters: {'solver': 'liblinear', 'C': 9.731918659480838, 'max_iter': 88032}. Best is trial 133 with value: 0.8809880239520959.\u001b[0m\n",
      "\u001b[32m[I 2022-04-25 14:25:42,895]\u001b[0m Trial 257 finished with value: 0.8794910179640718 and parameters: {'solver': 'liblinear', 'C': 7.315710917922066, 'max_iter': 86041}. Best is trial 133 with value: 0.8809880239520959.\u001b[0m\n",
      "\u001b[32m[I 2022-04-25 14:25:43,317]\u001b[0m Trial 258 finished with value: 0.8772455089820359 and parameters: {'solver': 'liblinear', 'C': 4.709985990660375, 'max_iter': 83184}. Best is trial 133 with value: 0.8809880239520959.\u001b[0m\n",
      "\u001b[32m[I 2022-04-25 14:25:43,756]\u001b[0m Trial 259 finished with value: 0.8794910179640718 and parameters: {'solver': 'liblinear', 'C': 8.195055182839203, 'max_iter': 79450}. Best is trial 133 with value: 0.8809880239520959.\u001b[0m\n",
      "\u001b[32m[I 2022-04-25 14:26:34,705]\u001b[0m Trial 260 finished with value: 0.874251497005988 and parameters: {'solver': 'sag', 'C': 3.7979249242151707, 'max_iter': 87249}. Best is trial 133 with value: 0.8809880239520959.\u001b[0m\n",
      "\u001b[32m[I 2022-04-25 14:26:35,152]\u001b[0m Trial 261 finished with value: 0.8787425149700598 and parameters: {'solver': 'liblinear', 'C': 9.915608768246003, 'max_iter': 75321}. Best is trial 133 with value: 0.8809880239520959.\u001b[0m\n",
      "\u001b[32m[I 2022-04-25 14:26:35,582]\u001b[0m Trial 262 finished with value: 0.8787425149700598 and parameters: {'solver': 'liblinear', 'C': 6.094390582108185, 'max_iter': 86038}. Best is trial 133 with value: 0.8809880239520959.\u001b[0m\n",
      "\u001b[32m[I 2022-04-25 14:26:36,014]\u001b[0m Trial 263 finished with value: 0.8787425149700598 and parameters: {'solver': 'liblinear', 'C': 5.23470932507603, 'max_iter': 88635}. Best is trial 133 with value: 0.8809880239520959.\u001b[0m\n",
      "\u001b[32m[I 2022-04-25 14:26:36,448]\u001b[0m Trial 264 finished with value: 0.8809880239520959 and parameters: {'solver': 'liblinear', 'C': 6.97993023655715, 'max_iter': 85035}. Best is trial 133 with value: 0.8809880239520959.\u001b[0m\n"
     ]
    },
    {
     "name": "stderr",
     "output_type": "stream",
     "text": [
      "\u001b[32m[I 2022-04-25 14:26:36,887]\u001b[0m Trial 265 finished with value: 0.8794910179640718 and parameters: {'solver': 'liblinear', 'C': 8.382645373417873, 'max_iter': 77131}. Best is trial 133 with value: 0.8809880239520959.\u001b[0m\n",
      "\u001b[32m[I 2022-04-25 14:26:37,324]\u001b[0m Trial 266 finished with value: 0.8809880239520959 and parameters: {'solver': 'liblinear', 'C': 6.965518811270562, 'max_iter': 89780}. Best is trial 133 with value: 0.8809880239520959.\u001b[0m\n",
      "\u001b[32m[I 2022-04-25 14:26:37,766]\u001b[0m Trial 267 finished with value: 0.8787425149700598 and parameters: {'solver': 'liblinear', 'C': 9.931612380600216, 'max_iter': 80689}. Best is trial 133 with value: 0.8809880239520959.\u001b[0m\n",
      "\u001b[32m[I 2022-04-25 14:26:38,181]\u001b[0m Trial 268 finished with value: 0.8802395209580839 and parameters: {'solver': 'liblinear', 'C': 3.7192741876227, 'max_iter': 85318}. Best is trial 133 with value: 0.8809880239520959.\u001b[0m\n",
      "\u001b[32m[I 2022-04-25 14:26:38,601]\u001b[0m Trial 269 finished with value: 0.8772455089820359 and parameters: {'solver': 'liblinear', 'C': 4.713481842863639, 'max_iter': 89225}. Best is trial 133 with value: 0.8809880239520959.\u001b[0m\n",
      "\u001b[32m[I 2022-04-25 14:26:39,032]\u001b[0m Trial 270 finished with value: 0.8787425149700598 and parameters: {'solver': 'liblinear', 'C': 6.277952688890346, 'max_iter': 86728}. Best is trial 133 with value: 0.8809880239520959.\u001b[0m\n",
      "\u001b[32m[I 2022-04-25 14:26:39,472]\u001b[0m Trial 271 finished with value: 0.8794910179640718 and parameters: {'solver': 'liblinear', 'C': 8.11973734083389, 'max_iter': 79108}. Best is trial 133 with value: 0.8809880239520959.\u001b[0m\n",
      "\u001b[32m[I 2022-04-25 14:26:39,895]\u001b[0m Trial 272 finished with value: 0.8787425149700598 and parameters: {'solver': 'liblinear', 'C': 5.384637965077005, 'max_iter': 89899}. Best is trial 133 with value: 0.8809880239520959.\u001b[0m\n",
      "\u001b[32m[I 2022-04-25 14:26:40,331]\u001b[0m Trial 273 finished with value: 0.8794910179640718 and parameters: {'solver': 'liblinear', 'C': 7.55963765274113, 'max_iter': 81231}. Best is trial 133 with value: 0.8809880239520959.\u001b[0m\n",
      "\u001b[32m[I 2022-04-25 14:26:40,772]\u001b[0m Trial 274 finished with value: 0.8787425149700598 and parameters: {'solver': 'liblinear', 'C': 9.886732468534769, 'max_iter': 82603}. Best is trial 133 with value: 0.8809880239520959.\u001b[0m\n",
      "\u001b[32m[I 2022-04-25 14:26:41,188]\u001b[0m Trial 275 finished with value: 0.8764970059880239 and parameters: {'solver': 'liblinear', 'C': 3.126337310145314, 'max_iter': 44134}. Best is trial 133 with value: 0.8809880239520959.\u001b[0m\n",
      "\u001b[32m[I 2022-04-25 14:26:41,620]\u001b[0m Trial 276 finished with value: 0.8787425149700598 and parameters: {'solver': 'liblinear', 'C': 6.405412183931976, 'max_iter': 71264}. Best is trial 133 with value: 0.8809880239520959.\u001b[0m\n",
      "\u001b[32m[I 2022-04-25 14:26:42,042]\u001b[0m Trial 277 finished with value: 0.8787425149700598 and parameters: {'solver': 'liblinear', 'C': 4.394773466958308, 'max_iter': 81541}. Best is trial 133 with value: 0.8809880239520959.\u001b[0m\n",
      "\u001b[32m[I 2022-04-25 14:26:42,496]\u001b[0m Trial 278 finished with value: 0.8787425149700598 and parameters: {'solver': 'liblinear', 'C': 9.946308891738328, 'max_iter': 83871}. Best is trial 133 with value: 0.8809880239520959.\u001b[0m\n",
      "\u001b[32m[I 2022-04-25 14:26:42,923]\u001b[0m Trial 279 finished with value: 0.8787425149700598 and parameters: {'solver': 'liblinear', 'C': 5.678512309019863, 'max_iter': 78716}. Best is trial 133 with value: 0.8809880239520959.\u001b[0m\n",
      "\u001b[32m[I 2022-04-25 14:26:43,289]\u001b[0m Trial 280 finished with value: 0.7125748502994012 and parameters: {'solver': 'liblinear', 'C': 0.007788025450156526, 'max_iter': 87028}. Best is trial 133 with value: 0.8809880239520959.\u001b[0m\n",
      "\u001b[32m[I 2022-04-25 14:26:43,729]\u001b[0m Trial 281 finished with value: 0.8794910179640718 and parameters: {'solver': 'liblinear', 'C': 7.960813199284355, 'max_iter': 89631}. Best is trial 133 with value: 0.8809880239520959.\u001b[0m\n",
      "\u001b[32m[I 2022-04-25 14:26:44,155]\u001b[0m Trial 282 finished with value: 0.8772455089820359 and parameters: {'solver': 'liblinear', 'C': 5.013212152436239, 'max_iter': 52264}. Best is trial 133 with value: 0.8809880239520959.\u001b[0m\n",
      "\u001b[32m[I 2022-04-25 14:26:44,586]\u001b[0m Trial 283 finished with value: 0.8809880239520959 and parameters: {'solver': 'liblinear', 'C': 6.724027892494227, 'max_iter': 84664}. Best is trial 133 with value: 0.8809880239520959.\u001b[0m\n",
      "\u001b[32m[I 2022-04-25 14:26:50,350]\u001b[0m Trial 284 finished with value: 0.8735029940119761 and parameters: {'solver': 'newton-cg', 'C': 3.7756861391426146, 'max_iter': 75697}. Best is trial 133 with value: 0.8809880239520959.\u001b[0m\n",
      "\u001b[32m[I 2022-04-25 14:26:50,842]\u001b[0m Trial 285 finished with value: 0.8794910179640718 and parameters: {'solver': 'liblinear', 'C': 9.99260450320895, 'max_iter': 85136}. Best is trial 133 with value: 0.8809880239520959.\u001b[0m\n",
      "\u001b[32m[I 2022-04-25 14:26:51,270]\u001b[0m Trial 286 finished with value: 0.8787425149700598 and parameters: {'solver': 'liblinear', 'C': 5.749875388502511, 'max_iter': 82773}. Best is trial 133 with value: 0.8809880239520959.\u001b[0m\n",
      "\u001b[32m[I 2022-04-25 14:26:51,712]\u001b[0m Trial 287 finished with value: 0.8794910179640718 and parameters: {'solver': 'liblinear', 'C': 8.008828783990843, 'max_iter': 73237}. Best is trial 133 with value: 0.8809880239520959.\u001b[0m\n",
      "\u001b[32m[I 2022-04-25 14:26:52,132]\u001b[0m Trial 288 finished with value: 0.8787425149700598 and parameters: {'solver': 'liblinear', 'C': 4.309165550554147, 'max_iter': 81682}. Best is trial 133 with value: 0.8809880239520959.\u001b[0m\n",
      "\u001b[32m[I 2022-04-25 14:26:52,564]\u001b[0m Trial 289 finished with value: 0.8809880239520959 and parameters: {'solver': 'liblinear', 'C': 6.713612111180411, 'max_iter': 86771}. Best is trial 133 with value: 0.8809880239520959.\u001b[0m\n",
      "\u001b[32m[I 2022-04-25 14:27:07,040]\u001b[0m Trial 290 finished with value: 0.7896706586826348 and parameters: {'solver': 'sag', 'C': 0.11105318820131554, 'max_iter': 77334}. Best is trial 133 with value: 0.8809880239520959.\u001b[0m\n",
      "\u001b[32m[I 2022-04-25 14:27:07,492]\u001b[0m Trial 291 finished with value: 0.8787425149700598 and parameters: {'solver': 'liblinear', 'C': 5.508529980530562, 'max_iter': 88062}. Best is trial 133 with value: 0.8809880239520959.\u001b[0m\n",
      "\u001b[32m[I 2022-04-25 14:27:07,936]\u001b[0m Trial 292 finished with value: 0.8787425149700598 and parameters: {'solver': 'liblinear', 'C': 9.968569696650897, 'max_iter': 83504}. Best is trial 133 with value: 0.8809880239520959.\u001b[0m\n",
      "\u001b[32m[I 2022-04-25 14:27:08,373]\u001b[0m Trial 293 finished with value: 0.8794910179640718 and parameters: {'solver': 'liblinear', 'C': 7.868270905629583, 'max_iter': 84642}. Best is trial 133 with value: 0.8809880239520959.\u001b[0m\n",
      "\u001b[32m[I 2022-04-25 14:27:08,812]\u001b[0m Trial 294 finished with value: 0.8794910179640718 and parameters: {'solver': 'liblinear', 'C': 7.710416805192909, 'max_iter': 85252}. Best is trial 133 with value: 0.8809880239520959.\u001b[0m\n",
      "\u001b[32m[I 2022-04-25 14:27:09,232]\u001b[0m Trial 295 finished with value: 0.8772455089820359 and parameters: {'solver': 'liblinear', 'C': 4.6955437048522, 'max_iter': 81325}. Best is trial 133 with value: 0.8809880239520959.\u001b[0m\n",
      "\u001b[32m[I 2022-04-25 14:27:09,672]\u001b[0m Trial 296 finished with value: 0.8794910179640718 and parameters: {'solver': 'liblinear', 'C': 8.272089946002106, 'max_iter': 86223}. Best is trial 133 with value: 0.8809880239520959.\u001b[0m\n",
      "\u001b[32m[I 2022-04-25 14:27:10,101]\u001b[0m Trial 297 finished with value: 0.8787425149700598 and parameters: {'solver': 'liblinear', 'C': 5.724000736722267, 'max_iter': 80295}. Best is trial 133 with value: 0.8809880239520959.\u001b[0m\n",
      "\u001b[32m[I 2022-04-25 14:27:10,533]\u001b[0m Trial 298 finished with value: 0.8809880239520959 and parameters: {'solver': 'liblinear', 'C': 6.677096120459723, 'max_iter': 74837}. Best is trial 133 with value: 0.8809880239520959.\u001b[0m\n",
      "\u001b[32m[I 2022-04-25 14:27:10,949]\u001b[0m Trial 299 finished with value: 0.8787425149700598 and parameters: {'solver': 'liblinear', 'C': 3.429117743893781, 'max_iter': 70405}. Best is trial 133 with value: 0.8809880239520959.\u001b[0m\n",
      "\u001b[32m[I 2022-04-25 14:27:11,385]\u001b[0m Trial 300 finished with value: 0.8809880239520959 and parameters: {'solver': 'liblinear', 'C': 6.752307489138635, 'max_iter': 90038}. Best is trial 133 with value: 0.8809880239520959.\u001b[0m\n",
      "\u001b[32m[I 2022-04-25 14:27:11,827]\u001b[0m Trial 301 finished with value: 0.8787425149700598 and parameters: {'solver': 'liblinear', 'C': 9.919621884543785, 'max_iter': 88188}. Best is trial 133 with value: 0.8809880239520959.\u001b[0m\n"
     ]
    },
    {
     "name": "stderr",
     "output_type": "stream",
     "text": [
      "\u001b[32m[I 2022-04-25 14:27:12,249]\u001b[0m Trial 302 finished with value: 0.8772455089820359 and parameters: {'solver': 'liblinear', 'C': 4.702040231244371, 'max_iter': 85076}. Best is trial 133 with value: 0.8809880239520959.\u001b[0m\n",
      "\u001b[32m[I 2022-04-25 14:27:12,685]\u001b[0m Trial 303 finished with value: 0.8809880239520959 and parameters: {'solver': 'liblinear', 'C': 6.973187400255937, 'max_iter': 84127}. Best is trial 133 with value: 0.8809880239520959.\u001b[0m\n",
      "\u001b[32m[I 2022-04-25 14:27:13,112]\u001b[0m Trial 304 finished with value: 0.8779940119760479 and parameters: {'solver': 'liblinear', 'C': 5.646242918783308, 'max_iter': 86843}. Best is trial 133 with value: 0.8809880239520959.\u001b[0m\n",
      "\u001b[32m[I 2022-04-25 14:27:13,548]\u001b[0m Trial 305 finished with value: 0.8802395209580839 and parameters: {'solver': 'liblinear', 'C': 8.683689272287651, 'max_iter': 82803}. Best is trial 133 with value: 0.8809880239520959.\u001b[0m\n",
      "\u001b[32m[I 2022-04-25 14:27:13,968]\u001b[0m Trial 306 finished with value: 0.8787425149700598 and parameters: {'solver': 'liblinear', 'C': 4.25988340970538, 'max_iter': 78765}. Best is trial 133 with value: 0.8809880239520959.\u001b[0m\n",
      "\u001b[32m[I 2022-04-25 14:27:14,428]\u001b[0m Trial 307 finished with value: 0.8787425149700598 and parameters: {'solver': 'liblinear', 'C': 9.817187564180973, 'max_iter': 84674}. Best is trial 133 with value: 0.8809880239520959.\u001b[0m\n",
      "\u001b[32m[I 2022-04-25 14:27:14,868]\u001b[0m Trial 308 finished with value: 0.8794910179640718 and parameters: {'solver': 'liblinear', 'C': 8.050558931480332, 'max_iter': 81837}. Best is trial 133 with value: 0.8809880239520959.\u001b[0m\n",
      "\u001b[32m[I 2022-04-25 14:27:15,303]\u001b[0m Trial 309 finished with value: 0.8787425149700598 and parameters: {'solver': 'liblinear', 'C': 6.491764758212764, 'max_iter': 89881}. Best is trial 133 with value: 0.8809880239520959.\u001b[0m\n",
      "\u001b[32m[I 2022-04-25 14:27:15,719]\u001b[0m Trial 310 finished with value: 0.8735029940119761 and parameters: {'solver': 'liblinear', 'C': 2.8704685997445982, 'max_iter': 86841}. Best is trial 133 with value: 0.8809880239520959.\u001b[0m\n",
      "\u001b[32m[I 2022-04-25 14:27:16,107]\u001b[0m Trial 311 finished with value: 0.811377245508982 and parameters: {'solver': 'liblinear', 'C': 0.2538844440388997, 'max_iter': 90747}. Best is trial 133 with value: 0.8809880239520959.\u001b[0m\n",
      "\u001b[32m[I 2022-04-25 14:27:16,538]\u001b[0m Trial 312 finished with value: 0.8787425149700598 and parameters: {'solver': 'liblinear', 'C': 5.456884176006257, 'max_iter': 76041}. Best is trial 133 with value: 0.8809880239520959.\u001b[0m\n",
      "\u001b[32m[I 2022-04-25 14:27:16,980]\u001b[0m Trial 313 finished with value: 0.8809880239520959 and parameters: {'solver': 'liblinear', 'C': 7.106802379501796, 'max_iter': 88658}. Best is trial 133 with value: 0.8809880239520959.\u001b[0m\n",
      "\u001b[32m[I 2022-04-25 14:27:17,423]\u001b[0m Trial 314 finished with value: 0.8794910179640718 and parameters: {'solver': 'liblinear', 'C': 9.989954521871725, 'max_iter': 84124}. Best is trial 133 with value: 0.8809880239520959.\u001b[0m\n",
      "\u001b[32m[I 2022-04-25 14:27:17,862]\u001b[0m Trial 315 finished with value: 0.8794910179640718 and parameters: {'solver': 'liblinear', 'C': 8.336985632216901, 'max_iter': 84390}. Best is trial 133 with value: 0.8809880239520959.\u001b[0m\n",
      "\u001b[32m[I 2022-04-25 14:27:18,288]\u001b[0m Trial 316 finished with value: 0.8772455089820359 and parameters: {'solver': 'liblinear', 'C': 4.889223033432731, 'max_iter': 88726}. Best is trial 133 with value: 0.8809880239520959.\u001b[0m\n",
      "\u001b[32m[I 2022-04-25 14:27:18,723]\u001b[0m Trial 317 finished with value: 0.8787425149700598 and parameters: {'solver': 'liblinear', 'C': 5.956678394408137, 'max_iter': 79244}. Best is trial 133 with value: 0.8809880239520959.\u001b[0m\n",
      "\u001b[32m[I 2022-04-25 14:27:24,456]\u001b[0m Trial 318 finished with value: 0.8735029940119761 and parameters: {'solver': 'newton-cg', 'C': 3.7060483547602994, 'max_iter': 77856}. Best is trial 133 with value: 0.8809880239520959.\u001b[0m\n",
      "\u001b[32m[I 2022-04-25 14:28:31,914]\u001b[0m Trial 319 finished with value: 0.8727544910179641 and parameters: {'solver': 'sag', 'C': 6.613079193221587, 'max_iter': 80587}. Best is trial 133 with value: 0.8809880239520959.\u001b[0m\n",
      "\u001b[32m[I 2022-04-25 14:28:32,359]\u001b[0m Trial 320 finished with value: 0.8794910179640718 and parameters: {'solver': 'liblinear', 'C': 9.99435602692914, 'max_iter': 77891}. Best is trial 133 with value: 0.8809880239520959.\u001b[0m\n",
      "\u001b[32m[I 2022-04-25 14:28:32,800]\u001b[0m Trial 321 finished with value: 0.8794910179640718 and parameters: {'solver': 'liblinear', 'C': 7.468405546619186, 'max_iter': 83485}. Best is trial 133 with value: 0.8809880239520959.\u001b[0m\n",
      "\u001b[32m[I 2022-04-25 14:28:33,225]\u001b[0m Trial 322 finished with value: 0.8779940119760479 and parameters: {'solver': 'liblinear', 'C': 5.098581345632982, 'max_iter': 86443}. Best is trial 133 with value: 0.8809880239520959.\u001b[0m\n",
      "\u001b[32m[I 2022-04-25 14:28:33,660]\u001b[0m Trial 323 finished with value: 0.8809880239520959 and parameters: {'solver': 'liblinear', 'C': 7.092216513693943, 'max_iter': 89405}. Best is trial 133 with value: 0.8809880239520959.\u001b[0m\n",
      "\u001b[32m[I 2022-04-25 14:28:34,080]\u001b[0m Trial 324 finished with value: 0.8787425149700598 and parameters: {'solver': 'liblinear', 'C': 4.211229476963247, 'max_iter': 74997}. Best is trial 133 with value: 0.8809880239520959.\u001b[0m\n",
      "\u001b[32m[I 2022-04-25 14:28:34,512]\u001b[0m Trial 325 finished with value: 0.8787425149700598 and parameters: {'solver': 'liblinear', 'C': 5.69798320443199, 'max_iter': 85712}. Best is trial 133 with value: 0.8809880239520959.\u001b[0m\n",
      "\u001b[32m[I 2022-04-25 14:28:34,873]\u001b[0m Trial 326 finished with value: 0.5673652694610778 and parameters: {'solver': 'liblinear', 'C': 0.00201124158014472, 'max_iter': 85094}. Best is trial 133 with value: 0.8809880239520959.\u001b[0m\n",
      "\u001b[32m[I 2022-04-25 14:28:35,307]\u001b[0m Trial 327 finished with value: 0.8787425149700598 and parameters: {'solver': 'liblinear', 'C': 5.9206622095426775, 'max_iter': 74661}. Best is trial 133 with value: 0.8809880239520959.\u001b[0m\n",
      "\u001b[32m[I 2022-04-25 14:28:35,746]\u001b[0m Trial 328 finished with value: 0.8794910179640718 and parameters: {'solver': 'liblinear', 'C': 8.345423974433807, 'max_iter': 86923}. Best is trial 133 with value: 0.8809880239520959.\u001b[0m\n",
      "\u001b[32m[I 2022-04-25 14:28:36,188]\u001b[0m Trial 329 finished with value: 0.8787425149700598 and parameters: {'solver': 'liblinear', 'C': 9.880418055128093, 'max_iter': 92675}. Best is trial 133 with value: 0.8809880239520959.\u001b[0m\n",
      "\u001b[32m[I 2022-04-25 14:28:36,556]\u001b[0m Trial 330 finished with value: 0.750748502994012 and parameters: {'solver': 'liblinear', 'C': 0.025603018950354633, 'max_iter': 82211}. Best is trial 133 with value: 0.8809880239520959.\u001b[0m\n",
      "\u001b[32m[I 2022-04-25 14:28:36,912]\u001b[0m Trial 331 finished with value: 0.42290419161676646 and parameters: {'solver': 'liblinear', 'C': 0.0004934977367708216, 'max_iter': 74400}. Best is trial 133 with value: 0.8809880239520959.\u001b[0m\n",
      "\u001b[32m[I 2022-04-25 14:28:37,332]\u001b[0m Trial 332 finished with value: 0.8787425149700598 and parameters: {'solver': 'liblinear', 'C': 4.33596002558402, 'max_iter': 80261}. Best is trial 133 with value: 0.8809880239520959.\u001b[0m\n",
      "\u001b[32m[I 2022-04-25 14:28:37,768]\u001b[0m Trial 333 finished with value: 0.8809880239520959 and parameters: {'solver': 'liblinear', 'C': 7.1286523540434645, 'max_iter': 88354}. Best is trial 133 with value: 0.8809880239520959.\u001b[0m\n",
      "\u001b[32m[I 2022-04-25 14:28:38,194]\u001b[0m Trial 334 finished with value: 0.8772455089820359 and parameters: {'solver': 'liblinear', 'C': 5.031136877625417, 'max_iter': 87963}. Best is trial 133 with value: 0.8809880239520959.\u001b[0m\n",
      "\u001b[32m[I 2022-04-25 14:28:38,636]\u001b[0m Trial 335 finished with value: 0.8794910179640718 and parameters: {'solver': 'liblinear', 'C': 8.30540756016565, 'max_iter': 87974}. Best is trial 133 with value: 0.8809880239520959.\u001b[0m\n",
      "\u001b[32m[I 2022-04-25 14:28:39,069]\u001b[0m Trial 336 finished with value: 0.8809880239520959 and parameters: {'solver': 'liblinear', 'C': 6.632593799071454, 'max_iter': 85715}. Best is trial 133 with value: 0.8809880239520959.\u001b[0m\n",
      "\u001b[32m[I 2022-04-25 14:28:39,485]\u001b[0m Trial 337 finished with value: 0.8787425149700598 and parameters: {'solver': 'liblinear', 'C': 3.391869974383944, 'max_iter': 90012}. Best is trial 133 with value: 0.8809880239520959.\u001b[0m\n",
      "\u001b[32m[I 2022-04-25 14:28:39,928]\u001b[0m Trial 338 finished with value: 0.8787425149700598 and parameters: {'solver': 'liblinear', 'C': 9.964574691759713, 'max_iter': 86685}. Best is trial 133 with value: 0.8809880239520959.\u001b[0m\n"
     ]
    },
    {
     "name": "stderr",
     "output_type": "stream",
     "text": [
      "\u001b[32m[I 2022-04-25 14:28:40,366]\u001b[0m Trial 339 finished with value: 0.8802395209580839 and parameters: {'solver': 'liblinear', 'C': 8.65069393815473, 'max_iter': 82782}. Best is trial 133 with value: 0.8809880239520959.\u001b[0m\n",
      "\u001b[32m[I 2022-04-25 14:28:40,799]\u001b[0m Trial 340 finished with value: 0.8787425149700598 and parameters: {'solver': 'liblinear', 'C': 5.410495306978685, 'max_iter': 81799}. Best is trial 133 with value: 0.8809880239520959.\u001b[0m\n",
      "\u001b[32m[I 2022-04-25 14:28:41,230]\u001b[0m Trial 341 finished with value: 0.8787425149700598 and parameters: {'solver': 'liblinear', 'C': 6.314409960176441, 'max_iter': 37833}. Best is trial 133 with value: 0.8809880239520959.\u001b[0m\n",
      "\u001b[32m[I 2022-04-25 14:28:41,690]\u001b[0m Trial 342 finished with value: 0.8802395209580839 and parameters: {'solver': 'liblinear', 'C': 6.53364664615775, 'max_iter': 84218}. Best is trial 133 with value: 0.8809880239520959.\u001b[0m\n",
      "\u001b[32m[I 2022-04-25 14:28:47,691]\u001b[0m Trial 343 finished with value: 0.875 and parameters: {'solver': 'newton-cg', 'C': 4.307316034559126, 'max_iter': 78392}. Best is trial 133 with value: 0.8809880239520959.\u001b[0m\n",
      "\u001b[32m[I 2022-04-25 14:28:48,170]\u001b[0m Trial 344 finished with value: 0.8787425149700598 and parameters: {'solver': 'liblinear', 'C': 5.38959616234579, 'max_iter': 73564}. Best is trial 133 with value: 0.8809880239520959.\u001b[0m\n",
      "\u001b[32m[I 2022-04-25 14:28:48,605]\u001b[0m Trial 345 finished with value: 0.8809880239520959 and parameters: {'solver': 'liblinear', 'C': 7.019229696643476, 'max_iter': 90767}. Best is trial 133 with value: 0.8809880239520959.\u001b[0m\n",
      "\u001b[32m[I 2022-04-25 14:28:49,048]\u001b[0m Trial 346 finished with value: 0.8787425149700598 and parameters: {'solver': 'liblinear', 'C': 9.86934564328894, 'max_iter': 92807}. Best is trial 133 with value: 0.8809880239520959.\u001b[0m\n",
      "\u001b[32m[I 2022-04-25 14:28:49,467]\u001b[0m Trial 347 finished with value: 0.874251497005988 and parameters: {'solver': 'liblinear', 'C': 2.738053467356502, 'max_iter': 90470}. Best is trial 133 with value: 0.8809880239520959.\u001b[0m\n",
      "\u001b[32m[I 2022-04-25 14:28:49,891]\u001b[0m Trial 348 finished with value: 0.8787425149700598 and parameters: {'solver': 'liblinear', 'C': 4.477629613970876, 'max_iter': 72270}. Best is trial 133 with value: 0.8809880239520959.\u001b[0m\n",
      "\u001b[32m[I 2022-04-25 14:30:35,361]\u001b[0m Trial 349 finished with value: 0.8727544910179641 and parameters: {'solver': 'sag', 'C': 8.060853563938728, 'max_iter': 88198}. Best is trial 133 with value: 0.8809880239520959.\u001b[0m\n",
      "\u001b[32m[I 2022-04-25 14:30:35,833]\u001b[0m Trial 350 finished with value: 0.8802395209580839 and parameters: {'solver': 'liblinear', 'C': 7.30585463387446, 'max_iter': 84964}. Best is trial 133 with value: 0.8809880239520959.\u001b[0m\n",
      "\u001b[32m[I 2022-04-25 14:30:36,262]\u001b[0m Trial 351 finished with value: 0.8787425149700598 and parameters: {'solver': 'liblinear', 'C': 5.6649492176450895, 'max_iter': 75774}. Best is trial 133 with value: 0.8809880239520959.\u001b[0m\n",
      "\u001b[32m[I 2022-04-25 14:30:36,702]\u001b[0m Trial 352 finished with value: 0.8794910179640718 and parameters: {'solver': 'liblinear', 'C': 8.019013812494912, 'max_iter': 89524}. Best is trial 133 with value: 0.8809880239520959.\u001b[0m\n",
      "\u001b[32m[I 2022-04-25 14:30:37,140]\u001b[0m Trial 353 finished with value: 0.8787425149700598 and parameters: {'solver': 'liblinear', 'C': 9.670304550796772, 'max_iter': 83082}. Best is trial 133 with value: 0.8809880239520959.\u001b[0m\n",
      "\u001b[32m[I 2022-04-25 14:30:37,558]\u001b[0m Trial 354 finished with value: 0.8794910179640718 and parameters: {'solver': 'liblinear', 'C': 3.572539543390287, 'max_iter': 80980}. Best is trial 133 with value: 0.8809880239520959.\u001b[0m\n",
      "\u001b[32m[I 2022-04-25 14:30:37,992]\u001b[0m Trial 355 finished with value: 0.8809880239520959 and parameters: {'solver': 'liblinear', 'C': 6.697698981250135, 'max_iter': 89631}. Best is trial 133 with value: 0.8809880239520959.\u001b[0m\n",
      "\u001b[32m[I 2022-04-25 14:30:38,429]\u001b[0m Trial 356 finished with value: 0.8809880239520959 and parameters: {'solver': 'liblinear', 'C': 7.117762846650016, 'max_iter': 91896}. Best is trial 133 with value: 0.8809880239520959.\u001b[0m\n",
      "\u001b[32m[I 2022-04-25 14:30:38,851]\u001b[0m Trial 357 finished with value: 0.8772455089820359 and parameters: {'solver': 'liblinear', 'C': 4.931345875927902, 'max_iter': 71491}. Best is trial 133 with value: 0.8809880239520959.\u001b[0m\n",
      "\u001b[32m[I 2022-04-25 14:30:39,293]\u001b[0m Trial 358 finished with value: 0.8787425149700598 and parameters: {'solver': 'liblinear', 'C': 9.844658831387092, 'max_iter': 94533}. Best is trial 133 with value: 0.8809880239520959.\u001b[0m\n",
      "\u001b[32m[I 2022-04-25 14:30:39,723]\u001b[0m Trial 359 finished with value: 0.8787425149700598 and parameters: {'solver': 'liblinear', 'C': 5.822301556919203, 'max_iter': 58831}. Best is trial 133 with value: 0.8809880239520959.\u001b[0m\n",
      "\u001b[32m[I 2022-04-25 14:30:40,166]\u001b[0m Trial 360 finished with value: 0.8787425149700598 and parameters: {'solver': 'liblinear', 'C': 9.805273268373856, 'max_iter': 86253}. Best is trial 133 with value: 0.8809880239520959.\u001b[0m\n",
      "\u001b[32m[I 2022-04-25 14:30:40,586]\u001b[0m Trial 361 finished with value: 0.8787425149700598 and parameters: {'solver': 'liblinear', 'C': 4.170642382973368, 'max_iter': 84135}. Best is trial 133 with value: 0.8809880239520959.\u001b[0m\n",
      "\u001b[32m[I 2022-04-25 14:31:01,629]\u001b[0m Trial 362 finished with value: 0.8735029940119761 and parameters: {'solver': 'saga', 'C': 5.707101972310738, 'max_iter': 80222}. Best is trial 133 with value: 0.8809880239520959.\u001b[0m\n",
      "\u001b[32m[I 2022-04-25 14:31:02,093]\u001b[0m Trial 363 finished with value: 0.8794910179640718 and parameters: {'solver': 'liblinear', 'C': 8.191774291738202, 'max_iter': 68907}. Best is trial 133 with value: 0.8809880239520959.\u001b[0m\n",
      "\u001b[32m[I 2022-04-25 14:31:02,513]\u001b[0m Trial 364 finished with value: 0.8772455089820359 and parameters: {'solver': 'liblinear', 'C': 4.739857567936672, 'max_iter': 82293}. Best is trial 133 with value: 0.8809880239520959.\u001b[0m\n",
      "\u001b[32m[I 2022-04-25 14:31:02,943]\u001b[0m Trial 365 finished with value: 0.8787425149700598 and parameters: {'solver': 'liblinear', 'C': 6.167691440855173, 'max_iter': 88979}. Best is trial 133 with value: 0.8809880239520959.\u001b[0m\n",
      "\u001b[32m[I 2022-04-25 14:31:03,317]\u001b[0m Trial 366 finished with value: 0.7574850299401198 and parameters: {'solver': 'liblinear', 'C': 0.06091778953723237, 'max_iter': 87143}. Best is trial 133 with value: 0.8809880239520959.\u001b[0m\n",
      "\u001b[32m[I 2022-04-25 14:31:03,763]\u001b[0m Trial 367 finished with value: 0.8787425149700598 and parameters: {'solver': 'liblinear', 'C': 9.82159688168098, 'max_iter': 79097}. Best is trial 133 with value: 0.8809880239520959.\u001b[0m\n",
      "\u001b[32m[I 2022-04-25 14:31:04,199]\u001b[0m Trial 368 finished with value: 0.8809880239520959 and parameters: {'solver': 'liblinear', 'C': 6.9423995067879405, 'max_iter': 83221}. Best is trial 133 with value: 0.8809880239520959.\u001b[0m\n",
      "\u001b[32m[I 2022-04-25 14:31:04,637]\u001b[0m Trial 369 finished with value: 0.8794910179640718 and parameters: {'solver': 'liblinear', 'C': 8.0728561861839, 'max_iter': 83343}. Best is trial 133 with value: 0.8809880239520959.\u001b[0m\n",
      "\u001b[32m[I 2022-04-25 14:31:05,080]\u001b[0m Trial 370 finished with value: 0.8787425149700598 and parameters: {'solver': 'liblinear', 'C': 9.946354305730297, 'max_iter': 87285}. Best is trial 133 with value: 0.8809880239520959.\u001b[0m\n",
      "\u001b[32m[I 2022-04-25 14:31:05,499]\u001b[0m Trial 371 finished with value: 0.8787425149700598 and parameters: {'solver': 'liblinear', 'C': 3.3524326144450507, 'max_iter': 80874}. Best is trial 133 with value: 0.8809880239520959.\u001b[0m\n",
      "\u001b[32m[I 2022-04-25 14:31:05,934]\u001b[0m Trial 372 finished with value: 0.8809880239520959 and parameters: {'solver': 'liblinear', 'C': 6.673988417868009, 'max_iter': 81299}. Best is trial 133 with value: 0.8809880239520959.\u001b[0m\n",
      "\u001b[32m[I 2022-04-25 14:31:06,361]\u001b[0m Trial 373 finished with value: 0.8772455089820359 and parameters: {'solver': 'liblinear', 'C': 4.93299070338138, 'max_iter': 81338}. Best is trial 133 with value: 0.8809880239520959.\u001b[0m\n",
      "\u001b[32m[I 2022-04-25 14:31:06,800]\u001b[0m Trial 374 finished with value: 0.8794910179640718 and parameters: {'solver': 'liblinear', 'C': 7.660940236231699, 'max_iter': 91438}. Best is trial 133 with value: 0.8809880239520959.\u001b[0m\n",
      "\u001b[32m[I 2022-04-25 14:31:12,090]\u001b[0m Trial 375 finished with value: 0.874251497005988 and parameters: {'solver': 'newton-cg', 'C': 3.9606876414858356, 'max_iter': 77012}. Best is trial 133 with value: 0.8809880239520959.\u001b[0m\n"
     ]
    },
    {
     "name": "stderr",
     "output_type": "stream",
     "text": [
      "\u001b[32m[I 2022-04-25 14:31:12,575]\u001b[0m Trial 376 finished with value: 0.8787425149700598 and parameters: {'solver': 'liblinear', 'C': 5.15380690269437, 'max_iter': 92531}. Best is trial 133 with value: 0.8809880239520959.\u001b[0m\n",
      "\u001b[32m[I 2022-04-25 14:31:13,018]\u001b[0m Trial 377 finished with value: 0.8794910179640718 and parameters: {'solver': 'liblinear', 'C': 9.991707258713506, 'max_iter': 79574}. Best is trial 133 with value: 0.8809880239520959.\u001b[0m\n",
      "\u001b[32m[I 2022-04-25 14:31:13,456]\u001b[0m Trial 378 finished with value: 0.8794910179640718 and parameters: {'solver': 'liblinear', 'C': 7.798134939532958, 'max_iter': 87606}. Best is trial 133 with value: 0.8809880239520959.\u001b[0m\n",
      "\u001b[32m[I 2022-04-25 14:31:13,892]\u001b[0m Trial 379 finished with value: 0.8809880239520959 and parameters: {'solver': 'liblinear', 'C': 6.9097739375004235, 'max_iter': 86463}. Best is trial 133 with value: 0.8809880239520959.\u001b[0m\n",
      "\u001b[32m[I 2022-04-25 14:32:30,408]\u001b[0m Trial 380 finished with value: 0.8735029940119761 and parameters: {'solver': 'sag', 'C': 5.7766093453411305, 'max_iter': 84197}. Best is trial 133 with value: 0.8809880239520959.\u001b[0m\n",
      "\u001b[32m[I 2022-04-25 14:32:30,850]\u001b[0m Trial 381 finished with value: 0.8809880239520959 and parameters: {'solver': 'liblinear', 'C': 6.627211898160622, 'max_iter': 90810}. Best is trial 133 with value: 0.8809880239520959.\u001b[0m\n",
      "\u001b[32m[I 2022-04-25 14:32:31,290]\u001b[0m Trial 382 finished with value: 0.8794910179640718 and parameters: {'solver': 'liblinear', 'C': 8.316358468368886, 'max_iter': 93974}. Best is trial 133 with value: 0.8809880239520959.\u001b[0m\n",
      "\u001b[32m[I 2022-04-25 14:32:31,715]\u001b[0m Trial 383 finished with value: 0.8779940119760479 and parameters: {'solver': 'liblinear', 'C': 4.508012899480855, 'max_iter': 76947}. Best is trial 133 with value: 0.8809880239520959.\u001b[0m\n",
      "\u001b[32m[I 2022-04-25 14:32:32,157]\u001b[0m Trial 384 finished with value: 0.8794910179640718 and parameters: {'solver': 'liblinear', 'C': 9.987455124374238, 'max_iter': 82841}. Best is trial 133 with value: 0.8809880239520959.\u001b[0m\n",
      "\u001b[32m[I 2022-04-25 14:32:32,581]\u001b[0m Trial 385 finished with value: 0.8772455089820359 and parameters: {'solver': 'liblinear', 'C': 4.880777676369283, 'max_iter': 77662}. Best is trial 133 with value: 0.8809880239520959.\u001b[0m\n",
      "\u001b[32m[I 2022-04-25 14:32:33,015]\u001b[0m Trial 386 finished with value: 0.8787425149700598 and parameters: {'solver': 'liblinear', 'C': 5.922938572765978, 'max_iter': 91003}. Best is trial 133 with value: 0.8809880239520959.\u001b[0m\n",
      "\u001b[32m[I 2022-04-25 14:32:33,447]\u001b[0m Trial 387 finished with value: 0.8787425149700598 and parameters: {'solver': 'liblinear', 'C': 6.412262508011884, 'max_iter': 89033}. Best is trial 133 with value: 0.8809880239520959.\u001b[0m\n",
      "\u001b[32m[I 2022-04-25 14:32:33,885]\u001b[0m Trial 388 finished with value: 0.8794910179640718 and parameters: {'solver': 'liblinear', 'C': 7.653854874939179, 'max_iter': 89894}. Best is trial 133 with value: 0.8809880239520959.\u001b[0m\n",
      "\u001b[32m[I 2022-04-25 14:32:34,303]\u001b[0m Trial 389 finished with value: 0.8802395209580839 and parameters: {'solver': 'liblinear', 'C': 3.649728870360971, 'max_iter': 87047}. Best is trial 133 with value: 0.8809880239520959.\u001b[0m\n",
      "\u001b[32m[I 2022-04-25 14:32:34,744]\u001b[0m Trial 390 finished with value: 0.8794910179640718 and parameters: {'solver': 'liblinear', 'C': 8.091991945427626, 'max_iter': 88591}. Best is trial 133 with value: 0.8809880239520959.\u001b[0m\n",
      "\u001b[32m[I 2022-04-25 14:32:35,184]\u001b[0m Trial 391 finished with value: 0.8794910179640718 and parameters: {'solver': 'liblinear', 'C': 8.281163592054792, 'max_iter': 76264}. Best is trial 133 with value: 0.8809880239520959.\u001b[0m\n",
      "\u001b[32m[I 2022-04-25 14:32:54,907]\u001b[0m Trial 392 finished with value: 0.8735029940119761 and parameters: {'solver': 'saga', 'C': 5.826781625466125, 'max_iter': 86390}. Best is trial 133 with value: 0.8809880239520959.\u001b[0m\n",
      "\u001b[32m[I 2022-04-25 14:32:55,358]\u001b[0m Trial 393 finished with value: 0.8794910179640718 and parameters: {'solver': 'liblinear', 'C': 9.989430670937233, 'max_iter': 88355}. Best is trial 133 with value: 0.8809880239520959.\u001b[0m\n",
      "\u001b[32m[I 2022-04-25 14:32:55,801]\u001b[0m Trial 394 finished with value: 0.8794910179640718 and parameters: {'solver': 'liblinear', 'C': 9.999577884935041, 'max_iter': 85738}. Best is trial 133 with value: 0.8809880239520959.\u001b[0m\n",
      "\u001b[32m[I 2022-04-25 14:32:56,240]\u001b[0m Trial 395 finished with value: 0.8809880239520959 and parameters: {'solver': 'liblinear', 'C': 6.777795646200232, 'max_iter': 91266}. Best is trial 133 with value: 0.8809880239520959.\u001b[0m\n",
      "\u001b[32m[I 2022-04-25 14:32:56,624]\u001b[0m Trial 396 finished with value: 0.7964071856287425 and parameters: {'solver': 'liblinear', 'C': 0.1842579533698902, 'max_iter': 93807}. Best is trial 133 with value: 0.8809880239520959.\u001b[0m\n",
      "\u001b[32m[I 2022-04-25 14:32:57,043]\u001b[0m Trial 397 finished with value: 0.874251497005988 and parameters: {'solver': 'liblinear', 'C': 2.685092250170289, 'max_iter': 78781}. Best is trial 133 with value: 0.8809880239520959.\u001b[0m\n",
      "\u001b[32m[I 2022-04-25 14:32:57,463]\u001b[0m Trial 398 finished with value: 0.8787425149700598 and parameters: {'solver': 'liblinear', 'C': 4.141795195565467, 'max_iter': 90864}. Best is trial 133 with value: 0.8809880239520959.\u001b[0m\n",
      "\u001b[32m[I 2022-04-25 14:32:57,893]\u001b[0m Trial 399 finished with value: 0.8787425149700598 and parameters: {'solver': 'liblinear', 'C': 5.408579821452517, 'max_iter': 94739}. Best is trial 133 with value: 0.8809880239520959.\u001b[0m\n",
      "\u001b[32m[I 2022-04-25 14:32:58,341]\u001b[0m Trial 400 finished with value: 0.8809880239520959 and parameters: {'solver': 'liblinear', 'C': 7.130694930054076, 'max_iter': 92553}. Best is trial 133 with value: 0.8809880239520959.\u001b[0m\n",
      "\u001b[32m[I 2022-04-25 14:32:58,767]\u001b[0m Trial 401 finished with value: 0.8779940119760479 and parameters: {'solver': 'liblinear', 'C': 5.148310053199183, 'max_iter': 79627}. Best is trial 133 with value: 0.8809880239520959.\u001b[0m\n",
      "\u001b[32m[I 2022-04-25 14:32:59,209]\u001b[0m Trial 402 finished with value: 0.8787425149700598 and parameters: {'solver': 'liblinear', 'C': 9.828381125684249, 'max_iter': 75798}. Best is trial 133 with value: 0.8809880239520959.\u001b[0m\n",
      "\u001b[32m[I 2022-04-25 14:32:59,568]\u001b[0m Trial 403 finished with value: 0.4214071856287425 and parameters: {'solver': 'liblinear', 'C': 0.00011323289766507681, 'max_iter': 92265}. Best is trial 133 with value: 0.8809880239520959.\u001b[0m\n",
      "\u001b[32m[I 2022-04-25 14:32:59,989]\u001b[0m Trial 404 finished with value: 0.8787425149700598 and parameters: {'solver': 'liblinear', 'C': 4.220121626326642, 'max_iter': 72936}. Best is trial 133 with value: 0.8809880239520959.\u001b[0m\n",
      "\u001b[32m[I 2022-04-25 14:33:00,420]\u001b[0m Trial 405 finished with value: 0.8787425149700598 and parameters: {'solver': 'liblinear', 'C': 6.4674964157172266, 'max_iter': 74432}. Best is trial 133 with value: 0.8809880239520959.\u001b[0m\n",
      "\u001b[32m[I 2022-04-25 14:33:00,857]\u001b[0m Trial 406 finished with value: 0.8794910179640718 and parameters: {'solver': 'liblinear', 'C': 7.672365006806134, 'max_iter': 70846}. Best is trial 133 with value: 0.8809880239520959.\u001b[0m\n",
      "\u001b[32m[I 2022-04-25 14:33:01,287]\u001b[0m Trial 407 finished with value: 0.8787425149700598 and parameters: {'solver': 'liblinear', 'C': 5.553923884319997, 'max_iter': 89816}. Best is trial 133 with value: 0.8809880239520959.\u001b[0m\n",
      "\u001b[32m[I 2022-04-25 14:33:07,688]\u001b[0m Trial 408 finished with value: 0.8727544910179641 and parameters: {'solver': 'newton-cg', 'C': 7.982195725626622, 'max_iter': 85448}. Best is trial 133 with value: 0.8809880239520959.\u001b[0m\n",
      "\u001b[32m[I 2022-04-25 14:33:08,189]\u001b[0m Trial 409 finished with value: 0.8787425149700598 and parameters: {'solver': 'liblinear', 'C': 6.209606930702716, 'max_iter': 82876}. Best is trial 133 with value: 0.8809880239520959.\u001b[0m\n",
      "\u001b[32m[I 2022-04-25 14:33:08,633]\u001b[0m Trial 410 finished with value: 0.8787425149700598 and parameters: {'solver': 'liblinear', 'C': 9.92681021090115, 'max_iter': 91735}. Best is trial 133 with value: 0.8809880239520959.\u001b[0m\n",
      "\u001b[32m[I 2022-04-25 14:34:37,701]\u001b[0m Trial 411 finished with value: 0.8712574850299402 and parameters: {'solver': 'sag', 'C': 8.498299355989989, 'max_iter': 84700}. Best is trial 133 with value: 0.8809880239520959.\u001b[0m\n",
      "\u001b[32m[I 2022-04-25 14:34:38,137]\u001b[0m Trial 412 finished with value: 0.8787425149700598 and parameters: {'solver': 'liblinear', 'C': 3.3660085283109167, 'max_iter': 80305}. Best is trial 133 with value: 0.8809880239520959.\u001b[0m\n"
     ]
    },
    {
     "name": "stderr",
     "output_type": "stream",
     "text": [
      "\u001b[32m[I 2022-04-25 14:34:38,560]\u001b[0m Trial 413 finished with value: 0.8772455089820359 and parameters: {'solver': 'liblinear', 'C': 4.71921674742122, 'max_iter': 64171}. Best is trial 133 with value: 0.8809880239520959.\u001b[0m\n",
      "\u001b[32m[I 2022-04-25 14:34:38,993]\u001b[0m Trial 414 finished with value: 0.8787425149700598 and parameters: {'solver': 'liblinear', 'C': 6.278157195544666, 'max_iter': 89348}. Best is trial 133 with value: 0.8809880239520959.\u001b[0m\n",
      "\u001b[32m[I 2022-04-25 14:34:39,416]\u001b[0m Trial 415 finished with value: 0.8772455089820359 and parameters: {'solver': 'liblinear', 'C': 4.926921373636161, 'max_iter': 94365}. Best is trial 133 with value: 0.8809880239520959.\u001b[0m\n",
      "\u001b[32m[I 2022-04-25 14:34:39,835]\u001b[0m Trial 416 finished with value: 0.8802395209580839 and parameters: {'solver': 'liblinear', 'C': 3.718657331308575, 'max_iter': 75669}. Best is trial 133 with value: 0.8809880239520959.\u001b[0m\n",
      "\u001b[32m[I 2022-04-25 14:34:40,275]\u001b[0m Trial 417 finished with value: 0.8794910179640718 and parameters: {'solver': 'liblinear', 'C': 8.237219027717318, 'max_iter': 84015}. Best is trial 133 with value: 0.8809880239520959.\u001b[0m\n",
      "\u001b[32m[I 2022-04-25 14:34:40,710]\u001b[0m Trial 418 finished with value: 0.8787425149700598 and parameters: {'solver': 'liblinear', 'C': 5.85529335933374, 'max_iter': 73370}. Best is trial 133 with value: 0.8809880239520959.\u001b[0m\n",
      "\u001b[32m[I 2022-04-25 14:34:41,154]\u001b[0m Trial 419 finished with value: 0.8787425149700598 and parameters: {'solver': 'liblinear', 'C': 9.950550060273697, 'max_iter': 90004}. Best is trial 133 with value: 0.8809880239520959.\u001b[0m\n",
      "\u001b[32m[I 2022-04-25 14:34:41,592]\u001b[0m Trial 420 finished with value: 0.8809880239520959 and parameters: {'solver': 'liblinear', 'C': 6.989257581808725, 'max_iter': 76876}. Best is trial 133 with value: 0.8809880239520959.\u001b[0m\n",
      "\u001b[32m[I 2022-04-25 14:34:42,029]\u001b[0m Trial 421 finished with value: 0.8794910179640718 and parameters: {'solver': 'liblinear', 'C': 7.362001364420087, 'max_iter': 87311}. Best is trial 133 with value: 0.8809880239520959.\u001b[0m\n",
      "\u001b[32m[I 2022-04-25 14:34:42,471]\u001b[0m Trial 422 finished with value: 0.8794910179640718 and parameters: {'solver': 'liblinear', 'C': 7.442583269479486, 'max_iter': 87918}. Best is trial 133 with value: 0.8809880239520959.\u001b[0m\n",
      "\u001b[32m[I 2022-04-25 14:35:00,926]\u001b[0m Trial 423 finished with value: 0.875 and parameters: {'solver': 'saga', 'C': 4.309375801039398, 'max_iter': 68531}. Best is trial 133 with value: 0.8809880239520959.\u001b[0m\n",
      "\u001b[32m[I 2022-04-25 14:35:01,357]\u001b[0m Trial 424 finished with value: 0.8787425149700598 and parameters: {'solver': 'liblinear', 'C': 5.613061137053127, 'max_iter': 85966}. Best is trial 133 with value: 0.8809880239520959.\u001b[0m\n",
      "\u001b[32m[I 2022-04-25 14:35:01,800]\u001b[0m Trial 425 finished with value: 0.8787425149700598 and parameters: {'solver': 'liblinear', 'C': 9.878516809535533, 'max_iter': 89775}. Best is trial 133 with value: 0.8809880239520959.\u001b[0m\n",
      "\u001b[32m[I 2022-04-25 14:35:02,233]\u001b[0m Trial 426 finished with value: 0.8787425149700598 and parameters: {'solver': 'liblinear', 'C': 6.2950258715085825, 'max_iter': 81625}. Best is trial 133 with value: 0.8809880239520959.\u001b[0m\n",
      "\u001b[32m[I 2022-04-25 14:35:02,674]\u001b[0m Trial 427 finished with value: 0.8794910179640718 and parameters: {'solver': 'liblinear', 'C': 8.20470721331773, 'max_iter': 79555}. Best is trial 133 with value: 0.8809880239520959.\u001b[0m\n",
      "\u001b[32m[I 2022-04-25 14:35:03,040]\u001b[0m Trial 428 finished with value: 0.7335329341317365 and parameters: {'solver': 'liblinear', 'C': 0.012025410274245071, 'max_iter': 88752}. Best is trial 133 with value: 0.8809880239520959.\u001b[0m\n",
      "\u001b[32m[I 2022-04-25 14:35:03,462]\u001b[0m Trial 429 finished with value: 0.8772455089820359 and parameters: {'solver': 'liblinear', 'C': 4.966828499360138, 'max_iter': 78416}. Best is trial 133 with value: 0.8809880239520959.\u001b[0m\n",
      "\u001b[32m[I 2022-04-25 14:35:03,895]\u001b[0m Trial 430 finished with value: 0.8787425149700598 and parameters: {'solver': 'liblinear', 'C': 6.43090501882341, 'max_iter': 81989}. Best is trial 133 with value: 0.8809880239520959.\u001b[0m\n",
      "\u001b[32m[I 2022-04-25 14:35:04,339]\u001b[0m Trial 431 finished with value: 0.8787425149700598 and parameters: {'solver': 'liblinear', 'C': 9.88772515795062, 'max_iter': 89956}. Best is trial 133 with value: 0.8809880239520959.\u001b[0m\n",
      "\u001b[32m[I 2022-04-25 14:35:04,778]\u001b[0m Trial 432 finished with value: 0.8794910179640718 and parameters: {'solver': 'liblinear', 'C': 8.19931516346521, 'max_iter': 14063}. Best is trial 133 with value: 0.8809880239520959.\u001b[0m\n",
      "\u001b[32m[I 2022-04-25 14:35:05,204]\u001b[0m Trial 433 finished with value: 0.8772455089820359 and parameters: {'solver': 'liblinear', 'C': 4.932690264623286, 'max_iter': 88090}. Best is trial 133 with value: 0.8809880239520959.\u001b[0m\n",
      "\u001b[32m[I 2022-04-25 14:35:05,623]\u001b[0m Trial 434 finished with value: 0.8779940119760479 and parameters: {'solver': 'liblinear', 'C': 3.228973116195667, 'max_iter': 92199}. Best is trial 133 with value: 0.8809880239520959.\u001b[0m\n",
      "\u001b[32m[I 2022-04-25 14:35:06,044]\u001b[0m Trial 435 finished with value: 0.8779940119760479 and parameters: {'solver': 'liblinear', 'C': 4.111770430192085, 'max_iter': 72186}. Best is trial 133 with value: 0.8809880239520959.\u001b[0m\n",
      "\u001b[32m[I 2022-04-25 14:35:06,476]\u001b[0m Trial 436 finished with value: 0.8787425149700598 and parameters: {'solver': 'liblinear', 'C': 5.840758211341032, 'max_iter': 49048}. Best is trial 133 with value: 0.8809880239520959.\u001b[0m\n",
      "\u001b[32m[I 2022-04-25 14:35:12,902]\u001b[0m Trial 437 finished with value: 0.8727544910179641 and parameters: {'solver': 'newton-cg', 'C': 6.89438662329032, 'max_iter': 94803}. Best is trial 133 with value: 0.8809880239520959.\u001b[0m\n",
      "\u001b[32m[I 2022-04-25 14:35:13,406]\u001b[0m Trial 438 finished with value: 0.8809880239520959 and parameters: {'solver': 'liblinear', 'C': 6.642686739266993, 'max_iter': 83081}. Best is trial 133 with value: 0.8809880239520959.\u001b[0m\n",
      "\u001b[32m[I 2022-04-25 14:35:13,849]\u001b[0m Trial 439 finished with value: 0.8787425149700598 and parameters: {'solver': 'liblinear', 'C': 9.965015871675323, 'max_iter': 84348}. Best is trial 133 with value: 0.8809880239520959.\u001b[0m\n",
      "\u001b[32m[I 2022-04-25 14:35:14,290]\u001b[0m Trial 440 finished with value: 0.8809880239520959 and parameters: {'solver': 'liblinear', 'C': 7.176641384298311, 'max_iter': 96105}. Best is trial 133 with value: 0.8809880239520959.\u001b[0m\n",
      "\u001b[32m[I 2022-04-25 14:35:14,733]\u001b[0m Trial 441 finished with value: 0.8787425149700598 and parameters: {'solver': 'liblinear', 'C': 9.887623584159071, 'max_iter': 97225}. Best is trial 133 with value: 0.8809880239520959.\u001b[0m\n",
      "\u001b[32m[I 2022-04-25 14:35:15,173]\u001b[0m Trial 442 finished with value: 0.8794910179640718 and parameters: {'solver': 'liblinear', 'C': 8.076861422566376, 'max_iter': 99143}. Best is trial 133 with value: 0.8809880239520959.\u001b[0m\n",
      "\u001b[32m[I 2022-04-25 14:35:15,601]\u001b[0m Trial 443 finished with value: 0.8772455089820359 and parameters: {'solver': 'liblinear', 'C': 5.020184195800118, 'max_iter': 81206}. Best is trial 133 with value: 0.8809880239520959.\u001b[0m\n",
      "\u001b[32m[I 2022-04-25 14:37:15,944]\u001b[0m Trial 444 finished with value: 0.8727544910179641 and parameters: {'solver': 'sag', 'C': 8.06572941346491, 'max_iter': 86350}. Best is trial 133 with value: 0.8809880239520959.\u001b[0m\n",
      "\u001b[32m[I 2022-04-25 14:37:16,400]\u001b[0m Trial 445 finished with value: 0.8787425149700598 and parameters: {'solver': 'liblinear', 'C': 5.373512453016934, 'max_iter': 82402}. Best is trial 133 with value: 0.8809880239520959.\u001b[0m\n",
      "\u001b[32m[I 2022-04-25 14:37:16,833]\u001b[0m Trial 446 finished with value: 0.8802395209580839 and parameters: {'solver': 'liblinear', 'C': 6.520961232994317, 'max_iter': 92130}. Best is trial 133 with value: 0.8809880239520959.\u001b[0m\n",
      "\u001b[32m[I 2022-04-25 14:37:17,254]\u001b[0m Trial 447 finished with value: 0.8779940119760479 and parameters: {'solver': 'liblinear', 'C': 4.115530270033178, 'max_iter': 7657}. Best is trial 133 with value: 0.8809880239520959.\u001b[0m\n",
      "\u001b[32m[I 2022-04-25 14:37:17,692]\u001b[0m Trial 448 finished with value: 0.8809880239520959 and parameters: {'solver': 'liblinear', 'C': 6.914259658862055, 'max_iter': 86005}. Best is trial 133 with value: 0.8809880239520959.\u001b[0m\n",
      "\u001b[32m[I 2022-04-25 14:37:18,111]\u001b[0m Trial 449 finished with value: 0.8764970059880239 and parameters: {'solver': 'liblinear', 'C': 3.0913945928709285, 'max_iter': 93116}. Best is trial 133 with value: 0.8809880239520959.\u001b[0m\n"
     ]
    },
    {
     "name": "stderr",
     "output_type": "stream",
     "text": [
      "\u001b[32m[I 2022-04-25 14:37:18,557]\u001b[0m Trial 450 finished with value: 0.8787425149700598 and parameters: {'solver': 'liblinear', 'C': 9.931615091205407, 'max_iter': 83183}. Best is trial 133 with value: 0.8809880239520959.\u001b[0m\n",
      "\u001b[32m[I 2022-04-25 14:37:18,984]\u001b[0m Trial 451 finished with value: 0.8772455089820359 and parameters: {'solver': 'liblinear', 'C': 4.91648588652642, 'max_iter': 78339}. Best is trial 133 with value: 0.8809880239520959.\u001b[0m\n",
      "\u001b[32m[I 2022-04-25 14:37:19,428]\u001b[0m Trial 452 finished with value: 0.8787425149700598 and parameters: {'solver': 'liblinear', 'C': 9.946789160486166, 'max_iter': 84636}. Best is trial 133 with value: 0.8809880239520959.\u001b[0m\n",
      "\u001b[32m[I 2022-04-25 14:37:19,862]\u001b[0m Trial 453 finished with value: 0.8787425149700598 and parameters: {'solver': 'liblinear', 'C': 5.874520667406592, 'max_iter': 91382}. Best is trial 133 with value: 0.8809880239520959.\u001b[0m\n",
      "\u001b[32m[I 2022-04-25 14:37:36,160]\u001b[0m Trial 454 finished with value: 0.874251497005988 and parameters: {'solver': 'saga', 'C': 3.9408603081413833, 'max_iter': 74321}. Best is trial 133 with value: 0.8809880239520959.\u001b[0m\n",
      "\u001b[32m[I 2022-04-25 14:37:36,593]\u001b[0m Trial 455 finished with value: 0.8787425149700598 and parameters: {'solver': 'liblinear', 'C': 5.846135218026454, 'max_iter': 76747}. Best is trial 133 with value: 0.8809880239520959.\u001b[0m\n",
      "\u001b[32m[I 2022-04-25 14:37:37,032]\u001b[0m Trial 456 finished with value: 0.8794910179640718 and parameters: {'solver': 'liblinear', 'C': 7.854948187852063, 'max_iter': 92588}. Best is trial 133 with value: 0.8809880239520959.\u001b[0m\n",
      "\u001b[32m[I 2022-04-25 14:37:37,473]\u001b[0m Trial 457 finished with value: 0.8794910179640718 and parameters: {'solver': 'liblinear', 'C': 8.333614383870469, 'max_iter': 84826}. Best is trial 133 with value: 0.8809880239520959.\u001b[0m\n",
      "\u001b[32m[I 2022-04-25 14:37:37,898]\u001b[0m Trial 458 finished with value: 0.8772455089820359 and parameters: {'solver': 'liblinear', 'C': 4.852065719292234, 'max_iter': 84777}. Best is trial 133 with value: 0.8809880239520959.\u001b[0m\n",
      "\u001b[32m[I 2022-04-25 14:37:48,475]\u001b[0m Trial 459 finished with value: 0.8727544910179641 and parameters: {'solver': 'lbfgs', 'C': 7.307083974129257, 'max_iter': 94246}. Best is trial 133 with value: 0.8809880239520959.\u001b[0m\n",
      "\u001b[32m[I 2022-04-25 14:37:48,982]\u001b[0m Trial 460 finished with value: 0.8787425149700598 and parameters: {'solver': 'liblinear', 'C': 6.1175651014113495, 'max_iter': 81607}. Best is trial 133 with value: 0.8809880239520959.\u001b[0m\n",
      "\u001b[32m[I 2022-04-25 14:37:49,423]\u001b[0m Trial 461 finished with value: 0.8802395209580839 and parameters: {'solver': 'liblinear', 'C': 8.521797081859875, 'max_iter': 87867}. Best is trial 133 with value: 0.8809880239520959.\u001b[0m\n",
      "\u001b[32m[I 2022-04-25 14:37:49,867]\u001b[0m Trial 462 finished with value: 0.8787425149700598 and parameters: {'solver': 'liblinear', 'C': 9.87059544302432, 'max_iter': 87125}. Best is trial 133 with value: 0.8809880239520959.\u001b[0m\n",
      "\u001b[32m[I 2022-04-25 14:37:50,290]\u001b[0m Trial 463 finished with value: 0.8779940119760479 and parameters: {'solver': 'liblinear', 'C': 3.9974561730809017, 'max_iter': 80304}. Best is trial 133 with value: 0.8809880239520959.\u001b[0m\n",
      "\u001b[32m[I 2022-04-25 14:37:50,722]\u001b[0m Trial 464 finished with value: 0.8787425149700598 and parameters: {'solver': 'liblinear', 'C': 6.194498131995121, 'max_iter': 90562}. Best is trial 133 with value: 0.8809880239520959.\u001b[0m\n",
      "\u001b[32m[I 2022-04-25 14:37:51,158]\u001b[0m Trial 465 finished with value: 0.8787425149700598 and parameters: {'solver': 'liblinear', 'C': 6.3896293369836625, 'max_iter': 87165}. Best is trial 133 with value: 0.8809880239520959.\u001b[0m\n",
      "\u001b[32m[I 2022-04-25 14:37:51,580]\u001b[0m Trial 466 finished with value: 0.874251497005988 and parameters: {'solver': 'liblinear', 'C': 2.7492693268323203, 'max_iter': 88379}. Best is trial 133 with value: 0.8809880239520959.\u001b[0m\n",
      "\u001b[32m[I 2022-04-25 14:37:58,259]\u001b[0m Trial 467 finished with value: 0.8712574850299402 and parameters: {'solver': 'newton-cg', 'C': 8.458302247581017, 'max_iter': 82953}. Best is trial 133 with value: 0.8809880239520959.\u001b[0m\n",
      "\u001b[32m[I 2022-04-25 14:37:58,736]\u001b[0m Trial 468 finished with value: 0.8772455089820359 and parameters: {'solver': 'liblinear', 'C': 4.775516405132754, 'max_iter': 74349}. Best is trial 133 with value: 0.8809880239520959.\u001b[0m\n",
      "\u001b[32m[I 2022-04-25 14:37:59,160]\u001b[0m Trial 469 finished with value: 0.8787425149700598 and parameters: {'solver': 'liblinear', 'C': 5.176863914482717, 'max_iter': 77044}. Best is trial 133 with value: 0.8809880239520959.\u001b[0m\n",
      "\u001b[32m[I 2022-04-25 14:37:59,603]\u001b[0m Trial 470 finished with value: 0.8794910179640718 and parameters: {'solver': 'liblinear', 'C': 9.997746604551851, 'max_iter': 79716}. Best is trial 133 with value: 0.8809880239520959.\u001b[0m\n",
      "\u001b[32m[I 2022-04-25 14:38:00,022]\u001b[0m Trial 471 finished with value: 0.8802395209580839 and parameters: {'solver': 'liblinear', 'C': 3.710883306244868, 'max_iter': 88845}. Best is trial 133 with value: 0.8809880239520959.\u001b[0m\n",
      "\u001b[32m[I 2022-04-25 14:38:00,454]\u001b[0m Trial 472 finished with value: 0.8787425149700598 and parameters: {'solver': 'liblinear', 'C': 6.428719148258726, 'max_iter': 86826}. Best is trial 133 with value: 0.8809880239520959.\u001b[0m\n",
      "\u001b[32m[I 2022-04-25 14:39:30,744]\u001b[0m Trial 473 finished with value: 0.8727544910179641 and parameters: {'solver': 'sag', 'C': 7.143803156209159, 'max_iter': 81059}. Best is trial 133 with value: 0.8809880239520959.\u001b[0m\n",
      "\u001b[32m[I 2022-04-25 14:39:31,189]\u001b[0m Trial 474 finished with value: 0.8772455089820359 and parameters: {'solver': 'liblinear', 'C': 4.8308102169941005, 'max_iter': 78618}. Best is trial 133 with value: 0.8809880239520959.\u001b[0m\n",
      "\u001b[32m[I 2022-04-25 14:39:31,631]\u001b[0m Trial 475 finished with value: 0.8794910179640718 and parameters: {'solver': 'liblinear', 'C': 8.108918358049223, 'max_iter': 53074}. Best is trial 133 with value: 0.8809880239520959.\u001b[0m\n",
      "\u001b[32m[I 2022-04-25 14:39:32,076]\u001b[0m Trial 476 finished with value: 0.8787425149700598 and parameters: {'solver': 'liblinear', 'C': 9.911950262945625, 'max_iter': 83380}. Best is trial 133 with value: 0.8809880239520959.\u001b[0m\n",
      "\u001b[32m[I 2022-04-25 14:39:32,511]\u001b[0m Trial 477 finished with value: 0.8787425149700598 and parameters: {'solver': 'liblinear', 'C': 5.968793961846283, 'max_iter': 67070}. Best is trial 133 with value: 0.8809880239520959.\u001b[0m\n",
      "\u001b[32m[I 2022-04-25 14:39:32,934]\u001b[0m Trial 478 finished with value: 0.8787425149700598 and parameters: {'solver': 'liblinear', 'C': 4.158159047870475, 'max_iter': 74320}. Best is trial 133 with value: 0.8809880239520959.\u001b[0m\n",
      "\u001b[32m[I 2022-04-25 14:39:33,373]\u001b[0m Trial 479 finished with value: 0.8809880239520959 and parameters: {'solver': 'liblinear', 'C': 6.770888032648912, 'max_iter': 95934}. Best is trial 133 with value: 0.8809880239520959.\u001b[0m\n",
      "\u001b[32m[I 2022-04-25 14:39:33,798]\u001b[0m Trial 480 finished with value: 0.8787425149700598 and parameters: {'solver': 'liblinear', 'C': 5.224199237182249, 'max_iter': 81532}. Best is trial 133 with value: 0.8809880239520959.\u001b[0m\n",
      "\u001b[32m[I 2022-04-25 14:39:34,234]\u001b[0m Trial 481 finished with value: 0.8809880239520959 and parameters: {'solver': 'liblinear', 'C': 6.914495298645783, 'max_iter': 91825}. Best is trial 133 with value: 0.8809880239520959.\u001b[0m\n",
      "\u001b[32m[I 2022-04-25 14:39:34,676]\u001b[0m Trial 482 finished with value: 0.8787425149700598 and parameters: {'solver': 'liblinear', 'C': 9.9662735469741, 'max_iter': 92292}. Best is trial 133 with value: 0.8809880239520959.\u001b[0m\n",
      "\u001b[32m[I 2022-04-25 14:40:00,360]\u001b[0m Trial 483 finished with value: 0.8727544910179641 and parameters: {'solver': 'saga', 'C': 8.118152088281844, 'max_iter': 90228}. Best is trial 133 with value: 0.8809880239520959.\u001b[0m\n",
      "\u001b[32m[I 2022-04-25 14:40:00,828]\u001b[0m Trial 484 finished with value: 0.8809880239520959 and parameters: {'solver': 'liblinear', 'C': 7.159952627113669, 'max_iter': 85632}. Best is trial 133 with value: 0.8809880239520959.\u001b[0m\n",
      "\u001b[32m[I 2022-04-25 14:40:01,185]\u001b[0m Trial 485 finished with value: 0.4214071856287425 and parameters: {'solver': 'liblinear', 'C': 0.0002072617627868379, 'max_iter': 84043}. Best is trial 133 with value: 0.8809880239520959.\u001b[0m\n",
      "\u001b[32m[I 2022-04-25 14:40:01,614]\u001b[0m Trial 486 finished with value: 0.8779940119760479 and parameters: {'solver': 'liblinear', 'C': 5.077560275807767, 'max_iter': 84350}. Best is trial 133 with value: 0.8809880239520959.\u001b[0m\n"
     ]
    },
    {
     "name": "stderr",
     "output_type": "stream",
     "text": [
      "\u001b[32m[I 2022-04-25 14:40:01,979]\u001b[0m Trial 487 finished with value: 0.6317365269461078 and parameters: {'solver': 'liblinear', 'C': 0.0030607301896749925, 'max_iter': 85930}. Best is trial 133 with value: 0.8809880239520959.\u001b[0m\n",
      "\u001b[32m[I 2022-04-25 14:40:02,422]\u001b[0m Trial 488 finished with value: 0.8787425149700598 and parameters: {'solver': 'liblinear', 'C': 9.88072913566556, 'max_iter': 89084}. Best is trial 133 with value: 0.8809880239520959.\u001b[0m\n",
      "\u001b[32m[I 2022-04-25 14:40:02,862]\u001b[0m Trial 489 finished with value: 0.8794910179640718 and parameters: {'solver': 'liblinear', 'C': 8.103125996892093, 'max_iter': 76498}. Best is trial 133 with value: 0.8809880239520959.\u001b[0m\n",
      "\u001b[32m[I 2022-04-25 14:40:12,174]\u001b[0m Trial 490 finished with value: 0.8735029940119761 and parameters: {'solver': 'lbfgs', 'C': 5.7306121782882204, 'max_iter': 88792}. Best is trial 133 with value: 0.8809880239520959.\u001b[0m\n",
      "\u001b[32m[I 2022-04-25 14:40:12,699]\u001b[0m Trial 491 finished with value: 0.8794910179640718 and parameters: {'solver': 'liblinear', 'C': 9.982120484417194, 'max_iter': 83312}. Best is trial 133 with value: 0.8809880239520959.\u001b[0m\n",
      "\u001b[32m[I 2022-04-25 14:40:13,141]\u001b[0m Trial 492 finished with value: 0.8794910179640718 and parameters: {'solver': 'liblinear', 'C': 8.246180636077536, 'max_iter': 20236}. Best is trial 133 with value: 0.8809880239520959.\u001b[0m\n",
      "\u001b[32m[I 2022-04-25 14:40:13,561]\u001b[0m Trial 493 finished with value: 0.8779940119760479 and parameters: {'solver': 'liblinear', 'C': 3.2538455553276497, 'max_iter': 83832}. Best is trial 133 with value: 0.8809880239520959.\u001b[0m\n",
      "\u001b[32m[I 2022-04-25 14:40:13,954]\u001b[0m Trial 494 finished with value: 0.8263473053892215 and parameters: {'solver': 'liblinear', 'C': 0.3665067296216169, 'max_iter': 97279}. Best is trial 133 with value: 0.8809880239520959.\u001b[0m\n",
      "\u001b[32m[I 2022-04-25 14:40:14,400]\u001b[0m Trial 495 finished with value: 0.8809880239520959 and parameters: {'solver': 'liblinear', 'C': 7.20983427856115, 'max_iter': 61598}. Best is trial 133 with value: 0.8809880239520959.\u001b[0m\n",
      "\u001b[32m[I 2022-04-25 14:40:14,825]\u001b[0m Trial 496 finished with value: 0.8787425149700598 and parameters: {'solver': 'liblinear', 'C': 4.305822149320856, 'max_iter': 72559}. Best is trial 133 with value: 0.8809880239520959.\u001b[0m\n",
      "\u001b[32m[I 2022-04-25 14:40:15,261]\u001b[0m Trial 497 finished with value: 0.8787425149700598 and parameters: {'solver': 'liblinear', 'C': 6.071871639457584, 'max_iter': 76011}. Best is trial 133 with value: 0.8809880239520959.\u001b[0m\n",
      "\u001b[32m[I 2022-04-25 14:40:15,689]\u001b[0m Trial 498 finished with value: 0.8772455089820359 and parameters: {'solver': 'liblinear', 'C': 5.043835304435592, 'max_iter': 77280}. Best is trial 133 with value: 0.8809880239520959.\u001b[0m\n",
      "\u001b[32m[I 2022-04-25 14:40:16,108]\u001b[0m Trial 499 finished with value: 0.8802395209580839 and parameters: {'solver': 'liblinear', 'C': 3.699216318859111, 'max_iter': 80459}. Best is trial 133 with value: 0.8809880239520959.\u001b[0m\n",
      "\u001b[32m[I 2022-04-25 14:40:16,551]\u001b[0m Trial 500 finished with value: 0.8794910179640718 and parameters: {'solver': 'liblinear', 'C': 8.226422665100563, 'max_iter': 87467}. Best is trial 133 with value: 0.8809880239520959.\u001b[0m\n",
      "\u001b[32m[I 2022-04-25 14:40:23,490]\u001b[0m Trial 501 finished with value: 0.8727544910179641 and parameters: {'solver': 'newton-cg', 'C': 6.0998270211786805, 'max_iter': 90605}. Best is trial 133 with value: 0.8809880239520959.\u001b[0m\n",
      "\u001b[32m[I 2022-04-25 14:40:23,987]\u001b[0m Trial 502 finished with value: 0.8772455089820359 and parameters: {'solver': 'liblinear', 'C': 4.567516725440744, 'max_iter': 75734}. Best is trial 133 with value: 0.8809880239520959.\u001b[0m\n",
      "\u001b[32m[I 2022-04-25 14:40:24,419]\u001b[0m Trial 503 finished with value: 0.8787425149700598 and parameters: {'solver': 'liblinear', 'C': 6.136453803272573, 'max_iter': 70496}. Best is trial 133 with value: 0.8809880239520959.\u001b[0m\n",
      "\u001b[32m[I 2022-04-25 14:40:24,862]\u001b[0m Trial 504 finished with value: 0.8787425149700598 and parameters: {'solver': 'liblinear', 'C': 9.926283564804708, 'max_iter': 93104}. Best is trial 133 with value: 0.8809880239520959.\u001b[0m\n",
      "\u001b[32m[I 2022-04-25 14:40:25,302]\u001b[0m Trial 505 finished with value: 0.8794910179640718 and parameters: {'solver': 'liblinear', 'C': 7.876863893942577, 'max_iter': 86002}. Best is trial 133 with value: 0.8809880239520959.\u001b[0m\n",
      "\u001b[32m[I 2022-04-25 14:41:22,844]\u001b[0m Trial 506 finished with value: 0.8720059880239521 and parameters: {'solver': 'sag', 'C': 5.491542151194117, 'max_iter': 85691}. Best is trial 133 with value: 0.8809880239520959.\u001b[0m\n",
      "\u001b[32m[I 2022-04-25 14:41:23,302]\u001b[0m Trial 507 finished with value: 0.8794910179640718 and parameters: {'solver': 'liblinear', 'C': 9.989240331707595, 'max_iter': 82004}. Best is trial 133 with value: 0.8809880239520959.\u001b[0m\n",
      "\u001b[32m[I 2022-04-25 14:41:23,742]\u001b[0m Trial 508 finished with value: 0.8809880239520959 and parameters: {'solver': 'liblinear', 'C': 6.844787864637134, 'max_iter': 94943}. Best is trial 133 with value: 0.8809880239520959.\u001b[0m\n",
      "\u001b[32m[I 2022-04-25 14:41:24,166]\u001b[0m Trial 509 finished with value: 0.8787425149700598 and parameters: {'solver': 'liblinear', 'C': 4.356490032449179, 'max_iter': 79498}. Best is trial 133 with value: 0.8809880239520959.\u001b[0m\n",
      "\u001b[32m[I 2022-04-25 14:41:24,599]\u001b[0m Trial 510 finished with value: 0.8787425149700598 and parameters: {'solver': 'liblinear', 'C': 6.386949111572919, 'max_iter': 96236}. Best is trial 133 with value: 0.8809880239520959.\u001b[0m\n",
      "\u001b[32m[I 2022-04-25 14:41:25,015]\u001b[0m Trial 511 finished with value: 0.875 and parameters: {'solver': 'liblinear', 'C': 2.5276307173540253, 'max_iter': 78469}. Best is trial 133 with value: 0.8809880239520959.\u001b[0m\n",
      "\u001b[32m[I 2022-04-25 14:41:25,451]\u001b[0m Trial 512 finished with value: 0.8809880239520959 and parameters: {'solver': 'liblinear', 'C': 7.133149908355499, 'max_iter': 80902}. Best is trial 133 with value: 0.8809880239520959.\u001b[0m\n",
      "\u001b[32m[I 2022-04-25 14:41:25,891]\u001b[0m Trial 513 finished with value: 0.8794910179640718 and parameters: {'solver': 'liblinear', 'C': 8.307746629508108, 'max_iter': 94644}. Best is trial 133 with value: 0.8809880239520959.\u001b[0m\n",
      "\u001b[32m[I 2022-04-25 14:41:44,777]\u001b[0m Trial 514 finished with value: 0.8720059880239521 and parameters: {'solver': 'saga', 'C': 5.420781172521845, 'max_iter': 86494}. Best is trial 133 with value: 0.8809880239520959.\u001b[0m\n",
      "\u001b[32m[I 2022-04-25 14:41:45,205]\u001b[0m Trial 515 finished with value: 0.8802395209580839 and parameters: {'solver': 'liblinear', 'C': 3.653084236953732, 'max_iter': 96219}. Best is trial 133 with value: 0.8809880239520959.\u001b[0m\n",
      "\u001b[32m[I 2022-04-25 14:41:45,650]\u001b[0m Trial 516 finished with value: 0.8794910179640718 and parameters: {'solver': 'liblinear', 'C': 8.334718735860099, 'max_iter': 84869}. Best is trial 133 with value: 0.8809880239520959.\u001b[0m\n",
      "\u001b[32m[I 2022-04-25 14:41:46,081]\u001b[0m Trial 517 finished with value: 0.8787425149700598 and parameters: {'solver': 'liblinear', 'C': 5.1979606912307945, 'max_iter': 82302}. Best is trial 133 with value: 0.8809880239520959.\u001b[0m\n",
      "\u001b[32m[I 2022-04-25 14:41:46,519]\u001b[0m Trial 518 finished with value: 0.8802395209580839 and parameters: {'solver': 'liblinear', 'C': 7.291910554622962, 'max_iter': 78549}. Best is trial 133 with value: 0.8809880239520959.\u001b[0m\n",
      "\u001b[32m[I 2022-04-25 14:41:46,953]\u001b[0m Trial 519 finished with value: 0.8787425149700598 and parameters: {'solver': 'liblinear', 'C': 6.480828377464921, 'max_iter': 92180}. Best is trial 133 with value: 0.8809880239520959.\u001b[0m\n",
      "\u001b[32m[I 2022-04-25 14:41:47,395]\u001b[0m Trial 520 finished with value: 0.8802395209580839 and parameters: {'solver': 'liblinear', 'C': 8.673681229960176, 'max_iter': 83071}. Best is trial 133 with value: 0.8809880239520959.\u001b[0m\n",
      "\u001b[32m[I 2022-04-25 14:41:55,881]\u001b[0m Trial 521 finished with value: 0.875 and parameters: {'solver': 'lbfgs', 'C': 4.502285834877472, 'max_iter': 99030}. Best is trial 133 with value: 0.8809880239520959.\u001b[0m\n",
      "\u001b[32m[I 2022-04-25 14:41:56,388]\u001b[0m Trial 522 finished with value: 0.8809880239520959 and parameters: {'solver': 'liblinear', 'C': 6.797926628180253, 'max_iter': 86700}. Best is trial 133 with value: 0.8809880239520959.\u001b[0m\n",
      "\u001b[32m[I 2022-04-25 14:41:56,819]\u001b[0m Trial 523 finished with value: 0.8787425149700598 and parameters: {'solver': 'liblinear', 'C': 5.683373418149528, 'max_iter': 90420}. Best is trial 133 with value: 0.8809880239520959.\u001b[0m\n"
     ]
    },
    {
     "name": "stderr",
     "output_type": "stream",
     "text": [
      "\u001b[32m[I 2022-04-25 14:41:57,264]\u001b[0m Trial 524 finished with value: 0.8787425149700598 and parameters: {'solver': 'liblinear', 'C': 9.941052360771673, 'max_iter': 86198}. Best is trial 133 with value: 0.8809880239520959.\u001b[0m\n",
      "\u001b[32m[I 2022-04-25 14:41:57,684]\u001b[0m Trial 525 finished with value: 0.8787425149700598 and parameters: {'solver': 'liblinear', 'C': 3.276775099382387, 'max_iter': 84420}. Best is trial 133 with value: 0.8809880239520959.\u001b[0m\n",
      "\u001b[32m[I 2022-04-25 14:41:58,105]\u001b[0m Trial 526 finished with value: 0.8787425149700598 and parameters: {'solver': 'liblinear', 'C': 4.342534940748805, 'max_iter': 72526}. Best is trial 133 with value: 0.8809880239520959.\u001b[0m\n",
      "\u001b[32m[I 2022-04-25 14:41:58,532]\u001b[0m Trial 527 finished with value: 0.8787425149700598 and parameters: {'solver': 'liblinear', 'C': 5.281038442462444, 'max_iter': 83013}. Best is trial 133 with value: 0.8809880239520959.\u001b[0m\n",
      "\u001b[32m[I 2022-04-25 14:41:58,974]\u001b[0m Trial 528 finished with value: 0.8794910179640718 and parameters: {'solver': 'liblinear', 'C': 8.303451337890557, 'max_iter': 85039}. Best is trial 133 with value: 0.8809880239520959.\u001b[0m\n",
      "\u001b[32m[I 2022-04-25 14:41:59,420]\u001b[0m Trial 529 finished with value: 0.8787425149700598 and parameters: {'solver': 'liblinear', 'C': 9.849641449314184, 'max_iter': 90886}. Best is trial 133 with value: 0.8809880239520959.\u001b[0m\n",
      "\u001b[32m[I 2022-04-25 14:41:59,856]\u001b[0m Trial 530 finished with value: 0.8809880239520959 and parameters: {'solver': 'liblinear', 'C': 6.998497251055383, 'max_iter': 75882}. Best is trial 133 with value: 0.8809880239520959.\u001b[0m\n",
      "\u001b[32m[I 2022-04-25 14:42:00,301]\u001b[0m Trial 531 finished with value: 0.8794910179640718 and parameters: {'solver': 'liblinear', 'C': 9.995826271948884, 'max_iter': 89482}. Best is trial 133 with value: 0.8809880239520959.\u001b[0m\n",
      "\u001b[32m[I 2022-04-25 14:42:07,348]\u001b[0m Trial 532 finished with value: 0.8682634730538922 and parameters: {'solver': 'newton-cg', 'C': 9.966121502503567, 'max_iter': 91259}. Best is trial 133 with value: 0.8809880239520959.\u001b[0m\n",
      "\u001b[32m[I 2022-04-25 14:42:07,844]\u001b[0m Trial 533 finished with value: 0.8809880239520959 and parameters: {'solver': 'liblinear', 'C': 6.775867991919853, 'max_iter': 93677}. Best is trial 133 with value: 0.8809880239520959.\u001b[0m\n",
      "\u001b[32m[I 2022-04-25 14:43:09,233]\u001b[0m Trial 534 finished with value: 0.874251497005988 and parameters: {'solver': 'sag', 'C': 4.867460654882714, 'max_iter': 78108}. Best is trial 133 with value: 0.8809880239520959.\u001b[0m\n",
      "\u001b[32m[I 2022-04-25 14:43:09,695]\u001b[0m Trial 535 finished with value: 0.8794910179640718 and parameters: {'solver': 'liblinear', 'C': 8.073340731613873, 'max_iter': 46623}. Best is trial 133 with value: 0.8809880239520959.\u001b[0m\n",
      "\u001b[32m[I 2022-04-25 14:43:10,129]\u001b[0m Trial 536 finished with value: 0.8787425149700598 and parameters: {'solver': 'liblinear', 'C': 6.205208850229485, 'max_iter': 95801}. Best is trial 133 with value: 0.8809880239520959.\u001b[0m\n",
      "\u001b[32m[I 2022-04-25 14:43:10,553]\u001b[0m Trial 537 finished with value: 0.8779940119760479 and parameters: {'solver': 'liblinear', 'C': 4.118945642705587, 'max_iter': 93293}. Best is trial 133 with value: 0.8809880239520959.\u001b[0m\n",
      "\u001b[32m[I 2022-04-25 14:43:10,999]\u001b[0m Trial 538 finished with value: 0.8787425149700598 and parameters: {'solver': 'liblinear', 'C': 9.972655841975214, 'max_iter': 98669}. Best is trial 133 with value: 0.8809880239520959.\u001b[0m\n",
      "\u001b[32m[I 2022-04-25 14:43:11,429]\u001b[0m Trial 539 finished with value: 0.8787425149700598 and parameters: {'solver': 'liblinear', 'C': 5.707930379855329, 'max_iter': 79058}. Best is trial 133 with value: 0.8809880239520959.\u001b[0m\n",
      "\u001b[32m[I 2022-04-25 14:43:11,867]\u001b[0m Trial 540 finished with value: 0.8809880239520959 and parameters: {'solver': 'liblinear', 'C': 6.8994933930382105, 'max_iter': 95604}. Best is trial 133 with value: 0.8809880239520959.\u001b[0m\n",
      "\u001b[32m[I 2022-04-25 14:43:12,286]\u001b[0m Trial 541 finished with value: 0.875 and parameters: {'solver': 'liblinear', 'C': 2.9582161249052468, 'max_iter': 92545}. Best is trial 133 with value: 0.8809880239520959.\u001b[0m\n",
      "\u001b[32m[I 2022-04-25 14:43:12,725]\u001b[0m Trial 542 finished with value: 0.8794910179640718 and parameters: {'solver': 'liblinear', 'C': 7.324698253792171, 'max_iter': 60090}. Best is trial 133 with value: 0.8809880239520959.\u001b[0m\n",
      "\u001b[32m[I 2022-04-25 14:43:13,160]\u001b[0m Trial 543 finished with value: 0.8787425149700598 and parameters: {'solver': 'liblinear', 'C': 5.991865880455917, 'max_iter': 88442}. Best is trial 133 with value: 0.8809880239520959.\u001b[0m\n",
      "\u001b[32m[I 2022-04-25 14:43:13,599]\u001b[0m Trial 544 finished with value: 0.8794910179640718 and parameters: {'solver': 'liblinear', 'C': 7.884184518857906, 'max_iter': 99865}. Best is trial 133 with value: 0.8809880239520959.\u001b[0m\n",
      "\u001b[32m[I 2022-04-25 14:43:13,973]\u001b[0m Trial 545 finished with value: 0.7574850299401198 and parameters: {'solver': 'liblinear', 'C': 0.03711272129155599, 'max_iter': 82757}. Best is trial 133 with value: 0.8809880239520959.\u001b[0m\n",
      "\u001b[32m[I 2022-04-25 14:43:14,397]\u001b[0m Trial 546 finished with value: 0.8772455089820359 and parameters: {'solver': 'liblinear', 'C': 4.654382901890694, 'max_iter': 91530}. Best is trial 133 with value: 0.8809880239520959.\u001b[0m\n",
      "\u001b[32m[I 2022-04-25 14:43:30,283]\u001b[0m Trial 547 finished with value: 0.8727544910179641 and parameters: {'solver': 'saga', 'C': 3.742184669313989, 'max_iter': 81193}. Best is trial 133 with value: 0.8809880239520959.\u001b[0m\n",
      "\u001b[32m[I 2022-04-25 14:43:30,743]\u001b[0m Trial 548 finished with value: 0.8794910179640718 and parameters: {'solver': 'liblinear', 'C': 7.701608050846607, 'max_iter': 65516}. Best is trial 133 with value: 0.8809880239520959.\u001b[0m\n",
      "\u001b[32m[I 2022-04-25 14:43:31,180]\u001b[0m Trial 549 finished with value: 0.8809880239520959 and parameters: {'solver': 'liblinear', 'C': 7.057205144192568, 'max_iter': 63562}. Best is trial 133 with value: 0.8809880239520959.\u001b[0m\n",
      "\u001b[32m[I 2022-04-25 14:43:31,624]\u001b[0m Trial 550 finished with value: 0.8794910179640718 and parameters: {'solver': 'liblinear', 'C': 9.980491486556152, 'max_iter': 84408}. Best is trial 133 with value: 0.8809880239520959.\u001b[0m\n",
      "\u001b[32m[I 2022-04-25 14:43:32,056]\u001b[0m Trial 551 finished with value: 0.8787425149700598 and parameters: {'solver': 'liblinear', 'C': 5.3894673911064315, 'max_iter': 89776}. Best is trial 133 with value: 0.8809880239520959.\u001b[0m\n",
      "\u001b[32m[I 2022-04-25 14:43:32,509]\u001b[0m Trial 552 finished with value: 0.4408682634730539 and parameters: {'solver': 'lbfgs', 'C': 0.0007247112507720032, 'max_iter': 95561}. Best is trial 133 with value: 0.8809880239520959.\u001b[0m\n",
      "\u001b[32m[I 2022-04-25 14:43:33,068]\u001b[0m Trial 553 finished with value: 0.8802395209580839 and parameters: {'solver': 'liblinear', 'C': 8.485049008181193, 'max_iter': 93819}. Best is trial 133 with value: 0.8809880239520959.\u001b[0m\n",
      "\u001b[32m[I 2022-04-25 14:43:33,510]\u001b[0m Trial 554 finished with value: 0.8794910179640718 and parameters: {'solver': 'liblinear', 'C': 8.026791395664416, 'max_iter': 56734}. Best is trial 133 with value: 0.8809880239520959.\u001b[0m\n",
      "\u001b[32m[I 2022-04-25 14:43:33,955]\u001b[0m Trial 555 finished with value: 0.8787425149700598 and parameters: {'solver': 'liblinear', 'C': 9.949579852335102, 'max_iter': 87881}. Best is trial 133 with value: 0.8809880239520959.\u001b[0m\n",
      "\u001b[32m[I 2022-04-25 14:43:34,390]\u001b[0m Trial 556 finished with value: 0.8779940119760479 and parameters: {'solver': 'liblinear', 'C': 5.648538358156836, 'max_iter': 61865}. Best is trial 133 with value: 0.8809880239520959.\u001b[0m\n",
      "\u001b[32m[I 2022-04-25 14:43:34,825]\u001b[0m Trial 557 finished with value: 0.8787425149700598 and parameters: {'solver': 'liblinear', 'C': 6.4659177492556905, 'max_iter': 87312}. Best is trial 133 with value: 0.8809880239520959.\u001b[0m\n",
      "\u001b[32m[I 2022-04-25 14:43:35,267]\u001b[0m Trial 558 finished with value: 0.8809880239520959 and parameters: {'solver': 'liblinear', 'C': 7.083147979522737, 'max_iter': 81366}. Best is trial 133 with value: 0.8809880239520959.\u001b[0m\n",
      "\u001b[32m[I 2022-04-25 14:43:35,708]\u001b[0m Trial 559 finished with value: 0.8802395209580839 and parameters: {'solver': 'liblinear', 'C': 8.483574672765325, 'max_iter': 97996}. Best is trial 133 with value: 0.8809880239520959.\u001b[0m\n",
      "\u001b[32m[I 2022-04-25 14:43:36,153]\u001b[0m Trial 560 finished with value: 0.8787425149700598 and parameters: {'solver': 'liblinear', 'C': 9.942042367632055, 'max_iter': 86303}. Best is trial 133 with value: 0.8809880239520959.\u001b[0m\n"
     ]
    },
    {
     "name": "stderr",
     "output_type": "stream",
     "text": [
      "\u001b[32m[I 2022-04-25 14:43:36,577]\u001b[0m Trial 561 finished with value: 0.8772455089820359 and parameters: {'solver': 'liblinear', 'C': 4.769420551464213, 'max_iter': 87215}. Best is trial 133 with value: 0.8809880239520959.\u001b[0m\n",
      "\u001b[32m[I 2022-04-25 14:43:37,015]\u001b[0m Trial 562 finished with value: 0.8809880239520959 and parameters: {'solver': 'liblinear', 'C': 6.789377099821446, 'max_iter': 80194}. Best is trial 133 with value: 0.8809880239520959.\u001b[0m\n",
      "\u001b[32m[I 2022-04-25 14:43:42,651]\u001b[0m Trial 563 finished with value: 0.8735029940119761 and parameters: {'solver': 'newton-cg', 'C': 4.0419737659681045, 'max_iter': 89325}. Best is trial 133 with value: 0.8809880239520959.\u001b[0m\n",
      "\u001b[32m[I 2022-04-25 14:43:43,149]\u001b[0m Trial 564 finished with value: 0.8787425149700598 and parameters: {'solver': 'liblinear', 'C': 5.69183999666654, 'max_iter': 88640}. Best is trial 133 with value: 0.8809880239520959.\u001b[0m\n",
      "\u001b[32m[I 2022-04-25 14:43:43,571]\u001b[0m Trial 565 finished with value: 0.8787425149700598 and parameters: {'solver': 'liblinear', 'C': 3.486311166732083, 'max_iter': 78089}. Best is trial 133 with value: 0.8809880239520959.\u001b[0m\n",
      "\u001b[32m[I 2022-04-25 14:44:41,236]\u001b[0m Trial 566 finished with value: 0.874251497005988 and parameters: {'solver': 'sag', 'C': 4.960076808068711, 'max_iter': 78218}. Best is trial 133 with value: 0.8809880239520959.\u001b[0m\n",
      "\u001b[32m[I 2022-04-25 14:44:41,666]\u001b[0m Trial 567 finished with value: 0.8779940119760479 and parameters: {'solver': 'liblinear', 'C': 5.0934250042985125, 'max_iter': 80588}. Best is trial 133 with value: 0.8809880239520959.\u001b[0m\n",
      "\u001b[32m[I 2022-04-25 14:44:42,110]\u001b[0m Trial 568 finished with value: 0.8787425149700598 and parameters: {'solver': 'liblinear', 'C': 9.933787235656249, 'max_iter': 74421}. Best is trial 133 with value: 0.8809880239520959.\u001b[0m\n",
      "\u001b[32m[I 2022-04-25 14:44:42,544]\u001b[0m Trial 569 finished with value: 0.8794910179640718 and parameters: {'solver': 'liblinear', 'C': 6.024637713808597, 'max_iter': 80145}. Best is trial 133 with value: 0.8809880239520959.\u001b[0m\n",
      "\u001b[32m[I 2022-04-25 14:44:42,988]\u001b[0m Trial 570 finished with value: 0.8794910179640718 and parameters: {'solver': 'liblinear', 'C': 7.488081470236092, 'max_iter': 88092}. Best is trial 133 with value: 0.8809880239520959.\u001b[0m\n",
      "\u001b[32m[I 2022-04-25 14:44:43,435]\u001b[0m Trial 571 finished with value: 0.8787425149700598 and parameters: {'solver': 'liblinear', 'C': 9.936821716639868, 'max_iter': 85703}. Best is trial 133 with value: 0.8809880239520959.\u001b[0m\n",
      "\u001b[32m[I 2022-04-25 14:44:43,877]\u001b[0m Trial 572 finished with value: 0.8809880239520959 and parameters: {'solver': 'liblinear', 'C': 7.159775373446994, 'max_iter': 94967}. Best is trial 133 with value: 0.8809880239520959.\u001b[0m\n",
      "\u001b[32m[I 2022-04-25 14:44:44,301]\u001b[0m Trial 573 finished with value: 0.8787425149700598 and parameters: {'solver': 'liblinear', 'C': 4.313612843366414, 'max_iter': 76811}. Best is trial 133 with value: 0.8809880239520959.\u001b[0m\n",
      "\u001b[32m[I 2022-04-25 14:44:44,741]\u001b[0m Trial 574 finished with value: 0.8802395209580839 and parameters: {'solver': 'liblinear', 'C': 8.433154436387115, 'max_iter': 84784}. Best is trial 133 with value: 0.8809880239520959.\u001b[0m\n",
      "\u001b[32m[I 2022-04-25 14:44:45,187]\u001b[0m Trial 575 finished with value: 0.8787425149700598 and parameters: {'solver': 'liblinear', 'C': 9.927389901962027, 'max_iter': 82950}. Best is trial 133 with value: 0.8809880239520959.\u001b[0m\n",
      "\u001b[32m[I 2022-04-25 14:44:45,619]\u001b[0m Trial 576 finished with value: 0.8787425149700598 and parameters: {'solver': 'liblinear', 'C': 5.826227070894159, 'max_iter': 85713}. Best is trial 133 with value: 0.8809880239520959.\u001b[0m\n",
      "\u001b[32m[I 2022-04-25 14:44:46,057]\u001b[0m Trial 577 finished with value: 0.8802395209580839 and parameters: {'solver': 'liblinear', 'C': 6.537022418085748, 'max_iter': 69810}. Best is trial 133 with value: 0.8809880239520959.\u001b[0m\n",
      "\u001b[32m[I 2022-04-25 14:45:09,073]\u001b[0m Trial 578 finished with value: 0.8735029940119761 and parameters: {'solver': 'saga', 'C': 6.802586871025049, 'max_iter': 98025}. Best is trial 133 with value: 0.8809880239520959.\u001b[0m\n",
      "\u001b[32m[I 2022-04-25 14:45:09,532]\u001b[0m Trial 579 finished with value: 0.8779940119760479 and parameters: {'solver': 'liblinear', 'C': 5.057928154013511, 'max_iter': 80083}. Best is trial 133 with value: 0.8809880239520959.\u001b[0m\n",
      "\u001b[32m[I 2022-04-25 14:45:09,954]\u001b[0m Trial 580 finished with value: 0.8779940119760479 and parameters: {'solver': 'liblinear', 'C': 3.2328470049191678, 'max_iter': 79684}. Best is trial 133 with value: 0.8809880239520959.\u001b[0m\n",
      "\u001b[32m[I 2022-04-25 14:45:10,396]\u001b[0m Trial 581 finished with value: 0.8794910179640718 and parameters: {'solver': 'liblinear', 'C': 8.182361080159739, 'max_iter': 94336}. Best is trial 133 with value: 0.8809880239520959.\u001b[0m\n",
      "\u001b[32m[I 2022-04-25 14:45:10,832]\u001b[0m Trial 582 finished with value: 0.8787425149700598 and parameters: {'solver': 'liblinear', 'C': 6.2702588134749275, 'max_iter': 94068}. Best is trial 133 with value: 0.8809880239520959.\u001b[0m\n",
      "\u001b[32m[I 2022-04-25 14:45:11,276]\u001b[0m Trial 583 finished with value: 0.8794910179640718 and parameters: {'solver': 'liblinear', 'C': 9.98353611075436, 'max_iter': 86891}. Best is trial 133 with value: 0.8809880239520959.\u001b[0m\n",
      "\u001b[32m[I 2022-04-25 14:45:11,705]\u001b[0m Trial 584 finished with value: 0.8779940119760479 and parameters: {'solver': 'liblinear', 'C': 3.9933492242156556, 'max_iter': 76856}. Best is trial 133 with value: 0.8809880239520959.\u001b[0m\n",
      "\u001b[32m[I 2022-04-25 14:45:21,663]\u001b[0m Trial 585 finished with value: 0.8727544910179641 and parameters: {'solver': 'lbfgs', 'C': 7.130966512980632, 'max_iter': 93294}. Best is trial 133 with value: 0.8809880239520959.\u001b[0m\n",
      "\u001b[32m[I 2022-04-25 14:45:22,159]\u001b[0m Trial 586 finished with value: 0.8772455089820359 and parameters: {'solver': 'liblinear', 'C': 4.884449806479082, 'max_iter': 53636}. Best is trial 133 with value: 0.8809880239520959.\u001b[0m\n",
      "\u001b[32m[I 2022-04-25 14:45:22,600]\u001b[0m Trial 587 finished with value: 0.8794910179640718 and parameters: {'solver': 'liblinear', 'C': 7.935374684845647, 'max_iter': 85001}. Best is trial 133 with value: 0.8809880239520959.\u001b[0m\n",
      "\u001b[32m[I 2022-04-25 14:45:23,018]\u001b[0m Trial 588 finished with value: 0.875 and parameters: {'solver': 'liblinear', 'C': 2.5258121424093005, 'max_iter': 96412}. Best is trial 133 with value: 0.8809880239520959.\u001b[0m\n",
      "\u001b[32m[I 2022-04-25 14:45:23,458]\u001b[0m Trial 589 finished with value: 0.8794910179640718 and parameters: {'solver': 'liblinear', 'C': 7.604922299006207, 'max_iter': 88406}. Best is trial 133 with value: 0.8809880239520959.\u001b[0m\n",
      "\u001b[32m[I 2022-04-25 14:45:23,889]\u001b[0m Trial 590 finished with value: 0.8787425149700598 and parameters: {'solver': 'liblinear', 'C': 5.8316597954183855, 'max_iter': 82978}. Best is trial 133 with value: 0.8809880239520959.\u001b[0m\n",
      "\u001b[32m[I 2022-04-25 14:45:29,714]\u001b[0m Trial 591 finished with value: 0.875 and parameters: {'solver': 'newton-cg', 'C': 4.427965543856362, 'max_iter': 81959}. Best is trial 133 with value: 0.8809880239520959.\u001b[0m\n",
      "\u001b[32m[I 2022-04-25 14:45:30,222]\u001b[0m Trial 592 finished with value: 0.8787425149700598 and parameters: {'solver': 'liblinear', 'C': 5.958865617509448, 'max_iter': 92103}. Best is trial 133 with value: 0.8809880239520959.\u001b[0m\n",
      "\u001b[32m[I 2022-04-25 14:45:30,667]\u001b[0m Trial 593 finished with value: 0.8787425149700598 and parameters: {'solver': 'liblinear', 'C': 9.932989558000827, 'max_iter': 83783}. Best is trial 133 with value: 0.8809880239520959.\u001b[0m\n",
      "\u001b[32m[I 2022-04-25 14:45:31,064]\u001b[0m Trial 594 finished with value: 0.8450598802395209 and parameters: {'solver': 'liblinear', 'C': 0.5538120918630924, 'max_iter': 31140}. Best is trial 133 with value: 0.8809880239520959.\u001b[0m\n",
      "\u001b[32m[I 2022-04-25 14:45:31,497]\u001b[0m Trial 595 finished with value: 0.8787425149700598 and parameters: {'solver': 'liblinear', 'C': 6.2882044266854775, 'max_iter': 89808}. Best is trial 133 with value: 0.8809880239520959.\u001b[0m\n",
      "\u001b[32m[I 2022-04-25 14:45:31,941]\u001b[0m Trial 596 finished with value: 0.8794910179640718 and parameters: {'solver': 'liblinear', 'C': 8.269026183127336, 'max_iter': 97564}. Best is trial 133 with value: 0.8809880239520959.\u001b[0m\n",
      "\u001b[32m[I 2022-04-25 14:45:32,388]\u001b[0m Trial 597 finished with value: 0.8787425149700598 and parameters: {'solver': 'liblinear', 'C': 9.89956719815323, 'max_iter': 86345}. Best is trial 133 with value: 0.8809880239520959.\u001b[0m\n"
     ]
    },
    {
     "name": "stderr",
     "output_type": "stream",
     "text": [
      "\u001b[32m[I 2022-04-25 14:45:32,810]\u001b[0m Trial 598 finished with value: 0.8787425149700598 and parameters: {'solver': 'liblinear', 'C': 3.8290870337003113, 'max_iter': 74738}. Best is trial 133 with value: 0.8809880239520959.\u001b[0m\n",
      "\u001b[32m[I 2022-04-25 14:45:33,252]\u001b[0m Trial 599 finished with value: 0.8794910179640718 and parameters: {'solver': 'liblinear', 'C': 7.954309777348196, 'max_iter': 82045}. Best is trial 133 with value: 0.8809880239520959.\u001b[0m\n",
      "\u001b[32m[I 2022-04-25 14:45:33,693]\u001b[0m Trial 600 finished with value: 0.8809880239520959 and parameters: {'solver': 'liblinear', 'C': 7.16501083044512, 'max_iter': 81221}. Best is trial 133 with value: 0.8809880239520959.\u001b[0m\n",
      "\u001b[32m[I 2022-04-25 14:45:34,119]\u001b[0m Trial 601 finished with value: 0.8779940119760479 and parameters: {'solver': 'liblinear', 'C': 4.538194028004858, 'max_iter': 84215}. Best is trial 133 with value: 0.8809880239520959.\u001b[0m\n",
      "\u001b[32m[I 2022-04-25 14:45:34,546]\u001b[0m Trial 602 finished with value: 0.8772455089820359 and parameters: {'solver': 'liblinear', 'C': 4.5595796775090776, 'max_iter': 79151}. Best is trial 133 with value: 0.8809880239520959.\u001b[0m\n",
      "\u001b[32m[I 2022-04-25 14:45:46,300]\u001b[0m Trial 603 finished with value: 0.7529940119760479 and parameters: {'solver': 'sag', 'C': 0.01663868554338155, 'max_iter': 96908}. Best is trial 133 with value: 0.8809880239520959.\u001b[0m\n",
      "\u001b[32m[I 2022-04-25 14:45:46,754]\u001b[0m Trial 604 finished with value: 0.8787425149700598 and parameters: {'solver': 'liblinear', 'C': 5.495759401087951, 'max_iter': 84907}. Best is trial 133 with value: 0.8809880239520959.\u001b[0m\n",
      "\u001b[32m[I 2022-04-25 14:45:47,193]\u001b[0m Trial 605 finished with value: 0.8809880239520959 and parameters: {'solver': 'liblinear', 'C': 6.882484144875261, 'max_iter': 95681}. Best is trial 133 with value: 0.8809880239520959.\u001b[0m\n",
      "\u001b[32m[I 2022-04-25 14:46:08,215]\u001b[0m Trial 606 finished with value: 0.8720059880239521 and parameters: {'solver': 'saga', 'C': 5.310184825640588, 'max_iter': 81377}. Best is trial 133 with value: 0.8809880239520959.\u001b[0m\n",
      "\u001b[32m[I 2022-04-25 14:46:08,640]\u001b[0m Trial 607 finished with value: 0.8787425149700598 and parameters: {'solver': 'liblinear', 'C': 3.2707954539600386, 'max_iter': 75257}. Best is trial 133 with value: 0.8809880239520959.\u001b[0m\n",
      "\u001b[32m[I 2022-04-25 14:46:09,086]\u001b[0m Trial 608 finished with value: 0.8794910179640718 and parameters: {'solver': 'liblinear', 'C': 9.977328377539045, 'max_iter': 73725}. Best is trial 133 with value: 0.8809880239520959.\u001b[0m\n",
      "\u001b[32m[I 2022-04-25 14:46:09,521]\u001b[0m Trial 609 finished with value: 0.8787425149700598 and parameters: {'solver': 'liblinear', 'C': 6.142114250729381, 'max_iter': 92834}. Best is trial 133 with value: 0.8809880239520959.\u001b[0m\n",
      "\u001b[32m[I 2022-04-25 14:46:09,962]\u001b[0m Trial 610 finished with value: 0.8794910179640718 and parameters: {'solver': 'liblinear', 'C': 8.412131639286807, 'max_iter': 64090}. Best is trial 133 with value: 0.8809880239520959.\u001b[0m\n",
      "\u001b[32m[I 2022-04-25 14:46:10,406]\u001b[0m Trial 611 finished with value: 0.8787425149700598 and parameters: {'solver': 'liblinear', 'C': 9.96310349385252, 'max_iter': 91043}. Best is trial 133 with value: 0.8809880239520959.\u001b[0m\n",
      "\u001b[32m[I 2022-04-25 14:46:10,847]\u001b[0m Trial 612 finished with value: 0.8809880239520959 and parameters: {'solver': 'liblinear', 'C': 7.100962333579078, 'max_iter': 96328}. Best is trial 133 with value: 0.8809880239520959.\u001b[0m\n",
      "\u001b[32m[I 2022-04-25 14:46:11,278]\u001b[0m Trial 613 finished with value: 0.8779940119760479 and parameters: {'solver': 'liblinear', 'C': 5.051482288885276, 'max_iter': 99904}. Best is trial 133 with value: 0.8809880239520959.\u001b[0m\n",
      "\u001b[32m[I 2022-04-25 14:46:22,485]\u001b[0m Trial 614 finished with value: 0.8727544910179641 and parameters: {'solver': 'lbfgs', 'C': 8.240519362409255, 'max_iter': 87577}. Best is trial 133 with value: 0.8809880239520959.\u001b[0m\n",
      "\u001b[32m[I 2022-04-25 14:46:22,991]\u001b[0m Trial 615 finished with value: 0.8787425149700598 and parameters: {'solver': 'liblinear', 'C': 5.596901172794934, 'max_iter': 94745}. Best is trial 133 with value: 0.8809880239520959.\u001b[0m\n",
      "\u001b[32m[I 2022-04-25 14:46:23,433]\u001b[0m Trial 616 finished with value: 0.8809880239520959 and parameters: {'solver': 'liblinear', 'C': 6.805233044496463, 'max_iter': 71172}. Best is trial 133 with value: 0.8809880239520959.\u001b[0m\n",
      "\u001b[32m[I 2022-04-25 14:46:23,857]\u001b[0m Trial 617 finished with value: 0.8779940119760479 and parameters: {'solver': 'liblinear', 'C': 3.990414640461689, 'max_iter': 38316}. Best is trial 133 with value: 0.8809880239520959.\u001b[0m\n",
      "\u001b[32m[I 2022-04-25 14:46:24,298]\u001b[0m Trial 618 finished with value: 0.8794910179640718 and parameters: {'solver': 'liblinear', 'C': 8.321050190743335, 'max_iter': 98595}. Best is trial 133 with value: 0.8809880239520959.\u001b[0m\n",
      "\u001b[32m[I 2022-04-25 14:46:24,736]\u001b[0m Trial 619 finished with value: 0.8802395209580839 and parameters: {'solver': 'liblinear', 'C': 6.540662393180411, 'max_iter': 94342}. Best is trial 133 with value: 0.8809880239520959.\u001b[0m\n",
      "\u001b[32m[I 2022-04-25 14:46:25,170]\u001b[0m Trial 620 finished with value: 0.8787425149700598 and parameters: {'solver': 'liblinear', 'C': 5.562927009151686, 'max_iter': 59779}. Best is trial 133 with value: 0.8809880239520959.\u001b[0m\n",
      "\u001b[32m[I 2022-04-25 14:46:25,617]\u001b[0m Trial 621 finished with value: 0.8787425149700598 and parameters: {'solver': 'liblinear', 'C': 9.91961860004537, 'max_iter': 87579}. Best is trial 133 with value: 0.8809880239520959.\u001b[0m\n",
      "\u001b[32m[I 2022-04-25 14:46:26,047]\u001b[0m Trial 622 finished with value: 0.8772455089820359 and parameters: {'solver': 'liblinear', 'C': 4.850116103371985, 'max_iter': 78663}. Best is trial 133 with value: 0.8809880239520959.\u001b[0m\n",
      "\u001b[32m[I 2022-04-25 14:46:26,490]\u001b[0m Trial 623 finished with value: 0.8794910179640718 and parameters: {'solver': 'liblinear', 'C': 8.204547131960695, 'max_iter': 58196}. Best is trial 133 with value: 0.8809880239520959.\u001b[0m\n",
      "\u001b[32m[I 2022-04-25 14:46:26,930]\u001b[0m Trial 624 finished with value: 0.8809880239520959 and parameters: {'solver': 'liblinear', 'C': 6.6009936741487065, 'max_iter': 90358}. Best is trial 133 with value: 0.8809880239520959.\u001b[0m\n",
      "\u001b[32m[I 2022-04-25 14:46:27,312]\u001b[0m Trial 625 finished with value: 0.7672155688622755 and parameters: {'solver': 'liblinear', 'C': 0.0957261607260222, 'max_iter': 76172}. Best is trial 133 with value: 0.8809880239520959.\u001b[0m\n",
      "\u001b[32m[I 2022-04-25 14:46:33,607]\u001b[0m Trial 626 finished with value: 0.8735029940119761 and parameters: {'solver': 'newton-cg', 'C': 3.7788302641251694, 'max_iter': 85483}. Best is trial 133 with value: 0.8809880239520959.\u001b[0m\n",
      "\u001b[32m[I 2022-04-25 14:47:32,074]\u001b[0m Trial 627 finished with value: 0.8727544910179641 and parameters: {'solver': 'sag', 'C': 5.230307788525929, 'max_iter': 71676}. Best is trial 133 with value: 0.8809880239520959.\u001b[0m\n",
      "\u001b[32m[I 2022-04-25 14:47:32,544]\u001b[0m Trial 628 finished with value: 0.8802395209580839 and parameters: {'solver': 'liblinear', 'C': 7.277491894923746, 'max_iter': 90779}. Best is trial 133 with value: 0.8809880239520959.\u001b[0m\n",
      "\u001b[32m[I 2022-04-25 14:47:32,989]\u001b[0m Trial 629 finished with value: 0.8787425149700598 and parameters: {'solver': 'liblinear', 'C': 9.762577808825544, 'max_iter': 91167}. Best is trial 133 with value: 0.8809880239520959.\u001b[0m\n",
      "\u001b[32m[I 2022-04-25 14:47:33,426]\u001b[0m Trial 630 finished with value: 0.8809880239520959 and parameters: {'solver': 'liblinear', 'C': 6.685858017981126, 'max_iter': 95546}. Best is trial 133 with value: 0.8809880239520959.\u001b[0m\n",
      "\u001b[32m[I 2022-04-25 14:47:33,844]\u001b[0m Trial 631 finished with value: 0.8735029940119761 and parameters: {'solver': 'liblinear', 'C': 2.886108706337641, 'max_iter': 92392}. Best is trial 133 with value: 0.8809880239520959.\u001b[0m\n",
      "\u001b[32m[I 2022-04-25 14:47:34,290]\u001b[0m Trial 632 finished with value: 0.8802395209580839 and parameters: {'solver': 'liblinear', 'C': 8.403622416962056, 'max_iter': 82662}. Best is trial 133 with value: 0.8809880239520959.\u001b[0m\n",
      "\u001b[32m[I 2022-04-25 14:47:34,732]\u001b[0m Trial 633 finished with value: 0.8802395209580839 and parameters: {'solver': 'liblinear', 'C': 8.523593100726897, 'max_iter': 84405}. Best is trial 133 with value: 0.8809880239520959.\u001b[0m\n",
      "\u001b[32m[I 2022-04-25 14:47:35,173]\u001b[0m Trial 634 finished with value: 0.8787425149700598 and parameters: {'solver': 'liblinear', 'C': 9.745125470501124, 'max_iter': 83417}. Best is trial 133 with value: 0.8809880239520959.\u001b[0m\n"
     ]
    },
    {
     "name": "stderr",
     "output_type": "stream",
     "text": [
      "\u001b[32m[I 2022-04-25 14:47:35,613]\u001b[0m Trial 635 finished with value: 0.8809880239520959 and parameters: {'solver': 'liblinear', 'C': 7.066895983794352, 'max_iter': 92221}. Best is trial 133 with value: 0.8809880239520959.\u001b[0m\n",
      "\u001b[32m[I 2022-04-25 14:47:36,041]\u001b[0m Trial 636 finished with value: 0.8787425149700598 and parameters: {'solver': 'liblinear', 'C': 4.486900878417175, 'max_iter': 77014}. Best is trial 133 with value: 0.8809880239520959.\u001b[0m\n",
      "\u001b[32m[I 2022-04-25 14:47:36,475]\u001b[0m Trial 637 finished with value: 0.8787425149700598 and parameters: {'solver': 'liblinear', 'C': 5.6227261391085746, 'max_iter': 66208}. Best is trial 133 with value: 0.8809880239520959.\u001b[0m\n",
      "\u001b[32m[I 2022-04-25 14:47:36,919]\u001b[0m Trial 638 finished with value: 0.8787425149700598 and parameters: {'solver': 'liblinear', 'C': 9.959923584896922, 'max_iter': 85555}. Best is trial 133 with value: 0.8809880239520959.\u001b[0m\n",
      "\u001b[32m[I 2022-04-25 14:47:37,353]\u001b[0m Trial 639 finished with value: 0.8787425149700598 and parameters: {'solver': 'liblinear', 'C': 5.673638065429361, 'max_iter': 89466}. Best is trial 133 with value: 0.8809880239520959.\u001b[0m\n",
      "\u001b[32m[I 2022-04-25 14:47:54,921]\u001b[0m Trial 640 finished with value: 0.875 and parameters: {'solver': 'saga', 'C': 4.250682186137593, 'max_iter': 79648}. Best is trial 133 with value: 0.8809880239520959.\u001b[0m\n",
      "\u001b[32m[I 2022-04-25 14:47:55,382]\u001b[0m Trial 641 finished with value: 0.8794910179640718 and parameters: {'solver': 'liblinear', 'C': 7.879861462602067, 'max_iter': 87852}. Best is trial 133 with value: 0.8809880239520959.\u001b[0m\n",
      "\u001b[32m[I 2022-04-25 14:47:55,816]\u001b[0m Trial 642 finished with value: 0.8787425149700598 and parameters: {'solver': 'liblinear', 'C': 5.744619846268729, 'max_iter': 69531}. Best is trial 133 with value: 0.8809880239520959.\u001b[0m\n",
      "\u001b[32m[I 2022-04-25 14:47:56,264]\u001b[0m Trial 643 finished with value: 0.8787425149700598 and parameters: {'solver': 'liblinear', 'C': 9.968180303439985, 'max_iter': 81417}. Best is trial 133 with value: 0.8809880239520959.\u001b[0m\n",
      "\u001b[32m[I 2022-04-25 14:47:56,704]\u001b[0m Trial 644 finished with value: 0.8809880239520959 and parameters: {'solver': 'liblinear', 'C': 7.203861292952967, 'max_iter': 67956}. Best is trial 133 with value: 0.8809880239520959.\u001b[0m\n",
      "\u001b[32m[I 2022-04-25 14:48:07,094]\u001b[0m Trial 645 finished with value: 0.8727544910179641 and parameters: {'solver': 'lbfgs', 'C': 8.174334753480045, 'max_iter': 84118}. Best is trial 133 with value: 0.8809880239520959.\u001b[0m\n",
      "\u001b[32m[I 2022-04-25 14:48:07,586]\u001b[0m Trial 646 finished with value: 0.8787425149700598 and parameters: {'solver': 'liblinear', 'C': 3.364080376186366, 'max_iter': 85622}. Best is trial 133 with value: 0.8809880239520959.\u001b[0m\n",
      "\u001b[32m[I 2022-04-25 14:48:08,026]\u001b[0m Trial 647 finished with value: 0.8809880239520959 and parameters: {'solver': 'liblinear', 'C': 6.770474421691819, 'max_iter': 62855}. Best is trial 133 with value: 0.8809880239520959.\u001b[0m\n",
      "\u001b[32m[I 2022-04-25 14:48:08,454]\u001b[0m Trial 648 finished with value: 0.8772455089820359 and parameters: {'solver': 'liblinear', 'C': 4.988439947533964, 'max_iter': 83434}. Best is trial 133 with value: 0.8809880239520959.\u001b[0m\n",
      "\u001b[32m[I 2022-04-25 14:48:08,897]\u001b[0m Trial 649 finished with value: 0.8802395209580839 and parameters: {'solver': 'liblinear', 'C': 8.588824113247135, 'max_iter': 93601}. Best is trial 133 with value: 0.8809880239520959.\u001b[0m\n",
      "\u001b[32m[I 2022-04-25 14:48:09,335]\u001b[0m Trial 650 finished with value: 0.8787425149700598 and parameters: {'solver': 'liblinear', 'C': 5.524667316035483, 'max_iter': 80842}. Best is trial 133 with value: 0.8809880239520959.\u001b[0m\n",
      "\u001b[32m[I 2022-04-25 14:48:09,758]\u001b[0m Trial 651 finished with value: 0.8779940119760479 and parameters: {'solver': 'liblinear', 'C': 3.8500596416499393, 'max_iter': 73584}. Best is trial 133 with value: 0.8809880239520959.\u001b[0m\n",
      "\u001b[32m[I 2022-04-25 14:48:10,195]\u001b[0m Trial 652 finished with value: 0.8787425149700598 and parameters: {'solver': 'liblinear', 'C': 6.36972042573902, 'max_iter': 97946}. Best is trial 133 with value: 0.8809880239520959.\u001b[0m\n",
      "\u001b[32m[I 2022-04-25 14:48:10,641]\u001b[0m Trial 653 finished with value: 0.8787425149700598 and parameters: {'solver': 'liblinear', 'C': 9.82772901014262, 'max_iter': 50069}. Best is trial 133 with value: 0.8809880239520959.\u001b[0m\n",
      "\u001b[32m[I 2022-04-25 14:48:11,081]\u001b[0m Trial 654 finished with value: 0.8809880239520959 and parameters: {'solver': 'liblinear', 'C': 7.031939648648141, 'max_iter': 99322}. Best is trial 133 with value: 0.8809880239520959.\u001b[0m\n",
      "\u001b[32m[I 2022-04-25 14:48:11,520]\u001b[0m Trial 655 finished with value: 0.8809880239520959 and parameters: {'solver': 'liblinear', 'C': 7.019368545592353, 'max_iter': 62373}. Best is trial 133 with value: 0.8809880239520959.\u001b[0m\n",
      "\u001b[32m[I 2022-04-25 14:48:17,536]\u001b[0m Trial 656 finished with value: 0.875 and parameters: {'solver': 'newton-cg', 'C': 4.654254127701158, 'max_iter': 77787}. Best is trial 133 with value: 0.8809880239520959.\u001b[0m\n",
      "\u001b[32m[I 2022-04-25 14:48:18,018]\u001b[0m Trial 657 finished with value: 0.8779940119760479 and parameters: {'solver': 'liblinear', 'C': 4.519755136044239, 'max_iter': 80977}. Best is trial 133 with value: 0.8809880239520959.\u001b[0m\n",
      "\u001b[32m[I 2022-04-25 14:48:18,462]\u001b[0m Trial 658 finished with value: 0.8794910179640718 and parameters: {'solver': 'liblinear', 'C': 8.028657104902422, 'max_iter': 89373}. Best is trial 133 with value: 0.8809880239520959.\u001b[0m\n",
      "\u001b[32m[I 2022-04-25 14:48:18,898]\u001b[0m Trial 659 finished with value: 0.8809880239520959 and parameters: {'solver': 'liblinear', 'C': 6.668178958941704, 'max_iter': 61053}. Best is trial 133 with value: 0.8809880239520959.\u001b[0m\n",
      "\u001b[32m[I 2022-04-25 14:50:48,311]\u001b[0m Trial 660 finished with value: 0.8682634730538922 and parameters: {'solver': 'sag', 'C': 9.956324213706893, 'max_iter': 54988}. Best is trial 133 with value: 0.8809880239520959.\u001b[0m\n",
      "\u001b[32m[I 2022-04-25 14:50:48,783]\u001b[0m Trial 661 finished with value: 0.8787425149700598 and parameters: {'solver': 'liblinear', 'C': 5.859115711482015, 'max_iter': 95887}. Best is trial 133 with value: 0.8809880239520959.\u001b[0m\n",
      "\u001b[32m[I 2022-04-25 14:50:49,216]\u001b[0m Trial 662 finished with value: 0.8779940119760479 and parameters: {'solver': 'liblinear', 'C': 5.64047340798449, 'max_iter': 87065}. Best is trial 133 with value: 0.8809880239520959.\u001b[0m\n",
      "\u001b[32m[I 2022-04-25 14:50:49,639]\u001b[0m Trial 663 finished with value: 0.8787425149700598 and parameters: {'solver': 'liblinear', 'C': 3.5150639506209758, 'max_iter': 76020}. Best is trial 133 with value: 0.8809880239520959.\u001b[0m\n",
      "\u001b[32m[I 2022-04-25 14:50:50,085]\u001b[0m Trial 664 finished with value: 0.8787425149700598 and parameters: {'solver': 'liblinear', 'C': 9.904656997448853, 'max_iter': 83578}. Best is trial 133 with value: 0.8809880239520959.\u001b[0m\n",
      "\u001b[32m[I 2022-04-25 14:50:50,450]\u001b[0m Trial 665 finished with value: 0.687874251497006 and parameters: {'solver': 'liblinear', 'C': 0.0056202609575451935, 'max_iter': 67144}. Best is trial 133 with value: 0.8809880239520959.\u001b[0m\n",
      "\u001b[32m[I 2022-04-25 14:50:50,879]\u001b[0m Trial 666 finished with value: 0.8772455089820359 and parameters: {'solver': 'liblinear', 'C': 4.752107434765527, 'max_iter': 77013}. Best is trial 133 with value: 0.8809880239520959.\u001b[0m\n",
      "\u001b[32m[I 2022-04-25 14:50:51,299]\u001b[0m Trial 667 finished with value: 0.874251497005988 and parameters: {'solver': 'liblinear', 'C': 2.4739603098408516, 'max_iter': 94363}. Best is trial 133 with value: 0.8809880239520959.\u001b[0m\n",
      "\u001b[32m[I 2022-04-25 14:50:51,728]\u001b[0m Trial 668 finished with value: 0.8787425149700598 and parameters: {'solver': 'liblinear', 'C': 5.249483451387586, 'max_iter': 74016}. Best is trial 133 with value: 0.8809880239520959.\u001b[0m\n",
      "\u001b[32m[I 2022-04-25 14:50:52,172]\u001b[0m Trial 669 finished with value: 0.8794910179640718 and parameters: {'solver': 'liblinear', 'C': 7.918460488491526, 'max_iter': 91474}. Best is trial 133 with value: 0.8809880239520959.\u001b[0m\n",
      "\u001b[32m[I 2022-04-25 14:50:52,619]\u001b[0m Trial 670 finished with value: 0.8787425149700598 and parameters: {'solver': 'liblinear', 'C': 9.96757637081966, 'max_iter': 90123}. Best is trial 133 with value: 0.8809880239520959.\u001b[0m\n",
      "\u001b[32m[I 2022-04-25 14:51:20,505]\u001b[0m Trial 671 finished with value: 0.8682634730538922 and parameters: {'solver': 'saga', 'C': 9.938046214238039, 'max_iter': 82151}. Best is trial 133 with value: 0.8809880239520959.\u001b[0m\n"
     ]
    },
    {
     "name": "stderr",
     "output_type": "stream",
     "text": [
      "\u001b[32m[I 2022-04-25 14:51:20,964]\u001b[0m Trial 672 finished with value: 0.8787425149700598 and parameters: {'solver': 'liblinear', 'C': 6.48860925233071, 'max_iter': 95760}. Best is trial 133 with value: 0.8809880239520959.\u001b[0m\n",
      "\u001b[32m[I 2022-04-25 14:51:21,391]\u001b[0m Trial 673 finished with value: 0.8772455089820359 and parameters: {'solver': 'liblinear', 'C': 4.559028022384638, 'max_iter': 78447}. Best is trial 133 with value: 0.8809880239520959.\u001b[0m\n",
      "\u001b[32m[I 2022-04-25 14:51:21,835]\u001b[0m Trial 674 finished with value: 0.8794910179640718 and parameters: {'solver': 'liblinear', 'C': 8.235619338234217, 'max_iter': 87623}. Best is trial 133 with value: 0.8809880239520959.\u001b[0m\n",
      "\u001b[32m[I 2022-04-25 14:51:22,277]\u001b[0m Trial 675 finished with value: 0.8802395209580839 and parameters: {'solver': 'liblinear', 'C': 7.283693864078691, 'max_iter': 94491}. Best is trial 133 with value: 0.8809880239520959.\u001b[0m\n",
      "\u001b[32m[I 2022-04-25 14:51:22,718]\u001b[0m Trial 676 finished with value: 0.8794910179640718 and parameters: {'solver': 'liblinear', 'C': 8.272367813252568, 'max_iter': 85151}. Best is trial 133 with value: 0.8809880239520959.\u001b[0m\n",
      "\u001b[32m[I 2022-04-25 14:51:23,156]\u001b[0m Trial 677 finished with value: 0.8787425149700598 and parameters: {'solver': 'liblinear', 'C': 5.882650919404017, 'max_iter': 97474}. Best is trial 133 with value: 0.8809880239520959.\u001b[0m\n",
      "\u001b[32m[I 2022-04-25 14:51:31,538]\u001b[0m Trial 678 finished with value: 0.8727544910179641 and parameters: {'solver': 'lbfgs', 'C': 3.644816521291592, 'max_iter': 72014}. Best is trial 133 with value: 0.8809880239520959.\u001b[0m\n",
      "\u001b[32m[I 2022-04-25 14:51:32,045]\u001b[0m Trial 679 finished with value: 0.8787425149700598 and parameters: {'solver': 'liblinear', 'C': 6.308366766908282, 'max_iter': 90762}. Best is trial 133 with value: 0.8809880239520959.\u001b[0m\n",
      "\u001b[32m[I 2022-04-25 14:51:32,472]\u001b[0m Trial 680 finished with value: 0.8787425149700598 and parameters: {'solver': 'liblinear', 'C': 4.427929199622037, 'max_iter': 71556}. Best is trial 133 with value: 0.8809880239520959.\u001b[0m\n",
      "\u001b[32m[I 2022-04-25 14:51:32,907]\u001b[0m Trial 681 finished with value: 0.8787425149700598 and parameters: {'solver': 'liblinear', 'C': 5.7419505003177, 'max_iter': 99997}. Best is trial 133 with value: 0.8809880239520959.\u001b[0m\n",
      "\u001b[32m[I 2022-04-25 14:51:33,354]\u001b[0m Trial 682 finished with value: 0.8794910179640718 and parameters: {'solver': 'liblinear', 'C': 9.994237884756517, 'max_iter': 82919}. Best is trial 133 with value: 0.8809880239520959.\u001b[0m\n",
      "\u001b[32m[I 2022-04-25 14:51:33,795]\u001b[0m Trial 683 finished with value: 0.8809880239520959 and parameters: {'solver': 'liblinear', 'C': 6.804654372769555, 'max_iter': 98327}. Best is trial 133 with value: 0.8809880239520959.\u001b[0m\n",
      "\u001b[32m[I 2022-04-25 14:51:34,182]\u001b[0m Trial 684 finished with value: 0.7866766467065869 and parameters: {'solver': 'liblinear', 'C': 0.1586694797977234, 'max_iter': 97136}. Best is trial 133 with value: 0.8809880239520959.\u001b[0m\n",
      "\u001b[32m[I 2022-04-25 14:51:34,625]\u001b[0m Trial 685 finished with value: 0.8794910179640718 and parameters: {'solver': 'liblinear', 'C': 8.015571937737466, 'max_iter': 87662}. Best is trial 133 with value: 0.8809880239520959.\u001b[0m\n",
      "\u001b[32m[I 2022-04-25 14:51:35,004]\u001b[0m Trial 686 finished with value: 0.7604790419161677 and parameters: {'solver': 'liblinear', 'C': 0.0688075514364542, 'max_iter': 80188}. Best is trial 133 with value: 0.8809880239520959.\u001b[0m\n",
      "\u001b[32m[I 2022-04-25 14:51:35,428]\u001b[0m Trial 687 finished with value: 0.8779940119760479 and parameters: {'solver': 'liblinear', 'C': 3.971575556811068, 'max_iter': 74722}. Best is trial 133 with value: 0.8809880239520959.\u001b[0m\n",
      "\u001b[32m[I 2022-04-25 14:51:41,760]\u001b[0m Trial 688 finished with value: 0.8682634730538922 and parameters: {'solver': 'newton-cg', 'C': 9.947446433009388, 'max_iter': 92153}. Best is trial 133 with value: 0.8809880239520959.\u001b[0m\n",
      "\u001b[32m[I 2022-04-25 14:52:49,038]\u001b[0m Trial 689 finished with value: 0.8735029940119761 and parameters: {'solver': 'sag', 'C': 5.122877513514503, 'max_iter': 78044}. Best is trial 133 with value: 0.8809880239520959.\u001b[0m\n",
      "\u001b[32m[I 2022-04-25 14:52:49,503]\u001b[0m Trial 690 finished with value: 0.8809880239520959 and parameters: {'solver': 'liblinear', 'C': 7.113018052036441, 'max_iter': 81625}. Best is trial 133 with value: 0.8809880239520959.\u001b[0m\n",
      "\u001b[32m[I 2022-04-25 14:52:49,947]\u001b[0m Trial 691 finished with value: 0.8787425149700598 and parameters: {'solver': 'liblinear', 'C': 9.86107235148141, 'max_iter': 85596}. Best is trial 133 with value: 0.8809880239520959.\u001b[0m\n",
      "\u001b[32m[I 2022-04-25 14:52:50,381]\u001b[0m Trial 692 finished with value: 0.8787425149700598 and parameters: {'solver': 'liblinear', 'C': 5.481808517680516, 'max_iter': 70106}. Best is trial 133 with value: 0.8809880239520959.\u001b[0m\n",
      "\u001b[32m[I 2022-04-25 14:52:50,819]\u001b[0m Trial 693 finished with value: 0.8802395209580839 and parameters: {'solver': 'liblinear', 'C': 6.514431076095854, 'max_iter': 85443}. Best is trial 133 with value: 0.8809880239520959.\u001b[0m\n",
      "\u001b[32m[I 2022-04-25 14:52:51,263]\u001b[0m Trial 694 finished with value: 0.8794910179640718 and parameters: {'solver': 'liblinear', 'C': 8.171911790692636, 'max_iter': 96653}. Best is trial 133 with value: 0.8809880239520959.\u001b[0m\n",
      "\u001b[32m[I 2022-04-25 14:52:51,694]\u001b[0m Trial 695 finished with value: 0.8779940119760479 and parameters: {'solver': 'liblinear', 'C': 5.133642850182126, 'max_iter': 82750}. Best is trial 133 with value: 0.8809880239520959.\u001b[0m\n",
      "\u001b[32m[I 2022-04-25 14:52:52,140]\u001b[0m Trial 696 finished with value: 0.8787425149700598 and parameters: {'solver': 'liblinear', 'C': 9.844758485049796, 'max_iter': 82459}. Best is trial 133 with value: 0.8809880239520959.\u001b[0m\n",
      "\u001b[32m[I 2022-04-25 14:52:52,566]\u001b[0m Trial 697 finished with value: 0.8779940119760479 and parameters: {'solver': 'liblinear', 'C': 4.085605080658915, 'max_iter': 65199}. Best is trial 133 with value: 0.8809880239520959.\u001b[0m\n",
      "\u001b[32m[I 2022-04-25 14:52:52,987]\u001b[0m Trial 698 finished with value: 0.8764970059880239 and parameters: {'solver': 'liblinear', 'C': 3.0835220923929447, 'max_iter': 75510}. Best is trial 133 with value: 0.8809880239520959.\u001b[0m\n",
      "\u001b[32m[I 2022-04-25 14:52:53,425]\u001b[0m Trial 699 finished with value: 0.8809880239520959 and parameters: {'solver': 'liblinear', 'C': 6.575967443337804, 'max_iter': 92446}. Best is trial 133 with value: 0.8809880239520959.\u001b[0m\n",
      "\u001b[32m[I 2022-04-25 14:52:53,862]\u001b[0m Trial 700 finished with value: 0.8787425149700598 and parameters: {'solver': 'liblinear', 'C': 6.385293985753549, 'max_iter': 94191}. Best is trial 133 with value: 0.8809880239520959.\u001b[0m\n",
      "\u001b[32m[I 2022-04-25 14:52:54,291]\u001b[0m Trial 701 finished with value: 0.8787425149700598 and parameters: {'solver': 'liblinear', 'C': 5.157680890690025, 'max_iter': 69349}. Best is trial 133 with value: 0.8809880239520959.\u001b[0m\n",
      "\u001b[32m[I 2022-04-25 14:53:17,818]\u001b[0m Trial 702 finished with value: 0.8727544910179641 and parameters: {'solver': 'saga', 'C': 7.47510066054524, 'max_iter': 88611}. Best is trial 133 with value: 0.8809880239520959.\u001b[0m\n",
      "\u001b[32m[I 2022-04-25 14:53:18,270]\u001b[0m Trial 703 finished with value: 0.8794910179640718 and parameters: {'solver': 'liblinear', 'C': 8.156639868232213, 'max_iter': 72108}. Best is trial 133 with value: 0.8809880239520959.\u001b[0m\n",
      "\u001b[32m[I 2022-04-25 14:53:18,707]\u001b[0m Trial 704 finished with value: 0.8787425149700598 and parameters: {'solver': 'liblinear', 'C': 6.449005556932916, 'max_iter': 93588}. Best is trial 133 with value: 0.8809880239520959.\u001b[0m\n",
      "\u001b[32m[I 2022-04-25 14:53:19,135]\u001b[0m Trial 705 finished with value: 0.8787425149700598 and parameters: {'solver': 'liblinear', 'C': 4.356173183379386, 'max_iter': 79327}. Best is trial 133 with value: 0.8809880239520959.\u001b[0m\n",
      "\u001b[32m[I 2022-04-25 14:53:19,568]\u001b[0m Trial 706 finished with value: 0.8787425149700598 and parameters: {'solver': 'liblinear', 'C': 5.464654639604871, 'max_iter': 95638}. Best is trial 133 with value: 0.8809880239520959.\u001b[0m\n",
      "\u001b[32m[I 2022-04-25 14:53:20,014]\u001b[0m Trial 707 finished with value: 0.8787425149700598 and parameters: {'solver': 'liblinear', 'C': 9.90637519980357, 'max_iter': 95117}. Best is trial 133 with value: 0.8809880239520959.\u001b[0m\n",
      "\u001b[32m[I 2022-04-25 14:53:20,453]\u001b[0m Trial 708 finished with value: 0.8809880239520959 and parameters: {'solver': 'liblinear', 'C': 7.044721576149312, 'max_iter': 92638}. Best is trial 133 with value: 0.8809880239520959.\u001b[0m\n"
     ]
    },
    {
     "name": "stderr",
     "output_type": "stream",
     "text": [
      "\u001b[32m[I 2022-04-25 14:53:29,628]\u001b[0m Trial 709 finished with value: 0.8727544910179641 and parameters: {'solver': 'lbfgs', 'C': 6.04410519608213, 'max_iter': 80152}. Best is trial 133 with value: 0.8809880239520959.\u001b[0m\n",
      "\u001b[32m[I 2022-04-25 14:53:30,142]\u001b[0m Trial 710 finished with value: 0.8794910179640718 and parameters: {'solver': 'liblinear', 'C': 7.38799678001609, 'max_iter': 64062}. Best is trial 133 with value: 0.8809880239520959.\u001b[0m\n",
      "\u001b[32m[I 2022-04-25 14:53:30,586]\u001b[0m Trial 711 finished with value: 0.8794910179640718 and parameters: {'solver': 'liblinear', 'C': 8.381918095212926, 'max_iter': 79584}. Best is trial 133 with value: 0.8809880239520959.\u001b[0m\n",
      "\u001b[32m[I 2022-04-25 14:53:31,009]\u001b[0m Trial 712 finished with value: 0.8772455089820359 and parameters: {'solver': 'liblinear', 'C': 4.771656060205072, 'max_iter': 91427}. Best is trial 133 with value: 0.8809880239520959.\u001b[0m\n",
      "\u001b[32m[I 2022-04-25 14:53:31,456]\u001b[0m Trial 713 finished with value: 0.8787425149700598 and parameters: {'solver': 'liblinear', 'C': 9.9469403686552, 'max_iter': 57595}. Best is trial 133 with value: 0.8809880239520959.\u001b[0m\n",
      "\u001b[32m[I 2022-04-25 14:53:31,878]\u001b[0m Trial 714 finished with value: 0.8794910179640718 and parameters: {'solver': 'liblinear', 'C': 3.7871698426706515, 'max_iter': 96531}. Best is trial 133 with value: 0.8809880239520959.\u001b[0m\n",
      "\u001b[32m[I 2022-04-25 14:53:32,320]\u001b[0m Trial 715 finished with value: 0.8794910179640718 and parameters: {'solver': 'liblinear', 'C': 8.2390956802982, 'max_iter': 90867}. Best is trial 133 with value: 0.8809880239520959.\u001b[0m\n",
      "\u001b[32m[I 2022-04-25 14:53:32,760]\u001b[0m Trial 716 finished with value: 0.8809880239520959 and parameters: {'solver': 'liblinear', 'C': 6.896592083659129, 'max_iter': 89746}. Best is trial 133 with value: 0.8809880239520959.\u001b[0m\n",
      "\u001b[32m[I 2022-04-25 14:53:33,192]\u001b[0m Trial 717 finished with value: 0.8787425149700598 and parameters: {'solver': 'liblinear', 'C': 5.628123578060016, 'max_iter': 82252}. Best is trial 133 with value: 0.8809880239520959.\u001b[0m\n",
      "\u001b[32m[I 2022-04-25 14:53:39,790]\u001b[0m Trial 718 finished with value: 0.8720059880239521 and parameters: {'solver': 'newton-cg', 'C': 8.337409662165554, 'max_iter': 78869}. Best is trial 133 with value: 0.8809880239520959.\u001b[0m\n",
      "\u001b[32m[I 2022-04-25 14:53:40,293]\u001b[0m Trial 719 finished with value: 0.8772455089820359 and parameters: {'solver': 'liblinear', 'C': 4.962288284589226, 'max_iter': 51725}. Best is trial 133 with value: 0.8809880239520959.\u001b[0m\n",
      "\u001b[32m[I 2022-04-25 14:54:23,968]\u001b[0m Trial 720 finished with value: 0.8727544910179641 and parameters: {'solver': 'sag', 'C': 3.242723341496725, 'max_iter': 76767}. Best is trial 133 with value: 0.8809880239520959.\u001b[0m\n",
      "\u001b[32m[I 2022-04-25 14:54:24,422]\u001b[0m Trial 721 finished with value: 0.8794910179640718 and parameters: {'solver': 'liblinear', 'C': 8.717045629133663, 'max_iter': 84508}. Best is trial 133 with value: 0.8809880239520959.\u001b[0m\n",
      "\u001b[32m[I 2022-04-25 14:54:24,863]\u001b[0m Trial 722 finished with value: 0.8809880239520959 and parameters: {'solver': 'liblinear', 'C': 7.188587583990682, 'max_iter': 97786}. Best is trial 133 with value: 0.8809880239520959.\u001b[0m\n",
      "\u001b[32m[I 2022-04-25 14:54:25,299]\u001b[0m Trial 723 finished with value: 0.8787425149700598 and parameters: {'solver': 'liblinear', 'C': 5.552587436978462, 'max_iter': 75409}. Best is trial 133 with value: 0.8809880239520959.\u001b[0m\n",
      "\u001b[32m[I 2022-04-25 14:54:25,746]\u001b[0m Trial 724 finished with value: 0.8787425149700598 and parameters: {'solver': 'liblinear', 'C': 9.836165788786777, 'max_iter': 99201}. Best is trial 133 with value: 0.8809880239520959.\u001b[0m\n",
      "\u001b[32m[I 2022-04-25 14:54:26,170]\u001b[0m Trial 725 finished with value: 0.8787425149700598 and parameters: {'solver': 'liblinear', 'C': 4.151583340052477, 'max_iter': 68472}. Best is trial 133 with value: 0.8809880239520959.\u001b[0m\n",
      "\u001b[32m[I 2022-04-25 14:54:26,602]\u001b[0m Trial 726 finished with value: 0.8787425149700598 and parameters: {'solver': 'liblinear', 'C': 6.465209953490984, 'max_iter': 62355}. Best is trial 133 with value: 0.8809880239520959.\u001b[0m\n",
      "\u001b[32m[I 2022-04-25 14:54:27,039]\u001b[0m Trial 727 finished with value: 0.8787425149700598 and parameters: {'solver': 'liblinear', 'C': 6.282050688567254, 'max_iter': 93892}. Best is trial 133 with value: 0.8809880239520959.\u001b[0m\n",
      "\u001b[32m[I 2022-04-25 14:54:27,483]\u001b[0m Trial 728 finished with value: 0.8794910179640718 and parameters: {'solver': 'liblinear', 'C': 8.202599734702433, 'max_iter': 67294}. Best is trial 133 with value: 0.8809880239520959.\u001b[0m\n",
      "\u001b[32m[I 2022-04-25 14:54:27,930]\u001b[0m Trial 729 finished with value: 0.8794910179640718 and parameters: {'solver': 'liblinear', 'C': 9.977009854093644, 'max_iter': 60551}. Best is trial 133 with value: 0.8809880239520959.\u001b[0m\n",
      "\u001b[32m[I 2022-04-25 14:54:28,371]\u001b[0m Trial 730 finished with value: 0.8809880239520959 and parameters: {'solver': 'liblinear', 'C': 6.794620335212387, 'max_iter': 93712}. Best is trial 133 with value: 0.8809880239520959.\u001b[0m\n",
      "\u001b[32m[I 2022-04-25 14:54:28,811]\u001b[0m Trial 731 finished with value: 0.8794910179640718 and parameters: {'solver': 'liblinear', 'C': 7.54292541220377, 'max_iter': 96636}. Best is trial 133 with value: 0.8809880239520959.\u001b[0m\n",
      "\u001b[32m[I 2022-04-25 14:54:29,258]\u001b[0m Trial 732 finished with value: 0.8794910179640718 and parameters: {'solver': 'liblinear', 'C': 8.325807172420838, 'max_iter': 83672}. Best is trial 133 with value: 0.8809880239520959.\u001b[0m\n",
      "\u001b[32m[I 2022-04-25 14:54:29,685]\u001b[0m Trial 733 finished with value: 0.8772455089820359 and parameters: {'solver': 'liblinear', 'C': 4.7398834049199365, 'max_iter': 88983}. Best is trial 133 with value: 0.8809880239520959.\u001b[0m\n",
      "\u001b[32m[I 2022-04-25 14:54:30,114]\u001b[0m Trial 734 finished with value: 0.8787425149700598 and parameters: {'solver': 'liblinear', 'C': 5.249490898363125, 'max_iter': 62729}. Best is trial 133 with value: 0.8809880239520959.\u001b[0m\n",
      "\u001b[32m[I 2022-04-25 14:54:51,395]\u001b[0m Trial 735 finished with value: 0.8735029940119761 and parameters: {'solver': 'saga', 'C': 6.8626913290864024, 'max_iter': 62125}. Best is trial 133 with value: 0.8809880239520959.\u001b[0m\n",
      "\u001b[32m[I 2022-04-25 14:54:51,830]\u001b[0m Trial 736 finished with value: 0.8779940119760479 and parameters: {'solver': 'liblinear', 'C': 4.049205078398858, 'max_iter': 99533}. Best is trial 133 with value: 0.8809880239520959.\u001b[0m\n",
      "\u001b[32m[I 2022-04-25 14:54:59,104]\u001b[0m Trial 737 finished with value: 0.875 and parameters: {'solver': 'lbfgs', 'C': 2.896395438399761, 'max_iter': 85441}. Best is trial 133 with value: 0.8809880239520959.\u001b[0m\n",
      "\u001b[32m[I 2022-04-25 14:54:59,600]\u001b[0m Trial 738 finished with value: 0.8787425149700598 and parameters: {'solver': 'liblinear', 'C': 5.77448527444235, 'max_iter': 88934}. Best is trial 133 with value: 0.8809880239520959.\u001b[0m\n",
      "\u001b[32m[I 2022-04-25 14:55:00,041]\u001b[0m Trial 739 finished with value: 0.8809880239520959 and parameters: {'solver': 'liblinear', 'C': 7.074795027629238, 'max_iter': 95887}. Best is trial 133 with value: 0.8809880239520959.\u001b[0m\n",
      "\u001b[32m[I 2022-04-25 14:55:00,476]\u001b[0m Trial 740 finished with value: 0.8787425149700598 and parameters: {'solver': 'liblinear', 'C': 5.537251353315844, 'max_iter': 90327}. Best is trial 133 with value: 0.8809880239520959.\u001b[0m\n",
      "\u001b[32m[I 2022-04-25 14:55:00,919]\u001b[0m Trial 741 finished with value: 0.8787425149700598 and parameters: {'solver': 'liblinear', 'C': 8.853260103350786, 'max_iter': 95360}. Best is trial 133 with value: 0.8809880239520959.\u001b[0m\n",
      "\u001b[32m[I 2022-04-25 14:55:01,367]\u001b[0m Trial 742 finished with value: 0.8787425149700598 and parameters: {'solver': 'liblinear', 'C': 9.92628431266757, 'max_iter': 72931}. Best is trial 133 with value: 0.8809880239520959.\u001b[0m\n",
      "\u001b[32m[I 2022-04-25 14:55:01,795]\u001b[0m Trial 743 finished with value: 0.8787425149700598 and parameters: {'solver': 'liblinear', 'C': 4.367039990067551, 'max_iter': 74730}. Best is trial 133 with value: 0.8809880239520959.\u001b[0m\n",
      "\u001b[32m[I 2022-04-25 14:55:02,241]\u001b[0m Trial 744 finished with value: 0.8794910179640718 and parameters: {'solver': 'liblinear', 'C': 8.144628889472733, 'max_iter': 87501}. Best is trial 133 with value: 0.8809880239520959.\u001b[0m\n",
      "\u001b[32m[I 2022-04-25 14:55:02,675]\u001b[0m Trial 745 finished with value: 0.8787425149700598 and parameters: {'solver': 'liblinear', 'C': 5.772936463610624, 'max_iter': 92390}. Best is trial 133 with value: 0.8809880239520959.\u001b[0m\n"
     ]
    },
    {
     "name": "stderr",
     "output_type": "stream",
     "text": [
      "\u001b[32m[I 2022-04-25 14:55:03,117]\u001b[0m Trial 746 finished with value: 0.8809880239520959 and parameters: {'solver': 'liblinear', 'C': 6.729791110228262, 'max_iter': 86985}. Best is trial 133 with value: 0.8809880239520959.\u001b[0m\n",
      "\u001b[32m[I 2022-04-25 14:55:03,540]\u001b[0m Trial 747 finished with value: 0.8794910179640718 and parameters: {'solver': 'liblinear', 'C': 3.5958098206494236, 'max_iter': 67173}. Best is trial 133 with value: 0.8809880239520959.\u001b[0m\n",
      "\u001b[32m[I 2022-04-25 14:55:03,970]\u001b[0m Trial 748 finished with value: 0.8772455089820359 and parameters: {'solver': 'liblinear', 'C': 4.856581869994568, 'max_iter': 99524}. Best is trial 133 with value: 0.8809880239520959.\u001b[0m\n",
      "\u001b[32m[I 2022-04-25 14:55:10,151]\u001b[0m Trial 749 finished with value: 0.8682634730538922 and parameters: {'solver': 'newton-cg', 'C': 9.834303746898298, 'max_iter': 89694}. Best is trial 133 with value: 0.8809880239520959.\u001b[0m\n",
      "\u001b[32m[I 2022-04-25 14:55:10,655]\u001b[0m Trial 750 finished with value: 0.8787425149700598 and parameters: {'solver': 'liblinear', 'C': 5.601267609451988, 'max_iter': 81075}. Best is trial 133 with value: 0.8809880239520959.\u001b[0m\n",
      "\u001b[32m[I 2022-04-25 14:55:11,097]\u001b[0m Trial 751 finished with value: 0.8809880239520959 and parameters: {'solver': 'liblinear', 'C': 7.209077066708229, 'max_iter': 64476}. Best is trial 133 with value: 0.8809880239520959.\u001b[0m\n",
      "\u001b[32m[I 2022-04-25 14:55:36,711]\u001b[0m Trial 752 finished with value: 0.8727544910179641 and parameters: {'solver': 'sag', 'C': 1.8885019038395998, 'max_iter': 65375}. Best is trial 133 with value: 0.8809880239520959.\u001b[0m\n",
      "\u001b[32m[I 2022-04-25 14:55:37,164]\u001b[0m Trial 753 finished with value: 0.8787425149700598 and parameters: {'solver': 'liblinear', 'C': 9.877291668227882, 'max_iter': 58062}. Best is trial 133 with value: 0.8809880239520959.\u001b[0m\n",
      "\u001b[32m[I 2022-04-25 14:55:37,605]\u001b[0m Trial 754 finished with value: 0.8809880239520959 and parameters: {'solver': 'liblinear', 'C': 7.073957248702556, 'max_iter': 95031}. Best is trial 133 with value: 0.8809880239520959.\u001b[0m\n",
      "\u001b[32m[I 2022-04-25 14:55:38,029]\u001b[0m Trial 755 finished with value: 0.8787425149700598 and parameters: {'solver': 'liblinear', 'C': 4.335146524076475, 'max_iter': 1690}. Best is trial 133 with value: 0.8809880239520959.\u001b[0m\n",
      "\u001b[32m[I 2022-04-25 14:55:38,473]\u001b[0m Trial 756 finished with value: 0.8794910179640718 and parameters: {'solver': 'liblinear', 'C': 8.087535093813168, 'max_iter': 95808}. Best is trial 133 with value: 0.8809880239520959.\u001b[0m\n",
      "\u001b[32m[I 2022-04-25 14:55:38,908]\u001b[0m Trial 757 finished with value: 0.8779940119760479 and parameters: {'solver': 'liblinear', 'C': 5.105084909517254, 'max_iter': 81510}. Best is trial 133 with value: 0.8809880239520959.\u001b[0m\n",
      "\u001b[32m[I 2022-04-25 14:55:39,350]\u001b[0m Trial 758 finished with value: 0.8809880239520959 and parameters: {'solver': 'liblinear', 'C': 6.732391820257109, 'max_iter': 69238}. Best is trial 133 with value: 0.8809880239520959.\u001b[0m\n",
      "\u001b[32m[I 2022-04-25 14:55:39,794]\u001b[0m Trial 759 finished with value: 0.8787425149700598 and parameters: {'solver': 'liblinear', 'C': 9.66474734229795, 'max_iter': 86746}. Best is trial 133 with value: 0.8809880239520959.\u001b[0m\n",
      "\u001b[32m[I 2022-04-25 14:55:40,237]\u001b[0m Trial 760 finished with value: 0.8794910179640718 and parameters: {'solver': 'liblinear', 'C': 7.635057719470305, 'max_iter': 98007}. Best is trial 133 with value: 0.8809880239520959.\u001b[0m\n",
      "\u001b[32m[I 2022-04-25 14:55:40,683]\u001b[0m Trial 761 finished with value: 0.8787425149700598 and parameters: {'solver': 'liblinear', 'C': 9.876026910131284, 'max_iter': 91809}. Best is trial 133 with value: 0.8809880239520959.\u001b[0m\n",
      "\u001b[32m[I 2022-04-25 14:55:41,084]\u001b[0m Trial 762 finished with value: 0.8532934131736527 and parameters: {'solver': 'liblinear', 'C': 0.792669742193554, 'max_iter': 44429}. Best is trial 133 with value: 0.8809880239520959.\u001b[0m\n",
      "\u001b[32m[I 2022-04-25 14:56:03,032]\u001b[0m Trial 763 finished with value: 0.8735029940119761 and parameters: {'solver': 'saga', 'C': 5.769717517902493, 'max_iter': 91564}. Best is trial 133 with value: 0.8809880239520959.\u001b[0m\n",
      "\u001b[32m[I 2022-04-25 14:56:03,472]\u001b[0m Trial 764 finished with value: 0.8779940119760479 and parameters: {'solver': 'liblinear', 'C': 3.9526484887520654, 'max_iter': 84396}. Best is trial 133 with value: 0.8809880239520959.\u001b[0m\n",
      "\u001b[32m[I 2022-04-25 14:56:03,908]\u001b[0m Trial 765 finished with value: 0.8787425149700598 and parameters: {'solver': 'liblinear', 'C': 6.321816846523079, 'max_iter': 89697}. Best is trial 133 with value: 0.8809880239520959.\u001b[0m\n",
      "\u001b[32m[I 2022-04-25 14:56:04,328]\u001b[0m Trial 766 finished with value: 0.875 and parameters: {'solver': 'liblinear', 'C': 2.956549171858056, 'max_iter': 73219}. Best is trial 133 with value: 0.8809880239520959.\u001b[0m\n",
      "\u001b[32m[I 2022-04-25 14:56:04,756]\u001b[0m Trial 767 finished with value: 0.8772455089820359 and parameters: {'solver': 'liblinear', 'C': 4.745769880228082, 'max_iter': 84088}. Best is trial 133 with value: 0.8809880239520959.\u001b[0m\n",
      "\u001b[32m[I 2022-04-25 14:56:05,340]\u001b[0m Trial 768 finished with value: 0.5434131736526946 and parameters: {'solver': 'lbfgs', 'C': 0.0012662205064923133, 'max_iter': 84666}. Best is trial 133 with value: 0.8809880239520959.\u001b[0m\n",
      "\u001b[32m[I 2022-04-25 14:56:05,886]\u001b[0m Trial 769 finished with value: 0.8787425149700598 and parameters: {'solver': 'liblinear', 'C': 6.23562092627683, 'max_iter': 92643}. Best is trial 133 with value: 0.8809880239520959.\u001b[0m\n",
      "\u001b[32m[I 2022-04-25 14:56:06,333]\u001b[0m Trial 770 finished with value: 0.8787425149700598 and parameters: {'solver': 'liblinear', 'C': 9.970684810148665, 'max_iter': 66439}. Best is trial 133 with value: 0.8809880239520959.\u001b[0m\n",
      "\u001b[32m[I 2022-04-25 14:56:06,777]\u001b[0m Trial 771 finished with value: 0.8794910179640718 and parameters: {'solver': 'liblinear', 'C': 8.37776247730354, 'max_iter': 85976}. Best is trial 133 with value: 0.8809880239520959.\u001b[0m\n",
      "\u001b[32m[I 2022-04-25 14:56:07,223]\u001b[0m Trial 772 finished with value: 0.8794910179640718 and parameters: {'solver': 'liblinear', 'C': 7.9298894679025205, 'max_iter': 88749}. Best is trial 133 with value: 0.8809880239520959.\u001b[0m\n",
      "\u001b[32m[I 2022-04-25 14:56:07,669]\u001b[0m Trial 773 finished with value: 0.8787425149700598 and parameters: {'solver': 'liblinear', 'C': 9.94954412088986, 'max_iter': 97232}. Best is trial 133 with value: 0.8809880239520959.\u001b[0m\n",
      "\u001b[32m[I 2022-04-25 14:56:08,101]\u001b[0m Trial 774 finished with value: 0.8787425149700598 and parameters: {'solver': 'liblinear', 'C': 5.713489970498213, 'max_iter': 70967}. Best is trial 133 with value: 0.8809880239520959.\u001b[0m\n",
      "\u001b[32m[I 2022-04-25 14:56:08,523]\u001b[0m Trial 775 finished with value: 0.8802395209580839 and parameters: {'solver': 'liblinear', 'C': 3.655248203271323, 'max_iter': 58742}. Best is trial 133 with value: 0.8809880239520959.\u001b[0m\n",
      "\u001b[32m[I 2022-04-25 14:56:08,951]\u001b[0m Trial 776 finished with value: 0.8779940119760479 and parameters: {'solver': 'liblinear', 'C': 4.543838128575459, 'max_iter': 82670}. Best is trial 133 with value: 0.8809880239520959.\u001b[0m\n",
      "\u001b[32m[I 2022-04-25 14:56:09,385]\u001b[0m Trial 777 finished with value: 0.8787425149700598 and parameters: {'solver': 'liblinear', 'C': 5.297666402887992, 'max_iter': 86038}. Best is trial 133 with value: 0.8809880239520959.\u001b[0m\n",
      "\u001b[32m[I 2022-04-25 14:56:15,428]\u001b[0m Trial 778 finished with value: 0.8727544910179641 and parameters: {'solver': 'newton-cg', 'C': 6.048773991401828, 'max_iter': 81945}. Best is trial 133 with value: 0.8809880239520959.\u001b[0m\n",
      "\u001b[32m[I 2022-04-25 14:56:15,933]\u001b[0m Trial 779 finished with value: 0.8794910179640718 and parameters: {'solver': 'liblinear', 'C': 8.23793910059683, 'max_iter': 46027}. Best is trial 133 with value: 0.8809880239520959.\u001b[0m\n",
      "\u001b[32m[I 2022-04-25 14:56:16,372]\u001b[0m Trial 780 finished with value: 0.8809880239520959 and parameters: {'solver': 'liblinear', 'C': 6.634788278973356, 'max_iter': 72018}. Best is trial 133 with value: 0.8809880239520959.\u001b[0m\n",
      "\u001b[32m[I 2022-04-25 14:56:16,802]\u001b[0m Trial 781 finished with value: 0.8772455089820359 and parameters: {'solver': 'liblinear', 'C': 4.754614901943491, 'max_iter': 80396}. Best is trial 133 with value: 0.8809880239520959.\u001b[0m\n",
      "\u001b[32m[I 2022-04-25 14:56:17,218]\u001b[0m Trial 782 finished with value: 0.8720059880239521 and parameters: {'solver': 'liblinear', 'C': 2.2483163137267894, 'max_iter': 93137}. Best is trial 133 with value: 0.8809880239520959.\u001b[0m\n"
     ]
    },
    {
     "name": "stderr",
     "output_type": "stream",
     "text": [
      "\u001b[32m[I 2022-04-25 14:56:17,641]\u001b[0m Trial 783 finished with value: 0.8787425149700598 and parameters: {'solver': 'liblinear', 'C': 3.4045516275020766, 'max_iter': 64866}. Best is trial 133 with value: 0.8809880239520959.\u001b[0m\n",
      "\u001b[32m[I 2022-04-25 14:58:19,946]\u001b[0m Trial 784 finished with value: 0.8682634730538922 and parameters: {'solver': 'sag', 'C': 9.884012708011907, 'max_iter': 82927}. Best is trial 133 with value: 0.8809880239520959.\u001b[0m\n",
      "\u001b[32m[I 2022-04-25 14:58:20,416]\u001b[0m Trial 785 finished with value: 0.8794910179640718 and parameters: {'solver': 'liblinear', 'C': 8.236769219063502, 'max_iter': 88869}. Best is trial 133 with value: 0.8809880239520959.\u001b[0m\n",
      "\u001b[32m[I 2022-04-25 14:58:20,855]\u001b[0m Trial 786 finished with value: 0.8787425149700598 and parameters: {'solver': 'liblinear', 'C': 5.89644478416468, 'max_iter': 91184}. Best is trial 133 with value: 0.8809880239520959.\u001b[0m\n",
      "\u001b[32m[I 2022-04-25 14:58:21,285]\u001b[0m Trial 787 finished with value: 0.8787425149700598 and parameters: {'solver': 'liblinear', 'C': 4.425670563068586, 'max_iter': 76997}. Best is trial 133 with value: 0.8809880239520959.\u001b[0m\n",
      "\u001b[32m[I 2022-04-25 14:58:21,722]\u001b[0m Trial 788 finished with value: 0.8809880239520959 and parameters: {'solver': 'liblinear', 'C': 6.604075554146156, 'max_iter': 62177}. Best is trial 133 with value: 0.8809880239520959.\u001b[0m\n",
      "\u001b[32m[I 2022-04-25 14:58:22,158]\u001b[0m Trial 789 finished with value: 0.8787425149700598 and parameters: {'solver': 'liblinear', 'C': 5.582449045054488, 'max_iter': 79103}. Best is trial 133 with value: 0.8809880239520959.\u001b[0m\n",
      "\u001b[32m[I 2022-04-25 14:58:22,602]\u001b[0m Trial 790 finished with value: 0.8809880239520959 and parameters: {'solver': 'liblinear', 'C': 6.978013561538761, 'max_iter': 61074}. Best is trial 133 with value: 0.8809880239520959.\u001b[0m\n",
      "\u001b[32m[I 2022-04-25 14:58:23,050]\u001b[0m Trial 791 finished with value: 0.8787425149700598 and parameters: {'solver': 'liblinear', 'C': 9.920063097790194, 'max_iter': 87692}. Best is trial 133 with value: 0.8809880239520959.\u001b[0m\n",
      "\u001b[32m[I 2022-04-25 14:58:23,495]\u001b[0m Trial 792 finished with value: 0.8794910179640718 and parameters: {'solver': 'liblinear', 'C': 7.81319082628228, 'max_iter': 86247}. Best is trial 133 with value: 0.8809880239520959.\u001b[0m\n",
      "\u001b[32m[I 2022-04-25 14:58:23,935]\u001b[0m Trial 793 finished with value: 0.8809880239520959 and parameters: {'solver': 'liblinear', 'C': 6.95743970132385, 'max_iter': 69290}. Best is trial 133 with value: 0.8809880239520959.\u001b[0m\n",
      "\u001b[32m[I 2022-04-25 14:58:24,373]\u001b[0m Trial 794 finished with value: 0.8809880239520959 and parameters: {'solver': 'liblinear', 'C': 6.7101034566721625, 'max_iter': 65765}. Best is trial 133 with value: 0.8809880239520959.\u001b[0m\n",
      "\u001b[32m[I 2022-04-25 14:58:24,817]\u001b[0m Trial 795 finished with value: 0.8794910179640718 and parameters: {'solver': 'liblinear', 'C': 8.193451600534635, 'max_iter': 67191}. Best is trial 133 with value: 0.8809880239520959.\u001b[0m\n",
      "\u001b[32m[I 2022-04-25 14:58:25,242]\u001b[0m Trial 796 finished with value: 0.8779940119760479 and parameters: {'solver': 'liblinear', 'C': 3.9228914872127483, 'max_iter': 61483}. Best is trial 133 with value: 0.8809880239520959.\u001b[0m\n",
      "\u001b[32m[I 2022-04-25 14:58:53,605]\u001b[0m Trial 797 finished with value: 0.8682634730538922 and parameters: {'solver': 'saga', 'C': 9.915769872516604, 'max_iter': 78998}. Best is trial 133 with value: 0.8809880239520959.\u001b[0m\n",
      "\u001b[32m[I 2022-04-25 14:58:54,047]\u001b[0m Trial 798 finished with value: 0.8809880239520959 and parameters: {'solver': 'liblinear', 'C': 7.2474641244878235, 'max_iter': 87431}. Best is trial 133 with value: 0.8809880239520959.\u001b[0m\n",
      "\u001b[32m[I 2022-04-25 14:59:02,980]\u001b[0m Trial 799 finished with value: 0.874251497005988 and parameters: {'solver': 'lbfgs', 'C': 4.976691002112969, 'max_iter': 80602}. Best is trial 133 with value: 0.8809880239520959.\u001b[0m\n",
      "\u001b[32m[I 2022-04-25 14:59:03,487]\u001b[0m Trial 800 finished with value: 0.8787425149700598 and parameters: {'solver': 'liblinear', 'C': 5.4809047872200125, 'max_iter': 57576}. Best is trial 133 with value: 0.8809880239520959.\u001b[0m\n",
      "\u001b[32m[I 2022-04-25 14:59:03,932]\u001b[0m Trial 801 finished with value: 0.8794910179640718 and parameters: {'solver': 'liblinear', 'C': 8.255895011896914, 'max_iter': 77846}. Best is trial 133 with value: 0.8809880239520959.\u001b[0m\n",
      "\u001b[32m[I 2022-04-25 14:59:04,359]\u001b[0m Trial 802 finished with value: 0.8772455089820359 and parameters: {'solver': 'liblinear', 'C': 4.871412220505075, 'max_iter': 79703}. Best is trial 133 with value: 0.8809880239520959.\u001b[0m\n",
      "\u001b[32m[I 2022-04-25 14:59:04,802]\u001b[0m Trial 803 finished with value: 0.8794910179640718 and parameters: {'solver': 'liblinear', 'C': 8.008010333280687, 'max_iter': 99236}. Best is trial 133 with value: 0.8809880239520959.\u001b[0m\n",
      "\u001b[32m[I 2022-04-25 14:59:05,243]\u001b[0m Trial 804 finished with value: 0.8802395209580839 and parameters: {'solver': 'liblinear', 'C': 6.507211673117925, 'max_iter': 53249}. Best is trial 133 with value: 0.8809880239520959.\u001b[0m\n",
      "\u001b[32m[I 2022-04-25 14:59:05,691]\u001b[0m Trial 805 finished with value: 0.8787425149700598 and parameters: {'solver': 'liblinear', 'C': 9.86921335431723, 'max_iter': 85757}. Best is trial 133 with value: 0.8809880239520959.\u001b[0m\n",
      "\u001b[32m[I 2022-04-25 14:59:06,115]\u001b[0m Trial 806 finished with value: 0.874251497005988 and parameters: {'solver': 'liblinear', 'C': 2.8139786177374124, 'max_iter': 73080}. Best is trial 133 with value: 0.8809880239520959.\u001b[0m\n",
      "\u001b[32m[I 2022-04-25 14:59:06,562]\u001b[0m Trial 807 finished with value: 0.8787425149700598 and parameters: {'solver': 'liblinear', 'C': 9.909952972538385, 'max_iter': 95391}. Best is trial 133 with value: 0.8809880239520959.\u001b[0m\n",
      "\u001b[32m[I 2022-04-25 14:59:06,958]\u001b[0m Trial 808 finished with value: 0.812125748502994 and parameters: {'solver': 'liblinear', 'C': 0.26861276775648457, 'max_iter': 89900}. Best is trial 133 with value: 0.8809880239520959.\u001b[0m\n",
      "\u001b[32m[I 2022-04-25 14:59:07,322]\u001b[0m Trial 809 finished with value: 0.42065868263473055 and parameters: {'solver': 'liblinear', 'C': 0.0002879929479114248, 'max_iter': 92495}. Best is trial 133 with value: 0.8809880239520959.\u001b[0m\n",
      "\u001b[32m[I 2022-04-25 14:59:07,762]\u001b[0m Trial 810 finished with value: 0.8787425149700598 and parameters: {'solver': 'liblinear', 'C': 5.894180064936969, 'max_iter': 89878}. Best is trial 133 with value: 0.8809880239520959.\u001b[0m\n",
      "\u001b[32m[I 2022-04-25 14:59:14,106]\u001b[0m Trial 811 finished with value: 0.8682634730538922 and parameters: {'solver': 'newton-cg', 'C': 9.931306126088925, 'max_iter': 90896}. Best is trial 133 with value: 0.8809880239520959.\u001b[0m\n",
      "\u001b[32m[I 2022-04-25 14:59:14,587]\u001b[0m Trial 812 finished with value: 0.8794910179640718 and parameters: {'solver': 'liblinear', 'C': 3.770205875656778, 'max_iter': 70612}. Best is trial 133 with value: 0.8809880239520959.\u001b[0m\n",
      "\u001b[32m[I 2022-04-25 14:59:15,019]\u001b[0m Trial 813 finished with value: 0.8772455089820359 and parameters: {'solver': 'liblinear', 'C': 4.819022999728867, 'max_iter': 78104}. Best is trial 133 with value: 0.8809880239520959.\u001b[0m\n",
      "\u001b[32m[I 2022-04-25 14:59:15,457]\u001b[0m Trial 814 finished with value: 0.8809880239520959 and parameters: {'solver': 'liblinear', 'C': 6.576638293715819, 'max_iter': 98599}. Best is trial 133 with value: 0.8809880239520959.\u001b[0m\n",
      "\u001b[32m[I 2022-04-25 14:59:15,894]\u001b[0m Trial 815 finished with value: 0.8787425149700598 and parameters: {'solver': 'liblinear', 'C': 6.218587225750051, 'max_iter': 62849}. Best is trial 133 with value: 0.8809880239520959.\u001b[0m\n",
      "\u001b[32m[I 2022-04-25 14:59:16,322]\u001b[0m Trial 816 finished with value: 0.8779940119760479 and parameters: {'solver': 'liblinear', 'C': 4.125986936733641, 'max_iter': 98451}. Best is trial 133 with value: 0.8809880239520959.\u001b[0m\n",
      "\u001b[32m[I 2022-04-25 15:01:26,169]\u001b[0m Trial 817 finished with value: 0.8727544910179641 and parameters: {'solver': 'sag', 'C': 7.977732988947465, 'max_iter': 70834}. Best is trial 133 with value: 0.8809880239520959.\u001b[0m\n",
      "\u001b[32m[I 2022-04-25 15:01:26,648]\u001b[0m Trial 818 finished with value: 0.8794910179640718 and parameters: {'solver': 'liblinear', 'C': 9.995005440899954, 'max_iter': 93986}. Best is trial 133 with value: 0.8809880239520959.\u001b[0m\n",
      "\u001b[32m[I 2022-04-25 15:01:27,082]\u001b[0m Trial 819 finished with value: 0.8787425149700598 and parameters: {'solver': 'liblinear', 'C': 5.4449618576447705, 'max_iter': 59555}. Best is trial 133 with value: 0.8809880239520959.\u001b[0m\n"
     ]
    },
    {
     "name": "stderr",
     "output_type": "stream",
     "text": [
      "\u001b[32m[I 2022-04-25 15:01:27,525]\u001b[0m Trial 820 finished with value: 0.8809880239520959 and parameters: {'solver': 'liblinear', 'C': 6.982100719387145, 'max_iter': 64822}. Best is trial 133 with value: 0.8809880239520959.\u001b[0m\n",
      "\u001b[32m[I 2022-04-25 15:01:27,974]\u001b[0m Trial 821 finished with value: 0.8794910179640718 and parameters: {'solver': 'liblinear', 'C': 8.332633540445691, 'max_iter': 83278}. Best is trial 133 with value: 0.8809880239520959.\u001b[0m\n",
      "\u001b[32m[I 2022-04-25 15:01:28,400]\u001b[0m Trial 822 finished with value: 0.8772455089820359 and parameters: {'solver': 'liblinear', 'C': 4.764177749973781, 'max_iter': 83607}. Best is trial 133 with value: 0.8809880239520959.\u001b[0m\n",
      "\u001b[32m[I 2022-04-25 15:01:28,847]\u001b[0m Trial 823 finished with value: 0.8794910179640718 and parameters: {'solver': 'liblinear', 'C': 7.604848802044105, 'max_iter': 97186}. Best is trial 133 with value: 0.8809880239520959.\u001b[0m\n",
      "\u001b[32m[I 2022-04-25 15:01:29,292]\u001b[0m Trial 824 finished with value: 0.8809880239520959 and parameters: {'solver': 'liblinear', 'C': 6.842163300963173, 'max_iter': 95785}. Best is trial 133 with value: 0.8809880239520959.\u001b[0m\n",
      "\u001b[32m[I 2022-04-25 15:01:29,718]\u001b[0m Trial 825 finished with value: 0.8794910179640718 and parameters: {'solver': 'liblinear', 'C': 3.6232894183161926, 'max_iter': 80842}. Best is trial 133 with value: 0.8809880239520959.\u001b[0m\n",
      "\u001b[32m[I 2022-04-25 15:01:30,150]\u001b[0m Trial 826 finished with value: 0.8772455089820359 and parameters: {'solver': 'liblinear', 'C': 4.855067604356901, 'max_iter': 50137}. Best is trial 133 with value: 0.8809880239520959.\u001b[0m\n",
      "\u001b[32m[I 2022-04-25 15:01:44,404]\u001b[0m Trial 827 finished with value: 0.875 and parameters: {'solver': 'saga', 'C': 3.089788032845214, 'max_iter': 88825}. Best is trial 133 with value: 0.8809880239520959.\u001b[0m\n",
      "\u001b[32m[I 2022-04-25 15:01:44,794]\u001b[0m Trial 828 finished with value: 0.7215568862275449 and parameters: {'solver': 'liblinear', 'C': 0.009210194601873329, 'max_iter': 88443}. Best is trial 133 with value: 0.8809880239520959.\u001b[0m\n",
      "\u001b[32m[I 2022-04-25 15:01:45,242]\u001b[0m Trial 829 finished with value: 0.8794910179640718 and parameters: {'solver': 'liblinear', 'C': 8.24158023763044, 'max_iter': 65750}. Best is trial 133 with value: 0.8809880239520959.\u001b[0m\n",
      "\u001b[32m[I 2022-04-25 15:01:56,484]\u001b[0m Trial 830 finished with value: 0.8682634730538922 and parameters: {'solver': 'lbfgs', 'C': 9.843275603769246, 'max_iter': 62933}. Best is trial 133 with value: 0.8809880239520959.\u001b[0m\n",
      "\u001b[32m[I 2022-04-25 15:01:56,992]\u001b[0m Trial 831 finished with value: 0.8787425149700598 and parameters: {'solver': 'liblinear', 'C': 5.878591205048512, 'max_iter': 74445}. Best is trial 133 with value: 0.8809880239520959.\u001b[0m\n",
      "\u001b[32m[I 2022-04-25 15:01:57,429]\u001b[0m Trial 832 finished with value: 0.8787425149700598 and parameters: {'solver': 'liblinear', 'C': 6.0738265804512235, 'max_iter': 93170}. Best is trial 133 with value: 0.8809880239520959.\u001b[0m\n",
      "\u001b[32m[I 2022-04-25 15:01:57,877]\u001b[0m Trial 833 finished with value: 0.8787425149700598 and parameters: {'solver': 'liblinear', 'C': 9.95787659388295, 'max_iter': 85187}. Best is trial 133 with value: 0.8809880239520959.\u001b[0m\n",
      "\u001b[32m[I 2022-04-25 15:01:58,322]\u001b[0m Trial 834 finished with value: 0.8794910179640718 and parameters: {'solver': 'liblinear', 'C': 8.313790062492751, 'max_iter': 84623}. Best is trial 133 with value: 0.8809880239520959.\u001b[0m\n",
      "\u001b[32m[I 2022-04-25 15:01:58,755]\u001b[0m Trial 835 finished with value: 0.8787425149700598 and parameters: {'solver': 'liblinear', 'C': 5.174375301612434, 'max_iter': 75194}. Best is trial 133 with value: 0.8809880239520959.\u001b[0m\n",
      "\u001b[32m[I 2022-04-25 15:01:59,200]\u001b[0m Trial 836 finished with value: 0.8794910179640718 and parameters: {'solver': 'liblinear', 'C': 7.391175701971387, 'max_iter': 93456}. Best is trial 133 with value: 0.8809880239520959.\u001b[0m\n",
      "\u001b[32m[I 2022-04-25 15:01:59,645]\u001b[0m Trial 837 finished with value: 0.8794910179640718 and parameters: {'solver': 'liblinear', 'C': 7.960297606242527, 'max_iter': 67588}. Best is trial 133 with value: 0.8809880239520959.\u001b[0m\n",
      "\u001b[32m[I 2022-04-25 15:02:00,012]\u001b[0m Trial 838 finished with value: 0.5845808383233533 and parameters: {'solver': 'liblinear', 'C': 0.002251701315391046, 'max_iter': 76369}. Best is trial 133 with value: 0.8809880239520959.\u001b[0m\n",
      "\u001b[32m[I 2022-04-25 15:02:00,444]\u001b[0m Trial 839 finished with value: 0.8787425149700598 and parameters: {'solver': 'liblinear', 'C': 4.44769380734344, 'max_iter': 72320}. Best is trial 133 with value: 0.8809880239520959.\u001b[0m\n",
      "\u001b[32m[I 2022-04-25 15:02:00,883]\u001b[0m Trial 840 finished with value: 0.8787425149700598 and parameters: {'solver': 'liblinear', 'C': 6.1357315797883905, 'max_iter': 99605}. Best is trial 133 with value: 0.8809880239520959.\u001b[0m\n",
      "\u001b[32m[I 2022-04-25 15:02:08,331]\u001b[0m Trial 841 finished with value: 0.8712574850299402 and parameters: {'solver': 'newton-cg', 'C': 8.406361501125076, 'max_iter': 83548}. Best is trial 133 with value: 0.8809880239520959.\u001b[0m\n",
      "\u001b[32m[I 2022-04-25 15:02:54,483]\u001b[0m Trial 842 finished with value: 0.8735029940119761 and parameters: {'solver': 'sag', 'C': 5.164744371407594, 'max_iter': 86385}. Best is trial 133 with value: 0.8809880239520959.\u001b[0m\n",
      "\u001b[32m[I 2022-04-25 15:02:54,926]\u001b[0m Trial 843 finished with value: 0.8787425149700598 and parameters: {'solver': 'liblinear', 'C': 6.114113071164179, 'max_iter': 99996}. Best is trial 133 with value: 0.8809880239520959.\u001b[0m\n",
      "\u001b[32m[I 2022-04-25 15:02:55,370]\u001b[0m Trial 844 finished with value: 0.8809880239520959 and parameters: {'solver': 'liblinear', 'C': 6.951734485266263, 'max_iter': 98338}. Best is trial 133 with value: 0.8809880239520959.\u001b[0m\n",
      "\u001b[32m[I 2022-04-25 15:02:55,798]\u001b[0m Trial 845 finished with value: 0.8779940119760479 and parameters: {'solver': 'liblinear', 'C': 4.056493960325056, 'max_iter': 76982}. Best is trial 133 with value: 0.8809880239520959.\u001b[0m\n",
      "\u001b[32m[I 2022-04-25 15:02:56,234]\u001b[0m Trial 846 finished with value: 0.8787425149700598 and parameters: {'solver': 'liblinear', 'C': 6.3891514975752015, 'max_iter': 87398}. Best is trial 133 with value: 0.8809880239520959.\u001b[0m\n",
      "\u001b[32m[I 2022-04-25 15:02:56,677]\u001b[0m Trial 847 finished with value: 0.8794910179640718 and parameters: {'solver': 'liblinear', 'C': 8.301464862108116, 'max_iter': 73990}. Best is trial 133 with value: 0.8809880239520959.\u001b[0m\n",
      "\u001b[32m[I 2022-04-25 15:02:57,055]\u001b[0m Trial 848 finished with value: 0.7567365269461078 and parameters: {'solver': 'liblinear', 'C': 0.046281149525145115, 'max_iter': 55502}. Best is trial 133 with value: 0.8809880239520959.\u001b[0m\n",
      "\u001b[32m[I 2022-04-25 15:02:57,499]\u001b[0m Trial 849 finished with value: 0.8787425149700598 and parameters: {'solver': 'liblinear', 'C': 9.702682119666228, 'max_iter': 77020}. Best is trial 133 with value: 0.8809880239520959.\u001b[0m\n",
      "\u001b[32m[I 2022-04-25 15:02:57,926]\u001b[0m Trial 850 finished with value: 0.8787425149700598 and parameters: {'solver': 'liblinear', 'C': 4.342649523061732, 'max_iter': 70968}. Best is trial 133 with value: 0.8809880239520959.\u001b[0m\n",
      "\u001b[32m[I 2022-04-25 15:02:58,367]\u001b[0m Trial 851 finished with value: 0.8809880239520959 and parameters: {'solver': 'liblinear', 'C': 7.004727649948693, 'max_iter': 81215}. Best is trial 133 with value: 0.8809880239520959.\u001b[0m\n",
      "\u001b[32m[I 2022-04-25 15:02:58,802]\u001b[0m Trial 852 finished with value: 0.8787425149700598 and parameters: {'solver': 'liblinear', 'C': 5.1989544705343524, 'max_iter': 82083}. Best is trial 133 with value: 0.8809880239520959.\u001b[0m\n",
      "\u001b[32m[I 2022-04-25 15:02:59,225]\u001b[0m Trial 853 finished with value: 0.8794910179640718 and parameters: {'solver': 'liblinear', 'C': 3.5471226473439916, 'max_iter': 60156}. Best is trial 133 with value: 0.8809880239520959.\u001b[0m\n",
      "\u001b[32m[I 2022-04-25 15:02:59,674]\u001b[0m Trial 854 finished with value: 0.8787425149700598 and parameters: {'solver': 'liblinear', 'C': 9.893147596774709, 'max_iter': 81054}. Best is trial 133 with value: 0.8809880239520959.\u001b[0m\n",
      "\u001b[32m[I 2022-04-25 15:03:30,122]\u001b[0m Trial 855 finished with value: 0.8682634730538922 and parameters: {'solver': 'saga', 'C': 9.931851520324214, 'max_iter': 81700}. Best is trial 133 with value: 0.8809880239520959.\u001b[0m\n",
      "\u001b[32m[I 2022-04-25 15:03:30,555]\u001b[0m Trial 856 finished with value: 0.8600299401197605 and parameters: {'solver': 'liblinear', 'C': 1.0594640301430511, 'max_iter': 64288}. Best is trial 133 with value: 0.8809880239520959.\u001b[0m\n"
     ]
    },
    {
     "name": "stderr",
     "output_type": "stream",
     "text": [
      "\u001b[32m[I 2022-04-25 15:03:30,993]\u001b[0m Trial 857 finished with value: 0.8787425149700598 and parameters: {'solver': 'liblinear', 'C': 6.2802360449891514, 'max_iter': 95735}. Best is trial 133 with value: 0.8809880239520959.\u001b[0m\n",
      "\u001b[32m[I 2022-04-25 15:03:31,435]\u001b[0m Trial 858 finished with value: 0.8809880239520959 and parameters: {'solver': 'liblinear', 'C': 6.734624722900572, 'max_iter': 64618}. Best is trial 133 with value: 0.8809880239520959.\u001b[0m\n",
      "\u001b[32m[I 2022-04-25 15:03:31,883]\u001b[0m Trial 859 finished with value: 0.8787425149700598 and parameters: {'solver': 'liblinear', 'C': 9.942610200416967, 'max_iter': 85537}. Best is trial 133 with value: 0.8809880239520959.\u001b[0m\n",
      "\u001b[32m[I 2022-04-25 15:03:40,857]\u001b[0m Trial 860 finished with value: 0.8735029940119761 and parameters: {'solver': 'lbfgs', 'C': 5.126875528657002, 'max_iter': 87493}. Best is trial 133 with value: 0.8809880239520959.\u001b[0m\n",
      "\u001b[32m[I 2022-04-25 15:03:41,384]\u001b[0m Trial 861 finished with value: 0.8794910179640718 and parameters: {'solver': 'liblinear', 'C': 7.566829244136376, 'max_iter': 65669}. Best is trial 133 with value: 0.8809880239520959.\u001b[0m\n",
      "\u001b[32m[I 2022-04-25 15:03:41,832]\u001b[0m Trial 862 finished with value: 0.8794910179640718 and parameters: {'solver': 'liblinear', 'C': 7.444989484241144, 'max_iter': 95010}. Best is trial 133 with value: 0.8809880239520959.\u001b[0m\n",
      "\u001b[32m[I 2022-04-25 15:03:42,283]\u001b[0m Trial 863 finished with value: 0.8794910179640718 and parameters: {'solver': 'liblinear', 'C': 9.98425110737051, 'max_iter': 82002}. Best is trial 133 with value: 0.8809880239520959.\u001b[0m\n",
      "\u001b[32m[I 2022-04-25 15:03:42,709]\u001b[0m Trial 864 finished with value: 0.8787425149700598 and parameters: {'solver': 'liblinear', 'C': 4.203271483041377, 'max_iter': 68490}. Best is trial 133 with value: 0.8809880239520959.\u001b[0m\n",
      "\u001b[32m[I 2022-04-25 15:03:43,144]\u001b[0m Trial 865 finished with value: 0.8787425149700598 and parameters: {'solver': 'liblinear', 'C': 5.493336428125981, 'max_iter': 80729}. Best is trial 133 with value: 0.8809880239520959.\u001b[0m\n",
      "\u001b[32m[I 2022-04-25 15:03:43,581]\u001b[0m Trial 866 finished with value: 0.8779940119760479 and parameters: {'solver': 'liblinear', 'C': 5.6316461174806065, 'max_iter': 73039}. Best is trial 133 with value: 0.8809880239520959.\u001b[0m\n",
      "\u001b[32m[I 2022-04-25 15:03:44,015]\u001b[0m Trial 867 finished with value: 0.8787425149700598 and parameters: {'solver': 'liblinear', 'C': 5.44315288644217, 'max_iter': 86760}. Best is trial 133 with value: 0.8809880239520959.\u001b[0m\n",
      "\u001b[32m[I 2022-04-25 15:03:44,463]\u001b[0m Trial 868 finished with value: 0.8787425149700598 and parameters: {'solver': 'liblinear', 'C': 9.950712256345613, 'max_iter': 94491}. Best is trial 133 with value: 0.8809880239520959.\u001b[0m\n",
      "\u001b[32m[I 2022-04-25 15:03:44,904]\u001b[0m Trial 869 finished with value: 0.8809880239520959 and parameters: {'solver': 'liblinear', 'C': 7.176798891663014, 'max_iter': 94432}. Best is trial 133 with value: 0.8809880239520959.\u001b[0m\n",
      "\u001b[32m[I 2022-04-25 15:03:45,347]\u001b[0m Trial 870 finished with value: 0.8802395209580839 and parameters: {'solver': 'liblinear', 'C': 8.457816005039364, 'max_iter': 88879}. Best is trial 133 with value: 0.8809880239520959.\u001b[0m\n",
      "\u001b[32m[I 2022-04-25 15:03:45,727]\u001b[0m Trial 871 finished with value: 0.7529940119760479 and parameters: {'solver': 'liblinear', 'C': 0.02702524222907867, 'max_iter': 91949}. Best is trial 133 with value: 0.8809880239520959.\u001b[0m\n",
      "\u001b[32m[I 2022-04-25 15:03:50,885]\u001b[0m Trial 872 finished with value: 0.8735029940119761 and parameters: {'solver': 'newton-cg', 'C': 3.2335587908661445, 'max_iter': 68104}. Best is trial 133 with value: 0.8809880239520959.\u001b[0m\n",
      "\u001b[32m[I 2022-04-25 15:03:51,392]\u001b[0m Trial 873 finished with value: 0.8794910179640718 and parameters: {'solver': 'liblinear', 'C': 7.3286603021868215, 'max_iter': 69236}. Best is trial 133 with value: 0.8809880239520959.\u001b[0m\n",
      "\u001b[32m[I 2022-04-25 15:03:51,821]\u001b[0m Trial 874 finished with value: 0.8787425149700598 and parameters: {'solver': 'liblinear', 'C': 4.485778164643829, 'max_iter': 82295}. Best is trial 133 with value: 0.8809880239520959.\u001b[0m\n",
      "\u001b[32m[I 2022-04-25 15:03:52,219]\u001b[0m Trial 875 finished with value: 0.8308383233532934 and parameters: {'solver': 'liblinear', 'C': 0.4286479298958323, 'max_iter': 75789}. Best is trial 133 with value: 0.8809880239520959.\u001b[0m\n",
      "\u001b[32m[I 2022-04-25 15:03:52,668]\u001b[0m Trial 876 finished with value: 0.8794910179640718 and parameters: {'solver': 'liblinear', 'C': 8.233937855730229, 'max_iter': 86582}. Best is trial 133 with value: 0.8809880239520959.\u001b[0m\n",
      "\u001b[32m[I 2022-04-25 15:03:53,105]\u001b[0m Trial 877 finished with value: 0.8787425149700598 and parameters: {'solver': 'liblinear', 'C': 6.2434424333235095, 'max_iter': 62525}. Best is trial 133 with value: 0.8809880239520959.\u001b[0m\n",
      "\u001b[32m[I 2022-04-25 15:04:33,877]\u001b[0m Trial 878 finished with value: 0.874251497005988 and parameters: {'solver': 'sag', 'C': 3.9298807641883973, 'max_iter': 79432}. Best is trial 133 with value: 0.8809880239520959.\u001b[0m\n"
     ]
    },
    {
     "name": "stdout",
     "output_type": "stream",
     "text": [
      "params: {'solver': 'liblinear', 'C': 7.121206744012977, 'max_iter': 81135}\n"
     ]
    }
   ],
   "source": [
    "# ハイパーパラメータの探索\n",
    "objective = Objective(X_train, train['CATEGORY'])\n",
    "study = optuna.create_study(direction='maximize') # 最大化\n",
    "study.optimize(objective, timeout=3600)\n",
    "\n",
    "# ベストパラメータを出力\n",
    "print('params:', study.best_params)"
   ]
  },
  {
   "cell_type": "code",
   "execution_count": 35,
   "id": "80cd71e9",
   "metadata": {},
   "outputs": [],
   "source": [
    "solver = study.best_params['solver']\n",
    "C = study.best_params['C']\n",
    "max_iter = study.best_params['max_iter']"
   ]
  },
  {
   "cell_type": "code",
   "execution_count": 36,
   "id": "4dbf6f6d",
   "metadata": {},
   "outputs": [
    {
     "data": {
      "text/plain": [
       "LogisticRegression(C=7.121206744012977, max_iter=81135, random_state=123,\n",
       "                   solver='liblinear')"
      ]
     },
     "execution_count": 36,
     "metadata": {},
     "output_type": "execute_result"
    }
   ],
   "source": [
    "lg = LogisticRegression(random_state=123, max_iter=max_iter, C=C, solver=solver)\n",
    "lg.fit(X_train, train['CATEGORY'])"
   ]
  },
  {
   "cell_type": "code",
   "execution_count": 37,
   "id": "e1c2514e",
   "metadata": {},
   "outputs": [],
   "source": [
    "train_pred = score_lg(lg, X_train)\n",
    "valid_pred = score_lg(lg, X_valid)\n",
    "test_pred = score_lg(lg, X_test)\n",
    "\n",
    "acc_train = accuracy_score(y_true=train['CATEGORY'], y_pred=train_pred[1])\n",
    "acc_valid = accuracy_score(y_true=valid['CATEGORY'], y_pred=valid_pred[1])\n",
    "acc_test = accuracy_score(y_true=test['CATEGORY'], y_pred=test_pred[1])"
   ]
  },
  {
   "cell_type": "code",
   "execution_count": 38,
   "id": "ee8068e6",
   "metadata": {},
   "outputs": [
    {
     "data": {
      "text/plain": [
       "0.9425308873081243"
      ]
     },
     "execution_count": 38,
     "metadata": {},
     "output_type": "execute_result"
    }
   ],
   "source": [
    "acc_t"
   ]
  },
  {
   "cell_type": "code",
   "execution_count": null,
   "id": "8dd2229f",
   "metadata": {},
   "outputs": [],
   "source": [
    "print('正解率(訓練データ) : ',accuracy_score(y_true=Y_train, y_pred=Y_train_pred))"
   ]
  }
 ],
 "metadata": {
  "kernelspec": {
   "display_name": "Python 3",
   "language": "python",
   "name": "python3"
  },
  "language_info": {
   "codemirror_mode": {
    "name": "ipython",
    "version": 3
   },
   "file_extension": ".py",
   "mimetype": "text/x-python",
   "name": "python",
   "nbconvert_exporter": "python",
   "pygments_lexer": "ipython3",
   "version": "3.8.10"
  }
 },
 "nbformat": 4,
 "nbformat_minor": 5
}
