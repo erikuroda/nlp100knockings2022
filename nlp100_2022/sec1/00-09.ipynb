{
 "cells": [
  {
   "cell_type": "markdown",
   "id": "c9dad4cf",
   "metadata": {},
   "source": [
    "# 第1章: 準備運動"
   ]
  },
  {
   "cell_type": "markdown",
   "id": "decf52fd",
   "metadata": {},
   "source": [
    "## 00"
   ]
  },
  {
   "cell_type": "code",
   "execution_count": 4,
   "id": "61b87261",
   "metadata": {},
   "outputs": [
    {
     "data": {
      "text/plain": [
       "'desserts'"
      ]
     },
     "execution_count": 4,
     "metadata": {},
     "output_type": "execute_result"
    }
   ],
   "source": [
    "str1 = 'stressed'\n",
    "str2 = str1[::-1]\n",
    "str2"
   ]
  },
  {
   "cell_type": "markdown",
   "id": "de578058",
   "metadata": {},
   "source": [
    "## 01"
   ]
  },
  {
   "cell_type": "code",
   "execution_count": 5,
   "id": "67f7d766",
   "metadata": {},
   "outputs": [
    {
     "data": {
      "text/plain": [
       "'パトカー'"
      ]
     },
     "execution_count": 5,
     "metadata": {},
     "output_type": "execute_result"
    }
   ],
   "source": [
    "str1 = 'パタトクカシーー'\n",
    "str2 = str1[::2]\n",
    "str2"
   ]
  },
  {
   "cell_type": "markdown",
   "id": "86e6523b",
   "metadata": {},
   "source": [
    "## 02"
   ]
  },
  {
   "cell_type": "code",
   "execution_count": 6,
   "id": "9a1dc17c",
   "metadata": {},
   "outputs": [
    {
     "data": {
      "text/plain": [
       "'パタトクカシーー'"
      ]
     },
     "execution_count": 6,
     "metadata": {},
     "output_type": "execute_result"
    }
   ],
   "source": [
    "str1 = 'パトカー'\n",
    "str2 = 'タクシー'\n",
    "str3 = ''.join(i + j for i, j in zip(str1, str2))\n",
    "str3"
   ]
  },
  {
   "cell_type": "markdown",
   "id": "7ec62de1",
   "metadata": {},
   "source": [
    "## 03"
   ]
  },
  {
   "cell_type": "code",
   "execution_count": 14,
   "id": "5d576b66",
   "metadata": {},
   "outputs": [
    {
     "data": {
      "text/plain": [
       "[3, 1, 4, 1, 5, 9, 2, 6, 5, 3, 5, 8, 9, 7, 9]"
      ]
     },
     "execution_count": 14,
     "metadata": {},
     "output_type": "execute_result"
    }
   ],
   "source": [
    "str1 = 'Now I need a drink, alcoholic of course, after the heavy lectures involving quantum mechanics.'\n",
    "str1 = str1.replace(',', '').replace('.', '')\n",
    "line1 = str1.split()\n",
    "list1 = [len(word) for word in line1]\n",
    "list1"
   ]
  },
  {
   "cell_type": "markdown",
   "id": "d63b489f",
   "metadata": {},
   "source": [
    "## 04"
   ]
  },
  {
   "cell_type": "code",
   "execution_count": 1,
   "id": "089838a2",
   "metadata": {},
   "outputs": [
    {
     "data": {
      "text/plain": [
       "{'H': 1,\n",
       " 'He': 2,\n",
       " 'Li': 3,\n",
       " 'Be': 4,\n",
       " 'B': 5,\n",
       " 'C': 6,\n",
       " 'N': 7,\n",
       " 'O': 8,\n",
       " 'F': 9,\n",
       " 'Ne': 10,\n",
       " 'Na': 11,\n",
       " 'Mi': 12,\n",
       " 'Al': 13,\n",
       " 'Si': 14,\n",
       " 'P': 15,\n",
       " 'S': 16,\n",
       " 'Cl': 17,\n",
       " 'Ar': 18,\n",
       " 'K': 19,\n",
       " 'Ca': 20}"
      ]
     },
     "execution_count": 1,
     "metadata": {},
     "output_type": "execute_result"
    }
   ],
   "source": [
    "str1 = 'Hi He Lied Because Boron Could Not Oxidize Fluorine. New Nations Might Also Sign Peace Security Clause. Arthur King Can.'\n",
    "str1 = str1.replace(',', '').replace('.', '')\n",
    "line1 = str1.split()\n",
    "target = [1, 5, 6, 7, 8, 9, 15, 16, 19]\n",
    "dict1 = {}\n",
    "for i, word in enumerate(line1):\n",
    "    if i + 1 in target:\n",
    "        dict1[word[:1]] = i + 1\n",
    "    else:\n",
    "        dict1[word[:2]] = i + 1\n",
    "dict1     "
   ]
  },
  {
   "cell_type": "markdown",
   "id": "ef109a2a",
   "metadata": {},
   "source": [
    "## 05"
   ]
  },
  {
   "cell_type": "code",
   "execution_count": 15,
   "id": "3f66e889",
   "metadata": {},
   "outputs": [],
   "source": [
    "def ngram(n, target):\n",
    "    ngram = []\n",
    "    for i in range(len(target) - n + 1):\n",
    "        ngram.append(tuple(target[i : i + n]))\n",
    "    return ngram"
   ]
  },
  {
   "cell_type": "code",
   "execution_count": 19,
   "id": "b82b380d",
   "metadata": {},
   "outputs": [
    {
     "name": "stdout",
     "output_type": "stream",
     "text": [
      "単語bi-gram :  [('I', 'am'), ('am', 'an'), ('an', 'NLPer')]\n",
      "文字bi-gram :  [('I', ' '), (' ', 'a'), ('a', 'm'), ('m', ' '), (' ', 'a'), ('a', 'n'), ('n', ' '), (' ', 'N'), ('N', 'L'), ('L', 'P'), ('P', 'e'), ('e', 'r')]\n"
     ]
    }
   ],
   "source": [
    "str1 = 'I am an NLPer'\n",
    "print('単語bi-gram : ', ngram(2, str1.split()))\n",
    "print('文字bi-gram : ', ngram(2, str1))"
   ]
  },
  {
   "cell_type": "markdown",
   "id": "32a07120",
   "metadata": {},
   "source": [
    "## 06"
   ]
  },
  {
   "cell_type": "code",
   "execution_count": 26,
   "id": "7c21efe5",
   "metadata": {},
   "outputs": [
    {
     "name": "stdout",
     "output_type": "stream",
     "text": [
      "和集合 :  {('g', 'r'), ('d', 'i'), ('s', 'e'), ('a', 'r'), ('a', 'g'), ('p', 'h'), ('a', 'd'), ('p', 'a'), ('i', 's'), ('a', 'p'), ('r', 'a')}\n",
      "積集合 :  {('r', 'a'), ('a', 'p'), ('a', 'r'), ('p', 'a')}\n",
      "差集合X-Y :  {('d', 'i'), ('s', 'e'), ('a', 'd'), ('i', 's')}\n",
      "差集合Y-X :  {('g', 'r'), ('a', 'g'), ('p', 'h')}\n"
     ]
    }
   ],
   "source": [
    "str1 = 'paraparaparadise'\n",
    "str2 = 'paragraph'\n",
    "bigram1 = ngram(2, str1)\n",
    "bigram2 = ngram(2, str2)\n",
    "X = set(bigram1)\n",
    "Y = set(bigram2)\n",
    "print('和集合 : ', X | Y)\n",
    "print('積集合 : ', X & Y)\n",
    "print('差集合X-Y : ', X - Y)\n",
    "print('差集合Y-X : ', Y - X)"
   ]
  },
  {
   "cell_type": "markdown",
   "id": "93a26c5f",
   "metadata": {},
   "source": [
    "## 07"
   ]
  },
  {
   "cell_type": "code",
   "execution_count": 62,
   "id": "a82499f6",
   "metadata": {},
   "outputs": [],
   "source": [
    "def template(x, y, z):\n",
    "    print(f'{x}時の{y}は{z}')"
   ]
  },
  {
   "cell_type": "code",
   "execution_count": 63,
   "id": "48d7dc0c",
   "metadata": {},
   "outputs": [
    {
     "name": "stdout",
     "output_type": "stream",
     "text": [
      "12時の気温は22.4\n"
     ]
    }
   ],
   "source": [
    "template(x=12, y='気温', z=22.4)"
   ]
  },
  {
   "cell_type": "markdown",
   "id": "8157afe0",
   "metadata": {},
   "source": [
    "## 08"
   ]
  },
  {
   "cell_type": "code",
   "execution_count": 32,
   "id": "739409dc",
   "metadata": {},
   "outputs": [],
   "source": [
    "def cipher(target):\n",
    "    list1 = [chr(219 - ord(x)) if x.islower() else x for x in target]\n",
    "    return ''.join(list1)"
   ]
  },
  {
   "cell_type": "code",
   "execution_count": 35,
   "id": "94ee6344",
   "metadata": {},
   "outputs": [
    {
     "name": "stdout",
     "output_type": "stream",
     "text": [
      "暗号化 :  I zn z xzg\n",
      "復号化 :  I am a cat\n"
     ]
    }
   ],
   "source": [
    "str1 = 'I am a cat'\n",
    "print('暗号化 : ', cipher(str1))\n",
    "print('復号化 : ', cipher(cipher(str1)))"
   ]
  },
  {
   "cell_type": "markdown",
   "id": "0e912d7d",
   "metadata": {},
   "source": [
    "## 09"
   ]
  },
  {
   "cell_type": "code",
   "execution_count": 85,
   "id": "a2f731bb",
   "metadata": {},
   "outputs": [],
   "source": [
    "import random\n",
    "def typoglycemia(target):\n",
    "    list1 = target.split()\n",
    "    result = []\n",
    "    for word in list1:\n",
    "        if len(word) > 4:\n",
    "            word = word[:1] + ''.join(random.sample(word[1:-1], len(word) - 2)) + word[-1:]\n",
    "        result.append(word)\n",
    "    return ' '.join(result)"
   ]
  },
  {
   "cell_type": "code",
   "execution_count": 87,
   "id": "5aafc522",
   "metadata": {},
   "outputs": [
    {
     "name": "stdout",
     "output_type": "stream",
     "text": [
      "I cdnul’ot bveliee that I culod aclluaty utnrdsnaed what I was rainedg : the pnnoehaeml pweor of the huamn mind .\n"
     ]
    }
   ],
   "source": [
    "str1 = 'I couldn’t believe that I could actually understand what I was reading : the phenomenal power of the human mind .'\n",
    "print(typoglycemia(str1))"
   ]
  }
 ],
 "metadata": {
  "kernelspec": {
   "display_name": "Python 3",
   "language": "python",
   "name": "python3"
  },
  "language_info": {
   "codemirror_mode": {
    "name": "ipython",
    "version": 3
   },
   "file_extension": ".py",
   "mimetype": "text/x-python",
   "name": "python",
   "nbconvert_exporter": "python",
   "pygments_lexer": "ipython3",
   "version": "3.8.10"
  }
 },
 "nbformat": 4,
 "nbformat_minor": 5
}
