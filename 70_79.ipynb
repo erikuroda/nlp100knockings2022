{
  "nbformat": 4,
  "nbformat_minor": 0,
  "metadata": {
    "colab": {
      "name": "70-79.ipynb",
      "provenance": []
    },
    "kernelspec": {
      "name": "python3",
      "display_name": "Python 3"
    },
    "language_info": {
      "name": "python"
    },
    "accelerator": "GPU",
    "gpuClass": "standard"
  },
  "cells": [
    {
      "cell_type": "markdown",
      "source": [
        "# 第8章: ニューラルネット\n",
        "第6章で取り組んだニュース記事のカテゴリ分類を題材として，ニューラルネットワークでカテゴリ分類モデルを実装する．なお，この章ではPyTorch, TensorFlow, Chainerなどの機械学習プラットフォームを活用せよ．"
      ],
      "metadata": {
        "id": "S2Ghx4nZwxeN"
      }
    },
    {
      "cell_type": "markdown",
      "source": [
        "# 70. 単語ベクトルの和による特徴量\n",
        "問題50で構築した学習データ，検証データ，評価データを行列・ベクトルに変換したい．例えば，学習データについて，すべての事例xiの特徴ベクトルxiを並べた行列Xと，正解ラベルを並べた行列（ベクトル）Yを作成したい．"
      ],
      "metadata": {
        "id": "Czrd6_CDw9xO"
      }
    },
    {
      "cell_type": "code",
      "source": [
        "# データのダウンロード\n",
        "!wget https://archive.ics.uci.edu/ml/machine-learning-databases/00359/NewsAggregatorDataset.zip\n",
        "!unzip NewsAggregatorDataset.zip"
      ],
      "metadata": {
        "colab": {
          "base_uri": "https://localhost:8080/"
        },
        "id": "gy4AL5gvw9c4",
        "outputId": "89241b99-ee88-4c78-ed79-d2ebfda4c52f"
      },
      "execution_count": 1,
      "outputs": [
        {
          "output_type": "stream",
          "name": "stdout",
          "text": [
            "--2022-06-28 07:39:41--  https://archive.ics.uci.edu/ml/machine-learning-databases/00359/NewsAggregatorDataset.zip\n",
            "Resolving archive.ics.uci.edu (archive.ics.uci.edu)... 128.195.10.252\n",
            "Connecting to archive.ics.uci.edu (archive.ics.uci.edu)|128.195.10.252|:443... connected.\n",
            "HTTP request sent, awaiting response... 200 OK\n",
            "Length: 29224203 (28M) [application/x-httpd-php]\n",
            "Saving to: ‘NewsAggregatorDataset.zip’\n",
            "\n",
            "NewsAggregatorDatas 100%[===================>]  27.87M  32.9MB/s    in 0.8s    \n",
            "\n",
            "2022-06-28 07:39:42 (32.9 MB/s) - ‘NewsAggregatorDataset.zip’ saved [29224203/29224203]\n",
            "\n",
            "Archive:  NewsAggregatorDataset.zip\n",
            "  inflating: 2pageSessions.csv       \n",
            "   creating: __MACOSX/\n",
            "  inflating: __MACOSX/._2pageSessions.csv  \n",
            "  inflating: newsCorpora.csv         \n",
            "  inflating: __MACOSX/._newsCorpora.csv  \n",
            "  inflating: readme.txt              \n",
            "  inflating: __MACOSX/._readme.txt   \n"
          ]
        }
      ]
    },
    {
      "cell_type": "code",
      "execution_count": 2,
      "metadata": {
        "id": "FqsuTZ90vuqG"
      },
      "outputs": [],
      "source": [
        "# 読込時のエラー回避のためダブルクォーテーションをシングルクォーテーションに置換\n",
        "!sed -e 's/\"/'\\''/g' ./newsCorpora.csv > ./newsCorpora_re.csv"
      ]
    },
    {
      "cell_type": "code",
      "source": [
        "import pandas as pd\n",
        "from sklearn.model_selection import train_test_split\n",
        "\n",
        "# データの読込\n",
        "df = pd.read_csv('./newsCorpora_re.csv', header=None, sep='\\t', names=['ID', 'TITLE', 'URL', 'PUBLISHER', 'CATEGORY', 'STORY', 'HOSTNAME', 'TIMESTAMP'])\n",
        "\n",
        "# データの抽出\n",
        "df = df.loc[df['PUBLISHER'].isin(['Reuters', 'Huffington Post', 'Businessweek', 'Contactmusic.com', 'Daily Mail']), ['TITLE', 'CATEGORY']]\n",
        "\n",
        "# データの分割\n",
        "train, valid_test = train_test_split(df, test_size=0.2, shuffle=True, random_state=123, stratify=df['CATEGORY'])\n",
        "valid, test = train_test_split(valid_test, test_size=0.5, shuffle=True, random_state=123, stratify=valid_test['CATEGORY'])\n",
        "\n",
        "# 事例数の確認\n",
        "print('【学習データ】')\n",
        "print(train['CATEGORY'].value_counts())\n",
        "print('【検証データ】')\n",
        "print(valid['CATEGORY'].value_counts())\n",
        "print('【評価データ】')\n",
        "print(test['CATEGORY'].value_counts())"
      ],
      "metadata": {
        "colab": {
          "base_uri": "https://localhost:8080/"
        },
        "id": "Wl9xxSIexibo",
        "outputId": "86d7ea2f-44a0-43b0-abaf-cf928ae5f608"
      },
      "execution_count": 3,
      "outputs": [
        {
          "output_type": "stream",
          "name": "stdout",
          "text": [
            "【学習データ】\n",
            "b    4501\n",
            "e    4235\n",
            "t    1220\n",
            "m     728\n",
            "Name: CATEGORY, dtype: int64\n",
            "【検証データ】\n",
            "b    563\n",
            "e    529\n",
            "t    153\n",
            "m     91\n",
            "Name: CATEGORY, dtype: int64\n",
            "【評価データ】\n",
            "b    563\n",
            "e    530\n",
            "t    152\n",
            "m     91\n",
            "Name: CATEGORY, dtype: int64\n"
          ]
        }
      ]
    },
    {
      "cell_type": "code",
      "source": [
        "import gdown\n",
        "from gensim.models import KeyedVectors\n",
        "\n",
        "# 学習済み単語ベクトルのダウンロード\n",
        "url = \"https://drive.google.com/uc?id=0B7XkCwpI5KDYNlNUTTlSS21pQmM\"\n",
        "output = 'GoogleNews-vectors-negative300.bin.gz'\n",
        "gdown.download(url, output, quiet=True)\n",
        "\n",
        "# ダウンロードファイルのロード\n",
        "model = KeyedVectors.load_word2vec_format('GoogleNews-vectors-negative300.bin.gz', binary=True)"
      ],
      "metadata": {
        "id": "WLsIcNo5xlH-"
      },
      "execution_count": 5,
      "outputs": []
    },
    {
      "cell_type": "code",
      "source": [
        "import string\n",
        "import torch\n",
        "\n",
        "def transform_w2v(text):\n",
        "  table = str.maketrans(string.punctuation, ' '*len(string.punctuation))\n",
        "  words = text.translate(table).split()  # 記号をスペースに置換後、スペースで分割してリスト化\n",
        "  vec = [model[word] for word in words if word in model]  # 1語ずつベクトル化\n",
        "\n",
        "  return torch.tensor(sum(vec) / len(vec))  # 平均ベクトルをTensor型に変換して出力"
      ],
      "metadata": {
        "id": "r32CwE26yE5H"
      },
      "execution_count": 6,
      "outputs": []
    },
    {
      "cell_type": "code",
      "source": [
        "# 特徴ベクトルの作成\n",
        "X_train = torch.stack([transform_w2v(text) for text in train['TITLE']])\n",
        "X_valid = torch.stack([transform_w2v(text) for text in valid['TITLE']])\n",
        "X_test = torch.stack([transform_w2v(text) for text in test['TITLE']])\n",
        "\n",
        "print(X_train.size())\n",
        "print(X_train)"
      ],
      "metadata": {
        "colab": {
          "base_uri": "https://localhost:8080/"
        },
        "id": "bZpjn13gUdCq",
        "outputId": "56f58860-04f3-4723-b5ea-70d66f326bca"
      },
      "execution_count": 7,
      "outputs": [
        {
          "output_type": "stream",
          "name": "stdout",
          "text": [
            "torch.Size([10684, 300])\n",
            "tensor([[ 0.0837,  0.0056,  0.0068,  ...,  0.0751,  0.0433, -0.0868],\n",
            "        [ 0.0272,  0.0266, -0.0947,  ..., -0.1046, -0.0489, -0.0092],\n",
            "        [ 0.0577, -0.0159, -0.0780,  ..., -0.0421,  0.1229,  0.0876],\n",
            "        ...,\n",
            "        [ 0.0392, -0.0052,  0.0686,  ..., -0.0175,  0.0061, -0.0224],\n",
            "        [ 0.0798,  0.1017,  0.1066,  ..., -0.0752,  0.0623,  0.1138],\n",
            "        [ 0.1664,  0.0451,  0.0508,  ..., -0.0531, -0.0183, -0.0039]])\n"
          ]
        }
      ]
    },
    {
      "cell_type": "code",
      "source": [
        "# ラベルベクトルの作成\n",
        "category_dict = {'b': 0, 't': 1, 'e':2, 'm':3}\n",
        "y_train = torch.tensor(train['CATEGORY'].map(lambda x: category_dict[x]).values)\n",
        "y_valid = torch.tensor(valid['CATEGORY'].map(lambda x: category_dict[x]).values)\n",
        "y_test = torch.tensor(test['CATEGORY'].map(lambda x: category_dict[x]).values)\n",
        "\n",
        "print(y_train.size())\n",
        "print(y_train)"
      ],
      "metadata": {
        "colab": {
          "base_uri": "https://localhost:8080/"
        },
        "id": "lbzHA8ZpUe-f",
        "outputId": "6bf394aa-f39f-4211-b1cc-46f3de51c4e3"
      },
      "execution_count": 8,
      "outputs": [
        {
          "output_type": "stream",
          "name": "stdout",
          "text": [
            "torch.Size([10684])\n",
            "tensor([0, 1, 3,  ..., 0, 3, 2])\n"
          ]
        }
      ]
    },
    {
      "cell_type": "code",
      "source": [
        "# 保存\n",
        "torch.save(X_train, 'X_train.pt')\n",
        "torch.save(X_valid, 'X_valid.pt')\n",
        "torch.save(X_test, 'X_test.pt')\n",
        "torch.save(y_train, 'y_train.pt')\n",
        "torch.save(y_valid, 'y_valid.pt')\n",
        "torch.save(y_test, 'y_test.pt')"
      ],
      "metadata": {
        "id": "0ewm-pFJUgz8"
      },
      "execution_count": 9,
      "outputs": []
    },
    {
      "cell_type": "code",
      "source": [
        "from torch import nn\n",
        "\n",
        "class SLPNet(nn.Module):\n",
        "  def __init__(self, input_size, output_size):\n",
        "    super().__init__()\n",
        "    self.fc = nn.Linear(input_size, output_size, bias=False)\n",
        "    nn.init.normal_(self.fc.weight, 0.0, 1.0)  # 正規乱数で重みを初期化\n",
        "\n",
        "  def forward(self, x):\n",
        "    x = self.fc(x)\n",
        "    return x"
      ],
      "metadata": {
        "id": "bLAgAgO_Uir_"
      },
      "execution_count": 10,
      "outputs": []
    },
    {
      "cell_type": "code",
      "source": [
        "model = SLPNet(300, 4)  # 単層ニューラルネットワークの初期化\n",
        "y_hat_1 = torch.softmax(model(X_train[:1]), dim=-1)\n",
        "print(y_hat_1)"
      ],
      "metadata": {
        "colab": {
          "base_uri": "https://localhost:8080/"
        },
        "id": "orUqEvOMUmCo",
        "outputId": "9f382af2-331b-419a-c283-96157eedf469"
      },
      "execution_count": 11,
      "outputs": [
        {
          "output_type": "stream",
          "name": "stdout",
          "text": [
            "tensor([[0.4576, 0.0335, 0.1235, 0.3854]], grad_fn=<SoftmaxBackward0>)\n"
          ]
        }
      ]
    },
    {
      "cell_type": "code",
      "source": [
        "Y_hat = torch.softmax(model.forward(X_train[:4]), dim=-1)\n",
        "print(Y_hat)"
      ],
      "metadata": {
        "colab": {
          "base_uri": "https://localhost:8080/"
        },
        "id": "n0X7P-OnUn03",
        "outputId": "d40799e3-b81b-4d04-a71f-1d362b56c304"
      },
      "execution_count": 12,
      "outputs": [
        {
          "output_type": "stream",
          "name": "stdout",
          "text": [
            "tensor([[0.4576, 0.0335, 0.1235, 0.3854],\n",
            "        [0.1130, 0.0108, 0.6779, 0.1983],\n",
            "        [0.3697, 0.0836, 0.4979, 0.0489],\n",
            "        [0.2281, 0.2300, 0.4925, 0.0493]], grad_fn=<SoftmaxBackward0>)\n"
          ]
        }
      ]
    },
    {
      "cell_type": "code",
      "source": [
        "criterion = nn.CrossEntropyLoss()"
      ],
      "metadata": {
        "id": "JG6jUPj1Upuk"
      },
      "execution_count": 13,
      "outputs": []
    },
    {
      "cell_type": "code",
      "source": [
        "l_1 = criterion(model(X_train[:1]), y_train[:1])  # 入力ベクトルはsoftmax前の値\n",
        "model.zero_grad()  # 勾配をゼロで初期化\n",
        "l_1.backward()  # 勾配を計算\n",
        "print(f'損失: {l_1:.4f}')\n",
        "print(f'勾配:\\n{model.fc.weight.grad}')"
      ],
      "metadata": {
        "colab": {
          "base_uri": "https://localhost:8080/"
        },
        "id": "lCl6cnD7Uri_",
        "outputId": "de57f2da-a0be-4728-bfa8-7a1e170ecef7"
      },
      "execution_count": 14,
      "outputs": [
        {
          "output_type": "stream",
          "name": "stdout",
          "text": [
            "損失: 0.7818\n",
            "勾配:\n",
            "tensor([[-0.0454, -0.0031, -0.0037,  ..., -0.0408, -0.0235,  0.0471],\n",
            "        [ 0.0028,  0.0002,  0.0002,  ...,  0.0025,  0.0015, -0.0029],\n",
            "        [ 0.0103,  0.0007,  0.0008,  ...,  0.0093,  0.0053, -0.0107],\n",
            "        [ 0.0322,  0.0022,  0.0026,  ...,  0.0290,  0.0167, -0.0335]])\n"
          ]
        }
      ]
    },
    {
      "cell_type": "code",
      "source": [
        "l = criterion(model(X_train[:4]), y_train[:4])\n",
        "model.zero_grad()\n",
        "l.backward()\n",
        "print(f'損失: {l:.4f}')\n",
        "print(f'勾配:\\n{model.fc.weight.grad}')"
      ],
      "metadata": {
        "colab": {
          "base_uri": "https://localhost:8080/"
        },
        "id": "ng9zYeKBUsvS",
        "outputId": "082e359e-d01e-41a9-e1dd-bcd654630495"
      },
      "execution_count": 15,
      "outputs": [
        {
          "output_type": "stream",
          "name": "stdout",
          "text": [
            "損失: 2.2596\n",
            "勾配:\n",
            "tensor([[-0.0084,  0.0013, -0.0073,  ..., -0.0178,  0.0063,  0.0184],\n",
            "        [-0.0080, -0.0040,  0.0254,  ...,  0.0248,  0.0173,  0.0022],\n",
            "        [ 0.0214, -0.0036, -0.0334,  ..., -0.0189,  0.0034,  0.0093],\n",
            "        [-0.0050,  0.0062,  0.0153,  ...,  0.0119, -0.0270, -0.0299]])\n"
          ]
        }
      ]
    },
    {
      "cell_type": "code",
      "source": [
        "from torch.utils.data import Dataset\n",
        "\n",
        "class NewsDataset(Dataset):\n",
        "  def __init__(self, X, y):  # datasetの構成要素を指定\n",
        "    self.X = X\n",
        "    self.y = y\n",
        "\n",
        "  def __len__(self):  # len(dataset)で返す値を指定\n",
        "    return len(self.y)\n",
        "\n",
        "  def __getitem__(self, idx):  # dataset[idx]で返す値を指定\n",
        "    return [self.X[idx], self.y[idx]]"
      ],
      "metadata": {
        "id": "G4qfkQXqUuBn"
      },
      "execution_count": 16,
      "outputs": []
    },
    {
      "cell_type": "code",
      "source": [
        "from torch.utils.data import DataLoader\n",
        "\n",
        "# Datasetの作成\n",
        "dataset_train = NewsDataset(X_train, y_train)\n",
        "dataset_valid = NewsDataset(X_valid, y_valid)\n",
        "dataset_test = NewsDataset(X_test, y_test)\n",
        "\n",
        "# Dataloaderの作成\n",
        "dataloader_train = DataLoader(dataset_train, batch_size=1, shuffle=True)\n",
        "dataloader_valid = DataLoader(dataset_valid, batch_size=len(dataset_valid), shuffle=False)\n",
        "dataloader_test = DataLoader(dataset_test, batch_size=len(dataset_test), shuffle=False)"
      ],
      "metadata": {
        "id": "G4W9BjBzUwaX"
      },
      "execution_count": 18,
      "outputs": []
    },
    {
      "cell_type": "code",
      "source": [
        "# モデルの定義\n",
        "model = SLPNet(300, 4)\n",
        "\n",
        "# 損失関数の定義\n",
        "criterion = nn.CrossEntropyLoss()\n",
        "\n",
        "# オプティマイザの定義\n",
        "optimizer = torch.optim.SGD(model.parameters(), lr=1e-1)\n",
        "\n",
        "# 学習\n",
        "num_epochs = 10\n",
        "for epoch in range(num_epochs):\n",
        "  # 訓練モードに設定\n",
        "  model.train()\n",
        "  loss_train = 0.0\n",
        "  for i, (inputs, labels) in enumerate(dataloader_train):\n",
        "    # 勾配をゼロで初期化\n",
        "    optimizer.zero_grad()\n",
        "\n",
        "    # 順伝播 + 誤差逆伝播 + 重み更新\n",
        "    outputs = model(inputs)\n",
        "    loss = criterion(outputs, labels)\n",
        "    loss.backward()\n",
        "    optimizer.step()\n",
        "\n",
        "    # 損失を記録\n",
        "    loss_train += loss.item()\n",
        "\n",
        "  # バッチ単位の平均損失計算\n",
        "  loss_train = loss_train / i\n",
        "\n",
        "  # 検証データの損失計算\n",
        "  model.eval() \n",
        "  with torch.no_grad():\n",
        "    inputs, labels = next(iter(dataloader_valid))\n",
        "    outputs = model(inputs)\n",
        "    loss_valid = criterion(outputs, labels)\n",
        "\n",
        "  # ログを出力\n",
        "  print(f'epoch: {epoch + 1}, loss_train: {loss_train:.4f}, loss_valid: {loss_valid:.4f}')  "
      ],
      "metadata": {
        "colab": {
          "base_uri": "https://localhost:8080/"
        },
        "id": "buGu7urVUxpP",
        "outputId": "26da574a-8a90-4b6e-a738-3392437379a0"
      },
      "execution_count": 19,
      "outputs": [
        {
          "output_type": "stream",
          "name": "stdout",
          "text": [
            "epoch: 1, loss_train: 0.4765, loss_valid: 0.3525\n",
            "epoch: 2, loss_train: 0.3106, loss_valid: 0.3257\n",
            "epoch: 3, loss_train: 0.2815, loss_valid: 0.3120\n",
            "epoch: 4, loss_train: 0.2662, loss_valid: 0.3080\n",
            "epoch: 5, loss_train: 0.2555, loss_valid: 0.3121\n",
            "epoch: 6, loss_train: 0.2471, loss_valid: 0.3052\n",
            "epoch: 7, loss_train: 0.2429, loss_valid: 0.3050\n",
            "epoch: 8, loss_train: 0.2389, loss_valid: 0.3095\n",
            "epoch: 9, loss_train: 0.2354, loss_valid: 0.3060\n",
            "epoch: 10, loss_train: 0.2319, loss_valid: 0.3113\n"
          ]
        }
      ]
    },
    {
      "cell_type": "code",
      "source": [
        "def calculate_accuracy(model, loader):\n",
        "  model.eval()\n",
        "  total = 0\n",
        "  correct = 0\n",
        "  with torch.no_grad():\n",
        "    for inputs, labels in loader:\n",
        "      outputs = model(inputs)\n",
        "      pred = torch.argmax(outputs, dim=-1)\n",
        "      total += len(inputs)\n",
        "      correct += (pred == labels).sum().item()\n",
        "\n",
        "  return correct / total"
      ],
      "metadata": {
        "id": "k2vRPoVsU6nV"
      },
      "execution_count": 20,
      "outputs": []
    },
    {
      "cell_type": "code",
      "source": [
        "acc_train = calculate_accuracy(model, dataloader_train)\n",
        "acc_test = calculate_accuracy(model, dataloader_test)\n",
        "print(f'正解率（学習データ）：{acc_train:.3f}')\n",
        "print(f'正解率（評価データ）：{acc_test:.3f}')"
      ],
      "metadata": {
        "colab": {
          "base_uri": "https://localhost:8080/"
        },
        "id": "lCdNGumBU9Dp",
        "outputId": "7814600c-b365-4b8c-cdf9-b1df29a0e8ea"
      },
      "execution_count": 21,
      "outputs": [
        {
          "output_type": "stream",
          "name": "stdout",
          "text": [
            "正解率（学習データ）：0.924\n",
            "正解率（評価データ）：0.903\n"
          ]
        }
      ]
    },
    {
      "cell_type": "code",
      "source": [
        "def calculate_loss_and_accuracy(model, criterion, loader):\n",
        "  model.eval()\n",
        "  loss = 0.0\n",
        "  total = 0\n",
        "  correct = 0\n",
        "  with torch.no_grad():\n",
        "    for inputs, labels in loader:\n",
        "      outputs = model(inputs)\n",
        "      loss += criterion(outputs, labels).item()\n",
        "      pred = torch.argmax(outputs, dim=-1)\n",
        "      total += len(inputs)\n",
        "      correct += (pred == labels).sum().item()\n",
        "\n",
        "  return loss / len(loader), correct / total"
      ],
      "metadata": {
        "id": "NiUUSZOLU-vy"
      },
      "execution_count": 22,
      "outputs": []
    },
    {
      "cell_type": "code",
      "source": [
        "# モデルの定義\n",
        "model = SLPNet(300, 4)\n",
        "\n",
        "# 損失関数の定義\n",
        "criterion = nn.CrossEntropyLoss()\n",
        "\n",
        "# オプティマイザの定義\n",
        "optimizer = torch.optim.SGD(model.parameters(), lr=1e-1)\n",
        "\n",
        "# 学習\n",
        "num_epochs = 30\n",
        "log_train = []\n",
        "log_valid = []\n",
        "for epoch in range(num_epochs):\n",
        "  # 訓練モードに設定\n",
        "  model.train()\n",
        "  for inputs, labels in dataloader_train:\n",
        "    # 勾配をゼロで初期化\n",
        "    optimizer.zero_grad()\n",
        "\n",
        "    # 順伝播 + 誤差逆伝播 + 重み更新\n",
        "    outputs = model(inputs)\n",
        "    loss = criterion(outputs, labels)\n",
        "    loss.backward()\n",
        "    optimizer.step()\n",
        "\n",
        "  # 損失と正解率の算出\n",
        "  loss_train, acc_train = calculate_loss_and_accuracy(model, criterion, dataloader_train)\n",
        "  loss_valid, acc_valid = calculate_loss_and_accuracy(model, criterion, dataloader_valid)\n",
        "  log_train.append([loss_train, acc_train])\n",
        "  log_valid.append([loss_valid, acc_valid])\n",
        "\n",
        "  # ログを出力\n",
        "  print(f'epoch: {epoch + 1}, loss_train: {loss_train:.4f}, accuracy_train: {acc_train:.4f}, loss_valid: {loss_valid:.4f}, accuracy_valid: {acc_valid:.4f}')  "
      ],
      "metadata": {
        "colab": {
          "base_uri": "https://localhost:8080/"
        },
        "id": "AC8b-bgXVAHj",
        "outputId": "e88685ac-8986-45bf-877e-462069c6e733"
      },
      "execution_count": 23,
      "outputs": [
        {
          "output_type": "stream",
          "name": "stdout",
          "text": [
            "epoch: 1, loss_train: 0.3404, accuracy_train: 0.8830, loss_valid: 0.3775, accuracy_valid: 0.8675\n",
            "epoch: 2, loss_train: 0.2914, accuracy_train: 0.9005, loss_valid: 0.3383, accuracy_valid: 0.8877\n",
            "epoch: 3, loss_train: 0.2722, accuracy_train: 0.9084, loss_valid: 0.3239, accuracy_valid: 0.8907\n",
            "epoch: 4, loss_train: 0.2579, accuracy_train: 0.9113, loss_valid: 0.3152, accuracy_valid: 0.8937\n",
            "epoch: 5, loss_train: 0.2487, accuracy_train: 0.9153, loss_valid: 0.3135, accuracy_valid: 0.8960\n",
            "epoch: 6, loss_train: 0.2425, accuracy_train: 0.9166, loss_valid: 0.3101, accuracy_valid: 0.8982\n",
            "epoch: 7, loss_train: 0.2353, accuracy_train: 0.9205, loss_valid: 0.3056, accuracy_valid: 0.9004\n",
            "epoch: 8, loss_train: 0.2352, accuracy_train: 0.9211, loss_valid: 0.3118, accuracy_valid: 0.8937\n",
            "epoch: 9, loss_train: 0.2286, accuracy_train: 0.9235, loss_valid: 0.3089, accuracy_valid: 0.8960\n",
            "epoch: 10, loss_train: 0.2273, accuracy_train: 0.9257, loss_valid: 0.3076, accuracy_valid: 0.9019\n",
            "epoch: 11, loss_train: 0.2238, accuracy_train: 0.9247, loss_valid: 0.3087, accuracy_valid: 0.8967\n",
            "epoch: 12, loss_train: 0.2236, accuracy_train: 0.9250, loss_valid: 0.3103, accuracy_valid: 0.8960\n",
            "epoch: 13, loss_train: 0.2221, accuracy_train: 0.9274, loss_valid: 0.3099, accuracy_valid: 0.8975\n",
            "epoch: 14, loss_train: 0.2176, accuracy_train: 0.9260, loss_valid: 0.3107, accuracy_valid: 0.8937\n",
            "epoch: 15, loss_train: 0.2161, accuracy_train: 0.9273, loss_valid: 0.3110, accuracy_valid: 0.8967\n",
            "epoch: 16, loss_train: 0.2191, accuracy_train: 0.9270, loss_valid: 0.3136, accuracy_valid: 0.8975\n",
            "epoch: 17, loss_train: 0.2152, accuracy_train: 0.9294, loss_valid: 0.3120, accuracy_valid: 0.8960\n",
            "epoch: 18, loss_train: 0.2138, accuracy_train: 0.9299, loss_valid: 0.3126, accuracy_valid: 0.8952\n",
            "epoch: 19, loss_train: 0.2145, accuracy_train: 0.9282, loss_valid: 0.3164, accuracy_valid: 0.8945\n",
            "epoch: 20, loss_train: 0.2134, accuracy_train: 0.9290, loss_valid: 0.3177, accuracy_valid: 0.8915\n",
            "epoch: 21, loss_train: 0.2119, accuracy_train: 0.9296, loss_valid: 0.3156, accuracy_valid: 0.8967\n",
            "epoch: 22, loss_train: 0.2114, accuracy_train: 0.9303, loss_valid: 0.3179, accuracy_valid: 0.8960\n",
            "epoch: 23, loss_train: 0.2104, accuracy_train: 0.9286, loss_valid: 0.3204, accuracy_valid: 0.8922\n",
            "epoch: 24, loss_train: 0.2092, accuracy_train: 0.9306, loss_valid: 0.3175, accuracy_valid: 0.8937\n",
            "epoch: 25, loss_train: 0.2093, accuracy_train: 0.9304, loss_valid: 0.3208, accuracy_valid: 0.8937\n",
            "epoch: 26, loss_train: 0.2107, accuracy_train: 0.9291, loss_valid: 0.3254, accuracy_valid: 0.8945\n",
            "epoch: 27, loss_train: 0.2145, accuracy_train: 0.9277, loss_valid: 0.3275, accuracy_valid: 0.8915\n",
            "epoch: 28, loss_train: 0.2079, accuracy_train: 0.9308, loss_valid: 0.3230, accuracy_valid: 0.8937\n",
            "epoch: 29, loss_train: 0.2105, accuracy_train: 0.9295, loss_valid: 0.3252, accuracy_valid: 0.8915\n",
            "epoch: 30, loss_train: 0.2129, accuracy_train: 0.9277, loss_valid: 0.3297, accuracy_valid: 0.8922\n"
          ]
        }
      ]
    },
    {
      "cell_type": "code",
      "source": [
        "from matplotlib import pyplot as plt\n",
        "import numpy as np\n",
        "\n",
        "# 視覚化\n",
        "fig, ax = plt.subplots(1, 2, figsize=(15, 5))\n",
        "ax[0].plot(np.array(log_train).T[0], label='train')\n",
        "ax[0].plot(np.array(log_valid).T[0], label='valid')\n",
        "ax[0].set_xlabel('epoch')\n",
        "ax[0].set_ylabel('loss')\n",
        "ax[0].legend()\n",
        "ax[1].plot(np.array(log_train).T[1], label='train')\n",
        "ax[1].plot(np.array(log_valid).T[1], label='valid')\n",
        "ax[1].set_xlabel('epoch')\n",
        "ax[1].set_ylabel('accuracy')\n",
        "ax[1].legend()\n",
        "plt.show()"
      ],
      "metadata": {
        "colab": {
          "base_uri": "https://localhost:8080/",
          "height": 320
        },
        "id": "_k7-Ko9iVBYQ",
        "outputId": "c132d4e4-3233-4918-ad92-db6cf7f3f1d3"
      },
      "execution_count": 26,
      "outputs": [
        {
          "output_type": "display_data",
          "data": {
            "text/plain": [
              "<Figure size 1080x360 with 2 Axes>"
            ],
            "image/png": "[encoded data removed]"
          },
          "metadata": {
            "needs_background": "light"
          }
        }
      ]
    },
    {
      "cell_type": "code",
      "source": [
        "# モデルの定義\n",
        "model = SLPNet(300, 4)\n",
        "\n",
        "# 損失関数の定義\n",
        "criterion = nn.CrossEntropyLoss()\n",
        "\n",
        "# オプティマイザの定義\n",
        "optimizer = torch.optim.SGD(model.parameters(), lr=1e-1)\n",
        "\n",
        "# 学習\n",
        "num_epochs = 10\n",
        "log_train = []\n",
        "log_valid = []\n",
        "for epoch in range(num_epochs):\n",
        "  # 訓練モードに設定\n",
        "  model.train()\n",
        "  for inputs, labels in dataloader_train:\n",
        "    # 勾配をゼロで初期化\n",
        "    optimizer.zero_grad()\n",
        "\n",
        "    # 順伝播 + 誤差逆伝播 + 重み更新\n",
        "    outputs = model(inputs)\n",
        "    loss = criterion(outputs, labels)\n",
        "    loss.backward()\n",
        "    optimizer.step()\n",
        "\n",
        "  # 損失と正解率の算出\n",
        "  loss_train, acc_train = calculate_loss_and_accuracy(model, criterion, dataloader_train)\n",
        "  loss_valid, acc_valid = calculate_loss_and_accuracy(model, criterion, dataloader_valid)\n",
        "  log_train.append([loss_train, acc_train])\n",
        "  log_valid.append([loss_valid, acc_valid])\n",
        "\n",
        "  # チェックポイントの保存\n",
        "  torch.save({'epoch': epoch, 'model_state_dict': model.state_dict(), 'optimizer_state_dict': optimizer.state_dict()}, f'checkpoint{epoch + 1}.pt')\n",
        "\n",
        "  # ログを出力\n",
        "  print(f'epoch: {epoch + 1}, loss_train: {loss_train:.4f}, accuracy_train: {acc_train:.4f}, loss_valid: {loss_valid:.4f}, accuracy_valid: {acc_valid:.4f}')  "
      ],
      "metadata": {
        "colab": {
          "base_uri": "https://localhost:8080/"
        },
        "id": "DwWiaIoZVCx6",
        "outputId": "365fde56-8943-4fc3-904b-0cce1e69f6a9"
      },
      "execution_count": 27,
      "outputs": [
        {
          "output_type": "stream",
          "name": "stdout",
          "text": [
            "epoch: 1, loss_train: 0.3344, accuracy_train: 0.8831, loss_valid: 0.3667, accuracy_valid: 0.8757\n",
            "epoch: 2, loss_train: 0.2882, accuracy_train: 0.9038, loss_valid: 0.3354, accuracy_valid: 0.8937\n",
            "epoch: 3, loss_train: 0.2672, accuracy_train: 0.9105, loss_valid: 0.3186, accuracy_valid: 0.8930\n",
            "epoch: 4, loss_train: 0.2551, accuracy_train: 0.9154, loss_valid: 0.3137, accuracy_valid: 0.8922\n",
            "epoch: 5, loss_train: 0.2520, accuracy_train: 0.9153, loss_valid: 0.3140, accuracy_valid: 0.9004\n",
            "epoch: 6, loss_train: 0.2402, accuracy_train: 0.9194, loss_valid: 0.3070, accuracy_valid: 0.8967\n",
            "epoch: 7, loss_train: 0.2385, accuracy_train: 0.9197, loss_valid: 0.3087, accuracy_valid: 0.8907\n",
            "epoch: 8, loss_train: 0.2344, accuracy_train: 0.9201, loss_valid: 0.3104, accuracy_valid: 0.8937\n",
            "epoch: 9, loss_train: 0.2284, accuracy_train: 0.9221, loss_valid: 0.3052, accuracy_valid: 0.8975\n",
            "epoch: 10, loss_train: 0.2246, accuracy_train: 0.9247, loss_valid: 0.3060, accuracy_valid: 0.8952\n"
          ]
        }
      ]
    },
    {
      "cell_type": "code",
      "source": [
        "import time\n",
        "\n",
        "def train_model(dataset_train, dataset_valid, batch_size, model, criterion, optimizer, num_epochs):\n",
        "  # dataloaderの作成\n",
        "  dataloader_train = DataLoader(dataset_train, batch_size=batch_size, shuffle=True)\n",
        "  dataloader_valid = DataLoader(dataset_valid, batch_size=len(dataset_valid), shuffle=False)\n",
        "\n",
        "  # 学習\n",
        "  log_train = []\n",
        "  log_valid = []\n",
        "  for epoch in range(num_epochs):\n",
        "    # 開始時刻の記録\n",
        "    s_time = time.time()\n",
        "\n",
        "    # 訓練モードに設定\n",
        "    model.train()\n",
        "    for inputs, labels in dataloader_train:\n",
        "      # 勾配をゼロで初期化\n",
        "      optimizer.zero_grad()\n",
        "\n",
        "      # 順伝播 + 誤差逆伝播 + 重み更新\n",
        "      outputs = model(inputs)\n",
        "      loss = criterion(outputs, labels)\n",
        "      loss.backward()\n",
        "      optimizer.step()\n",
        "\n",
        "    # 損失と正解率の算出\n",
        "    loss_train, acc_train = calculate_loss_and_accuracy(model, criterion, dataloader_train)\n",
        "    loss_valid, acc_valid = calculate_loss_and_accuracy(model, criterion, dataloader_valid)\n",
        "    log_train.append([loss_train, acc_train])\n",
        "    log_valid.append([loss_valid, acc_valid])\n",
        "\n",
        "    # チェックポイントの保存\n",
        "    torch.save({'epoch': epoch, 'model_state_dict': model.state_dict(), 'optimizer_state_dict': optimizer.state_dict()}, f'checkpoint{epoch + 1}.pt')\n",
        "\n",
        "    # 終了時刻の記録\n",
        "    e_time = time.time()\n",
        "\n",
        "    # ログを出力\n",
        "    print(f'epoch: {epoch + 1}, loss_train: {loss_train:.4f}, accuracy_train: {acc_train:.4f}, loss_valid: {loss_valid:.4f}, accuracy_valid: {acc_valid:.4f}, {(e_time - s_time):.4f}sec') \n",
        "\n",
        "  return {'train': log_train, 'valid': log_valid}"
      ],
      "metadata": {
        "id": "UERtM8JeVEMC"
      },
      "execution_count": 28,
      "outputs": []
    },
    {
      "cell_type": "code",
      "source": [
        "# datasetの作成\n",
        "#dataset_train = CreateDataset(X_train, y_train)\n",
        "#dataset_valid = CreateDataset(X_valid, y_valid)\n",
        "\n",
        "# モデルの定義\n",
        "model = SLPNet(300, 4)\n",
        "\n",
        "# 損失関数の定義\n",
        "criterion = nn.CrossEntropyLoss()\n",
        "\n",
        "# オプティマイザの定義\n",
        "optimizer = torch.optim.SGD(model.parameters(), lr=1e-1)\n",
        "\n",
        "# モデルの学習\n",
        "for batch_size in [2 ** i for i in range(11)]:\n",
        "  print(f'バッチサイズ: {batch_size}')\n",
        "  log = train_model(dataset_train, dataset_valid, batch_size, model, criterion, optimizer, 1)"
      ],
      "metadata": {
        "colab": {
          "base_uri": "https://localhost:8080/"
        },
        "id": "5iXsqEc7VFw6",
        "outputId": "6d6095c5-2b46-431c-e9b6-bdf2e07aad7c"
      },
      "execution_count": 30,
      "outputs": [
        {
          "output_type": "stream",
          "name": "stdout",
          "text": [
            "バッチサイズ: 1\n",
            "epoch: 1, loss_train: 0.3278, accuracy_train: 0.8888, loss_valid: 0.3747, accuracy_valid: 0.8787, 5.7444sec\n",
            "バッチサイズ: 2\n",
            "epoch: 1, loss_train: 0.2979, accuracy_train: 0.8975, loss_valid: 0.3486, accuracy_valid: 0.8840, 2.8938sec\n",
            "バッチサイズ: 4\n",
            "epoch: 1, loss_train: 0.2898, accuracy_train: 0.9004, loss_valid: 0.3423, accuracy_valid: 0.8840, 0.9599sec\n",
            "バッチサイズ: 8\n",
            "epoch: 1, loss_train: 0.2846, accuracy_train: 0.9019, loss_valid: 0.3377, accuracy_valid: 0.8840, 0.5312sec\n",
            "バッチサイズ: 16\n",
            "epoch: 1, loss_train: 0.2830, accuracy_train: 0.9019, loss_valid: 0.3365, accuracy_valid: 0.8825, 0.3537sec\n",
            "バッチサイズ: 32\n",
            "epoch: 1, loss_train: 0.2821, accuracy_train: 0.9025, loss_valid: 0.3354, accuracy_valid: 0.8825, 0.2132sec\n",
            "バッチサイズ: 64\n",
            "epoch: 1, loss_train: 0.2817, accuracy_train: 0.9028, loss_valid: 0.3351, accuracy_valid: 0.8825, 0.1471sec\n",
            "バッチサイズ: 128\n",
            "epoch: 1, loss_train: 0.2819, accuracy_train: 0.9028, loss_valid: 0.3349, accuracy_valid: 0.8825, 0.1232sec\n",
            "バッチサイズ: 256\n",
            "epoch: 1, loss_train: 0.2817, accuracy_train: 0.9028, loss_valid: 0.3348, accuracy_valid: 0.8825, 0.1148sec\n",
            "バッチサイズ: 512\n",
            "epoch: 1, loss_train: 0.2814, accuracy_train: 0.9028, loss_valid: 0.3348, accuracy_valid: 0.8825, 0.1082sec\n",
            "バッチサイズ: 1024\n",
            "epoch: 1, loss_train: 0.2808, accuracy_train: 0.9028, loss_valid: 0.3347, accuracy_valid: 0.8825, 0.1038sec\n"
          ]
        }
      ]
    },
    {
      "cell_type": "markdown",
      "source": [
        "# 78. GPU上での学習\n",
        "問題77のコードを改変し，GPU上で学習を実行せよ．"
      ],
      "metadata": {
        "id": "ZGRMLljiX64P"
      }
    },
    {
      "cell_type": "code",
      "source": [
        "# GPUを指定する引数deviceをcalculate_loss_and_accuracy、train_modelに追加します。\n",
        "# それぞれの関数内で、モデルおよび入力TensorをGPUに送る処理を追加し、deviceにcudaを指定すればGPUを使用することができます。\n",
        "\n",
        "\n",
        "def calculate_loss_and_accuracy(model, criterion, loader, device):\n",
        "  model.eval()\n",
        "  loss = 0.0\n",
        "  total = 0\n",
        "  correct = 0\n",
        "  with torch.no_grad():\n",
        "    for inputs, labels in loader:\n",
        "      inputs = inputs.to(device)\n",
        "      labels = labels.to(device)\n",
        "      outputs = model(inputs)\n",
        "      loss += criterion(outputs, labels).item()\n",
        "      pred = torch.argmax(outputs, dim=-1)\n",
        "      total += len(inputs)\n",
        "      correct += (pred == labels).sum().item()\n",
        "\n",
        "  return loss / len(loader), correct / total\n",
        "\n",
        "\n",
        "def train_model(dataset_train, dataset_valid, batch_size, model, criterion, optimizer, num_epochs, device=None):\n",
        "  # GPUに送る\n",
        "  model.to(device)\n",
        "\n",
        "  # dataloaderの作成\n",
        "  dataloader_train = DataLoader(dataset_train, batch_size=batch_size, shuffle=True)\n",
        "  dataloader_valid = DataLoader(dataset_valid, batch_size=len(dataset_valid), shuffle=False)\n",
        "\n",
        "  # 学習\n",
        "  log_train = []\n",
        "  log_valid = []\n",
        "  for epoch in range(num_epochs):\n",
        "    # 開始時刻の記録\n",
        "    s_time = time.time()\n",
        "\n",
        "    # 訓練モードに設定\n",
        "    model.train()\n",
        "    for inputs, labels in dataloader_train:\n",
        "      # 勾配をゼロで初期化\n",
        "      optimizer.zero_grad()\n",
        "\n",
        "      # 順伝播 + 誤差逆伝播 + 重み更新\n",
        "      inputs = inputs.to(device)\n",
        "      labels = labels.to(device)\n",
        "      outputs = model.forward(inputs)\n",
        "      loss = criterion(outputs, labels)\n",
        "      loss.backward()\n",
        "      optimizer.step()\n",
        "\n",
        "    # 損失と正解率の算出\n",
        "    loss_train, acc_train = calculate_loss_and_accuracy(model, criterion, dataloader_train, device)\n",
        "    loss_valid, acc_valid = calculate_loss_and_accuracy(model, criterion, dataloader_valid, device)\n",
        "    log_train.append([loss_train, acc_train])\n",
        "    log_valid.append([loss_valid, acc_valid])\n",
        "\n",
        "    # チェックポイントの保存\n",
        "    torch.save({'epoch': epoch, 'model_state_dict': model.state_dict(), 'optimizer_state_dict': optimizer.state_dict()}, f'checkpoint{epoch + 1}.pt')\n",
        "\n",
        "    # 終了時刻の記録\n",
        "    e_time = time.time()\n",
        "\n",
        "    # ログを出力\n",
        "    print(f'epoch: {epoch + 1}, loss_train: {loss_train:.4f}, accuracy_train: {acc_train:.4f}, loss_valid: {loss_valid:.4f}, accuracy_valid: {acc_valid:.4f}, {(e_time - s_time):.4f}sec') \n",
        "\n",
        "  return {'train': log_train, 'valid': log_valid}"
      ],
      "metadata": {
        "id": "SeqafbFFVHKB"
      },
      "execution_count": 31,
      "outputs": []
    },
    {
      "cell_type": "code",
      "source": [
        "# datasetの作成\n",
        "#dataset_train = CreateDataset(X_train, y_train)\n",
        "#dataset_valid = CreateDataset(X_valid, y_valid)\n",
        "\n",
        "# モデルの定義\n",
        "model = SLPNet(300, 4)\n",
        "\n",
        "# 損失関数の定義\n",
        "criterion = nn.CrossEntropyLoss()\n",
        "\n",
        "# オプティマイザの定義\n",
        "optimizer = torch.optim.SGD(model.parameters(), lr=1e-1)\n",
        "\n",
        "# デバイスの指定\n",
        "device = torch.device('cuda')\n",
        "\n",
        "# モデルの学習\n",
        "for batch_size in [2 ** i for i in range(11)]:\n",
        "  print(f'バッチサイズ: {batch_size}')\n",
        "  log = train_model(dataset_train, dataset_valid, batch_size, model, criterion, optimizer, 1, device=device)"
      ],
      "metadata": {
        "colab": {
          "base_uri": "https://localhost:8080/"
        },
        "id": "mGbtUmSyVJwG",
        "outputId": "1afbe04c-1093-46a4-980c-b2467478a985"
      },
      "execution_count": 33,
      "outputs": [
        {
          "output_type": "stream",
          "name": "stdout",
          "text": [
            "バッチサイズ: 1\n",
            "epoch: 1, loss_train: 0.3290, accuracy_train: 0.8867, loss_valid: 0.3663, accuracy_valid: 0.8728, 12.8591sec\n",
            "バッチサイズ: 2\n",
            "epoch: 1, loss_train: 0.3013, accuracy_train: 0.8967, loss_valid: 0.3428, accuracy_valid: 0.8840, 4.7326sec\n",
            "バッチサイズ: 4\n",
            "epoch: 1, loss_train: 0.2920, accuracy_train: 0.8999, loss_valid: 0.3357, accuracy_valid: 0.8840, 2.4368sec\n",
            "バッチサイズ: 8\n",
            "epoch: 1, loss_train: 0.2881, accuracy_train: 0.9015, loss_valid: 0.3333, accuracy_valid: 0.8877, 1.2884sec\n",
            "バッチサイズ: 16\n",
            "epoch: 1, loss_train: 0.2864, accuracy_train: 0.9018, loss_valid: 0.3320, accuracy_valid: 0.8855, 0.6794sec\n",
            "バッチサイズ: 32\n",
            "epoch: 1, loss_train: 0.2855, accuracy_train: 0.9021, loss_valid: 0.3314, accuracy_valid: 0.8862, 0.3899sec\n",
            "バッチサイズ: 64\n",
            "epoch: 1, loss_train: 0.2851, accuracy_train: 0.9021, loss_valid: 0.3313, accuracy_valid: 0.8870, 0.2388sec\n",
            "バッチサイズ: 128\n",
            "epoch: 1, loss_train: 0.2852, accuracy_train: 0.9025, loss_valid: 0.3312, accuracy_valid: 0.8870, 0.1657sec\n",
            "バッチサイズ: 256\n",
            "epoch: 1, loss_train: 0.2845, accuracy_train: 0.9027, loss_valid: 0.3311, accuracy_valid: 0.8870, 0.3317sec\n",
            "バッチサイズ: 512\n",
            "epoch: 1, loss_train: 0.2847, accuracy_train: 0.9028, loss_valid: 0.3311, accuracy_valid: 0.8870, 0.2272sec\n",
            "バッチサイズ: 1024\n",
            "epoch: 1, loss_train: 0.2841, accuracy_train: 0.9027, loss_valid: 0.3311, accuracy_valid: 0.8870, 0.1587sec\n"
          ]
        }
      ]
    },
    {
      "cell_type": "markdown",
      "source": [
        "# 79. 多層ニューラルネットワーク\n",
        "問題78のコードを改変し，バイアス項の導入や多層化など，ニューラルネットワークの形状を変更しながら，高性能なカテゴリ分類器を構築せよ"
      ],
      "metadata": {
        "id": "Ggm0F9j6VO2s"
      }
    },
    {
      "cell_type": "code",
      "source": [
        "# 多層ニューラルネットワークMLPNetを新たに定義\n",
        "# このネットワークは入力層 -> 中間層 -> 出力層の構成とし、中間層のあとにバッチノーマライゼーションを行う。\n",
        "# また、train_modelでは新たに学習の打ち切り基準を導入。\n",
        "# 今回はシンプルに、検証データの損失が3エポック連続で低下しなかった場合に打ち切るルール\n",
        "# さらに、学習率を徐々に下げるスケジューラも追加し、汎化性能の向上を狙う。\n",
        "\n",
        "from torch.nn import functional as F\n",
        "\n",
        "class MLPNet(nn.Module):\n",
        "  def __init__(self, input_size, mid_size, output_size, mid_layers):\n",
        "    super().__init__()\n",
        "    self.mid_layers = mid_layers\n",
        "    self.fc = nn.Linear(input_size, mid_size)\n",
        "    self.fc_mid = nn.Linear(mid_size, mid_size)\n",
        "    self.fc_out = nn.Linear(mid_size, output_size) \n",
        "    self.bn = nn.BatchNorm1d(mid_size)\n",
        "\n",
        "  def forward(self, x):\n",
        "    x = F.relu(self.fc(x))\n",
        "    for _ in range(self.mid_layers):\n",
        "      x = F.relu(self.bn(self.fc_mid(x)))\n",
        "    x = F.relu(self.fc_out(x))\n",
        "\n",
        "    return x"
      ],
      "metadata": {
        "id": "2Fvvt8zXVLQK"
      },
      "execution_count": 34,
      "outputs": []
    },
    {
      "cell_type": "code",
      "source": [
        "from torch import optim\n",
        "\n",
        "def calculate_loss_and_accuracy(model, criterion, loader, device):\n",
        "  model.eval()\n",
        "  loss = 0.0\n",
        "  total = 0\n",
        "  correct = 0\n",
        "  with torch.no_grad():\n",
        "    for inputs, labels in loader:\n",
        "      inputs = inputs.to(device)\n",
        "      labels = labels.to(device)\n",
        "      outputs = model(inputs)\n",
        "      loss += criterion(outputs, labels).item()\n",
        "      pred = torch.argmax(outputs, dim=-1)\n",
        "      total += len(inputs)\n",
        "      correct += (pred == labels).sum().item()\n",
        "\n",
        "  return loss / len(loader), correct / total\n",
        "\n",
        "\n",
        "def train_model(dataset_train, dataset_valid, batch_size, model, criterion, optimizer, num_epochs, device=None):\n",
        "  # GPUに送る\n",
        "  model.to(device)\n",
        "\n",
        "  # dataloaderの作成\n",
        "  dataloader_train = DataLoader(dataset_train, batch_size=batch_size, shuffle=True)\n",
        "  dataloader_valid = DataLoader(dataset_valid, batch_size=len(dataset_valid), shuffle=False)\n",
        "\n",
        "  # スケジューラの設定\n",
        "  scheduler = optim.lr_scheduler.CosineAnnealingLR(optimizer, num_epochs, eta_min=1e-5, last_epoch=-1)\n",
        "\n",
        "  # 学習\n",
        "  log_train = []\n",
        "  log_valid = []\n",
        "  for epoch in range(num_epochs):\n",
        "    # 開始時刻の記録\n",
        "    s_time = time.time()\n",
        "\n",
        "    # 訓練モードに設定\n",
        "    model.train()\n",
        "    for inputs, labels in dataloader_train:\n",
        "      # 勾配をゼロで初期化\n",
        "      optimizer.zero_grad()\n",
        "\n",
        "      # 順伝播 + 誤差逆伝播 + 重み更新\n",
        "      inputs = inputs.to(device)\n",
        "      labels = labels.to(device)\n",
        "      outputs = model.forward(inputs)\n",
        "      loss = criterion(outputs, labels)\n",
        "      loss.backward()\n",
        "      optimizer.step()\n",
        "\n",
        "    # 損失と正解率の算出\n",
        "    loss_train, acc_train = calculate_loss_and_accuracy(model, criterion, dataloader_train, device)\n",
        "    loss_valid, acc_valid = calculate_loss_and_accuracy(model, criterion, dataloader_valid, device)\n",
        "    log_train.append([loss_train, acc_train])\n",
        "    log_valid.append([loss_valid, acc_valid])\n",
        "\n",
        "    # チェックポイントの保存\n",
        "    torch.save({'epoch': epoch, 'model_state_dict': model.state_dict(), 'optimizer_state_dict': optimizer.state_dict()}, f'checkpoint{epoch + 1}.pt')\n",
        "\n",
        "    # 終了時刻の記録\n",
        "    e_time = time.time()\n",
        "\n",
        "    # ログを出力\n",
        "    print(f'epoch: {epoch + 1}, loss_train: {loss_train:.4f}, accuracy_train: {acc_train:.4f}, loss_valid: {loss_valid:.4f}, accuracy_valid: {acc_valid:.4f}, {(e_time - s_time):.4f}sec') \n",
        "\n",
        "    # 検証データの損失が3エポック連続で低下しなかった場合は学習終了\n",
        "    if epoch > 2 and log_valid[epoch - 3][0] <= log_valid[epoch - 2][0] <= log_valid[epoch - 1][0] <= log_valid[epoch][0]:\n",
        "      break\n",
        "\n",
        "    # スケジューラを1ステップ進める\n",
        "    scheduler.step()\n",
        "\n",
        "  return {'train': log_train, 'valid': log_valid}"
      ],
      "metadata": {
        "id": "lYHOpwJUVbxM"
      },
      "execution_count": 35,
      "outputs": []
    },
    {
      "cell_type": "code",
      "source": [
        "# datasetの作成\n",
        "#dataset_train = CreateDataset(X_train, y_train)\n",
        "#dataset_valid = CreateDataset(X_valid, y_valid)\n",
        "\n",
        "# モデルの定義\n",
        "model = MLPNet(300, 200, 4, 1)\n",
        "\n",
        "# 損失関数の定義\n",
        "criterion = nn.CrossEntropyLoss()\n",
        "\n",
        "# オプティマイザの定義\n",
        "optimizer = torch.optim.SGD(model.parameters(), lr=1e-3)\n",
        "\n",
        "# デバイスの指定\n",
        "device = torch.device('cuda')\n",
        "\n",
        "# モデルの学習\n",
        "log = train_model(dataset_train, dataset_valid, 64, model, criterion, optimizer, 1000, device)"
      ],
      "metadata": {
        "colab": {
          "base_uri": "https://localhost:8080/"
        },
        "id": "ZPmECPhaVdGT",
        "outputId": "525659e3-5137-45d5-dfe9-6607743c5c42"
      },
      "execution_count": 36,
      "outputs": [
        {
          "output_type": "stream",
          "name": "stdout",
          "text": [
            "epoch: 1, loss_train: 1.1848, accuracy_train: 0.6219, loss_valid: 1.1784, accuracy_valid: 0.6400, 0.4269sec\n",
            "epoch: 2, loss_train: 0.8281, accuracy_train: 0.7607, loss_valid: 0.8226, accuracy_valid: 0.7575, 0.4057sec\n",
            "epoch: 3, loss_train: 0.6948, accuracy_train: 0.7736, loss_valid: 0.6946, accuracy_valid: 0.7762, 0.4175sec\n",
            "epoch: 4, loss_train: 0.6337, accuracy_train: 0.7789, loss_valid: 0.6356, accuracy_valid: 0.7829, 0.4160sec\n",
            "epoch: 5, loss_train: 0.5895, accuracy_train: 0.7887, loss_valid: 0.5926, accuracy_valid: 0.7912, 0.4418sec\n",
            "epoch: 6, loss_train: 0.5505, accuracy_train: 0.7987, loss_valid: 0.5555, accuracy_valid: 0.7957, 0.4187sec\n",
            "epoch: 7, loss_train: 0.5260, accuracy_train: 0.8136, loss_valid: 0.5314, accuracy_valid: 0.8114, 0.4112sec\n",
            "epoch: 8, loss_train: 0.5015, accuracy_train: 0.8243, loss_valid: 0.5079, accuracy_valid: 0.8271, 0.4182sec\n",
            "epoch: 9, loss_train: 0.4817, accuracy_train: 0.8311, loss_valid: 0.4894, accuracy_valid: 0.8338, 0.4311sec\n",
            "epoch: 10, loss_train: 0.4650, accuracy_train: 0.8363, loss_valid: 0.4740, accuracy_valid: 0.8383, 0.4367sec\n",
            "epoch: 11, loss_train: 0.4543, accuracy_train: 0.8406, loss_valid: 0.4639, accuracy_valid: 0.8383, 0.4023sec\n",
            "epoch: 12, loss_train: 0.4415, accuracy_train: 0.8437, loss_valid: 0.4531, accuracy_valid: 0.8413, 0.4008sec\n",
            "epoch: 13, loss_train: 0.4316, accuracy_train: 0.8485, loss_valid: 0.4436, accuracy_valid: 0.8496, 0.3964sec\n",
            "epoch: 14, loss_train: 0.4219, accuracy_train: 0.8531, loss_valid: 0.4346, accuracy_valid: 0.8510, 0.4332sec\n",
            "epoch: 15, loss_train: 0.4091, accuracy_train: 0.8565, loss_valid: 0.4235, accuracy_valid: 0.8563, 0.4116sec\n",
            "epoch: 16, loss_train: 0.3956, accuracy_train: 0.8650, loss_valid: 0.4111, accuracy_valid: 0.8638, 0.3953sec\n",
            "epoch: 17, loss_train: 0.3840, accuracy_train: 0.8743, loss_valid: 0.4013, accuracy_valid: 0.8675, 0.4065sec\n",
            "epoch: 18, loss_train: 0.3704, accuracy_train: 0.8819, loss_valid: 0.3883, accuracy_valid: 0.8780, 0.4319sec\n",
            "epoch: 19, loss_train: 0.3581, accuracy_train: 0.8871, loss_valid: 0.3782, accuracy_valid: 0.8870, 0.4114sec\n",
            "epoch: 20, loss_train: 0.3484, accuracy_train: 0.8879, loss_valid: 0.3714, accuracy_valid: 0.8877, 0.3969sec\n",
            "epoch: 21, loss_train: 0.3382, accuracy_train: 0.8942, loss_valid: 0.3613, accuracy_valid: 0.8922, 0.4264sec\n",
            "epoch: 22, loss_train: 0.3295, accuracy_train: 0.8955, loss_valid: 0.3549, accuracy_valid: 0.8930, 0.4104sec\n",
            "epoch: 23, loss_train: 0.3217, accuracy_train: 0.8971, loss_valid: 0.3485, accuracy_valid: 0.8907, 0.3959sec\n",
            "epoch: 24, loss_train: 0.3127, accuracy_train: 0.9000, loss_valid: 0.3419, accuracy_valid: 0.8937, 0.4155sec\n",
            "epoch: 25, loss_train: 0.3088, accuracy_train: 0.9016, loss_valid: 0.3394, accuracy_valid: 0.8960, 0.4066sec\n",
            "epoch: 26, loss_train: 0.3033, accuracy_train: 0.9024, loss_valid: 0.3351, accuracy_valid: 0.8945, 0.4128sec\n",
            "epoch: 27, loss_train: 0.2968, accuracy_train: 0.9062, loss_valid: 0.3303, accuracy_valid: 0.8952, 0.4070sec\n",
            "epoch: 28, loss_train: 0.2925, accuracy_train: 0.9081, loss_valid: 0.3272, accuracy_valid: 0.8952, 0.3930sec\n",
            "epoch: 29, loss_train: 0.2880, accuracy_train: 0.9062, loss_valid: 0.3247, accuracy_valid: 0.8945, 0.4365sec\n",
            "epoch: 30, loss_train: 0.2841, accuracy_train: 0.9092, loss_valid: 0.3236, accuracy_valid: 0.8997, 0.4103sec\n",
            "epoch: 31, loss_train: 0.2797, accuracy_train: 0.9106, loss_valid: 0.3191, accuracy_valid: 0.8945, 0.4151sec\n",
            "epoch: 32, loss_train: 0.2759, accuracy_train: 0.9126, loss_valid: 0.3168, accuracy_valid: 0.8990, 0.4089sec\n",
            "epoch: 33, loss_train: 0.2704, accuracy_train: 0.9135, loss_valid: 0.3136, accuracy_valid: 0.8982, 0.4056sec\n",
            "epoch: 34, loss_train: 0.2685, accuracy_train: 0.9151, loss_valid: 0.3123, accuracy_valid: 0.8982, 0.4409sec\n",
            "epoch: 35, loss_train: 0.2654, accuracy_train: 0.9159, loss_valid: 0.3110, accuracy_valid: 0.8990, 0.4251sec\n",
            "epoch: 36, loss_train: 0.2618, accuracy_train: 0.9186, loss_valid: 0.3086, accuracy_valid: 0.9004, 0.4220sec\n",
            "epoch: 37, loss_train: 0.2586, accuracy_train: 0.9163, loss_valid: 0.3073, accuracy_valid: 0.8975, 0.4333sec\n",
            "epoch: 38, loss_train: 0.2552, accuracy_train: 0.9190, loss_valid: 0.3053, accuracy_valid: 0.8960, 0.4471sec\n",
            "epoch: 39, loss_train: 0.2535, accuracy_train: 0.9206, loss_valid: 0.3055, accuracy_valid: 0.8967, 0.4570sec\n",
            "epoch: 40, loss_train: 0.2504, accuracy_train: 0.9203, loss_valid: 0.3042, accuracy_valid: 0.8997, 0.4115sec\n",
            "epoch: 41, loss_train: 0.2481, accuracy_train: 0.9224, loss_valid: 0.3021, accuracy_valid: 0.9004, 0.4118sec\n",
            "epoch: 42, loss_train: 0.2444, accuracy_train: 0.9226, loss_valid: 0.3007, accuracy_valid: 0.8960, 0.4256sec\n",
            "epoch: 43, loss_train: 0.2442, accuracy_train: 0.9235, loss_valid: 0.3020, accuracy_valid: 0.8997, 0.4171sec\n",
            "epoch: 44, loss_train: 0.2406, accuracy_train: 0.9243, loss_valid: 0.3003, accuracy_valid: 0.8997, 0.3998sec\n",
            "epoch: 45, loss_train: 0.2399, accuracy_train: 0.9243, loss_valid: 0.2993, accuracy_valid: 0.8975, 0.4025sec\n",
            "epoch: 46, loss_train: 0.2359, accuracy_train: 0.9245, loss_valid: 0.2991, accuracy_valid: 0.9004, 0.4114sec\n",
            "epoch: 47, loss_train: 0.2331, accuracy_train: 0.9262, loss_valid: 0.2965, accuracy_valid: 0.9004, 0.3947sec\n",
            "epoch: 48, loss_train: 0.2316, accuracy_train: 0.9261, loss_valid: 0.2962, accuracy_valid: 0.9004, 0.4173sec\n",
            "epoch: 49, loss_train: 0.2296, accuracy_train: 0.9270, loss_valid: 0.2961, accuracy_valid: 0.9004, 0.4185sec\n",
            "epoch: 50, loss_train: 0.2273, accuracy_train: 0.9273, loss_valid: 0.2945, accuracy_valid: 0.9019, 0.4096sec\n",
            "epoch: 51, loss_train: 0.2261, accuracy_train: 0.9280, loss_valid: 0.2946, accuracy_valid: 0.9019, 0.4148sec\n",
            "epoch: 52, loss_train: 0.2247, accuracy_train: 0.9283, loss_valid: 0.2942, accuracy_valid: 0.9012, 0.4296sec\n",
            "epoch: 53, loss_train: 0.2216, accuracy_train: 0.9288, loss_valid: 0.2936, accuracy_valid: 0.9012, 0.4226sec\n",
            "epoch: 54, loss_train: 0.2207, accuracy_train: 0.9295, loss_valid: 0.2942, accuracy_valid: 0.9004, 0.4153sec\n",
            "epoch: 55, loss_train: 0.2173, accuracy_train: 0.9298, loss_valid: 0.2925, accuracy_valid: 0.9012, 0.4143sec\n",
            "epoch: 56, loss_train: 0.2172, accuracy_train: 0.9308, loss_valid: 0.2928, accuracy_valid: 0.9012, 0.4102sec\n",
            "epoch: 57, loss_train: 0.2148, accuracy_train: 0.9315, loss_valid: 0.2928, accuracy_valid: 0.9042, 0.4131sec\n",
            "epoch: 58, loss_train: 0.2132, accuracy_train: 0.9318, loss_valid: 0.2916, accuracy_valid: 0.9012, 0.4318sec\n",
            "epoch: 59, loss_train: 0.2119, accuracy_train: 0.9327, loss_valid: 0.2921, accuracy_valid: 0.8990, 0.4305sec\n",
            "epoch: 60, loss_train: 0.2094, accuracy_train: 0.9334, loss_valid: 0.2921, accuracy_valid: 0.9004, 0.4525sec\n",
            "epoch: 61, loss_train: 0.2079, accuracy_train: 0.9333, loss_valid: 0.2903, accuracy_valid: 0.9019, 0.4158sec\n",
            "epoch: 62, loss_train: 0.2048, accuracy_train: 0.9342, loss_valid: 0.2897, accuracy_valid: 0.9019, 0.4507sec\n",
            "epoch: 63, loss_train: 0.2042, accuracy_train: 0.9341, loss_valid: 0.2902, accuracy_valid: 0.9004, 0.4208sec\n",
            "epoch: 64, loss_train: 0.2028, accuracy_train: 0.9354, loss_valid: 0.2899, accuracy_valid: 0.8997, 0.4021sec\n",
            "epoch: 65, loss_train: 0.2005, accuracy_train: 0.9352, loss_valid: 0.2891, accuracy_valid: 0.8997, 0.4315sec\n",
            "epoch: 66, loss_train: 0.1998, accuracy_train: 0.9357, loss_valid: 0.2899, accuracy_valid: 0.9004, 0.4032sec\n",
            "epoch: 67, loss_train: 0.1988, accuracy_train: 0.9361, loss_valid: 0.2901, accuracy_valid: 0.9004, 0.4078sec\n",
            "epoch: 68, loss_train: 0.1973, accuracy_train: 0.9362, loss_valid: 0.2894, accuracy_valid: 0.9019, 0.4116sec\n",
            "epoch: 69, loss_train: 0.1961, accuracy_train: 0.9364, loss_valid: 0.2896, accuracy_valid: 0.8975, 0.4026sec\n",
            "epoch: 70, loss_train: 0.1949, accuracy_train: 0.9363, loss_valid: 0.2922, accuracy_valid: 0.8997, 0.4215sec\n",
            "epoch: 71, loss_train: 0.1920, accuracy_train: 0.9379, loss_valid: 0.2886, accuracy_valid: 0.9019, 0.4260sec\n",
            "epoch: 72, loss_train: 0.1912, accuracy_train: 0.9386, loss_valid: 0.2902, accuracy_valid: 0.9012, 0.4313sec\n",
            "epoch: 73, loss_train: 0.1891, accuracy_train: 0.9390, loss_valid: 0.2879, accuracy_valid: 0.9012, 0.4126sec\n",
            "epoch: 74, loss_train: 0.1884, accuracy_train: 0.9393, loss_valid: 0.2891, accuracy_valid: 0.9004, 0.4109sec\n",
            "epoch: 75, loss_train: 0.1875, accuracy_train: 0.9390, loss_valid: 0.2904, accuracy_valid: 0.8997, 0.4369sec\n",
            "epoch: 76, loss_train: 0.1860, accuracy_train: 0.9390, loss_valid: 0.2884, accuracy_valid: 0.9004, 0.4362sec\n",
            "epoch: 77, loss_train: 0.1845, accuracy_train: 0.9405, loss_valid: 0.2877, accuracy_valid: 0.9019, 0.4221sec\n",
            "epoch: 78, loss_train: 0.1828, accuracy_train: 0.9405, loss_valid: 0.2893, accuracy_valid: 0.8997, 0.4214sec\n",
            "epoch: 79, loss_train: 0.1798, accuracy_train: 0.9423, loss_valid: 0.2888, accuracy_valid: 0.9012, 0.4159sec\n",
            "epoch: 80, loss_train: 0.1806, accuracy_train: 0.9423, loss_valid: 0.2880, accuracy_valid: 0.9012, 0.4076sec\n",
            "epoch: 81, loss_train: 0.1783, accuracy_train: 0.9428, loss_valid: 0.2883, accuracy_valid: 0.9027, 0.4019sec\n",
            "epoch: 82, loss_train: 0.1781, accuracy_train: 0.9426, loss_valid: 0.2897, accuracy_valid: 0.8997, 0.4399sec\n",
            "epoch: 83, loss_train: 0.1761, accuracy_train: 0.9443, loss_valid: 0.2880, accuracy_valid: 0.9004, 0.4303sec\n",
            "epoch: 84, loss_train: 0.1749, accuracy_train: 0.9442, loss_valid: 0.2887, accuracy_valid: 0.9027, 0.4247sec\n",
            "epoch: 85, loss_train: 0.1737, accuracy_train: 0.9443, loss_valid: 0.2878, accuracy_valid: 0.9034, 0.4136sec\n",
            "epoch: 86, loss_train: 0.1727, accuracy_train: 0.9454, loss_valid: 0.2889, accuracy_valid: 0.9012, 0.4553sec\n",
            "epoch: 87, loss_train: 0.1707, accuracy_train: 0.9460, loss_valid: 0.2879, accuracy_valid: 0.9019, 0.4289sec\n",
            "epoch: 88, loss_train: 0.1702, accuracy_train: 0.9461, loss_valid: 0.2877, accuracy_valid: 0.9004, 0.4133sec\n",
            "epoch: 89, loss_train: 0.1718, accuracy_train: 0.9463, loss_valid: 0.2921, accuracy_valid: 0.9034, 0.4478sec\n",
            "epoch: 90, loss_train: 0.1675, accuracy_train: 0.9471, loss_valid: 0.2886, accuracy_valid: 0.8997, 0.4494sec\n",
            "epoch: 91, loss_train: 0.1669, accuracy_train: 0.9475, loss_valid: 0.2905, accuracy_valid: 0.9012, 0.4360sec\n",
            "epoch: 92, loss_train: 0.1657, accuracy_train: 0.9481, loss_valid: 0.2883, accuracy_valid: 0.9012, 0.4329sec\n",
            "epoch: 93, loss_train: 0.1638, accuracy_train: 0.9486, loss_valid: 0.2896, accuracy_valid: 0.9034, 0.4195sec\n",
            "epoch: 94, loss_train: 0.1625, accuracy_train: 0.9490, loss_valid: 0.2876, accuracy_valid: 0.9012, 0.4047sec\n",
            "epoch: 95, loss_train: 0.1619, accuracy_train: 0.9487, loss_valid: 0.2907, accuracy_valid: 0.9034, 0.4094sec\n",
            "epoch: 96, loss_train: 0.1613, accuracy_train: 0.9501, loss_valid: 0.2904, accuracy_valid: 0.9027, 0.4378sec\n",
            "epoch: 97, loss_train: 0.1586, accuracy_train: 0.9503, loss_valid: 0.2888, accuracy_valid: 0.9019, 0.4204sec\n",
            "epoch: 98, loss_train: 0.1585, accuracy_train: 0.9496, loss_valid: 0.2912, accuracy_valid: 0.9012, 0.4140sec\n",
            "epoch: 99, loss_train: 0.1571, accuracy_train: 0.9506, loss_valid: 0.2880, accuracy_valid: 0.9019, 0.4175sec\n",
            "epoch: 100, loss_train: 0.1564, accuracy_train: 0.9508, loss_valid: 0.2908, accuracy_valid: 0.9034, 0.4116sec\n",
            "epoch: 101, loss_train: 0.1558, accuracy_train: 0.9531, loss_valid: 0.2890, accuracy_valid: 0.8990, 0.4103sec\n",
            "epoch: 102, loss_train: 0.1529, accuracy_train: 0.9527, loss_valid: 0.2884, accuracy_valid: 0.9012, 0.3989sec\n",
            "epoch: 103, loss_train: 0.1522, accuracy_train: 0.9531, loss_valid: 0.2882, accuracy_valid: 0.9012, 0.4109sec\n",
            "epoch: 104, loss_train: 0.1522, accuracy_train: 0.9530, loss_valid: 0.2885, accuracy_valid: 0.9027, 0.4177sec\n",
            "epoch: 105, loss_train: 0.1503, accuracy_train: 0.9535, loss_valid: 0.2881, accuracy_valid: 0.9004, 0.4426sec\n",
            "epoch: 106, loss_train: 0.1476, accuracy_train: 0.9544, loss_valid: 0.2888, accuracy_valid: 0.9027, 0.4408sec\n",
            "epoch: 107, loss_train: 0.1478, accuracy_train: 0.9552, loss_valid: 0.2894, accuracy_valid: 0.9012, 0.4270sec\n",
            "epoch: 108, loss_train: 0.1474, accuracy_train: 0.9547, loss_valid: 0.2885, accuracy_valid: 0.9004, 0.4199sec\n",
            "epoch: 109, loss_train: 0.1452, accuracy_train: 0.9555, loss_valid: 0.2882, accuracy_valid: 0.9012, 0.4268sec\n",
            "epoch: 110, loss_train: 0.1434, accuracy_train: 0.9565, loss_valid: 0.2892, accuracy_valid: 0.9004, 0.4085sec\n",
            "epoch: 111, loss_train: 0.1435, accuracy_train: 0.9563, loss_valid: 0.2892, accuracy_valid: 0.9034, 0.4226sec\n",
            "epoch: 112, loss_train: 0.1429, accuracy_train: 0.9545, loss_valid: 0.2907, accuracy_valid: 0.9042, 0.4483sec\n",
            "epoch: 113, loss_train: 0.1413, accuracy_train: 0.9577, loss_valid: 0.2889, accuracy_valid: 0.9012, 0.4097sec\n",
            "epoch: 114, loss_train: 0.1402, accuracy_train: 0.9578, loss_valid: 0.2916, accuracy_valid: 0.9034, 0.4093sec\n",
            "epoch: 115, loss_train: 0.1397, accuracy_train: 0.9576, loss_valid: 0.2901, accuracy_valid: 0.9027, 0.4142sec\n",
            "epoch: 116, loss_train: 0.1377, accuracy_train: 0.9590, loss_valid: 0.2896, accuracy_valid: 0.8997, 0.4163sec\n",
            "epoch: 117, loss_train: 0.1358, accuracy_train: 0.9587, loss_valid: 0.2901, accuracy_valid: 0.8967, 0.4140sec\n",
            "epoch: 118, loss_train: 0.1363, accuracy_train: 0.9592, loss_valid: 0.2903, accuracy_valid: 0.9019, 0.4132sec\n",
            "epoch: 119, loss_train: 0.1348, accuracy_train: 0.9606, loss_valid: 0.2899, accuracy_valid: 0.8990, 0.4231sec\n",
            "epoch: 120, loss_train: 0.1333, accuracy_train: 0.9602, loss_valid: 0.2913, accuracy_valid: 0.9027, 0.4249sec\n",
            "epoch: 121, loss_train: 0.1322, accuracy_train: 0.9608, loss_valid: 0.2906, accuracy_valid: 0.8997, 0.4226sec\n",
            "epoch: 122, loss_train: 0.1313, accuracy_train: 0.9607, loss_valid: 0.2914, accuracy_valid: 0.9027, 0.4250sec\n",
            "epoch: 123, loss_train: 0.1302, accuracy_train: 0.9609, loss_valid: 0.2908, accuracy_valid: 0.9027, 0.4464sec\n",
            "epoch: 124, loss_train: 0.1295, accuracy_train: 0.9612, loss_valid: 0.2911, accuracy_valid: 0.9042, 0.4131sec\n",
            "epoch: 125, loss_train: 0.1280, accuracy_train: 0.9625, loss_valid: 0.2909, accuracy_valid: 0.9019, 0.4269sec\n",
            "epoch: 126, loss_train: 0.1270, accuracy_train: 0.9623, loss_valid: 0.2934, accuracy_valid: 0.9027, 0.4224sec\n",
            "epoch: 127, loss_train: 0.1264, accuracy_train: 0.9642, loss_valid: 0.2904, accuracy_valid: 0.9027, 0.4116sec\n",
            "epoch: 128, loss_train: 0.1253, accuracy_train: 0.9634, loss_valid: 0.2926, accuracy_valid: 0.9042, 0.4244sec\n",
            "epoch: 129, loss_train: 0.1236, accuracy_train: 0.9640, loss_valid: 0.2903, accuracy_valid: 0.9012, 0.4147sec\n",
            "epoch: 130, loss_train: 0.1232, accuracy_train: 0.9644, loss_valid: 0.2925, accuracy_valid: 0.9004, 0.4272sec\n",
            "epoch: 131, loss_train: 0.1218, accuracy_train: 0.9653, loss_valid: 0.2911, accuracy_valid: 0.9004, 0.4302sec\n",
            "epoch: 132, loss_train: 0.1208, accuracy_train: 0.9658, loss_valid: 0.2918, accuracy_valid: 0.9004, 0.4270sec\n",
            "epoch: 133, loss_train: 0.1198, accuracy_train: 0.9661, loss_valid: 0.2917, accuracy_valid: 0.9027, 0.4497sec\n",
            "epoch: 134, loss_train: 0.1192, accuracy_train: 0.9672, loss_valid: 0.2907, accuracy_valid: 0.8997, 0.4142sec\n",
            "epoch: 135, loss_train: 0.1174, accuracy_train: 0.9671, loss_valid: 0.2921, accuracy_valid: 0.9049, 0.4211sec\n",
            "epoch: 136, loss_train: 0.1173, accuracy_train: 0.9683, loss_valid: 0.2915, accuracy_valid: 0.9027, 0.4202sec\n",
            "epoch: 137, loss_train: 0.1160, accuracy_train: 0.9684, loss_valid: 0.2921, accuracy_valid: 0.9042, 0.4179sec\n",
            "epoch: 138, loss_train: 0.1152, accuracy_train: 0.9679, loss_valid: 0.2927, accuracy_valid: 0.9019, 0.4222sec\n",
            "epoch: 139, loss_train: 0.1134, accuracy_train: 0.9690, loss_valid: 0.2925, accuracy_valid: 0.9027, 0.4336sec\n",
            "epoch: 140, loss_train: 0.1137, accuracy_train: 0.9688, loss_valid: 0.2923, accuracy_valid: 0.9042, 0.4227sec\n",
            "epoch: 141, loss_train: 0.1129, accuracy_train: 0.9690, loss_valid: 0.2928, accuracy_valid: 0.9012, 0.4115sec\n",
            "epoch: 142, loss_train: 0.1112, accuracy_train: 0.9705, loss_valid: 0.2924, accuracy_valid: 0.9057, 0.4257sec\n",
            "epoch: 143, loss_train: 0.1101, accuracy_train: 0.9706, loss_valid: 0.2922, accuracy_valid: 0.9034, 0.4119sec\n",
            "epoch: 144, loss_train: 0.1082, accuracy_train: 0.9713, loss_valid: 0.2934, accuracy_valid: 0.9042, 0.4159sec\n",
            "epoch: 145, loss_train: 0.1101, accuracy_train: 0.9694, loss_valid: 0.2952, accuracy_valid: 0.9042, 0.4341sec\n",
            "epoch: 146, loss_train: 0.1077, accuracy_train: 0.9712, loss_valid: 0.2945, accuracy_valid: 0.9027, 0.4141sec\n",
            "epoch: 147, loss_train: 0.1056, accuracy_train: 0.9710, loss_valid: 0.2942, accuracy_valid: 0.9019, 0.4268sec\n",
            "epoch: 148, loss_train: 0.1062, accuracy_train: 0.9716, loss_valid: 0.2935, accuracy_valid: 0.9027, 0.4403sec\n",
            "epoch: 149, loss_train: 0.1056, accuracy_train: 0.9712, loss_valid: 0.2958, accuracy_valid: 0.9012, 0.4156sec\n",
            "epoch: 150, loss_train: 0.1035, accuracy_train: 0.9730, loss_valid: 0.2933, accuracy_valid: 0.9034, 0.4246sec\n",
            "epoch: 151, loss_train: 0.1033, accuracy_train: 0.9721, loss_valid: 0.2945, accuracy_valid: 0.9027, 0.4338sec\n",
            "epoch: 152, loss_train: 0.1032, accuracy_train: 0.9722, loss_valid: 0.2957, accuracy_valid: 0.9019, 0.4320sec\n",
            "epoch: 153, loss_train: 0.1011, accuracy_train: 0.9739, loss_valid: 0.2955, accuracy_valid: 0.9049, 0.4197sec\n",
            "epoch: 154, loss_train: 0.1016, accuracy_train: 0.9730, loss_valid: 0.2959, accuracy_valid: 0.9027, 0.4308sec\n",
            "epoch: 155, loss_train: 0.0990, accuracy_train: 0.9742, loss_valid: 0.2963, accuracy_valid: 0.9042, 0.4031sec\n",
            "epoch: 156, loss_train: 0.0986, accuracy_train: 0.9744, loss_valid: 0.2953, accuracy_valid: 0.9064, 0.3996sec\n",
            "epoch: 157, loss_train: 0.0970, accuracy_train: 0.9745, loss_valid: 0.2962, accuracy_valid: 0.9072, 0.4254sec\n",
            "epoch: 158, loss_train: 0.0970, accuracy_train: 0.9747, loss_valid: 0.2953, accuracy_valid: 0.9064, 0.4266sec\n",
            "epoch: 159, loss_train: 0.0953, accuracy_train: 0.9755, loss_valid: 0.2958, accuracy_valid: 0.9049, 0.4217sec\n",
            "epoch: 160, loss_train: 0.0959, accuracy_train: 0.9756, loss_valid: 0.2971, accuracy_valid: 0.9004, 0.4168sec\n",
            "epoch: 161, loss_train: 0.0953, accuracy_train: 0.9757, loss_valid: 0.2962, accuracy_valid: 0.9034, 0.4456sec\n",
            "epoch: 162, loss_train: 0.0933, accuracy_train: 0.9760, loss_valid: 0.2956, accuracy_valid: 0.9042, 0.4152sec\n",
            "epoch: 163, loss_train: 0.0927, accuracy_train: 0.9762, loss_valid: 0.2967, accuracy_valid: 0.9057, 0.4170sec\n",
            "epoch: 164, loss_train: 0.0921, accuracy_train: 0.9768, loss_valid: 0.2968, accuracy_valid: 0.9049, 0.4353sec\n",
            "epoch: 165, loss_train: 0.0921, accuracy_train: 0.9761, loss_valid: 0.2999, accuracy_valid: 0.9042, 0.4028sec\n"
          ]
        }
      ]
    },
    {
      "cell_type": "code",
      "source": [
        "# エポックごとの損失と正解率を可視化\n",
        "\n",
        "fig, ax = plt.subplots(1, 2, figsize=(15, 5))\n",
        "ax[0].plot(np.array(log['train']).T[0], label='train')\n",
        "ax[0].plot(np.array(log['valid']).T[0], label='valid')\n",
        "ax[0].set_xlabel('epoch')\n",
        "ax[0].set_ylabel('loss')\n",
        "ax[0].legend()\n",
        "ax[1].plot(np.array(log['train']).T[1], label='train')\n",
        "ax[1].plot(np.array(log['valid']).T[1], label='valid')\n",
        "ax[1].set_xlabel('epoch')\n",
        "ax[1].set_ylabel('accuracy')\n",
        "ax[1].legend()\n",
        "plt.show()"
      ],
      "metadata": {
        "colab": {
          "base_uri": "https://localhost:8080/",
          "height": 324
        },
        "id": "I4wN2LdPVemC",
        "outputId": "1009cae6-ea35-4a8a-c806-8314fb0d2f44"
      },
      "execution_count": 37,
      "outputs": [
        {
          "output_type": "display_data",
          "data": {
            "text/plain": [
              "<Figure size 1080x360 with 2 Axes>"
            ],
            "image/png": "[encoded data removed]"
          },
          "metadata": {
            "needs_background": "light"
          }
        }
      ]
    },
    {
      "cell_type": "code",
      "source": [
        "def calculate_accuracy(model, loader, device):\n",
        "  model.eval()\n",
        "  total = 0\n",
        "  correct = 0\n",
        "  with torch.no_grad():\n",
        "    for inputs, labels in loader:\n",
        "      inputs = inputs.to(device)\n",
        "      labels = labels.to(device)\n",
        "      outputs = model(inputs)\n",
        "      pred = torch.argmax(outputs, dim=-1)\n",
        "      total += len(inputs)\n",
        "      correct += (pred == labels).sum().item()\n",
        "\n",
        "  return correct / total"
      ],
      "metadata": {
        "id": "uk8LVQIqVf7n"
      },
      "execution_count": 38,
      "outputs": []
    },
    {
      "cell_type": "code",
      "source": [
        "# 正解率の確認\n",
        "acc_train = calculate_accuracy(model, dataloader_train, device)\n",
        "acc_test = calculate_accuracy(model, dataloader_test, device)\n",
        "print(f'正解率（学習データ）：{acc_train:.3f}')\n",
        "print(f'正解率（評価データ）：{acc_test:.3f}')"
      ],
      "metadata": {
        "colab": {
          "base_uri": "https://localhost:8080/"
        },
        "id": "r8t3INJdVhgc",
        "outputId": "a8c7ce67-67bc-4742-b8b2-d0dc9fa13a63"
      },
      "execution_count": 39,
      "outputs": [
        {
          "output_type": "stream",
          "name": "stdout",
          "text": [
            "正解率（学習データ）：0.976\n",
            "正解率（評価データ）：0.916\n"
          ]
        }
      ]
    },
    {
      "cell_type": "code",
      "source": [
        ""
      ],
      "metadata": {
        "id": "04V9YXLuWgv4"
      },
      "execution_count": null,
      "outputs": []
    }
  ]
}