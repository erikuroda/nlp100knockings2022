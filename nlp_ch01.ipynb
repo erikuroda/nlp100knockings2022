{
 "cells": [
  {
   "cell_type": "markdown",
   "metadata": {},
   "source": [
    "# 第1章：準備運動\n",
    "***"
   ]
  },
  {
   "cell_type": "code",
   "execution_count": 1,
   "metadata": {},
   "outputs": [],
   "source": [
    "import random"
   ]
  },
  {
   "cell_type": "markdown",
   "metadata": {},
   "source": [
    "***\n",
    "## 00.文字列の逆順\n",
    ">文字列”stressed”の文字を逆に（末尾から先頭に向かって）並べた文字列を得よ．"
   ]
  },
  {
   "cell_type": "code",
   "execution_count": 2,
   "metadata": {},
   "outputs": [],
   "source": [
    "s = \"stressed\"\n",
    "ans00 = s[::-1] # [start:stop:step]"
   ]
  },
  {
   "cell_type": "code",
   "execution_count": 3,
   "metadata": {},
   "outputs": [
    {
     "name": "stdout",
     "output_type": "stream",
     "text": [
      "desserts\n"
     ]
    }
   ],
   "source": [
    "print(ans00)"
   ]
  },
  {
   "cell_type": "markdown",
   "metadata": {},
   "source": [
    "***\n",
    "## 01.「パタトクカシーー」\n",
    ">「パタトクカシーー」という文字列の1,3,5,7文字目を取り出して連結した文字列を得よ．"
   ]
  },
  {
   "cell_type": "code",
   "execution_count": 4,
   "metadata": {},
   "outputs": [],
   "source": [
    "s = \"パタトクカシーー\"\n",
    "ans01 = s[::2]"
   ]
  },
  {
   "cell_type": "code",
   "execution_count": 5,
   "metadata": {},
   "outputs": [
    {
     "name": "stdout",
     "output_type": "stream",
     "text": [
      "パトカー\n"
     ]
    }
   ],
   "source": [
    "print(ans01)"
   ]
  },
  {
   "cell_type": "markdown",
   "metadata": {},
   "source": [
    "***\n",
    "## 02.「パトカー」＋「タクシー」＝「パタトクカシーー」\n",
    ">「パトカー」＋「タクシー」の文字を先頭から交互に連結して文字列「パタトクカシーー」を得よ．"
   ]
  },
  {
   "cell_type": "code",
   "execution_count": 6,
   "metadata": {},
   "outputs": [],
   "source": [
    "s1 = \"パトカー\"\n",
    "s2 = \"タクシー\"\n",
    "ans02 = \"\"\n",
    "\n",
    "for i in range(len(s1)):\n",
    "    ans02 += (s1[i] + s2[i])"
   ]
  },
  {
   "cell_type": "code",
   "execution_count": 7,
   "metadata": {},
   "outputs": [
    {
     "name": "stdout",
     "output_type": "stream",
     "text": [
      "パタトクカシーー\n"
     ]
    }
   ],
   "source": [
    "print(ans02)"
   ]
  },
  {
   "cell_type": "markdown",
   "metadata": {},
   "source": [
    "***\n",
    "## 03.円周率\n",
    ">“Now I need a drink, alcoholic of course, after the heavy lectures involving quantum mechanics.”という文を単語に分解し，各単語の（アルファベットの）文字数を先頭から出現順に並べたリストを作成せよ."
   ]
  },
  {
   "cell_type": "code",
   "execution_count": 8,
   "metadata": {},
   "outputs": [],
   "source": [
    "s = \"Now I need a drink, alcoholic of course, after the heavy lectures involving quantum mechanics.\"\n",
    "\n",
    "s = s.replace(',', '').replace('.', '') # 置換\n",
    "\n",
    "ans03 = [len(w) for w in s.split()] # 分割"
   ]
  },
  {
   "cell_type": "code",
   "execution_count": 9,
   "metadata": {},
   "outputs": [
    {
     "name": "stdout",
     "output_type": "stream",
     "text": [
      "[3, 1, 4, 1, 5, 9, 2, 6, 5, 3, 5, 8, 9, 7, 9]\n"
     ]
    }
   ],
   "source": [
    "print(ans03)"
   ]
  },
  {
   "cell_type": "markdown",
   "metadata": {},
   "source": [
    "***\n",
    "## 04.元素記号\n",
    ">“Hi He Lied Because Boron Could Not Oxidize Fluorine. New Nations Might Also Sign Peace Security Clause. Arthur King Can.”という文を単語に分解し，1, 5, 6, 7, 8, 9, 15, 16, 19番目の単語は先頭の1文字，それ以外の単語は先頭の2文字を取り出し，取り出した文字列から単語の位置（先頭から何番目の単語か）への連想配列（辞書型もしくはマップ型）を作成せよ．"
   ]
  },
  {
   "cell_type": "code",
   "execution_count": 10,
   "metadata": {},
   "outputs": [],
   "source": [
    "s = \"Hi He Lied Because Boron Could Not Oxidize Fluorine. New Nations Might Also Sign Peace Security Clause. Arthur King Can.\"\n",
    "head_ids = [1, 5, 6, 7, 8, 9, 15, 16, 19]\n",
    "\n",
    "s = s.replace(',', '').replace('.', '')\n",
    "ans04 = {} # dict\n",
    "\n",
    "for i, w in enumerate(s.split(), 1): # for インデックス番号, 要素 in enumerate(x, 開始数値): \n",
    "    if i in head_ids:\n",
    "        length = 1\n",
    "    else:\n",
    "        length = 2\n",
    "    ans04[w[:length]] = i # 辞書に追加 dict[key] = value "
   ]
  },
  {
   "cell_type": "code",
   "execution_count": 11,
   "metadata": {},
   "outputs": [
    {
     "name": "stdout",
     "output_type": "stream",
     "text": [
      "{'H': 1, 'He': 2, 'Li': 3, 'Be': 4, 'B': 5, 'C': 6, 'N': 7, 'O': 8, 'F': 9, 'Ne': 10, 'Na': 11, 'Mi': 12, 'Al': 13, 'Si': 14, 'P': 15, 'S': 16, 'Cl': 17, 'Ar': 18, 'K': 19, 'Ca': 20}\n"
     ]
    }
   ],
   "source": [
    "print(ans04)"
   ]
  },
  {
   "cell_type": "markdown",
   "metadata": {},
   "source": [
    "***\n",
    "## 05.n-gram\n",
    ">与えられたシーケンス（文字列やリストなど）からn-gramを作る関数を作成せよ．この関数を用い，”I am an NLPer”という文から単語bi-gram，文字bi-gramを得よ．"
   ]
  },
  {
   "cell_type": "code",
   "execution_count": 12,
   "metadata": {},
   "outputs": [],
   "source": [
    "def n_gram(s, n): \n",
    "    ans = []\n",
    "    for i in range(len(s)-n+1):\n",
    "        ans.append(s[i:i+n])\n",
    "        \n",
    "    return ans"
   ]
  },
  {
   "cell_type": "code",
   "execution_count": 13,
   "metadata": {},
   "outputs": [],
   "source": [
    "s = \"I am an NLPer\"\n",
    "ans05_1 = n_gram(s.split(), 2) # 単語bi-gram\n",
    "ans05_2 = n_gram(s, 2) # 文字bi-gram"
   ]
  },
  {
   "cell_type": "code",
   "execution_count": 14,
   "metadata": {},
   "outputs": [
    {
     "name": "stdout",
     "output_type": "stream",
     "text": [
      "[['I', 'am'], ['am', 'an'], ['an', 'NLPer']]\n",
      "['I ', ' a', 'am', 'm ', ' a', 'an', 'n ', ' N', 'NL', 'LP', 'Pe', 'er']\n"
     ]
    }
   ],
   "source": [
    "print(ans05_1) # 単語bi-gram\n",
    "print(ans05_2) # 文字bi-gram"
   ]
  },
  {
   "cell_type": "markdown",
   "metadata": {},
   "source": [
    " ***\n",
    " ## 06.集合\n",
    " >“paraparaparadise”と”paragraph”に含まれる文字bi-gramの集合を，それぞれ, XとYとして求め，XとYの和集合，積集合，差集合を求めよ．さらに，’se’というbi-gramがXおよびYに含まれるかどうかを調べよ．"
   ]
  },
  {
   "cell_type": "code",
   "execution_count": 15,
   "metadata": {},
   "outputs": [],
   "source": [
    "s1 = \"paraparaparadise\"\n",
    "s2 = \"paragraph\""
   ]
  },
  {
   "cell_type": "code",
   "execution_count": 16,
   "metadata": {},
   "outputs": [
    {
     "name": "stdout",
     "output_type": "stream",
     "text": [
      "X: {'di', 'ad', 'se', 'ap', 'ra', 'ar', 'is', 'pa'}\n",
      "Y: {'ph', 'ag', 'gr', 'ap', 'ra', 'ar', 'pa'}\n"
     ]
    }
   ],
   "source": [
    "X = set(n_gram(s1, 2))\n",
    "Y = set(n_gram(s2, 2))\n",
    "\n",
    "print('X:', X)\n",
    "print('Y:', Y)\n",
    "\n",
    "wa = X | Y\n",
    "seki = X & Y\n",
    "sa_xy = X - Y\n",
    "sa_yx = Y - X\n",
    "\n",
    "flagX = 'se' in X\n",
    "flagY = 'se' in Y"
   ]
  },
  {
   "cell_type": "code",
   "execution_count": 17,
   "metadata": {},
   "outputs": [
    {
     "name": "stdout",
     "output_type": "stream",
     "text": [
      "和集合： {'ph', 'di', 'ad', 'ag', 'se', 'gr', 'ap', 'ra', 'ar', 'is', 'pa'}\n",
      "積集合： {'ra', 'pa', 'ap', 'ar'}\n",
      "差集合（X ー Y）： {'se', 'is', 'di', 'ad'}\n",
      "差集合（Y ー X）： {'ph', 'ag', 'gr'}\n",
      "'se'がXに含まれる： True\n",
      "'se'がYに含まれる： False\n"
     ]
    }
   ],
   "source": [
    "print('和集合：', wa)\n",
    "print('積集合：', seki)\n",
    "print('差集合（X ー Y）：', sa_xy)\n",
    "print('差集合（Y ー X）：', sa_yx)\n",
    "\n",
    "print('\\'se\\'がXに含まれる：', flagX)\n",
    "print('\\'se\\'がYに含まれる：', flagY)"
   ]
  },
  {
   "cell_type": "markdown",
   "metadata": {},
   "source": [
    "***\n",
    "## 07.テンプレートによる文生成\n",
    ">引数x, y, zを受け取り「x時のyはz」という文字列を返す関数を実装せよ．さらに，x=12, y=”気温”, z=22.4として，実行結果を確認せよ．"
   ]
  },
  {
   "cell_type": "code",
   "execution_count": 18,
   "metadata": {},
   "outputs": [],
   "source": [
    "def template(x, y, z):\n",
    "    return \"{}時の{}は{}\".format(str(x), str(y), str(z))\n",
    "    # return \"{a}時の{b}は{c}\".format(a=str(x), b=str(y), c=str(z))"
   ]
  },
  {
   "cell_type": "code",
   "execution_count": 19,
   "metadata": {},
   "outputs": [],
   "source": [
    "x = 12\n",
    "y = \"気温\"\n",
    "z = 22.4\n",
    "\n",
    "ans07 = template(x, y, z)"
   ]
  },
  {
   "cell_type": "code",
   "execution_count": 20,
   "metadata": {},
   "outputs": [
    {
     "name": "stdout",
     "output_type": "stream",
     "text": [
      "12時の気温は22.4\n"
     ]
    }
   ],
   "source": [
    "print(ans07)"
   ]
  },
  {
   "cell_type": "markdown",
   "metadata": {},
   "source": [
    "***\n",
    "## 08.暗号文\n",
    ">与えられた文字列の各文字を，以下の仕様で変換する関数cipherを実装せよ．\n",
    ">\n",
    ">- 英小文字ならば(219 - 文字コード)の文字に置換\n",
    ">- その他の文字はそのまま出力\n",
    ">\n",
    ">この関数を用い，英語のメッセージを暗号化・復号化せよ． \n",
    "\n"
   ]
  },
  {
   "cell_type": "code",
   "execution_count": 21,
   "metadata": {},
   "outputs": [],
   "source": [
    "def cipher(s):\n",
    "    ans = \"\"\n",
    "    for c in s:\n",
    "        if c.islower(): # 全て小文字:True\n",
    "            ans += chr(219-ord(c)) # ord('文字') chr(数値) ascii\n",
    "        else:\n",
    "            ans += c\n",
    "            \n",
    "    return ans"
   ]
  },
  {
   "cell_type": "code",
   "execution_count": 22,
   "metadata": {},
   "outputs": [
    {
     "name": "stdout",
     "output_type": "stream",
     "text": [
      "Hvool Wliow!\n"
     ]
    }
   ],
   "source": [
    "x = \"Hello World!\"\n",
    "print(cipher(x))"
   ]
  },
  {
   "cell_type": "markdown",
   "metadata": {},
   "source": [
    "***\n",
    "## 09.Typoglycemia\n",
    ">スペースで区切られた単語列に対して，各単語の先頭と末尾の文字は残し，それ以外の文字の順序をランダムに並び替えるプログラムを作成せよ．ただし，長さが４以下の単語は並び替えないこととする．適当な英語の文（例えば”I couldn’t believe that I could actually understand what I was reading : the phenomenal power of the human mind .”）を与え，その実行結果を確認せよ．"
   ]
  },
  {
   "cell_type": "code",
   "execution_count": 23,
   "metadata": {},
   "outputs": [],
   "source": [
    "def typoglycemia(s):\n",
    "    \n",
    "    ans = \"\"\n",
    "    \n",
    "    for w in s.split():\n",
    "        if len(w) > 4:\n",
    "            ans += w[0] +''.join(random.sample(w[1:-1],  len(w[1:-1]))) + w[-1] + ' '\n",
    "            # random.sample(list, n) リストからランダムで重複なしでn要素抽出(リストが返される)\n",
    "            # 文字列に戻すのに '区切り文字'.join(連結したいリスト)\n",
    "        else:\n",
    "            ans += w + ' '\n",
    "    \n",
    "    return ans"
   ]
  },
  {
   "cell_type": "code",
   "execution_count": 24,
   "metadata": {},
   "outputs": [
    {
     "name": "stdout",
     "output_type": "stream",
     "text": [
      "I clnd’uot bveelie that I cloud aucaltly undntserad what I was rdneaig : the peeoanmnhl pewor of the hmaun mind . \n"
     ]
    }
   ],
   "source": [
    "print(typoglycemia('I couldn’t believe that I could actually understand what I was reading : the phenomenal power of the human mind .'))"
   ]
  }
 ],
 "metadata": {
  "kernelspec": {
   "display_name": "Python 3",
   "language": "python",
   "name": "python3"
  },
  "language_info": {
   "codemirror_mode": {
    "name": "ipython",
    "version": 3
   },
   "file_extension": ".py",
   "mimetype": "text/x-python",
   "name": "python",
   "nbconvert_exporter": "python",
   "pygments_lexer": "ipython3",
   "version": "3.8.3"
  }
 },
 "nbformat": 4,
 "nbformat_minor": 4
}
