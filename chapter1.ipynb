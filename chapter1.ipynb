{
  "cells": [
    {
      "cell_type": "markdown",
      "metadata": {
        "id": "view-in-github",
        "colab_type": "text"
      },
      "source": [
        "<a href=\"https://colab.research.google.com/github/erikuroda/nlp100knockings2022/blob/kuroda/chapter1.ipynb\" target=\"_parent\"><img src=\"https://colab.research.google.com/assets/colab-badge.svg\" alt=\"Open In Colab\"/></a>"
      ]
    },
    {
      "cell_type": "markdown",
      "metadata": {
        "id": "6U7hF9Mq0MDD"
      },
      "source": [
        "# 第１章：準備運動\n",
        "## 00.文字列の逆順\n",
        "文字列\"stressed\"の文字を逆に(末尾から先頭に向かって)並べた文字列を得よ．"
      ]
    },
    {
      "cell_type": "code",
      "execution_count": null,
      "metadata": {
        "id": "GrU7Pflh0MDG",
        "outputId": "ce1e6a3b-f7a9-416d-8c22-7e74d736d067"
      },
      "outputs": [
        {
          "name": "stdout",
          "output_type": "stream",
          "text": [
            "stressed\n",
            "desserts\n"
          ]
        }
      ],
      "source": [
        "x = \"stressed\"\n",
        "print(x)\n",
        "print(x[::-1])"
      ]
    },
    {
      "cell_type": "code",
      "execution_count": null,
      "metadata": {
        "id": "P7vm3mrR0MDH",
        "outputId": "74c58691-e548-47f0-a86f-8e4bf90621a7"
      },
      "outputs": [
        {
          "name": "stdout",
          "output_type": "stream",
          "text": [
            "res\n",
            "stres\n",
            "ressed\n",
            "ed\n",
            "str\n",
            "srse\n",
            "tesd\n",
            "desserts\n"
          ]
        }
      ],
      "source": [
        "# start:stop\n",
        "print(x[2:5])\n",
        "print(x[:5])\n",
        "print(x[2:])\n",
        "print(x[-2:])\n",
        "print(x[:-5])\n",
        "\n",
        "# start:stop:step\n",
        "print(x[::2])\n",
        "print(x[1::2])\n",
        "print(x[::-1])"
      ]
    },
    {
      "cell_type": "markdown",
      "metadata": {
        "id": "A4evLFfD0MDH"
      },
      "source": [
        "## 01. 「パタトクカシーー」\n",
        "「パタトクカシーー」という文字列の1,3,5,7文字目を取り出して，連結した文字列を得よ．"
      ]
    },
    {
      "cell_type": "code",
      "execution_count": null,
      "metadata": {
        "id": "LsmAe7lU0MDH",
        "outputId": "aeba67c3-2313-4ab4-cb62-2b2292e5fcbd"
      },
      "outputs": [
        {
          "name": "stdout",
          "output_type": "stream",
          "text": [
            "パタトクカシーー\n",
            "パトカー\n"
          ]
        }
      ],
      "source": [
        "y = \"パタトクカシーー\"\n",
        "print(y)\n",
        "print(y[::2])"
      ]
    },
    {
      "cell_type": "markdown",
      "metadata": {
        "id": "vN7Ow8x_0MDI"
      },
      "source": [
        "## 02. 「パトカー」＋「タクシー」＝「パタトクカシーー」\n",
        "「パトカー」＋「タクシー」の文字を先頭から交互に連結して文字列の「パタトクカシーー」を得よ．"
      ]
    },
    {
      "cell_type": "code",
      "execution_count": null,
      "metadata": {
        "id": "vNNbu0HG0MDI",
        "outputId": "79460965-30fc-46aa-ed50-ec697622d536"
      },
      "outputs": [
        {
          "name": "stdout",
          "output_type": "stream",
          "text": [
            "パタトクカシーー\n"
          ]
        }
      ],
      "source": [
        "x = \"パトカー\"\n",
        "y = \"タクシー\"\n",
        "ans = \"\"\n",
        "\n",
        "for i in range(len(x)):\n",
        "    ans += x[i] + y[i]\n",
        "    \n",
        "print(ans)"
      ]
    },
    {
      "cell_type": "markdown",
      "metadata": {
        "id": "j5fIAfeu0MDI"
      },
      "source": [
        "## 03. 円周率\n",
        "“Now I need a drink, alcoholic of course, after the heavy lectures involving quantum mechanics.”という文を単語に分解し，各単語の（アルファベットの）文字数を先頭から出現順に並べたリストを作成せよ．"
      ]
    },
    {
      "cell_type": "code",
      "execution_count": null,
      "metadata": {
        "id": "iDeFOPi90MDJ",
        "outputId": "2c81348f-0d98-4599-f7da-ff58d4195eca"
      },
      "outputs": [
        {
          "name": "stdout",
          "output_type": "stream",
          "text": [
            "['Now', 'I', 'need', 'a', 'drink', '', 'alcoholic', 'of', 'course', '', 'after', 'the', 'heavy', 'lectures', 'involving', 'quantum', 'mechanics', '']\n"
          ]
        }
      ],
      "source": [
        "import re\n",
        "\n",
        "x = \"Now I need a drink, alcoholic of course, after the heavy lectures involving quantum mechanics.\"\n",
        "y = re.split(' |,|\\.', x)\n",
        "print(y)"
      ]
    },
    {
      "cell_type": "code",
      "execution_count": null,
      "metadata": {
        "id": "croKTm-30MDJ",
        "outputId": "669cc419-e1aa-4408-8186-406f018319bd"
      },
      "outputs": [
        {
          "name": "stdout",
          "output_type": "stream",
          "text": [
            "[3, 1, 4, 1, 5, 9, 2, 6, 5, 3, 5, 8, 9, 7, 9]\n"
          ]
        }
      ],
      "source": [
        "count = [len(x) for x in y if len(x) > 0]\n",
        "print(count)"
      ]
    },
    {
      "cell_type": "code",
      "execution_count": null,
      "metadata": {
        "id": "P5z9-zmI0MDJ",
        "outputId": "ce0bc5d6-3824-4aa3-e6e2-7f68c4313ca4"
      },
      "outputs": [
        {
          "name": "stdout",
          "output_type": "stream",
          "text": [
            "3,1,4,1,5,0,9,2,6,0,5,3,5,8,9,7,9,0,"
          ]
        }
      ],
      "source": [
        "for x in y:\n",
        "    print(len(x), end=',')"
      ]
    },
    {
      "cell_type": "markdown",
      "metadata": {
        "id": "js8FCJBh0MDK"
      },
      "source": [
        "## 04. 元素記号\n",
        "“Hi He Lied Because Boron Could Not Oxidize Fluorine. New Nations Might Also Sign Peace Security Clause. Arthur King Can.”\n",
        "という文を単語に分解し，1, 5, 6, 7, 8, 9, 15, 16, 19番目の単語は先頭の1文字，それ以外の単語は先頭の2文字を取り出し，取り出した文字列から単語の位置（先頭から何番目の単語か）への連想配列（辞書型もしくはマップ型）を作成せよ"
      ]
    },
    {
      "cell_type": "code",
      "execution_count": null,
      "metadata": {
        "id": "xywueRgF0MDK",
        "outputId": "5876fa98-01c8-4d29-b214-c19e639ae3c8"
      },
      "outputs": [
        {
          "name": "stdout",
          "output_type": "stream",
          "text": [
            "['Hi', 'He', 'Lied', 'Because', 'Boron', 'Could', 'Not', 'Oxidize', 'Fluorine', 'New', 'Nations', 'Might', 'Also', 'Sign', 'Peace', 'Security', 'Clause', 'Arthur', 'King', 'Can']\n",
            "{1: 'H', 2: 'He', 3: 'Li', 4: 'Be', 5: 'B', 6: 'C', 7: 'N', 8: 'O', 9: 'F', 10: 'Ne', 11: 'Na', 12: 'Mi', 13: 'Al', 14: 'Si', 15: 'P', 16: 'S', 17: 'Cl', 18: 'Ar', 19: 'K', 20: 'Ca'}\n"
          ]
        }
      ],
      "source": [
        "import re\n",
        "\n",
        "x = \"Hi He Lied Because Boron Could Not Oxidize Fluorine. New Nations Might Also Sign Peace Security Clause. Arthur King Can.\"\n",
        "\n",
        "y = x.replace(',','')\n",
        "y = y.replace('.','')\n",
        "text = y.split()\n",
        "ans = {}\n",
        "print(text)\n",
        "\n",
        "number = [1,5,6,7,8,9,15,16,19]\n",
        "\n",
        "for i in range(len(text)):\n",
        "    if i+1 in number:\n",
        "        ans[i+1] = text[i][0]\n",
        "    else:\n",
        "        ans[i+1] = text[i][0:2]\n",
        "        \n",
        "print(ans)"
      ]
    },
    {
      "cell_type": "markdown",
      "metadata": {
        "id": "zboaVSii0MDK"
      },
      "source": [
        "## 05. n-gram\n",
        "与えられたシーケンス（文字列やリストなど）からn-gramを作る関数を作成せよ．この関数を用い，”I am an NLPer”という文から単語bi-gram，文字bi-gramを得よ．"
      ]
    },
    {
      "cell_type": "code",
      "execution_count": null,
      "metadata": {
        "id": "h2NyGDFt0MDK"
      },
      "outputs": [],
      "source": [
        "def make_n_gram(text, n):\n",
        "    n_gram = []\n",
        "    \n",
        "    for i in range(len(text)-1):\n",
        "        n_gram.append(text[i] + text[i+1])\n",
        "        \n",
        "    return n_gram"
      ]
    },
    {
      "cell_type": "code",
      "execution_count": null,
      "metadata": {
        "tags": [],
        "id": "CxJ5cWL10MDK",
        "outputId": "3431d120-7b6c-4fbf-937f-66ea3bdd2531"
      },
      "outputs": [
        {
          "name": "stdin",
          "output_type": "stream",
          "text": [
            " I am an NLPer\n"
          ]
        },
        {
          "name": "stdout",
          "output_type": "stream",
          "text": [
            "['Iam', 'aman', 'anNLPer']\n",
            "['Ia', 'am', 'ma', 'an', 'nN', 'NL', 'LP', 'Pe', 'er']\n"
          ]
        }
      ],
      "source": [
        "def main():\n",
        "\ttext = input()\n",
        "\t\n",
        "    # 単語\n",
        "\ttext_word = text.split()\n",
        "\tprint(make_n_gram(text_word, 2))\n",
        "\n",
        "    # 文字\n",
        "\ttext = text.replace(' ', '')\n",
        "\tprint(make_n_gram(text, 2))\n",
        "\n",
        "if __name__ == '__main__':\n",
        "\tmain()"
      ]
    },
    {
      "cell_type": "markdown",
      "metadata": {
        "id": "M-5wQENH0MDK"
      },
      "source": [
        "## 06.集合\n",
        "\"paraparaparadise”と”paragraph”に含まれる文字bi-gramの集合を，それぞれ, XとYとして求め，XとYの和集合，積集合，差集合を求めよ．さらに，’se’というbi-gramがXおよびYに含まれるかどうかを調べよ．"
      ]
    },
    {
      "cell_type": "code",
      "execution_count": null,
      "metadata": {
        "id": "6iNUF1yQ0MDL",
        "outputId": "67934357-5c8b-493d-b6ba-7113dc045d9e"
      },
      "outputs": [
        {
          "name": "stdout",
          "output_type": "stream",
          "text": [
            "X： {'ap', 'se', 'pa', 'di', 'ad', 'is', 'ar', 'ra'}\n",
            "Y： {'ap', 'gr', 'pa', 'ag', 'ph', 'ar', 'ra'}\n",
            "和集合： {'ap', 'se', 'gr', 'pa', 'ag', 'di', 'ad', 'ph', 'is', 'ar', 'ra'}\n",
            "積集合： {'ap', 'ar', 'pa', 'ra'}\n",
            "差集合： {'is', 'di', 'ad', 'se'}\n",
            "True\n",
            "False\n"
          ]
        }
      ],
      "source": [
        "str1 = 'paraparaparadise'\n",
        "str2 = 'paragraph'\n",
        "X = set(make_n_gram(str1, 2))\n",
        "Y = set(make_n_gram(str2, 2))\n",
        "\n",
        "print('X：', X)\n",
        "print('Y：', Y)\n",
        "print('和集合：', X | Y)\n",
        "print('積集合：', X & Y)\n",
        "print('差集合：', X - Y)\n",
        "\n",
        "print('se' in X)\n",
        "print('se' in Y)"
      ]
    },
    {
      "cell_type": "markdown",
      "metadata": {
        "id": "TYH9a3yN0MDL"
      },
      "source": [
        "## 07. テンプレートによる文生成\n",
        "引数x, y, zを受け取り「x時のyはz」という文字列を返す関数を実装せよ．さらに，x=12, y=”気温”, z=22.4として，実行結果を確認せよ．"
      ]
    },
    {
      "cell_type": "code",
      "execution_count": null,
      "metadata": {
        "id": "hk1Dz2-J0MDL"
      },
      "outputs": [],
      "source": [
        "def make_tmplate(x, y, z):\n",
        "    return print(f'{x}時の{y}は{z}')\n",
        "# f文字列(formatの埋め込みはPython 3.6以降から可能になった)"
      ]
    },
    {
      "cell_type": "code",
      "execution_count": null,
      "metadata": {
        "id": "hUs1LQjW0MDL",
        "outputId": "a8501150-679a-4bc3-b8f9-de2ceb352714"
      },
      "outputs": [
        {
          "name": "stdout",
          "output_type": "stream",
          "text": [
            "12時の気温は22.4\n"
          ]
        }
      ],
      "source": [
        "make_tmplate(12, \"気温\", 22.4)"
      ]
    },
    {
      "cell_type": "markdown",
      "metadata": {
        "id": "7Dcrll-i0MDL"
      },
      "source": [
        "## 08. 暗号文\n",
        "与えられた文字列の各文字を，以下の仕様で変換する関数cipherを実装せよ．\n",
        "- 英小文字ならば(219 - 文字コード)の文字に置換\n",
        "- その他の文字はそのまま出力\n",
        "\n",
        "この関数を用い，英語のメッセージを暗号化・復号化せよ．"
      ]
    },
    {
      "cell_type": "code",
      "execution_count": null,
      "metadata": {
        "id": "zUTN3VJe0MDL"
      },
      "outputs": [],
      "source": [
        "def cipher(str):\n",
        "    ans = ''\n",
        "    for x in str:\n",
        "        if x.islower() == True:\n",
        "            ans += chr(219 - ord(x))\n",
        "        else:\n",
        "            ans += x\n",
        "    return ans"
      ]
    },
    {
      "cell_type": "code",
      "execution_count": null,
      "metadata": {
        "id": "kTCux_vl0MDL",
        "outputId": "37a12177-b92d-4578-adb3-e98db3e641ce"
      },
      "outputs": [
        {
          "data": {
            "text/plain": [
              "'I zn zm NLPvi'"
            ]
          },
          "execution_count": 58,
          "metadata": {},
          "output_type": "execute_result"
        }
      ],
      "source": [
        "cipher('I am an NLPer')"
      ]
    },
    {
      "cell_type": "markdown",
      "metadata": {
        "id": "7RaB6YCf0MDL"
      },
      "source": [
        "## 09. Typoglycemia\n",
        "スペースで区切られた単語列に対して，各単語の先頭と末尾の文字は残し，それ以外の文字の順序をランダムに並び替えるプログラムを作成せよ．ただし，長さが４以下の単語は並び替えないこととする．適当な英語の文（例えば”I couldn’t believe that I could actually understand what I was reading : the phenomenal power of the human mind .”）を与え，その実行結果を確認せよ．"
      ]
    },
    {
      "cell_type": "code",
      "execution_count": null,
      "metadata": {
        "id": "CUYKyZzA0MDM"
      },
      "outputs": [],
      "source": [
        "import random"
      ]
    },
    {
      "cell_type": "code",
      "execution_count": null,
      "metadata": {
        "id": "aHZ428rT0MDM"
      },
      "outputs": [],
      "source": [
        "def typo(words):\n",
        "    ans = []\n",
        "    for word in words.split():\n",
        "        if len(word) > 4:\n",
        "            word = word[:1] + ''.join(random.sample(word[1:-1], len(word)-2)) + word[-1:]\n",
        "        ans.append(word)\n",
        "    return ' '.join(ans)"
      ]
    },
    {
      "cell_type": "code",
      "execution_count": null,
      "metadata": {
        "id": "3g9EnFuU0MDM",
        "outputId": "bf2fa994-1d20-4022-deda-d1ab877f7edf"
      },
      "outputs": [
        {
          "name": "stdout",
          "output_type": "stream",
          "text": [
            "I cnd’ulot bilveee that I could aluatcly unteradsnd what I was riaedng : the ponaemenhl peowr of the hamun mind .\n"
          ]
        }
      ],
      "source": [
        "word = 'I couldn’t believe that I could actually understand what I was reading : the phenomenal power of the human mind .'\n",
        "ans  = typo(word)\n",
        "print(ans)"
      ]
    }
  ],
  "metadata": {
    "kernelspec": {
      "display_name": "Python 3",
      "language": "python",
      "name": "python3"
    },
    "language_info": {
      "codemirror_mode": {
        "name": "ipython",
        "version": 3
      },
      "file_extension": ".py",
      "mimetype": "text/x-python",
      "name": "python",
      "nbconvert_exporter": "python",
      "pygments_lexer": "ipython3",
      "version": "3.9.1"
    },
    "colab": {
      "name": "chapter1.ipynb",
      "provenance": [],
      "collapsed_sections": [],
      "include_colab_link": true
    }
  },
  "nbformat": 4,
  "nbformat_minor": 0
}