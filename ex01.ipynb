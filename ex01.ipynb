{
 "cells": [
  {
   "cell_type": "code",
   "execution_count": 8,
   "metadata": {},
   "outputs": [
    {
     "data": {
      "text/plain": [
       "'desserts'"
      ]
     },
     "execution_count": 8,
     "metadata": {},
     "output_type": "execute_result"
    }
   ],
   "source": [
    "s = 'stressed'\n",
    "s[::-1]"
   ]
  },
  {
   "cell_type": "code",
   "execution_count": 9,
   "metadata": {},
   "outputs": [
    {
     "data": {
      "text/plain": [
       "'パトカー'"
      ]
     },
     "execution_count": 9,
     "metadata": {},
     "output_type": "execute_result"
    }
   ],
   "source": [
    "s = 'パタトクカシーー'\n",
    "''.join([s[x] for x in range(len(s)) if x%2==0])"
   ]
  },
  {
   "cell_type": "code",
   "execution_count": 10,
   "metadata": {},
   "outputs": [
    {
     "data": {
      "text/plain": [
       "'パタトクカシーー'"
      ]
     },
     "execution_count": 10,
     "metadata": {},
     "output_type": "execute_result"
    }
   ],
   "source": [
    "s1 = 'パトカー'\n",
    "s2 = 'タクシー'\n",
    "''.join([x+s2[s1.index(x)] for x in s1])"
   ]
  },
  {
   "cell_type": "code",
   "execution_count": 11,
   "metadata": {},
   "outputs": [
    {
     "data": {
      "text/plain": [
       "[3, 1, 4, 1, 6, 9, 2, 7, 5, 3, 5, 8, 9, 7, 9]"
      ]
     },
     "execution_count": 11,
     "metadata": {},
     "output_type": "execute_result"
    }
   ],
   "source": [
    "s = \"Now I need a drink, alcoholic of course, after the heavy lectures involving quantum mechanics.\"\n",
    "snew = s.strip('.').split()\n",
    "slen = [len(x) for x in snew]\n",
    "slen"
   ]
  },
  {
   "cell_type": "code",
   "execution_count": 12,
   "metadata": {},
   "outputs": [
    {
     "data": {
      "text/plain": [
       "{'H': 1,\n",
       " 'He': 2,\n",
       " 'Li': 3,\n",
       " 'Be': 4,\n",
       " 'B': 5,\n",
       " 'C': 6,\n",
       " 'N': 7,\n",
       " 'O': 8,\n",
       " 'F': 9,\n",
       " 'Ne': 10,\n",
       " 'Na': 11,\n",
       " 'Mi': 12,\n",
       " 'Al': 13,\n",
       " 'Si': 14,\n",
       " 'P': 15,\n",
       " 'S': 16,\n",
       " 'Cl': 17,\n",
       " 'Ar': 18,\n",
       " 'K': 19,\n",
       " 'Ca': 20}"
      ]
     },
     "execution_count": 12,
     "metadata": {},
     "output_type": "execute_result"
    }
   ],
   "source": [
    "s = \"Hi He Lied Because Boron Could Not Oxidize Fluorine. New Nations Might Also Sign Peace Security Clause. Arthur King Can.\"\n",
    "scut = s.strip('.').split()\n",
    "c1 = [0, 4, 5, 6, 7, 8, 14, 15, 18]\n",
    "snew = {}\n",
    "for i in range(len(scut)):\n",
    "    if i in c1:\n",
    "        snew[scut[i][:1]] = i+1\n",
    "    else:\n",
    "        snew[scut[i][:2]] = i+1\n",
    "snew"
   ]
  },
  {
   "cell_type": "code",
   "execution_count": 13,
   "metadata": {},
   "outputs": [
    {
     "data": {
      "text/plain": [
       "{' N', ' a', 'I ', 'LP', 'NL', 'Pe', 'am', 'an', 'er', 'm ', 'n '}"
      ]
     },
     "execution_count": 13,
     "metadata": {},
     "output_type": "execute_result"
    }
   ],
   "source": [
    "def ngram(n,s):\n",
    "    x = set()\n",
    "    for i in range(0,len(s)-n+1):\n",
    "        x.add(s[i:i+n])\n",
    "    return x\n",
    "\n",
    "ngram(2,'I am an NLPer')"
   ]
  },
  {
   "cell_type": "code",
   "execution_count": 14,
   "metadata": {},
   "outputs": [
    {
     "name": "stdout",
     "output_type": "stream",
     "text": [
      "union: {'is', 'ad', 'pa', 'di', 'ph', 'gr', 'ap', 'ag', 'ra', 'ar', 'se'}\n",
      "intersection: {'ap', 'ra', 'pa', 'ar'}\n",
      "difference: {'is', 'di', 'ad', 'se'}\n"
     ]
    }
   ],
   "source": [
    "s1 = \"paraparaparadise\"\n",
    "s2 = \"paragraph\"\n",
    "\n",
    "X = ngram(2,s1)\n",
    "Y = ngram(2,s2)\n",
    "\n",
    "print(\"union:\", X | Y)\n",
    "print(\"intersection:\", X & Y)\n",
    "print(\"difference:\", X - Y)"
   ]
  },
  {
   "cell_type": "code",
   "execution_count": 15,
   "metadata": {},
   "outputs": [
    {
     "data": {
      "text/plain": [
       "'12時の気温は22.4'"
      ]
     },
     "execution_count": 15,
     "metadata": {},
     "output_type": "execute_result"
    }
   ],
   "source": [
    "def formstr(x,y,z):\n",
    "    return str(x)+\"時の\"+str(y)+\"は\"+str(z)\n",
    "\n",
    "formstr(12,'気温',22.4)"
   ]
  },
  {
   "cell_type": "code",
   "execution_count": 16,
   "metadata": {},
   "outputs": [
    {
     "name": "stdout",
     "output_type": "stream",
     "text": [
      "z.x.1912あ\n",
      "a.c.1912あ\n"
     ]
    }
   ],
   "source": [
    "def cipher(s):\n",
    "    rtn = ''\n",
    "    for c in s:\n",
    "        if c.islower():\n",
    "            rtn += chr(219-ord(c))\n",
    "        else:\n",
    "            rtn += c\n",
    "    return rtn\n",
    "\n",
    "def decypt(s):\n",
    "    rtn = ''\n",
    "    for c in s:\n",
    "        if c.islower():\n",
    "            rtn += chr(-(ord(c)-219))\n",
    "        else:\n",
    "            rtn += c\n",
    "    return rtn\n",
    "\n",
    "print(cipher(\"a.c.1912あ\"))\n",
    "print(decypt(\"z.x.1912あ\"))"
   ]
  },
  {
   "cell_type": "code",
   "execution_count": 17,
   "metadata": {},
   "outputs": [
    {
     "data": {
      "text/plain": [
       "\"believe actually understand power phenomenal reading human couldn't could \""
      ]
     },
     "execution_count": 17,
     "metadata": {},
     "output_type": "execute_result"
    }
   ],
   "source": [
    "import random\n",
    "\n",
    "s = \"I couldn't believe that I could actually understand what I was reading : the phenomenal power of the human mind.\"\n",
    "s = s.strip('.').split()\n",
    "sover4 = [x for x in s if len(x)>4]\n",
    "\n",
    "result = ''\n",
    "while len(sover4) > 0:\n",
    "    i = random.randrange(0,len(sover4))\n",
    "    result += sover4[i] + ' '\n",
    "    del sover4[i]\n",
    "\n",
    "result"
   ]
  }
 ],
 "metadata": {
  "interpreter": {
   "hash": "c6ad6768b8ad03f3b52ee4e1f652c9d81480f4ae6a18d630bfd5c857ce9ada32"
  },
  "kernelspec": {
   "display_name": "Python 3.8.8 ('base')",
   "language": "python",
   "name": "python3"
  },
  "language_info": {
   "codemirror_mode": {
    "name": "ipython",
    "version": 3
   },
   "file_extension": ".py",
   "mimetype": "text/x-python",
   "name": "python",
   "nbconvert_exporter": "python",
   "pygments_lexer": "ipython3",
   "version": "3.8.8"
  },
  "orig_nbformat": 4
 },
 "nbformat": 4,
 "nbformat_minor": 2
}
