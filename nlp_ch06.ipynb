{
 "cells": [
  {
   "cell_type": "markdown",
   "metadata": {},
   "source": [
    "# 第6章：機械学習\n",
    "***"
   ]
  },
  {
   "cell_type": "code",
   "execution_count": 1,
   "metadata": {},
   "outputs": [],
   "source": [
    "import pandas as pd\n",
    "from sklearn.model_selection import train_test_split\n",
    "from sklearn.feature_extraction.text import CountVectorizer\n",
    "from sklearn.linear_model import LogisticRegression\n",
    "import numpy as np\n",
    "from sklearn.metrics import accuracy_score"
   ]
  },
  {
   "cell_type": "markdown",
   "metadata": {},
   "source": [
    "***\n",
    "## 50. データの入手・整形\n",
    ">News Aggregator Data Setをダウンロードし、以下の要領で学習データ（train.txt），検証データ（valid.txt），評価データ（test.txt）を作成せよ．\n",
    "1. ダウンロードしたzipファイルを解凍し，readme.txtの説明を読む．\n",
    "2. 情報源（publisher）が”Reuters”, “Huffington Post”, “Businessweek”, “Contactmusic.com”, “Daily Mail”の事例（記事）のみを抽出する．\n",
    "3. 抽出された事例をランダムに並び替える．\n",
    "4. 抽出された事例の80%を学習データ，残りの10%ずつを検証データと評価データに分割し，それぞれtrain.txt，valid.txt，test.txtというファイル名で保存する．ファイルには，１行に１事例を書き出すこととし，カテゴリ名と記事見出しのタブ区切り形式とせよ（このファイルは後に問題70で再利用する）．\n",
    ">\n",
    ">学習データと評価データを作成したら，各カテゴリの事例数を確認せよ．"
   ]
  },
  {
   "cell_type": "code",
   "execution_count": 2,
   "metadata": {},
   "outputs": [],
   "source": [
    "data_dir = '../../data/'\n",
    "news_dir = 'NewsAggregatorDataset/'\n",
    "data_file = 'newsCorpora.csv'"
   ]
  },
  {
   "cell_type": "code",
   "execution_count": 3,
   "metadata": {},
   "outputs": [],
   "source": [
    "with open(data_dir + news_dir + data_file, 'r') as f:\n",
    "    df = pd.read_csv(f, sep='\\t', names=[\" ID\", \"TITLE\", \"URL\", \"PUBLISHER\", \"CATEGORY\", \"STORY\" ,\"HOSTNAME\", \"TIMESTAMP\"])"
   ]
  },
  {
   "cell_type": "code",
   "execution_count": 4,
   "metadata": {},
   "outputs": [
    {
     "data": {
      "text/html": [
       "<div>\n",
       "<style scoped>\n",
       "    .dataframe tbody tr th:only-of-type {\n",
       "        vertical-align: middle;\n",
       "    }\n",
       "\n",
       "    .dataframe tbody tr th {\n",
       "        vertical-align: top;\n",
       "    }\n",
       "\n",
       "    .dataframe thead th {\n",
       "        text-align: right;\n",
       "    }\n",
       "</style>\n",
       "<table border=\"1\" class=\"dataframe\">\n",
       "  <thead>\n",
       "    <tr style=\"text-align: right;\">\n",
       "      <th></th>\n",
       "      <th>ID</th>\n",
       "      <th>TITLE</th>\n",
       "      <th>URL</th>\n",
       "      <th>PUBLISHER</th>\n",
       "      <th>CATEGORY</th>\n",
       "      <th>STORY</th>\n",
       "      <th>HOSTNAME</th>\n",
       "      <th>TIMESTAMP</th>\n",
       "    </tr>\n",
       "  </thead>\n",
       "  <tbody>\n",
       "    <tr>\n",
       "      <th>0</th>\n",
       "      <td>1</td>\n",
       "      <td>Fed official says weak data caused by weather,...</td>\n",
       "      <td>http://www.latimes.com/business/money/la-fi-mo...</td>\n",
       "      <td>Los Angeles Times</td>\n",
       "      <td>b</td>\n",
       "      <td>ddUyU0VZz0BRneMioxUPQVP6sIxvM</td>\n",
       "      <td>www.latimes.com</td>\n",
       "      <td>1394470370698</td>\n",
       "    </tr>\n",
       "    <tr>\n",
       "      <th>1</th>\n",
       "      <td>2</td>\n",
       "      <td>Fed's Charles Plosser sees high bar for change...</td>\n",
       "      <td>http://www.livemint.com/Politics/H2EvwJSK2VE6O...</td>\n",
       "      <td>Livemint</td>\n",
       "      <td>b</td>\n",
       "      <td>ddUyU0VZz0BRneMioxUPQVP6sIxvM</td>\n",
       "      <td>www.livemint.com</td>\n",
       "      <td>1394470371207</td>\n",
       "    </tr>\n",
       "    <tr>\n",
       "      <th>2</th>\n",
       "      <td>3</td>\n",
       "      <td>US open: Stocks fall after Fed official hints ...</td>\n",
       "      <td>http://www.ifamagazine.com/news/us-open-stocks...</td>\n",
       "      <td>IFA Magazine</td>\n",
       "      <td>b</td>\n",
       "      <td>ddUyU0VZz0BRneMioxUPQVP6sIxvM</td>\n",
       "      <td>www.ifamagazine.com</td>\n",
       "      <td>1394470371550</td>\n",
       "    </tr>\n",
       "  </tbody>\n",
       "</table>\n",
       "</div>"
      ],
      "text/plain": [
       "    ID                                              TITLE  \\\n",
       "0    1  Fed official says weak data caused by weather,...   \n",
       "1    2  Fed's Charles Plosser sees high bar for change...   \n",
       "2    3  US open: Stocks fall after Fed official hints ...   \n",
       "\n",
       "                                                 URL          PUBLISHER  \\\n",
       "0  http://www.latimes.com/business/money/la-fi-mo...  Los Angeles Times   \n",
       "1  http://www.livemint.com/Politics/H2EvwJSK2VE6O...           Livemint   \n",
       "2  http://www.ifamagazine.com/news/us-open-stocks...       IFA Magazine   \n",
       "\n",
       "  CATEGORY                          STORY             HOSTNAME      TIMESTAMP  \n",
       "0        b  ddUyU0VZz0BRneMioxUPQVP6sIxvM      www.latimes.com  1394470370698  \n",
       "1        b  ddUyU0VZz0BRneMioxUPQVP6sIxvM     www.livemint.com  1394470371207  \n",
       "2        b  ddUyU0VZz0BRneMioxUPQVP6sIxvM  www.ifamagazine.com  1394470371550  "
      ]
     },
     "execution_count": 4,
     "metadata": {},
     "output_type": "execute_result"
    }
   ],
   "source": [
    "# 確認\n",
    "df.head(3)"
   ]
  },
  {
   "cell_type": "code",
   "execution_count": 5,
   "metadata": {},
   "outputs": [],
   "source": [
    "# 情報源（publisher）が”Reuters”, “Huffington Post”, “Businessweek”, “Contactmusic.com”, “Daily Mail”の事例（記事）のみを抽出する．\n",
    "#カテゴリ名と記事見出しのタブ区切り形式とせよ\n",
    "# isin bool\n",
    "extracted_df = df.loc[df['PUBLISHER'].isin(['Reuters', 'Huffington Post', 'Businessweek', 'Contactmusic.com', 'Daily Mail']), ['TITLE', 'CATEGORY']]"
   ]
  },
  {
   "cell_type": "code",
   "execution_count": 6,
   "metadata": {
    "scrolled": true
   },
   "outputs": [
    {
     "data": {
      "text/html": [
       "<div>\n",
       "<style scoped>\n",
       "    .dataframe tbody tr th:only-of-type {\n",
       "        vertical-align: middle;\n",
       "    }\n",
       "\n",
       "    .dataframe tbody tr th {\n",
       "        vertical-align: top;\n",
       "    }\n",
       "\n",
       "    .dataframe thead th {\n",
       "        text-align: right;\n",
       "    }\n",
       "</style>\n",
       "<table border=\"1\" class=\"dataframe\">\n",
       "  <thead>\n",
       "    <tr style=\"text-align: right;\">\n",
       "      <th></th>\n",
       "      <th>TITLE</th>\n",
       "      <th>CATEGORY</th>\n",
       "    </tr>\n",
       "  </thead>\n",
       "  <tbody>\n",
       "    <tr>\n",
       "      <th>12</th>\n",
       "      <td>Europe reaches crunch point on banking union</td>\n",
       "      <td>b</td>\n",
       "    </tr>\n",
       "    <tr>\n",
       "      <th>13</th>\n",
       "      <td>ECB FOCUS-Stronger euro drowns out ECB's messa...</td>\n",
       "      <td>b</td>\n",
       "    </tr>\n",
       "    <tr>\n",
       "      <th>19</th>\n",
       "      <td>Euro Anxieties Wane as Bunds Top Treasuries, S...</td>\n",
       "      <td>b</td>\n",
       "    </tr>\n",
       "  </tbody>\n",
       "</table>\n",
       "</div>"
      ],
      "text/plain": [
       "                                                TITLE CATEGORY\n",
       "12       Europe reaches crunch point on banking union        b\n",
       "13  ECB FOCUS-Stronger euro drowns out ECB's messa...        b\n",
       "19  Euro Anxieties Wane as Bunds Top Treasuries, S...        b"
      ]
     },
     "execution_count": 6,
     "metadata": {},
     "output_type": "execute_result"
    }
   ],
   "source": [
    "# 確認\n",
    "extracted_df.head(3)"
   ]
  },
  {
   "cell_type": "code",
   "execution_count": 7,
   "metadata": {},
   "outputs": [],
   "source": [
    "# 抽出された事例をランダムに並び替える．\n",
    "# 抽出された事例の80%を学習データ，残りの10%ずつを検証データと評価データに分割\n",
    "train, valid_test = train_test_split(extracted_df, train_size=0.8, shuffle=True, random_state=0)\n",
    "valid, test = train_test_split(valid_test, train_size=0.5, shuffle=True, random_state=0)"
   ]
  },
  {
   "cell_type": "code",
   "execution_count": 8,
   "metadata": {},
   "outputs": [
    {
     "name": "stdout",
     "output_type": "stream",
     "text": [
      "b    4481\n",
      "e    4240\n",
      "t    1214\n",
      "m     737\n",
      "Name: CATEGORY, dtype: int64\n"
     ]
    },
    {
     "data": {
      "text/plain": [
       "<matplotlib.axes._subplots.AxesSubplot at 0x7ffac071e070>"
      ]
     },
     "execution_count": 8,
     "metadata": {},
     "output_type": "execute_result"
    },
    {
     "data": {
      "image/png": "[encoded data removed]",
      "text/plain": [
       "<Figure size 432x288 with 1 Axes>"
      ]
     },
     "metadata": {
      "needs_background": "light"
     },
     "output_type": "display_data"
    }
   ],
   "source": [
    "# 学習データと評価データを作成したら，各カテゴリの事例数を確認\n",
    "# train\n",
    "train_c = train[\"CATEGORY\"].value_counts()\n",
    "print(train_c)\n",
    "train_c.plot.bar()"
   ]
  },
  {
   "cell_type": "code",
   "execution_count": 9,
   "metadata": {},
   "outputs": [
    {
     "name": "stdout",
     "output_type": "stream",
     "text": [
      "b    575\n",
      "e    528\n",
      "t    137\n",
      "m     94\n",
      "Name: CATEGORY, dtype: int64\n"
     ]
    },
    {
     "data": {
      "text/plain": [
       "<matplotlib.axes._subplots.AxesSubplot at 0x7ffac07d9580>"
      ]
     },
     "execution_count": 9,
     "metadata": {},
     "output_type": "execute_result"
    },
    {
     "data": {
      "image/png": "[encoded data removed]",
      "text/plain": [
       "<Figure size 432x288 with 1 Axes>"
      ]
     },
     "metadata": {
      "needs_background": "light"
     },
     "output_type": "display_data"
    }
   ],
   "source": [
    "# valid\n",
    "valid_c = valid[\"CATEGORY\"].value_counts()\n",
    "print(valid_c)\n",
    "valid_c.plot.bar()"
   ]
  },
  {
   "cell_type": "code",
   "execution_count": 10,
   "metadata": {},
   "outputs": [
    {
     "name": "stdout",
     "output_type": "stream",
     "text": [
      "b    571\n",
      "e    511\n",
      "t    173\n",
      "m     79\n",
      "Name: CATEGORY, dtype: int64\n"
     ]
    },
    {
     "data": {
      "text/plain": [
       "<matplotlib.axes._subplots.AxesSubplot at 0x7ffac3000760>"
      ]
     },
     "execution_count": 10,
     "metadata": {},
     "output_type": "execute_result"
    },
    {
     "data": {
      "image/png": "[encoded data removed]",
      "text/plain": [
       "<Figure size 432x288 with 1 Axes>"
      ]
     },
     "metadata": {
      "needs_background": "light"
     },
     "output_type": "display_data"
    }
   ],
   "source": [
    "# test\n",
    "test_c = test[\"CATEGORY\"].value_counts()\n",
    "print(test_c)\n",
    "test_c.plot.bar()"
   ]
  },
  {
   "cell_type": "code",
   "execution_count": 11,
   "metadata": {},
   "outputs": [],
   "source": [
    "# 保存\n",
    "# それぞれtrain.txt，valid.txt，test.txtというファイル名で保存する．\n",
    "#ファイルには，１行に１事例を書き出すこととし，カテゴリ名と記事見出しのタブ区切り形式とせよ（このファイルは後に問題70で再利用する）\n",
    "train.to_csv(data_dir + 'train.txt', sep='\\t', index=None)\n",
    "valid.to_csv(data_dir + 'valid.txt', sep='\\t', index=None)\n",
    "test.to_csv(data_dir + 'test.txt', sep='\\t', index=None)"
   ]
  },
  {
   "cell_type": "markdown",
   "metadata": {},
   "source": [
    "***\n",
    "## 51. 特徴量抽出\n",
    "> 学習データ，検証データ，評価データから特徴量を抽出し，それぞれtrain.feature.txt，valid.feature.txt，test.feature.txtというファイル名で保存せよ． なお，カテゴリ分類に有用そうな特徴量は各自で自由に設計せよ．記事の見出しを単語列に変換したものが最低限のベースラインとなるであろう．"
   ]
  },
  {
   "cell_type": "code",
   "execution_count": 12,
   "metadata": {},
   "outputs": [],
   "source": [
    "# from sklearn.feature_extraction.text import CountVectorizer\n",
    "# Convert a collection of text documents to a matrix of token counts.\n",
    "# カウントするだけ\n",
    "\n",
    "count_vectorizer = CountVectorizer(stop_words='english') # If ‘english’, a built-in stop word list for English is used.\n",
    "X_train = count_vectorizer.fit_transform(train['TITLE']) # Learn the vocabulary dictionary and return document-term matrix.\n",
    "X_valid = count_vectorizer.transform(valid['TITLE']) # Transform documents to document-term matrix.\n",
    "X_test = count_vectorizer.transform(test['TITLE'])\n",
    "\n",
    "# dataframe に変換\n",
    "X_train = pd.DataFrame(data=X_train.toarray(), columns=count_vectorizer.get_feature_names())\n",
    "X_valid = pd.DataFrame(data=X_valid.toarray(), columns=count_vectorizer.get_feature_names())\n",
    "X_test = pd.DataFrame(data=X_test.toarray(), columns=count_vectorizer.get_feature_names())"
   ]
  },
  {
   "cell_type": "code",
   "execution_count": 13,
   "metadata": {},
   "outputs": [
    {
     "data": {
      "text/html": [
       "<div>\n",
       "<style scoped>\n",
       "    .dataframe tbody tr th:only-of-type {\n",
       "        vertical-align: middle;\n",
       "    }\n",
       "\n",
       "    .dataframe tbody tr th {\n",
       "        vertical-align: top;\n",
       "    }\n",
       "\n",
       "    .dataframe thead th {\n",
       "        text-align: right;\n",
       "    }\n",
       "</style>\n",
       "<table border=\"1\" class=\"dataframe\">\n",
       "  <thead>\n",
       "    <tr style=\"text-align: right;\">\n",
       "      <th></th>\n",
       "      <th>00</th>\n",
       "      <th>05</th>\n",
       "      <th>07</th>\n",
       "      <th>08</th>\n",
       "      <th>09</th>\n",
       "      <th>0ff</th>\n",
       "      <th>0ut</th>\n",
       "      <th>10</th>\n",
       "      <th>100</th>\n",
       "      <th>1000</th>\n",
       "      <th>...</th>\n",
       "      <th>zombie</th>\n",
       "      <th>zombies</th>\n",
       "      <th>zone</th>\n",
       "      <th>zooey</th>\n",
       "      <th>zoosk</th>\n",
       "      <th>zpfa3mqti7qdrpfhqwjm</th>\n",
       "      <th>zuckerberg</th>\n",
       "      <th>zynga</th>\n",
       "      <th>zâ</th>\n",
       "      <th>œpiece</th>\n",
       "    </tr>\n",
       "  </thead>\n",
       "  <tbody>\n",
       "    <tr>\n",
       "      <th>0</th>\n",
       "      <td>0</td>\n",
       "      <td>0</td>\n",
       "      <td>0</td>\n",
       "      <td>0</td>\n",
       "      <td>0</td>\n",
       "      <td>0</td>\n",
       "      <td>0</td>\n",
       "      <td>0</td>\n",
       "      <td>0</td>\n",
       "      <td>0</td>\n",
       "      <td>...</td>\n",
       "      <td>0</td>\n",
       "      <td>0</td>\n",
       "      <td>0</td>\n",
       "      <td>0</td>\n",
       "      <td>0</td>\n",
       "      <td>0</td>\n",
       "      <td>0</td>\n",
       "      <td>0</td>\n",
       "      <td>0</td>\n",
       "      <td>0</td>\n",
       "    </tr>\n",
       "    <tr>\n",
       "      <th>1</th>\n",
       "      <td>0</td>\n",
       "      <td>0</td>\n",
       "      <td>0</td>\n",
       "      <td>0</td>\n",
       "      <td>0</td>\n",
       "      <td>0</td>\n",
       "      <td>0</td>\n",
       "      <td>0</td>\n",
       "      <td>0</td>\n",
       "      <td>0</td>\n",
       "      <td>...</td>\n",
       "      <td>0</td>\n",
       "      <td>0</td>\n",
       "      <td>0</td>\n",
       "      <td>0</td>\n",
       "      <td>0</td>\n",
       "      <td>0</td>\n",
       "      <td>0</td>\n",
       "      <td>0</td>\n",
       "      <td>0</td>\n",
       "      <td>0</td>\n",
       "    </tr>\n",
       "    <tr>\n",
       "      <th>2</th>\n",
       "      <td>0</td>\n",
       "      <td>0</td>\n",
       "      <td>0</td>\n",
       "      <td>0</td>\n",
       "      <td>0</td>\n",
       "      <td>0</td>\n",
       "      <td>0</td>\n",
       "      <td>0</td>\n",
       "      <td>0</td>\n",
       "      <td>0</td>\n",
       "      <td>...</td>\n",
       "      <td>0</td>\n",
       "      <td>0</td>\n",
       "      <td>0</td>\n",
       "      <td>0</td>\n",
       "      <td>0</td>\n",
       "      <td>0</td>\n",
       "      <td>0</td>\n",
       "      <td>0</td>\n",
       "      <td>0</td>\n",
       "      <td>0</td>\n",
       "    </tr>\n",
       "    <tr>\n",
       "      <th>3</th>\n",
       "      <td>0</td>\n",
       "      <td>0</td>\n",
       "      <td>0</td>\n",
       "      <td>0</td>\n",
       "      <td>0</td>\n",
       "      <td>0</td>\n",
       "      <td>0</td>\n",
       "      <td>0</td>\n",
       "      <td>0</td>\n",
       "      <td>0</td>\n",
       "      <td>...</td>\n",
       "      <td>0</td>\n",
       "      <td>0</td>\n",
       "      <td>0</td>\n",
       "      <td>0</td>\n",
       "      <td>0</td>\n",
       "      <td>0</td>\n",
       "      <td>0</td>\n",
       "      <td>0</td>\n",
       "      <td>0</td>\n",
       "      <td>0</td>\n",
       "    </tr>\n",
       "    <tr>\n",
       "      <th>4</th>\n",
       "      <td>0</td>\n",
       "      <td>0</td>\n",
       "      <td>0</td>\n",
       "      <td>0</td>\n",
       "      <td>0</td>\n",
       "      <td>0</td>\n",
       "      <td>0</td>\n",
       "      <td>0</td>\n",
       "      <td>0</td>\n",
       "      <td>0</td>\n",
       "      <td>...</td>\n",
       "      <td>0</td>\n",
       "      <td>0</td>\n",
       "      <td>0</td>\n",
       "      <td>0</td>\n",
       "      <td>0</td>\n",
       "      <td>0</td>\n",
       "      <td>0</td>\n",
       "      <td>0</td>\n",
       "      <td>0</td>\n",
       "      <td>0</td>\n",
       "    </tr>\n",
       "    <tr>\n",
       "      <th>...</th>\n",
       "      <td>...</td>\n",
       "      <td>...</td>\n",
       "      <td>...</td>\n",
       "      <td>...</td>\n",
       "      <td>...</td>\n",
       "      <td>...</td>\n",
       "      <td>...</td>\n",
       "      <td>...</td>\n",
       "      <td>...</td>\n",
       "      <td>...</td>\n",
       "      <td>...</td>\n",
       "      <td>...</td>\n",
       "      <td>...</td>\n",
       "      <td>...</td>\n",
       "      <td>...</td>\n",
       "      <td>...</td>\n",
       "      <td>...</td>\n",
       "      <td>...</td>\n",
       "      <td>...</td>\n",
       "      <td>...</td>\n",
       "      <td>...</td>\n",
       "    </tr>\n",
       "    <tr>\n",
       "      <th>1329</th>\n",
       "      <td>0</td>\n",
       "      <td>0</td>\n",
       "      <td>0</td>\n",
       "      <td>0</td>\n",
       "      <td>0</td>\n",
       "      <td>0</td>\n",
       "      <td>0</td>\n",
       "      <td>0</td>\n",
       "      <td>0</td>\n",
       "      <td>0</td>\n",
       "      <td>...</td>\n",
       "      <td>0</td>\n",
       "      <td>0</td>\n",
       "      <td>0</td>\n",
       "      <td>0</td>\n",
       "      <td>0</td>\n",
       "      <td>0</td>\n",
       "      <td>0</td>\n",
       "      <td>0</td>\n",
       "      <td>0</td>\n",
       "      <td>0</td>\n",
       "    </tr>\n",
       "    <tr>\n",
       "      <th>1330</th>\n",
       "      <td>0</td>\n",
       "      <td>0</td>\n",
       "      <td>0</td>\n",
       "      <td>0</td>\n",
       "      <td>0</td>\n",
       "      <td>0</td>\n",
       "      <td>0</td>\n",
       "      <td>0</td>\n",
       "      <td>0</td>\n",
       "      <td>0</td>\n",
       "      <td>...</td>\n",
       "      <td>0</td>\n",
       "      <td>0</td>\n",
       "      <td>0</td>\n",
       "      <td>0</td>\n",
       "      <td>0</td>\n",
       "      <td>0</td>\n",
       "      <td>0</td>\n",
       "      <td>0</td>\n",
       "      <td>0</td>\n",
       "      <td>0</td>\n",
       "    </tr>\n",
       "    <tr>\n",
       "      <th>1331</th>\n",
       "      <td>0</td>\n",
       "      <td>0</td>\n",
       "      <td>0</td>\n",
       "      <td>0</td>\n",
       "      <td>0</td>\n",
       "      <td>0</td>\n",
       "      <td>0</td>\n",
       "      <td>0</td>\n",
       "      <td>0</td>\n",
       "      <td>0</td>\n",
       "      <td>...</td>\n",
       "      <td>0</td>\n",
       "      <td>0</td>\n",
       "      <td>0</td>\n",
       "      <td>0</td>\n",
       "      <td>0</td>\n",
       "      <td>0</td>\n",
       "      <td>0</td>\n",
       "      <td>0</td>\n",
       "      <td>0</td>\n",
       "      <td>0</td>\n",
       "    </tr>\n",
       "    <tr>\n",
       "      <th>1332</th>\n",
       "      <td>0</td>\n",
       "      <td>0</td>\n",
       "      <td>0</td>\n",
       "      <td>0</td>\n",
       "      <td>0</td>\n",
       "      <td>0</td>\n",
       "      <td>0</td>\n",
       "      <td>0</td>\n",
       "      <td>0</td>\n",
       "      <td>0</td>\n",
       "      <td>...</td>\n",
       "      <td>0</td>\n",
       "      <td>0</td>\n",
       "      <td>0</td>\n",
       "      <td>0</td>\n",
       "      <td>0</td>\n",
       "      <td>0</td>\n",
       "      <td>0</td>\n",
       "      <td>0</td>\n",
       "      <td>0</td>\n",
       "      <td>0</td>\n",
       "    </tr>\n",
       "    <tr>\n",
       "      <th>1333</th>\n",
       "      <td>0</td>\n",
       "      <td>0</td>\n",
       "      <td>0</td>\n",
       "      <td>0</td>\n",
       "      <td>0</td>\n",
       "      <td>0</td>\n",
       "      <td>0</td>\n",
       "      <td>0</td>\n",
       "      <td>0</td>\n",
       "      <td>0</td>\n",
       "      <td>...</td>\n",
       "      <td>0</td>\n",
       "      <td>0</td>\n",
       "      <td>0</td>\n",
       "      <td>0</td>\n",
       "      <td>0</td>\n",
       "      <td>0</td>\n",
       "      <td>0</td>\n",
       "      <td>0</td>\n",
       "      <td>0</td>\n",
       "      <td>0</td>\n",
       "    </tr>\n",
       "  </tbody>\n",
       "</table>\n",
       "<p>1334 rows × 12605 columns</p>\n",
       "</div>"
      ],
      "text/plain": [
       "      00  05  07  08  09  0ff  0ut  10  100  1000  ...  zombie  zombies  zone  \\\n",
       "0      0   0   0   0   0    0    0   0    0     0  ...       0        0     0   \n",
       "1      0   0   0   0   0    0    0   0    0     0  ...       0        0     0   \n",
       "2      0   0   0   0   0    0    0   0    0     0  ...       0        0     0   \n",
       "3      0   0   0   0   0    0    0   0    0     0  ...       0        0     0   \n",
       "4      0   0   0   0   0    0    0   0    0     0  ...       0        0     0   \n",
       "...   ..  ..  ..  ..  ..  ...  ...  ..  ...   ...  ...     ...      ...   ...   \n",
       "1329   0   0   0   0   0    0    0   0    0     0  ...       0        0     0   \n",
       "1330   0   0   0   0   0    0    0   0    0     0  ...       0        0     0   \n",
       "1331   0   0   0   0   0    0    0   0    0     0  ...       0        0     0   \n",
       "1332   0   0   0   0   0    0    0   0    0     0  ...       0        0     0   \n",
       "1333   0   0   0   0   0    0    0   0    0     0  ...       0        0     0   \n",
       "\n",
       "      zooey  zoosk  zpfa3mqti7qdrpfhqwjm  zuckerberg  zynga  zâ  œpiece  \n",
       "0         0      0                     0           0      0   0       0  \n",
       "1         0      0                     0           0      0   0       0  \n",
       "2         0      0                     0           0      0   0       0  \n",
       "3         0      0                     0           0      0   0       0  \n",
       "4         0      0                     0           0      0   0       0  \n",
       "...     ...    ...                   ...         ...    ...  ..     ...  \n",
       "1329      0      0                     0           0      0   0       0  \n",
       "1330      0      0                     0           0      0   0       0  \n",
       "1331      0      0                     0           0      0   0       0  \n",
       "1332      0      0                     0           0      0   0       0  \n",
       "1333      0      0                     0           0      0   0       0  \n",
       "\n",
       "[1334 rows x 12605 columns]"
      ]
     },
     "execution_count": 13,
     "metadata": {},
     "output_type": "execute_result"
    }
   ],
   "source": [
    "# 確認\n",
    "X_test"
   ]
  },
  {
   "cell_type": "code",
   "execution_count": 14,
   "metadata": {},
   "outputs": [],
   "source": [
    "# 保存\n",
    "X_train.to_csv(data_dir + 'train.feature.txt', sep='\\t', index=False)\n",
    "X_valid.to_csv(data_dir + 'valid.feature.txt', sep='\\t', index=False)\n",
    "X_test.to_csv(data_dir + 'test.feature.txt', sep='\\t', index=False)"
   ]
  },
  {
   "cell_type": "markdown",
   "metadata": {},
   "source": [
    "***\n",
    "## 52. 学習\n",
    "> 51で構築した学習データを用いて，ロジスティック回帰モデルを学習せよ．"
   ]
  },
  {
   "cell_type": "code",
   "execution_count": 15,
   "metadata": {},
   "outputs": [
    {
     "data": {
      "text/plain": [
       "LogisticRegression(random_state=0)"
      ]
     },
     "execution_count": 15,
     "metadata": {},
     "output_type": "execute_result"
    }
   ],
   "source": [
    "# from sklearn.linear_model import LogisticRegression\n",
    "\n",
    "model = LogisticRegression(random_state=0) # max_iter=100. 収束しなければ増やすとか\n",
    "model.fit(X_train, train['CATEGORY']) # Fit the model according to the given training data. 重みを学習"
   ]
  },
  {
   "cell_type": "markdown",
   "metadata": {},
   "source": [
    "***\n",
    "## 53. 予測\n",
    "> 52で学習したロジスティック回帰モデルを用い，与えられた記事見出しからカテゴリとその予測確率を計算するプログラムを実装せよ．"
   ]
  },
  {
   "cell_type": "code",
   "execution_count": 16,
   "metadata": {},
   "outputs": [],
   "source": [
    "def pred_score(model, x):\n",
    "    pred = model.predict(x) # Predict class labels for samples in X.\n",
    "    score = np.max(model.predict_proba(x), axis=1) # predict_proba 全クラスの確率がかえる\n",
    "    return pred, score"
   ]
  },
  {
   "cell_type": "code",
   "execution_count": 17,
   "metadata": {},
   "outputs": [
    {
     "name": "stdout",
     "output_type": "stream",
     "text": [
      "['b' 'e' 'e' ... 'b' 'b' 'e'] [0.92737308 0.91372331 0.9526849  ... 0.99286358 0.77923085 0.9900451 ]\n",
      "['t' 'e' 'b' ... 'b' 'b' 'b'] [0.61299306 0.90902257 0.74126667 ... 0.94426117 0.9967007  0.99983324]\n",
      "['b' 'e' 'e' ... 'b' 'b' 'e'] [0.95831134 0.94722613 0.65939923 ... 0.98006961 0.97046601 0.91531312]\n"
     ]
    }
   ],
   "source": [
    "train_pred, train_score = pred_score(model, X_train)\n",
    "val_pred, val_score = pred_score(model, X_valid)\n",
    "test_pred, test_score = pred_score(model, X_test)\n",
    "\n",
    "print(train_pred, train_score)\n",
    "print(val_pred, val_score)\n",
    "print(test_pred, test_score)"
   ]
  },
  {
   "cell_type": "markdown",
   "metadata": {},
   "source": [
    "***\n",
    "## 54. 正解率の計測\n",
    "> 52で学習したロジスティック回帰モデルの正解率を，学習データおよび評価データ上で計測せよ．"
   ]
  },
  {
   "cell_type": "code",
   "execution_count": 18,
   "metadata": {},
   "outputs": [
    {
     "name": "stdout",
     "output_type": "stream",
     "text": [
      "正解率（学習データ）： 0.996\n",
      "正解率（評価データ）： 0.914\n"
     ]
    }
   ],
   "source": [
    "# from sklearn.metrics import accuracy_score\n",
    "\n",
    "train_accuracy = accuracy_score(train['CATEGORY'], train_pred)\n",
    "test_accuracy = accuracy_score(test['CATEGORY'], test_pred)\n",
    "\n",
    "print('正解率（学習データ）： {}'.format(format(train_accuracy, '.3f')))\n",
    "print('正解率（評価データ）： {}'.format(format(test_accuracy, '.3f')))"
   ]
  },
  {
   "cell_type": "markdown",
   "metadata": {},
   "source": [
    "***\n",
    "## 55. 混同行列の作成\n",
    "> 52で学習したロジスティック回帰モデルの混同行列（confusion matrix）を，学習データおよび評価データ上で作成せよ．"
   ]
  },
  {
   "cell_type": "code",
   "execution_count": 19,
   "metadata": {},
   "outputs": [],
   "source": [
    "from sklearn.metrics import confusion_matrix"
   ]
  },
  {
   "cell_type": "code",
   "execution_count": 20,
   "metadata": {},
   "outputs": [
    {
     "name": "stdout",
     "output_type": "stream",
     "text": [
      "<< train >>\n",
      "      b     e     t    m\n",
      "b  4467     4     9    1\n",
      "e     6  4234     0    0\n",
      "t    15     4  1195    0\n",
      "m     2     3     0  732\n",
      "\n",
      "<< test >>\n",
      "     b    e    t   m\n",
      "b  538   18   14   1\n",
      "e    7  500    3   1\n",
      "t   33   18  121   1\n",
      "m    5   13    1  60\n"
     ]
    }
   ],
   "source": [
    "train_cm =pd.DataFrame(confusion_matrix(train['CATEGORY'], train_pred, labels=['b', 'e', 't', 'm']), index=['b', 'e', 't', 'm'], columns=['b', 'e', 't', 'm'])\n",
    "test_cm = pd.DataFrame(confusion_matrix(test['CATEGORY'], test_pred, labels=['b', 'e', 't', 'm']), index=['b', 'e', 't', 'm'], columns=['b', 'e', 't', 'm'])\n",
    "\n",
    "print('<< train >>')\n",
    "print(train_cm)\n",
    "print('\\n<< test >>')\n",
    "print(test_cm)"
   ]
  },
  {
   "cell_type": "code",
   "execution_count": 21,
   "metadata": {},
   "outputs": [],
   "source": [
    "import seaborn as sns"
   ]
  },
  {
   "cell_type": "code",
   "execution_count": 22,
   "metadata": {},
   "outputs": [
    {
     "data": {
      "text/plain": [
       "<matplotlib.axes._subplots.AxesSubplot at 0x7ffa5cc2cd00>"
      ]
     },
     "execution_count": 22,
     "metadata": {},
     "output_type": "execute_result"
    },
    {
     "data": {
      "image/png": "[encoded data removed]",
      "text/plain": [
       "<Figure size 432x288 with 2 Axes>"
      ]
     },
     "metadata": {
      "needs_background": "light"
     },
     "output_type": "display_data"
    }
   ],
   "source": [
    "# TRAIN\n",
    "sns.heatmap(train_cm, annot=True, cmap='Reds')"
   ]
  },
  {
   "cell_type": "code",
   "execution_count": 23,
   "metadata": {},
   "outputs": [
    {
     "data": {
      "text/plain": [
       "<matplotlib.axes._subplots.AxesSubplot at 0x7ffac07b70a0>"
      ]
     },
     "execution_count": 23,
     "metadata": {},
     "output_type": "execute_result"
    },
    {
     "data": {
      "image/png": "[encoded data removed]",
      "text/plain": [
       "<Figure size 432x288 with 2 Axes>"
      ]
     },
     "metadata": {
      "needs_background": "light"
     },
     "output_type": "display_data"
    }
   ],
   "source": [
    "# TEST\n",
    "sns.heatmap(test_cm, annot=True, cmap='Reds')"
   ]
  },
  {
   "cell_type": "markdown",
   "metadata": {},
   "source": [
    "***\n",
    "## 56. 適合率，再現率，F1スコアの計測\n",
    "> 52で学習したロジスティック回帰モデルの適合率，再現率，F1スコアを，評価データ上で計測せよ．カテゴリごとに適合率，再現率，F1スコアを求め，カテゴリごとの性能をマイクロ平均（micro-average）とマクロ平均（macro-average）で統合せよ．"
   ]
  },
  {
   "cell_type": "code",
   "execution_count": null,
   "metadata": {},
   "outputs": [],
   "source": [
    "# TP: 機械学習モデルP, 実際P。実際のクラスが陽性で予測も陽性（正解）\n",
    "# FP: 機械学習モデルP, 実際N。実際のクラスは陰性で予測が陽性（不正解）\n",
    "# FN: 機械学習モデルN, 実際P。実際のクラスは陽性で予測が陰性（不正解）\n",
    "# TN: 機械学習モデルN, 実際N。実際のクラスが陰性で予測も陰性（正解）"
   ]
  },
  {
   "cell_type": "code",
   "execution_count": 24,
   "metadata": {},
   "outputs": [],
   "source": [
    "from sklearn.metrics import precision_score, recall_score, f1_score"
   ]
  },
  {
   "cell_type": "code",
   "execution_count": 25,
   "metadata": {},
   "outputs": [],
   "source": [
    "# 適合率\n",
    "# TP / (TP + FP)\n",
    "# Positiveと分類されたデータの中で実際にPositiveだったデータの割合\n",
    "precision = precision_score(test['CATEGORY'], test_pred, average=None, labels=['b', 'e', 't', 'm'])\n",
    "precision = np.append(precision, precision_score(test['CATEGORY'], test_pred, average='micro'))\n",
    "precision = np.append(precision, precision_score(test['CATEGORY'], test_pred, average='macro'))\n",
    "\n",
    "# 再現率\n",
    "#TP / (TP + FN)\n",
    "# 取りこぼしなくPositiveをPositiveと推測できているかどうか\n",
    "recall = recall_score(test['CATEGORY'], test_pred, average=None, labels=['b', 'e', 't', 'm'])\n",
    "recall = np.append(recall, recall_score(test['CATEGORY'], test_pred, average='micro'))\n",
    "recall = np.append(recall, recall_score(test['CATEGORY'], test_pred, average='macro'))\n",
    "\n",
    "# F1スコア\n",
    "# 2*TP / (2*TP + FP + FN)\n",
    "# 適合率と再現率の調和平均\n",
    "f1 = f1_score(test['CATEGORY'], test_pred, average=None, labels=['b', 'e', 't', 'm'])\n",
    "f1 = np.append(f1, f1_score(test['CATEGORY'], test_pred, average='micro'))\n",
    "f1 = np.append(f1, f1_score(test['CATEGORY'], test_pred, average='macro'))\n",
    "\n",
    "scores = pd.DataFrame({'適合率': precision, '再現率': recall, 'F1スコア': f1}, index=['b', 'e', 't', 'm', 'マイクロ平均', 'マクロ平均'])"
   ]
  },
  {
   "cell_type": "code",
   "execution_count": 26,
   "metadata": {},
   "outputs": [
    {
     "data": {
      "text/html": [
       "<div>\n",
       "<style scoped>\n",
       "    .dataframe tbody tr th:only-of-type {\n",
       "        vertical-align: middle;\n",
       "    }\n",
       "\n",
       "    .dataframe tbody tr th {\n",
       "        vertical-align: top;\n",
       "    }\n",
       "\n",
       "    .dataframe thead th {\n",
       "        text-align: right;\n",
       "    }\n",
       "</style>\n",
       "<table border=\"1\" class=\"dataframe\">\n",
       "  <thead>\n",
       "    <tr style=\"text-align: right;\">\n",
       "      <th></th>\n",
       "      <th>適合率</th>\n",
       "      <th>再現率</th>\n",
       "      <th>F1スコア</th>\n",
       "    </tr>\n",
       "  </thead>\n",
       "  <tbody>\n",
       "    <tr>\n",
       "      <th>b</th>\n",
       "      <td>0.922813</td>\n",
       "      <td>0.942207</td>\n",
       "      <td>0.932409</td>\n",
       "    </tr>\n",
       "    <tr>\n",
       "      <th>e</th>\n",
       "      <td>0.910747</td>\n",
       "      <td>0.978474</td>\n",
       "      <td>0.943396</td>\n",
       "    </tr>\n",
       "    <tr>\n",
       "      <th>t</th>\n",
       "      <td>0.870504</td>\n",
       "      <td>0.699422</td>\n",
       "      <td>0.775641</td>\n",
       "    </tr>\n",
       "    <tr>\n",
       "      <th>m</th>\n",
       "      <td>0.952381</td>\n",
       "      <td>0.759494</td>\n",
       "      <td>0.845070</td>\n",
       "    </tr>\n",
       "    <tr>\n",
       "      <th>マイクロ平均</th>\n",
       "      <td>0.913793</td>\n",
       "      <td>0.913793</td>\n",
       "      <td>0.913793</td>\n",
       "    </tr>\n",
       "    <tr>\n",
       "      <th>マクロ平均</th>\n",
       "      <td>0.914111</td>\n",
       "      <td>0.844899</td>\n",
       "      <td>0.874129</td>\n",
       "    </tr>\n",
       "  </tbody>\n",
       "</table>\n",
       "</div>"
      ],
      "text/plain": [
       "             適合率       再現率     F1スコア\n",
       "b       0.922813  0.942207  0.932409\n",
       "e       0.910747  0.978474  0.943396\n",
       "t       0.870504  0.699422  0.775641\n",
       "m       0.952381  0.759494  0.845070\n",
       "マイクロ平均  0.913793  0.913793  0.913793\n",
       "マクロ平均   0.914111  0.844899  0.874129"
      ]
     },
     "execution_count": 26,
     "metadata": {},
     "output_type": "execute_result"
    }
   ],
   "source": [
    "scores"
   ]
  },
  {
   "cell_type": "markdown",
   "metadata": {},
   "source": [
    "***\n",
    "## 57. 特徴量の重みの確認\n",
    "> 52で学習したロジスティック回帰モデルの中で，重みの高い特徴量トップ10と，重みの低い特徴量トップ10を確認せよ．"
   ]
  },
  {
   "cell_type": "code",
   "execution_count": 31,
   "metadata": {},
   "outputs": [
    {
     "name": "stdout",
     "output_type": "stream",
     "text": [
      "\n",
      "カテゴリ： b\n",
      "重みの高いトップ10： ['bank' 'ecb' 'fed' 'china' 'stocks' 'ukraine' 'yellen' 'argentina'\n",
      " 'dollar' 'mcdonald']\n",
      "重みの低いトップ10： ['activision' 'aereo' 'ebola' 'virus' 'heartbleed' 'star' 'video' 'cap'\n",
      " 'pump' 'heart']\n",
      "\n",
      "カテゴリ： e\n",
      "重みの高いトップ10： ['kardashian' 'chris' 'paul' 'movie' 'miley' 'trailer' 'film' 'cyrus'\n",
      " 'star' 'jay']\n",
      "重みの低いトップ10： ['google' 'facebook' 'china' 'gm' 'microsoft' 'study' 'apple' 'billion'\n",
      " 'oil' 'scientists']\n",
      "\n",
      "カテゴリ： m\n",
      "重みの高いトップ10： ['ebola' 'fda' 'cancer' 'mers' 'study' 'drug' 'brain' 'cigarettes' 'cases'\n",
      " 'alzheimer']\n",
      "重みの低いトップ10： ['dimon' 'facebook' 'gm' 'climate' 'apple' 'google' 'twitter' 'sales'\n",
      " 'takes' 'estimates']\n",
      "\n",
      "カテゴリ： t\n",
      "重みの高いトップ10： ['facebook' 'google' 'microsoft' 'apple' 'climate' 'activision'\n",
      " 'heartbleed' 'tesla' 'moon' 'fcc']\n",
      "重みの低いトップ10： ['stocks' 'percent' 'valued' 'grows' 'raise' 'fed' 'day' 'american'\n",
      " 'cancer' 'cut']\n"
     ]
    }
   ],
   "source": [
    "#features = X_train.columns.values\n",
    "features = np.array(count_vectorizer.get_feature_names())\n",
    "\n",
    "for c, coef in zip(model.classes_, model.coef_):\n",
    "    print('\\nカテゴリ：', c)\n",
    "    best10 = features[np.argsort(coef)[::-1][:10]]\n",
    "    worst10 = features[np.argsort(coef)[:10]]\n",
    "    print('重みの高いトップ10：', best10)\n",
    "    print('重みの低いトップ10：', worst10)"
   ]
  },
  {
   "cell_type": "markdown",
   "metadata": {},
   "source": [
    "***\n",
    "## 58. 正則化パラメータの変更\n",
    "> ロジスティック回帰モデルを学習するとき，正則化パラメータを調整することで，学習時の過学習（overfitting）の度合いを制御できる．異なる正則化パラメータでロジスティック回帰モデルを学習し，学習データ，検証データ，および評価データ上の正解率を求めよ．実験の結果は，正則化パラメータを横軸，正解率を縦軸としたグラフにまとめよ．"
   ]
  },
  {
   "cell_type": "code",
   "execution_count": 32,
   "metadata": {},
   "outputs": [],
   "source": [
    "from tqdm import tqdm # 進捗状況や処理状況をプログレスバー（ステータスバー）として表示する機能"
   ]
  },
  {
   "cell_type": "code",
   "execution_count": 34,
   "metadata": {},
   "outputs": [
    {
     "name": "stderr",
     "output_type": "stream",
     "text": [
      "100%|██████████| 10/10 [29:14<00:00, 175.49s/it]\n"
     ]
    }
   ],
   "source": [
    "c = np.logspace(-5, 4, 10, base=10)\n",
    "\n",
    "result = []\n",
    "for C in tqdm(c):\n",
    "    lg = LogisticRegression(C=C, random_state=0)#, max_iter=10000)\n",
    "    lg.fit(X_train, train['CATEGORY'])\n",
    "    \n",
    "    # 予測値\n",
    "    train_pred = lg.predict(X_train)\n",
    "    valid_pred = lg.predict(X_valid)\n",
    "    test_pred = lg.predict(X_test)\n",
    "    \n",
    "    # 正解率\n",
    "    train_accuracy = accuracy_score(train['CATEGORY'], train_pred)\n",
    "    valid_accuracy = accuracy_score(valid['CATEGORY'], valid_pred)\n",
    "    test_accuracy = accuracy_score(test['CATEGORY'], test_pred)\n",
    "    \n",
    "    result.append([C, train_accuracy, valid_accuracy, test_accuracy])"
   ]
  },
  {
   "cell_type": "code",
   "execution_count": 36,
   "metadata": {},
   "outputs": [],
   "source": [
    "import matplotlib.pyplot as plt"
   ]
  },
  {
   "cell_type": "code",
   "execution_count": 43,
   "metadata": {},
   "outputs": [
    {
     "data": {
      "image/png": "[encoded data removed]",
      "text/plain": [
       "<Figure size 432x288 with 1 Axes>"
      ]
     },
     "metadata": {
      "needs_background": "light"
     },
     "output_type": "display_data"
    }
   ],
   "source": [
    "# グラフ\n",
    "result = np.array(result)\n",
    "plt.plot(result[:, 0], result[:, 1], label='train')\n",
    "plt.plot(result[:, 0], result[:, 2], label='valid')\n",
    "plt.plot(result[:, 0], result[:, 3], label='test')\n",
    "\n",
    "plt.xscale('log')\n",
    "\n",
    "plt.ylabel('accuracy')\n",
    "plt.xlabel('正則化項', fontname='AppleGothic')\n",
    "\n",
    "plt.legend()\n",
    "plt.show()"
   ]
  },
  {
   "cell_type": "markdown",
   "metadata": {},
   "source": [
    "***\n",
    "## 59. ハイパーパラメータの探索\n",
    "> 学習アルゴリズムや学習パラメータを変えながら，カテゴリ分類モデルを学習せよ．検証データ上の正解率が最も高くなる学習アルゴリズム・パラメータを求めよ．また，その学習アルゴリズム・パラメータを用いたときの評価データ上の正解率を求めよ．"
   ]
  },
  {
   "cell_type": "code",
   "execution_count": 49,
   "metadata": {},
   "outputs": [],
   "source": [
    "def search_param(C, solver):\n",
    "    C = C_lst[int(np.round(C))] # np.round 四捨五入\n",
    "    solver = solver_lst[int(np.round(solver))] \n",
    "    model = LogisticRegression(random_state=0, C=C, solver=solver)\n",
    "    model.fit(X_train, train['CATEGORY'])\n",
    "    val_pred = model.predict(X_valid)\n",
    "    val_accuracy = accuracy_score(valid['CATEGORY'], val_pred)\n",
    "    return val_accuracy"
   ]
  },
  {
   "cell_type": "code",
   "execution_count": 45,
   "metadata": {},
   "outputs": [],
   "source": [
    "from bayes_opt import BayesianOptimization"
   ]
  },
  {
   "cell_type": "code",
   "execution_count": 52,
   "metadata": {},
   "outputs": [
    {
     "name": "stdout",
     "output_type": "stream",
     "text": [
      "|   iter    |  target   |     C     |  solver   |\n",
      "-------------------------------------------------\n"
     ]
    },
    {
     "name": "stderr",
     "output_type": "stream",
     "text": [
      "/Users/kawasakiharuka/opt/anaconda3/lib/python3.8/site-packages/sklearn/linear_model/_sag.py:329: ConvergenceWarning: The max_iter was reached which means the coef_ did not converge\n",
      "  warnings.warn(\"The max_iter was reached which means \"\n"
     ]
    },
    {
     "name": "stdout",
     "output_type": "stream",
     "text": [
      "| \u001b[0m 1       \u001b[0m | \u001b[0m 0.9108  \u001b[0m | \u001b[0m 6.702   \u001b[0m | \u001b[0m 2.511   \u001b[0m |\n"
     ]
    },
    {
     "name": "stderr",
     "output_type": "stream",
     "text": [
      "/Users/kawasakiharuka/opt/anaconda3/lib/python3.8/site-packages/sklearn/linear_model/_sag.py:329: ConvergenceWarning: The max_iter was reached which means the coef_ did not converge\n",
      "  warnings.warn(\"The max_iter was reached which means \"\n"
     ]
    },
    {
     "name": "stdout",
     "output_type": "stream",
     "text": [
      "| \u001b[0m 2       \u001b[0m | \u001b[0m 0.9063  \u001b[0m | \u001b[0m 3.47    \u001b[0m | \u001b[0m 2.681   \u001b[0m |\n",
      "| \u001b[0m 3       \u001b[0m | \u001b[0m 0.8988  \u001b[0m | \u001b[0m 1.192   \u001b[0m | \u001b[0m 0.9428  \u001b[0m |\n",
      "| \u001b[95m 4       \u001b[0m | \u001b[95m 0.9235  \u001b[0m | \u001b[95m 7.282   \u001b[0m | \u001b[95m 0.2818  \u001b[0m |\n",
      "| \u001b[0m 5       \u001b[0m | \u001b[0m 0.919   \u001b[0m | \u001b[0m 4.884   \u001b[0m | \u001b[0m 0.1694  \u001b[0m |\n",
      "| \u001b[95m 6       \u001b[0m | \u001b[95m 0.925   \u001b[0m | \u001b[95m 9.49    \u001b[0m | \u001b[95m-0.5     \u001b[0m |\n",
      "| \u001b[95m 7       \u001b[0m | \u001b[95m 0.9258  \u001b[0m | \u001b[95m 9.49    \u001b[0m | \u001b[95m 1.46    \u001b[0m |\n"
     ]
    },
    {
     "name": "stderr",
     "output_type": "stream",
     "text": [
      "/Users/kawasakiharuka/opt/anaconda3/lib/python3.8/site-packages/sklearn/linear_model/_sag.py:329: ConvergenceWarning: The max_iter was reached which means the coef_ did not converge\n",
      "  warnings.warn(\"The max_iter was reached which means \"\n"
     ]
    },
    {
     "name": "stdout",
     "output_type": "stream",
     "text": [
      "| \u001b[0m 8       \u001b[0m | \u001b[0m 0.8966  \u001b[0m | \u001b[0m 9.49    \u001b[0m | \u001b[0m 4.5     \u001b[0m |\n"
     ]
    },
    {
     "name": "stderr",
     "output_type": "stream",
     "text": [
      "/Users/kawasakiharuka/opt/anaconda3/lib/python3.8/site-packages/sklearn/linear_model/_sag.py:329: ConvergenceWarning: The max_iter was reached which means the coef_ did not converge\n",
      "  warnings.warn(\"The max_iter was reached which means \"\n"
     ]
    },
    {
     "name": "stdout",
     "output_type": "stream",
     "text": [
      "| \u001b[0m 9       \u001b[0m | \u001b[0m 0.8793  \u001b[0m | \u001b[0m-0.5     \u001b[0m | \u001b[0m 4.5     \u001b[0m |\n",
      "| \u001b[0m 10      \u001b[0m | \u001b[0m 0.9258  \u001b[0m | \u001b[0m 8.847   \u001b[0m | \u001b[0m 0.5431  \u001b[0m |\n",
      "| \u001b[0m 11      \u001b[0m | \u001b[0m 0.9243  \u001b[0m | \u001b[0m 7.815   \u001b[0m | \u001b[0m-0.5     \u001b[0m |\n",
      "| \u001b[0m 12      \u001b[0m | \u001b[0m 0.9258  \u001b[0m | \u001b[0m 9.49    \u001b[0m | \u001b[0m 0.583   \u001b[0m |\n",
      "| \u001b[0m 13      \u001b[0m | \u001b[0m 0.9235  \u001b[0m | \u001b[0m 6.182   \u001b[0m | \u001b[0m-0.5     \u001b[0m |\n",
      "| \u001b[0m 14      \u001b[0m | \u001b[0m 0.9258  \u001b[0m | \u001b[0m 8.788   \u001b[0m | \u001b[0m 1.285   \u001b[0m |\n",
      "| \u001b[0m 15      \u001b[0m | \u001b[0m 0.9258  \u001b[0m | \u001b[0m 9.236   \u001b[0m | \u001b[0m 1.031   \u001b[0m |\n",
      "| \u001b[0m 16      \u001b[0m | \u001b[0m 0.9198  \u001b[0m | \u001b[0m 3.627   \u001b[0m | \u001b[0m-0.5     \u001b[0m |\n",
      "| \u001b[0m 17      \u001b[0m | \u001b[0m 0.9243  \u001b[0m | \u001b[0m 8.244   \u001b[0m | \u001b[0m 0.8459  \u001b[0m |\n"
     ]
    },
    {
     "name": "stderr",
     "output_type": "stream",
     "text": [
      "/Users/kawasakiharuka/opt/anaconda3/lib/python3.8/site-packages/sklearn/linear_model/_logistic.py:762: ConvergenceWarning: lbfgs failed to converge (status=1):\n",
      "STOP: TOTAL NO. of ITERATIONS REACHED LIMIT.\n",
      "\n",
      "Increase the number of iterations (max_iter) or scale the data as shown in:\n",
      "    https://scikit-learn.org/stable/modules/preprocessing.html\n",
      "Please also refer to the documentation for alternative solver options:\n",
      "    https://scikit-learn.org/stable/modules/linear_model.html#logistic-regression\n",
      "  n_iter_i = _check_optimize_result(\n"
     ]
    },
    {
     "name": "stdout",
     "output_type": "stream",
     "text": [
      "| \u001b[0m 18      \u001b[0m | \u001b[0m 0.925   \u001b[0m | \u001b[0m 9.025   \u001b[0m | \u001b[0m 1.978   \u001b[0m |\n",
      "| \u001b[0m 19      \u001b[0m | \u001b[0m 0.925   \u001b[0m | \u001b[0m 8.894   \u001b[0m | \u001b[0m-0.2023  \u001b[0m |\n",
      "| \u001b[0m 20      \u001b[0m | \u001b[0m 0.925   \u001b[0m | \u001b[0m 9.49    \u001b[0m | \u001b[0m 0.06939 \u001b[0m |\n"
     ]
    },
    {
     "name": "stderr",
     "output_type": "stream",
     "text": [
      "/Users/kawasakiharuka/opt/anaconda3/lib/python3.8/site-packages/sklearn/linear_model/_logistic.py:762: ConvergenceWarning: lbfgs failed to converge (status=1):\n",
      "STOP: TOTAL NO. of ITERATIONS REACHED LIMIT.\n",
      "\n",
      "Increase the number of iterations (max_iter) or scale the data as shown in:\n",
      "    https://scikit-learn.org/stable/modules/preprocessing.html\n",
      "Please also refer to the documentation for alternative solver options:\n",
      "    https://scikit-learn.org/stable/modules/linear_model.html#logistic-regression\n",
      "  n_iter_i = _check_optimize_result(\n"
     ]
    },
    {
     "name": "stdout",
     "output_type": "stream",
     "text": [
      "| \u001b[0m 21      \u001b[0m | \u001b[0m 0.925   \u001b[0m | \u001b[0m 9.101   \u001b[0m | \u001b[0m 1.545   \u001b[0m |\n",
      "| \u001b[0m 22      \u001b[0m | \u001b[0m 0.8763  \u001b[0m | \u001b[0m-0.4669  \u001b[0m | \u001b[0m-0.4205  \u001b[0m |\n"
     ]
    },
    {
     "name": "stderr",
     "output_type": "stream",
     "text": [
      "/Users/kawasakiharuka/opt/anaconda3/lib/python3.8/site-packages/sklearn/linear_model/_sag.py:329: ConvergenceWarning: The max_iter was reached which means the coef_ did not converge\n",
      "  warnings.warn(\"The max_iter was reached which means \"\n"
     ]
    },
    {
     "name": "stdout",
     "output_type": "stream",
     "text": [
      "| \u001b[0m 23      \u001b[0m | \u001b[0m 0.8943  \u001b[0m | \u001b[0m 4.896   \u001b[0m | \u001b[0m 4.5     \u001b[0m |\n"
     ]
    },
    {
     "name": "stderr",
     "output_type": "stream",
     "text": [
      "/Users/kawasakiharuka/opt/anaconda3/lib/python3.8/site-packages/sklearn/linear_model/_logistic.py:762: ConvergenceWarning: lbfgs failed to converge (status=1):\n",
      "STOP: TOTAL NO. of ITERATIONS REACHED LIMIT.\n",
      "\n",
      "Increase the number of iterations (max_iter) or scale the data as shown in:\n",
      "    https://scikit-learn.org/stable/modules/preprocessing.html\n",
      "Please also refer to the documentation for alternative solver options:\n",
      "    https://scikit-learn.org/stable/modules/linear_model.html#logistic-regression\n",
      "  n_iter_i = _check_optimize_result(\n"
     ]
    },
    {
     "name": "stdout",
     "output_type": "stream",
     "text": [
      "| \u001b[0m 24      \u001b[0m | \u001b[0m 0.925   \u001b[0m | \u001b[0m 9.49    \u001b[0m | \u001b[0m 2.447   \u001b[0m |\n"
     ]
    },
    {
     "name": "stderr",
     "output_type": "stream",
     "text": [
      "/Users/kawasakiharuka/opt/anaconda3/lib/python3.8/site-packages/sklearn/linear_model/_logistic.py:762: ConvergenceWarning: lbfgs failed to converge (status=1):\n",
      "STOP: TOTAL NO. of ITERATIONS REACHED LIMIT.\n",
      "\n",
      "Increase the number of iterations (max_iter) or scale the data as shown in:\n",
      "    https://scikit-learn.org/stable/modules/preprocessing.html\n",
      "Please also refer to the documentation for alternative solver options:\n",
      "    https://scikit-learn.org/stable/modules/linear_model.html#logistic-regression\n",
      "  n_iter_i = _check_optimize_result(\n"
     ]
    },
    {
     "name": "stdout",
     "output_type": "stream",
     "text": [
      "| \u001b[0m 25      \u001b[0m | \u001b[0m 0.9243  \u001b[0m | \u001b[0m 8.169   \u001b[0m | \u001b[0m 1.889   \u001b[0m |\n",
      "| \u001b[0m 26      \u001b[0m | \u001b[0m 0.9235  \u001b[0m | \u001b[0m 6.864   \u001b[0m | \u001b[0m-0.4887  \u001b[0m |\n",
      "| \u001b[0m 27      \u001b[0m | \u001b[0m 0.919   \u001b[0m | \u001b[0m 4.922   \u001b[0m | \u001b[0m-0.5     \u001b[0m |\n",
      "| \u001b[0m 28      \u001b[0m | \u001b[0m 0.9205  \u001b[0m | \u001b[0m 6.264   \u001b[0m | \u001b[0m 0.632   \u001b[0m |\n",
      "| \u001b[0m 29      \u001b[0m | \u001b[0m 0.9168  \u001b[0m | \u001b[0m 3.299   \u001b[0m | \u001b[0m 0.7115  \u001b[0m |\n"
     ]
    },
    {
     "name": "stderr",
     "output_type": "stream",
     "text": [
      "/Users/kawasakiharuka/opt/anaconda3/lib/python3.8/site-packages/sklearn/linear_model/_logistic.py:762: ConvergenceWarning: lbfgs failed to converge (status=1):\n",
      "STOP: TOTAL NO. of ITERATIONS REACHED LIMIT.\n",
      "\n",
      "Increase the number of iterations (max_iter) or scale the data as shown in:\n",
      "    https://scikit-learn.org/stable/modules/preprocessing.html\n",
      "Please also refer to the documentation for alternative solver options:\n",
      "    https://scikit-learn.org/stable/modules/linear_model.html#logistic-regression\n",
      "  n_iter_i = _check_optimize_result(\n"
     ]
    },
    {
     "name": "stdout",
     "output_type": "stream",
     "text": [
      "| \u001b[0m 30      \u001b[0m | \u001b[0m 0.925   \u001b[0m | \u001b[0m 9.479   \u001b[0m | \u001b[0m 1.818   \u001b[0m |\n",
      "=================================================\n"
     ]
    }
   ],
   "source": [
    "C_lst = np.logspace(-1, 1, 10, base=10)\n",
    "solver_lst = ['liblinear', 'newton-cg', 'lbfgs', 'sag', 'saga'] # 最適解の探索手法\n",
    "\n",
    "# 最適化するパラメータの上限、下限\n",
    "bounds = {\n",
    "    'C': (-0.5, 9.49),\n",
    "    'solver': (-0.5, 4.5)\n",
    "}\n",
    "## ベイズ最適化\n",
    "opt = BayesianOptimization(search_param, bounds) # 関数と最適化するパラメータを渡す\n",
    "opt.maximize() # 最適化"
   ]
  },
  {
   "cell_type": "code",
   "execution_count": 53,
   "metadata": {},
   "outputs": [
    {
     "name": "stdout",
     "output_type": "stream",
     "text": [
      "Optimized C:  10.0\n",
      "Optimized solver:  newton-cg\n",
      "Best test accuracy:  0.9190404797601199\n"
     ]
    }
   ],
   "source": [
    "## 最適化したハイパーパラメータで評価\n",
    "optimized_params = opt.max['params']\n",
    "C = C_lst[int(np.round(optimized_params['C']))]\n",
    "solver = solver_lst[int(np.round(optimized_params['solver']))]\n",
    "\n",
    "model = LogisticRegression(random_state=0, C=C, solver=solver)\n",
    "model.fit(X_train, train['CATEGORY'])\n",
    "pred = model.predict(X_test)\n",
    "score = accuracy_score(test['CATEGORY'], pred)\n",
    "print('Optimized C: ', C)\n",
    "print('Optimized solver: ', solver)\n",
    "print('Best test accuracy: ', score)"
   ]
  },
  {
   "cell_type": "code",
   "execution_count": null,
   "metadata": {},
   "outputs": [],
   "source": []
  }
 ],
 "metadata": {
  "kernelspec": {
   "display_name": "Python 3",
   "language": "python",
   "name": "python3"
  },
  "language_info": {
   "codemirror_mode": {
    "name": "ipython",
    "version": 3
   },
   "file_extension": ".py",
   "mimetype": "text/x-python",
   "name": "python",
   "nbconvert_exporter": "python",
   "pygments_lexer": "ipython3",
   "version": "3.8.3"
  }
 },
 "nbformat": 4,
 "nbformat_minor": 4
}
