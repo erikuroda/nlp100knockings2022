{
 "cells": [
  {
   "cell_type": "markdown",
   "id": "f3350520",
   "metadata": {},
   "source": [
    "### 00.反转字符串\n",
    "将字符串”stressed”中的字符以逆序形式（从末尾到首部）重组为新的字符串。"
   ]
  },
  {
   "cell_type": "code",
   "execution_count": 1,
   "id": "6fe34edc",
   "metadata": {},
   "outputs": [
    {
     "name": "stdout",
     "output_type": "stream",
     "text": [
      "desserts\n"
     ]
    }
   ],
   "source": [
    "w = 'stressed'\n",
    "print(w[::-1])"
   ]
  },
  {
   "cell_type": "markdown",
   "id": "d4be181b",
   "metadata": {},
   "source": [
    "### 01. “schooled”Permalink\n",
    "将字符串”schooled”中的第1个、第3个、第5个、第7个字符连接在一起，组成新的字符串。"
   ]
  },
  {
   "cell_type": "code",
   "execution_count": 2,
   "id": "72f24389",
   "metadata": {},
   "outputs": [
    {
     "name": "stdout",
     "output_type": "stream",
     "text": [
      "cold\n"
     ]
    }
   ],
   "source": [
    "w = 'schooled'\n",
    "print(w[1::2])"
   ]
  },
  {
   "cell_type": "markdown",
   "id": "e11ba3be",
   "metadata": {},
   "source": [
    "### 02. “shoe” + “cold” = “schooled”Permalink\n",
    "交错地将“shoe”和“cold”中的字符顺次拼接，以得到字符串“schooled”"
   ]
  },
  {
   "cell_type": "code",
   "execution_count": 35,
   "id": "964b51c4",
   "metadata": {},
   "outputs": [
    {
     "name": "stdout",
     "output_type": "stream",
     "text": [
      "schooled\n"
     ]
    }
   ],
   "source": [
    "w1 = 'shoe'\n",
    "w2 = 'cold'\n",
    "new_word = ''.join(ch1 + ch2 for ch1,ch2 in zip(w1,w2))\n",
    "print(new_word)"
   ]
  },
  {
   "cell_type": "markdown",
   "id": "8612ed17",
   "metadata": {},
   "source": [
    "### 03. 圆周率\n",
    "给定语句”Now I need a drink, alcoholic of course, after the heavy lectures involving quantum mechanics.” 以单词为单位分割该语句，并创建一个列表，顺次记录该语句中各个单词的长度（即字符数）。"
   ]
  },
  {
   "cell_type": "code",
   "execution_count": 28,
   "id": "4460c07e",
   "metadata": {},
   "outputs": [
    {
     "name": "stdout",
     "output_type": "stream",
     "text": [
      "[3, 1, 4, 1, 5, 9, 2, 6, 5, 3, 5, 8, 9, 7, 9]\n"
     ]
    }
   ],
   "source": [
    "s = 'Now I need a drink, alcoholic of course, after the heavy lectures involving quantum mechanics'\n",
    "s1 = s.replace(',',' ')\n",
    "wordlist = s1.split()\n",
    "print([len(word) for word in wordlist])"
   ]
  },
  {
   "cell_type": "markdown",
   "id": "26edc8f5",
   "metadata": {},
   "source": [
    "### 04 . 元素记号\n",
    "给定语句 “Hi He Lied Because Boron Could Not Oxidize Fluorine. New Nations Might Also Sign Peace Security Clause. Arthur King Can.”以单词为单位分割该语句，从第1个、第5个、第6个、第7个、第8个、第9个、第15个、第16个、第19个单词中提取第一个字符，并从其他单词中提取前两个字符。随后创建一个关联数组（dictonary对象或map对象），将提取出的字符串映射到各个相应单词在该语句中的位置。"
   ]
  },
  {
   "cell_type": "code",
   "execution_count": 45,
   "id": "b25444de",
   "metadata": {},
   "outputs": [
    {
     "name": "stdout",
     "output_type": "stream",
     "text": [
      "{'H': 0, 'B': 4, 'C': 5, 'N': 6, 'O': 7, 'F': 8, 'P': 14, 'S': 15, 'K': 18, 'He': 1, 'Li': 2, 'Be': 3, 'Ne': 9, 'Na': 10, 'Mi': 11, 'Al': 12, 'Si': 13, 'Cl': 16, 'Ar': 17, 'Ca': 19}\n"
     ]
    }
   ],
   "source": [
    "s = 'Hi He Lied Because Boron Could Not Oxidize Fluorine. New Nations Might Also Sign Peace Security Clause. Arthur King Can.'\n",
    "wordlist = s.split()\n",
    "ch1 = [0,4,5,6,7,8,14,15,18]\n",
    "ch2 = [1,2,3,9,10,11,12,13,16,17,19]\n",
    "dict ={}\n",
    "for num in ch1:\n",
    "    dict[wordlist[num][0:1]]= num\n",
    "for num in ch2:\n",
    "    dict[wordlist[num][0:2]]= num\n",
    "print(dict)"
   ]
  },
  {
   "cell_type": "markdown",
   "id": "e61796dd",
   "metadata": {},
   "source": [
    "### 05. n-gram\n",
    "实现一个函数，从给定的序列对象中（例如string或list）来生成n-gram。使用这个函数从句子”I am an NLPer”中获得单词级别的bi-gram与字符级别的bi-gram。"
   ]
  },
  {
   "cell_type": "code",
   "execution_count": 61,
   "id": "2c7ff5e9",
   "metadata": {},
   "outputs": [
    {
     "name": "stdout",
     "output_type": "stream",
     "text": [
      "['I ', ' a', 'am', 'm ', ' a', 'an', 'n ', ' N', 'NL', 'LP', 'Pe', 'er']\n",
      "[['I', 'am'], ['am', 'an'], ['an', 'NLPer']]\n"
     ]
    }
   ],
   "source": [
    "def n_gram(s,n):\n",
    "    words = s.split()\n",
    "    ch_list = []\n",
    "    w_list = []\n",
    "    for i in range(len(s)-n+1):\n",
    "        ch_list.append(s[i:i+n])\n",
    "    for i in range(len(words)-n+1):\n",
    "        w_list.append(words[i:i+n])\n",
    "    print(ch_list)\n",
    "    print(w_list)\n",
    "    \n",
    "n_gram(\"I am an NLPer\",2)"
   ]
  },
  {
   "cell_type": "markdown",
   "id": "b027b202",
   "metadata": {},
   "source": [
    "### 06. 集合\n",
    "设由单词”paraparaparadise”和”paragraph”所生成的字符级bi-gram为分别为集合X和集合Y。求这两个集合的并(union)、交(intersection)、差(difference)。此外，请检查集合X和Y中是否包含bi-gram “se”。"
   ]
  },
  {
   "cell_type": "code",
   "execution_count": 76,
   "id": "d08771e2",
   "metadata": {},
   "outputs": [
    {
     "name": "stdout",
     "output_type": "stream",
     "text": [
      "{'is', 'ar', 'gr', 'ra', 'ap', 'pa', 'di', 'ad', 'ph', 'ag', 'se'}\n",
      "{'ar', 'ap', 'pa', 'ra'}\n",
      "{'is', 'ad', 'di', 'se'}\n",
      "True\n",
      "False\n"
     ]
    }
   ],
   "source": [
    "def bi_gram(s):\n",
    "    ch_list = []\n",
    "    for i in range(len(s)-1):\n",
    "        ch_list.append(s[i:i+2])\n",
    "    return ch_list\n",
    "\n",
    "ch1 = bi_gram('paraparaparadise')\n",
    "ch2 = bi_gram('paragraph')\n",
    "\n",
    "#union\n",
    "print(set(ch1) | set(ch2))\n",
    "\n",
    "#intersection \n",
    "print(set(ch1) & set(ch2))\n",
    "\n",
    "#difference\n",
    "print(set(ch1) - set(ch2))\n",
    "\n",
    "print('se' in ch1)\n",
    "print('se' in ch2)"
   ]
  },
  {
   "cell_type": "markdown",
   "id": "eb974cfe",
   "metadata": {},
   "source": [
    "### 07. 基于模板的句子生成\n",
    "实现一个函数，接收三个参数x，y，z作为输入，并返回字符串\"{y} is {z} at {x}\"作为输出，其中”{x}”， “{y}”， “{z}”分别代表参数x，y ，z的值。 进一步地，以x=12，y=\"temperature\" ， z=22.4作为输入，确认该函数的输出结果。"
   ]
  },
  {
   "cell_type": "code",
   "execution_count": 79,
   "id": "b830997c",
   "metadata": {},
   "outputs": [
    {
     "name": "stdout",
     "output_type": "stream",
     "text": [
      "temperature is 22.4 at 12\n"
     ]
    }
   ],
   "source": [
    "def mks(x,y,z):\n",
    "    print(f'{y} is {z} at {x}')\n",
    "    \n",
    "mks(12,'temperature',22.4)"
   ]
  },
  {
   "cell_type": "markdown",
   "id": "bbf5902f",
   "metadata": {},
   "source": [
    "### 08. 密文Permalink\n",
    "实现函数cipher，使得它能够对给定字符串中的各个字符进行下列变换：\n",
    "\n",
    "对于任意一个小写英文字母c，将其置换成ASCII码为（219 - [c的ASCII码]）的字符；\n",
    "对于任意一个非小写英文字母的字符，不对其进行变换。\n",
    "使用该函数对英文信息进行加密与解密。"
   ]
  },
  {
   "cell_type": "code",
   "execution_count": 176,
   "id": "08875d92",
   "metadata": {},
   "outputs": [
    {
     "name": "stdout",
     "output_type": "stream",
     "text": [
      "wpuqozhJKLNqpwqu\n",
      "dkfjlasJKLNjkdjf\n"
     ]
    }
   ],
   "source": [
    "def cipher(str):\n",
    "    new_str = []\n",
    "    for ch in str:\n",
    "        if ch.islower():\n",
    "            new_str.append(chr(219-ord(ch)))\n",
    "        else:\n",
    "            new_str.append(ch)\n",
    "    return ''.join(new_str)\n",
    "\n",
    "test = \"dkfjlasJKLNjkdjf\"\n",
    "code = cipher(test)\n",
    "print(code)\n",
    "decode = cipher(code)\n",
    "print(decode)"
   ]
  },
  {
   "cell_type": "markdown",
   "id": "0a53e322",
   "metadata": {},
   "source": [
    "### 09. Typoglycemia\n",
    "接收一个以空格为分隔符的单词序列作为输入\n",
    "对于在该序列中的每个单词：\n",
    "如果该单词的长度（字符数）不超过4，保持该单词不变；\n",
    "否则，\n",
    "保持该单词的首尾字符不变；\n",
    "随机打乱剩余字符的排列顺序。\n",
    "输入任意英文序列（例如”I couldn’t believe that I could actually understand what I was reading : the phenomenal power of the human mind. “），确认该程序的运行结果。"
   ]
  },
  {
   "cell_type": "code",
   "execution_count": 172,
   "id": "d8e2fdce",
   "metadata": {},
   "outputs": [
    {
     "name": "stdout",
     "output_type": "stream",
     "text": [
      "['I', 'co’ldunt', 'bleieve', 'that', 'I', 'could', 'altuacly', 'unaedstnrd', 'what', 'I', 'was', 'rendaig', ':', 'the', 'phnonemael', 'peowr', 'of', 'the', 'hmuan', 'midn.']\n"
     ]
    }
   ],
   "source": [
    "from random import shuffle\n",
    "def typoglycemia(str):\n",
    "    ty = []\n",
    "    for word in str.split():\n",
    "        if len(word) > 4:\n",
    "            word_list = list(word[1:-1])\n",
    "            shuffle(word_list)\n",
    "            ty.append(word[0]+''.join(word_list)+word[-1])\n",
    "        else:\n",
    "            ty.append(word)\n",
    "    print(ty)\n",
    "\n",
    "typoglycemia(\"I couldn’t believe that I could actually understand what I was reading : the phenomenal power of the human mind.\")"
   ]
  },
  {
   "cell_type": "code",
   "execution_count": 169,
   "id": "6130f1eb",
   "metadata": {},
   "outputs": [
    {
     "data": {
      "text/plain": [
       "'hdsalffedlo'"
      ]
     },
     "execution_count": 169,
     "metadata": {},
     "output_type": "execute_result"
    }
   ],
   "source": [
    "def shuffle_str(s):\n",
    "    str_list = list(s[1:-1])\n",
    "    shuffle(str_list)\n",
    "    return s[0]+''.join(str_list)+s[-1]\n",
    "\n",
    "shuffle_str('heldfasdflo')"
   ]
  },
  {
   "cell_type": "code",
   "execution_count": null,
   "id": "4372397d",
   "metadata": {},
   "outputs": [],
   "source": []
  },
  {
   "cell_type": "code",
   "execution_count": null,
   "id": "357d9df8",
   "metadata": {},
   "outputs": [],
   "source": []
  }
 ],
 "metadata": {
  "kernelspec": {
   "display_name": "Python 3 (ipykernel)",
   "language": "python",
   "name": "python3"
  },
  "language_info": {
   "codemirror_mode": {
    "name": "ipython",
    "version": 3
   },
   "file_extension": ".py",
   "mimetype": "text/x-python",
   "name": "python",
   "nbconvert_exporter": "python",
   "pygments_lexer": "ipython3",
   "version": "3.9.7"
  }
 },
 "nbformat": 4,
 "nbformat_minor": 5
}
