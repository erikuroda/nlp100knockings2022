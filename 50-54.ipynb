{
 "cells": [
  {
   "cell_type": "markdown",
   "metadata": {},
   "source": [
    "# 第6章: 機械学習(50〜54)\n",
    "本章では，Fabio Gasparetti氏が公開しているNews Aggregator Data Setを用い，ニュース記事の見出しを「ビジネス」「科学技術」「エンターテイメント」「健康」のカテゴリに分類するタスク（カテゴリ分類）に取り組む．"
   ]
  },
  {
   "cell_type": "markdown",
   "metadata": {},
   "source": [
    "# 50.データの入手・整形\n",
    "*News Aggregator Data Setをダウンロードし、以下の要領で学習データ（train.txt），検証データ（valid.txt），評価データ（test.txt）を作成せよ．*\n",
    "\n",
    "1. ダウンロードしたzipファイルを解凍し，readme.txtの説明を読む．\n",
    "2. 情報源（publisher）が”Reuters”, “Huffington Post”, “Businessweek”, “Contactmusic.com”, “Daily Mail”の事例（記事）のみを抽出する．\n",
    "3. 抽出された事例をランダムに並び替える．\n",
    "4. 抽出された事例の80%を学習データ，残りの10%ずつを検証データと評価データに分割し，それぞれtrain.txt，valid.txt，test.txtというファイル名で保存する．ファイルには，１行に１事例を書き出すこととし，カテゴリ名と記事見出しのタブ区切り形式とせよ（このファイルは後に問題70で再利用する）．\n",
    "\n",
    "*学習データと評価データを作成したら，各カテゴリの事例数を確認せよ．*\n",
    "\n",
    "【参考】\n",
    "scikit-learnでデータを訓練用とテスト用に分割するtrain_test_split\n",
    "https://note.nkmk.me/python-sklearn-train-test-split/"
   ]
  },
  {
   "cell_type": "code",
   "execution_count": 1,
   "metadata": {},
   "outputs": [
    {
     "data": {
      "text/plain": [
       "b    5627\n",
       "e    5279\n",
       "t    1524\n",
       "m     910\n",
       "Name: CATEGORY, dtype: int64"
      ]
     },
     "execution_count": 1,
     "metadata": {},
     "output_type": "execute_result"
    }
   ],
   "source": [
    "import pandas as pd\n",
    "from sklearn.model_selection import train_test_split\n",
    "# from functools import reduce\n",
    "\n",
    "#    2. 事例抽出\n",
    "# readme.txtに従いヘッダーを追加する\n",
    "# read_csvの引数にnames＝['...', ...]\n",
    "news_corpora = pd.read_csv('NewsAggregatorDataset/newsCorpora.csv', delimiter='\\t', names = ['ID', 'TITLE', 'URL', 'PUBLISHER', 'CATEGORY', 'STORY', 'HOSTNAME', 'TIMESTAMP'])\n",
    "\n",
    "# 情報源（publisher）が”Reuters”, “Huffington Post”, “Businessweek”, “Contactmusic.com”, “Daily Mail”の事例（記事）のみを抽出する\n",
    "df = news_corpora[(news_corpora['PUBLISHER']=='Reuters') | (news_corpora['PUBLISHER']=='Huffington Post') | (news_corpora['PUBLISHER']=='Businessweek') | \\\n",
    "      (news_corpora['PUBLISHER']=='Contactmusic.com') | (news_corpora['PUBLISHER']=='Daily Mail')]\n",
    "\n",
    "#    3. 並び替え\n",
    "df = df.sample(frac=1) # すべてをサンプリング\n",
    "\n",
    "#    4. 保存\n",
    "train_df, valid_test_df = train_test_split(df, test_size=0.2) # 8:2\n",
    "valid_df, test_df = train_test_split(valid_test_df, test_size=0.5) # 8:1:1\n",
    "train_df.to_csv('./NewsAggregatorDataset/train.txt', columns = ['CATEGORY','TITLE'], sep='\\t',header=False, index=False)\n",
    "valid_df.to_csv('./NewsAggregatorDataset/valid.txt', columns = ['CATEGORY','TITLE'], sep='\\t',header=False, index=False)\n",
    "test_df.to_csv('./NewsAggregatorDataset/test.txt', columns = ['CATEGORY','TITLE'], sep='\\t',header=False, index=False)\n",
    "\n",
    "#  事例数の確認\n",
    "df['CATEGORY'].value_counts()"
   ]
  },
  {
   "cell_type": "code",
   "execution_count": 2,
   "metadata": {},
   "outputs": [
    {
     "data": {
      "text/html": [
       "<div>\n",
       "<style scoped>\n",
       "    .dataframe tbody tr th:only-of-type {\n",
       "        vertical-align: middle;\n",
       "    }\n",
       "\n",
       "    .dataframe tbody tr th {\n",
       "        vertical-align: top;\n",
       "    }\n",
       "\n",
       "    .dataframe thead th {\n",
       "        text-align: right;\n",
       "    }\n",
       "</style>\n",
       "<table border=\"1\" class=\"dataframe\">\n",
       "  <thead>\n",
       "    <tr style=\"text-align: right;\">\n",
       "      <th></th>\n",
       "      <th>ID</th>\n",
       "      <th>TITLE</th>\n",
       "      <th>URL</th>\n",
       "      <th>PUBLISHER</th>\n",
       "      <th>CATEGORY</th>\n",
       "      <th>STORY</th>\n",
       "      <th>HOSTNAME</th>\n",
       "      <th>TIMESTAMP</th>\n",
       "    </tr>\n",
       "  </thead>\n",
       "  <tbody>\n",
       "    <tr>\n",
       "      <th>70359</th>\n",
       "      <td>70435</td>\n",
       "      <td>UPDATE 1-Telus names CEO as Entwistle becomes ...</td>\n",
       "      <td>http://in.reuters.com/article/2014/03/31/telus...</td>\n",
       "      <td>Reuters</td>\n",
       "      <td>b</td>\n",
       "      <td>dGBqh_i-77gZ42Ml87cz01GSVlPnM</td>\n",
       "      <td>in.reuters.com</td>\n",
       "      <td>1396283859143</td>\n",
       "    </tr>\n",
       "    <tr>\n",
       "      <th>126113</th>\n",
       "      <td>126449</td>\n",
       "      <td>First Nighter: Franco, O'Dowd, Meester Disting...</td>\n",
       "      <td>http://www.huffingtonpost.com/david-finkle/fir...</td>\n",
       "      <td>Huffington Post</td>\n",
       "      <td>e</td>\n",
       "      <td>d453Y4zVT_O7yQMfBfhZzxNb8XOeM</td>\n",
       "      <td>www.huffingtonpost.com</td>\n",
       "      <td>1397711777663</td>\n",
       "    </tr>\n",
       "    <tr>\n",
       "      <th>347805</th>\n",
       "      <td>348265</td>\n",
       "      <td>Hong Kong benchmark slips, China stocks gain a...</td>\n",
       "      <td>http://in.reuters.com/article/2014/07/03/marke...</td>\n",
       "      <td>Reuters</td>\n",
       "      <td>b</td>\n",
       "      <td>dhFoIQ7b1n6alyM_m9nC-lv_dSNXM</td>\n",
       "      <td>in.reuters.com</td>\n",
       "      <td>1404373113509</td>\n",
       "    </tr>\n",
       "    <tr>\n",
       "      <th>77183</th>\n",
       "      <td>77259</td>\n",
       "      <td>Pound Falls for First Time in Seven Days as Ma...</td>\n",
       "      <td>http://www.businessweek.com/news/2014-04-01/po...</td>\n",
       "      <td>Businessweek</td>\n",
       "      <td>b</td>\n",
       "      <td>dn9I4_GpQnctQNMOAl9jKLeuJlfQM</td>\n",
       "      <td>www.businessweek.com</td>\n",
       "      <td>1396370460027</td>\n",
       "    </tr>\n",
       "    <tr>\n",
       "      <th>146156</th>\n",
       "      <td>146492</td>\n",
       "      <td>Philips CEO says 2014 earnings improvement now...</td>\n",
       "      <td>http://www.reuters.com/article/2014/04/22/us-p...</td>\n",
       "      <td>Reuters</td>\n",
       "      <td>b</td>\n",
       "      <td>doG1F8gdEKp7IxMCNPJs9cJtr6gVM</td>\n",
       "      <td>www.reuters.com</td>\n",
       "      <td>1398157038609</td>\n",
       "    </tr>\n",
       "    <tr>\n",
       "      <th>...</th>\n",
       "      <td>...</td>\n",
       "      <td>...</td>\n",
       "      <td>...</td>\n",
       "      <td>...</td>\n",
       "      <td>...</td>\n",
       "      <td>...</td>\n",
       "      <td>...</td>\n",
       "      <td>...</td>\n",
       "    </tr>\n",
       "    <tr>\n",
       "      <th>351961</th>\n",
       "      <td>352421</td>\n",
       "      <td>Lindsay Lohan sports painful-looking cuts and ...</td>\n",
       "      <td>http://www.dailymail.co.uk/tvshowbiz/article-2...</td>\n",
       "      <td>Daily Mail</td>\n",
       "      <td>e</td>\n",
       "      <td>dCgKp5Dryw7NaJMV43bL3DMhdR5OM</td>\n",
       "      <td>www.dailymail.co.uk</td>\n",
       "      <td>1404401917639</td>\n",
       "    </tr>\n",
       "    <tr>\n",
       "      <th>263350</th>\n",
       "      <td>263796</td>\n",
       "      <td>GLOBAL MARKETS-US, euro zone bonds rally on ex...</td>\n",
       "      <td>http://in.reuters.com/article/2014/05/28/marke...</td>\n",
       "      <td>Reuters</td>\n",
       "      <td>b</td>\n",
       "      <td>dstMYX5TPmpOkUM8aMg0Q-mfPeioM</td>\n",
       "      <td>in.reuters.com</td>\n",
       "      <td>1401354107920</td>\n",
       "    </tr>\n",
       "    <tr>\n",
       "      <th>358191</th>\n",
       "      <td>358651</td>\n",
       "      <td>Lea Michele - Lea Michele insists she isn't pr...</td>\n",
       "      <td>http://www.contactmusic.com/story/lea-michele-...</td>\n",
       "      <td>Contactmusic.com</td>\n",
       "      <td>e</td>\n",
       "      <td>dDzZDd7pVNZDDBMpnG7rkeM4MG6EM</td>\n",
       "      <td>www.contactmusic.com</td>\n",
       "      <td>1404533104604</td>\n",
       "    </tr>\n",
       "    <tr>\n",
       "      <th>105646</th>\n",
       "      <td>105843</td>\n",
       "      <td>UPDATE 1-BMW to recall more than 156000 vehicl...</td>\n",
       "      <td>http://in.reuters.com/article/2014/04/10/bmw-r...</td>\n",
       "      <td>Reuters</td>\n",
       "      <td>t</td>\n",
       "      <td>dAYaXV4JtRBtQJMGb8EmLlwTIToUM</td>\n",
       "      <td>in.reuters.com</td>\n",
       "      <td>1397348607426</td>\n",
       "    </tr>\n",
       "    <tr>\n",
       "      <th>328147</th>\n",
       "      <td>328607</td>\n",
       "      <td>Robert De Niro Crashes Stranger's Home To Watc...</td>\n",
       "      <td>http://www.contactmusic.com/article/robert-de-...</td>\n",
       "      <td>Contactmusic.com</td>\n",
       "      <td>e</td>\n",
       "      <td>d3lgEVs_2W9tOoMMAHNfmv8YZ73nM</td>\n",
       "      <td>www.contactmusic.com</td>\n",
       "      <td>1403933046728</td>\n",
       "    </tr>\n",
       "  </tbody>\n",
       "</table>\n",
       "<p>13340 rows × 8 columns</p>\n",
       "</div>"
      ],
      "text/plain": [
       "            ID                                              TITLE  \\\n",
       "70359    70435  UPDATE 1-Telus names CEO as Entwistle becomes ...   \n",
       "126113  126449  First Nighter: Franco, O'Dowd, Meester Disting...   \n",
       "347805  348265  Hong Kong benchmark slips, China stocks gain a...   \n",
       "77183    77259  Pound Falls for First Time in Seven Days as Ma...   \n",
       "146156  146492  Philips CEO says 2014 earnings improvement now...   \n",
       "...        ...                                                ...   \n",
       "351961  352421  Lindsay Lohan sports painful-looking cuts and ...   \n",
       "263350  263796  GLOBAL MARKETS-US, euro zone bonds rally on ex...   \n",
       "358191  358651  Lea Michele - Lea Michele insists she isn't pr...   \n",
       "105646  105843  UPDATE 1-BMW to recall more than 156000 vehicl...   \n",
       "328147  328607  Robert De Niro Crashes Stranger's Home To Watc...   \n",
       "\n",
       "                                                      URL         PUBLISHER  \\\n",
       "70359   http://in.reuters.com/article/2014/03/31/telus...           Reuters   \n",
       "126113  http://www.huffingtonpost.com/david-finkle/fir...   Huffington Post   \n",
       "347805  http://in.reuters.com/article/2014/07/03/marke...           Reuters   \n",
       "77183   http://www.businessweek.com/news/2014-04-01/po...      Businessweek   \n",
       "146156  http://www.reuters.com/article/2014/04/22/us-p...           Reuters   \n",
       "...                                                   ...               ...   \n",
       "351961  http://www.dailymail.co.uk/tvshowbiz/article-2...        Daily Mail   \n",
       "263350  http://in.reuters.com/article/2014/05/28/marke...           Reuters   \n",
       "358191  http://www.contactmusic.com/story/lea-michele-...  Contactmusic.com   \n",
       "105646  http://in.reuters.com/article/2014/04/10/bmw-r...           Reuters   \n",
       "328147  http://www.contactmusic.com/article/robert-de-...  Contactmusic.com   \n",
       "\n",
       "       CATEGORY                          STORY                HOSTNAME  \\\n",
       "70359         b  dGBqh_i-77gZ42Ml87cz01GSVlPnM          in.reuters.com   \n",
       "126113        e  d453Y4zVT_O7yQMfBfhZzxNb8XOeM  www.huffingtonpost.com   \n",
       "347805        b  dhFoIQ7b1n6alyM_m9nC-lv_dSNXM          in.reuters.com   \n",
       "77183         b  dn9I4_GpQnctQNMOAl9jKLeuJlfQM    www.businessweek.com   \n",
       "146156        b  doG1F8gdEKp7IxMCNPJs9cJtr6gVM         www.reuters.com   \n",
       "...         ...                            ...                     ...   \n",
       "351961        e  dCgKp5Dryw7NaJMV43bL3DMhdR5OM     www.dailymail.co.uk   \n",
       "263350        b  dstMYX5TPmpOkUM8aMg0Q-mfPeioM          in.reuters.com   \n",
       "358191        e  dDzZDd7pVNZDDBMpnG7rkeM4MG6EM    www.contactmusic.com   \n",
       "105646        t  dAYaXV4JtRBtQJMGb8EmLlwTIToUM          in.reuters.com   \n",
       "328147        e  d3lgEVs_2W9tOoMMAHNfmv8YZ73nM    www.contactmusic.com   \n",
       "\n",
       "            TIMESTAMP  \n",
       "70359   1396283859143  \n",
       "126113  1397711777663  \n",
       "347805  1404373113509  \n",
       "77183   1396370460027  \n",
       "146156  1398157038609  \n",
       "...               ...  \n",
       "351961  1404401917639  \n",
       "263350  1401354107920  \n",
       "358191  1404533104604  \n",
       "105646  1397348607426  \n",
       "328147  1403933046728  \n",
       "\n",
       "[13340 rows x 8 columns]"
      ]
     },
     "execution_count": 2,
     "metadata": {},
     "output_type": "execute_result"
    }
   ],
   "source": [
    "df"
   ]
  },
  {
   "cell_type": "markdown",
   "metadata": {},
   "source": [
    "# 51.特徴量抽出\n",
    "*学習データ，検証データ，評価データから特徴量を抽出し，それぞれtrain.feature.txt，valid.feature.txt，test.feature.txtというファイル名で保存せよ． なお，カテゴリ分類に有用そうな特徴量は各自で自由に設計せよ．記事の見出しを単語列に変換したものが最低限のベースラインとなるであろう．*\n",
    "\n",
    "【参考】単語をカウントして特徴量とする https://qiita.com/fujin/items/b1a7152c2ec2b4963160\n",
    "\n",
    "scikit-learnのTfidfVectorizerを使う。単語の出現頻度とレア度を掛け合わせた手法。"
   ]
  },
  {
   "cell_type": "code",
   "execution_count": 3,
   "metadata": {},
   "outputs": [],
   "source": [
    "from sklearn.feature_extraction.text import TfidfVectorizer\n",
    "import numpy as np\n",
    "\n",
    "vectorizer = TfidfVectorizer()\n",
    "\n",
    "X_train = vectorizer.fit_transform(train_df['TITLE'])\n",
    "X_valid = vectorizer.transform(valid_df['TITLE'])\n",
    "X_test = vectorizer.transform(test_df['TITLE'])\n",
    "\n",
    "np.savetxt('./NewsAggregatorDataset/train.feature.txt', X_train.toarray(), fmt='%d') # 疎行列から密行列に変換\n",
    "np.savetxt('./NewsAggregatorDataset/valid.feature.txt', X_valid.toarray(), fmt='%d')\n",
    "np.savetxt('./NewsAggregatorDataset/test.feature.txt', X_test.toarray(), fmt='%d')"
   ]
  },
  {
   "cell_type": "markdown",
   "metadata": {},
   "source": [
    "# 52. 学習\n",
    "*51.で構築した学習データを用いて，ロジスティック回帰モデルを学習せよ．*\n",
    "\n",
    "【参考】\n",
    "Scikit-learn でロジスティック回帰（クラス分類編）\n",
    "https://qiita.com/0NE_shoT_/items/b702ab482466df6e5569"
   ]
  },
  {
   "cell_type": "code",
   "execution_count": 4,
   "metadata": {},
   "outputs": [
    {
     "name": "stderr",
     "output_type": "stream",
     "text": [
      "/Users/motekihina/opt/anaconda3/lib/python3.8/site-packages/sklearn/linear_model/_logistic.py:762: ConvergenceWarning: lbfgs failed to converge (status=1):\n",
      "STOP: TOTAL NO. of ITERATIONS REACHED LIMIT.\n",
      "\n",
      "Increase the number of iterations (max_iter) or scale the data as shown in:\n",
      "    https://scikit-learn.org/stable/modules/preprocessing.html\n",
      "Please also refer to the documentation for alternative solver options:\n",
      "    https://scikit-learn.org/stable/modules/linear_model.html#logistic-regression\n",
      "  n_iter_i = _check_optimize_result(\n"
     ]
    },
    {
     "data": {
      "text/plain": [
       "LogisticRegression()"
      ]
     },
     "execution_count": 4,
     "metadata": {},
     "output_type": "execute_result"
    }
   ],
   "source": [
    "from sklearn.linear_model import LogisticRegression\n",
    "clf = LogisticRegression()\n",
    "clf.fit(X_train, train_df['CATEGORY']) # ロジスティック回帰モデルの重みを学習"
   ]
  },
  {
   "cell_type": "markdown",
   "metadata": {},
   "source": [
    "# 53. 予測\n",
    "*52. で学習したロジスティック回帰モデルを用い，与えられた記事見出しからカテゴリとその予測確率を計算するプログラムを実装せよ．*\n",
    "\n",
    "【参考】\n",
    "【sklearn】TfidfVectorizerの使い方を丁寧に\n",
    "https://gotutiyan.hatenablog.com/entry/2020/09/10/181919#transform"
   ]
  },
  {
   "cell_type": "code",
   "execution_count": 5,
   "metadata": {},
   "outputs": [
    {
     "name": "stdout",
     "output_type": "stream",
     "text": [
      "与えられた記事見出し：SARAH VINE: ADHD and why we working mums need to look in the mirror\n",
      "[[0.13902383 0.51438985 0.15680073 0.1897856 ]]\n",
      "business: 0.13902382553375126\n",
      "entertainment: 0.5143898471862146\n",
      "health: 0.15680072633964356\n",
      "science and technology: 0.1897856009403905\n"
     ]
    }
   ],
   "source": [
    "dic = {'b':'business', 't':'science and technology', 'e' : 'entertainment', 'm' : 'health'}\n",
    "\n",
    "# 与えられた記事見出しからカテゴリとその予測確率を計算する関数\n",
    "def predict(text):\n",
    "    text = [text]\n",
    "    X = vectorizer.transform(text) # 文書をtf-idf行列に変換\n",
    "    \n",
    "    ls_proba = clf.predict_proba(X) # [データ数]行 × [次元数]列の特徴量行列 X を引数にして、各データがそれぞれのクラスに所属する確率を返す\n",
    "    print(ls_proba)\n",
    "    \n",
    "    for proba in ls_proba:\n",
    "        for c, p in zip(clf.classes_, proba):\n",
    "            print (dic[c]+':',p)\n",
    "            \n",
    "            \n",
    "s = train_df.iloc[0]['TITLE']\n",
    "print(\"与えられた記事見出し：\" + s)\n",
    "\n",
    "predict(s)"
   ]
  },
  {
   "cell_type": "markdown",
   "metadata": {},
   "source": [
    "# 54. 正解率の計測\n",
    "*52で学習したロジスティック回帰モデルの正解率を，学習データおよび評価データ上で計測せよ．*\n",
    "\n",
    "accuracy_scoreを使う。"
   ]
  },
  {
   "cell_type": "code",
   "execution_count": 6,
   "metadata": {},
   "outputs": [
    {
     "name": "stdout",
     "output_type": "stream",
     "text": [
      "0.9447151424287856\n",
      "0.8913043478260869\n"
     ]
    }
   ],
   "source": [
    "from sklearn.metrics import accuracy_score\n",
    "\n",
    "y_train_pred = clf.predict(X_train)\n",
    "y_test_pred = clf.predict(X_test)\n",
    "\n",
    "y_train = train_df['CATEGORY']\n",
    "y_test = test_df['CATEGORY']\n",
    "\n",
    "print (accuracy_score(y_train, y_train_pred))\n",
    "print (accuracy_score(y_test, y_test_pred))"
   ]
  }
 ],
 "metadata": {
  "kernelspec": {
   "display_name": "Python 3",
   "language": "python",
   "name": "python3"
  },
  "language_info": {
   "codemirror_mode": {
    "name": "ipython",
    "version": 3
   },
   "file_extension": ".py",
   "mimetype": "text/x-python",
   "name": "python",
   "nbconvert_exporter": "python",
   "pygments_lexer": "ipython3",
   "version": "3.8.5"
  }
 },
 "nbformat": 4,
 "nbformat_minor": 4
}
