{
 "cells": [
  {
   "cell_type": "markdown",
   "id": "c4968ddf",
   "metadata": {},
   "source": [
    "# 第6章: 機械学習"
   ]
  },
  {
   "cell_type": "markdown",
   "id": "c93e60a6",
   "metadata": {},
   "source": [
    "## 50. データの入手・整形"
   ]
  },
  {
   "cell_type": "markdown",
   "id": "8e0cd719",
   "metadata": {},
   "source": [
    "[News Aggregator Data Set](https://archive.ics.uci.edu/ml/datasets/News+Aggregator)をダウンロードし、以下の要領で学習データ（train.txt），検証データ（valid.txt），評価データ（test.txt）を作成せよ．\n",
    "\n",
    "1. ダウンロードしたzipファイルを解凍し，readme.txtの説明を読む．\n",
    "2. 情報源（publisher）が”Reuters”, “Huffington Post”, “Businessweek”, “Contactmusic.com”, “Daily Mail”の事例（記事）のみを抽出する．\n",
    "3. 抽出された事例をランダムに並び替える．\n",
    "4. 抽出された事例の80%を学習データ，残りの10%ずつを検証データと評価データに分割し，それぞれtrain.txt，valid.txt，test.txtというファイル名で保存する．ファイルには，１行に１事例を書き出すこととし，カテゴリ名と記事見出しのタブ区切り形式とせよ（このファイルは後に問題70で再利用する）．"
   ]
  },
  {
   "cell_type": "code",
   "execution_count": 1,
   "id": "1d2d02df",
   "metadata": {},
   "outputs": [],
   "source": [
    "import csv\n",
    "import numpy as np\n",
    "import pandas as pd\n",
    "from sklearn.model_selection import train_test_split"
   ]
  },
  {
   "cell_type": "code",
   "execution_count": 2,
   "id": "3328137a",
   "metadata": {},
   "outputs": [],
   "source": [
    "data = pd.read_csv(\"NewsAggregatorDataset/newsCorpora.csv\", header=None, sep=\"\\t\", names=[\"ID\", \"TITLE\", \"URL\", \"PUBLISHER\", \"CATEGORY\", \"STORY\", \"HOSTNAME\", \"TIMESTAMP\"])\n",
    "\n",
    "a = [\"Reuters\", \"Huffington Post\", \"Businessweek\", \"Contactmusic.com\", \"Daily Mail\"]\n",
    "b = data[data[\"PUBLISHER\"].isin(a)]\n",
    "c = b.loc[:, [\"CATEGORY\", \"TITLE\"]]\n",
    "\n",
    "train, valid_test = train_test_split(c, train_size=0.8, shuffle=True)\n",
    "valid, test = train_test_split(valid_test, train_size=0.5)\n",
    "\n",
    "train.to_csv(\"NewsAggregatorDataset/train.txt\", sep=\"\\t\", index=False)\n",
    "valid.to_csv(\"NewsAggregatorDataset/valid.txt\", sep=\"\\t\", index=False)\n",
    "test.to_csv(\"NewsAggregatorDataset/test.txt\", sep=\"\\t\", index=False)"
   ]
  },
  {
   "cell_type": "markdown",
   "id": "e39bb549",
   "metadata": {},
   "source": [
    "学習データと評価データを作成したら，各カテゴリの事例数を確認せよ"
   ]
  },
  {
   "cell_type": "code",
   "execution_count": 3,
   "id": "82775237",
   "metadata": {},
   "outputs": [
    {
     "name": "stdout",
     "output_type": "stream",
     "text": [
      "[train]\n",
      " b    4548\n",
      "e    4209\n",
      "t    1199\n",
      "m     716\n",
      "Name: CATEGORY, dtype: int64\n",
      "[test]\n",
      " b    542\n",
      "e    537\n",
      "t    155\n",
      "m    100\n",
      "Name: CATEGORY, dtype: int64\n"
     ]
    }
   ],
   "source": [
    "print(\"[train]\\n\", train[\"CATEGORY\"].value_counts())\n",
    "print(\"[test]\\n\", test[\"CATEGORY\"].value_counts())"
   ]
  },
  {
   "cell_type": "markdown",
   "id": "e003f0b4",
   "metadata": {},
   "source": [
    "## 51. 特徴量抽出"
   ]
  },
  {
   "cell_type": "markdown",
   "id": "e18b76ee",
   "metadata": {},
   "source": [
    "学習データ，検証データ，評価データから特徴量を抽出し，それぞれtrain.feature.txt，valid.feature.txt，test.feature.txtというファイル名で保存せよ． なお，カテゴリ分類に有用そうな特徴量は各自で自由に設計せよ．記事の見出しを単語列に変換したものが最低限のベースラインとなるであろう．"
   ]
  },
  {
   "cell_type": "code",
   "execution_count": 4,
   "id": "0ad3ce7e",
   "metadata": {},
   "outputs": [],
   "source": [
    "from sklearn.feature_extraction.text import CountVectorizer"
   ]
  },
  {
   "cell_type": "code",
   "execution_count": 5,
   "id": "2ea93994",
   "metadata": {},
   "outputs": [],
   "source": [
    "#単語の出現頻度を特徴量とする。\n",
    "\n",
    "txt_vec = CountVectorizer()\n",
    "\n",
    "#訓練データのみで計算したものをvalid, testに適応。単語は全て小文字に変換。\n",
    "train_feature = txt_vec.fit_transform(train[\"TITLE\"].str.lower())\n",
    "valid_feature = txt_vec.transform(valid[\"TITLE\"].str.lower())\n",
    "test_feature = txt_vec.transform(test[\"TITLE\"].str.lower())\n",
    "\n",
    "with open(\"NewsAggregatorDataset/train.feature.txt\", \"w\") as f:\n",
    "    for d in train_feature.toarray():\n",
    "        f.write(\"%s\\n\" % d)\n",
    "with open(\"NewsAggregatorDataset/valid.feature.txt\", \"w\") as f:\n",
    "    for d in valid_feature.toarray()[0]:\n",
    "        f.write(\"%s\\n\" % d)\n",
    "with open(\"NewsAggregatorDataset/test.feature.txt\", \"w\") as f:\n",
    "    for d in test_feature.toarray()[0]:\n",
    "        f.write(\"%s\\n\" % d)"
   ]
  },
  {
   "cell_type": "markdown",
   "id": "1b34c8ec",
   "metadata": {},
   "source": [
    "## 52.学習\n",
    "\n",
    "51で構築した学習データを用いて，ロジスティック回帰モデルを学習せよ．"
   ]
  },
  {
   "cell_type": "code",
   "execution_count": 6,
   "id": "175d3a71",
   "metadata": {},
   "outputs": [],
   "source": [
    "from sklearn.linear_model import LogisticRegression\n",
    "from sklearn.metrics import confusion_matrix"
   ]
  },
  {
   "cell_type": "code",
   "execution_count": 7,
   "id": "4dfb8edc",
   "metadata": {},
   "outputs": [
    {
     "data": {
      "text/plain": [
       "LogisticRegression(max_iter=200, random_state=42)"
      ]
     },
     "execution_count": 7,
     "metadata": {},
     "output_type": "execute_result"
    }
   ],
   "source": [
    "#デフォルトの最大反復回数100だと収束しなかったため200に指定しました。-> 100と精度は変わらない…？\n",
    "lr = LogisticRegression(random_state=42, max_iter=200) \n",
    "lr.fit(train_feature, train[\"CATEGORY\"])"
   ]
  },
  {
   "cell_type": "markdown",
   "id": "114206a8",
   "metadata": {},
   "source": [
    "## 53. 予測\n",
    "\n",
    "52で学習したロジスティック回帰モデルを用い，与えられた記事見出しからカテゴリとその予測確率を計算するプログラムを実装せよ．"
   ]
  },
  {
   "cell_type": "code",
   "execution_count": 8,
   "id": "13fa0c1e",
   "metadata": {},
   "outputs": [],
   "source": [
    "def predictor(model, test_data):\n",
    "    #return カテゴリ予測, 予測確率\n",
    "    return model.predict(test_data), model.predict_proba(test_data)"
   ]
  },
  {
   "cell_type": "markdown",
   "id": "9dea590b",
   "metadata": {},
   "source": [
    "## 54. 正解率の計測\n",
    "\n",
    "52で学習したロジスティック回帰モデルの正解率を，学習データおよび評価データ上で計測せよ"
   ]
  },
  {
   "cell_type": "code",
   "execution_count": 9,
   "id": "0ba5301f",
   "metadata": {},
   "outputs": [
    {
     "name": "stdout",
     "output_type": "stream",
     "text": [
      "Accuracy(train_data) :  0.996907796101949\n",
      "Accuracy(test_data) :  0.9070464767616192\n"
     ]
    }
   ],
   "source": [
    "train_pred, train_probs = predictor(lr, train_feature)\n",
    "test_pred, test_probs = predictor(lr, test_feature)\n",
    "\n",
    "def calc_accu(original, predict):\n",
    "    cm = confusion_matrix(original, predict)\n",
    "    accuracy = sum([cm[i][i] for i in range(len(cm))]) / sum(map(sum, cm))\n",
    "    return accuracy\n",
    "\n",
    "print(\"Accuracy(train_data) : \", calc_accu(train[\"CATEGORY\"], train_pred))\n",
    "print(\"Accuracy(test_data) : \", calc_accu(test[\"CATEGORY\"], test_pred))"
   ]
  },
  {
   "cell_type": "markdown",
   "id": "b3d51794",
   "metadata": {},
   "source": [
    "## 55. 混同行列の作成\n",
    "\n",
    "52で学習したロジスティック回帰モデルの混同行列（confusion matrix）を，学習データおよび評価データ上で作成せよ．"
   ]
  },
  {
   "cell_type": "markdown",
   "id": "5c9d3a57",
   "metadata": {},
   "source": [
    "学習データ(train)"
   ]
  },
  {
   "cell_type": "code",
   "execution_count": 10,
   "id": "3e9da72e",
   "metadata": {},
   "outputs": [
    {
     "data": {
      "text/html": [
       "<div>\n",
       "<style scoped>\n",
       "    .dataframe tbody tr th:only-of-type {\n",
       "        vertical-align: middle;\n",
       "    }\n",
       "\n",
       "    .dataframe tbody tr th {\n",
       "        vertical-align: top;\n",
       "    }\n",
       "\n",
       "    .dataframe thead th {\n",
       "        text-align: right;\n",
       "    }\n",
       "</style>\n",
       "<table border=\"1\" class=\"dataframe\">\n",
       "  <thead>\n",
       "    <tr style=\"text-align: right;\">\n",
       "      <th></th>\n",
       "      <th>Pred b</th>\n",
       "      <th>Pred e</th>\n",
       "      <th>Pred t</th>\n",
       "      <th>Pred m</th>\n",
       "    </tr>\n",
       "  </thead>\n",
       "  <tbody>\n",
       "    <tr>\n",
       "      <th>b</th>\n",
       "      <td>4541</td>\n",
       "      <td>4</td>\n",
       "      <td>0</td>\n",
       "      <td>3</td>\n",
       "    </tr>\n",
       "    <tr>\n",
       "      <th>e</th>\n",
       "      <td>6</td>\n",
       "      <td>4201</td>\n",
       "      <td>0</td>\n",
       "      <td>2</td>\n",
       "    </tr>\n",
       "    <tr>\n",
       "      <th>t</th>\n",
       "      <td>3</td>\n",
       "      <td>3</td>\n",
       "      <td>710</td>\n",
       "      <td>0</td>\n",
       "    </tr>\n",
       "    <tr>\n",
       "      <th>m</th>\n",
       "      <td>10</td>\n",
       "      <td>2</td>\n",
       "      <td>0</td>\n",
       "      <td>1187</td>\n",
       "    </tr>\n",
       "  </tbody>\n",
       "</table>\n",
       "</div>"
      ],
      "text/plain": [
       "   Pred b  Pred e  Pred t  Pred m\n",
       "b    4541       4       0       3\n",
       "e       6    4201       0       2\n",
       "t       3       3     710       0\n",
       "m      10       2       0    1187"
      ]
     },
     "execution_count": 10,
     "metadata": {},
     "output_type": "execute_result"
    }
   ],
   "source": [
    "cm = confusion_matrix(train[\"CATEGORY\"], train_pred)\n",
    "pd.DataFrame(cm,columns=[\"Pred b\", \"Pred e\", \"Pred t\", \"Pred m\"], index=[\"b\", \"e\", \"t\", \"m\"])"
   ]
  },
  {
   "cell_type": "markdown",
   "id": "26512cb6",
   "metadata": {},
   "source": [
    "評価データ(test)"
   ]
  },
  {
   "cell_type": "code",
   "execution_count": 11,
   "id": "fdc21645",
   "metadata": {},
   "outputs": [
    {
     "data": {
      "text/html": [
       "<div>\n",
       "<style scoped>\n",
       "    .dataframe tbody tr th:only-of-type {\n",
       "        vertical-align: middle;\n",
       "    }\n",
       "\n",
       "    .dataframe tbody tr th {\n",
       "        vertical-align: top;\n",
       "    }\n",
       "\n",
       "    .dataframe thead th {\n",
       "        text-align: right;\n",
       "    }\n",
       "</style>\n",
       "<table border=\"1\" class=\"dataframe\">\n",
       "  <thead>\n",
       "    <tr style=\"text-align: right;\">\n",
       "      <th></th>\n",
       "      <th>Pred b</th>\n",
       "      <th>Pred e</th>\n",
       "      <th>Pred t</th>\n",
       "      <th>Pred m</th>\n",
       "    </tr>\n",
       "  </thead>\n",
       "  <tbody>\n",
       "    <tr>\n",
       "      <th>b</th>\n",
       "      <td>510</td>\n",
       "      <td>9</td>\n",
       "      <td>0</td>\n",
       "      <td>23</td>\n",
       "    </tr>\n",
       "    <tr>\n",
       "      <th>e</th>\n",
       "      <td>7</td>\n",
       "      <td>529</td>\n",
       "      <td>0</td>\n",
       "      <td>1</td>\n",
       "    </tr>\n",
       "    <tr>\n",
       "      <th>t</th>\n",
       "      <td>17</td>\n",
       "      <td>12</td>\n",
       "      <td>66</td>\n",
       "      <td>5</td>\n",
       "    </tr>\n",
       "    <tr>\n",
       "      <th>m</th>\n",
       "      <td>33</td>\n",
       "      <td>15</td>\n",
       "      <td>2</td>\n",
       "      <td>105</td>\n",
       "    </tr>\n",
       "  </tbody>\n",
       "</table>\n",
       "</div>"
      ],
      "text/plain": [
       "   Pred b  Pred e  Pred t  Pred m\n",
       "b     510       9       0      23\n",
       "e       7     529       0       1\n",
       "t      17      12      66       5\n",
       "m      33      15       2     105"
      ]
     },
     "execution_count": 11,
     "metadata": {},
     "output_type": "execute_result"
    }
   ],
   "source": [
    "cm = confusion_matrix(test[\"CATEGORY\"], test_pred)\n",
    "pd.DataFrame(cm,columns=[\"Pred b\", \"Pred e\", \"Pred t\", \"Pred m\"], index=[\"b\", \"e\", \"t\", \"m\"])"
   ]
  },
  {
   "cell_type": "markdown",
   "id": "5eb54e0c",
   "metadata": {},
   "source": [
    "## 56. 適合率，再現率，F1スコアの計測\n",
    "\n",
    "52で学習したロジスティック回帰モデルの適合率，再現率，F1スコアを，評価データ上で計測せよ．カテゴリごとに適合率，再現率，F1スコアを求め，カテゴリごとの性能をマイクロ平均（micro-average）とマクロ平均（macro-average）で統合せよ．"
   ]
  },
  {
   "cell_type": "markdown",
   "id": "ac30aae2",
   "metadata": {},
   "source": [
    "## 57. 特徴量の重みの確認\n",
    "\n",
    "52で学習したロジスティック回帰モデルの中で，重みの高い特徴量トップ10と，重みの低い特徴量トップ10を確認せよ．"
   ]
  },
  {
   "cell_type": "markdown",
   "id": "ff1ae145",
   "metadata": {},
   "source": [
    "## 58. 正則化パラメータの変更\n",
    "\n",
    "ロジスティック回帰モデルを学習するとき，正則化パラメータを調整することで，学習時の過学習（overfitting）の度合いを制御できる．異なる正則化パラメータでロジスティック回帰モデルを学習し，学習データ，検証データ，および評価データ上の正解率を求めよ．実験の結果は，正則化パラメータを横軸，正解率を縦軸としたグラフにまとめよ．"
   ]
  },
  {
   "cell_type": "markdown",
   "id": "f46d385b",
   "metadata": {},
   "source": [
    "## 59. ハイパーパラメータの探索\n",
    "\n",
    "学習アルゴリズムや学習パラメータを変えながら，カテゴリ分類モデルを学習せよ．検証データ上の正解率が最も高くなる学習アルゴリズム・パラメータを求めよ．また，その学習アルゴリズム・パラメータを用いたときの評価データ上の正解率を求めよ．"
   ]
  }
 ],
 "metadata": {
  "kernelspec": {
   "display_name": "Python 3 (ipykernel)",
   "language": "python",
   "name": "python3"
  },
  "language_info": {
   "codemirror_mode": {
    "name": "ipython",
    "version": 3
   },
   "file_extension": ".py",
   "mimetype": "text/x-python",
   "name": "python",
   "nbconvert_exporter": "python",
   "pygments_lexer": "ipython3",
   "version": "3.9.12"
  }
 },
 "nbformat": 4,
 "nbformat_minor": 5
}
