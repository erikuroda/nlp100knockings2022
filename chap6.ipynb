{
 "cells": [
  {
   "cell_type": "markdown",
   "metadata": {},
   "source": [
    "# 第6章: 機械学習(50〜54)\n",
    "本章では，Fabio Gasparetti氏が公開しているNews Aggregator Data Setを用い，ニュース記事の見出しを「ビジネス」「科学技術」「エンターテイメント」「健康」のカテゴリに分類するタスク（カテゴリ分類）に取り組む．"
   ]
  },
  {
   "cell_type": "markdown",
   "metadata": {},
   "source": [
    "# 50.データの入手・整形\n",
    "*News Aggregator Data Setをダウンロードし、以下の要領で学習データ（train.txt），検証データ（valid.txt），評価データ（test.txt）を作成せよ．*\n",
    "\n",
    "1. ダウンロードしたzipファイルを解凍し，readme.txtの説明を読む．\n",
    "2. 情報源（publisher）が”Reuters”, “Huffington Post”, “Businessweek”, “Contactmusic.com”, “Daily Mail”の事例（記事）のみを抽出する．\n",
    "3. 抽出された事例をランダムに並び替える．\n",
    "4. 抽出された事例の80%を学習データ，残りの10%ずつを検証データと評価データに分割し，それぞれtrain.txt，valid.txt，test.txtというファイル名で保存する．ファイルには，１行に１事例を書き出すこととし，カテゴリ名と記事見出しのタブ区切り形式とせよ（このファイルは後に問題70で再利用する）．\n",
    "\n",
    "*学習データと評価データを作成したら，各カテゴリの事例数を確認せよ．*\n",
    "\n",
    "【参考】\n",
    "scikit-learnでデータを訓練用とテスト用に分割するtrain_test_split\n",
    "https://note.nkmk.me/python-sklearn-train-test-split/"
   ]
  },
  {
   "cell_type": "code",
   "execution_count": 1,
   "metadata": {},
   "outputs": [
    {
     "data": {
      "text/plain": [
       "b    5627\n",
       "e    5279\n",
       "t    1524\n",
       "m     910\n",
       "Name: CATEGORY, dtype: int64"
      ]
     },
     "execution_count": 1,
     "metadata": {},
     "output_type": "execute_result"
    }
   ],
   "source": [
    "import pandas as pd\n",
    "from sklearn.model_selection import train_test_split\n",
    "\n",
    "#    2. 事例抽出\n",
    "# readme.txtに従いヘッダーを追加する\n",
    "# read_csvの引数にnames＝['...', ...]\n",
    "news_corpora = pd.read_csv('NewsAggregatorDataset/newsCorpora.csv', delimiter='\\t', names = ['ID', 'TITLE', 'URL', 'PUBLISHER', 'CATEGORY', 'STORY', 'HOSTNAME', 'TIMESTAMP'])\n",
    "\n",
    "# 情報源（publisher）が”Reuters”, “Huffington Post”, “Businessweek”, “Contactmusic.com”, “Daily Mail”の事例（記事）のみを抽出する\n",
    "df = news_corpora[(news_corpora['PUBLISHER']=='Reuters') | (news_corpora['PUBLISHER']=='Huffington Post') | (news_corpora['PUBLISHER']=='Businessweek') | \\\n",
    "      (news_corpora['PUBLISHER']=='Contactmusic.com') | (news_corpora['PUBLISHER']=='Daily Mail')]\n",
    "\n",
    "#df = df.loc[df['PUBLISHER'].isin(['Reuters', 'Huffington Post', 'Businessweek', 'Contactmusic.com', 'Daily Mail']), ['TITLE', 'CATEGORY']]\n",
    "\n",
    "#    3. 並び替え\n",
    "df = df.sample(frac=1) # すべてをサンプリング\n",
    "\n",
    "#    4. 保存\n",
    "train_df, valid_test_df = train_test_split(df, test_size=0.2) # 8:2\n",
    "valid_df, test_df = train_test_split(valid_test_df, test_size=0.5) # 8:1:1\n",
    "train_df.to_csv('./NewsAggregatorDataset/train.txt', columns = ['CATEGORY','TITLE'], sep='\\t',header=False, index=False)\n",
    "valid_df.to_csv('./NewsAggregatorDataset/valid.txt', columns = ['CATEGORY','TITLE'], sep='\\t',header=False, index=False)\n",
    "test_df.to_csv('./NewsAggregatorDataset/test.txt', columns = ['CATEGORY','TITLE'], sep='\\t',header=False, index=False)\n",
    "\n",
    "#  事例数の確認\n",
    "df['CATEGORY'].value_counts()"
   ]
  },
  {
   "cell_type": "code",
   "execution_count": 2,
   "metadata": {},
   "outputs": [
    {
     "data": {
      "text/html": [
       "<div>\n",
       "<style scoped>\n",
       "    .dataframe tbody tr th:only-of-type {\n",
       "        vertical-align: middle;\n",
       "    }\n",
       "\n",
       "    .dataframe tbody tr th {\n",
       "        vertical-align: top;\n",
       "    }\n",
       "\n",
       "    .dataframe thead th {\n",
       "        text-align: right;\n",
       "    }\n",
       "</style>\n",
       "<table border=\"1\" class=\"dataframe\">\n",
       "  <thead>\n",
       "    <tr style=\"text-align: right;\">\n",
       "      <th></th>\n",
       "      <th>ID</th>\n",
       "      <th>TITLE</th>\n",
       "      <th>URL</th>\n",
       "      <th>PUBLISHER</th>\n",
       "      <th>CATEGORY</th>\n",
       "      <th>STORY</th>\n",
       "      <th>HOSTNAME</th>\n",
       "      <th>TIMESTAMP</th>\n",
       "    </tr>\n",
       "  </thead>\n",
       "  <tbody>\n",
       "    <tr>\n",
       "      <th>320193</th>\n",
       "      <td>320653</td>\n",
       "      <td>CORRECTED-UPDATE 2-Chicago selected for George...</td>\n",
       "      <td>http://in.reuters.com/article/2014/06/25/usa-l...</td>\n",
       "      <td>Reuters</td>\n",
       "      <td>e</td>\n",
       "      <td>dJ2RGmKzlpO1pdMag4rrtPMa7H5XM</td>\n",
       "      <td>in.reuters.com</td>\n",
       "      <td>1403801277200</td>\n",
       "    </tr>\n",
       "    <tr>\n",
       "      <th>388716</th>\n",
       "      <td>389176</td>\n",
       "      <td>Nominating Charlie Sheen For King Of The Drunk...</td>\n",
       "      <td>http://www.contactmusic.com/article/charlie-sh...</td>\n",
       "      <td>Contactmusic.com</td>\n",
       "      <td>e</td>\n",
       "      <td>dafAzhctSWlLL9MxlA9MoqeG9ZqqM</td>\n",
       "      <td>www.contactmusic.com</td>\n",
       "      <td>1405644457225</td>\n",
       "    </tr>\n",
       "    <tr>\n",
       "      <th>91400</th>\n",
       "      <td>91476</td>\n",
       "      <td>American Raises Miles Needed for Free Travel o...</td>\n",
       "      <td>http://www.businessweek.com/news/2014-04-08/am...</td>\n",
       "      <td>Businessweek</td>\n",
       "      <td>b</td>\n",
       "      <td>dvFJSn18_821CHMM_pccdlhH_GpmM</td>\n",
       "      <td>www.businessweek.com</td>\n",
       "      <td>1396988219289</td>\n",
       "    </tr>\n",
       "    <tr>\n",
       "      <th>352715</th>\n",
       "      <td>353175</td>\n",
       "      <td>Second largest American Apparel shareholder se...</td>\n",
       "      <td>http://in.reuters.com/article/2014/07/03/us-re...</td>\n",
       "      <td>Reuters</td>\n",
       "      <td>b</td>\n",
       "      <td>damxbLVSukS_0QMlsJC1pJndyIx0M</td>\n",
       "      <td>in.reuters.com</td>\n",
       "      <td>1404449407746</td>\n",
       "    </tr>\n",
       "    <tr>\n",
       "      <th>270258</th>\n",
       "      <td>270704</td>\n",
       "      <td>Has Angelina Jolie Actually Been In Any Good M...</td>\n",
       "      <td>http://www.huffingtonpost.com/2014/06/03/angel...</td>\n",
       "      <td>Huffington Post</td>\n",
       "      <td>e</td>\n",
       "      <td>d7SbUKanRaD34YMwE64lo09d_qCnM</td>\n",
       "      <td>www.huffingtonpost.com</td>\n",
       "      <td>1401828914030</td>\n",
       "    </tr>\n",
       "    <tr>\n",
       "      <th>...</th>\n",
       "      <td>...</td>\n",
       "      <td>...</td>\n",
       "      <td>...</td>\n",
       "      <td>...</td>\n",
       "      <td>...</td>\n",
       "      <td>...</td>\n",
       "      <td>...</td>\n",
       "      <td>...</td>\n",
       "    </tr>\n",
       "    <tr>\n",
       "      <th>280373</th>\n",
       "      <td>280833</td>\n",
       "      <td>Mila Kunis Sends Message To All Future Fathers...</td>\n",
       "      <td>http://www.contactmusic.com/article/mila-kunis...</td>\n",
       "      <td>Contactmusic.com</td>\n",
       "      <td>e</td>\n",
       "      <td>dQEXtwpswiNW-4MJkBLcTFNZCQ42M</td>\n",
       "      <td>www.contactmusic.com</td>\n",
       "      <td>1402685939490</td>\n",
       "    </tr>\n",
       "    <tr>\n",
       "      <th>187995</th>\n",
       "      <td>188331</td>\n",
       "      <td>You've Heard of Alibaba, but How Do You Use It?</td>\n",
       "      <td>http://www.businessweek.com/news/2014-05-07/yo...</td>\n",
       "      <td>Businessweek</td>\n",
       "      <td>b</td>\n",
       "      <td>dmiKSRWtLS-0oQMZgRdMabvm20GNM</td>\n",
       "      <td>www.businessweek.com</td>\n",
       "      <td>1399496054764</td>\n",
       "    </tr>\n",
       "    <tr>\n",
       "      <th>420584</th>\n",
       "      <td>421103</td>\n",
       "      <td>The Mystery Of Tony's Fate In 'The Sopranos' H...</td>\n",
       "      <td>http://www.huffingtonpost.com/2014/08/27/tony-...</td>\n",
       "      <td>Huffington Post</td>\n",
       "      <td>e</td>\n",
       "      <td>dBONje1PDQr12ZMfqA4sYTplZpX4M</td>\n",
       "      <td>www.huffingtonpost.com</td>\n",
       "      <td>1409218110023</td>\n",
       "    </tr>\n",
       "    <tr>\n",
       "      <th>184694</th>\n",
       "      <td>185030</td>\n",
       "      <td>Target Seen Pursuing First Outside CEO After S...</td>\n",
       "      <td>http://www.businessweek.com/news/2014-05-06/ta...</td>\n",
       "      <td>Businessweek</td>\n",
       "      <td>b</td>\n",
       "      <td>d6SV3rxtdrc8omMyjLRyN8ebNWosM</td>\n",
       "      <td>www.businessweek.com</td>\n",
       "      <td>1399436765284</td>\n",
       "    </tr>\n",
       "    <tr>\n",
       "      <th>97145</th>\n",
       "      <td>97339</td>\n",
       "      <td>How To Protect Yourself From This New Terrifyi...</td>\n",
       "      <td>http://www.huffingtonpost.com/2014/04/09/heart...</td>\n",
       "      <td>Huffington Post</td>\n",
       "      <td>t</td>\n",
       "      <td>d5fXZyeH4ILP99MeUxzALUok3QskM</td>\n",
       "      <td>www.huffingtonpost.com</td>\n",
       "      <td>1397231737289</td>\n",
       "    </tr>\n",
       "  </tbody>\n",
       "</table>\n",
       "<p>13340 rows × 8 columns</p>\n",
       "</div>"
      ],
      "text/plain": [
       "            ID                                              TITLE  \\\n",
       "320193  320653  CORRECTED-UPDATE 2-Chicago selected for George...   \n",
       "388716  389176  Nominating Charlie Sheen For King Of The Drunk...   \n",
       "91400    91476  American Raises Miles Needed for Free Travel o...   \n",
       "352715  353175  Second largest American Apparel shareholder se...   \n",
       "270258  270704  Has Angelina Jolie Actually Been In Any Good M...   \n",
       "...        ...                                                ...   \n",
       "280373  280833  Mila Kunis Sends Message To All Future Fathers...   \n",
       "187995  188331    You've Heard of Alibaba, but How Do You Use It?   \n",
       "420584  421103  The Mystery Of Tony's Fate In 'The Sopranos' H...   \n",
       "184694  185030  Target Seen Pursuing First Outside CEO After S...   \n",
       "97145    97339  How To Protect Yourself From This New Terrifyi...   \n",
       "\n",
       "                                                      URL         PUBLISHER  \\\n",
       "320193  http://in.reuters.com/article/2014/06/25/usa-l...           Reuters   \n",
       "388716  http://www.contactmusic.com/article/charlie-sh...  Contactmusic.com   \n",
       "91400   http://www.businessweek.com/news/2014-04-08/am...      Businessweek   \n",
       "352715  http://in.reuters.com/article/2014/07/03/us-re...           Reuters   \n",
       "270258  http://www.huffingtonpost.com/2014/06/03/angel...   Huffington Post   \n",
       "...                                                   ...               ...   \n",
       "280373  http://www.contactmusic.com/article/mila-kunis...  Contactmusic.com   \n",
       "187995  http://www.businessweek.com/news/2014-05-07/yo...      Businessweek   \n",
       "420584  http://www.huffingtonpost.com/2014/08/27/tony-...   Huffington Post   \n",
       "184694  http://www.businessweek.com/news/2014-05-06/ta...      Businessweek   \n",
       "97145   http://www.huffingtonpost.com/2014/04/09/heart...   Huffington Post   \n",
       "\n",
       "       CATEGORY                          STORY                HOSTNAME  \\\n",
       "320193        e  dJ2RGmKzlpO1pdMag4rrtPMa7H5XM          in.reuters.com   \n",
       "388716        e  dafAzhctSWlLL9MxlA9MoqeG9ZqqM    www.contactmusic.com   \n",
       "91400         b  dvFJSn18_821CHMM_pccdlhH_GpmM    www.businessweek.com   \n",
       "352715        b  damxbLVSukS_0QMlsJC1pJndyIx0M          in.reuters.com   \n",
       "270258        e  d7SbUKanRaD34YMwE64lo09d_qCnM  www.huffingtonpost.com   \n",
       "...         ...                            ...                     ...   \n",
       "280373        e  dQEXtwpswiNW-4MJkBLcTFNZCQ42M    www.contactmusic.com   \n",
       "187995        b  dmiKSRWtLS-0oQMZgRdMabvm20GNM    www.businessweek.com   \n",
       "420584        e  dBONje1PDQr12ZMfqA4sYTplZpX4M  www.huffingtonpost.com   \n",
       "184694        b  d6SV3rxtdrc8omMyjLRyN8ebNWosM    www.businessweek.com   \n",
       "97145         t  d5fXZyeH4ILP99MeUxzALUok3QskM  www.huffingtonpost.com   \n",
       "\n",
       "            TIMESTAMP  \n",
       "320193  1403801277200  \n",
       "388716  1405644457225  \n",
       "91400   1396988219289  \n",
       "352715  1404449407746  \n",
       "270258  1401828914030  \n",
       "...               ...  \n",
       "280373  1402685939490  \n",
       "187995  1399496054764  \n",
       "420584  1409218110023  \n",
       "184694  1399436765284  \n",
       "97145   1397231737289  \n",
       "\n",
       "[13340 rows x 8 columns]"
      ]
     },
     "execution_count": 2,
     "metadata": {},
     "output_type": "execute_result"
    }
   ],
   "source": [
    "df"
   ]
  },
  {
   "cell_type": "code",
   "execution_count": 3,
   "metadata": {},
   "outputs": [
    {
     "data": {
      "text/html": [
       "<div>\n",
       "<style scoped>\n",
       "    .dataframe tbody tr th:only-of-type {\n",
       "        vertical-align: middle;\n",
       "    }\n",
       "\n",
       "    .dataframe tbody tr th {\n",
       "        vertical-align: top;\n",
       "    }\n",
       "\n",
       "    .dataframe thead th {\n",
       "        text-align: right;\n",
       "    }\n",
       "</style>\n",
       "<table border=\"1\" class=\"dataframe\">\n",
       "  <thead>\n",
       "    <tr style=\"text-align: right;\">\n",
       "      <th></th>\n",
       "      <th>ID</th>\n",
       "      <th>TITLE</th>\n",
       "      <th>URL</th>\n",
       "      <th>PUBLISHER</th>\n",
       "      <th>CATEGORY</th>\n",
       "      <th>STORY</th>\n",
       "      <th>HOSTNAME</th>\n",
       "      <th>TIMESTAMP</th>\n",
       "    </tr>\n",
       "  </thead>\n",
       "  <tbody>\n",
       "    <tr>\n",
       "      <th>82273</th>\n",
       "      <td>82349</td>\n",
       "      <td>Miley Cyrus - Miley Cyrus 'miserable' after pe...</td>\n",
       "      <td>http://www.contactmusic.com/story/miley-cyrus-...</td>\n",
       "      <td>Contactmusic.com</td>\n",
       "      <td>e</td>\n",
       "      <td>dYlKmMVef8zRgSMP_5Kq95XL5WEFM</td>\n",
       "      <td>www.contactmusic.com</td>\n",
       "      <td>1396439854767</td>\n",
       "    </tr>\n",
       "    <tr>\n",
       "      <th>24905</th>\n",
       "      <td>24906</td>\n",
       "      <td>Hong Kong shares fall to 5-week low in cautiou...</td>\n",
       "      <td>http://in.reuters.com/article/2014/03/17/marke...</td>\n",
       "      <td>Reuters</td>\n",
       "      <td>b</td>\n",
       "      <td>dQ2G6f4gGoU3Q1MB68WoJ07wD5MiM</td>\n",
       "      <td>in.reuters.com</td>\n",
       "      <td>1395320043130</td>\n",
       "    </tr>\n",
       "    <tr>\n",
       "      <th>71185</th>\n",
       "      <td>71261</td>\n",
       "      <td>CORRECTED-Euro zone peripheral bond yields nea...</td>\n",
       "      <td>http://in.reuters.com/article/2014/03/31/marke...</td>\n",
       "      <td>Reuters</td>\n",
       "      <td>b</td>\n",
       "      <td>d4X9eAjxdXsfdZMCYElnANaPvMRNM</td>\n",
       "      <td>in.reuters.com</td>\n",
       "      <td>1396286304609</td>\n",
       "    </tr>\n",
       "    <tr>\n",
       "      <th>182584</th>\n",
       "      <td>182920</td>\n",
       "      <td>Jake Gyllenhaal escorts sister Maggie down the...</td>\n",
       "      <td>http://www.dailymail.co.uk/tvshowbiz/article-2...</td>\n",
       "      <td>Daily Mail</td>\n",
       "      <td>e</td>\n",
       "      <td>dbfJRt2YOiGnSoMC7S8yBd9gQohiM</td>\n",
       "      <td>www.dailymail.co.uk</td>\n",
       "      <td>1399382217432</td>\n",
       "    </tr>\n",
       "    <tr>\n",
       "      <th>275602</th>\n",
       "      <td>276048</td>\n",
       "      <td>FOREX- Euro pinned near four-month lows as ECB...</td>\n",
       "      <td>http://in.reuters.com/article/2014/06/04/marke...</td>\n",
       "      <td>Reuters</td>\n",
       "      <td>b</td>\n",
       "      <td>d84jnxHjQNm9acMpm2areNmDtrR_M</td>\n",
       "      <td>in.reuters.com</td>\n",
       "      <td>1401950103350</td>\n",
       "    </tr>\n",
       "    <tr>\n",
       "      <th>...</th>\n",
       "      <td>...</td>\n",
       "      <td>...</td>\n",
       "      <td>...</td>\n",
       "      <td>...</td>\n",
       "      <td>...</td>\n",
       "      <td>...</td>\n",
       "      <td>...</td>\n",
       "      <td>...</td>\n",
       "    </tr>\n",
       "    <tr>\n",
       "      <th>259056</th>\n",
       "      <td>259502</td>\n",
       "      <td>REFILE-Miners rally in favour of separatists i...</td>\n",
       "      <td>http://in.reuters.com/article/2014/05/28/ukrai...</td>\n",
       "      <td>Reuters</td>\n",
       "      <td>b</td>\n",
       "      <td>dCXZzr8rVI5aTGMgAB8jJXCTtcnGM</td>\n",
       "      <td>in.reuters.com</td>\n",
       "      <td>1401288139449</td>\n",
       "    </tr>\n",
       "    <tr>\n",
       "      <th>166364</th>\n",
       "      <td>166700</td>\n",
       "      <td>Siemens to Meet Hollande Before Deciding on Po...</td>\n",
       "      <td>http://www.businessweek.com/news/2014-04-28/si...</td>\n",
       "      <td>Businessweek</td>\n",
       "      <td>b</td>\n",
       "      <td>ddieo1I2wvePuIM-llBRDdtri4i3M</td>\n",
       "      <td>www.businessweek.com</td>\n",
       "      <td>1398776169961</td>\n",
       "    </tr>\n",
       "    <tr>\n",
       "      <th>180772</th>\n",
       "      <td>181108</td>\n",
       "      <td>Which Banks Are in Holder's Firing Line?</td>\n",
       "      <td>http://www.businessweek.com/news/2014-05-05/wh...</td>\n",
       "      <td>Businessweek</td>\n",
       "      <td>b</td>\n",
       "      <td>dbxD9l6w7F30pQMTrh9IBgagp-pnM</td>\n",
       "      <td>www.businessweek.com</td>\n",
       "      <td>1399373575544</td>\n",
       "    </tr>\n",
       "    <tr>\n",
       "      <th>120881</th>\n",
       "      <td>121217</td>\n",
       "      <td>UPDATE 2-Burberry revenue jumps, sees profits ...</td>\n",
       "      <td>http://in.reuters.com/article/2014/04/16/burbe...</td>\n",
       "      <td>Reuters</td>\n",
       "      <td>b</td>\n",
       "      <td>dkIyqm55wChqu_MOWhsv6pPnOdj_M</td>\n",
       "      <td>in.reuters.com</td>\n",
       "      <td>1397644992717</td>\n",
       "    </tr>\n",
       "    <tr>\n",
       "      <th>280697</th>\n",
       "      <td>281157</td>\n",
       "      <td>UPDATE 4-Stage, screen actress Ruby Dee dies a...</td>\n",
       "      <td>http://in.reuters.com/article/2014/06/12/peopl...</td>\n",
       "      <td>Reuters</td>\n",
       "      <td>e</td>\n",
       "      <td>duy-eYWM3GLFeSMMy0nIYRevb4tbM</td>\n",
       "      <td>in.reuters.com</td>\n",
       "      <td>1402688487994</td>\n",
       "    </tr>\n",
       "  </tbody>\n",
       "</table>\n",
       "<p>10672 rows × 8 columns</p>\n",
       "</div>"
      ],
      "text/plain": [
       "            ID                                              TITLE  \\\n",
       "82273    82349  Miley Cyrus - Miley Cyrus 'miserable' after pe...   \n",
       "24905    24906  Hong Kong shares fall to 5-week low in cautiou...   \n",
       "71185    71261  CORRECTED-Euro zone peripheral bond yields nea...   \n",
       "182584  182920  Jake Gyllenhaal escorts sister Maggie down the...   \n",
       "275602  276048  FOREX- Euro pinned near four-month lows as ECB...   \n",
       "...        ...                                                ...   \n",
       "259056  259502  REFILE-Miners rally in favour of separatists i...   \n",
       "166364  166700  Siemens to Meet Hollande Before Deciding on Po...   \n",
       "180772  181108           Which Banks Are in Holder's Firing Line?   \n",
       "120881  121217  UPDATE 2-Burberry revenue jumps, sees profits ...   \n",
       "280697  281157  UPDATE 4-Stage, screen actress Ruby Dee dies a...   \n",
       "\n",
       "                                                      URL         PUBLISHER  \\\n",
       "82273   http://www.contactmusic.com/story/miley-cyrus-...  Contactmusic.com   \n",
       "24905   http://in.reuters.com/article/2014/03/17/marke...           Reuters   \n",
       "71185   http://in.reuters.com/article/2014/03/31/marke...           Reuters   \n",
       "182584  http://www.dailymail.co.uk/tvshowbiz/article-2...        Daily Mail   \n",
       "275602  http://in.reuters.com/article/2014/06/04/marke...           Reuters   \n",
       "...                                                   ...               ...   \n",
       "259056  http://in.reuters.com/article/2014/05/28/ukrai...           Reuters   \n",
       "166364  http://www.businessweek.com/news/2014-04-28/si...      Businessweek   \n",
       "180772  http://www.businessweek.com/news/2014-05-05/wh...      Businessweek   \n",
       "120881  http://in.reuters.com/article/2014/04/16/burbe...           Reuters   \n",
       "280697  http://in.reuters.com/article/2014/06/12/peopl...           Reuters   \n",
       "\n",
       "       CATEGORY                          STORY              HOSTNAME  \\\n",
       "82273         e  dYlKmMVef8zRgSMP_5Kq95XL5WEFM  www.contactmusic.com   \n",
       "24905         b  dQ2G6f4gGoU3Q1MB68WoJ07wD5MiM        in.reuters.com   \n",
       "71185         b  d4X9eAjxdXsfdZMCYElnANaPvMRNM        in.reuters.com   \n",
       "182584        e  dbfJRt2YOiGnSoMC7S8yBd9gQohiM   www.dailymail.co.uk   \n",
       "275602        b  d84jnxHjQNm9acMpm2areNmDtrR_M        in.reuters.com   \n",
       "...         ...                            ...                   ...   \n",
       "259056        b  dCXZzr8rVI5aTGMgAB8jJXCTtcnGM        in.reuters.com   \n",
       "166364        b  ddieo1I2wvePuIM-llBRDdtri4i3M  www.businessweek.com   \n",
       "180772        b  dbxD9l6w7F30pQMTrh9IBgagp-pnM  www.businessweek.com   \n",
       "120881        b  dkIyqm55wChqu_MOWhsv6pPnOdj_M        in.reuters.com   \n",
       "280697        e  duy-eYWM3GLFeSMMy0nIYRevb4tbM        in.reuters.com   \n",
       "\n",
       "            TIMESTAMP  \n",
       "82273   1396439854767  \n",
       "24905   1395320043130  \n",
       "71185   1396286304609  \n",
       "182584  1399382217432  \n",
       "275602  1401950103350  \n",
       "...               ...  \n",
       "259056  1401288139449  \n",
       "166364  1398776169961  \n",
       "180772  1399373575544  \n",
       "120881  1397644992717  \n",
       "280697  1402688487994  \n",
       "\n",
       "[10672 rows x 8 columns]"
      ]
     },
     "execution_count": 3,
     "metadata": {},
     "output_type": "execute_result"
    }
   ],
   "source": [
    "train_df"
   ]
  },
  {
   "cell_type": "markdown",
   "metadata": {},
   "source": [
    "# 51.特徴量抽出\n",
    "*学習データ，検証データ，評価データから特徴量を抽出し，それぞれtrain.feature.txt，valid.feature.txt，test.feature.txtというファイル名で保存せよ． なお，カテゴリ分類に有用そうな特徴量は各自で自由に設計せよ．記事の見出しを単語列に変換したものが最低限のベースラインとなるであろう．*\n",
    "\n",
    "【参考】単語をカウントして特徴量とする https://qiita.com/fujin/items/b1a7152c2ec2b4963160\n",
    "\n",
    "scikit-learnのTfidfVectorizerを使う。単語の出現頻度とレア度を掛け合わせた手法。"
   ]
  },
  {
   "cell_type": "code",
   "execution_count": 4,
   "metadata": {},
   "outputs": [],
   "source": [
    "from sklearn.feature_extraction.text import TfidfVectorizer\n",
    "import numpy as np\n",
    "\n",
    "vectorizer = TfidfVectorizer()\n",
    "\n",
    "X_train = vectorizer.fit_transform(train_df['TITLE'])\n",
    "X_valid = vectorizer.transform(valid_df['TITLE'])\n",
    "X_test = vectorizer.transform(test_df['TITLE'])\n",
    "\n",
    "np.savetxt('./NewsAggregatorDataset/train.feature.txt', X_train.toarray(), fmt='%d') # 疎行列から密行列に変換\n",
    "np.savetxt('./NewsAggregatorDataset/valid.feature.txt', X_valid.toarray(), fmt='%d')\n",
    "np.savetxt('./NewsAggregatorDataset/test.feature.txt', X_test.toarray(), fmt='%d')"
   ]
  },
  {
   "cell_type": "markdown",
   "metadata": {},
   "source": [
    "# 52. 学習\n",
    "*51.で構築した学習データを用いて，ロジスティック回帰モデルを学習せよ．*\n",
    "\n",
    "【参考】\n",
    "Scikit-learn でロジスティック回帰（クラス分類編）\n",
    "https://qiita.com/0NE_shoT_/items/b702ab482466df6e5569"
   ]
  },
  {
   "cell_type": "code",
   "execution_count": 5,
   "metadata": {},
   "outputs": [
    {
     "name": "stderr",
     "output_type": "stream",
     "text": [
      "/Users/motekihina/opt/anaconda3/lib/python3.8/site-packages/sklearn/linear_model/_logistic.py:762: ConvergenceWarning: lbfgs failed to converge (status=1):\n",
      "STOP: TOTAL NO. of ITERATIONS REACHED LIMIT.\n",
      "\n",
      "Increase the number of iterations (max_iter) or scale the data as shown in:\n",
      "    https://scikit-learn.org/stable/modules/preprocessing.html\n",
      "Please also refer to the documentation for alternative solver options:\n",
      "    https://scikit-learn.org/stable/modules/linear_model.html#logistic-regression\n",
      "  n_iter_i = _check_optimize_result(\n"
     ]
    },
    {
     "data": {
      "text/plain": [
       "LogisticRegression()"
      ]
     },
     "execution_count": 5,
     "metadata": {},
     "output_type": "execute_result"
    }
   ],
   "source": [
    "from sklearn.linear_model import LogisticRegression\n",
    "clf = LogisticRegression()\n",
    "clf.fit(X_train, train_df['CATEGORY']) # ロジスティック回帰モデルの重みを学習"
   ]
  },
  {
   "cell_type": "markdown",
   "metadata": {},
   "source": [
    "# 53. 予測\n",
    "*52. で学習したロジスティック回帰モデルを用い，与えられた記事見出しからカテゴリとその予測確率を計算するプログラムを実装せよ．*\n",
    "\n",
    "【参考】\n",
    "【sklearn】TfidfVectorizerの使い方を丁寧に\n",
    "https://gotutiyan.hatenablog.com/entry/2020/09/10/181919#transform"
   ]
  },
  {
   "cell_type": "code",
   "execution_count": 6,
   "metadata": {},
   "outputs": [
    {
     "name": "stdout",
     "output_type": "stream",
     "text": [
      "business: 0.014658188186415165\n",
      "entertainment: 0.9681704326760875\n",
      "health: 0.009133376162124998\n",
      "science and technology: 0.008038002975372337\n",
      "予測されたカテゴリ： entertainment\n"
     ]
    }
   ],
   "source": [
    "ls_proba = clf.predict_proba(X_train)\n",
    "\n",
    "# ひとつだけ試しに表示\n",
    "dic = {'b':'business', 't':'science and technology', 'e' : 'entertainment', 'm' : 'health'}\n",
    "score = 0\n",
    "\n",
    "for c, p in zip(clf.classes_, ls_proba[0]):\n",
    "    print(dic[c]+':', p)\n",
    "    if p > score:\n",
    "        score = p\n",
    "        ctg = dic[c]\n",
    "print('予測されたカテゴリ：', ctg)"
   ]
  },
  {
   "cell_type": "code",
   "execution_count": 7,
   "metadata": {},
   "outputs": [
    {
     "name": "stdout",
     "output_type": "stream",
     "text": [
      "与えられた記事見出し：Miley Cyrus - Miley Cyrus 'miserable' after pet pooch Floyd's death\n",
      "[[0.01465819 0.96817043 0.00913338 0.008038  ]]\n",
      "business: 0.014658188186415165\n",
      "entertainment: 0.9681704326760875\n",
      "health: 0.009133376162124998\n",
      "science and technology: 0.008038002975372337\n"
     ]
    }
   ],
   "source": [
    "\n",
    "# 与えられた記事見出しからカテゴリとその予測確率を計算する関数\n",
    "def predict(text):\n",
    "    text = [text]\n",
    "    #  すでに上でやっていた↓\n",
    "    X = vectorizer.transform(text) # 文書をtf-idf行列に変換\n",
    "    \n",
    "    ls_proba = clf.predict_proba(X) # [データ数]行 × [次元数]列の特徴量行列 X を引数にして、各データがそれぞれのクラスに所属する確率を返す\n",
    "    print(ls_proba)\n",
    "    \n",
    "    for proba in ls_proba:\n",
    "        for c, p in zip(clf.classes_, proba):\n",
    "            print (dic[c]+':',p)\n",
    "            \n",
    "            \n",
    "s = train_df.iloc[0]['TITLE']\n",
    "print(\"与えられた記事見出し：\" + s)\n",
    "\n",
    "predict(s)"
   ]
  },
  {
   "cell_type": "markdown",
   "metadata": {},
   "source": [
    "# 54. 正解率の計測\n",
    "*52で学習したロジスティック回帰モデルの正解率を，学習データおよび評価データ上で計測せよ．*\n",
    "\n",
    "accuracy_scoreを使う。"
   ]
  },
  {
   "cell_type": "code",
   "execution_count": 8,
   "metadata": {},
   "outputs": [
    {
     "name": "stdout",
     "output_type": "stream",
     "text": [
      "0.9451836581709145\n",
      "0.9010494752623688\n"
     ]
    }
   ],
   "source": [
    "from sklearn.metrics import accuracy_score\n",
    "\n",
    "y_train_pred = clf.predict(X_train)\n",
    "y_test_pred = clf.predict(X_test)\n",
    "\n",
    "y_train = train_df['CATEGORY']\n",
    "y_test = test_df['CATEGORY']\n",
    "\n",
    "print (accuracy_score(y_train, y_train_pred))\n",
    "print (accuracy_score(y_test, y_test_pred))"
   ]
  },
  {
   "cell_type": "markdown",
   "metadata": {},
   "source": [
    "# 55. 混同行列の作成\n",
    "*52で学習したロジスティック回帰モデルの混同行列（confusion matrix）を，学習データおよび評価データ上で作成せよ．*\n",
    "\n",
    "**混同行列**は、各カテゴリを正しく予測できた数、どのカテゴリにどれくらい間違ったかを表す。"
   ]
  },
  {
   "cell_type": "code",
   "execution_count": 9,
   "metadata": {},
   "outputs": [
    {
     "name": "stdout",
     "output_type": "stream",
     "text": [
      "train data's confusion matrix = \n",
      " [[4407   52    4   32]\n",
      " [  15 4223    0    5]\n",
      " [  74  138  486    4]\n",
      " [ 147  112    2  971]]\n",
      "test data's confusion matrix = \n",
      " [[544  16   1   5]\n",
      " [ 10 511   2   0]\n",
      " [ 16  25  55   2]\n",
      " [ 30  24   1  92]]\n"
     ]
    }
   ],
   "source": [
    "from sklearn.metrics import confusion_matrix\n",
    "\n",
    "print('train data\\'s confusion matrix = \\n', confusion_matrix(y_true=y_train, y_pred=y_train_pred))\n",
    "print('test data\\'s confusion matrix = \\n', confusion_matrix(y_true=y_test, y_pred=y_test_pred))"
   ]
  },
  {
   "cell_type": "markdown",
   "metadata": {},
   "source": [
    "# 56. 適合率，再現率，F1スコアの計測\n",
    "*52で学習したロジスティック回帰モデルの適合率，再現率，F1スコアを，評価データ上で計測せよ．カテゴリごとに適合率，再現率，F1スコアを求め，カテゴリごとの性能をマイクロ平均（micro-average）とマクロ平均（macro-average）で統合せよ．*"
   ]
  },
  {
   "cell_type": "code",
   "execution_count": 10,
   "metadata": {},
   "outputs": [
    {
     "name": "stdout",
     "output_type": "stream",
     "text": [
      "カテゴリごとのの適合率，再現率，F1スコア：\n",
      "precision =  [0.90666667 0.92929293 0.88715278 0.93220339]\n",
      "recall =  [0.96113074 0.62585034 0.97705545 0.56122449]\n",
      "f1 score =  [0.93310463 0.74796748 0.92993631 0.70063694]\n",
      "マイクロ平均：\n",
      "precision =  0.9010494752623688\n",
      "recall =  0.9010494752623688\n",
      "f1 score =  0.9010494752623689\n",
      "マクロ平均：\n",
      "precision =  0.9138289408919704\n",
      "recall =  0.7813152553280566\n",
      "f1 score =  0.8279113398250696\n"
     ]
    }
   ],
   "source": [
    "from sklearn.metrics import precision_score, recall_score, f1_score\n",
    "\n",
    "print('カテゴリごとのの適合率，再現率，F1スコア：')\n",
    "print('precision = ', precision_score(y_true=y_test, y_pred=y_test_pred, average=None, labels=['b','t','e','m']))\n",
    "print('recall = ', recall_score(y_true=y_test, y_pred=y_test_pred, average=None, labels=['b','t','e','m']))\n",
    "print('f1 score = ', f1_score(y_true=y_test, y_pred=y_test_pred, average=None, labels=['b','t','e','m']))\n",
    "\n",
    "print('マイクロ平均：')\n",
    "print('precision = ', precision_score(y_true=y_test, y_pred=y_test_pred, average='micro', labels=['b','t','e','m']))\n",
    "print('recall = ', recall_score(y_true=y_test, y_pred=y_test_pred, average='micro', labels=['b','t','e','m']))\n",
    "print('f1 score = ', f1_score(y_true=y_test, y_pred=y_test_pred, average='micro', labels=['b','t','e','m']))\n",
    "\n",
    "print('マクロ平均：')\n",
    "print('precision = ', precision_score(y_true=y_test, y_pred=y_test_pred, average='macro', labels=['b','t','e','m']))\n",
    "print('recall = ', recall_score(y_true=y_test, y_pred=y_test_pred, average='macro', labels=['b','t','e','m']))\n",
    "print('f1 score = ', f1_score(y_true=y_test, y_pred=y_test_pred, average='macro', labels=['b','t','e','m']))"
   ]
  },
  {
   "cell_type": "markdown",
   "metadata": {},
   "source": [
    "# ！！！57. 特徴量の重みの確認\n",
    "\n",
    "*52で学習したロジスティック回帰モデルの中で，重みの高い特徴量トップ10と，重みの低い特徴量トップ10を確認せよ．*"
   ]
  },
  {
   "cell_type": "code",
   "execution_count": 11,
   "metadata": {},
   "outputs": [
    {
     "data": {
      "text/plain": [
       "array([[ 0.19880449,  0.07605111,  0.02193738, ..., -0.06438154,\n",
       "        -0.06022394, -0.011382  ],\n",
       "       [-0.13082422, -0.04775496, -0.01105011, ...,  0.11726373,\n",
       "         0.10600376,  0.03010256],\n",
       "       [-0.02853088, -0.01361847, -0.00491118, ..., -0.01904899,\n",
       "        -0.01935417, -0.00687228],\n",
       "       [-0.0394494 , -0.01467767, -0.0059761 , ..., -0.0338332 ,\n",
       "        -0.02642565, -0.01184828]])"
      ]
     },
     "execution_count": 11,
     "metadata": {},
     "output_type": "execute_result"
    }
   ],
   "source": [
    "clf.coef_"
   ]
  },
  {
   "cell_type": "code",
   "execution_count": 12,
   "metadata": {},
   "outputs": [
    {
     "data": {
      "text/plain": [
       "array(['b', 'e', 'm', 't'], dtype=object)"
      ]
     },
     "execution_count": 12,
     "metadata": {},
     "output_type": "execute_result"
    }
   ],
   "source": [
    "clf.classes_"
   ]
  },
  {
   "cell_type": "code",
   "execution_count": 13,
   "metadata": {},
   "outputs": [
    {
     "name": "stdout",
     "output_type": "stream",
     "text": [
      "business\n",
      "['fed' 'china' 'bank' 'stocks' 'ecb' 'euro' 'ukraine' 'update' 'oil'\n",
      " 'profit']\n",
      "['and' 'ebola' 'her' 'the' 'she' 'video' 'study' 'kardashian' 'google'\n",
      " 'star']\n",
      "entertainment\n",
      "['kardashian' 'chris' 'kim' 'miley' 'cyrus' 'she' 'star' 'her' 'film'\n",
      " 'movie']\n",
      "['update' 'us' 'google' 'china' 'says' 'facebook' 'ceo' 'gm' 'study'\n",
      " 'billion']\n",
      "health\n",
      "['ebola' 'study' 'cancer' 'fda' 'drug' 'mers' 'health' 'cdc' 'cases'\n",
      " 'outbreak']\n",
      "['facebook' 'gm' 'google' 'at' 'apple' 'deal' 'climate' 'ceo' 'china'\n",
      " 'twitter']\n",
      "science and technology\n",
      "['google' 'facebook' 'apple' 'microsoft' 'climate' 'gm' 'nasa' 'tesla'\n",
      " 'fcc' 'comcast']\n",
      "['stocks' 'her' 'fed' 'drug' 'cancer' 'american' 'ecb' 'kardashian'\n",
      " 'ukraine' 'ebola']\n"
     ]
    }
   ],
   "source": [
    "names = np.array(vectorizer.get_feature_names())\n",
    "labels=['b','t','e','m']\n",
    "for c, coef in zip(clf.classes_, clf.coef_):\n",
    "    idx = np.argsort(coef)[::-1]\n",
    "    print(dic[c])\n",
    "    print(names[idx][:10])\n",
    "    print(names[idx][-10:][::-1])"
   ]
  },
  {
   "cell_type": "markdown",
   "metadata": {},
   "source": [
    "# 58. 正則化パラメータの変更\n",
    "*ロジスティック回帰モデルを学習するとき，正則化パラメータを調整することで，学習時の過学習（overfitting）の度合いを制御できる．異なる正則化パラメータでロジスティック回帰モデルを学習し，学習データ，検証データ，および評価データ上の正解率を求めよ．実験の結果は，正則化パラメータを横軸，正解率を縦軸としたグラフにまとめよ．*"
   ]
  },
  {
   "cell_type": "markdown",
   "metadata": {},
   "source": [
    "正則化パラメータC"
   ]
  },
  {
   "cell_type": "code",
   "execution_count": 14,
   "metadata": {},
   "outputs": [
    {
     "name": "stderr",
     "output_type": "stream",
     "text": [
      "/Users/motekihina/opt/anaconda3/lib/python3.8/site-packages/sklearn/linear_model/_logistic.py:762: ConvergenceWarning: lbfgs failed to converge (status=1):\n",
      "STOP: TOTAL NO. of ITERATIONS REACHED LIMIT.\n",
      "\n",
      "Increase the number of iterations (max_iter) or scale the data as shown in:\n",
      "    https://scikit-learn.org/stable/modules/preprocessing.html\n",
      "Please also refer to the documentation for alternative solver options:\n",
      "    https://scikit-learn.org/stable/modules/linear_model.html#logistic-regression\n",
      "  n_iter_i = _check_optimize_result(\n",
      "/Users/motekihina/opt/anaconda3/lib/python3.8/site-packages/sklearn/linear_model/_logistic.py:762: ConvergenceWarning: lbfgs failed to converge (status=1):\n",
      "STOP: TOTAL NO. of ITERATIONS REACHED LIMIT.\n",
      "\n",
      "Increase the number of iterations (max_iter) or scale the data as shown in:\n",
      "    https://scikit-learn.org/stable/modules/preprocessing.html\n",
      "Please also refer to the documentation for alternative solver options:\n",
      "    https://scikit-learn.org/stable/modules/linear_model.html#logistic-regression\n",
      "  n_iter_i = _check_optimize_result(\n",
      "/Users/motekihina/opt/anaconda3/lib/python3.8/site-packages/sklearn/linear_model/_logistic.py:762: ConvergenceWarning: lbfgs failed to converge (status=1):\n",
      "STOP: TOTAL NO. of ITERATIONS REACHED LIMIT.\n",
      "\n",
      "Increase the number of iterations (max_iter) or scale the data as shown in:\n",
      "    https://scikit-learn.org/stable/modules/preprocessing.html\n",
      "Please also refer to the documentation for alternative solver options:\n",
      "    https://scikit-learn.org/stable/modules/linear_model.html#logistic-regression\n",
      "  n_iter_i = _check_optimize_result(\n",
      "/Users/motekihina/opt/anaconda3/lib/python3.8/site-packages/sklearn/linear_model/_logistic.py:762: ConvergenceWarning: lbfgs failed to converge (status=1):\n",
      "STOP: TOTAL NO. of ITERATIONS REACHED LIMIT.\n",
      "\n",
      "Increase the number of iterations (max_iter) or scale the data as shown in:\n",
      "    https://scikit-learn.org/stable/modules/preprocessing.html\n",
      "Please also refer to the documentation for alternative solver options:\n",
      "    https://scikit-learn.org/stable/modules/linear_model.html#logistic-regression\n",
      "  n_iter_i = _check_optimize_result(\n",
      "/Users/motekihina/opt/anaconda3/lib/python3.8/site-packages/sklearn/linear_model/_logistic.py:762: ConvergenceWarning: lbfgs failed to converge (status=1):\n",
      "STOP: TOTAL NO. of ITERATIONS REACHED LIMIT.\n",
      "\n",
      "Increase the number of iterations (max_iter) or scale the data as shown in:\n",
      "    https://scikit-learn.org/stable/modules/preprocessing.html\n",
      "Please also refer to the documentation for alternative solver options:\n",
      "    https://scikit-learn.org/stable/modules/linear_model.html#logistic-regression\n",
      "  n_iter_i = _check_optimize_result(\n"
     ]
    },
    {
     "data": {
      "text/plain": [
       "<matplotlib.legend.Legend at 0x7fb5600a3490>"
      ]
     },
     "execution_count": 14,
     "metadata": {},
     "output_type": "execute_result"
    },
    {
     "data": {
      "image/png": "[encoded data removed]",
      "text/plain": [
       "<Figure size 432x288 with 1 Axes>"
      ]
     },
     "metadata": {
      "needs_background": "light"
     },
     "output_type": "display_data"
    }
   ],
   "source": [
    "import matplotlib.pyplot as plt\n",
    "\n",
    "def calc_scores(c):\n",
    "    y_train = train_df['CATEGORY']\n",
    "    y_valid = valid_df['CATEGORY']\n",
    "    y_test = test_df['CATEGORY']\n",
    "    \n",
    "    clf = LogisticRegression(C=c)\n",
    "    clf.fit(X_train, y_train)\n",
    "    \n",
    "    y_train_pred = clf.predict(X_train)\n",
    "    y_valid_pred = clf.predict(X_valid)\n",
    "    y_test_pred = clf.predict(X_test)\n",
    "    \n",
    "    scores = []\n",
    "    scores.append(accuracy_score(y_train, y_train_pred))\n",
    "    scores.append(accuracy_score(y_valid, y_valid_pred))\n",
    "    scores.append(accuracy_score(y_test, y_test_pred))\n",
    "    \n",
    "    return scores\n",
    "\n",
    "\n",
    "C = np.logspace(-5, 4, 10, base=10)\n",
    "scores = []\n",
    "for c in C:\n",
    "    scores.append(calc_scores(c))\n",
    "    \n",
    "scores = np.array(scores).T\n",
    "labels = ['train', 'valid', 'test']\n",
    "\n",
    "for score, label in zip(scores, labels):\n",
    "    plt.plot(C, score, label=label)\n",
    "\n",
    "plt.ylim(0, 1.1)\n",
    "plt.xscale('log')\n",
    "plt.xlabel('C', fontsize=14)\n",
    "plt.ylabel('Accuracy', fontsize=14)\n",
    "plt.tick_params(labelsize=14)\n",
    "plt.grid(True)\n",
    "plt.legend()"
   ]
  },
  {
   "cell_type": "markdown",
   "metadata": {},
   "source": [
    "# 59. ハイパーパラメータの探索\n",
    "*学習アルゴリズムや学習パラメータを変えながら，カテゴリ分類モデルを学習せよ．検証データ上の正解率が最も高くなる学習アルゴリズム・パラメータを求めよ．また，その学習アルゴリズム・パラメータを用いたときの評価データ上の正解率を求めよ．*"
   ]
  },
  {
   "cell_type": "markdown",
   "metadata": {},
   "source": [
    "- 学習アルゴリズム(solver)\n",
    "    - newton-cg\n",
    "    - lbfgs\n",
    "    - liblinear\n",
    "    - sag\n",
    "    \n",
    "- 学習パラメータ"
   ]
  },
  {
   "cell_type": "code",
   "execution_count": 15,
   "metadata": {},
   "outputs": [
    {
     "name": "stdout",
     "output_type": "stream",
     "text": [
      "1e-05 newton-cg None\n",
      "1e-05 newton-cg balanced\n",
      "1e-05 lbfgs None\n",
      "1e-05 lbfgs balanced\n",
      "1e-05 liblinear None\n",
      "1e-05 liblinear balanced\n",
      "1e-05 sag None\n",
      "1e-05 sag balanced\n",
      "1e-05 saga None\n"
     ]
    },
    {
     "name": "stderr",
     "output_type": "stream",
     "text": [
      "/Users/motekihina/opt/anaconda3/lib/python3.8/site-packages/sklearn/linear_model/_sag.py:329: ConvergenceWarning: The max_iter was reached which means the coef_ did not converge\n",
      "  warnings.warn(\"The max_iter was reached which means \"\n"
     ]
    },
    {
     "name": "stdout",
     "output_type": "stream",
     "text": [
      "1e-05 saga balanced\n",
      "0.0001 newton-cg None\n",
      "0.0001 newton-cg balanced\n",
      "0.0001 lbfgs None\n",
      "0.0001 lbfgs balanced\n",
      "0.0001 liblinear None\n",
      "0.0001 liblinear balanced\n",
      "0.0001 sag None\n",
      "0.0001 sag balanced\n",
      "0.0001 saga None\n",
      "0.0001 saga balanced\n",
      "0.001 newton-cg None\n",
      "0.001 newton-cg balanced\n",
      "0.001 lbfgs None\n",
      "0.001 lbfgs balanced\n",
      "0.001 liblinear None\n",
      "0.001 liblinear balanced\n",
      "0.001 sag None\n",
      "0.001 sag balanced\n",
      "0.001 saga None\n",
      "0.001 saga balanced\n",
      "0.01 newton-cg None\n",
      "0.01 newton-cg balanced\n",
      "0.01 lbfgs None\n",
      "0.01 lbfgs balanced\n",
      "0.01 liblinear None\n",
      "0.01 liblinear balanced\n",
      "0.01 sag None\n",
      "0.01 sag balanced\n",
      "0.01 saga None\n",
      "0.01 saga balanced\n",
      "0.1 newton-cg None\n",
      "0.1 newton-cg balanced\n",
      "0.1 lbfgs None\n",
      "0.1 lbfgs balanced\n",
      "0.1 liblinear None\n",
      "0.1 liblinear balanced\n",
      "0.1 sag None\n",
      "0.1 sag balanced\n",
      "0.1 saga None\n",
      "0.1 saga balanced\n",
      "1.0 newton-cg None\n",
      "1.0 newton-cg balanced\n",
      "1.0 lbfgs None\n"
     ]
    },
    {
     "name": "stderr",
     "output_type": "stream",
     "text": [
      "/Users/motekihina/opt/anaconda3/lib/python3.8/site-packages/sklearn/linear_model/_logistic.py:762: ConvergenceWarning: lbfgs failed to converge (status=1):\n",
      "STOP: TOTAL NO. of ITERATIONS REACHED LIMIT.\n",
      "\n",
      "Increase the number of iterations (max_iter) or scale the data as shown in:\n",
      "    https://scikit-learn.org/stable/modules/preprocessing.html\n",
      "Please also refer to the documentation for alternative solver options:\n",
      "    https://scikit-learn.org/stable/modules/linear_model.html#logistic-regression\n",
      "  n_iter_i = _check_optimize_result(\n"
     ]
    },
    {
     "name": "stdout",
     "output_type": "stream",
     "text": [
      "1.0 lbfgs balanced\n"
     ]
    },
    {
     "name": "stderr",
     "output_type": "stream",
     "text": [
      "/Users/motekihina/opt/anaconda3/lib/python3.8/site-packages/sklearn/linear_model/_logistic.py:762: ConvergenceWarning: lbfgs failed to converge (status=1):\n",
      "STOP: TOTAL NO. of ITERATIONS REACHED LIMIT.\n",
      "\n",
      "Increase the number of iterations (max_iter) or scale the data as shown in:\n",
      "    https://scikit-learn.org/stable/modules/preprocessing.html\n",
      "Please also refer to the documentation for alternative solver options:\n",
      "    https://scikit-learn.org/stable/modules/linear_model.html#logistic-regression\n",
      "  n_iter_i = _check_optimize_result(\n"
     ]
    },
    {
     "name": "stdout",
     "output_type": "stream",
     "text": [
      "1.0 liblinear None\n",
      "1.0 liblinear balanced\n",
      "1.0 sag None\n",
      "1.0 sag balanced\n",
      "1.0 saga None\n",
      "1.0 saga balanced\n"
     ]
    },
    {
     "name": "stderr",
     "output_type": "stream",
     "text": [
      "/Users/motekihina/opt/anaconda3/lib/python3.8/site-packages/sklearn/linear_model/_sag.py:329: ConvergenceWarning: The max_iter was reached which means the coef_ did not converge\n",
      "  warnings.warn(\"The max_iter was reached which means \"\n"
     ]
    },
    {
     "name": "stdout",
     "output_type": "stream",
     "text": [
      "10.0 newton-cg None\n",
      "10.0 newton-cg balanced\n",
      "10.0 lbfgs None\n"
     ]
    },
    {
     "name": "stderr",
     "output_type": "stream",
     "text": [
      "/Users/motekihina/opt/anaconda3/lib/python3.8/site-packages/sklearn/linear_model/_logistic.py:762: ConvergenceWarning: lbfgs failed to converge (status=1):\n",
      "STOP: TOTAL NO. of ITERATIONS REACHED LIMIT.\n",
      "\n",
      "Increase the number of iterations (max_iter) or scale the data as shown in:\n",
      "    https://scikit-learn.org/stable/modules/preprocessing.html\n",
      "Please also refer to the documentation for alternative solver options:\n",
      "    https://scikit-learn.org/stable/modules/linear_model.html#logistic-regression\n",
      "  n_iter_i = _check_optimize_result(\n"
     ]
    },
    {
     "name": "stdout",
     "output_type": "stream",
     "text": [
      "10.0 lbfgs balanced\n"
     ]
    },
    {
     "name": "stderr",
     "output_type": "stream",
     "text": [
      "/Users/motekihina/opt/anaconda3/lib/python3.8/site-packages/sklearn/linear_model/_logistic.py:762: ConvergenceWarning: lbfgs failed to converge (status=1):\n",
      "STOP: TOTAL NO. of ITERATIONS REACHED LIMIT.\n",
      "\n",
      "Increase the number of iterations (max_iter) or scale the data as shown in:\n",
      "    https://scikit-learn.org/stable/modules/preprocessing.html\n",
      "Please also refer to the documentation for alternative solver options:\n",
      "    https://scikit-learn.org/stable/modules/linear_model.html#logistic-regression\n",
      "  n_iter_i = _check_optimize_result(\n"
     ]
    },
    {
     "name": "stdout",
     "output_type": "stream",
     "text": [
      "10.0 liblinear None\n",
      "10.0 liblinear balanced\n",
      "10.0 sag None\n",
      "10.0 sag balanced\n"
     ]
    },
    {
     "name": "stderr",
     "output_type": "stream",
     "text": [
      "/Users/motekihina/opt/anaconda3/lib/python3.8/site-packages/sklearn/linear_model/_sag.py:329: ConvergenceWarning: The max_iter was reached which means the coef_ did not converge\n",
      "  warnings.warn(\"The max_iter was reached which means \"\n"
     ]
    },
    {
     "name": "stdout",
     "output_type": "stream",
     "text": [
      "10.0 saga None\n",
      "10.0 saga balanced\n"
     ]
    },
    {
     "name": "stderr",
     "output_type": "stream",
     "text": [
      "/Users/motekihina/opt/anaconda3/lib/python3.8/site-packages/sklearn/linear_model/_sag.py:329: ConvergenceWarning: The max_iter was reached which means the coef_ did not converge\n",
      "  warnings.warn(\"The max_iter was reached which means \"\n"
     ]
    },
    {
     "name": "stdout",
     "output_type": "stream",
     "text": [
      "100.0 newton-cg None\n",
      "100.0 newton-cg balanced\n",
      "100.0 lbfgs None\n"
     ]
    },
    {
     "name": "stderr",
     "output_type": "stream",
     "text": [
      "/Users/motekihina/opt/anaconda3/lib/python3.8/site-packages/sklearn/linear_model/_logistic.py:762: ConvergenceWarning: lbfgs failed to converge (status=1):\n",
      "STOP: TOTAL NO. of ITERATIONS REACHED LIMIT.\n",
      "\n",
      "Increase the number of iterations (max_iter) or scale the data as shown in:\n",
      "    https://scikit-learn.org/stable/modules/preprocessing.html\n",
      "Please also refer to the documentation for alternative solver options:\n",
      "    https://scikit-learn.org/stable/modules/linear_model.html#logistic-regression\n",
      "  n_iter_i = _check_optimize_result(\n"
     ]
    },
    {
     "name": "stdout",
     "output_type": "stream",
     "text": [
      "100.0 lbfgs balanced\n"
     ]
    },
    {
     "name": "stderr",
     "output_type": "stream",
     "text": [
      "/Users/motekihina/opt/anaconda3/lib/python3.8/site-packages/sklearn/linear_model/_logistic.py:762: ConvergenceWarning: lbfgs failed to converge (status=1):\n",
      "STOP: TOTAL NO. of ITERATIONS REACHED LIMIT.\n",
      "\n",
      "Increase the number of iterations (max_iter) or scale the data as shown in:\n",
      "    https://scikit-learn.org/stable/modules/preprocessing.html\n",
      "Please also refer to the documentation for alternative solver options:\n",
      "    https://scikit-learn.org/stable/modules/linear_model.html#logistic-regression\n",
      "  n_iter_i = _check_optimize_result(\n"
     ]
    },
    {
     "name": "stdout",
     "output_type": "stream",
     "text": [
      "100.0 liblinear None\n",
      "100.0 liblinear balanced\n",
      "100.0 sag None\n"
     ]
    },
    {
     "name": "stderr",
     "output_type": "stream",
     "text": [
      "/Users/motekihina/opt/anaconda3/lib/python3.8/site-packages/sklearn/linear_model/_sag.py:329: ConvergenceWarning: The max_iter was reached which means the coef_ did not converge\n",
      "  warnings.warn(\"The max_iter was reached which means \"\n"
     ]
    },
    {
     "name": "stdout",
     "output_type": "stream",
     "text": [
      "100.0 sag balanced\n"
     ]
    },
    {
     "name": "stderr",
     "output_type": "stream",
     "text": [
      "/Users/motekihina/opt/anaconda3/lib/python3.8/site-packages/sklearn/linear_model/_sag.py:329: ConvergenceWarning: The max_iter was reached which means the coef_ did not converge\n",
      "  warnings.warn(\"The max_iter was reached which means \"\n"
     ]
    },
    {
     "name": "stdout",
     "output_type": "stream",
     "text": [
      "100.0 saga None\n"
     ]
    },
    {
     "name": "stderr",
     "output_type": "stream",
     "text": [
      "/Users/motekihina/opt/anaconda3/lib/python3.8/site-packages/sklearn/linear_model/_sag.py:329: ConvergenceWarning: The max_iter was reached which means the coef_ did not converge\n",
      "  warnings.warn(\"The max_iter was reached which means \"\n"
     ]
    },
    {
     "name": "stdout",
     "output_type": "stream",
     "text": [
      "100.0 saga balanced\n"
     ]
    },
    {
     "name": "stderr",
     "output_type": "stream",
     "text": [
      "/Users/motekihina/opt/anaconda3/lib/python3.8/site-packages/sklearn/linear_model/_sag.py:329: ConvergenceWarning: The max_iter was reached which means the coef_ did not converge\n",
      "  warnings.warn(\"The max_iter was reached which means \"\n"
     ]
    },
    {
     "name": "stdout",
     "output_type": "stream",
     "text": [
      "1000.0 newton-cg None\n",
      "1000.0 newton-cg balanced\n",
      "1000.0 lbfgs None\n"
     ]
    },
    {
     "name": "stderr",
     "output_type": "stream",
     "text": [
      "/Users/motekihina/opt/anaconda3/lib/python3.8/site-packages/sklearn/linear_model/_logistic.py:762: ConvergenceWarning: lbfgs failed to converge (status=1):\n",
      "STOP: TOTAL NO. of ITERATIONS REACHED LIMIT.\n",
      "\n",
      "Increase the number of iterations (max_iter) or scale the data as shown in:\n",
      "    https://scikit-learn.org/stable/modules/preprocessing.html\n",
      "Please also refer to the documentation for alternative solver options:\n",
      "    https://scikit-learn.org/stable/modules/linear_model.html#logistic-regression\n",
      "  n_iter_i = _check_optimize_result(\n"
     ]
    },
    {
     "name": "stdout",
     "output_type": "stream",
     "text": [
      "1000.0 lbfgs balanced\n"
     ]
    },
    {
     "name": "stderr",
     "output_type": "stream",
     "text": [
      "/Users/motekihina/opt/anaconda3/lib/python3.8/site-packages/sklearn/linear_model/_logistic.py:762: ConvergenceWarning: lbfgs failed to converge (status=1):\n",
      "STOP: TOTAL NO. of ITERATIONS REACHED LIMIT.\n",
      "\n",
      "Increase the number of iterations (max_iter) or scale the data as shown in:\n",
      "    https://scikit-learn.org/stable/modules/preprocessing.html\n",
      "Please also refer to the documentation for alternative solver options:\n",
      "    https://scikit-learn.org/stable/modules/linear_model.html#logistic-regression\n",
      "  n_iter_i = _check_optimize_result(\n"
     ]
    },
    {
     "name": "stdout",
     "output_type": "stream",
     "text": [
      "1000.0 liblinear None\n",
      "1000.0 liblinear balanced\n",
      "1000.0 sag None\n"
     ]
    },
    {
     "name": "stderr",
     "output_type": "stream",
     "text": [
      "/Users/motekihina/opt/anaconda3/lib/python3.8/site-packages/sklearn/linear_model/_sag.py:329: ConvergenceWarning: The max_iter was reached which means the coef_ did not converge\n",
      "  warnings.warn(\"The max_iter was reached which means \"\n"
     ]
    },
    {
     "name": "stdout",
     "output_type": "stream",
     "text": [
      "1000.0 sag balanced\n"
     ]
    },
    {
     "name": "stderr",
     "output_type": "stream",
     "text": [
      "/Users/motekihina/opt/anaconda3/lib/python3.8/site-packages/sklearn/linear_model/_sag.py:329: ConvergenceWarning: The max_iter was reached which means the coef_ did not converge\n",
      "  warnings.warn(\"The max_iter was reached which means \"\n"
     ]
    },
    {
     "name": "stdout",
     "output_type": "stream",
     "text": [
      "1000.0 saga None\n"
     ]
    },
    {
     "name": "stderr",
     "output_type": "stream",
     "text": [
      "/Users/motekihina/opt/anaconda3/lib/python3.8/site-packages/sklearn/linear_model/_sag.py:329: ConvergenceWarning: The max_iter was reached which means the coef_ did not converge\n",
      "  warnings.warn(\"The max_iter was reached which means \"\n"
     ]
    },
    {
     "name": "stdout",
     "output_type": "stream",
     "text": [
      "1000.0 saga balanced\n"
     ]
    },
    {
     "name": "stderr",
     "output_type": "stream",
     "text": [
      "/Users/motekihina/opt/anaconda3/lib/python3.8/site-packages/sklearn/linear_model/_sag.py:329: ConvergenceWarning: The max_iter was reached which means the coef_ did not converge\n",
      "  warnings.warn(\"The max_iter was reached which means \"\n"
     ]
    },
    {
     "name": "stdout",
     "output_type": "stream",
     "text": [
      "10000.0 newton-cg None\n",
      "10000.0 newton-cg balanced\n",
      "10000.0 lbfgs None\n"
     ]
    },
    {
     "name": "stderr",
     "output_type": "stream",
     "text": [
      "/Users/motekihina/opt/anaconda3/lib/python3.8/site-packages/sklearn/linear_model/_logistic.py:762: ConvergenceWarning: lbfgs failed to converge (status=1):\n",
      "STOP: TOTAL NO. of ITERATIONS REACHED LIMIT.\n",
      "\n",
      "Increase the number of iterations (max_iter) or scale the data as shown in:\n",
      "    https://scikit-learn.org/stable/modules/preprocessing.html\n",
      "Please also refer to the documentation for alternative solver options:\n",
      "    https://scikit-learn.org/stable/modules/linear_model.html#logistic-regression\n",
      "  n_iter_i = _check_optimize_result(\n"
     ]
    },
    {
     "name": "stdout",
     "output_type": "stream",
     "text": [
      "10000.0 lbfgs balanced\n"
     ]
    },
    {
     "name": "stderr",
     "output_type": "stream",
     "text": [
      "/Users/motekihina/opt/anaconda3/lib/python3.8/site-packages/sklearn/linear_model/_logistic.py:762: ConvergenceWarning: lbfgs failed to converge (status=1):\n",
      "STOP: TOTAL NO. of ITERATIONS REACHED LIMIT.\n",
      "\n",
      "Increase the number of iterations (max_iter) or scale the data as shown in:\n",
      "    https://scikit-learn.org/stable/modules/preprocessing.html\n",
      "Please also refer to the documentation for alternative solver options:\n",
      "    https://scikit-learn.org/stable/modules/linear_model.html#logistic-regression\n",
      "  n_iter_i = _check_optimize_result(\n"
     ]
    },
    {
     "name": "stdout",
     "output_type": "stream",
     "text": [
      "10000.0 liblinear None\n",
      "10000.0 liblinear balanced\n",
      "10000.0 sag None\n"
     ]
    },
    {
     "name": "stderr",
     "output_type": "stream",
     "text": [
      "/Users/motekihina/opt/anaconda3/lib/python3.8/site-packages/sklearn/linear_model/_sag.py:329: ConvergenceWarning: The max_iter was reached which means the coef_ did not converge\n",
      "  warnings.warn(\"The max_iter was reached which means \"\n"
     ]
    },
    {
     "name": "stdout",
     "output_type": "stream",
     "text": [
      "10000.0 sag balanced\n"
     ]
    },
    {
     "name": "stderr",
     "output_type": "stream",
     "text": [
      "/Users/motekihina/opt/anaconda3/lib/python3.8/site-packages/sklearn/linear_model/_sag.py:329: ConvergenceWarning: The max_iter was reached which means the coef_ did not converge\n",
      "  warnings.warn(\"The max_iter was reached which means \"\n"
     ]
    },
    {
     "name": "stdout",
     "output_type": "stream",
     "text": [
      "10000.0 saga None\n"
     ]
    },
    {
     "name": "stderr",
     "output_type": "stream",
     "text": [
      "/Users/motekihina/opt/anaconda3/lib/python3.8/site-packages/sklearn/linear_model/_sag.py:329: ConvergenceWarning: The max_iter was reached which means the coef_ did not converge\n",
      "  warnings.warn(\"The max_iter was reached which means \"\n"
     ]
    },
    {
     "name": "stdout",
     "output_type": "stream",
     "text": [
      "10000.0 saga balanced\n",
      "best patameter:  [100.0, 'liblinear', 'balanced']\n",
      "best scores:  [0.9990629685157422, 0.9325337331334332, 0.9250374812593704]\n",
      "test accuracy:  0.9250374812593704\n"
     ]
    },
    {
     "name": "stderr",
     "output_type": "stream",
     "text": [
      "/Users/motekihina/opt/anaconda3/lib/python3.8/site-packages/sklearn/linear_model/_sag.py:329: ConvergenceWarning: The max_iter was reached which means the coef_ did not converge\n",
      "  warnings.warn(\"The max_iter was reached which means \"\n"
     ]
    }
   ],
   "source": [
    "import itertools\n",
    "\n",
    "def calc_scores_2(C,solver,class_weight):\n",
    "    y_train = train_df['CATEGORY']\n",
    "    y_valid = valid_df['CATEGORY']\n",
    "    y_test = test_df['CATEGORY']\n",
    "    \n",
    "    clf = LogisticRegression(C=C, solver=solver, class_weight=class_weight)\n",
    "    clf.fit(X_train, y_train)\n",
    "\n",
    "    y_train_pred = clf.predict(X_train)\n",
    "    y_valid_pred = clf.predict(X_valid)\n",
    "    y_test_pred = clf.predict(X_test)\n",
    "    \n",
    "    scores = []\n",
    "    scores.append(accuracy_score(y_train, y_train_pred))\n",
    "    scores.append(accuracy_score(y_valid, y_valid_pred))\n",
    "    scores.append(accuracy_score(y_test, y_test_pred))\n",
    "    return scores\n",
    "\n",
    "C = np.logspace(-5, 4, 10, base=10)\n",
    "solver = ['newton-cg', 'lbfgs', 'liblinear', 'sag', 'saga']\n",
    "class_weight = [None, 'balanced']\n",
    "best_parameter = None\n",
    "best_scores = None\n",
    "max_valid_score = 0\n",
    "for c, s, w in itertools.product(C, solver, class_weight):\n",
    "    print(c, s, w)\n",
    "    scores = calc_scores_2(c, s, w)\n",
    "    #print (scores)\n",
    "    if scores[1] > max_valid_score:\n",
    "        max_valid_score = scores[1]\n",
    "        best_parameter = [c, s, w]\n",
    "        best_scores = scores\n",
    "print ('best patameter: ', best_parameter)\n",
    "print ('best scores: ', best_scores)\n",
    "print ('test accuracy: ', best_scores[2])"
   ]
  },
  {
   "cell_type": "code",
   "execution_count": null,
   "metadata": {},
   "outputs": [],
   "source": []
  }
 ],
 "metadata": {
  "kernelspec": {
   "display_name": "Python 3",
   "language": "python",
   "name": "python3"
  },
  "language_info": {
   "codemirror_mode": {
    "name": "ipython",
    "version": 3
   },
   "file_extension": ".py",
   "mimetype": "text/x-python",
   "name": "python",
   "nbconvert_exporter": "python",
   "pygments_lexer": "ipython3",
   "version": "3.8.5"
  }
 },
 "nbformat": 4,
 "nbformat_minor": 4
}
