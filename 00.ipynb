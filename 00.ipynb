{
  "nbformat": 4,
  "nbformat_minor": 0,
  "metadata": {
    "colab": {
      "name": "Untitled1.ipynb",
      "provenance": [],
      "authorship_tag": "ABX9TyMhymFY8jea3flm60j44YxX",
      "include_colab_link": true
    },
    "kernelspec": {
      "name": "python3",
      "display_name": "Python 3"
    },
    "language_info": {
      "name": "python"
    }
  },
  "cells": [
    {
      "cell_type": "markdown",
      "metadata": {
        "id": "view-in-github",
        "colab_type": "text"
      },
      "source": [
        "<a href=\"https://colab.research.google.com/github/erikuroda/nlp100knockings2022/blob/haruka/00.ipynb\" target=\"_parent\"><img src=\"https://colab.research.google.com/assets/colab-badge.svg\" alt=\"Open In Colab\"/></a>"
      ]
    },
    {
      "cell_type": "markdown",
      "source": [
        "# **第1章: 準備運動**"
      ],
      "metadata": {
        "id": "iKza6y1UEyyn"
      }
    },
    {
      "cell_type": "markdown",
      "source": [
        ""
      ],
      "metadata": {
        "id": "-FMN53ZfBwU4"
      }
    },
    {
      "cell_type": "markdown",
      "source": [
        "**00. 文字列の逆順Permalink**\n",
        "\n",
        "文字列”stressed”の文字を逆に（末尾から先頭に向かって）並べた文字列を得よ．\n"
      ],
      "metadata": {
        "id": "-9Y8djf3EwIL"
      }
    },
    {
      "cell_type": "code",
      "source": [
        "str1 = 'stressed'\n",
        "ans = str1[::-1]\n",
        "\n",
        "print(ans)"
      ],
      "metadata": {
        "colab": {
          "base_uri": "https://localhost:8080/"
        },
        "id": "ng5GHGWjE2sE",
        "outputId": "1c44a9fc-d9c4-42b2-af92-b51eb52e16bd"
      },
      "execution_count": 1,
      "outputs": [
        {
          "output_type": "stream",
          "name": "stdout",
          "text": [
            "desserts\n"
          ]
        }
      ]
    },
    {
      "cell_type": "markdown",
      "source": [
        "**01. 「パタトクカシーー」**\n",
        "\n",
        "「パタトクカシーー」という文字列の1,3,5,7文字目を取り出して連結した文字列を得よ．"
      ],
      "metadata": {
        "id": "03P3J6izF3H7"
      }
    },
    {
      "cell_type": "code",
      "source": [
        "str1 = 'パタトクカシーー'\n",
        "ans = str1[::2]\n",
        "\n",
        "print(ans)\n",
        "\n",
        "ans = str1[1::2]\n",
        "\n",
        "print(ans)"
      ],
      "metadata": {
        "colab": {
          "base_uri": "https://localhost:8080/"
        },
        "id": "_kGcTAI8F-BS",
        "outputId": "a0c82acb-8a53-42f0-a042-be444e9c68d9"
      },
      "execution_count": 2,
      "outputs": [
        {
          "output_type": "stream",
          "name": "stdout",
          "text": [
            "パトカー\n",
            "タクシー\n"
          ]
        }
      ]
    },
    {
      "cell_type": "markdown",
      "source": [
        "**02. 「パトカー」＋「タクシー」＝「パタトクカシーー」**\n",
        "\n",
        "「パトカー」＋「タクシー」の文字を先頭から交互に連結して文字列「パタトクカシーー」を得よ．\n"
      ],
      "metadata": {
        "id": "X19nabWlFKEV"
      }
    },
    {
      "cell_type": "code",
      "source": [
        "str1 = 'パトカー'\n",
        "str2 = 'タクシー'\n",
        "\n",
        "ans = ''.join([i + j for i, j in zip(str1,str2)])\n",
        "\n",
        "print(ans)\n",
        "\n",
        "#別解\n",
        "ans = ''\n",
        "\n",
        "for i, j in zip(str1,str2):\n",
        "  ans += (i + j)\n",
        "\n",
        "print(ans)"
      ],
      "metadata": {
        "colab": {
          "base_uri": "https://localhost:8080/"
        },
        "id": "YhvbFSIXHSVJ",
        "outputId": "1d5e7a14-ace8-44b6-9d5a-a344d55b810a"
      },
      "execution_count": 3,
      "outputs": [
        {
          "output_type": "stream",
          "name": "stdout",
          "text": [
            "パタトクカシーー\n",
            "パタトクカシーー\n"
          ]
        }
      ]
    },
    {
      "cell_type": "markdown",
      "source": [
        "**03. 円周率**\n",
        "\n",
        "“Now I need a drink, alcoholic of course, after the heavy lectures involving quantum mechanics.”という文を単語に分解し，各単語の（アルファベットの）文字数を先頭から出現順に並べたリストを作成せよ．"
      ],
      "metadata": {
        "id": "EvDzArBMGL9t"
      }
    },
    {
      "cell_type": "code",
      "source": [
        "import re\n",
        "\n",
        "str1 = 'Now I need a drink, alcoholic of course, after the heavy lectures involving quantum mechanics.'\n",
        "str1 = re.sub('[,/.]','',str1)\n",
        "#print(str1)\n",
        "splits = str1.split()\n",
        "ans = [len(i) for i in splits] \n",
        "\n",
        "print(ans)\n",
        "\n",
        "#別解\n",
        "str1 = 'Now I need a drink, alcoholic of course, after the heavy lectures involving quantum mechanics.'\n",
        "str1 = re.sub(',','',str1)\n",
        "str1 = re.sub('.','',str1)\n",
        "print(str1)\n",
        "splits = str1.split()\n",
        "\n",
        "for i in splits:\n",
        "  ans = len(i)\n",
        "\n",
        "print(ans)"
      ],
      "metadata": {
        "colab": {
          "base_uri": "https://localhost:8080/"
        },
        "id": "NTfAvquGHS1N",
        "outputId": "76432d15-ec77-4a4d-db8e-0e2e838ffecf"
      },
      "execution_count": 4,
      "outputs": [
        {
          "output_type": "stream",
          "name": "stdout",
          "text": [
            "[3, 1, 4, 1, 5, 9, 2, 6, 5, 3, 5, 8, 9, 7, 9]\n",
            "\n",
            "[3, 1, 4, 1, 5, 9, 2, 6, 5, 3, 5, 8, 9, 7, 9]\n"
          ]
        }
      ]
    },
    {
      "cell_type": "markdown",
      "source": [
        "**04. 元素記号**\n",
        "\n",
        "“Hi He Lied Because Boron Could Not Oxidize Fluorine. New Nations Might Also Sign Peace Security Clause. Arthur King Can.”という文を単語に分解し，1, 5, 6, 7, 8, 9, 15, 16, 19番目の単語は先頭の1文字，それ以外の単語は先頭の2文字を取り出し，取り出した文字列から単語の位置（先頭から何番目の単語か）への連想配列（辞書型もしくはマップ型）を作成せよ．"
      ],
      "metadata": {
        "id": "5se2e9y9GTrq"
      }
    },
    {
      "cell_type": "code",
      "source": [
        "str1='Hi He Lied Because Boron Could Not Oxidize Fluorine. New Nations Might Also Sign Peace Security Clause. Arthur King Can.'\n",
        "str1 = re.sub('[,/.]','',str1)\n",
        "#print(str1)\n",
        "splits = str1.split()\n",
        "\n",
        "one_initial=[1, 5, 6, 7, 8, 9, 15, 16, 19]\n",
        "\n",
        "element={}\n",
        "\n",
        "for num,word in enumerate(splits):\n",
        "  if num+1 in one_initial:\n",
        "    element[word[:1]] = num+1\n",
        "    #element[word[0:1]] = num+1でも可\n",
        "    #one_initialにあれば、1文字だけ追加\n",
        "\n",
        "  else:\n",
        "    element[word[:2]] = num+1\n",
        "  \n",
        "print(element)\n",
        " \n"
      ],
      "metadata": {
        "colab": {
          "base_uri": "https://localhost:8080/"
        },
        "id": "KK4SulbhHTWo",
        "outputId": "cd7b3d75-6c34-4581-943f-651ffc80aba2"
      },
      "execution_count": 5,
      "outputs": [
        {
          "output_type": "stream",
          "name": "stdout",
          "text": [
            "{'H': 1, 'He': 2, 'Li': 3, 'Be': 4, 'B': 5, 'C': 6, 'N': 7, 'O': 8, 'F': 9, 'Ne': 10, 'Na': 11, 'Mi': 12, 'Al': 13, 'Si': 14, 'P': 15, 'S': 16, 'Cl': 17, 'Ar': 18, 'K': 19, 'Ca': 20}\n"
          ]
        }
      ]
    },
    {
      "cell_type": "markdown",
      "source": [
        "**05. n-gram**\n",
        "\n",
        "与えられたシーケンス（文字列やリストなど）からn-gramを作る関数を作成せよ．この関数を用い，”I am an NLPer”という文から単語bi-gram，文字bi-gramを得よ．"
      ],
      "metadata": {
        "id": "IFQaCtsEGZdA"
      }
    },
    {
      "cell_type": "code",
      "source": [
        "def ngram(input,num):\n",
        "  lst=[]\n",
        "  for i in range(len(input) - num + 1):\n",
        "    lst.append(input[i:i+num])  \n",
        "  return(lst)\n",
        "\n",
        "str11='I am an NLPer'\n",
        "print(ngram(str1.split(),2))\n",
        "print(ngram(str1,2))\n"
      ],
      "metadata": {
        "colab": {
          "base_uri": "https://localhost:8080/"
        },
        "id": "XkWMSLPZHT-N",
        "outputId": "dbbf61e8-bb04-4a5b-adfe-d796bf518e3a"
      },
      "execution_count": 6,
      "outputs": [
        {
          "output_type": "stream",
          "name": "stdout",
          "text": [
            "[['Hi', 'He'], ['He', 'Lied'], ['Lied', 'Because'], ['Because', 'Boron'], ['Boron', 'Could'], ['Could', 'Not'], ['Not', 'Oxidize'], ['Oxidize', 'Fluorine'], ['Fluorine', 'New'], ['New', 'Nations'], ['Nations', 'Might'], ['Might', 'Also'], ['Also', 'Sign'], ['Sign', 'Peace'], ['Peace', 'Security'], ['Security', 'Clause'], ['Clause', 'Arthur'], ['Arthur', 'King'], ['King', 'Can']]\n",
            "['Hi', 'i ', ' H', 'He', 'e ', ' L', 'Li', 'ie', 'ed', 'd ', ' B', 'Be', 'ec', 'ca', 'au', 'us', 'se', 'e ', ' B', 'Bo', 'or', 'ro', 'on', 'n ', ' C', 'Co', 'ou', 'ul', 'ld', 'd ', ' N', 'No', 'ot', 't ', ' O', 'Ox', 'xi', 'id', 'di', 'iz', 'ze', 'e ', ' F', 'Fl', 'lu', 'uo', 'or', 'ri', 'in', 'ne', 'e ', ' N', 'Ne', 'ew', 'w ', ' N', 'Na', 'at', 'ti', 'io', 'on', 'ns', 's ', ' M', 'Mi', 'ig', 'gh', 'ht', 't ', ' A', 'Al', 'ls', 'so', 'o ', ' S', 'Si', 'ig', 'gn', 'n ', ' P', 'Pe', 'ea', 'ac', 'ce', 'e ', ' S', 'Se', 'ec', 'cu', 'ur', 'ri', 'it', 'ty', 'y ', ' C', 'Cl', 'la', 'au', 'us', 'se', 'e ', ' A', 'Ar', 'rt', 'th', 'hu', 'ur', 'r ', ' K', 'Ki', 'in', 'ng', 'g ', ' C', 'Ca', 'an']\n"
          ]
        }
      ]
    },
    {
      "cell_type": "markdown",
      "source": [
        "**06. 集合**\n",
        "\n",
        "“paraparaparadise”と”paragraph”に含まれる文字bi-gramの集合を，それぞれ, XとYとして求め，XとYの和集合，積集合，差集合を求めよ．さらに，’se’というbi-gramがXおよびYに含まれるかどうかを調べよ．"
      ],
      "metadata": {
        "id": "CCJk_SfMGstK"
      }
    },
    {
      "cell_type": "code",
      "source": [
        "def ngram(input,num):\n",
        "  lst=[]\n",
        "  for i in range(len(input) - num + 1):\n",
        "    lst.append(input[i:i+num])  \n",
        "  return(lst)\n",
        "\n",
        "str1='paraparaparadise'\n",
        "str2='paragraph'\n",
        "\n",
        "#set型に変換することで重複があれば削除＆集合として扱える\n",
        "X=set(ngram(str1,2))\n",
        "Y=set(ngram(str2,2))\n",
        "\n",
        "union= X | Y\n",
        "intersection= X & Y\n",
        "difference = X - Y\n",
        "\n",
        "print('X:', X)\n",
        "print('Y:', Y)\n",
        "print('和集合:', union)\n",
        "print('積集合:', intersection)\n",
        "print('差集合:', difference)\n",
        "print('Xにseが含まれるか:', {('se')} <= X)\n",
        "print('Yにseが含まれるか:', {('se')} <= Y)"
      ],
      "metadata": {
        "colab": {
          "base_uri": "https://localhost:8080/"
        },
        "id": "qNSIfIfPHUkN",
        "outputId": "611e9d3a-f030-4245-ece2-cc211c8a30ca"
      },
      "execution_count": 7,
      "outputs": [
        {
          "output_type": "stream",
          "name": "stdout",
          "text": [
            "X: {'ad', 'ra', 'se', 'ar', 'ap', 'pa', 'is', 'di'}\n",
            "Y: {'ra', 'gr', 'ar', 'ap', 'pa', 'ag', 'ph'}\n",
            "和集合: {'ad', 'ra', 'gr', 'se', 'ar', 'ap', 'ag', 'pa', 'is', 'ph', 'di'}\n",
            "積集合: {'ar', 'ra', 'pa', 'ap'}\n",
            "差集合: {'is', 'ad', 'di', 'se'}\n",
            "Xにseが含まれるか: True\n",
            "Yにseが含まれるか: False\n"
          ]
        }
      ]
    },
    {
      "cell_type": "markdown",
      "source": [
        "**07. テンプレートによる文生成**\n",
        "\n",
        "引数x, y, zを受け取り「x時のyはz」という文字列を返す関数を実装せよ．さらに，x=12, y=”気温”, z=22.4として，実行結果を確認せよ．"
      ],
      "metadata": {
        "id": "TuNlXLf3G5bE"
      }
    },
    {
      "cell_type": "code",
      "source": [
        "\n",
        "def temperature(x,y,z):\n",
        "  return (str(x) + '時の' + str(y) + 'は' + str(z) )\n",
        "\n",
        "x=12\n",
        "y='気温'\n",
        "z=22.4\n",
        "\n",
        "print(temperature(x,y,z))"
      ],
      "metadata": {
        "colab": {
          "base_uri": "https://localhost:8080/"
        },
        "id": "eXBB-VAOHVBa",
        "outputId": "9533094b-7fe5-47ff-cd90-016247d89f8c"
      },
      "execution_count": 8,
      "outputs": [
        {
          "output_type": "stream",
          "name": "stdout",
          "text": [
            "12時の気温は22.4\n"
          ]
        }
      ]
    },
    {
      "cell_type": "markdown",
      "source": [
        "**08. 暗号文**\n",
        "\n",
        "与えられた文字列の各文字を，以下の仕様で変換する関数cipherを実装せよ．\n",
        "\n",
        "英小文字ならば(219 - 文字コード)の文字に置換\n",
        "その他の文字はそのまま出力\n",
        "この関数を用い，英語のメッセージを暗号化・復号化せよ．"
      ],
      "metadata": {
        "id": "FbvjPTgnG_lr"
      }
    },
    {
      "cell_type": "code",
      "source": [
        "def cipher(input):\n",
        "  rep=[]\n",
        "  for s in input:\n",
        "    if 97 <= ord(s) <= 122:\n",
        "      s = chr(219-ord(s))\n",
        "    rep.append(s)\n",
        "  return ''.join(rep)\n",
        "\n",
        "str1='I am an NLPer'\n",
        "print(cipher(str1))\n",
        "print(cipher(cipher(str1)))\n"
      ],
      "metadata": {
        "id": "9tb0o2QoHVmO",
        "colab": {
          "base_uri": "https://localhost:8080/"
        },
        "outputId": "6a4cd3eb-cb5f-4307-b6e2-9745331ff3dd"
      },
      "execution_count": 9,
      "outputs": [
        {
          "output_type": "stream",
          "name": "stdout",
          "text": [
            "I zn zm NLPvi\n",
            "I am an NLPer\n"
          ]
        }
      ]
    },
    {
      "cell_type": "markdown",
      "source": [
        "**09. Typoglycemia**\n",
        "\n",
        "スペースで区切られた単語列に対して，各単語の先頭と末尾の文字は残し，それ以外の文字の順序をランダムに並び替えるプログラムを作成せよ．ただし，長さが４以下の単語は並び替えないこととする．適当な英語の文（例えば”I couldn’t believe that I could actually understand what I was reading : the phenomenal power of the human mind .”）を与え，その実行結果を確認せよ．"
      ],
      "metadata": {
        "id": "BHQ2ZTucHFVS"
      }
    },
    {
      "cell_type": "code",
      "source": [
        "import random\n",
        "\n",
        "def shuffle(input):\n",
        "  result=[]\n",
        "\n",
        "  for word in input.split():\n",
        "    if (len(word)>4):\n",
        "      word=word[0]+''.join(random.sample(word[1:-1], len(word) - 2))+word[-1]\n",
        "      result.append(word)\n",
        "    else:\n",
        "      result.append(word)\n",
        "  return ' '.join(result)\n",
        "\n",
        "\n",
        "str1='I couldn’t believe that I could actually understand what I was reading : the phenomenal power of the human mind .'\n",
        "ans = shuffle(str1)\n",
        "print(ans)\n",
        "\n"
      ],
      "metadata": {
        "id": "gGGFXCeGHWHZ",
        "colab": {
          "base_uri": "https://localhost:8080/"
        },
        "outputId": "c82d7593-78e2-487a-d64a-f3e3f3e80c9c"
      },
      "execution_count": 10,
      "outputs": [
        {
          "output_type": "stream",
          "name": "stdout",
          "text": [
            "I cdnu’olt bveliee that I culod atcually urdasetnnd what I was rndaieg : the pmheeanonl pweor of the huamn mind .\n"
          ]
        }
      ]
    }
  ]
}