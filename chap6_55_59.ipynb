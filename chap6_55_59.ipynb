{
 "cells": [
  {
   "cell_type": "markdown",
   "id": "b64c74d3",
   "metadata": {},
   "source": [
    "### 50. データの入手・整形\n",
    "News Aggregator Data Setをダウンロードし、以下の要領で学習データ（train.txt），検証データ（valid.txt），評価データ（test.txt）を作成せよ．\n",
    "\n",
    "1. ダウンロードしたzipファイルを解凍し，readme.txtの説明を読む．\n",
    "2. 情報源（publisher）が”Reuters”, “Huffington Post”, “Businessweek”, “Contactmusic.com”, “Daily Mail”の事例（記事）のみを抽出する．\n",
    "3. 抽出された事例をランダムに並び替える．\n",
    "4. 抽出された事例の80%を学習データ，残りの10%ずつを検証データと評価データに分割し，それぞれtrain.txt，valid.txt，test.txtというファイル名で保存する．ファイルには，１行に１事例を書き出すこととし，カテゴリ名と記事見出しのタブ区切り形式とせよ（このファイルは後に問題70で再利用する）．\n",
    "\n",
    "学習データと評価データを作成したら，各カテゴリの事例数を確認せよ"
   ]
  },
  {
   "cell_type": "code",
   "execution_count": 1,
   "id": "1c43811e",
   "metadata": {},
   "outputs": [],
   "source": [
    "import pandas as pd"
   ]
  },
  {
   "cell_type": "code",
   "execution_count": 2,
   "id": "e889ffea",
   "metadata": {},
   "outputs": [],
   "source": [
    "# データの分割\n",
    "from sklearn.model_selection import train_test_split"
   ]
  },
  {
   "cell_type": "code",
   "execution_count": 3,
   "id": "cf934985",
   "metadata": {},
   "outputs": [],
   "source": [
    "# データの読込\n",
    "# readme.txtに書いてあったフォーマット:ID \\t TITLE \\t URL \\t PUBLISHER \\t CATEGORY \\t STORY \\t HOSTNAME \\t TIMESTAMP\n",
    "df = pd.read_csv('./newsCorpora_re.csv', header=None, sep='\\t', names=['ID', 'TITLE', 'URL', 'PUBLISHER', 'CATEGORY', 'STORY', 'HOSTNAME', 'TIMESTAMP'])\n",
    "# pd.read_csv:csvファイルを読み込む　(読み込むファイル名,ヘッダ行の有無,区切るとこ,名前)"
   ]
  },
  {
   "cell_type": "code",
   "execution_count": 4,
   "id": "1d3852e1",
   "metadata": {},
   "outputs": [],
   "source": [
    "# データの抽出\n",
    "df = df.loc[df['PUBLISHER'].isin(['Reuters', 'Huffington Post', 'Businessweek', 'Contactmusic.com', 'Daily Mail']), ['TITLE', 'CATEGORY']]\n",
    "# loc:特定の値を含むデータを抽出する"
   ]
  },
  {
   "cell_type": "code",
   "execution_count": 5,
   "id": "77ec5bfa",
   "metadata": {},
   "outputs": [],
   "source": [
    "# データの分割\n",
    "train, valid_test = train_test_split(df, test_size=0.2, shuffle=True, random_state=123, stratify=df['CATEGORY'])\n",
    "# (入力データ, 入力データサンプルの割合（比率）を表す,シャッフル,中身を固定,分類の目的変数を指定し偏りが生じないようにする )\n",
    "valid, test = train_test_split(valid_test, test_size=0.5, shuffle=True, random_state=123, stratify=valid_test['CATEGORY'])\n"
   ]
  },
  {
   "cell_type": "code",
   "execution_count": 6,
   "id": "3a35b035",
   "metadata": {},
   "outputs": [],
   "source": [
    "# データの保存\n",
    "# タブくぎり\n",
    "train.to_csv('./train.txt', sep='\\t', index=False)\n",
    "valid.to_csv('./valid.txt', sep='\\t', index=False)\n",
    "test.to_csv('./test.txt', sep='\\t', index=False)"
   ]
  },
  {
   "cell_type": "code",
   "execution_count": 7,
   "id": "12b12369",
   "metadata": {},
   "outputs": [
    {
     "name": "stdout",
     "output_type": "stream",
     "text": [
      "【学習データ】\n",
      "b    4501\n",
      "e    4235\n",
      "t    1220\n",
      "m     728\n",
      "Name: CATEGORY, dtype: int64\n",
      "【検証データ】\n",
      "b    563\n",
      "e    529\n",
      "t    153\n",
      "m     91\n",
      "Name: CATEGORY, dtype: int64\n",
      "【評価データ】\n",
      "b    563\n",
      "e    530\n",
      "t    152\n",
      "m     91\n",
      "Name: CATEGORY, dtype: int64\n"
     ]
    }
   ],
   "source": [
    "# 事例数の確認\n",
    "print('【学習データ】')\n",
    "print(train['CATEGORY'].value_counts())\n",
    "print('【検証データ】')\n",
    "print(valid['CATEGORY'].value_counts())\n",
    "print('【評価データ】')\n",
    "print(test['CATEGORY'].value_counts())"
   ]
  },
  {
   "cell_type": "markdown",
   "id": "3f8fcf1a",
   "metadata": {},
   "source": [
    "### 51. 特徴量抽出\n",
    "学習データ，検証データ，評価データから特徴量を抽出し，それぞれtrain.feature.txt，valid.feature.txt，test.feature.txtというファイル名で保存せよ． なお，カテゴリ分類に有用そうな特徴量は各自で自由に設計せよ．記事の見出しを単語列に変換したものが最低限のベースラインとなるであろう．"
   ]
  },
  {
   "cell_type": "code",
   "execution_count": 8,
   "id": "e0f3ab9a",
   "metadata": {},
   "outputs": [],
   "source": [
    "# 特徴量はTF-IDFを用いる\n",
    "# TF-IDE:各文書中に含まれる各単語が「その文書内でどれくらい重要か」を表す尺度\n",
    "\n",
    "#テキストの前処理\n",
    "import string #文字列操作\n",
    "import re #正規表現操作\n",
    "\n",
    "def preprocessing(text):\n",
    "    table = str.maketrans(string.punctuation, ' '*len(string.punctuation))\n",
    "    text = text.translate(table)  # 記号をスペースに置換\n",
    "    text = text.lower()  # 小文字化\n",
    "    text = re.sub('[0-9]+', '0', text)  # 数字列を0に置換\n",
    "    return text"
   ]
  },
  {
   "cell_type": "code",
   "execution_count": 9,
   "id": "cee4e5fb",
   "metadata": {},
   "outputs": [
    {
     "name": "stdout",
     "output_type": "stream",
     "text": [
      "                                               TITLE CATEGORY\n",
      "0  refile update 0 european car sales up for sixt...        b\n",
      "1  amazon plans to fight ftc over mobile app purc...        t\n",
      "2  kids still get codeine in emergency rooms desp...        m\n",
      "3  what on earth happened between solange and jay...        e\n",
      "4  nato missile defense is flight tested over hawaii        b\n"
     ]
    }
   ],
   "source": [
    "# データの再結合\n",
    "df = pd.concat([train, valid, test], axis=0) # axis:縦横どちらで連結するか 0は縦\n",
    "df.reset_index(drop=True, inplace=True)  # indexを振りなおす\n",
    "# drop:元のindexを削除\n",
    "# inplace:元のオブジェクトを変更\n",
    "\n",
    "# 前処理の実施（見出し）\n",
    "df['TITLE'] = df['TITLE'].map(lambda x: preprocessing(x))\n",
    "# map(関数, シーケンス)\n",
    "\n",
    "print(df.head())"
   ]
  },
  {
   "cell_type": "code",
   "execution_count": 10,
   "id": "c0fb41a4",
   "metadata": {},
   "outputs": [
    {
     "name": "stdout",
     "output_type": "stream",
     "text": [
      "    0m  0million  0nd   0s  0st  0th  0th birthday   aa  aaliyah  abbvie  ...  \\\n",
      "0  0.0       0.0  0.0  0.0  0.0  0.0           0.0  0.0      0.0     0.0  ...   \n",
      "1  0.0       0.0  0.0  0.0  0.0  0.0           0.0  0.0      0.0     0.0  ...   \n",
      "2  0.0       0.0  0.0  0.0  0.0  0.0           0.0  0.0      0.0     0.0  ...   \n",
      "3  0.0       0.0  0.0  0.0  0.0  0.0           0.0  0.0      0.0     0.0  ...   \n",
      "4  0.0       0.0  0.0  0.0  0.0  0.0           0.0  0.0      0.0     0.0  ...   \n",
      "\n",
      "   young  your  your mother   yr  yr high  yuan  zac  zac efron  zendaya  zone  \n",
      "0    0.0   0.0          0.0  0.0      0.0   0.0  0.0        0.0      0.0   0.0  \n",
      "1    0.0   0.0          0.0  0.0      0.0   0.0  0.0        0.0      0.0   0.0  \n",
      "2    0.0   0.0          0.0  0.0      0.0   0.0  0.0        0.0      0.0   0.0  \n",
      "3    0.0   0.0          0.0  0.0      0.0   0.0  0.0        0.0      0.0   0.0  \n",
      "4    0.0   0.0          0.0  0.0      0.0   0.0  0.0        0.0      0.0   0.0  \n",
      "\n",
      "[5 rows x 2815 columns]\n"
     ]
    }
   ],
   "source": [
    "from sklearn.feature_extraction.text import TfidfVectorizer # TF-IDEのやつ\n",
    "\n",
    "# データの分割\n",
    "train_valid = df[:len(train) + len(valid)]\n",
    "test = df[len(train) + len(valid):]\n",
    "\n",
    "# TfidfVectorizer\n",
    "vec_tfidf = TfidfVectorizer(min_df=10, ngram_range=(1, 2))  # ngram_rangeでTF-IDFを計算する単語の長さを指定\n",
    "\n",
    "# ベクトル化\n",
    "X_train_valid = vec_tfidf.fit_transform(train_valid['TITLE'])  # testの情報は使わない\n",
    "X_test = vec_tfidf.transform(test['TITLE'])\n",
    "\n",
    "# ベクトルをデータフレームに変換\n",
    "X_train_valid = pd.DataFrame(X_train_valid.toarray(), columns=vec_tfidf.get_feature_names())\n",
    "X_test = pd.DataFrame(X_test.toarray(), columns=vec_tfidf.get_feature_names())\n",
    "\n",
    "# データの分割\n",
    "X_train = X_train_valid[:len(train)]\n",
    "X_valid = X_train_valid[len(train):]\n",
    "\n",
    "# データの保存\n",
    "X_train.to_csv('./X_train.txt', sep='\\t', index=False)\n",
    "X_valid.to_csv('./X_valid.txt', sep='\\t', index=False)\n",
    "X_test.to_csv('./X_test.txt', sep='\\t', index=False)\n",
    "\n",
    "print(X_train.head())\n"
   ]
  },
  {
   "cell_type": "markdown",
   "id": "1ea14f56",
   "metadata": {},
   "source": [
    "### 52. 学習\n",
    "51で構築した学習データを用いて，ロジスティック回帰モデルを学習せよ．"
   ]
  },
  {
   "cell_type": "code",
   "execution_count": 11,
   "id": "297b0099",
   "metadata": {},
   "outputs": [
    {
     "data": {
      "text/plain": [
       "LogisticRegression(max_iter=10000, random_state=123)"
      ]
     },
     "execution_count": 11,
     "metadata": {},
     "output_type": "execute_result"
    }
   ],
   "source": [
    "# ロジスティック回帰モデルのやつ\n",
    "from sklearn.linear_model import LogisticRegression\n",
    "\n",
    "# モデルの学習\n",
    "lg = LogisticRegression(random_state=123, max_iter=10000)\n",
    "lg.fit(X_train, train['CATEGORY']) # fitメソッド：ロジスティック回帰モデルの重みを学習"
   ]
  },
  {
   "cell_type": "markdown",
   "id": "75be1a8b",
   "metadata": {},
   "source": [
    "### 53. 予測\n",
    "52で学習したロジスティック回帰モデルを用い，与えられた記事見出しからカテゴリとその予測確率を計算するプログラムを実装せよ．"
   ]
  },
  {
   "cell_type": "code",
   "execution_count": 12,
   "id": "5fd1d0d8",
   "metadata": {},
   "outputs": [
    {
     "name": "stdout",
     "output_type": "stream",
     "text": [
      "[array([0.8402797 , 0.67904346, 0.55638924, ..., 0.86051034, 0.6135933 ,\n",
      "       0.90828244]), array(['b', 't', 'm', ..., 'b', 'm', 'e'], dtype=object)]\n"
     ]
    }
   ],
   "source": [
    "import numpy as np\n",
    "\n",
    "def score_lg(lg, X):\n",
    "    return [np.max(lg.predict_proba(X), axis=1), lg.predict(X)]\n",
    "\n",
    "train_pred = score_lg(lg, X_train)\n",
    "test_pred = score_lg(lg, X_test)\n",
    "\n",
    "print(train_pred)"
   ]
  },
  {
   "cell_type": "markdown",
   "id": "65e71ab1",
   "metadata": {},
   "source": [
    "### 54. 正解率の計測\n",
    "52で学習したロジスティック回帰モデルの正解率を，学習データおよび評価データ上で計測せよ．"
   ]
  },
  {
   "cell_type": "code",
   "execution_count": 13,
   "id": "b6104020",
   "metadata": {},
   "outputs": [
    {
     "name": "stdout",
     "output_type": "stream",
     "text": [
      "正解率（学習データ）：0.927\n",
      "正解率（評価データ）：0.885\n"
     ]
    }
   ],
   "source": [
    "from sklearn.metrics import accuracy_score\n",
    "\n",
    "train_accuracy = accuracy_score(train['CATEGORY'], train_pred[1])\n",
    "test_accuracy = accuracy_score(test['CATEGORY'], test_pred[1])\n",
    "print(f'正解率（学習データ）：{train_accuracy:.3f}')\n",
    "print(f'正解率（評価データ）：{test_accuracy:.3f}')"
   ]
  },
  {
   "cell_type": "markdown",
   "id": "82455280",
   "metadata": {},
   "source": [
    "### 55. 混同行列の作\n",
    "52で学習したロジスティック回帰モデルの混同行列（confusion matrix）を，学習データおよび評価データ上で作成せよ."
   ]
  },
  {
   "cell_type": "code",
   "execution_count": 14,
   "id": "a48067e9",
   "metadata": {},
   "outputs": [
    {
     "name": "stdout",
     "output_type": "stream",
     "text": [
      "[[4344   93    8   56]\n",
      " [  52 4173    2    8]\n",
      " [  96  125  494   13]\n",
      " [ 192  133    7  888]]\n"
     ]
    },
    {
     "data": {
      "image/png": "[encoded data removed]",
      "text/plain": [
       "<Figure size 432x288 with 2 Axes>"
      ]
     },
     "metadata": {
      "needs_background": "light"
     },
     "output_type": "display_data"
    }
   ],
   "source": [
    "from sklearn.metrics import confusion_matrix\n",
    "import seaborn as sns\n",
    "import matplotlib.pyplot as plt\n",
    "\n",
    "# 学習データ\n",
    "train_cm = confusion_matrix(train['CATEGORY'], train_pred[1])\n",
    "print(train_cm)\n",
    "sns.heatmap(train_cm, annot=True, cmap='Blues')\n",
    "plt.show()"
   ]
  },
  {
   "cell_type": "code",
   "execution_count": 15,
   "id": "35a1941f",
   "metadata": {},
   "outputs": [
    {
     "name": "stdout",
     "output_type": "stream",
     "text": [
      "[[528  20   2  13]\n",
      " [ 12 516   1   1]\n",
      " [ 11  26  52   2]\n",
      " [ 38  26   1  87]]\n"
     ]
    },
    {
     "data": {
      "image/png": "[encoded data removed]",
      "text/plain": [
       "<Figure size 432x288 with 2 Axes>"
      ]
     },
     "metadata": {
      "needs_background": "light"
     },
     "output_type": "display_data"
    }
   ],
   "source": [
    "# 評価データ\n",
    "test_cm = confusion_matrix(test['CATEGORY'], test_pred[1])\n",
    "print(test_cm)\n",
    "sns.heatmap(test_cm, annot=True, cmap='Blues')\n",
    "plt.show()"
   ]
  },
  {
   "cell_type": "markdown",
   "id": "8a316a5a",
   "metadata": {},
   "source": [
    "### 56. 適合率，再現率，F1スコアの計測\n",
    "52で学習したロジスティック回帰モデルの適合率，再現率，F1スコアを，評価データ上で計測せよ．カテゴリごとに適合率，再現率，F1スコアを求め，カテゴリごとの性能をマイクロ平均（micro-average）とマクロ平均（macro-average）で統合せよ．"
   ]
  },
  {
   "cell_type": "code",
   "execution_count": 16,
   "id": "97c27d44",
   "metadata": {},
   "outputs": [],
   "source": [
    "from sklearn.metrics import precision_score, recall_score, f1_score\n",
    "\n",
    "def calculate_scores(y_true, y_pred):\n",
    "  # 適合率\n",
    "    precision = precision_score(test['CATEGORY'], test_pred[1], average=None, labels=['b', 'e', 't', 'm'])  # Noneを指定するとクラスごとの精度をndarrayで返す\n",
    "    precision = np.append(precision, precision_score(y_true, y_pred, average='micro'))  # 末尾にマイクロ平均を追加\n",
    "    precision = np.append(precision, precision_score(y_true, y_pred, average='macro'))  # 末尾にマクロ平均を追加\n",
    "\n",
    "    # 再現率\n",
    "    recall = recall_score(test['CATEGORY'], test_pred[1], average=None, labels=['b', 'e', 't', 'm'])\n",
    "    recall = np.append(recall, recall_score(y_true, y_pred, average='micro'))\n",
    "    recall = np.append(recall, recall_score(y_true, y_pred, average='macro'))\n",
    "\n",
    "    # F1スコア\n",
    "    f1 = f1_score(test['CATEGORY'], test_pred[1], average=None, labels=['b', 'e', 't', 'm'])\n",
    "    f1 = np.append(f1, f1_score(y_true, y_pred, average='micro'))\n",
    "    f1 = np.append(f1, f1_score(y_true, y_pred, average='macro'))\n",
    "\n",
    "    # 結果を結合してデータフレーム化\n",
    "    scores = pd.DataFrame({'適合率': precision, '再現率': recall, 'F1スコア': f1},\n",
    "                        index=['b', 'e', 't', 'm', 'マイクロ平均', 'マクロ平均'])\n",
    "\n",
    "    return scores"
   ]
  },
  {
   "cell_type": "code",
   "execution_count": 17,
   "id": "12e4cccc",
   "metadata": {},
   "outputs": [
    {
     "name": "stdout",
     "output_type": "stream",
     "text": [
      "             適合率       再現率     F1スコア\n",
      "b       0.896435  0.937833  0.916667\n",
      "e       0.877551  0.973585  0.923077\n",
      "t       0.844660  0.572368  0.682353\n",
      "m       0.928571  0.571429  0.707483\n",
      "マイクロ平均  0.885479  0.885479  0.885479\n",
      "マクロ平均   0.886804  0.763804  0.807395\n"
     ]
    }
   ],
   "source": [
    "print(calculate_scores(test['CATEGORY'], test_pred[1]))"
   ]
  },
  {
   "cell_type": "markdown",
   "id": "aa92a815",
   "metadata": {},
   "source": [
    "### 57. 特徴量の重みの確認\n",
    "52で学習したロジスティック回帰モデルの中で，重みの高い特徴量トップ10と，重みの低い特徴量トップ10を確認せよ"
   ]
  },
  {
   "cell_type": "code",
   "execution_count": 18,
   "id": "7bd612e6",
   "metadata": {},
   "outputs": [
    {
     "name": "stdout",
     "output_type": "stream",
     "text": [
      "【カテゴリ】b\n"
     ]
    },
    {
     "data": {
      "text/html": [
       "<div>\n",
       "<style scoped>\n",
       "    .dataframe tbody tr th:only-of-type {\n",
       "        vertical-align: middle;\n",
       "    }\n",
       "\n",
       "    .dataframe tbody tr th {\n",
       "        vertical-align: top;\n",
       "    }\n",
       "\n",
       "    .dataframe thead th {\n",
       "        text-align: right;\n",
       "    }\n",
       "</style>\n",
       "<table border=\"1\" class=\"dataframe\">\n",
       "  <thead>\n",
       "    <tr style=\"text-align: right;\">\n",
       "      <th></th>\n",
       "      <th>1</th>\n",
       "      <th>2</th>\n",
       "      <th>3</th>\n",
       "      <th>4</th>\n",
       "      <th>5</th>\n",
       "      <th>6</th>\n",
       "      <th>7</th>\n",
       "      <th>8</th>\n",
       "      <th>9</th>\n",
       "      <th>10</th>\n",
       "    </tr>\n",
       "  </thead>\n",
       "  <tbody>\n",
       "    <tr>\n",
       "      <th>重要度上位</th>\n",
       "      <td>bank</td>\n",
       "      <td>fed</td>\n",
       "      <td>china</td>\n",
       "      <td>ecb</td>\n",
       "      <td>stocks</td>\n",
       "      <td>euro</td>\n",
       "      <td>obamacare</td>\n",
       "      <td>oil</td>\n",
       "      <td>yellen</td>\n",
       "      <td>dollar</td>\n",
       "    </tr>\n",
       "    <tr>\n",
       "      <th>重要度下位</th>\n",
       "      <td>video</td>\n",
       "      <td>ebola</td>\n",
       "      <td>the</td>\n",
       "      <td>her</td>\n",
       "      <td>and</td>\n",
       "      <td>she</td>\n",
       "      <td>apple</td>\n",
       "      <td>google</td>\n",
       "      <td>star</td>\n",
       "      <td>microsoft</td>\n",
       "    </tr>\n",
       "  </tbody>\n",
       "</table>\n",
       "</div>"
      ],
      "text/plain": [
       "          1      2      3    4       5     6          7       8       9   \\\n",
       "重要度上位   bank    fed  china  ecb  stocks  euro  obamacare     oil  yellen   \n",
       "重要度下位  video  ebola    the  her     and   she      apple  google    star   \n",
       "\n",
       "              10  \n",
       "重要度上位     dollar  \n",
       "重要度下位  microsoft  "
      ]
     },
     "metadata": {},
     "output_type": "display_data"
    },
    {
     "name": "stdout",
     "output_type": "stream",
     "text": [
      "\n",
      "\n",
      "【カテゴリ】e\n"
     ]
    },
    {
     "data": {
      "text/html": [
       "<div>\n",
       "<style scoped>\n",
       "    .dataframe tbody tr th:only-of-type {\n",
       "        vertical-align: middle;\n",
       "    }\n",
       "\n",
       "    .dataframe tbody tr th {\n",
       "        vertical-align: top;\n",
       "    }\n",
       "\n",
       "    .dataframe thead th {\n",
       "        text-align: right;\n",
       "    }\n",
       "</style>\n",
       "<table border=\"1\" class=\"dataframe\">\n",
       "  <thead>\n",
       "    <tr style=\"text-align: right;\">\n",
       "      <th></th>\n",
       "      <th>1</th>\n",
       "      <th>2</th>\n",
       "      <th>3</th>\n",
       "      <th>4</th>\n",
       "      <th>5</th>\n",
       "      <th>6</th>\n",
       "      <th>7</th>\n",
       "      <th>8</th>\n",
       "      <th>9</th>\n",
       "      <th>10</th>\n",
       "    </tr>\n",
       "  </thead>\n",
       "  <tbody>\n",
       "    <tr>\n",
       "      <th>重要度上位</th>\n",
       "      <td>kardashian</td>\n",
       "      <td>chris</td>\n",
       "      <td>her</td>\n",
       "      <td>movie</td>\n",
       "      <td>star</td>\n",
       "      <td>film</td>\n",
       "      <td>paul</td>\n",
       "      <td>he</td>\n",
       "      <td>wedding</td>\n",
       "      <td>she</td>\n",
       "    </tr>\n",
       "    <tr>\n",
       "      <th>重要度下位</th>\n",
       "      <td>us</td>\n",
       "      <td>update</td>\n",
       "      <td>google</td>\n",
       "      <td>study</td>\n",
       "      <td>china</td>\n",
       "      <td>gm</td>\n",
       "      <td>ceo</td>\n",
       "      <td>facebook</td>\n",
       "      <td>apple</td>\n",
       "      <td>says</td>\n",
       "    </tr>\n",
       "  </tbody>\n",
       "</table>\n",
       "</div>"
      ],
      "text/plain": [
       "               1       2       3      4      5     6     7         8   \\\n",
       "重要度上位  kardashian   chris     her  movie   star  film  paul        he   \n",
       "重要度下位          us  update  google  study  china    gm   ceo  facebook   \n",
       "\n",
       "            9     10  \n",
       "重要度上位  wedding   she  \n",
       "重要度下位    apple  says  "
      ]
     },
     "metadata": {},
     "output_type": "display_data"
    },
    {
     "name": "stdout",
     "output_type": "stream",
     "text": [
      "\n",
      "\n",
      "【カテゴリ】m\n"
     ]
    },
    {
     "data": {
      "text/html": [
       "<div>\n",
       "<style scoped>\n",
       "    .dataframe tbody tr th:only-of-type {\n",
       "        vertical-align: middle;\n",
       "    }\n",
       "\n",
       "    .dataframe tbody tr th {\n",
       "        vertical-align: top;\n",
       "    }\n",
       "\n",
       "    .dataframe thead th {\n",
       "        text-align: right;\n",
       "    }\n",
       "</style>\n",
       "<table border=\"1\" class=\"dataframe\">\n",
       "  <thead>\n",
       "    <tr style=\"text-align: right;\">\n",
       "      <th></th>\n",
       "      <th>1</th>\n",
       "      <th>2</th>\n",
       "      <th>3</th>\n",
       "      <th>4</th>\n",
       "      <th>5</th>\n",
       "      <th>6</th>\n",
       "      <th>7</th>\n",
       "      <th>8</th>\n",
       "      <th>9</th>\n",
       "      <th>10</th>\n",
       "    </tr>\n",
       "  </thead>\n",
       "  <tbody>\n",
       "    <tr>\n",
       "      <th>重要度上位</th>\n",
       "      <td>ebola</td>\n",
       "      <td>study</td>\n",
       "      <td>cancer</td>\n",
       "      <td>drug</td>\n",
       "      <td>mers</td>\n",
       "      <td>fda</td>\n",
       "      <td>cases</td>\n",
       "      <td>cdc</td>\n",
       "      <td>could</td>\n",
       "      <td>cigarettes</td>\n",
       "    </tr>\n",
       "    <tr>\n",
       "      <th>重要度下位</th>\n",
       "      <td>facebook</td>\n",
       "      <td>gm</td>\n",
       "      <td>ceo</td>\n",
       "      <td>apple</td>\n",
       "      <td>bank</td>\n",
       "      <td>deal</td>\n",
       "      <td>google</td>\n",
       "      <td>sales</td>\n",
       "      <td>climate</td>\n",
       "      <td>twitter</td>\n",
       "    </tr>\n",
       "  </tbody>\n",
       "</table>\n",
       "</div>"
      ],
      "text/plain": [
       "             1      2       3      4     5     6       7      8        9   \\\n",
       "重要度上位     ebola  study  cancer   drug  mers   fda   cases    cdc    could   \n",
       "重要度下位  facebook     gm     ceo  apple  bank  deal  google  sales  climate   \n",
       "\n",
       "               10  \n",
       "重要度上位  cigarettes  \n",
       "重要度下位     twitter  "
      ]
     },
     "metadata": {},
     "output_type": "display_data"
    },
    {
     "name": "stdout",
     "output_type": "stream",
     "text": [
      "\n",
      "\n",
      "【カテゴリ】t\n"
     ]
    },
    {
     "data": {
      "text/html": [
       "<div>\n",
       "<style scoped>\n",
       "    .dataframe tbody tr th:only-of-type {\n",
       "        vertical-align: middle;\n",
       "    }\n",
       "\n",
       "    .dataframe tbody tr th {\n",
       "        vertical-align: top;\n",
       "    }\n",
       "\n",
       "    .dataframe thead th {\n",
       "        text-align: right;\n",
       "    }\n",
       "</style>\n",
       "<table border=\"1\" class=\"dataframe\">\n",
       "  <thead>\n",
       "    <tr style=\"text-align: right;\">\n",
       "      <th></th>\n",
       "      <th>1</th>\n",
       "      <th>2</th>\n",
       "      <th>3</th>\n",
       "      <th>4</th>\n",
       "      <th>5</th>\n",
       "      <th>6</th>\n",
       "      <th>7</th>\n",
       "      <th>8</th>\n",
       "      <th>9</th>\n",
       "      <th>10</th>\n",
       "    </tr>\n",
       "  </thead>\n",
       "  <tbody>\n",
       "    <tr>\n",
       "      <th>重要度上位</th>\n",
       "      <td>google</td>\n",
       "      <td>facebook</td>\n",
       "      <td>apple</td>\n",
       "      <td>microsoft</td>\n",
       "      <td>climate</td>\n",
       "      <td>gm</td>\n",
       "      <td>nasa</td>\n",
       "      <td>tesla</td>\n",
       "      <td>comcast</td>\n",
       "      <td>heartbleed</td>\n",
       "    </tr>\n",
       "    <tr>\n",
       "      <th>重要度下位</th>\n",
       "      <td>stocks</td>\n",
       "      <td>fed</td>\n",
       "      <td>her</td>\n",
       "      <td>percent</td>\n",
       "      <td>drug</td>\n",
       "      <td>american</td>\n",
       "      <td>cancer</td>\n",
       "      <td>ukraine</td>\n",
       "      <td>still</td>\n",
       "      <td>shares</td>\n",
       "    </tr>\n",
       "  </tbody>\n",
       "</table>\n",
       "</div>"
      ],
      "text/plain": [
       "           1         2      3          4        5         6       7        8   \\\n",
       "重要度上位  google  facebook  apple  microsoft  climate        gm    nasa    tesla   \n",
       "重要度下位  stocks       fed    her    percent     drug  american  cancer  ukraine   \n",
       "\n",
       "            9           10  \n",
       "重要度上位  comcast  heartbleed  \n",
       "重要度下位    still      shares  "
      ]
     },
     "metadata": {},
     "output_type": "display_data"
    },
    {
     "name": "stdout",
     "output_type": "stream",
     "text": [
      "\n",
      "\n"
     ]
    }
   ],
   "source": [
    "features = X_train.columns.values\n",
    "index = [i for i in range(1, 11)]\n",
    "for c, coef in zip(lg.classes_, lg.coef_):\n",
    "    print(f'【カテゴリ】{c}')\n",
    "    best10 = pd.DataFrame(features[np.argsort(coef)[::-1][:10]], columns=['重要度上位'], index=index).T\n",
    "    worst10 = pd.DataFrame(features[np.argsort(coef)[:10]], columns=['重要度下位'], index=index).T\n",
    "    display(pd.concat([best10, worst10], axis=0))\n",
    "    print('\\n')"
   ]
  },
  {
   "cell_type": "markdown",
   "id": "431ced51",
   "metadata": {},
   "source": [
    "### 58. 正則化パラメータの変更\n",
    "ロジスティック回帰モデルを学習するとき，正則化パラメータを調整することで，学習時の過学習（overfitting）の度合いを制御できる．異なる正則化パラメータでロジスティック回帰モデルを学習し，学習データ，検証データ，および評価データ上の正解率を求めよ．実験の結果は，正則化パラメータを横軸，正解率を縦軸としたグラフにまとめよ．"
   ]
  },
  {
   "cell_type": "code",
   "execution_count": 19,
   "id": "c5056645",
   "metadata": {},
   "outputs": [
    {
     "name": "stderr",
     "output_type": "stream",
     "text": [
      "100%|███████████████████████████████████████████| 10/10 [01:27<00:00,  8.77s/it]\n"
     ]
    }
   ],
   "source": [
    "from tqdm import tqdm\n",
    "\n",
    "result = []\n",
    "for C in tqdm(np.logspace(-5, 4, 10, base=10)):\n",
    "    # モデルの学習\n",
    "    lg = LogisticRegression(random_state=123, max_iter=10000, C=C)\n",
    "    lg.fit(X_train, train['CATEGORY'])\n",
    "\n",
    "    # 予測値の取得\n",
    "    train_pred = score_lg(lg, X_train)\n",
    "    valid_pred = score_lg(lg, X_valid)\n",
    "    test_pred = score_lg(lg, X_test)\n",
    "\n",
    "    # 正解率の算出\n",
    "    train_accuracy = accuracy_score(train['CATEGORY'], train_pred[1])\n",
    "    valid_accuracy = accuracy_score(valid['CATEGORY'], valid_pred[1])\n",
    "    test_accuracy = accuracy_score(test['CATEGORY'], test_pred[1])\n",
    "\n",
    "    # 結果の格納\n",
    "    result.append([C, train_accuracy, valid_accuracy, test_accuracy])"
   ]
  },
  {
   "cell_type": "code",
   "execution_count": 20,
   "id": "82ef60ca",
   "metadata": {},
   "outputs": [
    {
     "data": {
      "image/png": "[encoded data removed]",
      "text/plain": [
       "<Figure size 432x288 with 1 Axes>"
      ]
     },
     "metadata": {
      "needs_background": "light"
     },
     "output_type": "display_data"
    }
   ],
   "source": [
    "# 視覚化\n",
    "result = np.array(result).T\n",
    "plt.plot(result[0], result[1], label='train')\n",
    "plt.plot(result[0], result[2], label='valid')\n",
    "plt.plot(result[0], result[3], label='test')\n",
    "plt.ylim(0, 1.1)\n",
    "plt.ylabel('Accuracy')\n",
    "plt.xscale ('log')\n",
    "plt.xlabel('C')\n",
    "plt.legend()\n",
    "plt.show()"
   ]
  },
  {
   "cell_type": "markdown",
   "id": "2239d02d",
   "metadata": {},
   "source": [
    "### 59. ハイパーパラメータの探索\n",
    "学習アルゴリズムや学習パラメータを変えながら，カテゴリ分類モデルを学習せよ．検証データ上の正解率が最も高くなる学習アルゴリズム・パラメータを求めよ．また，その学習アルゴリズム・パラメータを用いたときの評価データ上の正解率を求めよ．"
   ]
  },
  {
   "cell_type": "code",
   "execution_count": null,
   "id": "69ea4d48",
   "metadata": {},
   "outputs": [],
   "source": []
  }
 ],
 "metadata": {
  "kernelspec": {
   "display_name": "Python 3 (ipykernel)",
   "language": "python",
   "name": "python3"
  },
  "language_info": {
   "codemirror_mode": {
    "name": "ipython",
    "version": 3
   },
   "file_extension": ".py",
   "mimetype": "text/x-python",
   "name": "python",
   "nbconvert_exporter": "python",
   "pygments_lexer": "ipython3",
   "version": "3.9.7"
  }
 },
 "nbformat": 4,
 "nbformat_minor": 5
}
