{
 "cells": [
  {
   "cell_type": "code",
   "execution_count": 1,
   "metadata": {},
   "outputs": [
    {
     "name": "stdout",
     "output_type": "stream",
     "text": [
      "desserts\n"
     ]
    }
   ],
   "source": [
    "#00. 文字列の逆順\n",
    "str = \"stressed\"\n",
    "reverse_str = str[::-1]\n",
    "print(reverse_str)"
   ]
  },
  {
   "cell_type": "code",
   "execution_count": 2,
   "metadata": {},
   "outputs": [
    {
     "name": "stdout",
     "output_type": "stream",
     "text": [
      "パトカー\n"
     ]
    }
   ],
   "source": [
    "#01. 「パタトクカシーー」\n",
    "str01 = \"パタトクカシー\"\n",
    "new_str01 = str01[0] + str01[2] + str01[4] + str01[6]\n",
    "print(new_str01)"
   ]
  },
  {
   "cell_type": "code",
   "execution_count": 15,
   "metadata": {},
   "outputs": [
    {
     "name": "stdout",
     "output_type": "stream",
     "text": [
      "パタトクカシーー\n"
     ]
    }
   ],
   "source": [
    "#02. 「パトカー」＋「タクシー」＝「パタトクカシーー」\n",
    "str02_p = \"パトカー\"\n",
    "str02_t = \"タクシー\"\n",
    "new_str02 = \"\"\n",
    "\n",
    "for i in range(len(str02_p)):\n",
    "    new_str02 = new_str02 + str02_p[i] + str02_t[i]\n",
    "    \n",
    "print(new_str02)"
   ]
  },
  {
   "cell_type": "code",
   "execution_count": 13,
   "metadata": {},
   "outputs": [
    {
     "name": "stdout",
     "output_type": "stream",
     "text": [
      "[3, 1, 4, 1, 5, 9, 2, 6, 5, 3, 5, 8, 9, 7, 9]\n"
     ]
    }
   ],
   "source": [
    "#03. 円周率\n",
    "str03 = \"Now I need a drink, alcoholic of course, after the heavy lectures involving quantum mechanics.\"\n",
    "# 「,」と「.」を消す\n",
    "str03_re = str03.replace(',','')\n",
    "str03_re = str03_re.replace('.','')\n",
    "# lst.split()で空白で分解してリスト化\n",
    "str03_spl = str03_re.split()\n",
    "str03_lst = []\n",
    "for i in str03_spl:\n",
    "    # lst1.extend([lst2])→リストに別のリストの要素を追加する方法\n",
    "    str03_lst.extend([len(i)])\n",
    "print(str03_lst)"
   ]
  },
  {
   "cell_type": "code",
   "execution_count": 1,
   "metadata": {},
   "outputs": [
    {
     "name": "stdout",
     "output_type": "stream",
     "text": [
      "{'H': 1, 'He': 2, 'Li': 3, 'Be': 4, 'B': 5, 'C': 6, 'N': 7, 'O': 8, 'F': 9, 'Ne': 10, 'Na': 11, 'Mi': 12, 'Al': 13, 'Si': 14, 'P': 15, 'S': 16, 'Cl': 17, 'Ar': 18, 'K': 19, 'Ca': 20}\n"
     ]
    }
   ],
   "source": [
    "#04. 元素記号\n",
    "str04 = \"Hi He Lied Because Boron Could Not Oxidize Fluorine. New Nations Might Also Sign Peace Security Clause. Arthur King Can.\"\n",
    "str04_re = str04.replace(',','')\n",
    "str04_re = str04_re.replace('.','')\n",
    "str04_spl = str04_re.split()\n",
    "\n",
    "#辞書、マップがよく分からず調べました\n",
    "#1文字取り出す単語の番号\n",
    "one = [1, 5, 6, 7, 8, 9, 15, 16, 19]\n",
    "#辞書\n",
    "ans = {}\n",
    "\n",
    "for i, word in enumerate(str04_spl):\n",
    "    if i + 1 in one:\n",
    "        ans[word[:1]] = i + 1  # リストにあれば1文字を取得\n",
    "    else:\n",
    "        ans[word[:2]] = i + 1  # なければ2文字を取得\n",
    "\n",
    "print(ans)"
   ]
  },
  {
   "cell_type": "code",
   "execution_count": 2,
   "metadata": {},
   "outputs": [
    {
     "name": "stdout",
     "output_type": "stream",
     "text": [
      "単語bi-gram: [('I', 'am'), ('am', 'an'), ('an', 'NLPer')]\n",
      "文字bi-gram: [('I', ' '), (' ', 'a'), ('a', 'm'), ('m', ' '), (' ', 'a'), ('a', 'n'), ('n', ' '), (' ', 'N'), ('N', 'L'), ('L', 'P'), ('P', 'e'), ('e', 'r')]\n"
     ]
    }
   ],
   "source": [
    "# 05. n-gram\n",
    "#わからなかったので調べました\n",
    "#ngramを作る関数\n",
    "def ngram(n, lst):\n",
    "    return list(zip(*[lst[i:] for i in range(n)]))\n",
    "\n",
    "str = 'I am an NLPer'\n",
    "words_bi_gram = ngram(2, str.split())\n",
    "chars_bi_gram = ngram(2, str)\n",
    "\n",
    "print('単語bi-gram:', words_bi_gram)\n",
    "print('文字bi-gram:', chars_bi_gram)\n",
    "    "
   ]
  },
  {
   "cell_type": "code",
   "execution_count": 3,
   "metadata": {},
   "outputs": [
    {
     "name": "stdout",
     "output_type": "stream",
     "text": [
      "X: {('a', 'r'), ('a', 'd'), ('d', 'i'), ('a', 'p'), ('r', 'a'), ('i', 's'), ('p', 'a'), ('s', 'e')}\n",
      "Y: {('p', 'h'), ('a', 'r'), ('g', 'r'), ('r', 'a'), ('a', 'p'), ('p', 'a'), ('a', 'g')}\n",
      "和集合: {('p', 'h'), ('a', 'r'), ('a', 'd'), ('d', 'i'), ('g', 'r'), ('a', 'p'), ('r', 'a'), ('i', 's'), ('p', 'a'), ('a', 'g'), ('s', 'e')}\n",
      "積集合: {('a', 'p'), ('r', 'a'), ('a', 'r'), ('p', 'a')}\n",
      "差集合: {('d', 'i'), ('a', 'd'), ('i', 's'), ('s', 'e')}\n",
      "Xにseが含まれるか: True\n",
      "Yにseが含まれるか: False\n"
     ]
    }
   ],
   "source": [
    "#06. 集合\n",
    "str06_1 = \"paraparaparadise\"\n",
    "str06_2 = \"paragraph\"\n",
    "\n",
    "#文字bi-gramの集合\n",
    "#setで重複を削除し集合となる\n",
    "X = set(ngram(2, str06_1))\n",
    "Y = set(ngram(2, str06_2))\n",
    "print('X:', X)\n",
    "print('Y:', Y)\n",
    "\n",
    "#和集合\n",
    "union = X | Y\n",
    "#積集合\n",
    "intersection = X & Y\n",
    "#差集合\n",
    "difference = X - Y\n",
    "print('和集合:', union)\n",
    "print('積集合:', intersection)\n",
    "print('差集合:', difference)\n",
    "\n",
    "#seが含まれるかの確認\n",
    "print('Xにseが含まれるか:', {('s', 'e')} <= X)\n",
    "print('Yにseが含まれるか:', {('s', 'e')} <= Y)"
   ]
  },
  {
   "cell_type": "code",
   "execution_count": 19,
   "metadata": {},
   "outputs": [
    {
     "name": "stdout",
     "output_type": "stream",
     "text": [
      "12時の気温は22.4\n"
     ]
    }
   ],
   "source": [
    "#07. テンプレートによる文生成\n",
    "#引数x, y, zを受け取り「x時のyはz」という文字列を返す関数\n",
    "def when(x, y, z):\n",
    "    print('%s時の%sは%s' %(x, y, z))\n",
    "    \n",
    "when(12,'気温',22.4)"
   ]
  },
  {
   "cell_type": "code",
   "execution_count": 55,
   "metadata": {},
   "outputs": [],
   "source": [
    "#08. 暗号文\n",
    "#文字列を変換する関数\n",
    "def cipher(str):\n",
    "    str08 = \"\"\n",
    "    for i in range(len(str)):\n",
    "        #str.islower()→小文字か判定する\n",
    "        if str[i].islower():\n",
    "            str08 = str08 + chr(219 - ord(str[i]))\n",
    "        else:\n",
    "            str08[i] = str08 + str[i]\n",
    "    print(str08)\n",
    "            "
   ]
  },
  {
   "cell_type": "code",
   "execution_count": 56,
   "metadata": {},
   "outputs": [
    {
     "name": "stdout",
     "output_type": "stream",
     "text": [
      "gvhg\n"
     ]
    }
   ],
   "source": [
    "# 暗号化\n",
    "cipher(\"test\")"
   ]
  },
  {
   "cell_type": "code",
   "execution_count": 57,
   "metadata": {},
   "outputs": [
    {
     "name": "stdout",
     "output_type": "stream",
     "text": [
      "test\n"
     ]
    }
   ],
   "source": [
    "#復号化\n",
    "cipher(\"gvhg\")"
   ]
  },
  {
   "cell_type": "code",
   "execution_count": 4,
   "metadata": {},
   "outputs": [
    {
     "name": "stdout",
     "output_type": "stream",
     "text": [
      "I cn'uldot beilvee that I culod aclatuly unnatredsd what I was readnig : the peaohemnnl peowr of the hmaun mind .\n"
     ]
    }
   ],
   "source": [
    "#09. Typoglycemia\n",
    "#わからなかったので調べました\n",
    "import random\n",
    "\n",
    "def shuffle(words):\n",
    "    result = []\n",
    "    for word in words.split():\n",
    "        if len(word) > 4:  # 長さが4超であればシャッフル\n",
    "            word = word[:1] + ''.join(random.sample(word[1:-1], len(word) - 2)) + word[-1:]\n",
    "        result.append(word)\n",
    "\n",
    "    return ' '.join(result)\n",
    "\n",
    "words = \"I couldn't believe that I could actually understand what I was reading : the phenomenal power of the human mind .\"\n",
    "ans = shuffle(words)\n",
    "\n",
    "print(ans)"
   ]
  },
  {
   "cell_type": "code",
   "execution_count": null,
   "metadata": {},
   "outputs": [],
   "source": []
  }
 ],
 "metadata": {
  "kernelspec": {
   "display_name": "Python 3 (ipykernel)",
   "language": "python",
   "name": "python3"
  },
  "language_info": {
   "codemirror_mode": {
    "name": "ipython",
    "version": 3
   },
   "file_extension": ".py",
   "mimetype": "text/x-python",
   "name": "python",
   "nbconvert_exporter": "python",
   "pygments_lexer": "ipython3",
   "version": "3.9.7"
  }
 },
 "nbformat": 4,
 "nbformat_minor": 2
}
