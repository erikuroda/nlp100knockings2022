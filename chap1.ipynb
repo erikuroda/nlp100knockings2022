{
 "cells": [
  {
   "cell_type": "markdown",
   "metadata": {},
   "source": [
    "# 第１章:準備運動"
   ]
  },
  {
   "cell_type": "markdown",
   "metadata": {},
   "source": [
    "### 00.文字列の逆順\n",
    "文字列”stressed”の文字を逆に（末尾から先頭に向かって）並べた文字列を得よ."
   ]
  },
  {
   "cell_type": "code",
   "execution_count": 3,
   "metadata": {},
   "outputs": [
    {
     "name": "stdout",
     "output_type": "stream",
     "text": [
      "desserts\n"
     ]
    }
   ],
   "source": [
    "str = \"stressed\"\n",
    "list = []\n",
    "\n",
    "for i in reversed(range(len(str))):\n",
    "    list.append(str[i])\n",
    "\n",
    "str2 = ''.join(list)\n",
    "print(str2)"
   ]
  },
  {
   "cell_type": "markdown",
   "metadata": {},
   "source": [
    "### 01.「パタトクカシーー」"
   ]
  },
  {
   "cell_type": "markdown",
   "metadata": {},
   "source": [
    "「パタトクカシーー」という文字列の1,3,5,7文字目を取り出して連結した文字列を得よ．"
   ]
  },
  {
   "cell_type": "code",
   "execution_count": 4,
   "metadata": {},
   "outputs": [
    {
     "name": "stdout",
     "output_type": "stream",
     "text": [
      "タクシー\n"
     ]
    }
   ],
   "source": [
    "str = \"パタトクカシーー\"\n",
    "list = []\n",
    "\n",
    "for i in range(len(str)):\n",
    "    if i%2 == 1:\n",
    "        list.append(str[i])\n",
    "        \n",
    "str2 = ''.join(list)\n",
    "print(str2)"
   ]
  },
  {
   "cell_type": "markdown",
   "metadata": {},
   "source": [
    "### 02.「パトカー」＋「タクシー」＝「パタトクカシーー」\n",
    "「パトカー」＋「タクシー」の文字を先頭から交互に連結して文字列「パタトクカシーー」を得よ．"
   ]
  },
  {
   "cell_type": "code",
   "execution_count": 6,
   "metadata": {},
   "outputs": [
    {
     "name": "stdout",
     "output_type": "stream",
     "text": [
      "パタトクカシーー\n"
     ]
    }
   ],
   "source": [
    "str1 = \"パトカー\"\n",
    "str2 = \"タクシー\"\n",
    "list = []\n",
    "\n",
    "for i in range(len(str1)):\n",
    "    list.append(str1[i])\n",
    "    list.append(str2[i])\n",
    "    \n",
    "str3 = ''.join(list)\n",
    "print(str3)"
   ]
  },
  {
   "cell_type": "markdown",
   "metadata": {},
   "source": [
    "### 03.円周率\n",
    "“Now I need a drink, alcoholic of course, after the heavy lectures involving quantum mechanics.”という文を単語に分解し，各単語の（アルファベットの）文字数を先頭から出現順に並べたリストを作成せよ."
   ]
  },
  {
   "cell_type": "code",
   "execution_count": 9,
   "metadata": {},
   "outputs": [
    {
     "name": "stdout",
     "output_type": "stream",
     "text": [
      "['I', 'a', 'of', 'Now', 'the', 'need', 'after', 'heavy', 'drink,', 'course,', 'quantum', 'lectures', 'alcoholic', 'involving', 'mechanics.']\n"
     ]
    }
   ],
   "source": [
    "str1 = \"Now I need a drink, alcoholic of course, after the heavy lectures involving quantum mechanics.\"\n",
    "\n",
    "list1 = str1.split()\n",
    "list1.sort(key=len)\n",
    "\n",
    "print(list1)"
   ]
  },
  {
   "cell_type": "markdown",
   "metadata": {},
   "source": [
    "### 04.元素記号\n",
    "“Hi He Lied Because Boron Could Not Oxidize Fluorine. New Nations Might Also Sign Peace Security Clause. Arthur King Can.”という文を単語に分解し，1, 5, 6, 7, 8, 9, 15, 16, 19番目の単語は先頭の1文字，それ以外の単語は先頭の2文字を取り出し，取り出した文字列から単語の位置（先頭から何番目の単語か）への連想配列（辞書型もしくはマップ型）を作成せよ．"
   ]
  },
  {
   "cell_type": "code",
   "execution_count": 25,
   "metadata": {},
   "outputs": [
    {
     "name": "stdout",
     "output_type": "stream",
     "text": [
      "{'H': 1, 'He': 2, 'Li': 3, 'Be': 4, 'B': 5, 'C': 6, 'N': 7, 'O': 8, 'F': 9, 'Ne': 10, 'Na': 11, 'Mi': 12, 'Al': 13, 'Si': 14, 'P': 15, 'S': 16, 'Cl': 17, 'Ar': 18, 'K': 19, 'Ca': 20}\n"
     ]
    }
   ],
   "source": [
    "str1 = \"Hi He Lied Because Boron Could Not Oxidize Fluorine. New Nations Might Also Sign Peace Security Clause. Arthur King Can.\"\n",
    "list1 = str1.split()\n",
    "\n",
    "num = [1, 5, 6, 7, 8, 9, 15, 16, 19]\n",
    "dict1 = {}\n",
    "\n",
    "for i in range(20):\n",
    "    if i+1 in num:\n",
    "        dict1[list1[i][:1]] = i+1\n",
    "    else:\n",
    "        dict1[list1[i][:2]] = i+1\n",
    "        \n",
    "print(dict1)"
   ]
  },
  {
   "cell_type": "markdown",
   "metadata": {},
   "source": [
    "### 05.n-gram\n",
    "与えられたシーケンス（文字列やリストなど）からn-gramを作る関数を作成せよ．この関数を用い，”I am an NLPer”という文から単語bi-gram，文字bi-gramを得よ．"
   ]
  },
  {
   "cell_type": "code",
   "execution_count": 44,
   "metadata": {},
   "outputs": [],
   "source": [
    "def n_gram(n, sen):\n",
    "    word = sen.split()\n",
    "    char = sen.replace(\" \", \"\")\n",
    "    list_w = []\n",
    "    list_c = []\n",
    "    \n",
    "    for i in range(len(word)-n+1):    #len(word)-(n-1)\n",
    "        ngram_w = \"\"\n",
    "        for j in range(n):\n",
    "            ngram_w += \" \" + word[i+j]\n",
    "        list_w.append(ngram_w)\n",
    "    \n",
    "    for i in range(len(char)-n+1):\n",
    "        ngram_c = \"\"\n",
    "        for j in range(n):\n",
    "            ngram_c += char[i+j]\n",
    "        list_c.append(ngram_c)\n",
    "        \n",
    "    \n",
    "    return list_w, list_c"
   ]
  },
  {
   "cell_type": "code",
   "execution_count": 46,
   "metadata": {},
   "outputs": [
    {
     "name": "stdout",
     "output_type": "stream",
     "text": [
      "([' I am', ' am an', ' an NLPer'], ['Ia', 'am', 'ma', 'an', 'nN', 'NL', 'LP', 'Pe', 'er'])\n"
     ]
    }
   ],
   "source": [
    "print(n_gram(2, \"I am an NLPer\"))"
   ]
  },
  {
   "cell_type": "markdown",
   "metadata": {},
   "source": [
    "### 06.集合\n",
    "“paraparaparadise”と”paragraph”に含まれる文字bi-gramの集合を，それぞれ, XとYとして求め，XとYの和集合，積集合，差集合を求めよ．さらに，’se’というbi-gramがXおよびYに含まれるかどうかを調べよ．"
   ]
  },
  {
   "cell_type": "code",
   "execution_count": 58,
   "metadata": {},
   "outputs": [
    {
     "name": "stdout",
     "output_type": "stream",
     "text": [
      "{'ar', 'gr', 'ph', 'ad', 'is', 'ra', 'se', 'di', 'ap', 'ag', 'pa'}\n",
      "{'ar', 'ra', 'pa', 'ap'}\n",
      "{'is', 'se', 'di', 'ad'}\n",
      "True\n",
      "False\n"
     ]
    }
   ],
   "source": [
    "_, X = n_gram(2, \"paraparaparadise\")\n",
    "_, Y = n_gram(2, \"paragraph\")\n",
    "\n",
    "set_X = set(X)\n",
    "set_Y = set(Y)\n",
    "\n",
    "print(set_X.union(set_Y))  #和集合\n",
    "print(set_X.intersection(set_Y))  #積集合\n",
    "print(set_X.difference(set_Y))  #差集合\n",
    "\n",
    "print(\"se\" in set_X)   #\"se\"が集合Xに含まれるか\n",
    "print(\"se\" in set_Y)   #\"se\"が集合Yに含まれるか"
   ]
  },
  {
   "cell_type": "markdown",
   "metadata": {},
   "source": [
    "### 07.テンプレートによる文生成\n",
    "引数x, y, zを受け取り「x時のyはz」という文字列を返す関数を実装せよ．さらに，x=12, y=”気温”, z=22.4として，実行結果を確認せよ．"
   ]
  },
  {
   "cell_type": "code",
   "execution_count": 65,
   "metadata": {},
   "outputs": [],
   "source": [
    "def temprature(x, y, z):\n",
    "    print(f'{x}時の{y}は{z}')"
   ]
  },
  {
   "cell_type": "code",
   "execution_count": 66,
   "metadata": {},
   "outputs": [
    {
     "name": "stdout",
     "output_type": "stream",
     "text": [
      "12時の気温は22.4\n"
     ]
    }
   ],
   "source": [
    "temprature(12, \"気温\", 22.4)"
   ]
  },
  {
   "cell_type": "markdown",
   "metadata": {},
   "source": [
    "### 08.暗号文\n",
    "与えられた文字列の各文字を，以下の仕様で変換する関数cipherを実装せよ．\n",
    "・英小文字ならば(219 - 文字コード)の文字に置換\n",
    "・その他の文字はそのまま出力\n",
    "この関数を用い，英語のメッセージを暗号化・復号化せよ．"
   ]
  },
  {
   "cell_type": "code",
   "execution_count": 20,
   "metadata": {},
   "outputs": [],
   "source": [
    "def cipher(sen):\n",
    "    list1 = []\n",
    "    for c in sen:\n",
    "        if c.islower():\n",
    "            c = chr(219-ord(c))\n",
    "            list1.append(c)\n",
    "        else:\n",
    "            list1.append(c)\n",
    "    return \"\".join(list1)   "
   ]
  },
  {
   "cell_type": "code",
   "execution_count": 22,
   "metadata": {},
   "outputs": [
    {
     "name": "stdout",
     "output_type": "stream",
     "text": [
      "I dzh hkovvkrmt drgs nb wlt\n",
      "I was spleeping with my dog\n"
     ]
    }
   ],
   "source": [
    "angou = cipher(\"I was spleeping with my dog\")\n",
    "print(angou)\n",
    "hukugou = cipher(angou)\n",
    "print(hukugou)"
   ]
  },
  {
   "cell_type": "markdown",
   "metadata": {},
   "source": [
    "### 09.Typoglycemia\n",
    "スペースで区切られた単語列に対して，各単語の先頭と末尾の文字は残し，それ以外の文字の順序をランダムに並び替えるプログラムを作成せよ．ただし，長さが４以下の単語は並び替えないこととする．適当な英語の文（例えば”I couldn’t believe that I could actually understand what I was reading : the phenomenal power of the human mind .”）を与え，その実行結果を確認せよ．"
   ]
  },
  {
   "cell_type": "code",
   "execution_count": 33,
   "metadata": {},
   "outputs": [],
   "source": [
    "import random\n",
    "\n",
    "def random_sen(sen):\n",
    "    words = sen.split()\n",
    "    list1 = []\n",
    "    for w in words:\n",
    "        if len(w) > 4:\n",
    "            w = w[:1] + \"\".join(random.sample(w[1:-1], len(w)-2)) + w[-1:]\n",
    "        list1.append(w)\n",
    "    return \" \".join(list1)"
   ]
  },
  {
   "cell_type": "code",
   "execution_count": 34,
   "metadata": {},
   "outputs": [
    {
     "name": "stdout",
     "output_type": "stream",
     "text": [
      "I cudnlo’t bleieve that I culod altcauly uetsnrdand what I was rdeiang : the poenhanmel pweor of the human mind .\n"
     ]
    }
   ],
   "source": [
    "print(random_sen(\"I couldn’t believe that I could actually understand what I was reading : the phenomenal power of the human mind .\"))"
   ]
  },
  {
   "cell_type": "code",
   "execution_count": null,
   "metadata": {},
   "outputs": [],
   "source": []
  }
 ],
 "metadata": {
  "kernelspec": {
   "display_name": "Python 3",
   "language": "python",
   "name": "python3"
  },
  "language_info": {
   "codemirror_mode": {
    "name": "ipython",
    "version": 3
   },
   "file_extension": ".py",
   "mimetype": "text/x-python",
   "name": "python",
   "nbconvert_exporter": "python",
   "pygments_lexer": "ipython3",
   "version": "3.8.5"
  }
 },
 "nbformat": 4,
 "nbformat_minor": 4
}
