{
 "cells": [
  {
   "cell_type": "code",
   "execution_count": 1,
   "metadata": {},
   "outputs": [
    {
     "name": "stdout",
     "output_type": "stream",
     "text": [
      "desserts\n"
     ]
    }
   ],
   "source": [
    "#00. 文字列の逆順\n",
    "str = \"stressed\"\n",
    "reverse_str = str[::-1]\n",
    "print(reverse_str)"
   ]
  },
  {
   "cell_type": "code",
   "execution_count": 2,
   "metadata": {},
   "outputs": [
    {
     "name": "stdout",
     "output_type": "stream",
     "text": [
      "パトカー\n"
     ]
    }
   ],
   "source": [
    "#01. 「パタトクカシーー」\n",
    "str01 = \"パタトクカシー\"\n",
    "new_str01 = str01[0] + str01[2] + str01[4] + str01[6]\n",
    "print(new_str01)"
   ]
  },
  {
   "cell_type": "code",
   "execution_count": 15,
   "metadata": {},
   "outputs": [
    {
     "name": "stdout",
     "output_type": "stream",
     "text": [
      "パタトクカシーー\n"
     ]
    }
   ],
   "source": [
    "#02. 「パトカー」＋「タクシー」＝「パタトクカシーー」\n",
    "str02_p = \"パトカー\"\n",
    "str02_t = \"タクシー\"\n",
    "new_str02 = \"\"\n",
    "\n",
    "for i in range(len(str02_p)):\n",
    "    new_str02 = new_str02 + str02_p[i] + str02_t[i]\n",
    "    \n",
    "print(new_str02)"
   ]
  },
  {
   "cell_type": "code",
   "execution_count": 13,
   "metadata": {},
   "outputs": [
    {
     "name": "stdout",
     "output_type": "stream",
     "text": [
      "[3, 1, 4, 1, 5, 9, 2, 6, 5, 3, 5, 8, 9, 7, 9]\n"
     ]
    }
   ],
   "source": [
    "#03. 円周率\n",
    "str03 = \"Now I need a drink, alcoholic of course, after the heavy lectures involving quantum mechanics.\"\n",
    "# 「,」と「.」を消す\n",
    "str03_re = str03.replace(',','')\n",
    "str03_re = str03_re.replace('.','')\n",
    "# lst.split()で空白で分解してリスト化\n",
    "str03_spl = str03_re.split()\n",
    "str03_lst = []\n",
    "for i in str03_spl:\n",
    "    # lst1.extend([lst2])→リストに別のリストの要素を追加する方法\n",
    "    str03_lst.extend([len(i)])\n",
    "print(str03_lst)"
   ]
  },
  {
   "cell_type": "code",
   "execution_count": 16,
   "metadata": {},
   "outputs": [],
   "source": [
    "#04. 元素記号\n",
    "str04 = \"Hi He Lied Because Boron Could Not Oxidize Fluorine. New Nations Might Also Sign Peace Security Clause. Arthur King Can.\"\n",
    "str04_re = str04.replace(',','')\n",
    "str04_re = str04_re.replace('.','')\n",
    "str04_spl = str04_re.split()\n",
    "\n",
    "#辞書型……？マップ？"
   ]
  },
  {
   "cell_type": "code",
   "execution_count": null,
   "metadata": {},
   "outputs": [],
   "source": [
    "# 05. n-gram\n",
    "#ngramを作る関数\n",
    "def ngram(n, str):#シーケンス？\n",
    "    "
   ]
  },
  {
   "cell_type": "code",
   "execution_count": null,
   "metadata": {},
   "outputs": [],
   "source": [
    "#06. 集合"
   ]
  },
  {
   "cell_type": "code",
   "execution_count": 19,
   "metadata": {},
   "outputs": [
    {
     "name": "stdout",
     "output_type": "stream",
     "text": [
      "12時の気温は22.4\n"
     ]
    }
   ],
   "source": [
    "#07. テンプレートによる文生成\n",
    "#引数x, y, zを受け取り「x時のyはz」という文字列を返す関数\n",
    "def when(x, y, z):\n",
    "    print('%s時の%sは%s' %(x, y, z))\n",
    "    \n",
    "when(12,'気温',22.4)"
   ]
  },
  {
   "cell_type": "code",
   "execution_count": 55,
   "metadata": {},
   "outputs": [],
   "source": [
    "#08. 暗号文\n",
    "#文字列を変換する関数\n",
    "def cipher(str):\n",
    "    str08 = \"\"\n",
    "    for i in range(len(str)):\n",
    "        #str.islower()→小文字か判定する\n",
    "        if str[i].islower():\n",
    "            str08 = str08 + chr(219 - ord(str[i]))\n",
    "        else:\n",
    "            str08[i] = str08 + str[i]\n",
    "    print(str08)\n",
    "            "
   ]
  },
  {
   "cell_type": "code",
   "execution_count": 56,
   "metadata": {},
   "outputs": [
    {
     "name": "stdout",
     "output_type": "stream",
     "text": [
      "gvhg\n"
     ]
    }
   ],
   "source": [
    "# 暗号化\n",
    "cipher(\"test\")"
   ]
  },
  {
   "cell_type": "code",
   "execution_count": 57,
   "metadata": {},
   "outputs": [
    {
     "name": "stdout",
     "output_type": "stream",
     "text": [
      "test\n"
     ]
    }
   ],
   "source": [
    "#復号化\n",
    "cipher(\"gvhg\")"
   ]
  },
  {
   "cell_type": "code",
   "execution_count": null,
   "metadata": {},
   "outputs": [],
   "source": [
    "#09. Typoglycemia"
   ]
  }
 ],
 "metadata": {
  "kernelspec": {
   "display_name": "Python 3",
   "language": "python",
   "name": "python3"
  },
  "language_info": {
   "codemirror_mode": {
    "name": "ipython",
    "version": 3
   },
   "file_extension": ".py",
   "mimetype": "text/x-python",
   "name": "python",
   "nbconvert_exporter": "python",
   "pygments_lexer": "ipython3",
   "version": "3.6.8"
  }
 },
 "nbformat": 4,
 "nbformat_minor": 2
}
