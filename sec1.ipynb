{
 "cells": [
  {
   "cell_type": "markdown",
   "id": "7a0a2249",
   "metadata": {},
   "source": [
    "# 00. 文字列の逆順"
   ]
  },
  {
   "cell_type": "code",
   "execution_count": 89,
   "id": "b5dcd7ba",
   "metadata": {},
   "outputs": [],
   "source": [
    "s = \"stressed\""
   ]
  },
  {
   "cell_type": "code",
   "execution_count": 90,
   "id": "e5c0dfb0",
   "metadata": {},
   "outputs": [
    {
     "name": "stdout",
     "output_type": "stream",
     "text": [
      "desserts\n"
     ]
    }
   ],
   "source": [
    "print(s[::-1])"
   ]
  },
  {
   "cell_type": "markdown",
   "id": "207726e6",
   "metadata": {},
   "source": [
    "# 01. 「パタトクカシーー」"
   ]
  },
  {
   "cell_type": "code",
   "execution_count": 91,
   "id": "ba1d763e",
   "metadata": {},
   "outputs": [],
   "source": [
    "s = \"パタトクカシーー\""
   ]
  },
  {
   "cell_type": "code",
   "execution_count": 92,
   "id": "87a9f2ee",
   "metadata": {},
   "outputs": [
    {
     "name": "stdout",
     "output_type": "stream",
     "text": [
      "パトカー\n"
     ]
    }
   ],
   "source": [
    "print(s[::2])"
   ]
  },
  {
   "cell_type": "markdown",
   "id": "766fb31b",
   "metadata": {},
   "source": [
    "# 02. 「パトカー」＋「タクシー」＝「パタトクカシーー」"
   ]
  },
  {
   "cell_type": "code",
   "execution_count": 93,
   "id": "93cdc243",
   "metadata": {},
   "outputs": [
    {
     "name": "stdout",
     "output_type": "stream",
     "text": [
      "パタトクカシーー\n"
     ]
    }
   ],
   "source": [
    "str1=\"パトカー\"\n",
    "str2 = \"タクシー\"\n",
    "print(''.join(a+b for a,b in zip(str1,str2)))"
   ]
  },
  {
   "cell_type": "markdown",
   "id": "10b01004",
   "metadata": {},
   "source": [
    "# 03. 円周率"
   ]
  },
  {
   "cell_type": "code",
   "execution_count": 94,
   "id": "8f4e9456",
   "metadata": {},
   "outputs": [
    {
     "name": "stdout",
     "output_type": "stream",
     "text": [
      "[3, 1, 4, 1, 5, 9, 2, 6, 5, 3, 5, 8, 9, 7, 9]\n"
     ]
    }
   ],
   "source": [
    "import re\n",
    "s = \"Now I need a drink, alcoholic of course, after the heavy lectures involving quantum mechanics.\"\n",
    "s = re.sub('[,.]', '', s)\n",
    "\n",
    "l=[]\n",
    "for i in s.split():\n",
    "    l.append(len(i))\n",
    "print(l)"
   ]
  },
  {
   "cell_type": "markdown",
   "id": "7e5b1bf2",
   "metadata": {},
   "source": [
    "# 04. 元素記号Permalink"
   ]
  },
  {
   "cell_type": "code",
   "execution_count": 95,
   "id": "6f255295",
   "metadata": {},
   "outputs": [],
   "source": [
    "s = \"Hi He Lied Because Boron Could Not Oxidize Fluorine. New Nations Might Also Sign Peace Security Clause. Arthur King Can.\""
   ]
  },
  {
   "cell_type": "code",
   "execution_count": 96,
   "id": "00159fcb",
   "metadata": {},
   "outputs": [
    {
     "name": "stdout",
     "output_type": "stream",
     "text": [
      "{'H': 1, 'He': 2, 'Li': 3, 'Be': 4, 'B': 5, 'C': 6, 'N': 7, 'O': 8, 'F': 9, 'Ne': 10, 'Na': 11, 'Mi': 12, 'Al': 13, 'Si': 14, 'P': 15, 'S': 16, 'Cl': 17, 'Ar': 18, 'K': 19, 'Ca': 20}\n"
     ]
    }
   ],
   "source": [
    "s = s.split()\n",
    "lis = [1, 5, 6, 7, 8, 9, 15, 16, 19]\n",
    "\n",
    "dic={}\n",
    "for i,word in enumerate(s):\n",
    "    if i+1 in lis:\n",
    "        dic[word[:1]] = i+1\n",
    "    else:\n",
    "        dic[word[:2]] = i+1\n",
    "        \n",
    "print(dic)"
   ]
  },
  {
   "cell_type": "markdown",
   "id": "d2100363",
   "metadata": {},
   "source": [
    "# 05. n-gram"
   ]
  },
  {
   "cell_type": "code",
   "execution_count": 97,
   "id": "97b33de2",
   "metadata": {},
   "outputs": [
    {
     "name": "stdout",
     "output_type": "stream",
     "text": [
      "[['I', 'am'], ['am', 'an'], ['an', 'NLPer']]\n",
      "['I ', ' a', 'am', 'm ', ' a', 'an', 'n ', ' N', 'NL', 'LP', 'Pe', 'er']\n"
     ]
    }
   ],
   "source": [
    "def n_gram(n,s):\n",
    "    result=[]\n",
    "    for i,word in enumerate(s):\n",
    "        if i + n > len(s):\n",
    "            return result\n",
    "        #print(s[i: i+n])\n",
    "        result.append(s[i: i+n])\n",
    "\n",
    "s=\"I am an NLPer\"\n",
    "#print(s.split())\n",
    "\n",
    "print(n_gram(2,s.split()))\n",
    "print(n_gram(2,s))"
   ]
  },
  {
   "cell_type": "markdown",
   "id": "10ee867c",
   "metadata": {},
   "source": [
    "# 06. 集合"
   ]
  },
  {
   "cell_type": "code",
   "execution_count": 98,
   "id": "1a4634fa",
   "metadata": {},
   "outputs": [
    {
     "name": "stdout",
     "output_type": "stream",
     "text": [
      "X {'se', 'ad', 'ap', 'di', 'ra', 'is', 'ar', 'pa'}\n",
      "Y {'ag', 'ap', 'ra', 'gr', 'ph', 'ar', 'pa'}\n",
      "和集合 {'se', 'ad', 'ap', 'ag', 'di', 'ra', 'gr', 'ph', 'is', 'ar', 'pa'}\n",
      "差集合 {'ad', 'is', 'se', 'di'}\n",
      "積集合 {'ap', 'ra', 'ar', 'pa'}\n",
      "True\n",
      "False\n"
     ]
    }
   ],
   "source": [
    "str1 = \"paraparaparadise\"\n",
    "str2 = \"paragraph\"\n",
    "\n",
    "X = set(n_gram(2,str1))\n",
    "Y = set(n_gram(2,str2))\n",
    "print(\"X\",X)\n",
    "print(\"Y\",Y)\n",
    "\n",
    "print(\"和集合\",X|Y)\n",
    "print(\"差集合\",X-Y)\n",
    "print(\"積集合\",X&Y)\n",
    "\n",
    "print('se' in X)\n",
    "print('se' in Y)"
   ]
  },
  {
   "cell_type": "markdown",
   "id": "9cf34132",
   "metadata": {},
   "source": [
    "# 07. テンプレートによる文生成"
   ]
  },
  {
   "cell_type": "code",
   "execution_count": 99,
   "id": "c1cf5edf",
   "metadata": {},
   "outputs": [
    {
     "name": "stdout",
     "output_type": "stream",
     "text": [
      "12時の気温は22.4\n"
     ]
    }
   ],
   "source": [
    "def f(x,y,z):\n",
    "    print(f'{x}時の{y}は{z}')\n",
    "f(12,\"気温\",22.4)"
   ]
  },
  {
   "cell_type": "markdown",
   "id": "42caaa1c",
   "metadata": {},
   "source": [
    "# 08. 暗号文"
   ]
  },
  {
   "cell_type": "code",
   "execution_count": 100,
   "id": "b43c634a",
   "metadata": {},
   "outputs": [
    {
     "name": "stdout",
     "output_type": "stream",
     "text": [
      "Nld I mvvw z wirmp, zoxlslorx lu xlfihv, zugvi gsv svzeb ovxgfivh rmeloermt jfzmgfn nvxszmrxh.\n",
      "Now I need a drink, alcoholic of course, after the heavy lectures involving quantum mechanics.\n"
     ]
    }
   ],
   "source": [
    "def cipher(s):\n",
    "    ans = \"\"\n",
    "    for i in s:\n",
    "        if i.islower():\n",
    "            ans += chr(219-ord(i))\n",
    "        else:\n",
    "            ans += i\n",
    "    return ans\n",
    "str = \"Now I need a drink, alcoholic of course, after the heavy lectures involving quantum mechanics.\"\n",
    "ans = cipher(str)\n",
    "print(ans)\n",
    "print(cipher(ans))"
   ]
  },
  {
   "cell_type": "markdown",
   "id": "6adb3761",
   "metadata": {},
   "source": [
    "# 09. Typoglycemia"
   ]
  },
  {
   "cell_type": "code",
   "execution_count": 101,
   "id": "562f9f20",
   "metadata": {},
   "outputs": [],
   "source": [
    "import random\n",
    "def typoglycemia(s):\n",
    "    ans = []\n",
    "    lis = s.split()\n",
    "    for i in lis:\n",
    "        if len(i) > 4:\n",
    "            #print(i[1:-1])\n",
    "            ran = ''.join(random.sample(i[1:-1], len(i[1:-1])))\n",
    "            ans.append(i[0]+ran+i[-1])\n",
    "        else:\n",
    "            ans.append(i)\n",
    "    \n",
    "    return ' '.join(ans)"
   ]
  },
  {
   "cell_type": "code",
   "execution_count": 102,
   "id": "2c16cf35",
   "metadata": {},
   "outputs": [
    {
     "name": "stdout",
     "output_type": "stream",
     "text": [
      "I cdo’unlt beevile that I cluod alcluaty urntsedand what I was redniag : the ponhaeemnl peowr of the human mind .\n"
     ]
    }
   ],
   "source": [
    "str = \"I couldn’t believe that I could actually understand what I was reading : the phenomenal power of the human mind .\"\n",
    "print(typoglycemia(str))"
   ]
  },
  {
   "cell_type": "code",
   "execution_count": null,
   "id": "b89d4844",
   "metadata": {},
   "outputs": [],
   "source": []
  }
 ],
 "metadata": {
  "kernelspec": {
   "display_name": "Python 3",
   "language": "python",
   "name": "python3"
  },
  "language_info": {
   "codemirror_mode": {
    "name": "ipython",
    "version": 3
   },
   "file_extension": ".py",
   "mimetype": "text/x-python",
   "name": "python",
   "nbconvert_exporter": "python",
   "pygments_lexer": "ipython3",
   "version": "3.8.8"
  }
 },
 "nbformat": 4,
 "nbformat_minor": 5
}
