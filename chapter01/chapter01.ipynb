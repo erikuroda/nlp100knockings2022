{
 "cells": [
  {
   "cell_type": "markdown",
   "id": "4204ba8a",
   "metadata": {},
   "source": [
    "00. 文字列の逆順\n",
    "文字列”stressed”の文字を逆に（末尾から先頭に向かって）並べた文字列を得よ．"
   ]
  },
  {
   "cell_type": "code",
   "execution_count": 3,
   "id": "4976d8b3",
   "metadata": {},
   "outputs": [
    {
     "name": "stdout",
     "output_type": "stream",
     "text": [
      "desserts\n"
     ]
    }
   ],
   "source": [
    "str = \"stressed\"\n",
    "print(str[::-1])"
   ]
  },
  {
   "cell_type": "markdown",
   "id": "7ab5a58b",
   "metadata": {},
   "source": [
    "01. 「パタトクカシーー」\n",
    "「パタトクカシーー」という文字列の1,3,5,7文字目を取り出して連結した文字列を得よ．"
   ]
  },
  {
   "cell_type": "code",
   "execution_count": 9,
   "id": "38cd3170",
   "metadata": {},
   "outputs": [
    {
     "name": "stdout",
     "output_type": "stream",
     "text": [
      "パトカー\n"
     ]
    }
   ],
   "source": [
    "str = \"パタトクカシーー\"\n",
    "\n",
    "print(str[::2])#[開始位置:終了位置:何個おき]"
   ]
  },
  {
   "cell_type": "markdown",
   "id": "9380d1c1",
   "metadata": {},
   "source": [
    "02. 「パトカー」＋「タクシー」＝「パタトクカシーー」\n",
    "「パトカー」＋「タクシー」の文字を先頭から交互に連結して文字列「パタトクカシーー」を得よ．"
   ]
  },
  {
   "cell_type": "code",
   "execution_count": 29,
   "id": "17a26ea1",
   "metadata": {},
   "outputs": [
    {
     "name": "stdout",
     "output_type": "stream",
     "text": [
      "パタトクカシーー\n"
     ]
    }
   ],
   "source": [
    "str1 = \"パトカー\"\n",
    "str2 = \"タクシー\"\n",
    "\n",
    "str = \"\"\n",
    "\n",
    "for i in range(4):\n",
    "    str = str + str1[i] + str2[i]\n",
    "\n",
    "print(str)"
   ]
  },
  {
   "cell_type": "markdown",
   "id": "403d1d34",
   "metadata": {},
   "source": [
    "03. 円周率\n",
    "“Now I need a drink, alcoholic of course, after the heavy lectures involving quantum mechanics.”という文を単語に分解し，各単語の（アルファベットの）文字数を先頭から出現順に並べたリストを作成せよ．"
   ]
  },
  {
   "cell_type": "code",
   "execution_count": 36,
   "id": "188224f4",
   "metadata": {},
   "outputs": [
    {
     "name": "stdout",
     "output_type": "stream",
     "text": [
      "['Now', 'I', 'need', 'a', 'drink', 'alcoholic', 'of', 'course', 'after', 'the', 'heavy', 'lectures', 'involving', 'quantum', 'mechanics']\n",
      "15\n",
      "[3, 1, 4, 1, 5, 9, 2, 6, 5, 3, 5, 8, 9, 7, 9]\n"
     ]
    }
   ],
   "source": [
    "import re\n",
    "\n",
    "str = \"Now I need a drink, alcoholic of course, after the heavy lectures involving quantum mechanics.\"\n",
    "str = str.replace('.','') #ピリオド消す\n",
    "str = str.replace(',','') #カンマ消す\n",
    "words = str.split(' ') #空白文字で区切る\n",
    "\n",
    "print(words)\n",
    "print(len(words))\n",
    "\n",
    "list = [len(words[i]) for i in range (len(words)) ]\n",
    "\n",
    "print(list)"
   ]
  },
  {
   "cell_type": "markdown",
   "id": "6cd2fe98",
   "metadata": {},
   "source": [
    "04. 元素記号\n",
    "“Hi He Lied Because Boron Could Not Oxidize Fluorine. New Nations Might Also Sign Peace Security Clause. Arthur King Can.”という文を単語に分解し，1, 5, 6, 7, 8, 9, 15, 16, 19番目の単語は先頭の1文字，それ以外の単語は先頭の2文字を取り出し，取り出した文字列から単語の位置（先頭から何番目の単語か）への連想配列（辞書型もしくはマップ型）を作成せよ．"
   ]
  },
  {
   "cell_type": "code",
   "execution_count": 33,
   "id": "ceaaffb5",
   "metadata": {},
   "outputs": [
    {
     "data": {
      "text/plain": [
       "{'H': 1,\n",
       " 'He': 2,\n",
       " 'Li': 3,\n",
       " 'Be': 4,\n",
       " 'B': 5,\n",
       " 'C': 6,\n",
       " 'N': 7,\n",
       " 'O': 8,\n",
       " 'F': 9,\n",
       " 'Ne': 10,\n",
       " 'Na': 11,\n",
       " 'Mi': 12,\n",
       " 'Al': 13,\n",
       " 'Si': 14,\n",
       " 'P': 15,\n",
       " 'S': 16,\n",
       " 'Cl': 17,\n",
       " 'Ar': 18,\n",
       " 'K': 19,\n",
       " 'Ca': 20}"
      ]
     },
     "execution_count": 33,
     "metadata": {},
     "output_type": "execute_result"
    }
   ],
   "source": [
    "str = \"Hi He Lied Because Boron Could Not Oxidize Fluorine. New Nations Might Also Sign Peace Security Clause. Arthur King Can.\"\n",
    "str = str.replace('.','') #ピリオド消す\n",
    "str = str.replace(',','') #カンマ消す\n",
    "words = str.split(' ') #空白文字で区切る\n",
    "\n",
    "num_list = [1, 5, 6, 7, 8, 9, 15, 16, 19]\n",
    "\n",
    "str_to_position = {} #ディクショナリ型\n",
    "\n",
    "for i, word in enumerate(words):\n",
    "    if i+1 in num_list:\n",
    "        str_to_position[word[0]] = i+1\n",
    "    else:\n",
    "        str_to_position[word[:2]] = i+1\n",
    "\n",
    "str_to_position"
   ]
  },
  {
   "cell_type": "markdown",
   "id": "572d8be9",
   "metadata": {},
   "source": [
    "05. n-gram\n",
    "与えられたシーケンス（文字列やリストなど）からn-gramを作る関数を作成せよ．この関数を用い，”I am an NLPer”という文から単語bi-gram，文字bi-gramを得よ．"
   ]
  },
  {
   "cell_type": "code",
   "execution_count": 34,
   "id": "49fe0de8",
   "metadata": {},
   "outputs": [
    {
     "name": "stdout",
     "output_type": "stream",
     "text": [
      "単語bi-gram\n",
      "[['I', 'am'], ['am', 'an'], ['an', 'NLPer']]\n",
      "文字bi-gram\n",
      "['I ', ' a', 'am', 'm ', ' a', 'an', 'n ', ' N', 'NL', 'LP', 'Pe', 'er']\n"
     ]
    }
   ],
   "source": [
    "def ngram(n, str):\n",
    "    #n文字抜き出す\n",
    "    list = []\n",
    "    for idx in range(len(str) - n+1):\n",
    "        #idxからidx+nまで\n",
    "        list.append(str[idx:idx+n])\n",
    "    \n",
    "    return list\n",
    "\n",
    "text = \"I am an NLPer\"\n",
    "print(\"単語bi-gram\")\n",
    "text1 = text.replace('.','')\n",
    "text1 = text1.replace(',','')\n",
    "words = text1.split(' ')\n",
    "\n",
    "print(ngram(2,words))\n",
    "\n",
    "print(\"文字bi-gram\")\n",
    "print(ngram(2,text))"
   ]
  },
  {
   "cell_type": "markdown",
   "id": "196da311",
   "metadata": {},
   "source": [
    "06. 集合\n",
    "“paraparaparadise”と”paragraph”に含まれる文字bi-gramの集合を，それぞれ, XとYとして求め，XとYの和集合，積集合，差集合を求めよ．さらに，’se’というbi-gramがXおよびYに含まれるかどうかを調べよ．"
   ]
  },
  {
   "cell_type": "code",
   "execution_count": 36,
   "id": "82dcf5e3",
   "metadata": {},
   "outputs": [
    {
     "name": "stdout",
     "output_type": "stream",
     "text": [
      "X\n",
      " ['pa', 'ar', 'ra', 'ap', 'pa', 'ar', 'ra', 'ap', 'pa', 'ar', 'ra', 'ad', 'di', 'is', 'se']\n",
      "Y\n",
      " ['pa', 'ar', 'ra', 'ag', 'gr', 'ra', 'ap', 'ph']\n",
      "union\n",
      " {'ra', 'ar', 'ad', 'se', 'pa', 'ph', 'ap', 'ag', 'di', 'is', 'gr'}\n",
      "intersection\n",
      " {'ra', 'ar', 'ap', 'pa'}\n",
      "se in X\n"
     ]
    }
   ],
   "source": [
    "X = ngram(2,\"paraparaparadise\")\n",
    "Y = ngram(2, \"paragraph\")\n",
    "\n",
    "union = set(X) | set(Y) #和集合\n",
    "intersection = set(X) & set(Y) #積集合\n",
    "difference = set(X) - set(Y) #差集合\n",
    "\n",
    "print(\"X\\n\",X)\n",
    "print(\"Y\\n\",Y)\n",
    "print(\"union\\n\",union)\n",
    "print(\"intersection\\n\",intersection)\n",
    "\n",
    "#’se’というbi-gramがXに含まれるかどうか\n",
    "if 'se' in X:\n",
    "    print(\"se in X\")\n",
    "\n",
    "#’se’というbi-gramがYに含まれるかどうか\n",
    "if 'se' in Y:\n",
    "    print(\"se in Y\")"
   ]
  },
  {
   "cell_type": "markdown",
   "id": "46b959ff",
   "metadata": {},
   "source": [
    "07. テンプレートによる文生成\n",
    "引数x, y, zを受け取り「x時のyはz」という文字列を返す関数を実装せよ．さらに，x=12, y=”気温”, z=22.4として，実行結果を確認せよ．"
   ]
  },
  {
   "cell_type": "code",
   "execution_count": 13,
   "id": "7b26b88b",
   "metadata": {},
   "outputs": [
    {
     "name": "stdout",
     "output_type": "stream",
     "text": [
      "12時の気温は22.4\n"
     ]
    }
   ],
   "source": [
    "def make_sentence(x,y,z):\n",
    "    return f\"{x}時の{y}は{z}\"\n",
    "\n",
    "x=12\n",
    "y=\"気温\"\n",
    "z=22.4\n",
    "\n",
    "print(make_sentence(x,y,z))"
   ]
  },
  {
   "cell_type": "markdown",
   "id": "52dfe36c",
   "metadata": {},
   "source": [
    "08. 暗号文\n",
    "与えられた文字列の各文字を，以下の仕様で変換する関数cipherを実装せよ．\n",
    "\n",
    "英小文字ならば(219 - 文字コード)の文字に置換\n",
    "その他の文字はそのまま出力\n",
    "この関数を用い，英語のメッセージを暗号化・復号化せよ．"
   ]
  },
  {
   "cell_type": "code",
   "execution_count": 37,
   "id": "7dbbed27",
   "metadata": {},
   "outputs": [
    {
     "name": "stdout",
     "output_type": "stream",
     "text": [
      "暗号化  mok100pmlxprmt2022\n",
      "復号化  nlp100knocking2022\n"
     ]
    }
   ],
   "source": [
    "def cipher(str):\n",
    "    ans = \"\"\n",
    "    for word in str:\n",
    "        if word.islower(): #英小文字か\n",
    "            ans += chr(219 - ord(word)) #chr(数字) ord('文字') asciiコード<->文字\n",
    "        else:\n",
    "            ans += word\n",
    "    return ans\n",
    "\n",
    "text = \"nlp100knocking2022\"\n",
    "\n",
    "print(\"暗号化 \", cipher(text))\n",
    "print(\"復号化 \", cipher(cipher(text)))   "
   ]
  },
  {
   "cell_type": "markdown",
   "id": "49becc2d",
   "metadata": {},
   "source": [
    "09. Typoglycemia\n",
    "スペースで区切られた単語列に対して，各単語の先頭と末尾の文字は残し，それ以外の文字の順序をランダムに並び替えるプログラムを作成せよ．ただし，長さが４以下の単語は並び替えないこととする．適当な英語の文（例えば”I couldn’t believe that I could actually understand what I was reading : the phenomenal power of the human mind .”）を与え，その実行結果を確認せよ．"
   ]
  },
  {
   "cell_type": "code",
   "execution_count": 38,
   "id": "b83b04c7",
   "metadata": {},
   "outputs": [
    {
     "name": "stdout",
     "output_type": "stream",
     "text": [
      "I clnd’out beevlie that I cluod atluacly uedntasnrd what I was reiadng : the pnamnheoel poewr of the haumn mind .\n"
     ]
    }
   ],
   "source": [
    "import random\n",
    "\n",
    "def typoglycemia(str):\n",
    "    list = []\n",
    "    for word in str.split():\n",
    "        if len(word) < 5: #長さが４以下\n",
    "            list.append(word)\n",
    "        else: #長さが５以上\n",
    "            #先頭そのまま + 並び替えるとリストになるので変換 + 末尾そのマッマ\n",
    "            list.append(word[0] + ''.join(random.sample(word[1:-1], len(word[1:-1]))) + word[-1])\n",
    "    \n",
    "    print(\" \".join(list))\n",
    "\n",
    "text = \"I couldn’t believe that I could actually understand what I was reading : the phenomenal power of the human mind .\"\n",
    "typoglycemia(text)"
   ]
  },
  {
   "cell_type": "code",
   "execution_count": null,
   "id": "4340c3c1",
   "metadata": {},
   "outputs": [],
   "source": []
  }
 ],
 "metadata": {
  "kernelspec": {
   "display_name": "Python 3",
   "language": "python",
   "name": "python3"
  },
  "language_info": {
   "codemirror_mode": {
    "name": "ipython",
    "version": 3
   },
   "file_extension": ".py",
   "mimetype": "text/x-python",
   "name": "python",
   "nbconvert_exporter": "python",
   "pygments_lexer": "ipython3",
   "version": "3.7.7"
  }
 },
 "nbformat": 4,
 "nbformat_minor": 5
}
