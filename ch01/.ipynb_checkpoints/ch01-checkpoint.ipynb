{
 "cells": [
  {
   "cell_type": "markdown",
   "id": "a2c99836",
   "metadata": {},
   "source": [
    "# 00. 文字列の逆順\n",
    "文字列”stressed”の文字を逆に（末尾から先頭に向かって）並べた文字列を得よ．"
   ]
  },
  {
   "cell_type": "code",
   "execution_count": 2,
   "id": "1610e9dd",
   "metadata": {},
   "outputs": [
    {
     "name": "stdout",
     "output_type": "stream",
     "text": [
      "desserts\n"
     ]
    }
   ],
   "source": [
    "str = \"stressed\"\n",
    "new_str = str[::-1]\n",
    "print(new_str)"
   ]
  },
  {
   "cell_type": "markdown",
   "id": "2d176322",
   "metadata": {},
   "source": [
    "# 01. 「パタトクカシーー」\n",
    "「パタトクカシーー」という文字列の1,3,5,7文字目を取り出して連結した文字列を得よ．"
   ]
  },
  {
   "cell_type": "code",
   "execution_count": 3,
   "id": "c1913c8f",
   "metadata": {},
   "outputs": [
    {
     "name": "stdout",
     "output_type": "stream",
     "text": [
      "パトカー\n"
     ]
    }
   ],
   "source": [
    "str = \"パタトクカシーー\"\n",
    "new_str = str[::2]\n",
    "print(new_str)"
   ]
  },
  {
   "cell_type": "markdown",
   "id": "97c6f8d1",
   "metadata": {},
   "source": [
    "# 02. 「パトカー」＋「タクシー」＝「パタトクカシーー」\n",
    "「パトカー」＋「タクシー」の文字を先頭から交互に連結して文字列「パタトクカシーー」を得よ．"
   ]
  },
  {
   "cell_type": "code",
   "execution_count": 4,
   "id": "b86f9ff9",
   "metadata": {},
   "outputs": [
    {
     "name": "stdout",
     "output_type": "stream",
     "text": [
      "パタトクカシーー\n"
     ]
    }
   ],
   "source": [
    "str1 = \"パトカー\"\n",
    "str2 = \"タクシー\"\n",
    "str_list = []\n",
    "for i in range(4):\n",
    "    str_list += str1[i] + str2[i]\n",
    "\n",
    "print(''.join(str_list))"
   ]
  },
  {
   "cell_type": "markdown",
   "id": "7d0cd2cb",
   "metadata": {},
   "source": [
    "# 03. 円周率\n",
    "“Now I need a drink, alcoholic of course, after the heavy lectures involving quantum mechanics.”という文を単語に分解し，各単語の（アルファベットの）文字数を先頭から出現順に並べたリストを作成せよ．"
   ]
  },
  {
   "cell_type": "code",
   "execution_count": 5,
   "id": "858d79a0",
   "metadata": {},
   "outputs": [
    {
     "name": "stdout",
     "output_type": "stream",
     "text": [
      "[3, 1, 4, 1, 5, 9, 2, 6, 5, 3, 5, 8, 9, 7, 9]\n"
     ]
    }
   ],
   "source": [
    "str = \"Now I need a drink, alcoholic of course, after the heavy lectures involving quantum mechanics.\"\n",
    "list = str.split()\n",
    "\n",
    "ans_list = []\n",
    "for i in range(len(list)):\n",
    "    list[i] = list[i].replace(',','')\n",
    "    list[i] = list[i].replace('.', '')\n",
    "    ans_list.append(len(list[i]))\n",
    "\n",
    "print(ans_list)"
   ]
  },
  {
   "cell_type": "markdown",
   "id": "984807f3",
   "metadata": {},
   "source": [
    "# 04. 元素記号\n",
    "“Hi He Lied Because Boron Could Not Oxidize Fluorine. New Nations Might Also Sign Peace Security Clause. Arthur King Can.”という文を単語に分解し，1, 5, 6, 7, 8, 9, 15, 16, 19番目の単語は先頭の1文字，それ以外の単語は先頭の2文字を取り出し，取り出した文字列から単語の位置（先頭から何番目の単語か）への連想配列（辞書型もしくはマップ型）を作成せよ．"
   ]
  },
  {
   "cell_type": "code",
   "execution_count": 6,
   "id": "348c550d",
   "metadata": {},
   "outputs": [
    {
     "name": "stdout",
     "output_type": "stream",
     "text": [
      "{'H': 1, 'He': 2, 'Li': 3, 'Be': 4, 'B': 5, 'C': 6, 'N': 7, 'O': 8, 'F': 9, 'Ne': 10, 'Na': 11, 'Mi': 12, 'Al': 13, 'Si': 14, 'P': 15, 'S': 16, 'Cl': 17, 'Ar': 18, 'K': 19, 'Ca': 20}\n"
     ]
    }
   ],
   "source": [
    "str = \"Hi He Lied Because Boron Could Not Oxidize Fluorine. New Nations Might Also Sign Peace Security Clause. Arthur King Can.\"\n",
    "list = str.split()\n",
    "\n",
    "one = [1, 5, 6, 7, 8, 9, 15, 16, 19]\n",
    "\n",
    "ans_dict = {}\n",
    "for i, word in enumerate(list):\n",
    "    if i + 1 in one:\n",
    "        ans_dict[word[:1]] = i + 1\n",
    "    else:\n",
    "        ans_dict[word[:2]] = i + 1\n",
    "\n",
    "print(ans_dict)"
   ]
  },
  {
   "cell_type": "markdown",
   "id": "b8462315",
   "metadata": {},
   "source": [
    "# 05. n-gram\n",
    "与えられたシーケンス（文字列やリストなど）からn-gramを作る関数を作成せよ．この関数を用い，”I am an NLPer”という文から単語bi-gram，文字bi-gramを得よ．"
   ]
  },
  {
   "cell_type": "code",
   "execution_count": 7,
   "id": "a030c83b",
   "metadata": {},
   "outputs": [],
   "source": [
    "def ngram(list,n):\n",
    "    return [list[i:i+n] for i in range(len(list) - n + 1)]"
   ]
  },
  {
   "cell_type": "code",
   "execution_count": 8,
   "id": "64b9f7f8",
   "metadata": {},
   "outputs": [
    {
     "name": "stdout",
     "output_type": "stream",
     "text": [
      "単語bi-gram: [['I', 'am'], ['am', 'an'], ['an', 'NLPer']]\n",
      "文字bi-gram: ['I ', ' a', 'am', 'm ', ' a', 'an', 'n ', ' N', 'NL', 'LP', 'Pe', 'er']\n"
     ]
    }
   ],
   "source": [
    "str = \"I am an NLPer\"\n",
    "\n",
    "word_bigram = ngram(str.split(),2)\n",
    "char_bigram = ngram(str,2)\n",
    "\n",
    "print(\"単語bi-gram:\", word_bigram)\n",
    "print(\"文字bi-gram:\", char_bigram)"
   ]
  },
  {
   "cell_type": "markdown",
   "id": "393fc0b5",
   "metadata": {},
   "source": [
    "# 06. 集合\n",
    "“paraparaparadise”と”paragraph”に含まれる文字bi-gramの集合を，それぞれ, XとYとして求め，XとYの和集合，積集合，差集合を求めよ．さらに，’se’というbi-gramがXおよびYに含まれるかどうかを調べよ．"
   ]
  },
  {
   "cell_type": "code",
   "execution_count": 9,
   "id": "34aae377",
   "metadata": {},
   "outputs": [
    {
     "name": "stdout",
     "output_type": "stream",
     "text": [
      "X: {'is', 'se', 'ap', 'ad', 'pa', 'ra', 'di', 'ar'}\n",
      "Y: {'ph', 'ap', 'pa', 'ra', 'ar', 'ag', 'gr'}\n",
      "和集合: {'is', 'se', 'ph', 'ap', 'ad', 'pa', 'ra', 'di', 'ar', 'ag', 'gr'}\n",
      "積集合: {'ap', 'ra', 'pa', 'ar'}\n",
      "差集合: {'is', 'ad', 'di', 'se'}\n",
      "Xにseが含まれるか: True\n",
      "Yにseが含まれるか: False\n"
     ]
    }
   ],
   "source": [
    "str1 = 'paraparaparadise'\n",
    "str2 = 'paragraph'\n",
    "X = set(ngram(str1,2))\n",
    "Y = set(ngram(str2,2))\n",
    "union = X | Y\n",
    "intersection = X & Y\n",
    "difference = X - Y\n",
    "\n",
    "print('X:', X)\n",
    "print('Y:', Y)\n",
    "print('和集合:', union)\n",
    "print('積集合:', intersection)\n",
    "print('差集合:', difference)\n",
    "print('Xにseが含まれるか:', {('se')} <= X)\n",
    "print('Yにseが含まれるか:', {('se')} <= Y)"
   ]
  },
  {
   "cell_type": "markdown",
   "id": "caf6ed41",
   "metadata": {},
   "source": [
    "# 07. テンプレートによる文生成\n",
    "引数x, y, zを受け取り「x時のyはz」という文字列を返す関数を実装せよ．さらに，x=12, y=”気温”, z=22.4として，実行結果を確認せよ．"
   ]
  },
  {
   "cell_type": "code",
   "execution_count": 19,
   "id": "49da6768",
   "metadata": {},
   "outputs": [],
   "source": [
    "def sentence(x,y,z):\n",
    "    print(f'{x}時の{y}は{z}')"
   ]
  },
  {
   "cell_type": "code",
   "execution_count": 20,
   "id": "a8e8d604",
   "metadata": {},
   "outputs": [
    {
     "name": "stdout",
     "output_type": "stream",
     "text": [
      "12時の気温は22.4\n"
     ]
    }
   ],
   "source": [
    "sentence(x=12, y=\"気温\", z=22.4)"
   ]
  },
  {
   "cell_type": "markdown",
   "id": "e03dc208",
   "metadata": {},
   "source": [
    "# 08. 暗号文\n",
    "与えられた文字列の各文字を，以下の仕様で変換する関数cipherを実装せよ．\n",
    "\n",
    "英小文字ならば(219 - 文字コード)の文字に置換\n",
    "その他の文字はそのまま出力  \n",
    "この関数を用い，英語のメッセージを暗号化・復号化せよ．"
   ]
  },
  {
   "cell_type": "code",
   "execution_count": 21,
   "id": "21983272",
   "metadata": {},
   "outputs": [],
   "source": [
    "def cipher(str):\n",
    "    ans = [chr(219 - ord(x)) if x.islower() else x for x in str]\n",
    "    return ''.join(ans)"
   ]
  },
  {
   "cell_type": "code",
   "execution_count": 22,
   "id": "87c7cd72",
   "metadata": {},
   "outputs": [
    {
     "name": "stdout",
     "output_type": "stream",
     "text": [
      "暗号化: Nld I mvvw z wirmp, zoxlslorx lu xlfihv, zugvi gsv svzeb ovxgfivh rmeloermt jfzmgfn nvxszmrxh.\n",
      "復号化: Now I need a drink, alcoholic of course, after the heavy lectures involving quantum mechanics.\n"
     ]
    }
   ],
   "source": [
    "sentence = \"Now I need a drink, alcoholic of course, after the heavy lectures involving quantum mechanics.\"\n",
    "\n",
    "sentence = cipher(sentence)\n",
    "print(\"暗号化:\",sentence)\n",
    "sentence = cipher(sentence)\n",
    "print(\"復号化:\",sentence)"
   ]
  },
  {
   "cell_type": "markdown",
   "id": "79a7bac4",
   "metadata": {},
   "source": [
    "# 09. Typoglycemia\n",
    "スペースで区切られた単語列に対して，各単語の先頭と末尾の文字は残し，それ以外の文字の順序をランダムに並び替えるプログラムを作成せよ．ただし，長さが４以下の単語は並び替えないこととする．適当な英語の文（例えば”I couldn’t believe that I could actually understand what I was reading : the phenomenal power of the human mind .”）を与え，その実行結果を確認せよ．"
   ]
  },
  {
   "cell_type": "code",
   "execution_count": 23,
   "id": "d49d709f",
   "metadata": {},
   "outputs": [],
   "source": [
    "import random\n",
    "\n",
    "def shuffle(str):\n",
    "    ans = []\n",
    "    for word in str.split():\n",
    "        if len(word) > 4:\n",
    "            word = word[:1] + ''.join(random.sample(word[1:-1],len(word)-2)) + word[-1:]\n",
    "        ans.append(word)\n",
    "    return ' '.join(ans)"
   ]
  },
  {
   "cell_type": "code",
   "execution_count": 24,
   "id": "3edec383",
   "metadata": {},
   "outputs": [
    {
     "name": "stdout",
     "output_type": "stream",
     "text": [
      "I codnul’t bieelve that I could altualcy unadstenrd what I was rnaedig : the pmnenoehal poewr of the haumn mind .\n"
     ]
    }
   ],
   "source": [
    "sentence =\"I couldn’t believe that I could actually understand what I was reading : the phenomenal power of the human mind .\"\n",
    "\n",
    "ans = shuffle(sentence)\n",
    "print(ans)"
   ]
  }
 ],
 "metadata": {
  "kernelspec": {
   "display_name": "Python 3",
   "language": "python",
   "name": "python3"
  },
  "language_info": {
   "codemirror_mode": {
    "name": "ipython",
    "version": 3
   },
   "file_extension": ".py",
   "mimetype": "text/x-python",
   "name": "python",
   "nbconvert_exporter": "python",
   "pygments_lexer": "ipython3",
   "version": "3.7.10"
  }
 },
 "nbformat": 4,
 "nbformat_minor": 5
}
