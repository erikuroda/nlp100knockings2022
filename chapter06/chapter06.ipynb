{
 "cells": [
  {
   "cell_type": "markdown",
   "id": "cfd0e4b6",
   "metadata": {},
   "source": [
    "# 5月11日 第6章：機械学習（50〜54）"
   ]
  },
  {
   "cell_type": "markdown",
   "id": "fc1b6416",
   "metadata": {},
   "source": [
    "本章では，Fabio Gasparetti氏が公開しているNews Aggregator Data Setを用い，ニュース記事の見出しを「ビジネス」「科学技術」「エンターテイメント」「健康」のカテゴリに分類するタスク（カテゴリ分類）に取り組む．"
   ]
  },
  {
   "cell_type": "markdown",
   "id": "baa89139",
   "metadata": {},
   "source": [
    "## 50. データの入手・整形"
   ]
  },
  {
   "cell_type": "markdown",
   "id": "3f13c66f",
   "metadata": {},
   "source": [
    "News Aggregator Data Setをダウンロードし、以下の要領で学習データ（train.txt），検証データ（valid.txt），評価データ（test.txt）を作成せよ．"
   ]
  },
  {
   "cell_type": "markdown",
   "id": "518526cc",
   "metadata": {},
   "source": [
    "1, ダウンロードしたzipファイルを解凍し，readme.txtの説明を読む．"
   ]
  },
  {
   "cell_type": "code",
   "execution_count": null,
   "id": "1cd5f6ec",
   "metadata": {},
   "outputs": [],
   "source": [
    "DATA SHAPE AND STATS: 422937 news pages and divided up into:\n",
    "        \n",
    "FORMAT: ID \\t TITLE \\t URL \\t PUBLISHER \\t CATEGORY \\t STORY \\t HOSTNAME \\t TIMESTAMP"
   ]
  },
  {
   "cell_type": "markdown",
   "id": "99f32de8",
   "metadata": {},
   "source": [
    "2, 情報源（publisher）が”Reuters”, “Huffington Post”, “Businessweek”, “Contactmusic.com”, “Daily Mail”の事例（記事）のみを抽出する．"
   ]
  },
  {
   "cell_type": "code",
   "execution_count": 5,
   "id": "8e730cd0",
   "metadata": {},
   "outputs": [],
   "source": [
    "import pandas as pd"
   ]
  },
  {
   "cell_type": "code",
   "execution_count": 6,
   "id": "5dfc3f65",
   "metadata": {},
   "outputs": [],
   "source": [
    "# データをロード\n",
    "column_names = ['ID', 'TITLE', 'URL', 'PUBLISHER', 'CATEGORY', 'STORY', 'HOSTNAME', 'TIMESTAMP']\n",
    "data = pd.read_table('data/NewsAggregatorDataset/newsCorpora.csv', names = column_names, quoting=3, header=None)"
   ]
  },
  {
   "cell_type": "code",
   "execution_count": 7,
   "id": "c0492e93",
   "metadata": {},
   "outputs": [
    {
     "data": {
      "text/html": [
       "<div>\n",
       "<style scoped>\n",
       "    .dataframe tbody tr th:only-of-type {\n",
       "        vertical-align: middle;\n",
       "    }\n",
       "\n",
       "    .dataframe tbody tr th {\n",
       "        vertical-align: top;\n",
       "    }\n",
       "\n",
       "    .dataframe thead th {\n",
       "        text-align: right;\n",
       "    }\n",
       "</style>\n",
       "<table border=\"1\" class=\"dataframe\">\n",
       "  <thead>\n",
       "    <tr style=\"text-align: right;\">\n",
       "      <th></th>\n",
       "      <th>ID</th>\n",
       "      <th>TITLE</th>\n",
       "      <th>URL</th>\n",
       "      <th>PUBLISHER</th>\n",
       "      <th>CATEGORY</th>\n",
       "      <th>STORY</th>\n",
       "      <th>HOSTNAME</th>\n",
       "      <th>TIMESTAMP</th>\n",
       "    </tr>\n",
       "  </thead>\n",
       "  <tbody>\n",
       "    <tr>\n",
       "      <th>0</th>\n",
       "      <td>1</td>\n",
       "      <td>Fed official says weak data caused by weather,...</td>\n",
       "      <td>http://www.latimes.com/business/money/la-fi-mo...</td>\n",
       "      <td>Los Angeles Times</td>\n",
       "      <td>b</td>\n",
       "      <td>ddUyU0VZz0BRneMioxUPQVP6sIxvM</td>\n",
       "      <td>www.latimes.com</td>\n",
       "      <td>1394470370698</td>\n",
       "    </tr>\n",
       "    <tr>\n",
       "      <th>1</th>\n",
       "      <td>2</td>\n",
       "      <td>Fed's Charles Plosser sees high bar for change...</td>\n",
       "      <td>http://www.livemint.com/Politics/H2EvwJSK2VE6O...</td>\n",
       "      <td>Livemint</td>\n",
       "      <td>b</td>\n",
       "      <td>ddUyU0VZz0BRneMioxUPQVP6sIxvM</td>\n",
       "      <td>www.livemint.com</td>\n",
       "      <td>1394470371207</td>\n",
       "    </tr>\n",
       "    <tr>\n",
       "      <th>2</th>\n",
       "      <td>3</td>\n",
       "      <td>US open: Stocks fall after Fed official hints ...</td>\n",
       "      <td>http://www.ifamagazine.com/news/us-open-stocks...</td>\n",
       "      <td>IFA Magazine</td>\n",
       "      <td>b</td>\n",
       "      <td>ddUyU0VZz0BRneMioxUPQVP6sIxvM</td>\n",
       "      <td>www.ifamagazine.com</td>\n",
       "      <td>1394470371550</td>\n",
       "    </tr>\n",
       "    <tr>\n",
       "      <th>3</th>\n",
       "      <td>4</td>\n",
       "      <td>Fed risks falling 'behind the curve', Charles ...</td>\n",
       "      <td>http://www.ifamagazine.com/news/fed-risks-fall...</td>\n",
       "      <td>IFA Magazine</td>\n",
       "      <td>b</td>\n",
       "      <td>ddUyU0VZz0BRneMioxUPQVP6sIxvM</td>\n",
       "      <td>www.ifamagazine.com</td>\n",
       "      <td>1394470371793</td>\n",
       "    </tr>\n",
       "    <tr>\n",
       "      <th>4</th>\n",
       "      <td>5</td>\n",
       "      <td>Fed's Plosser: Nasty Weather Has Curbed Job Gr...</td>\n",
       "      <td>http://www.moneynews.com/Economy/federal-reser...</td>\n",
       "      <td>Moneynews</td>\n",
       "      <td>b</td>\n",
       "      <td>ddUyU0VZz0BRneMioxUPQVP6sIxvM</td>\n",
       "      <td>www.moneynews.com</td>\n",
       "      <td>1394470372027</td>\n",
       "    </tr>\n",
       "  </tbody>\n",
       "</table>\n",
       "</div>"
      ],
      "text/plain": [
       "   ID                                              TITLE  \\\n",
       "0   1  Fed official says weak data caused by weather,...   \n",
       "1   2  Fed's Charles Plosser sees high bar for change...   \n",
       "2   3  US open: Stocks fall after Fed official hints ...   \n",
       "3   4  Fed risks falling 'behind the curve', Charles ...   \n",
       "4   5  Fed's Plosser: Nasty Weather Has Curbed Job Gr...   \n",
       "\n",
       "                                                 URL          PUBLISHER  \\\n",
       "0  http://www.latimes.com/business/money/la-fi-mo...  Los Angeles Times   \n",
       "1  http://www.livemint.com/Politics/H2EvwJSK2VE6O...           Livemint   \n",
       "2  http://www.ifamagazine.com/news/us-open-stocks...       IFA Magazine   \n",
       "3  http://www.ifamagazine.com/news/fed-risks-fall...       IFA Magazine   \n",
       "4  http://www.moneynews.com/Economy/federal-reser...          Moneynews   \n",
       "\n",
       "  CATEGORY                          STORY             HOSTNAME      TIMESTAMP  \n",
       "0        b  ddUyU0VZz0BRneMioxUPQVP6sIxvM      www.latimes.com  1394470370698  \n",
       "1        b  ddUyU0VZz0BRneMioxUPQVP6sIxvM     www.livemint.com  1394470371207  \n",
       "2        b  ddUyU0VZz0BRneMioxUPQVP6sIxvM  www.ifamagazine.com  1394470371550  \n",
       "3        b  ddUyU0VZz0BRneMioxUPQVP6sIxvM  www.ifamagazine.com  1394470371793  \n",
       "4        b  ddUyU0VZz0BRneMioxUPQVP6sIxvM    www.moneynews.com  1394470372027  "
      ]
     },
     "execution_count": 7,
     "metadata": {},
     "output_type": "execute_result"
    }
   ],
   "source": [
    "# ５行目まで見てみる\n",
    "data.head()"
   ]
  },
  {
   "cell_type": "code",
   "execution_count": 8,
   "id": "64d3c03b",
   "metadata": {},
   "outputs": [
    {
     "name": "stdout",
     "output_type": "stream",
     "text": [
      "<class 'pandas.core.frame.DataFrame'>\n",
      "RangeIndex: 422937 entries, 0 to 422936\n",
      "Data columns (total 8 columns):\n",
      " #   Column     Non-Null Count   Dtype \n",
      "---  ------     --------------   ----- \n",
      " 0   ID         422937 non-null  int64 \n",
      " 1   TITLE      422937 non-null  object\n",
      " 2   URL        422937 non-null  object\n",
      " 3   PUBLISHER  422935 non-null  object\n",
      " 4   CATEGORY   422937 non-null  object\n",
      " 5   STORY      422937 non-null  object\n",
      " 6   HOSTNAME   422937 non-null  object\n",
      " 7   TIMESTAMP  422937 non-null  int64 \n",
      "dtypes: int64(2), object(6)\n",
      "memory usage: 25.8+ MB\n"
     ]
    }
   ],
   "source": [
    "# readme.txtの数値と合っているか\n",
    "data.info()"
   ]
  },
  {
   "cell_type": "code",
   "execution_count": 9,
   "id": "27e9ad9d",
   "metadata": {},
   "outputs": [],
   "source": [
    "# 情報源（publisher）が”Reuters”, “Huffington Post”, “Businessweek”, “Contactmusic.com”, “Daily Mail”の事例（記事）のみを抽出\n",
    "ex_data = data[data['PUBLISHER'].isin(['Reuters', 'Huffington Post', 'Businessweek', 'Contactmusic.com', 'Daily Mail'])]"
   ]
  },
  {
   "cell_type": "code",
   "execution_count": 10,
   "id": "00934bb1",
   "metadata": {},
   "outputs": [
    {
     "name": "stdout",
     "output_type": "stream",
     "text": [
      "<class 'pandas.core.frame.DataFrame'>\n",
      "Int64Index: 13356 entries, 12 to 422837\n",
      "Data columns (total 8 columns):\n",
      " #   Column     Non-Null Count  Dtype \n",
      "---  ------     --------------  ----- \n",
      " 0   ID         13356 non-null  int64 \n",
      " 1   TITLE      13356 non-null  object\n",
      " 2   URL        13356 non-null  object\n",
      " 3   PUBLISHER  13356 non-null  object\n",
      " 4   CATEGORY   13356 non-null  object\n",
      " 5   STORY      13356 non-null  object\n",
      " 6   HOSTNAME   13356 non-null  object\n",
      " 7   TIMESTAMP  13356 non-null  int64 \n",
      "dtypes: int64(2), object(6)\n",
      "memory usage: 939.1+ KB\n"
     ]
    }
   ],
   "source": [
    "ex_data.info()"
   ]
  },
  {
   "cell_type": "code",
   "execution_count": 11,
   "id": "3fdfb509",
   "metadata": {},
   "outputs": [
    {
     "data": {
      "text/html": [
       "<div>\n",
       "<style scoped>\n",
       "    .dataframe tbody tr th:only-of-type {\n",
       "        vertical-align: middle;\n",
       "    }\n",
       "\n",
       "    .dataframe tbody tr th {\n",
       "        vertical-align: top;\n",
       "    }\n",
       "\n",
       "    .dataframe thead th {\n",
       "        text-align: right;\n",
       "    }\n",
       "</style>\n",
       "<table border=\"1\" class=\"dataframe\">\n",
       "  <thead>\n",
       "    <tr style=\"text-align: right;\">\n",
       "      <th></th>\n",
       "      <th>ID</th>\n",
       "      <th>TITLE</th>\n",
       "      <th>URL</th>\n",
       "      <th>PUBLISHER</th>\n",
       "      <th>CATEGORY</th>\n",
       "      <th>STORY</th>\n",
       "      <th>HOSTNAME</th>\n",
       "      <th>TIMESTAMP</th>\n",
       "    </tr>\n",
       "  </thead>\n",
       "  <tbody>\n",
       "    <tr>\n",
       "      <th>12</th>\n",
       "      <td>13</td>\n",
       "      <td>Europe reaches crunch point on banking union</td>\n",
       "      <td>http://in.reuters.com/article/2014/03/10/eu-ba...</td>\n",
       "      <td>Reuters</td>\n",
       "      <td>b</td>\n",
       "      <td>dPhGU51DcrolUIMxbRm0InaHGA2XM</td>\n",
       "      <td>in.reuters.com</td>\n",
       "      <td>1394470501755</td>\n",
       "    </tr>\n",
       "    <tr>\n",
       "      <th>13</th>\n",
       "      <td>14</td>\n",
       "      <td>ECB FOCUS-Stronger euro drowns out ECB's messa...</td>\n",
       "      <td>http://in.reuters.com/article/2014/03/10/ecb-p...</td>\n",
       "      <td>Reuters</td>\n",
       "      <td>b</td>\n",
       "      <td>dPhGU51DcrolUIMxbRm0InaHGA2XM</td>\n",
       "      <td>in.reuters.com</td>\n",
       "      <td>1394470501948</td>\n",
       "    </tr>\n",
       "    <tr>\n",
       "      <th>19</th>\n",
       "      <td>20</td>\n",
       "      <td>Euro Anxieties Wane as Bunds Top Treasuries, S...</td>\n",
       "      <td>http://www.businessweek.com/news/2014-03-10/ge...</td>\n",
       "      <td>Businessweek</td>\n",
       "      <td>b</td>\n",
       "      <td>dPhGU51DcrolUIMxbRm0InaHGA2XM</td>\n",
       "      <td>www.businessweek.com</td>\n",
       "      <td>1394470503148</td>\n",
       "    </tr>\n",
       "    <tr>\n",
       "      <th>20</th>\n",
       "      <td>21</td>\n",
       "      <td>Noyer Says Strong Euro Creates Unwarranted Eco...</td>\n",
       "      <td>http://www.businessweek.com/news/2014-03-10/no...</td>\n",
       "      <td>Businessweek</td>\n",
       "      <td>b</td>\n",
       "      <td>dPhGU51DcrolUIMxbRm0InaHGA2XM</td>\n",
       "      <td>www.businessweek.com</td>\n",
       "      <td>1394470503366</td>\n",
       "    </tr>\n",
       "    <tr>\n",
       "      <th>29</th>\n",
       "      <td>30</td>\n",
       "      <td>REFILE-Bad loan triggers key feature in ECB ba...</td>\n",
       "      <td>http://in.reuters.com/article/2014/03/10/euroz...</td>\n",
       "      <td>Reuters</td>\n",
       "      <td>b</td>\n",
       "      <td>dPhGU51DcrolUIMxbRm0InaHGA2XM</td>\n",
       "      <td>in.reuters.com</td>\n",
       "      <td>1394470505070</td>\n",
       "    </tr>\n",
       "  </tbody>\n",
       "</table>\n",
       "</div>"
      ],
      "text/plain": [
       "    ID                                              TITLE  \\\n",
       "12  13       Europe reaches crunch point on banking union   \n",
       "13  14  ECB FOCUS-Stronger euro drowns out ECB's messa...   \n",
       "19  20  Euro Anxieties Wane as Bunds Top Treasuries, S...   \n",
       "20  21  Noyer Says Strong Euro Creates Unwarranted Eco...   \n",
       "29  30  REFILE-Bad loan triggers key feature in ECB ba...   \n",
       "\n",
       "                                                  URL     PUBLISHER CATEGORY  \\\n",
       "12  http://in.reuters.com/article/2014/03/10/eu-ba...       Reuters        b   \n",
       "13  http://in.reuters.com/article/2014/03/10/ecb-p...       Reuters        b   \n",
       "19  http://www.businessweek.com/news/2014-03-10/ge...  Businessweek        b   \n",
       "20  http://www.businessweek.com/news/2014-03-10/no...  Businessweek        b   \n",
       "29  http://in.reuters.com/article/2014/03/10/euroz...       Reuters        b   \n",
       "\n",
       "                            STORY              HOSTNAME      TIMESTAMP  \n",
       "12  dPhGU51DcrolUIMxbRm0InaHGA2XM        in.reuters.com  1394470501755  \n",
       "13  dPhGU51DcrolUIMxbRm0InaHGA2XM        in.reuters.com  1394470501948  \n",
       "19  dPhGU51DcrolUIMxbRm0InaHGA2XM  www.businessweek.com  1394470503148  \n",
       "20  dPhGU51DcrolUIMxbRm0InaHGA2XM  www.businessweek.com  1394470503366  \n",
       "29  dPhGU51DcrolUIMxbRm0InaHGA2XM        in.reuters.com  1394470505070  "
      ]
     },
     "execution_count": 11,
     "metadata": {},
     "output_type": "execute_result"
    }
   ],
   "source": [
    "ex_data.head()"
   ]
  },
  {
   "cell_type": "markdown",
   "id": "7a3767c0",
   "metadata": {},
   "source": [
    "3, 抽出された事例をランダムに並び替える．"
   ]
  },
  {
   "cell_type": "code",
   "execution_count": 12,
   "id": "9d7490b6",
   "metadata": {},
   "outputs": [],
   "source": [
    "random_data = ex_data.sample(frac=1, random_state=0)"
   ]
  },
  {
   "cell_type": "code",
   "execution_count": 13,
   "id": "332d79f8",
   "metadata": {},
   "outputs": [
    {
     "data": {
      "text/html": [
       "<div>\n",
       "<style scoped>\n",
       "    .dataframe tbody tr th:only-of-type {\n",
       "        vertical-align: middle;\n",
       "    }\n",
       "\n",
       "    .dataframe tbody tr th {\n",
       "        vertical-align: top;\n",
       "    }\n",
       "\n",
       "    .dataframe thead th {\n",
       "        text-align: right;\n",
       "    }\n",
       "</style>\n",
       "<table border=\"1\" class=\"dataframe\">\n",
       "  <thead>\n",
       "    <tr style=\"text-align: right;\">\n",
       "      <th></th>\n",
       "      <th>ID</th>\n",
       "      <th>TITLE</th>\n",
       "      <th>URL</th>\n",
       "      <th>PUBLISHER</th>\n",
       "      <th>CATEGORY</th>\n",
       "      <th>STORY</th>\n",
       "      <th>HOSTNAME</th>\n",
       "      <th>TIMESTAMP</th>\n",
       "    </tr>\n",
       "  </thead>\n",
       "  <tbody>\n",
       "    <tr>\n",
       "      <th>334746</th>\n",
       "      <td>334747</td>\n",
       "      <td>Bulgaria's third biggest lender says no restri...</td>\n",
       "      <td>http://in.reuters.com/article/2014/06/27/bulga...</td>\n",
       "      <td>Reuters</td>\n",
       "      <td>b</td>\n",
       "      <td>dJLBdQIaAqzVUxMzFcv71jd5V1euM</td>\n",
       "      <td>in.reuters.com</td>\n",
       "      <td>1404149507072</td>\n",
       "    </tr>\n",
       "    <tr>\n",
       "      <th>357853</th>\n",
       "      <td>357854</td>\n",
       "      <td>Party tents go up on the eve of Jessica Simpso...</td>\n",
       "      <td>http://www.dailymail.co.uk/video/tvshowbiz/vid...</td>\n",
       "      <td>Daily Mail</td>\n",
       "      <td>e</td>\n",
       "      <td>dwGxjawm4kYU7uMpkgRpycMQo_S7M</td>\n",
       "      <td>www.dailymail.co.uk</td>\n",
       "      <td>1404527471166</td>\n",
       "    </tr>\n",
       "    <tr>\n",
       "      <th>38297</th>\n",
       "      <td>38298</td>\n",
       "      <td>UK shares slide on China growth concerns, geop...</td>\n",
       "      <td>http://www.reuters.com/article/2014/03/24/mark...</td>\n",
       "      <td>Reuters</td>\n",
       "      <td>b</td>\n",
       "      <td>dy4Cp8QXtnAf7GM6kbWPIW1gpw70M</td>\n",
       "      <td>www.reuters.com</td>\n",
       "      <td>1395754740123</td>\n",
       "    </tr>\n",
       "    <tr>\n",
       "      <th>274239</th>\n",
       "      <td>274240</td>\n",
       "      <td>Scott Derrickson To Direct \"Dr. Strange\" - Are...</td>\n",
       "      <td>http://www.contactmusic.com/article/scott-derr...</td>\n",
       "      <td>Contactmusic.com</td>\n",
       "      <td>e</td>\n",
       "      <td>dN7NEV1sHHBk0eMRfbmDKZUlDaRGM</td>\n",
       "      <td>www.contactmusic.com</td>\n",
       "      <td>1401896447281</td>\n",
       "    </tr>\n",
       "    <tr>\n",
       "      <th>215372</th>\n",
       "      <td>215373</td>\n",
       "      <td>Obama dedicates National September 11 Memorial...</td>\n",
       "      <td>http://www.dailymail.co.uk/news/article-262936...</td>\n",
       "      <td>Daily Mail</td>\n",
       "      <td>e</td>\n",
       "      <td>dwh1spramOeghdMJWFxXs-sGvWB5M</td>\n",
       "      <td>www.dailymail.co.uk</td>\n",
       "      <td>1400395587302</td>\n",
       "    </tr>\n",
       "  </tbody>\n",
       "</table>\n",
       "</div>"
      ],
      "text/plain": [
       "            ID                                              TITLE  \\\n",
       "334746  334747  Bulgaria's third biggest lender says no restri...   \n",
       "357853  357854  Party tents go up on the eve of Jessica Simpso...   \n",
       "38297    38298  UK shares slide on China growth concerns, geop...   \n",
       "274239  274240  Scott Derrickson To Direct \"Dr. Strange\" - Are...   \n",
       "215372  215373  Obama dedicates National September 11 Memorial...   \n",
       "\n",
       "                                                      URL         PUBLISHER  \\\n",
       "334746  http://in.reuters.com/article/2014/06/27/bulga...           Reuters   \n",
       "357853  http://www.dailymail.co.uk/video/tvshowbiz/vid...        Daily Mail   \n",
       "38297   http://www.reuters.com/article/2014/03/24/mark...           Reuters   \n",
       "274239  http://www.contactmusic.com/article/scott-derr...  Contactmusic.com   \n",
       "215372  http://www.dailymail.co.uk/news/article-262936...        Daily Mail   \n",
       "\n",
       "       CATEGORY                          STORY              HOSTNAME  \\\n",
       "334746        b  dJLBdQIaAqzVUxMzFcv71jd5V1euM        in.reuters.com   \n",
       "357853        e  dwGxjawm4kYU7uMpkgRpycMQo_S7M   www.dailymail.co.uk   \n",
       "38297         b  dy4Cp8QXtnAf7GM6kbWPIW1gpw70M       www.reuters.com   \n",
       "274239        e  dN7NEV1sHHBk0eMRfbmDKZUlDaRGM  www.contactmusic.com   \n",
       "215372        e  dwh1spramOeghdMJWFxXs-sGvWB5M   www.dailymail.co.uk   \n",
       "\n",
       "            TIMESTAMP  \n",
       "334746  1404149507072  \n",
       "357853  1404527471166  \n",
       "38297   1395754740123  \n",
       "274239  1401896447281  \n",
       "215372  1400395587302  "
      ]
     },
     "execution_count": 13,
     "metadata": {},
     "output_type": "execute_result"
    }
   ],
   "source": [
    "random_data.head()"
   ]
  },
  {
   "cell_type": "markdown",
   "id": "9cf81fc2",
   "metadata": {},
   "source": [
    "4, 抽出された事例の80%を学習データ，残りの10%ずつを検証データと評価データに分割し，それぞれtrain.txt，valid.txt，test.txtというファイル名で保存する．ファイルには，１行に１事例を書き出すこととし，カテゴリ名と記事見出しのタブ区切り形式とせよ（このファイルは後に問題70で再利用する）．"
   ]
  },
  {
   "cell_type": "code",
   "execution_count": 14,
   "id": "1698500f",
   "metadata": {},
   "outputs": [
    {
     "data": {
      "text/plain": [
       "13356"
      ]
     },
     "execution_count": 14,
     "metadata": {},
     "output_type": "execute_result"
    }
   ],
   "source": [
    "len(random_data)"
   ]
  },
  {
   "cell_type": "code",
   "execution_count": 15,
   "id": "f70c3fd3",
   "metadata": {},
   "outputs": [
    {
     "name": "stdout",
     "output_type": "stream",
     "text": [
      "13356\n"
     ]
    }
   ],
   "source": [
    "# random_dataからカテゴリとタイトルだけ取り出す\n",
    "df = random_data[['TITLE', 'CATEGORY']]\n",
    "\n",
    "print(len(df))"
   ]
  },
  {
   "cell_type": "code",
   "execution_count": 16,
   "id": "1ce46bec",
   "metadata": {},
   "outputs": [
    {
     "data": {
      "text/html": [
       "<div>\n",
       "<style scoped>\n",
       "    .dataframe tbody tr th:only-of-type {\n",
       "        vertical-align: middle;\n",
       "    }\n",
       "\n",
       "    .dataframe tbody tr th {\n",
       "        vertical-align: top;\n",
       "    }\n",
       "\n",
       "    .dataframe thead th {\n",
       "        text-align: right;\n",
       "    }\n",
       "</style>\n",
       "<table border=\"1\" class=\"dataframe\">\n",
       "  <thead>\n",
       "    <tr style=\"text-align: right;\">\n",
       "      <th></th>\n",
       "      <th>TITLE</th>\n",
       "      <th>CATEGORY</th>\n",
       "    </tr>\n",
       "  </thead>\n",
       "  <tbody>\n",
       "    <tr>\n",
       "      <th>334746</th>\n",
       "      <td>Bulgaria's third biggest lender says no restri...</td>\n",
       "      <td>b</td>\n",
       "    </tr>\n",
       "    <tr>\n",
       "      <th>357853</th>\n",
       "      <td>Party tents go up on the eve of Jessica Simpso...</td>\n",
       "      <td>e</td>\n",
       "    </tr>\n",
       "    <tr>\n",
       "      <th>38297</th>\n",
       "      <td>UK shares slide on China growth concerns, geop...</td>\n",
       "      <td>b</td>\n",
       "    </tr>\n",
       "    <tr>\n",
       "      <th>274239</th>\n",
       "      <td>Scott Derrickson To Direct \"Dr. Strange\" - Are...</td>\n",
       "      <td>e</td>\n",
       "    </tr>\n",
       "    <tr>\n",
       "      <th>215372</th>\n",
       "      <td>Obama dedicates National September 11 Memorial...</td>\n",
       "      <td>e</td>\n",
       "    </tr>\n",
       "  </tbody>\n",
       "</table>\n",
       "</div>"
      ],
      "text/plain": [
       "                                                    TITLE CATEGORY\n",
       "334746  Bulgaria's third biggest lender says no restri...        b\n",
       "357853  Party tents go up on the eve of Jessica Simpso...        e\n",
       "38297   UK shares slide on China growth concerns, geop...        b\n",
       "274239  Scott Derrickson To Direct \"Dr. Strange\" - Are...        e\n",
       "215372  Obama dedicates National September 11 Memorial...        e"
      ]
     },
     "execution_count": 16,
     "metadata": {},
     "output_type": "execute_result"
    }
   ],
   "source": [
    "df.head()"
   ]
  },
  {
   "cell_type": "code",
   "execution_count": 17,
   "id": "813c1711",
   "metadata": {},
   "outputs": [],
   "source": [
    "# データ分割\n",
    "\n",
    "# 学習データ数 trainNum\n",
    "trainNum = int(len(df)*0.8)\n",
    "# 学習データ\n",
    "train = df[:trainNum]\n",
    "\n",
    "# 90%\n",
    "n_Num = int(len(df)*0.9)\n",
    "\n",
    "# 検証データ\n",
    "valid = df[trainNum:n_Num]\n",
    "# 評価データ\n",
    "test = df[n_Num:]"
   ]
  },
  {
   "cell_type": "code",
   "execution_count": 18,
   "id": "ad5777d4",
   "metadata": {},
   "outputs": [
    {
     "name": "stdout",
     "output_type": "stream",
     "text": [
      "10684\n",
      "12020\n",
      "22704\n"
     ]
    }
   ],
   "source": [
    "print(trainNum)\n",
    "print(n_Num)\n",
    "print(trainNum+n_Num)"
   ]
  },
  {
   "cell_type": "code",
   "execution_count": 19,
   "id": "d71cb28e",
   "metadata": {},
   "outputs": [
    {
     "name": "stdout",
     "output_type": "stream",
     "text": [
      "10684\n",
      "1336\n",
      "1336\n"
     ]
    }
   ],
   "source": [
    "print(len(train))\n",
    "print(len(valid))\n",
    "print(len(test))"
   ]
  },
  {
   "cell_type": "code",
   "execution_count": 20,
   "id": "4438af3a",
   "metadata": {},
   "outputs": [],
   "source": [
    "# ファイルに保存\n",
    "train.to_csv('train.txt', sep='\\t')\n",
    "valid.to_csv('valid.txt', sep='\\t')\n",
    "test.to_csv('test.txt', sep='\\t')"
   ]
  },
  {
   "cell_type": "markdown",
   "id": "cf35518b",
   "metadata": {},
   "source": [
    "学習データと評価データを作成したら，各カテゴリの事例数を確認せよ．"
   ]
  },
  {
   "cell_type": "code",
   "execution_count": 21,
   "id": "33eb9dd1",
   "metadata": {},
   "outputs": [
    {
     "name": "stdout",
     "output_type": "stream",
     "text": [
      "学習データ\n",
      "b    4508\n",
      "e    4221\n",
      "t    1226\n",
      "m     729\n",
      "Name: CATEGORY, dtype: int64\n",
      "検証データ\n",
      "b    558\n",
      "e    541\n",
      "t    145\n",
      "m     92\n",
      "Name: CATEGORY, dtype: int64\n",
      "評価データ\n",
      "b    561\n",
      "e    532\n",
      "t    154\n",
      "m     89\n",
      "Name: CATEGORY, dtype: int64\n"
     ]
    }
   ],
   "source": [
    "# 事例数を確認\n",
    "print(\"学習データ\")\n",
    "print(train['CATEGORY'].value_counts())\n",
    "print(\"検証データ\")\n",
    "print(valid['CATEGORY'].value_counts())\n",
    "print(\"評価データ\")\n",
    "print(test['CATEGORY'].value_counts())"
   ]
  },
  {
   "cell_type": "code",
   "execution_count": null,
   "id": "b674e5e4",
   "metadata": {},
   "outputs": [],
   "source": []
  },
  {
   "cell_type": "markdown",
   "id": "fb9a449d",
   "metadata": {},
   "source": [
    "## 51. 特徴量抽出"
   ]
  },
  {
   "cell_type": "markdown",
   "id": "3e8821c1",
   "metadata": {},
   "source": [
    "学習データ，検証データ，評価データから特徴量を抽出し，それぞれtrain.feature.txt，valid.feature.txt，test.feature.txtというファイル名で保存せよ． なお，カテゴリ分類に有用そうな特徴量は各自で自由に設計せよ．記事の見出しを単語列に変換したものが最低限のベースラインとなるであろう．"
   ]
  },
  {
   "cell_type": "code",
   "execution_count": 22,
   "id": "ce8453cd",
   "metadata": {},
   "outputs": [
    {
     "name": "stdout",
     "output_type": "stream",
     "text": [
      "Vocabulary size: 7\n",
      "Vocabulary content: {'apple': 0, 'computer': 1, 'of': 4, 'the': 5, 'mark': 3, 'linux': 2, 'windows': 6}\n"
     ]
    }
   ],
   "source": [
    "import pandas as pd\n",
    "import numpy as np\n",
    "from sklearn.feature_extraction.text import CountVectorizer\n",
    "\n",
    "# ベクトル化する文字列\n",
    "sample = np.array(['Apple computer of the apple mark', 'linux computer', 'windows computer'])\n",
    "\n",
    "# CountVectorizer\n",
    "vec_count = CountVectorizer()\n",
    "\n",
    "# ベクトル化\n",
    "vec_count.fit(sample)\n",
    "X = vec_count.transform(sample)\n",
    "\n",
    "print('Vocabulary size: {}'.format(len(vec_count.vocabulary_)))\n",
    "print('Vocabulary content: {}'.format(vec_count.vocabulary_))"
   ]
  },
  {
   "cell_type": "code",
   "execution_count": 23,
   "id": "9d379898",
   "metadata": {
    "scrolled": true
   },
   "outputs": [
    {
     "data": {
      "text/html": [
       "<div>\n",
       "<style scoped>\n",
       "    .dataframe tbody tr th:only-of-type {\n",
       "        vertical-align: middle;\n",
       "    }\n",
       "\n",
       "    .dataframe tbody tr th {\n",
       "        vertical-align: top;\n",
       "    }\n",
       "\n",
       "    .dataframe thead th {\n",
       "        text-align: right;\n",
       "    }\n",
       "</style>\n",
       "<table border=\"1\" class=\"dataframe\">\n",
       "  <thead>\n",
       "    <tr style=\"text-align: right;\">\n",
       "      <th></th>\n",
       "      <th>apple</th>\n",
       "      <th>computer</th>\n",
       "      <th>linux</th>\n",
       "      <th>mark</th>\n",
       "      <th>of</th>\n",
       "      <th>the</th>\n",
       "      <th>windows</th>\n",
       "    </tr>\n",
       "  </thead>\n",
       "  <tbody>\n",
       "    <tr>\n",
       "      <th>0</th>\n",
       "      <td>2</td>\n",
       "      <td>1</td>\n",
       "      <td>0</td>\n",
       "      <td>1</td>\n",
       "      <td>1</td>\n",
       "      <td>1</td>\n",
       "      <td>0</td>\n",
       "    </tr>\n",
       "    <tr>\n",
       "      <th>1</th>\n",
       "      <td>0</td>\n",
       "      <td>1</td>\n",
       "      <td>1</td>\n",
       "      <td>0</td>\n",
       "      <td>0</td>\n",
       "      <td>0</td>\n",
       "      <td>0</td>\n",
       "    </tr>\n",
       "    <tr>\n",
       "      <th>2</th>\n",
       "      <td>0</td>\n",
       "      <td>1</td>\n",
       "      <td>0</td>\n",
       "      <td>0</td>\n",
       "      <td>0</td>\n",
       "      <td>0</td>\n",
       "      <td>1</td>\n",
       "    </tr>\n",
       "  </tbody>\n",
       "</table>\n",
       "</div>"
      ],
      "text/plain": [
       "   apple  computer  linux  mark  of  the  windows\n",
       "0      2         1      0     1   1    1        0\n",
       "1      0         1      1     0   0    0        0\n",
       "2      0         1      0     0   0    0        1"
      ]
     },
     "execution_count": 23,
     "metadata": {},
     "output_type": "execute_result"
    }
   ],
   "source": [
    "pd.DataFrame(X.toarray(), columns=vec_count.get_feature_names())"
   ]
  },
  {
   "cell_type": "code",
   "execution_count": null,
   "id": "593e5d20",
   "metadata": {},
   "outputs": [],
   "source": []
  },
  {
   "cell_type": "code",
   "execution_count": 24,
   "id": "74d81c6b",
   "metadata": {},
   "outputs": [],
   "source": [
    "from sklearn.feature_extraction.text import CountVectorizer\n",
    "\n",
    "# CountVectorizer\n",
    "cv = CountVectorizer()\n",
    "\n",
    "# ベクトル化\n",
    "cv_train = cv.fit_transform(train['TITLE'])\n",
    "cv_valid = cv.transform(valid['TITLE'])\n",
    "cv_test = cv.transform(test['TITLE'])\n",
    "\n",
    "# Dataframeの作成\n",
    "feature_train = pd.DataFrame(cv_train.toarray(), columns=cv.get_feature_names())\n",
    "feature_valid = pd.DataFrame(cv_valid.toarray(), columns=cv.get_feature_names())\n",
    "feature_test = pd.DataFrame(cv_test.toarray(), columns=cv.get_feature_names())"
   ]
  },
  {
   "cell_type": "code",
   "execution_count": 25,
   "id": "960a8a2c",
   "metadata": {},
   "outputs": [],
   "source": [
    "# ファイルに保存\n",
    "feature_train.to_csv('train.feature.txt', sep='\\t')\n",
    "feature_valid.to_csv('valid.feature.txt', sep='\\t')\n",
    "feature_test.to_csv('test.feature.txt', sep='\\t')"
   ]
  },
  {
   "cell_type": "code",
   "execution_count": null,
   "id": "22706ac6",
   "metadata": {},
   "outputs": [],
   "source": []
  },
  {
   "cell_type": "markdown",
   "id": "c1bbb24c",
   "metadata": {},
   "source": [
    "## 52. 学習"
   ]
  },
  {
   "cell_type": "markdown",
   "id": "4438ad1e",
   "metadata": {},
   "source": [
    "51で構築した学習データを用いて，ロジスティック回帰モデルを学習せよ．"
   ]
  },
  {
   "cell_type": "code",
   "execution_count": 26,
   "id": "e60bf5c8",
   "metadata": {},
   "outputs": [],
   "source": [
    "from sklearn.linear_model import LogisticRegression"
   ]
  },
  {
   "cell_type": "code",
   "execution_count": 27,
   "id": "b0a6f960",
   "metadata": {},
   "outputs": [
    {
     "name": "stderr",
     "output_type": "stream",
     "text": [
      "/opt/anaconda3/lib/python3.7/site-packages/sklearn/linear_model/_logistic.py:765: ConvergenceWarning: lbfgs failed to converge (status=1):\n",
      "STOP: TOTAL NO. of ITERATIONS REACHED LIMIT.\n",
      "\n",
      "Increase the number of iterations (max_iter) or scale the data as shown in:\n",
      "    https://scikit-learn.org/stable/modules/preprocessing.html\n",
      "Please also refer to the documentation for alternative solver options:\n",
      "    https://scikit-learn.org/stable/modules/linear_model.html#logistic-regression\n",
      "  extra_warning_msg=_LOGISTIC_SOLVER_CONVERGENCE_MSG)\n"
     ]
    },
    {
     "data": {
      "text/plain": [
       "LogisticRegression()"
      ]
     },
     "execution_count": 27,
     "metadata": {},
     "output_type": "execute_result"
    }
   ],
   "source": [
    "lr = LogisticRegression()\n",
    "lr.fit(feature_train, train['CATEGORY'])"
   ]
  },
  {
   "cell_type": "markdown",
   "id": "1184de97",
   "metadata": {},
   "source": [
    "↑ 引数max_iterのデフォルト100回で収束しなかった\n",
    "→ 回数を増やす"
   ]
  },
  {
   "cell_type": "code",
   "execution_count": 28,
   "id": "4933bb32",
   "metadata": {},
   "outputs": [
    {
     "data": {
      "text/plain": [
       "LogisticRegression(max_iter=200)"
      ]
     },
     "execution_count": 28,
     "metadata": {},
     "output_type": "execute_result"
    }
   ],
   "source": [
    "lr = LogisticRegression(max_iter=200)\n",
    "lr.fit(feature_train, train['CATEGORY'])"
   ]
  },
  {
   "cell_type": "markdown",
   "id": "df9000e1",
   "metadata": {},
   "source": [
    "## 53. 予測"
   ]
  },
  {
   "cell_type": "markdown",
   "id": "740dbfb3",
   "metadata": {},
   "source": [
    "52で学習したロジスティック回帰モデルを用い，与えられた記事見出しからカテゴリとその予測確率を計算するプログラムを実装せよ．"
   ]
  },
  {
   "cell_type": "markdown",
   "id": "d2124db4",
   "metadata": {},
   "source": [
    "### 失敗"
   ]
  },
  {
   "cell_type": "code",
   "execution_count": 26,
   "id": "f6037ed1",
   "metadata": {},
   "outputs": [],
   "source": [
    "def predict_title(title):\n",
    "    \n",
    "    #title = np.array([title])\n",
    "    title = [title]\n",
    "    \n",
    "    # ベクトル化\n",
    "    cv_title = cv.fit_transform(title)\n",
    "    \n",
    "    # Dataframeの作成\n",
    "    f_title = pd.DataFrame(cv_title.toarray(), columns=cv.get_feature_names())\n",
    "    \n",
    "    # Predict class labels for samples in X.\n",
    "    preds = lr.predict(f_title)\n",
    "    \n",
    "    # Returns the probability of the sample for each class in the model, where classes are ordered as they are in self.classes_.\n",
    "    probs = lr.predict_proba(f_title)\n",
    "    prob = probs.max(axis=1)\n",
    "    \n",
    "    return preds, prob"
   ]
  },
  {
   "cell_type": "code",
   "execution_count": 96,
   "id": "093e35c3",
   "metadata": {
    "scrolled": true
   },
   "outputs": [
    {
     "name": "stdout",
     "output_type": "stream",
     "text": [
      "Bulgaria's third biggest lender says no restrictions on operations\n",
      "(1,)\n"
     ]
    },
    {
     "ename": "ValueError",
     "evalue": "X has 9 features per sample; expecting 12753",
     "output_type": "error",
     "traceback": [
      "\u001b[0;31m---------------------------------------------------------------------------\u001b[0m",
      "\u001b[0;31mValueError\u001b[0m                                Traceback (most recent call last)",
      "\u001b[0;32m<ipython-input-96-676fe252104e>\u001b[0m in \u001b[0;36m<module>\u001b[0;34m\u001b[0m\n\u001b[1;32m      3\u001b[0m \u001b[0mprint\u001b[0m\u001b[0;34m(\u001b[0m\u001b[0mnp\u001b[0m\u001b[0;34m.\u001b[0m\u001b[0marray\u001b[0m\u001b[0;34m(\u001b[0m\u001b[0;34m[\u001b[0m\u001b[0mtext\u001b[0m\u001b[0;34m]\u001b[0m\u001b[0;34m)\u001b[0m\u001b[0;34m.\u001b[0m\u001b[0mshape\u001b[0m\u001b[0;34m)\u001b[0m\u001b[0;34m\u001b[0m\u001b[0;34m\u001b[0m\u001b[0m\n\u001b[1;32m      4\u001b[0m \u001b[0;34m\u001b[0m\u001b[0m\n\u001b[0;32m----> 5\u001b[0;31m \u001b[0mp\u001b[0m \u001b[0;34m=\u001b[0m \u001b[0mpredict_title\u001b[0m\u001b[0;34m(\u001b[0m\u001b[0mtext\u001b[0m\u001b[0;34m)\u001b[0m\u001b[0;34m\u001b[0m\u001b[0;34m\u001b[0m\u001b[0m\n\u001b[0m",
      "\u001b[0;32m<ipython-input-95-77327c4546b8>\u001b[0m in \u001b[0;36mpredict_title\u001b[0;34m(title)\u001b[0m\n\u001b[1;32m     11\u001b[0m \u001b[0;34m\u001b[0m\u001b[0m\n\u001b[1;32m     12\u001b[0m     \u001b[0;31m# Predict class labels for samples in X.\u001b[0m\u001b[0;34m\u001b[0m\u001b[0;34m\u001b[0m\u001b[0;34m\u001b[0m\u001b[0m\n\u001b[0;32m---> 13\u001b[0;31m     \u001b[0mpreds\u001b[0m \u001b[0;34m=\u001b[0m \u001b[0mlr\u001b[0m\u001b[0;34m.\u001b[0m\u001b[0mpredict\u001b[0m\u001b[0;34m(\u001b[0m\u001b[0mf_title\u001b[0m\u001b[0;34m)\u001b[0m\u001b[0;34m\u001b[0m\u001b[0;34m\u001b[0m\u001b[0m\n\u001b[0m\u001b[1;32m     14\u001b[0m \u001b[0;34m\u001b[0m\u001b[0m\n\u001b[1;32m     15\u001b[0m     \u001b[0;31m# Returns the probability of the sample for each class in the model, where classes are ordered as they are in self.classes_.\u001b[0m\u001b[0;34m\u001b[0m\u001b[0;34m\u001b[0m\u001b[0;34m\u001b[0m\u001b[0m\n",
      "\u001b[0;32m/opt/anaconda3/lib/python3.7/site-packages/sklearn/linear_model/_base.py\u001b[0m in \u001b[0;36mpredict\u001b[0;34m(self, X)\u001b[0m\n\u001b[1;32m    307\u001b[0m             \u001b[0mPredicted\u001b[0m \u001b[0;32mclass\u001b[0m \u001b[0mlabel\u001b[0m \u001b[0mper\u001b[0m \u001b[0msample\u001b[0m\u001b[0;34m.\u001b[0m\u001b[0;34m\u001b[0m\u001b[0;34m\u001b[0m\u001b[0m\n\u001b[1;32m    308\u001b[0m         \"\"\"\n\u001b[0;32m--> 309\u001b[0;31m         \u001b[0mscores\u001b[0m \u001b[0;34m=\u001b[0m \u001b[0mself\u001b[0m\u001b[0;34m.\u001b[0m\u001b[0mdecision_function\u001b[0m\u001b[0;34m(\u001b[0m\u001b[0mX\u001b[0m\u001b[0;34m)\u001b[0m\u001b[0;34m\u001b[0m\u001b[0;34m\u001b[0m\u001b[0m\n\u001b[0m\u001b[1;32m    310\u001b[0m         \u001b[0;32mif\u001b[0m \u001b[0mlen\u001b[0m\u001b[0;34m(\u001b[0m\u001b[0mscores\u001b[0m\u001b[0;34m.\u001b[0m\u001b[0mshape\u001b[0m\u001b[0;34m)\u001b[0m \u001b[0;34m==\u001b[0m \u001b[0;36m1\u001b[0m\u001b[0;34m:\u001b[0m\u001b[0;34m\u001b[0m\u001b[0;34m\u001b[0m\u001b[0m\n\u001b[1;32m    311\u001b[0m             \u001b[0mindices\u001b[0m \u001b[0;34m=\u001b[0m \u001b[0;34m(\u001b[0m\u001b[0mscores\u001b[0m \u001b[0;34m>\u001b[0m \u001b[0;36m0\u001b[0m\u001b[0;34m)\u001b[0m\u001b[0;34m.\u001b[0m\u001b[0mastype\u001b[0m\u001b[0;34m(\u001b[0m\u001b[0mint\u001b[0m\u001b[0;34m)\u001b[0m\u001b[0;34m\u001b[0m\u001b[0;34m\u001b[0m\u001b[0m\n",
      "\u001b[0;32m/opt/anaconda3/lib/python3.7/site-packages/sklearn/linear_model/_base.py\u001b[0m in \u001b[0;36mdecision_function\u001b[0;34m(self, X)\u001b[0m\n\u001b[1;32m    287\u001b[0m         \u001b[0;32mif\u001b[0m \u001b[0mX\u001b[0m\u001b[0;34m.\u001b[0m\u001b[0mshape\u001b[0m\u001b[0;34m[\u001b[0m\u001b[0;36m1\u001b[0m\u001b[0;34m]\u001b[0m \u001b[0;34m!=\u001b[0m \u001b[0mn_features\u001b[0m\u001b[0;34m:\u001b[0m\u001b[0;34m\u001b[0m\u001b[0;34m\u001b[0m\u001b[0m\n\u001b[1;32m    288\u001b[0m             raise ValueError(\"X has %d features per sample; expecting %d\"\n\u001b[0;32m--> 289\u001b[0;31m                              % (X.shape[1], n_features))\n\u001b[0m\u001b[1;32m    290\u001b[0m \u001b[0;34m\u001b[0m\u001b[0m\n\u001b[1;32m    291\u001b[0m         scores = safe_sparse_dot(X, self.coef_.T,\n",
      "\u001b[0;31mValueError\u001b[0m: X has 9 features per sample; expecting 12753"
     ]
    }
   ],
   "source": [
    "text = train.iloc[0]['TITLE']\n",
    "print(text)\n",
    "print(np.array([text]).shape)\n",
    "\n",
    "p = predict_title(text)"
   ]
  },
  {
   "cell_type": "code",
   "execution_count": null,
   "id": "797ff915",
   "metadata": {},
   "outputs": [],
   "source": []
  },
  {
   "cell_type": "code",
   "execution_count": 79,
   "id": "5cf17415",
   "metadata": {},
   "outputs": [
    {
     "name": "stdout",
     "output_type": "stream",
     "text": [
      "Bulgaria's third biggest lender says no restrictions on operations\n",
      "Vocabulary size: 9\n",
      "Vocabulary content: {'bulgaria': 1, 'third': 8, 'biggest': 0, 'lender': 2, 'says': 7, 'no': 3, 'restrictions': 6, 'on': 4, 'operations': 5}\n"
     ]
    }
   ],
   "source": [
    "text = train.iloc[0]['TITLE']\n",
    "print(text)\n",
    "\n",
    "# ベクトル化する文字列\n",
    "sample = np.array([text])\n",
    "\n",
    "# ベクトル化\n",
    "vec_count.fit(sample)\n",
    "X = vec_count.transform(sample)\n",
    "\n",
    "print('Vocabulary size: {}'.format(len(vec_count.vocabulary_)))\n",
    "print('Vocabulary content: {}'.format(vec_count.vocabulary_))"
   ]
  },
  {
   "cell_type": "code",
   "execution_count": 80,
   "id": "81208a39",
   "metadata": {},
   "outputs": [
    {
     "data": {
      "text/html": [
       "<div>\n",
       "<style scoped>\n",
       "    .dataframe tbody tr th:only-of-type {\n",
       "        vertical-align: middle;\n",
       "    }\n",
       "\n",
       "    .dataframe tbody tr th {\n",
       "        vertical-align: top;\n",
       "    }\n",
       "\n",
       "    .dataframe thead th {\n",
       "        text-align: right;\n",
       "    }\n",
       "</style>\n",
       "<table border=\"1\" class=\"dataframe\">\n",
       "  <thead>\n",
       "    <tr style=\"text-align: right;\">\n",
       "      <th></th>\n",
       "      <th>biggest</th>\n",
       "      <th>bulgaria</th>\n",
       "      <th>lender</th>\n",
       "      <th>no</th>\n",
       "      <th>on</th>\n",
       "      <th>operations</th>\n",
       "      <th>restrictions</th>\n",
       "      <th>says</th>\n",
       "      <th>third</th>\n",
       "    </tr>\n",
       "  </thead>\n",
       "  <tbody>\n",
       "    <tr>\n",
       "      <th>0</th>\n",
       "      <td>1</td>\n",
       "      <td>1</td>\n",
       "      <td>1</td>\n",
       "      <td>1</td>\n",
       "      <td>1</td>\n",
       "      <td>1</td>\n",
       "      <td>1</td>\n",
       "      <td>1</td>\n",
       "      <td>1</td>\n",
       "    </tr>\n",
       "  </tbody>\n",
       "</table>\n",
       "</div>"
      ],
      "text/plain": [
       "   biggest  bulgaria  lender  no  on  operations  restrictions  says  third\n",
       "0        1         1       1   1   1           1             1     1      1"
      ]
     },
     "execution_count": 80,
     "metadata": {},
     "output_type": "execute_result"
    }
   ],
   "source": [
    "pd.DataFrame(X.toarray(), columns=vec_count.get_feature_names())"
   ]
  },
  {
   "cell_type": "code",
   "execution_count": null,
   "id": "5523252e",
   "metadata": {},
   "outputs": [],
   "source": []
  },
  {
   "cell_type": "code",
   "execution_count": 66,
   "id": "e5b11f4d",
   "metadata": {},
   "outputs": [
    {
     "name": "stdout",
     "output_type": "stream",
     "text": [
      "(10684, 12753)\n",
      "   00  07  08  09  0ff  10  100  1000  10000  100000  ...  zombie  zombies  \\\n",
      "0   0   0   0   0    0   0    0     0      0       0  ...       0        0   \n",
      "1   0   0   0   0    0   0    0     0      0       0  ...       0        0   \n",
      "2   0   0   0   0    0   0    0     0      0       0  ...       0        0   \n",
      "3   0   0   0   0    0   0    0     0      0       0  ...       0        0   \n",
      "4   0   0   0   0    0   0    0     0      0       0  ...       0        0   \n",
      "\n",
      "   zone  zooey  zoosk  zuckerberg  zynga  zâ  œlousyâ  œwaist  \n",
      "0     0      0      0           0      0   0        0       0  \n",
      "1     0      0      0           0      0   0        0       0  \n",
      "2     0      0      0           0      0   0        0       0  \n",
      "3     0      0      0           0      0   0        0       0  \n",
      "4     0      0      0           0      0   0        0       0  \n",
      "\n",
      "[5 rows x 12753 columns]\n"
     ]
    }
   ],
   "source": [
    "print(feature_train.shape)\n",
    "print(feature_train.head())"
   ]
  },
  {
   "cell_type": "code",
   "execution_count": null,
   "id": "90dc1eaa",
   "metadata": {},
   "outputs": [],
   "source": []
  },
  {
   "cell_type": "code",
   "execution_count": null,
   "id": "cd844eb2",
   "metadata": {},
   "outputs": [],
   "source": []
  },
  {
   "cell_type": "markdown",
   "id": "26fec8b2",
   "metadata": {},
   "source": [
    "### ここから"
   ]
  },
  {
   "cell_type": "code",
   "execution_count": 29,
   "id": "e06a0e97",
   "metadata": {},
   "outputs": [],
   "source": [
    "def predict(x):\n",
    "    # Predict class labels for samples in X.\n",
    "    preds = lr.predict(x)\n",
    "    \n",
    "    # Returns the probability of the sample for each class in the model, where classes are ordered as they are in self.classes_.\n",
    "    probs = lr.predict_proba(x)\n",
    "    prob = probs.max(axis=1)\n",
    "    \n",
    "    return preds, prob"
   ]
  },
  {
   "cell_type": "code",
   "execution_count": 30,
   "id": "6c5b321e",
   "metadata": {},
   "outputs": [
    {
     "data": {
      "text/html": [
       "<div>\n",
       "<style scoped>\n",
       "    .dataframe tbody tr th:only-of-type {\n",
       "        vertical-align: middle;\n",
       "    }\n",
       "\n",
       "    .dataframe tbody tr th {\n",
       "        vertical-align: top;\n",
       "    }\n",
       "\n",
       "    .dataframe thead th {\n",
       "        text-align: right;\n",
       "    }\n",
       "</style>\n",
       "<table border=\"1\" class=\"dataframe\">\n",
       "  <thead>\n",
       "    <tr style=\"text-align: right;\">\n",
       "      <th></th>\n",
       "      <th>カテゴリ</th>\n",
       "      <th>予測確率</th>\n",
       "    </tr>\n",
       "  </thead>\n",
       "  <tbody>\n",
       "    <tr>\n",
       "      <th>0</th>\n",
       "      <td>b</td>\n",
       "      <td>0.937278</td>\n",
       "    </tr>\n",
       "    <tr>\n",
       "      <th>1</th>\n",
       "      <td>e</td>\n",
       "      <td>0.987322</td>\n",
       "    </tr>\n",
       "    <tr>\n",
       "      <th>2</th>\n",
       "      <td>b</td>\n",
       "      <td>0.999373</td>\n",
       "    </tr>\n",
       "    <tr>\n",
       "      <th>3</th>\n",
       "      <td>e</td>\n",
       "      <td>0.931490</td>\n",
       "    </tr>\n",
       "    <tr>\n",
       "      <th>4</th>\n",
       "      <td>e</td>\n",
       "      <td>0.846639</td>\n",
       "    </tr>\n",
       "    <tr>\n",
       "      <th>...</th>\n",
       "      <td>...</td>\n",
       "      <td>...</td>\n",
       "    </tr>\n",
       "    <tr>\n",
       "      <th>10679</th>\n",
       "      <td>e</td>\n",
       "      <td>0.941925</td>\n",
       "    </tr>\n",
       "    <tr>\n",
       "      <th>10680</th>\n",
       "      <td>e</td>\n",
       "      <td>0.967567</td>\n",
       "    </tr>\n",
       "    <tr>\n",
       "      <th>10681</th>\n",
       "      <td>b</td>\n",
       "      <td>0.946685</td>\n",
       "    </tr>\n",
       "    <tr>\n",
       "      <th>10682</th>\n",
       "      <td>e</td>\n",
       "      <td>0.948272</td>\n",
       "    </tr>\n",
       "    <tr>\n",
       "      <th>10683</th>\n",
       "      <td>e</td>\n",
       "      <td>0.947654</td>\n",
       "    </tr>\n",
       "  </tbody>\n",
       "</table>\n",
       "<p>10684 rows × 2 columns</p>\n",
       "</div>"
      ],
      "text/plain": [
       "      カテゴリ      予測確率\n",
       "0        b  0.937278\n",
       "1        e  0.987322\n",
       "2        b  0.999373\n",
       "3        e  0.931490\n",
       "4        e  0.846639\n",
       "...    ...       ...\n",
       "10679    e  0.941925\n",
       "10680    e  0.967567\n",
       "10681    b  0.946685\n",
       "10682    e  0.948272\n",
       "10683    e  0.947654\n",
       "\n",
       "[10684 rows x 2 columns]"
      ]
     },
     "execution_count": 30,
     "metadata": {},
     "output_type": "execute_result"
    }
   ],
   "source": [
    "preds, prob = predict(feature_train)\n",
    "\n",
    "pd.DataFrame([[y, p] for y, p in zip(preds, prob)], columns = ['カテゴリ', '予測確率'])\n",
    "#print(preds)\n",
    "#print(probs)"
   ]
  },
  {
   "cell_type": "code",
   "execution_count": null,
   "id": "fc36ae1a",
   "metadata": {},
   "outputs": [],
   "source": []
  },
  {
   "cell_type": "code",
   "execution_count": null,
   "id": "01635865",
   "metadata": {},
   "outputs": [],
   "source": []
  },
  {
   "cell_type": "markdown",
   "id": "4cf325d5",
   "metadata": {},
   "source": [
    "## 54. 正解率の計測"
   ]
  },
  {
   "cell_type": "markdown",
   "id": "fd38c7ae",
   "metadata": {},
   "source": [
    "52で学習したロジスティック回帰モデルの正解率を，学習データおよび評価データ上で計測せよ．"
   ]
  },
  {
   "cell_type": "code",
   "execution_count": 31,
   "id": "dc2e0503",
   "metadata": {},
   "outputs": [],
   "source": [
    "def accuracy(xs, ts):\n",
    "    # 予測カテゴリー\n",
    "    ys = lr.predict(xs)\n",
    "    \n",
    "    return (ys == ts).mean()"
   ]
  },
  {
   "cell_type": "code",
   "execution_count": 32,
   "id": "9e3b0036",
   "metadata": {
    "scrolled": true
   },
   "outputs": [
    {
     "name": "stdout",
     "output_type": "stream",
     "text": [
      "学習データ\n",
      "0.9965368775739424\n"
     ]
    }
   ],
   "source": [
    "#train_preds, train_prob = predict(feature_train)\n",
    "\n",
    "print('学習データ')\n",
    "print(accuracy(feature_train, train['CATEGORY']))"
   ]
  },
  {
   "cell_type": "code",
   "execution_count": 33,
   "id": "0b9b2b26",
   "metadata": {
    "scrolled": true
   },
   "outputs": [
    {
     "name": "stdout",
     "output_type": "stream",
     "text": [
      "評価データ\n",
      "0.907185628742515\n"
     ]
    }
   ],
   "source": [
    "print('評価データ')\n",
    "print(accuracy(feature_test, test['CATEGORY']))"
   ]
  },
  {
   "cell_type": "code",
   "execution_count": null,
   "id": "df07e94b",
   "metadata": {},
   "outputs": [],
   "source": []
  },
  {
   "cell_type": "markdown",
   "id": "de7d8eb8",
   "metadata": {},
   "source": [
    "# 5月18日 第6章：機械学習（55〜59）"
   ]
  },
  {
   "cell_type": "markdown",
   "id": "4bef310c",
   "metadata": {},
   "source": [
    "## 55. 混同行列の作成"
   ]
  },
  {
   "cell_type": "markdown",
   "id": "bd508ec0",
   "metadata": {},
   "source": [
    "52で学習したロジスティック回帰モデルの混同行列（confusion matrix）を，学習データおよび評価データ上で作成せよ．"
   ]
  },
  {
   "cell_type": "code",
   "execution_count": 34,
   "id": "0c138b4b",
   "metadata": {},
   "outputs": [],
   "source": [
    "from sklearn.metrics import confusion_matrix"
   ]
  },
  {
   "cell_type": "code",
   "execution_count": 35,
   "id": "91d74dde",
   "metadata": {},
   "outputs": [],
   "source": [
    "# 学習データ \n",
    "train_pred, train_probs = predict(feature_train)\n",
    "\n",
    "train_confusion = confusion_matrix(train_pred, train['CATEGORY'])"
   ]
  },
  {
   "cell_type": "code",
   "execution_count": 36,
   "id": "fe0e9153",
   "metadata": {},
   "outputs": [
    {
     "data": {
      "text/html": [
       "<div>\n",
       "<style scoped>\n",
       "    .dataframe tbody tr th:only-of-type {\n",
       "        vertical-align: middle;\n",
       "    }\n",
       "\n",
       "    .dataframe tbody tr th {\n",
       "        vertical-align: top;\n",
       "    }\n",
       "\n",
       "    .dataframe thead th {\n",
       "        text-align: right;\n",
       "    }\n",
       "</style>\n",
       "<table border=\"1\" class=\"dataframe\">\n",
       "  <thead>\n",
       "    <tr style=\"text-align: right;\">\n",
       "      <th></th>\n",
       "      <th>Pred b</th>\n",
       "      <th>Pred e</th>\n",
       "      <th>Pred t</th>\n",
       "      <th>Pred m</th>\n",
       "    </tr>\n",
       "  </thead>\n",
       "  <tbody>\n",
       "    <tr>\n",
       "      <th>b</th>\n",
       "      <td>4499</td>\n",
       "      <td>6</td>\n",
       "      <td>2</td>\n",
       "      <td>15</td>\n",
       "    </tr>\n",
       "    <tr>\n",
       "      <th>e</th>\n",
       "      <td>2</td>\n",
       "      <td>4214</td>\n",
       "      <td>2</td>\n",
       "      <td>2</td>\n",
       "    </tr>\n",
       "    <tr>\n",
       "      <th>t</th>\n",
       "      <td>0</td>\n",
       "      <td>0</td>\n",
       "      <td>725</td>\n",
       "      <td>0</td>\n",
       "    </tr>\n",
       "    <tr>\n",
       "      <th>m</th>\n",
       "      <td>7</td>\n",
       "      <td>1</td>\n",
       "      <td>0</td>\n",
       "      <td>1209</td>\n",
       "    </tr>\n",
       "  </tbody>\n",
       "</table>\n",
       "</div>"
      ],
      "text/plain": [
       "   Pred b  Pred e  Pred t  Pred m\n",
       "b    4499       6       2      15\n",
       "e       2    4214       2       2\n",
       "t       0       0     725       0\n",
       "m       7       1       0    1209"
      ]
     },
     "execution_count": 36,
     "metadata": {},
     "output_type": "execute_result"
    }
   ],
   "source": [
    "pd.DataFrame(train_confusion, columns=[\"Pred b\", \"Pred e\", \"Pred t\", \"Pred m\"], index=[\"b\", \"e\", \"t\", \"m\"])"
   ]
  },
  {
   "cell_type": "code",
   "execution_count": 37,
   "id": "62216000",
   "metadata": {},
   "outputs": [],
   "source": [
    "# 評価データ\n",
    "test_pred, test_probs = predict(feature_test)\n",
    "\n",
    "test_confusion = confusion_matrix(test_pred, test['CATEGORY'])"
   ]
  },
  {
   "cell_type": "code",
   "execution_count": 38,
   "id": "5826eb4e",
   "metadata": {},
   "outputs": [
    {
     "data": {
      "text/html": [
       "<div>\n",
       "<style scoped>\n",
       "    .dataframe tbody tr th:only-of-type {\n",
       "        vertical-align: middle;\n",
       "    }\n",
       "\n",
       "    .dataframe tbody tr th {\n",
       "        vertical-align: top;\n",
       "    }\n",
       "\n",
       "    .dataframe thead th {\n",
       "        text-align: right;\n",
       "    }\n",
       "</style>\n",
       "<table border=\"1\" class=\"dataframe\">\n",
       "  <thead>\n",
       "    <tr style=\"text-align: right;\">\n",
       "      <th></th>\n",
       "      <th>Pred b</th>\n",
       "      <th>Pred e</th>\n",
       "      <th>Pred t</th>\n",
       "      <th>Pred m</th>\n",
       "    </tr>\n",
       "  </thead>\n",
       "  <tbody>\n",
       "    <tr>\n",
       "      <th>b</th>\n",
       "      <td>541</td>\n",
       "      <td>21</td>\n",
       "      <td>8</td>\n",
       "      <td>29</td>\n",
       "    </tr>\n",
       "    <tr>\n",
       "      <th>e</th>\n",
       "      <td>10</td>\n",
       "      <td>505</td>\n",
       "      <td>18</td>\n",
       "      <td>17</td>\n",
       "    </tr>\n",
       "    <tr>\n",
       "      <th>t</th>\n",
       "      <td>2</td>\n",
       "      <td>3</td>\n",
       "      <td>59</td>\n",
       "      <td>1</td>\n",
       "    </tr>\n",
       "    <tr>\n",
       "      <th>m</th>\n",
       "      <td>8</td>\n",
       "      <td>3</td>\n",
       "      <td>4</td>\n",
       "      <td>107</td>\n",
       "    </tr>\n",
       "  </tbody>\n",
       "</table>\n",
       "</div>"
      ],
      "text/plain": [
       "   Pred b  Pred e  Pred t  Pred m\n",
       "b     541      21       8      29\n",
       "e      10     505      18      17\n",
       "t       2       3      59       1\n",
       "m       8       3       4     107"
      ]
     },
     "execution_count": 38,
     "metadata": {},
     "output_type": "execute_result"
    }
   ],
   "source": [
    "pd.DataFrame(test_confusion, columns=[\"Pred b\", \"Pred e\", \"Pred t\", \"Pred m\"], index=[\"b\", \"e\", \"t\", \"m\"])"
   ]
  },
  {
   "cell_type": "markdown",
   "id": "a179c713",
   "metadata": {},
   "source": [
    "## 56. 適合率，再現率，F1スコアの計測"
   ]
  },
  {
   "cell_type": "markdown",
   "id": "4c9b8282",
   "metadata": {},
   "source": [
    "52で学習したロジスティック回帰モデルの適合率，再現率，F1スコアを，評価データ上で計測せよ．カテゴリごとに適合率，再現率，F1スコアを求め，カテゴリごとの性能をマイクロ平均（micro-average）とマクロ平均（macro-average）で統合せよ．"
   ]
  },
  {
   "cell_type": "code",
   "execution_count": 39,
   "id": "cde1ac0a",
   "metadata": {},
   "outputs": [],
   "source": [
    "from sklearn.metrics import precision_score, recall_score, f1_score"
   ]
  },
  {
   "cell_type": "markdown",
   "id": "2b90a5a9",
   "metadata": {},
   "source": [
    "引数average\n",
    "None:カテゴリ毎にリストで返却\n",
    "micro:マイクロ平均\n",
    "macro:マクロ平均"
   ]
  },
  {
   "cell_type": "markdown",
   "id": "3c63e6c7",
   "metadata": {},
   "source": [
    "カテゴリごとに適合率，再現率，F1スコアを求める。"
   ]
  },
  {
   "cell_type": "code",
   "execution_count": 40,
   "id": "aa5ec9fe",
   "metadata": {},
   "outputs": [
    {
     "data": {
      "text/html": [
       "<div>\n",
       "<style scoped>\n",
       "    .dataframe tbody tr th:only-of-type {\n",
       "        vertical-align: middle;\n",
       "    }\n",
       "\n",
       "    .dataframe tbody tr th {\n",
       "        vertical-align: top;\n",
       "    }\n",
       "\n",
       "    .dataframe thead th {\n",
       "        text-align: right;\n",
       "    }\n",
       "</style>\n",
       "<table border=\"1\" class=\"dataframe\">\n",
       "  <thead>\n",
       "    <tr style=\"text-align: right;\">\n",
       "      <th></th>\n",
       "      <th>適合率</th>\n",
       "    </tr>\n",
       "  </thead>\n",
       "  <tbody>\n",
       "    <tr>\n",
       "      <th>b</th>\n",
       "      <td>0.964349</td>\n",
       "    </tr>\n",
       "    <tr>\n",
       "      <th>e</th>\n",
       "      <td>0.949248</td>\n",
       "    </tr>\n",
       "    <tr>\n",
       "      <th>t</th>\n",
       "      <td>0.662921</td>\n",
       "    </tr>\n",
       "    <tr>\n",
       "      <th>m</th>\n",
       "      <td>0.694805</td>\n",
       "    </tr>\n",
       "  </tbody>\n",
       "</table>\n",
       "</div>"
      ],
      "text/plain": [
       "        適合率\n",
       "b  0.964349\n",
       "e  0.949248\n",
       "t  0.662921\n",
       "m  0.694805"
      ]
     },
     "execution_count": 40,
     "metadata": {},
     "output_type": "execute_result"
    }
   ],
   "source": [
    "# 適合率\n",
    "test_precision_score = precision_score(test_pred, test['CATEGORY'], average=None)\n",
    "pd.DataFrame(test_precision_score, columns=[\"適合率\"], index=[\"b\", \"e\", \"t\", \"m\"])\n",
    "#print(\"test_precision_score : \", test_precision_score)"
   ]
  },
  {
   "cell_type": "code",
   "execution_count": 41,
   "id": "b133b9c0",
   "metadata": {},
   "outputs": [
    {
     "data": {
      "text/html": [
       "<div>\n",
       "<style scoped>\n",
       "    .dataframe tbody tr th:only-of-type {\n",
       "        vertical-align: middle;\n",
       "    }\n",
       "\n",
       "    .dataframe tbody tr th {\n",
       "        vertical-align: top;\n",
       "    }\n",
       "\n",
       "    .dataframe thead th {\n",
       "        text-align: right;\n",
       "    }\n",
       "</style>\n",
       "<table border=\"1\" class=\"dataframe\">\n",
       "  <thead>\n",
       "    <tr style=\"text-align: right;\">\n",
       "      <th></th>\n",
       "      <th>再現率</th>\n",
       "    </tr>\n",
       "  </thead>\n",
       "  <tbody>\n",
       "    <tr>\n",
       "      <th>b</th>\n",
       "      <td>0.903172</td>\n",
       "    </tr>\n",
       "    <tr>\n",
       "      <th>e</th>\n",
       "      <td>0.918182</td>\n",
       "    </tr>\n",
       "    <tr>\n",
       "      <th>t</th>\n",
       "      <td>0.907692</td>\n",
       "    </tr>\n",
       "    <tr>\n",
       "      <th>m</th>\n",
       "      <td>0.877049</td>\n",
       "    </tr>\n",
       "  </tbody>\n",
       "</table>\n",
       "</div>"
      ],
      "text/plain": [
       "        再現率\n",
       "b  0.903172\n",
       "e  0.918182\n",
       "t  0.907692\n",
       "m  0.877049"
      ]
     },
     "execution_count": 41,
     "metadata": {},
     "output_type": "execute_result"
    }
   ],
   "source": [
    "# 再現率\n",
    "test_recall_score = recall_score(test_pred, test['CATEGORY'], average=None)\n",
    "#print(\"test_recall_score : \", test_recall_score)\n",
    "pd.DataFrame(test_recall_score, columns=[\"再現率\"], index=[\"b\", \"e\", \"t\", \"m\"])"
   ]
  },
  {
   "cell_type": "code",
   "execution_count": 42,
   "id": "4b989652",
   "metadata": {
    "scrolled": true
   },
   "outputs": [
    {
     "data": {
      "text/html": [
       "<div>\n",
       "<style scoped>\n",
       "    .dataframe tbody tr th:only-of-type {\n",
       "        vertical-align: middle;\n",
       "    }\n",
       "\n",
       "    .dataframe tbody tr th {\n",
       "        vertical-align: top;\n",
       "    }\n",
       "\n",
       "    .dataframe thead th {\n",
       "        text-align: right;\n",
       "    }\n",
       "</style>\n",
       "<table border=\"1\" class=\"dataframe\">\n",
       "  <thead>\n",
       "    <tr style=\"text-align: right;\">\n",
       "      <th></th>\n",
       "      <th>F1スコア</th>\n",
       "    </tr>\n",
       "  </thead>\n",
       "  <tbody>\n",
       "    <tr>\n",
       "      <th>b</th>\n",
       "      <td>0.932759</td>\n",
       "    </tr>\n",
       "    <tr>\n",
       "      <th>e</th>\n",
       "      <td>0.933457</td>\n",
       "    </tr>\n",
       "    <tr>\n",
       "      <th>t</th>\n",
       "      <td>0.766234</td>\n",
       "    </tr>\n",
       "    <tr>\n",
       "      <th>m</th>\n",
       "      <td>0.775362</td>\n",
       "    </tr>\n",
       "  </tbody>\n",
       "</table>\n",
       "</div>"
      ],
      "text/plain": [
       "      F1スコア\n",
       "b  0.932759\n",
       "e  0.933457\n",
       "t  0.766234\n",
       "m  0.775362"
      ]
     },
     "execution_count": 42,
     "metadata": {},
     "output_type": "execute_result"
    }
   ],
   "source": [
    "# F1スコア\n",
    "test_f1_score = f1_score(test_pred, test['CATEGORY'], average=None)\n",
    "#print(\"test_f1_score : \", test_f1_score)\n",
    "pd.DataFrame(test_f1_score, columns=[\"F1スコア\"], index=[\"b\", \"e\", \"t\", \"m\"])"
   ]
  },
  {
   "cell_type": "code",
   "execution_count": 43,
   "id": "f221a9a7",
   "metadata": {},
   "outputs": [
    {
     "data": {
      "text/html": [
       "<div>\n",
       "<style scoped>\n",
       "    .dataframe tbody tr th:only-of-type {\n",
       "        vertical-align: middle;\n",
       "    }\n",
       "\n",
       "    .dataframe tbody tr th {\n",
       "        vertical-align: top;\n",
       "    }\n",
       "\n",
       "    .dataframe thead th {\n",
       "        text-align: right;\n",
       "    }\n",
       "</style>\n",
       "<table border=\"1\" class=\"dataframe\">\n",
       "  <thead>\n",
       "    <tr style=\"text-align: right;\">\n",
       "      <th></th>\n",
       "      <th>b</th>\n",
       "      <th>e</th>\n",
       "      <th>t</th>\n",
       "      <th>m</th>\n",
       "    </tr>\n",
       "  </thead>\n",
       "  <tbody>\n",
       "    <tr>\n",
       "      <th>適合率</th>\n",
       "      <td>0.964349</td>\n",
       "      <td>0.949248</td>\n",
       "      <td>0.662921</td>\n",
       "      <td>0.694805</td>\n",
       "    </tr>\n",
       "    <tr>\n",
       "      <th>再現率</th>\n",
       "      <td>0.903172</td>\n",
       "      <td>0.918182</td>\n",
       "      <td>0.907692</td>\n",
       "      <td>0.877049</td>\n",
       "    </tr>\n",
       "    <tr>\n",
       "      <th>F1スコア</th>\n",
       "      <td>0.932759</td>\n",
       "      <td>0.933457</td>\n",
       "      <td>0.766234</td>\n",
       "      <td>0.775362</td>\n",
       "    </tr>\n",
       "  </tbody>\n",
       "</table>\n",
       "</div>"
      ],
      "text/plain": [
       "              b         e         t         m\n",
       "適合率    0.964349  0.949248  0.662921  0.694805\n",
       "再現率    0.903172  0.918182  0.907692  0.877049\n",
       "F1スコア  0.932759  0.933457  0.766234  0.775362"
      ]
     },
     "execution_count": 43,
     "metadata": {},
     "output_type": "execute_result"
    }
   ],
   "source": [
    "pd.DataFrame(np.array([test_precision_score, test_recall_score, test_f1_score]), index=[\"適合率\", \"再現率\", \"F1スコア\"], columns=[\"b\", \"e\", \"t\", \"m\"])"
   ]
  },
  {
   "cell_type": "code",
   "execution_count": null,
   "id": "b235cb25",
   "metadata": {},
   "outputs": [],
   "source": []
  },
  {
   "cell_type": "markdown",
   "id": "d96d084a",
   "metadata": {},
   "source": [
    "マイクロ平均を求める。"
   ]
  },
  {
   "cell_type": "code",
   "execution_count": 44,
   "id": "d64398c8",
   "metadata": {},
   "outputs": [
    {
     "name": "stdout",
     "output_type": "stream",
     "text": [
      "test_f1_score_micro: 0.907185628742515\n",
      "test_f1_score_micro: 0.907185628742515\n",
      "test_f1_score_micro: 0.907185628742515\n"
     ]
    }
   ],
   "source": [
    "# 適合率\n",
    "test_precision_score_micro = precision_score(test_pred, test['CATEGORY'], average='micro')\n",
    "print('test_f1_score_micro:',test_precision_score_micro)\n",
    "\n",
    "# 再現率\n",
    "test_recall_score_micro = recall_score(test_pred, test['CATEGORY'], average='micro')\n",
    "print('test_f1_score_micro:',test_recall_score_micro)\n",
    "\n",
    "# F1スコア\n",
    "test_f1_score_micro = f1_score(test_pred, test['CATEGORY'], average='micro')\n",
    "print('test_f1_score_micro:',test_f1_score_micro)"
   ]
  },
  {
   "cell_type": "markdown",
   "id": "a96db916",
   "metadata": {},
   "source": [
    "マクロ平均を求める。"
   ]
  },
  {
   "cell_type": "code",
   "execution_count": 45,
   "id": "fcd709b5",
   "metadata": {},
   "outputs": [
    {
     "name": "stdout",
     "output_type": "stream",
     "text": [
      "test_precision_score_macro: 0.8178310098836589\n",
      "test_recall_score_macro: 0.9015238148643552\n",
      "test_f1_score_macro: 0.8519528169215919\n"
     ]
    }
   ],
   "source": [
    "# 適合率\n",
    "test_precision_score_macro = precision_score(test_pred, test['CATEGORY'], average='macro')\n",
    "print('test_precision_score_macro:',test_precision_score_macro)\n",
    "\n",
    "# 再現率\n",
    "test_recall_score_macro = recall_score(test_pred, test['CATEGORY'], average='macro')\n",
    "print('test_recall_score_macro:',test_recall_score_macro)\n",
    "\n",
    "# F1スコア\n",
    "test_f1_score_macro = f1_score(test_pred, test['CATEGORY'], average='macro')\n",
    "print('test_f1_score_macro:',test_f1_score_macro)"
   ]
  },
  {
   "cell_type": "markdown",
   "id": "e2ce93b3",
   "metadata": {},
   "source": [
    "カテゴリごとの性能をマイクロ平均（micro-average）とマクロ平均（macro-average）で統合せよ???"
   ]
  },
  {
   "cell_type": "code",
   "execution_count": null,
   "id": "60d7f210",
   "metadata": {},
   "outputs": [],
   "source": []
  },
  {
   "cell_type": "code",
   "execution_count": null,
   "id": "a3a1dbe4",
   "metadata": {},
   "outputs": [],
   "source": []
  },
  {
   "cell_type": "markdown",
   "id": "4ca8bbfa",
   "metadata": {},
   "source": [
    "## 57. 特徴量の重みの確認"
   ]
  },
  {
   "cell_type": "markdown",
   "id": "aadb197a",
   "metadata": {},
   "source": [
    "52で学習したロジスティック回帰モデルの中で，重みの高い特徴量トップ10と，重みの低い特徴量トップ10を確認せよ．"
   ]
  },
  {
   "cell_type": "code",
   "execution_count": 46,
   "id": "bc06a69a",
   "metadata": {},
   "outputs": [
    {
     "ename": "SyntaxError",
     "evalue": "unexpected EOF while parsing (<ipython-input-46-de185b359bc9>, line 3)",
     "output_type": "error",
     "traceback": [
      "\u001b[0;36m  File \u001b[0;32m\"<ipython-input-46-de185b359bc9>\"\u001b[0;36m, line \u001b[0;32m3\u001b[0m\n\u001b[0;31m    print(names\u001b[0m\n\u001b[0m               ^\u001b[0m\n\u001b[0;31mSyntaxError\u001b[0m\u001b[0;31m:\u001b[0m unexpected EOF while parsing\n"
     ]
    }
   ],
   "source": [
    "names = np.array(cv.get_feature_names())\n",
    "print(names.shape)\n",
    "print(names"
   ]
  },
  {
   "cell_type": "code",
   "execution_count": 47,
   "id": "307bfcae",
   "metadata": {},
   "outputs": [
    {
     "name": "stdout",
     "output_type": "stream",
     "text": [
      "カテゴリ :  b\n"
     ]
    },
    {
     "data": {
      "text/html": [
       "<div>\n",
       "<style scoped>\n",
       "    .dataframe tbody tr th:only-of-type {\n",
       "        vertical-align: middle;\n",
       "    }\n",
       "\n",
       "    .dataframe tbody tr th {\n",
       "        vertical-align: top;\n",
       "    }\n",
       "\n",
       "    .dataframe thead th {\n",
       "        text-align: right;\n",
       "    }\n",
       "</style>\n",
       "<table border=\"1\" class=\"dataframe\">\n",
       "  <thead>\n",
       "    <tr style=\"text-align: right;\">\n",
       "      <th></th>\n",
       "      <th>0</th>\n",
       "      <th>1</th>\n",
       "      <th>2</th>\n",
       "      <th>3</th>\n",
       "      <th>4</th>\n",
       "      <th>5</th>\n",
       "      <th>6</th>\n",
       "      <th>7</th>\n",
       "      <th>8</th>\n",
       "      <th>9</th>\n",
       "    </tr>\n",
       "  </thead>\n",
       "  <tbody>\n",
       "    <tr>\n",
       "      <th>重要度上位</th>\n",
       "      <td>bank</td>\n",
       "      <td>ecb</td>\n",
       "      <td>fed</td>\n",
       "      <td>ukraine</td>\n",
       "      <td>obamacare</td>\n",
       "      <td>yellen</td>\n",
       "      <td>oil</td>\n",
       "      <td>dollar</td>\n",
       "      <td>argentina</td>\n",
       "      <td>china</td>\n",
       "    </tr>\n",
       "    <tr>\n",
       "      <th>重要度下位</th>\n",
       "      <td>activision</td>\n",
       "      <td>aereo</td>\n",
       "      <td>ebola</td>\n",
       "      <td>twitch</td>\n",
       "      <td>nintendo</td>\n",
       "      <td>heartbleed</td>\n",
       "      <td>her</td>\n",
       "      <td>she</td>\n",
       "      <td>virus</td>\n",
       "      <td>gay</td>\n",
       "    </tr>\n",
       "  </tbody>\n",
       "</table>\n",
       "</div>"
      ],
      "text/plain": [
       "                0      1      2        3          4           5    6       7  \\\n",
       "重要度上位        bank    ecb    fed  ukraine  obamacare      yellen  oil  dollar   \n",
       "重要度下位  activision  aereo  ebola   twitch   nintendo  heartbleed  her     she   \n",
       "\n",
       "               8      9  \n",
       "重要度上位  argentina  china  \n",
       "重要度下位      virus    gay  "
      ]
     },
     "metadata": {},
     "output_type": "display_data"
    },
    {
     "name": "stdout",
     "output_type": "stream",
     "text": [
      "カテゴリ :  e\n"
     ]
    },
    {
     "data": {
      "text/html": [
       "<div>\n",
       "<style scoped>\n",
       "    .dataframe tbody tr th:only-of-type {\n",
       "        vertical-align: middle;\n",
       "    }\n",
       "\n",
       "    .dataframe tbody tr th {\n",
       "        vertical-align: top;\n",
       "    }\n",
       "\n",
       "    .dataframe thead th {\n",
       "        text-align: right;\n",
       "    }\n",
       "</style>\n",
       "<table border=\"1\" class=\"dataframe\">\n",
       "  <thead>\n",
       "    <tr style=\"text-align: right;\">\n",
       "      <th></th>\n",
       "      <th>0</th>\n",
       "      <th>1</th>\n",
       "      <th>2</th>\n",
       "      <th>3</th>\n",
       "      <th>4</th>\n",
       "      <th>5</th>\n",
       "      <th>6</th>\n",
       "      <th>7</th>\n",
       "      <th>8</th>\n",
       "      <th>9</th>\n",
       "    </tr>\n",
       "  </thead>\n",
       "  <tbody>\n",
       "    <tr>\n",
       "      <th>重要度上位</th>\n",
       "      <td>kardashian</td>\n",
       "      <td>chris</td>\n",
       "      <td>transformers</td>\n",
       "      <td>miley</td>\n",
       "      <td>paul</td>\n",
       "      <td>cyrus</td>\n",
       "      <td>movie</td>\n",
       "      <td>jay</td>\n",
       "      <td>thrones</td>\n",
       "      <td>trailer</td>\n",
       "    </tr>\n",
       "    <tr>\n",
       "      <th>重要度下位</th>\n",
       "      <td>google</td>\n",
       "      <td>microsoft</td>\n",
       "      <td>gm</td>\n",
       "      <td>facebook</td>\n",
       "      <td>obamacare</td>\n",
       "      <td>risk</td>\n",
       "      <td>ceo</td>\n",
       "      <td>data</td>\n",
       "      <td>china</td>\n",
       "      <td>prices</td>\n",
       "    </tr>\n",
       "  </tbody>\n",
       "</table>\n",
       "</div>"
      ],
      "text/plain": [
       "                0          1             2         3          4      5      6  \\\n",
       "重要度上位  kardashian      chris  transformers     miley       paul  cyrus  movie   \n",
       "重要度下位      google  microsoft            gm  facebook  obamacare   risk    ceo   \n",
       "\n",
       "          7        8        9  \n",
       "重要度上位   jay  thrones  trailer  \n",
       "重要度下位  data    china   prices  "
      ]
     },
     "metadata": {},
     "output_type": "display_data"
    },
    {
     "name": "stdout",
     "output_type": "stream",
     "text": [
      "カテゴリ :  m\n"
     ]
    },
    {
     "data": {
      "text/html": [
       "<div>\n",
       "<style scoped>\n",
       "    .dataframe tbody tr th:only-of-type {\n",
       "        vertical-align: middle;\n",
       "    }\n",
       "\n",
       "    .dataframe tbody tr th {\n",
       "        vertical-align: top;\n",
       "    }\n",
       "\n",
       "    .dataframe thead th {\n",
       "        text-align: right;\n",
       "    }\n",
       "</style>\n",
       "<table border=\"1\" class=\"dataframe\">\n",
       "  <thead>\n",
       "    <tr style=\"text-align: right;\">\n",
       "      <th></th>\n",
       "      <th>0</th>\n",
       "      <th>1</th>\n",
       "      <th>2</th>\n",
       "      <th>3</th>\n",
       "      <th>4</th>\n",
       "      <th>5</th>\n",
       "      <th>6</th>\n",
       "      <th>7</th>\n",
       "      <th>8</th>\n",
       "      <th>9</th>\n",
       "    </tr>\n",
       "  </thead>\n",
       "  <tbody>\n",
       "    <tr>\n",
       "      <th>重要度上位</th>\n",
       "      <td>ebola</td>\n",
       "      <td>fda</td>\n",
       "      <td>cancer</td>\n",
       "      <td>mers</td>\n",
       "      <td>study</td>\n",
       "      <td>cigarettes</td>\n",
       "      <td>cdc</td>\n",
       "      <td>doctors</td>\n",
       "      <td>drug</td>\n",
       "      <td>cases</td>\n",
       "    </tr>\n",
       "    <tr>\n",
       "      <th>重要度下位</th>\n",
       "      <td>gm</td>\n",
       "      <td>facebook</td>\n",
       "      <td>apple</td>\n",
       "      <td>twitter</td>\n",
       "      <td>climate</td>\n",
       "      <td>google</td>\n",
       "      <td>jpmorgan</td>\n",
       "      <td>explain</td>\n",
       "      <td>netflix</td>\n",
       "      <td>game</td>\n",
       "    </tr>\n",
       "  </tbody>\n",
       "</table>\n",
       "</div>"
      ],
      "text/plain": [
       "           0         1       2        3        4           5         6  \\\n",
       "重要度上位  ebola       fda  cancer     mers    study  cigarettes       cdc   \n",
       "重要度下位     gm  facebook   apple  twitter  climate      google  jpmorgan   \n",
       "\n",
       "             7        8      9  \n",
       "重要度上位  doctors     drug  cases  \n",
       "重要度下位  explain  netflix   game  "
      ]
     },
     "metadata": {},
     "output_type": "display_data"
    },
    {
     "name": "stdout",
     "output_type": "stream",
     "text": [
      "カテゴリ :  t\n"
     ]
    },
    {
     "data": {
      "text/html": [
       "<div>\n",
       "<style scoped>\n",
       "    .dataframe tbody tr th:only-of-type {\n",
       "        vertical-align: middle;\n",
       "    }\n",
       "\n",
       "    .dataframe tbody tr th {\n",
       "        vertical-align: top;\n",
       "    }\n",
       "\n",
       "    .dataframe thead th {\n",
       "        text-align: right;\n",
       "    }\n",
       "</style>\n",
       "<table border=\"1\" class=\"dataframe\">\n",
       "  <thead>\n",
       "    <tr style=\"text-align: right;\">\n",
       "      <th></th>\n",
       "      <th>0</th>\n",
       "      <th>1</th>\n",
       "      <th>2</th>\n",
       "      <th>3</th>\n",
       "      <th>4</th>\n",
       "      <th>5</th>\n",
       "      <th>6</th>\n",
       "      <th>7</th>\n",
       "      <th>8</th>\n",
       "      <th>9</th>\n",
       "    </tr>\n",
       "  </thead>\n",
       "  <tbody>\n",
       "    <tr>\n",
       "      <th>重要度上位</th>\n",
       "      <td>facebook</td>\n",
       "      <td>google</td>\n",
       "      <td>climate</td>\n",
       "      <td>apple</td>\n",
       "      <td>microsoft</td>\n",
       "      <td>heartbleed</td>\n",
       "      <td>tesla</td>\n",
       "      <td>activision</td>\n",
       "      <td>nasa</td>\n",
       "      <td>fcc</td>\n",
       "    </tr>\n",
       "    <tr>\n",
       "      <th>重要度下位</th>\n",
       "      <td>stocks</td>\n",
       "      <td>percent</td>\n",
       "      <td>move</td>\n",
       "      <td>health</td>\n",
       "      <td>american</td>\n",
       "      <td>shares</td>\n",
       "      <td>drug</td>\n",
       "      <td>close</td>\n",
       "      <td>valued</td>\n",
       "      <td>should</td>\n",
       "    </tr>\n",
       "  </tbody>\n",
       "</table>\n",
       "</div>"
      ],
      "text/plain": [
       "              0        1        2       3          4           5      6  \\\n",
       "重要度上位  facebook   google  climate   apple  microsoft  heartbleed  tesla   \n",
       "重要度下位    stocks  percent     move  health   american      shares   drug   \n",
       "\n",
       "                7       8       9  \n",
       "重要度上位  activision    nasa     fcc  \n",
       "重要度下位       close  valued  should  "
      ]
     },
     "metadata": {},
     "output_type": "display_data"
    }
   ],
   "source": [
    "names = np.array(cv.get_feature_names())\n",
    "\n",
    "for c, coef in zip(lr.classes_, lr.coef_): # c:カテゴリ、coef:重み\n",
    "    idx = np.argsort(coef)[::-1] #　大きい順にソートし、インデックスを返す\n",
    "    \n",
    "    print (\"カテゴリ : \", c)\n",
    "    #print (\"重みの高い特徴量トップ10\\n\", names[idx][:10]) # 重みの高い特徴量トップ10\n",
    "    #print (\"重みの低い特徴量トップ10\\n\", names[idx][-10:][::-1]) # 重みの低い特徴量トップ10\n",
    "    \n",
    "    best10 = pd.DataFrame(names[idx][:10], columns=['重要度上位']).T\n",
    "    worst10 = pd.DataFrame(names[idx][-10:][::-1], columns=['重要度下位']).T\n",
    "    display(pd.concat([best10, worst10], axis=0))"
   ]
  },
  {
   "cell_type": "code",
   "execution_count": null,
   "id": "87176b21",
   "metadata": {},
   "outputs": [],
   "source": []
  },
  {
   "cell_type": "markdown",
   "id": "ec087d44",
   "metadata": {},
   "source": [
    "パラメータ（重み）を得る"
   ]
  },
  {
   "cell_type": "markdown",
   "id": "577b9bd0",
   "metadata": {},
   "source": [
    "coef_ndarray of shape (1, n_features) or (n_classes, n_features)\n",
    "Coefficient of the features in the decision function.\n",
    "\n",
    "coef_ is of shape (1, n_features) when the given problem is binary. In particular, when multi_class='multinomial', coef_ corresponds to outcome 1 (True) and -coef_ corresponds to outcome 0 (False)."
   ]
  },
  {
   "cell_type": "code",
   "execution_count": 48,
   "id": "22a7f2cc",
   "metadata": {},
   "outputs": [
    {
     "data": {
      "text/plain": [
       "array([[ 0.05275788,  0.02514223,  0.00431695, ..., -0.00048601,\n",
       "        -0.04546792, -0.00103919],\n",
       "       [-0.03369097, -0.01577539, -0.00208704, ...,  0.0043715 ,\n",
       "         0.09284354,  0.00563695],\n",
       "       [-0.00942501, -0.00494468, -0.00151254, ..., -0.00173109,\n",
       "        -0.02995015, -0.00133805],\n",
       "       [-0.0096419 , -0.00442217, -0.00071736, ..., -0.00215441,\n",
       "        -0.01742547, -0.00325972]])"
      ]
     },
     "execution_count": 48,
     "metadata": {},
     "output_type": "execute_result"
    }
   ],
   "source": [
    "lr.coef_"
   ]
  },
  {
   "cell_type": "code",
   "execution_count": 49,
   "id": "f2f3268d",
   "metadata": {},
   "outputs": [
    {
     "data": {
      "text/plain": [
       "(4, 12753)"
      ]
     },
     "execution_count": 49,
     "metadata": {},
     "output_type": "execute_result"
    }
   ],
   "source": [
    "lr.coef_.shape"
   ]
  },
  {
   "cell_type": "code",
   "execution_count": null,
   "id": "dac37540",
   "metadata": {},
   "outputs": [],
   "source": []
  },
  {
   "cell_type": "markdown",
   "id": "8e51bfc9",
   "metadata": {},
   "source": [
    "## 58. 正則化パラメータの変更"
   ]
  },
  {
   "cell_type": "markdown",
   "id": "7392ecea",
   "metadata": {},
   "source": [
    "ロジスティック回帰モデルを学習するとき，正則化パラメータを調整することで，学習時の過学習（overfitting）の度合いを制御できる．異なる正則化パラメータでロジスティック回帰モデルを学習し，学習データ，検証データ，および評価データ上の正解率を求めよ．実験の結果は，正則化パラメータを横軸，正解率を縦軸としたグラフにまとめよ．"
   ]
  },
  {
   "cell_type": "markdown",
   "id": "9aa93d2a",
   "metadata": {},
   "source": [
    "LogisticRegressionは正則化パラメータCを指定することができます。この値が小さいほど、強い正則化がかかります。"
   ]
  },
  {
   "cell_type": "markdown",
   "id": "44dab769",
   "metadata": {},
   "source": [
    "C : float, default=1.0\n",
    "Inverse of regularization strength; must be a positive float. Like in support vector machines, smaller values specify stronger regularization."
   ]
  },
  {
   "cell_type": "code",
   "execution_count": 50,
   "id": "44b755d2",
   "metadata": {},
   "outputs": [],
   "source": [
    "def accuracy2(model, xs, ts):\n",
    "    # 予測カテゴリー\n",
    "    ys = model.predict(xs)\n",
    "    \n",
    "    return (ys == ts).mean()"
   ]
  },
  {
   "cell_type": "code",
   "execution_count": 51,
   "id": "40672f85",
   "metadata": {},
   "outputs": [
    {
     "data": {
      "text/plain": [
       "array([[1.00000000e-05, 1.00000000e-04, 1.00000000e-03, 1.00000000e-02,\n",
       "        1.00000000e-01, 1.00000000e+00, 1.00000000e+01, 1.00000000e+02,\n",
       "        1.00000000e+03, 1.00000000e+04],\n",
       "       [4.21939349e-01, 5.47079745e-01, 7.20891052e-01, 7.84537626e-01,\n",
       "        9.28678398e-01, 9.96536878e-01, 9.99625608e-01, 9.99625608e-01,\n",
       "        9.99625608e-01, 9.99625608e-01],\n",
       "       [4.17664671e-01, 5.40419162e-01, 7.18562874e-01, 7.77694611e-01,\n",
       "        8.83233533e-01, 9.13173653e-01, 9.11676647e-01, 9.14670659e-01,\n",
       "        9.10179641e-01, 9.10928144e-01],\n",
       "       [4.19910180e-01, 5.47904192e-01, 7.15568862e-01, 7.76946108e-01,\n",
       "        8.71257485e-01, 9.07185629e-01, 9.13173653e-01, 9.14670659e-01,\n",
       "        9.14670659e-01, 9.13922156e-01]])"
      ]
     },
     "execution_count": 51,
     "metadata": {},
     "output_type": "execute_result"
    }
   ],
   "source": [
    "result = []\n",
    "\n",
    "# 正則化パラメータ\n",
    "C = np.logspace(-5, 4, 10, base=10) # 等比数列\n",
    "\n",
    "for c in C:\n",
    "    # ロジスティック回帰モデルを学習\n",
    "    lr = LogisticRegression(random_state=0, max_iter=5000, C=c)\n",
    "    lr.fit(feature_train, train['CATEGORY'])\n",
    "\n",
    "    # 正解率の計算\n",
    "    #accuracy(feature_train, train['CATEGORY'])\n",
    "    \n",
    "    train_accuracy = accuracy2(lr, feature_train, train['CATEGORY'])\n",
    "    valid_accuracy = accuracy2(lr, feature_valid, valid['CATEGORY'])\n",
    "    test_accuracy = accuracy2(lr, feature_test, test['CATEGORY'])\n",
    "    \n",
    "    #resultに格納\n",
    "    result.append([c, train_accuracy, valid_accuracy, test_accuracy])\n",
    "\n",
    "result = np.array(result).T\n",
    "result"
   ]
  },
  {
   "cell_type": "code",
   "execution_count": 53,
   "id": "05014436",
   "metadata": {},
   "outputs": [],
   "source": [
    "import matplotlib.pyplot as plt"
   ]
  },
  {
   "cell_type": "code",
   "execution_count": 55,
   "id": "d2014ed3",
   "metadata": {},
   "outputs": [
    {
     "data": {
      "image/png": "[encoded data removed]",
      "text/plain": [
       "<Figure size 432x288 with 1 Axes>"
      ]
     },
     "metadata": {
      "needs_background": "light"
     },
     "output_type": "display_data"
    }
   ],
   "source": [
    "#可視化\n",
    "plt.plot(result[0], result[1], label='train')\n",
    "plt.plot(result[0], result[2], label='valid')\n",
    "plt.plot(result[0], result[3], label='test')\n",
    "plt.ylim(0, 1.1)\n",
    "plt.ylabel('Accuracy')\n",
    "plt.xscale('log')\n",
    "plt.xlabel('C')\n",
    "plt.legend()\n",
    "plt.show()"
   ]
  },
  {
   "cell_type": "code",
   "execution_count": null,
   "id": "9ce48299",
   "metadata": {},
   "outputs": [],
   "source": []
  },
  {
   "cell_type": "markdown",
   "id": "a73f8b02",
   "metadata": {},
   "source": [
    "## 59. ハイパーパラメータの探索"
   ]
  },
  {
   "cell_type": "markdown",
   "id": "b49d1270",
   "metadata": {},
   "source": [
    "学習アルゴリズムや学習パラメータを変えながら，カテゴリ分類モデルを学習せよ．検証データ上の正解率が最も高くなる学習アルゴリズム・パラメータを求めよ．また，その学習アルゴリズム・パラメータを用いたときの評価データ上の正解率を求めよ．"
   ]
  },
  {
   "cell_type": "markdown",
   "id": "b78bc87c",
   "metadata": {},
   "source": [
    "### 学習アルゴリズムを変えてみる"
   ]
  },
  {
   "cell_type": "markdown",
   "id": "ba805dc8",
   "metadata": {},
   "source": [
    "#### ナイーブベイズ"
   ]
  },
  {
   "cell_type": "code",
   "execution_count": 52,
   "id": "c518c534",
   "metadata": {},
   "outputs": [],
   "source": [
    "from sklearn.naive_bayes import MultinomialNB"
   ]
  },
  {
   "cell_type": "code",
   "execution_count": 56,
   "id": "aadefe2b",
   "metadata": {},
   "outputs": [
    {
     "data": {
      "text/plain": [
       "MultinomialNB()"
      ]
     },
     "execution_count": 56,
     "metadata": {},
     "output_type": "execute_result"
    }
   ],
   "source": [
    "nb = MultinomialNB()\n",
    "nb.fit(feature_train, train['CATEGORY'])"
   ]
  },
  {
   "cell_type": "code",
   "execution_count": 57,
   "id": "e9a58964",
   "metadata": {},
   "outputs": [
    {
     "data": {
      "text/plain": [
       "MultinomialNB()"
      ]
     },
     "execution_count": 57,
     "metadata": {},
     "output_type": "execute_result"
    }
   ],
   "source": [
    "MultinomialNB(alpha=1.0, class_prior=None, fit_prior=True)"
   ]
  },
  {
   "cell_type": "code",
   "execution_count": 58,
   "id": "f051eed9",
   "metadata": {},
   "outputs": [
    {
     "data": {
      "text/plain": [
       "0.9568513665293897"
      ]
     },
     "execution_count": 58,
     "metadata": {},
     "output_type": "execute_result"
    }
   ],
   "source": [
    "accuracy2(nb, feature_train, train['CATEGORY'])"
   ]
  },
  {
   "cell_type": "code",
   "execution_count": 59,
   "id": "fb117610",
   "metadata": {},
   "outputs": [
    {
     "data": {
      "text/plain": [
       "0.9004491017964071"
      ]
     },
     "execution_count": 59,
     "metadata": {},
     "output_type": "execute_result"
    }
   ],
   "source": [
    "accuracy2(nb, feature_test, test['CATEGORY'])"
   ]
  },
  {
   "cell_type": "code",
   "execution_count": null,
   "id": "698a99fe",
   "metadata": {},
   "outputs": [],
   "source": []
  },
  {
   "cell_type": "markdown",
   "id": "0173db80",
   "metadata": {},
   "source": [
    "#### 線形サポートベクトルマシン"
   ]
  },
  {
   "cell_type": "code",
   "execution_count": 60,
   "id": "56dc86b2",
   "metadata": {},
   "outputs": [],
   "source": [
    "from sklearn.svm import LinearSVC"
   ]
  },
  {
   "cell_type": "code",
   "execution_count": 62,
   "id": "4ea5afbb",
   "metadata": {},
   "outputs": [
    {
     "data": {
      "text/plain": [
       "LinearSVC(C=0.1)"
      ]
     },
     "execution_count": 62,
     "metadata": {},
     "output_type": "execute_result"
    }
   ],
   "source": [
    "svc = LinearSVC(C=0.1)\n",
    "svc.fit(feature_test, test['CATEGORY'])"
   ]
  },
  {
   "cell_type": "code",
   "execution_count": 63,
   "id": "60b91ad2",
   "metadata": {},
   "outputs": [
    {
     "data": {
      "text/plain": [
       "LinearSVC(C=0.1)"
      ]
     },
     "execution_count": 63,
     "metadata": {},
     "output_type": "execute_result"
    }
   ],
   "source": [
    "LinearSVC(C=0.1, class_weight=None, dual=True, fit_intercept=True,\n",
    "          intercept_scaling=1, loss='squared_hinge', max_iter=1000,\n",
    "          multi_class='ovr', penalty='l2', random_state=None, tol=0.0001,\n",
    "          verbose=0)"
   ]
  },
  {
   "cell_type": "code",
   "execution_count": 64,
   "id": "ac51de3e",
   "metadata": {},
   "outputs": [
    {
     "data": {
      "text/plain": [
       "0.827218270310745"
      ]
     },
     "execution_count": 64,
     "metadata": {},
     "output_type": "execute_result"
    }
   ],
   "source": [
    "accuracy2(svc, feature_train, train['CATEGORY'])"
   ]
  },
  {
   "cell_type": "code",
   "execution_count": 65,
   "id": "226a315f",
   "metadata": {},
   "outputs": [
    {
     "data": {
      "text/plain": [
       "0.9985029940119761"
      ]
     },
     "execution_count": 65,
     "metadata": {},
     "output_type": "execute_result"
    }
   ],
   "source": [
    "accuracy2(svc, feature_test, test['CATEGORY'])"
   ]
  },
  {
   "cell_type": "code",
   "execution_count": null,
   "id": "4935f5c5",
   "metadata": {},
   "outputs": [],
   "source": []
  },
  {
   "cell_type": "markdown",
   "id": "40e9d5d3",
   "metadata": {},
   "source": [
    "logistic regressionでは"
   ]
  },
  {
   "cell_type": "code",
   "execution_count": 32,
   "id": "37312f12",
   "metadata": {
    "scrolled": true
   },
   "outputs": [
    {
     "name": "stdout",
     "output_type": "stream",
     "text": [
      "学習データ\n",
      "0.9965368775739424\n"
     ]
    }
   ],
   "source": [
    "#train_preds, train_prob = predict(feature_train)\n",
    "\n",
    "print('学習データ')\n",
    "print(accuracy(feature_train, train['CATEGORY']))"
   ]
  },
  {
   "cell_type": "code",
   "execution_count": 33,
   "id": "606d6f24",
   "metadata": {
    "scrolled": true
   },
   "outputs": [
    {
     "name": "stdout",
     "output_type": "stream",
     "text": [
      "評価データ\n",
      "0.907185628742515\n"
     ]
    }
   ],
   "source": [
    "print('評価データ')\n",
    "print(accuracy(feature_test, test['CATEGORY']))"
   ]
  },
  {
   "cell_type": "code",
   "execution_count": null,
   "id": "beda1c25",
   "metadata": {},
   "outputs": [],
   "source": []
  }
 ],
 "metadata": {
  "kernelspec": {
   "display_name": "Python 3",
   "language": "python",
   "name": "python3"
  },
  "language_info": {
   "codemirror_mode": {
    "name": "ipython",
    "version": 3
   },
   "file_extension": ".py",
   "mimetype": "text/x-python",
   "name": "python",
   "nbconvert_exporter": "python",
   "pygments_lexer": "ipython3",
   "version": "3.7.7"
  }
 },
 "nbformat": 4,
 "nbformat_minor": 5
}
