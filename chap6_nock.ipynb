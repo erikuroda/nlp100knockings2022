{
 "cells": [
  {
   "cell_type": "markdown",
   "metadata": {},
   "source": [
    "# 50\n",
    "ダウンロードしたzipファイルを解凍し，readme.txtの説明を読む．\n",
    "情報源（publisher）が”Reuters”, “Huffington Post”, “Businessweek”, “Contactmusic.com”, “Daily Mail”の事例（記事）のみを抽出する．\n",
    "抽出された事例をランダムに並び替える．\n",
    "抽出された事例の80%を学習データ，残りの10%ずつを検証データと評価データに分割し，それぞれtrain.txt，valid.txt，test.txtというファイル名で保存する．ファイルには，１行に１事例を書き出すこととし，カテゴリ名と記事見出しのタブ区切り形式とせよ（このファイルは後に問題70で再利用する）．\n",
    "学習データと評価データを作成したら，各カテゴリの事例数を確認せよ．"
   ]
  },
  {
   "cell_type": "code",
   "execution_count": 19,
   "metadata": {},
   "outputs": [],
   "source": [
    "#情報源（publisher）が”Reuters”, “Huffington Post”, “Businessweek”, “Contactmusic.com”, “Daily Mail”の事例（記事）のみを抽出する．\n",
    "import pandas as pd\n",
    "file=pd.read_csv('newsCorpora.csv',sep='\\t',header=None,names=['ID','TITLE','URL','PUBLISHER','CATEGORY','STORY','HOSTNAME','TIMESTAMP'])\n",
    "file1=file[file['PUBLISHER'].isin(['Reuters','Huffington Post','Businessweek','Contactmusic.com','Daily Mail'])]\n"
   ]
  },
  {
   "cell_type": "code",
   "execution_count": 39,
   "metadata": {},
   "outputs": [
    {
     "data": {
      "text/html": [
       "<div>\n",
       "<style scoped>\n",
       "    .dataframe tbody tr th:only-of-type {\n",
       "        vertical-align: middle;\n",
       "    }\n",
       "\n",
       "    .dataframe tbody tr th {\n",
       "        vertical-align: top;\n",
       "    }\n",
       "\n",
       "    .dataframe thead th {\n",
       "        text-align: right;\n",
       "    }\n",
       "</style>\n",
       "<table border=\"1\" class=\"dataframe\">\n",
       "  <thead>\n",
       "    <tr style=\"text-align: right;\">\n",
       "      <th></th>\n",
       "      <th>ID</th>\n",
       "      <th>TITLE</th>\n",
       "      <th>URL</th>\n",
       "      <th>PUBLISHER</th>\n",
       "      <th>CATEGORY</th>\n",
       "      <th>STORY</th>\n",
       "      <th>HOSTNAME</th>\n",
       "      <th>TIMESTAMP</th>\n",
       "    </tr>\n",
       "  </thead>\n",
       "  <tbody>\n",
       "    <tr>\n",
       "      <th>0</th>\n",
       "      <td>248200</td>\n",
       "      <td>going nowhere fast at mcdonald s</td>\n",
       "      <td>http://www.huffingtonpost.com/jack-temple/mcdo...</td>\n",
       "      <td>Huffington Post</td>\n",
       "      <td>b</td>\n",
       "      <td>d2TIybtNd4aPZIMrVu3tVUSu870sM</td>\n",
       "      <td>www.huffingtonpost.com</td>\n",
       "      <td>1400986888691</td>\n",
       "    </tr>\n",
       "    <tr>\n",
       "      <th>1</th>\n",
       "      <td>407497</td>\n",
       "      <td>this phone plan lets you pay for facebook and ...</td>\n",
       "      <td>http://www.huffingtonpost.com/2014/07/31/sprin...</td>\n",
       "      <td>Huffington Post</td>\n",
       "      <td>t</td>\n",
       "      <td>dUYL87lG0rr5S5Mm-H_jM0AD5umdM</td>\n",
       "      <td>www.huffingtonpost.com</td>\n",
       "      <td>1406865857320</td>\n",
       "    </tr>\n",
       "    <tr>\n",
       "      <th>2</th>\n",
       "      <td>86454</td>\n",
       "      <td>game of thrones season four premiere sees hbo ...</td>\n",
       "      <td>http://www.dailymail.co.uk/news/article-259854...</td>\n",
       "      <td>Daily Mail</td>\n",
       "      <td>e</td>\n",
       "      <td>dWW7KObMwSCdowM_3PYsmBJm7rcsM</td>\n",
       "      <td>www.dailymail.co.uk</td>\n",
       "      <td>1396882098429</td>\n",
       "    </tr>\n",
       "    <tr>\n",
       "      <th>3</th>\n",
       "      <td>252280</td>\n",
       "      <td>the insta wedding  how kim kardashian and kany...</td>\n",
       "      <td>http://www.dailymail.co.uk/tvshowbiz/article-2...</td>\n",
       "      <td>Daily Mail</td>\n",
       "      <td>e</td>\n",
       "      <td>dpFsJPHfHX9aF9M6iKphFeQmXqNzM</td>\n",
       "      <td>www.dailymail.co.uk</td>\n",
       "      <td>1401112152169</td>\n",
       "    </tr>\n",
       "    <tr>\n",
       "      <th>4</th>\n",
       "      <td>315101</td>\n",
       "      <td>abbvie presses case for  0 billion shire takeover</td>\n",
       "      <td>http://in.reuters.com/article/2014/06/25/shire...</td>\n",
       "      <td>Reuters</td>\n",
       "      <td>b</td>\n",
       "      <td>dXXj1Q29u_Hc7oM7foZCXdVbwPsJM</td>\n",
       "      <td>in.reuters.com</td>\n",
       "      <td>1403703345189</td>\n",
       "    </tr>\n",
       "  </tbody>\n",
       "</table>\n",
       "</div>"
      ],
      "text/plain": [
       "       ID                                              TITLE  \\\n",
       "0  248200                   going nowhere fast at mcdonald s   \n",
       "1  407497  this phone plan lets you pay for facebook and ...   \n",
       "2   86454  game of thrones season four premiere sees hbo ...   \n",
       "3  252280  the insta wedding  how kim kardashian and kany...   \n",
       "4  315101  abbvie presses case for  0 billion shire takeover   \n",
       "\n",
       "                                                 URL        PUBLISHER  \\\n",
       "0  http://www.huffingtonpost.com/jack-temple/mcdo...  Huffington Post   \n",
       "1  http://www.huffingtonpost.com/2014/07/31/sprin...  Huffington Post   \n",
       "2  http://www.dailymail.co.uk/news/article-259854...       Daily Mail   \n",
       "3  http://www.dailymail.co.uk/tvshowbiz/article-2...       Daily Mail   \n",
       "4  http://in.reuters.com/article/2014/06/25/shire...          Reuters   \n",
       "\n",
       "  CATEGORY                          STORY                HOSTNAME  \\\n",
       "0        b  d2TIybtNd4aPZIMrVu3tVUSu870sM  www.huffingtonpost.com   \n",
       "1        t  dUYL87lG0rr5S5Mm-H_jM0AD5umdM  www.huffingtonpost.com   \n",
       "2        e  dWW7KObMwSCdowM_3PYsmBJm7rcsM     www.dailymail.co.uk   \n",
       "3        e  dpFsJPHfHX9aF9M6iKphFeQmXqNzM     www.dailymail.co.uk   \n",
       "4        b  dXXj1Q29u_Hc7oM7foZCXdVbwPsJM          in.reuters.com   \n",
       "\n",
       "       TIMESTAMP  \n",
       "0  1400986888691  \n",
       "1  1406865857320  \n",
       "2  1396882098429  \n",
       "3  1401112152169  \n",
       "4  1403703345189  "
      ]
     },
     "execution_count": 39,
     "metadata": {},
     "output_type": "execute_result"
    }
   ],
   "source": [
    "file1.head()"
   ]
  },
  {
   "cell_type": "code",
   "execution_count": 83,
   "metadata": {},
   "outputs": [],
   "source": [
    "#3.抽出された事例をランダムに並び替える．\n",
    "#4.抽出された事例の80%を学習データ，残りの10%ずつを検証データと評価データに分割し，それぞれtrain.txt，valid.txt，test.txtというファイル名で保存する．\n",
    "from sklearn.model_selection import train_test_split\n",
    "#x_trainとx_validに分ける。random_stateで、stratifyのラベルを偏らないようにする \n",
    "#x_train, x_valid1  = train_test_split( file1, train_size=0.8,shuffle=True,random_state=123)\n",
    "#x_valid,x_test =train_test_split(x_valid1,train_size=0.5,shuffle=True,random_state=123)\n",
    "x_train, x_valid1  = train_test_split( file1, train_size=0.8,shuffle=True)\n",
    "x_valid,x_test =train_test_split(x_valid1,train_size=0.5,shuffle=True)"
   ]
  },
  {
   "cell_type": "code",
   "execution_count": null,
   "metadata": {},
   "outputs": [],
   "source": []
  },
  {
   "cell_type": "code",
   "execution_count": 84,
   "metadata": {},
   "outputs": [],
   "source": [
    "from sklearn.model_selection import train_test_split\n",
    "feature=file1#特徴データ\n",
    "#x_trainは入力データ, 出力データ(目的変数)\n",
    "x_train, x_valid1  = train_test_split( feature, test_size=0.2,shuffle=True)\n",
    "x_valid,x_test =train_test_split(x_valid1,train_size=0.5,shuffle=True)"
   ]
  },
  {
   "cell_type": "code",
   "execution_count": 85,
   "metadata": {},
   "outputs": [
    {
     "name": "stdout",
     "output_type": "stream",
     "text": [
      "b    4489\n",
      "e    4236\n",
      "t    1210\n",
      "m     737\n",
      "Name: CATEGORY, dtype: int64\n",
      "b    592\n",
      "e    505\n",
      "t    139\n",
      "m     98\n",
      "Name: CATEGORY, dtype: int64\n",
      "b    546\n",
      "e    538\n",
      "t    175\n",
      "m     75\n",
      "Name: CATEGORY, dtype: int64\n"
     ]
    }
   ],
   "source": [
    "#学習データと評価データを作成したら，各カテゴリの事例数を確認せよ．\n",
    "print(x_train['CATEGORY'].value_counts())\n",
    "print(x_valid['CATEGORY'].value_counts())\n",
    "print(x_test['CATEGORY'].value_counts())"
   ]
  },
  {
   "cell_type": "code",
   "execution_count": 86,
   "metadata": {},
   "outputs": [
    {
     "name": "stdout",
     "output_type": "stream",
     "text": [
      "           ID                                              TITLE  \\\n",
      "760    253019  us drugs giant pfizer walks away from £0m take...   \n",
      "10369  239283  refile facebook narrows audience that sees new...   \n",
      "13122   92168  update 0 comcast defends merger as us review k...   \n",
      "6711   367851  fcc names heads of comcast twc  at t directv d...   \n",
      "6790   173300  ecb primed for action seen boosting inflation ...   \n",
      "...       ...                                                ...   \n",
      "1460   393422  faa suggests southwest pay  0 million fine ove...   \n",
      "2412    41547  home prices rose 0 0   smallest gain since aug...   \n",
      "4168    87262  japan current account rebounds to first surplu...   \n",
      "7433   367073  russian pilots who managed to pull up and avoi...   \n",
      "1410   361519  jessica simpson   jessica simpson hosts  famil...   \n",
      "\n",
      "                                                     URL         PUBLISHER  \\\n",
      "760    http://www.dailymail.co.uk/news/article-263969...        Daily Mail   \n",
      "10369  http://www.reuters.com/article/2014/05/22/face...           Reuters   \n",
      "13122  http://in.reuters.com/article/2014/04/08/comca...           Reuters   \n",
      "6711   http://in.reuters.com/article/2014/07/07/us-us...           Reuters   \n",
      "6790   http://www.businessweek.com/news/2014-04-29/ec...      Businessweek   \n",
      "...                                                  ...               ...   \n",
      "1460   http://www.businessweek.com/articles/2014-07-2...      Businessweek   \n",
      "2412   http://www.businessweek.com/news/2014-03-25/ho...      Businessweek   \n",
      "4168   http://www.businessweek.com/news/2014-04-07/ja...      Businessweek   \n",
      "7433   http://www.dailymail.co.uk/news/article-268426...        Daily Mail   \n",
      "1410   http://www.contactmusic.com/story/jessica-simp...  Contactmusic.com   \n",
      "\n",
      "      CATEGORY                          STORY              HOSTNAME  \\\n",
      "760          b  dt-x5_amGMvlV7Mrtwn4S7jXXL6LM   www.dailymail.co.uk   \n",
      "10369        t  dH6WrL6-XKOkzdMM-Ww3fLTvNzNtM       www.reuters.com   \n",
      "13122        t  d_kFzlpAiem9nGMQKPbuT9HhRMhzM        in.reuters.com   \n",
      "6711         t  dm0bAkZBAiPpD7Mwwc_PQd1BtH9HM        in.reuters.com   \n",
      "6790         b  d6oH4km9IXNQhDMMjOqbrYbTbVjcM  www.businessweek.com   \n",
      "...        ...                            ...                   ...   \n",
      "1460         b  d1ZpPqST8M_GNvMylMyeGqbjesf2M  www.businessweek.com   \n",
      "2412         b  dV_mH5Zqkuj_wBM68o5qjJ4OM7YVM  www.businessweek.com   \n",
      "4168         b  dPS1uhnvKVs9-LMEZN0oURuWIJ5XM  www.businessweek.com   \n",
      "7433         b  dUAXUDNU8EuVDUMa5Xo7cwkazAk7M   www.dailymail.co.uk   \n",
      "1410         e  dZRDCXJyWOc8ClMSAyQ02_Dda3CMM  www.contactmusic.com   \n",
      "\n",
      "           TIMESTAMP  \n",
      "760    1401161060967  \n",
      "10369  1400823165555  \n",
      "13122  1396991113276  \n",
      "6711   1404825419766  \n",
      "6790   1398863278873  \n",
      "...              ...  \n",
      "1460   1406631597555  \n",
      "2412   1395770141190  \n",
      "4168   1396928339927  \n",
      "7433   1404817967934  \n",
      "1410   1404596737283  \n",
      "\n",
      "[10672 rows x 8 columns]\n"
     ]
    }
   ],
   "source": [
    "# テキストファイル（カンマ以外の区切り文字）として（ヘッダーあり）\n",
    "#4.ファイルには，１行に１事例を書き出すこととし，カテゴリ名と記事見出しのタブ区切り形式とせよ\n",
    "x_train.to_csv(\"text.txt\", sep=\"\\t\",index=False)\n",
    "x_valid.to_csv(\"valid.txt\", sep=\"\\t\", index=False)\n",
    "x_test.to_csv(\"test..txt\", sep=\"\\t\", index=False)\n",
    "print(x_train)"
   ]
  },
  {
   "cell_type": "markdown",
   "metadata": {},
   "source": [
    "# 51\n",
    "学習データ，検証データ，評価データから特徴量を抽出し，それぞれtrain.feature.txt，valid.feature.txt，test.feature.txtというファイル名で保存せよ． なお，カテゴリ分類に有用そうな特徴量は各自で自由に設計せよ．記事の見出しを単語列に変換したものが最低限のベースラインとなるであろう．"
   ]
  },
  {
   "cell_type": "code",
   "execution_count": 87,
   "metadata": {},
   "outputs": [],
   "source": [
    "import string\n",
    "import re\n",
    "\n",
    "def preprocessing(text):\n",
    "    table = str.maketrans(string.punctuation, ' '*len(string.punctuation))\n",
    "    text = text.translate(table)  # 記号をスペースに置換                    \n",
    "    text = text.lower()  # 小文字化                                         \n",
    "    text = re.sub('[0-9]+', '0', text)  # 数字列を0に置換                   \n",
    "\n",
    "    return text\n",
    "\n",
    "file1=pd.concat([x_train,x_valid,x_test],axis=0)\n",
    "file1.reset_index(drop=True,inplace=True)\n",
    "\n",
    "file1['TITLE']=file1['TITLE'].map(lambda x:preprocessing(x))\n"
   ]
  },
  {
   "cell_type": "code",
   "execution_count": 88,
   "metadata": {},
   "outputs": [],
   "source": [
    "from sklearn.feature_extraction.text import TfidfVectorizer"
   ]
  },
  {
   "cell_type": "code",
   "execution_count": 89,
   "metadata": {},
   "outputs": [],
   "source": [
    "#初めからlen(x_train)+len(x_valid)まで\n",
    "train_valid=file1[:len(x_train)+len(x_valid)]\n",
    "test=file1[len(x_train)+len(x_valid):]"
   ]
  },
  {
   "cell_type": "code",
   "execution_count": 90,
   "metadata": {},
   "outputs": [
    {
     "name": "stdout",
     "output_type": "stream",
     "text": [
      "12006\n",
      "1334\n",
      "13340\n",
      "10672\n",
      "1334\n"
     ]
    }
   ],
   "source": [
    "print(len(train_valid))\n",
    "print(len(test))\n",
    "print(len(file1))\n",
    "print(len(x_train))\n",
    "print(len(x_valid))"
   ]
  },
  {
   "cell_type": "code",
   "execution_count": 91,
   "metadata": {},
   "outputs": [],
   "source": [
    "train_valid=train_valid[['TITLE','CATEGORY']]\n",
    "test=test[['TITLE','CATEGORY']]"
   ]
  },
  {
   "cell_type": "code",
   "execution_count": 92,
   "metadata": {},
   "outputs": [],
   "source": [
    "#TfidfVectorizer: 文書群を与えると各文書をtf-idfの値を基にしたベクトルに変換する\n",
    "from sklearn.feature_extraction.text import TfidfVectorizer\n",
    "vec_tfidf =TfidfVectorizer(min_df=10,ngram_range=(1,2))"
   ]
  },
  {
   "cell_type": "code",
   "execution_count": 93,
   "metadata": {},
   "outputs": [
    {
     "data": {
      "text/plain": [
       "TfidfVectorizer(min_df=10, ngram_range=(1, 2))"
      ]
     },
     "execution_count": 93,
     "metadata": {},
     "output_type": "execute_result"
    }
   ],
   "source": [
    "vec_tfidf"
   ]
  },
  {
   "cell_type": "code",
   "execution_count": 94,
   "metadata": {},
   "outputs": [],
   "source": [
    "#fit:入力の文書群を与えて語彙の獲得やidfの計算をする\n",
    "#transform: fitしたことで得た語彙やidfを基に文書をtf-idf行列に変換する\n",
    "train_valid_vec= vec_tfidf.fit_transform(train_valid['TITLE'])\n",
    "test_vec= vec_tfidf.transform(test['TITLE'])"
   ]
  },
  {
   "cell_type": "code",
   "execution_count": 95,
   "metadata": {},
   "outputs": [],
   "source": [
    "#ベクトルをデータフレームに変換\n",
    "train_valid_feature=pd.DataFrame(train_valid_vec.toarray(),columns=vec_tfidf.get_feature_names())\n",
    "#valid_feature=pd.DataFrame(valid_vec.toarray())\n",
    "test_feature=pd.DataFrame(test_vec.toarray(),columns=vec_tfidf.get_feature_names())"
   ]
  },
  {
   "cell_type": "code",
   "execution_count": 96,
   "metadata": {},
   "outputs": [],
   "source": [
    "train_feature= train_valid_feature[:len(x_train)]\n",
    "valid_feature= train_valid_feature[len(x_train):]\n",
    "\n",
    "# テキストファイル（カンマ以外の区切り文字）として（ヘッダーあり）\n",
    "train_feature.to_csv(\"text.feature.txt\", sep=\"\\t\",index=False)\n",
    "valid_feature.to_csv(\"valid.feature.txt\", sep=\"\\t\", index=False)\n",
    "test_feature.to_csv(\"test.feature.txt\", sep=\"\\t\", index=False)"
   ]
  },
  {
   "cell_type": "code",
   "execution_count": 97,
   "metadata": {},
   "outputs": [
    {
     "data": {
      "text/html": [
       "<div>\n",
       "<style scoped>\n",
       "    .dataframe tbody tr th:only-of-type {\n",
       "        vertical-align: middle;\n",
       "    }\n",
       "\n",
       "    .dataframe tbody tr th {\n",
       "        vertical-align: top;\n",
       "    }\n",
       "\n",
       "    .dataframe thead th {\n",
       "        text-align: right;\n",
       "    }\n",
       "</style>\n",
       "<table border=\"1\" class=\"dataframe\">\n",
       "  <thead>\n",
       "    <tr style=\"text-align: right;\">\n",
       "      <th></th>\n",
       "      <th>0m</th>\n",
       "      <th>0nd</th>\n",
       "      <th>0s</th>\n",
       "      <th>0st</th>\n",
       "      <th>0th</th>\n",
       "      <th>0th birthday</th>\n",
       "      <th>aa</th>\n",
       "      <th>abbvie</th>\n",
       "      <th>abc</th>\n",
       "      <th>about</th>\n",
       "      <th>...</th>\n",
       "      <th>young</th>\n",
       "      <th>your</th>\n",
       "      <th>your mother</th>\n",
       "      <th>yr</th>\n",
       "      <th>yr high</th>\n",
       "      <th>yuan</th>\n",
       "      <th>zac</th>\n",
       "      <th>zac efron</th>\n",
       "      <th>zendaya</th>\n",
       "      <th>zone</th>\n",
       "    </tr>\n",
       "  </thead>\n",
       "  <tbody>\n",
       "    <tr>\n",
       "      <th>0</th>\n",
       "      <td>0.297949</td>\n",
       "      <td>0.0</td>\n",
       "      <td>0.0</td>\n",
       "      <td>0.0</td>\n",
       "      <td>0.0</td>\n",
       "      <td>0.0</td>\n",
       "      <td>0.0</td>\n",
       "      <td>0.0</td>\n",
       "      <td>0.0</td>\n",
       "      <td>0.0</td>\n",
       "      <td>...</td>\n",
       "      <td>0.0</td>\n",
       "      <td>0.0</td>\n",
       "      <td>0.0</td>\n",
       "      <td>0.0</td>\n",
       "      <td>0.0</td>\n",
       "      <td>0.0</td>\n",
       "      <td>0.0</td>\n",
       "      <td>0.0</td>\n",
       "      <td>0.0</td>\n",
       "      <td>0.0</td>\n",
       "    </tr>\n",
       "    <tr>\n",
       "      <th>1</th>\n",
       "      <td>0.000000</td>\n",
       "      <td>0.0</td>\n",
       "      <td>0.0</td>\n",
       "      <td>0.0</td>\n",
       "      <td>0.0</td>\n",
       "      <td>0.0</td>\n",
       "      <td>0.0</td>\n",
       "      <td>0.0</td>\n",
       "      <td>0.0</td>\n",
       "      <td>0.0</td>\n",
       "      <td>...</td>\n",
       "      <td>0.0</td>\n",
       "      <td>0.0</td>\n",
       "      <td>0.0</td>\n",
       "      <td>0.0</td>\n",
       "      <td>0.0</td>\n",
       "      <td>0.0</td>\n",
       "      <td>0.0</td>\n",
       "      <td>0.0</td>\n",
       "      <td>0.0</td>\n",
       "      <td>0.0</td>\n",
       "    </tr>\n",
       "    <tr>\n",
       "      <th>2</th>\n",
       "      <td>0.000000</td>\n",
       "      <td>0.0</td>\n",
       "      <td>0.0</td>\n",
       "      <td>0.0</td>\n",
       "      <td>0.0</td>\n",
       "      <td>0.0</td>\n",
       "      <td>0.0</td>\n",
       "      <td>0.0</td>\n",
       "      <td>0.0</td>\n",
       "      <td>0.0</td>\n",
       "      <td>...</td>\n",
       "      <td>0.0</td>\n",
       "      <td>0.0</td>\n",
       "      <td>0.0</td>\n",
       "      <td>0.0</td>\n",
       "      <td>0.0</td>\n",
       "      <td>0.0</td>\n",
       "      <td>0.0</td>\n",
       "      <td>0.0</td>\n",
       "      <td>0.0</td>\n",
       "      <td>0.0</td>\n",
       "    </tr>\n",
       "    <tr>\n",
       "      <th>3</th>\n",
       "      <td>0.000000</td>\n",
       "      <td>0.0</td>\n",
       "      <td>0.0</td>\n",
       "      <td>0.0</td>\n",
       "      <td>0.0</td>\n",
       "      <td>0.0</td>\n",
       "      <td>0.0</td>\n",
       "      <td>0.0</td>\n",
       "      <td>0.0</td>\n",
       "      <td>0.0</td>\n",
       "      <td>...</td>\n",
       "      <td>0.0</td>\n",
       "      <td>0.0</td>\n",
       "      <td>0.0</td>\n",
       "      <td>0.0</td>\n",
       "      <td>0.0</td>\n",
       "      <td>0.0</td>\n",
       "      <td>0.0</td>\n",
       "      <td>0.0</td>\n",
       "      <td>0.0</td>\n",
       "      <td>0.0</td>\n",
       "    </tr>\n",
       "    <tr>\n",
       "      <th>4</th>\n",
       "      <td>0.000000</td>\n",
       "      <td>0.0</td>\n",
       "      <td>0.0</td>\n",
       "      <td>0.0</td>\n",
       "      <td>0.0</td>\n",
       "      <td>0.0</td>\n",
       "      <td>0.0</td>\n",
       "      <td>0.0</td>\n",
       "      <td>0.0</td>\n",
       "      <td>0.0</td>\n",
       "      <td>...</td>\n",
       "      <td>0.0</td>\n",
       "      <td>0.0</td>\n",
       "      <td>0.0</td>\n",
       "      <td>0.0</td>\n",
       "      <td>0.0</td>\n",
       "      <td>0.0</td>\n",
       "      <td>0.0</td>\n",
       "      <td>0.0</td>\n",
       "      <td>0.0</td>\n",
       "      <td>0.0</td>\n",
       "    </tr>\n",
       "  </tbody>\n",
       "</table>\n",
       "<p>5 rows × 2833 columns</p>\n",
       "</div>"
      ],
      "text/plain": [
       "         0m  0nd   0s  0st  0th  0th birthday   aa  abbvie  abc  about  ...  \\\n",
       "0  0.297949  0.0  0.0  0.0  0.0           0.0  0.0     0.0  0.0    0.0  ...   \n",
       "1  0.000000  0.0  0.0  0.0  0.0           0.0  0.0     0.0  0.0    0.0  ...   \n",
       "2  0.000000  0.0  0.0  0.0  0.0           0.0  0.0     0.0  0.0    0.0  ...   \n",
       "3  0.000000  0.0  0.0  0.0  0.0           0.0  0.0     0.0  0.0    0.0  ...   \n",
       "4  0.000000  0.0  0.0  0.0  0.0           0.0  0.0     0.0  0.0    0.0  ...   \n",
       "\n",
       "   young  your  your mother   yr  yr high  yuan  zac  zac efron  zendaya  zone  \n",
       "0    0.0   0.0          0.0  0.0      0.0   0.0  0.0        0.0      0.0   0.0  \n",
       "1    0.0   0.0          0.0  0.0      0.0   0.0  0.0        0.0      0.0   0.0  \n",
       "2    0.0   0.0          0.0  0.0      0.0   0.0  0.0        0.0      0.0   0.0  \n",
       "3    0.0   0.0          0.0  0.0      0.0   0.0  0.0        0.0      0.0   0.0  \n",
       "4    0.0   0.0          0.0  0.0      0.0   0.0  0.0        0.0      0.0   0.0  \n",
       "\n",
       "[5 rows x 2833 columns]"
      ]
     },
     "execution_count": 97,
     "metadata": {},
     "output_type": "execute_result"
    }
   ],
   "source": [
    "train_feature.head()"
   ]
  },
  {
   "cell_type": "markdown",
   "metadata": {},
   "source": [
    "# うまく行かなかった方"
   ]
  },
  {
   "cell_type": "code",
   "execution_count": 102,
   "metadata": {},
   "outputs": [],
   "source": [
    "train_f=x_train[['TITLE','CATEGORY']]\n",
    "valid_f=x_valid[['TITLE','CATEGORY']]\n",
    "test_f=x_test[['TITLE','CATEGORY']]"
   ]
  },
  {
   "cell_type": "code",
   "execution_count": 103,
   "metadata": {},
   "outputs": [
    {
     "data": {
      "text/html": [
       "<div>\n",
       "<style scoped>\n",
       "    .dataframe tbody tr th:only-of-type {\n",
       "        vertical-align: middle;\n",
       "    }\n",
       "\n",
       "    .dataframe tbody tr th {\n",
       "        vertical-align: top;\n",
       "    }\n",
       "\n",
       "    .dataframe thead th {\n",
       "        text-align: right;\n",
       "    }\n",
       "</style>\n",
       "<table border=\"1\" class=\"dataframe\">\n",
       "  <thead>\n",
       "    <tr style=\"text-align: right;\">\n",
       "      <th></th>\n",
       "      <th>TITLE</th>\n",
       "      <th>CATEGORY</th>\n",
       "    </tr>\n",
       "  </thead>\n",
       "  <tbody>\n",
       "    <tr>\n",
       "      <th>6993</th>\n",
       "      <td>yen weakens versus most major peers  kiwi appr...</td>\n",
       "      <td>b</td>\n",
       "    </tr>\n",
       "    <tr>\n",
       "      <th>7906</th>\n",
       "      <td>us debt falls for first time in 0 weeks on ukr...</td>\n",
       "      <td>b</td>\n",
       "    </tr>\n",
       "    <tr>\n",
       "      <th>9934</th>\n",
       "      <td>update 0 ford profit driven down by north amer...</td>\n",
       "      <td>b</td>\n",
       "    </tr>\n",
       "    <tr>\n",
       "      <th>12732</th>\n",
       "      <td>boeing to build largest 0 dreamliner in south ...</td>\n",
       "      <td>b</td>\n",
       "    </tr>\n",
       "    <tr>\n",
       "      <th>8001</th>\n",
       "      <td>us tv network fox to air live  grease  musical...</td>\n",
       "      <td>e</td>\n",
       "    </tr>\n",
       "    <tr>\n",
       "      <th>...</th>\n",
       "      <td>...</td>\n",
       "      <td>...</td>\n",
       "    </tr>\n",
       "    <tr>\n",
       "      <th>4500</th>\n",
       "      <td>level 0 agrees to buy tw telecom in  0 0 billi...</td>\n",
       "      <td>b</td>\n",
       "    </tr>\n",
       "    <tr>\n",
       "      <th>2512</th>\n",
       "      <td>robin thicke s new album is reportedly called ...</td>\n",
       "      <td>e</td>\n",
       "    </tr>\n",
       "    <tr>\n",
       "      <th>5600</th>\n",
       "      <td>kim kardashian wears pencil skirt and tank top...</td>\n",
       "      <td>e</td>\n",
       "    </tr>\n",
       "    <tr>\n",
       "      <th>9462</th>\n",
       "      <td>paul walker gets emotional mtv movie awards tr...</td>\n",
       "      <td>e</td>\n",
       "    </tr>\n",
       "    <tr>\n",
       "      <th>7967</th>\n",
       "      <td>canada jobless rate falls to 0  as labor marke...</td>\n",
       "      <td>b</td>\n",
       "    </tr>\n",
       "  </tbody>\n",
       "</table>\n",
       "<p>1334 rows × 2 columns</p>\n",
       "</div>"
      ],
      "text/plain": [
       "                                                   TITLE CATEGORY\n",
       "6993   yen weakens versus most major peers  kiwi appr...        b\n",
       "7906   us debt falls for first time in 0 weeks on ukr...        b\n",
       "9934   update 0 ford profit driven down by north amer...        b\n",
       "12732  boeing to build largest 0 dreamliner in south ...        b\n",
       "8001   us tv network fox to air live  grease  musical...        e\n",
       "...                                                  ...      ...\n",
       "4500   level 0 agrees to buy tw telecom in  0 0 billi...        b\n",
       "2512   robin thicke s new album is reportedly called ...        e\n",
       "5600   kim kardashian wears pencil skirt and tank top...        e\n",
       "9462   paul walker gets emotional mtv movie awards tr...        e\n",
       "7967   canada jobless rate falls to 0  as labor marke...        b\n",
       "\n",
       "[1334 rows x 2 columns]"
      ]
     },
     "execution_count": 103,
     "metadata": {},
     "output_type": "execute_result"
    }
   ],
   "source": [
    "test_f"
   ]
  },
  {
   "cell_type": "code",
   "execution_count": 104,
   "metadata": {},
   "outputs": [],
   "source": [
    "#TfidfVectorizer\n",
    "from sklearn.feature_extraction.text import TfidfVectorizer\n",
    "vec_tfidf =TfidfVectorizer(min_df=10,ngram_range=(1,2))"
   ]
  },
  {
   "cell_type": "code",
   "execution_count": 105,
   "metadata": {},
   "outputs": [],
   "source": [
    "train_vec= vec_tfidf.fit_transform(train_f['TITLE'])\n",
    "valid_vec= vec_tfidf.fit_transform(valid_f['TITLE'])\n",
    "test_vec= vec_tfidf.fit_transform(test_f['TITLE'])"
   ]
  },
  {
   "cell_type": "code",
   "execution_count": 106,
   "metadata": {},
   "outputs": [
    {
     "name": "stdout",
     "output_type": "stream",
     "text": [
      "  (0, 230)\t0.31801413064933143\n",
      "  (0, 180)\t0.32893186774233096\n",
      "  (0, 2281)\t0.25211167895691217\n",
      "  (0, 774)\t0.13746379619790158\n",
      "  (0, 229)\t0.26657206050329907\n",
      "  (0, 2095)\t0.31255343182011514\n",
      "  (0, 0)\t0.3143003196338374\n",
      "  (0, 816)\t0.19274376182180666\n",
      "  (0, 179)\t0.30330518907239734\n",
      "  (0, 1587)\t0.28083229973254736\n",
      "  (0, 861)\t0.32423911776272596\n",
      "  (0, 601)\t0.32423911776272596\n",
      "  (0, 2314)\t0.1496871940621671\n",
      "  (1, 1626)\t0.39547815453899177\n",
      "  (1, 755)\t0.3004981499816169\n",
      "  (1, 2325)\t0.42384169662524923\n",
      "  (1, 1448)\t0.24843695819414208\n",
      "  (1, 1875)\t0.3599124335679201\n",
      "  (1, 2129)\t0.3118478888752606\n",
      "  (1, 691)\t0.3628283462524844\n",
      "  (1, 1728)\t0.3917967721511741\n",
      "  (2, 141)\t0.4179578636311192\n",
      "  (2, 1489)\t0.31123991557078523\n",
      "  (2, 1768)\t0.3661976037224127\n",
      "  (2, 127)\t0.19393920181596058\n",
      "  :\t:\n",
      "  (10668, 1647)\t0.3352702904770304\n",
      "  (10668, 979)\t0.32530911530134643\n",
      "  (10668, 833)\t0.3575877702147\n",
      "  (10669, 16)\t0.45785228895818497\n",
      "  (10669, 1084)\t0.35550200028120127\n",
      "  (10669, 1027)\t0.45279510485977154\n",
      "  (10669, 1389)\t0.37998332802613943\n",
      "  (10669, 1714)\t0.43607474882661557\n",
      "  (10669, 2180)\t0.13948872658329137\n",
      "  (10669, 1016)\t0.15963519438719834\n",
      "  (10669, 755)\t0.2819169842949523\n",
      "  (10670, 1599)\t0.5037170482201878\n",
      "  (10670, 1828)\t0.4562605739364758\n",
      "  (10670, 2416)\t0.35872424261205305\n",
      "  (10670, 465)\t0.44893304572074244\n",
      "  (10670, 86)\t0.22161081717588893\n",
      "  (10670, 2293)\t0.2778057488715813\n",
      "  (10670, 2180)\t0.15517581541940134\n",
      "  (10670, 154)\t0.23980104282355372\n",
      "  (10671, 990)\t0.2828470265048706\n",
      "  (10671, 1097)\t0.5362521349586135\n",
      "  (10671, 1934)\t0.5323261678012446\n",
      "  (10671, 1096)\t0.49223897501043096\n",
      "  (10671, 711)\t0.23031467628490018\n",
      "  (10671, 1560)\t0.23176712405383407\n"
     ]
    }
   ],
   "source": [
    "print(train_vec)"
   ]
  },
  {
   "cell_type": "code",
   "execution_count": 108,
   "metadata": {},
   "outputs": [
    {
     "ename": "ValueError",
     "evalue": "Shape of passed values is (10672, 2483), indices imply (10672, 194)",
     "output_type": "error",
     "traceback": [
      "\u001b[0;31m---------------------------------------------------------------------------\u001b[0m",
      "\u001b[0;31mValueError\u001b[0m                                Traceback (most recent call last)",
      "\u001b[0;32m/var/folders/xk/_k3hq_cj6yg_h593f5p3mmn40000gn/T/ipykernel_12222/1601312810.py\u001b[0m in \u001b[0;36m<module>\u001b[0;34m\u001b[0m\n\u001b[1;32m      1\u001b[0m \u001b[0;31m#ベクトルをデータフレームに変換\u001b[0m\u001b[0;34m\u001b[0m\u001b[0;34m\u001b[0m\u001b[0m\n\u001b[0;32m----> 2\u001b[0;31m \u001b[0mtrain_feature\u001b[0m\u001b[0;34m=\u001b[0m\u001b[0mpd\u001b[0m\u001b[0;34m.\u001b[0m\u001b[0mDataFrame\u001b[0m\u001b[0;34m(\u001b[0m\u001b[0mtrain_vec\u001b[0m\u001b[0;34m.\u001b[0m\u001b[0mtoarray\u001b[0m\u001b[0;34m(\u001b[0m\u001b[0;34m)\u001b[0m\u001b[0;34m,\u001b[0m\u001b[0mcolumns\u001b[0m\u001b[0;34m=\u001b[0m\u001b[0mvec_tfidf\u001b[0m\u001b[0;34m.\u001b[0m\u001b[0mget_feature_names\u001b[0m\u001b[0;34m(\u001b[0m\u001b[0;34m)\u001b[0m\u001b[0;34m)\u001b[0m\u001b[0;34m\u001b[0m\u001b[0;34m\u001b[0m\u001b[0m\n\u001b[0m\u001b[1;32m      3\u001b[0m \u001b[0;31m#valid_feature=pd.DataFrame(valid_vec.toarray())\u001b[0m\u001b[0;34m\u001b[0m\u001b[0;34m\u001b[0m\u001b[0m\n\u001b[1;32m      4\u001b[0m \u001b[0;31m#test_feature=pd.DataFrame(test_vec.toarray())\u001b[0m\u001b[0;34m\u001b[0m\u001b[0;34m\u001b[0m\u001b[0m\n",
      "\u001b[0;32m~/opt/anaconda3/lib/python3.9/site-packages/pandas/core/frame.py\u001b[0m in \u001b[0;36m__init__\u001b[0;34m(self, data, index, columns, dtype, copy)\u001b[0m\n\u001b[1;32m    670\u001b[0m                 )\n\u001b[1;32m    671\u001b[0m             \u001b[0;32melse\u001b[0m\u001b[0;34m:\u001b[0m\u001b[0;34m\u001b[0m\u001b[0;34m\u001b[0m\u001b[0m\n\u001b[0;32m--> 672\u001b[0;31m                 mgr = ndarray_to_mgr(\n\u001b[0m\u001b[1;32m    673\u001b[0m                     \u001b[0mdata\u001b[0m\u001b[0;34m,\u001b[0m\u001b[0;34m\u001b[0m\u001b[0;34m\u001b[0m\u001b[0m\n\u001b[1;32m    674\u001b[0m                     \u001b[0mindex\u001b[0m\u001b[0;34m,\u001b[0m\u001b[0;34m\u001b[0m\u001b[0;34m\u001b[0m\u001b[0m\n",
      "\u001b[0;32m~/opt/anaconda3/lib/python3.9/site-packages/pandas/core/internals/construction.py\u001b[0m in \u001b[0;36mndarray_to_mgr\u001b[0;34m(values, index, columns, dtype, copy, typ)\u001b[0m\n\u001b[1;32m    322\u001b[0m     )\n\u001b[1;32m    323\u001b[0m \u001b[0;34m\u001b[0m\u001b[0m\n\u001b[0;32m--> 324\u001b[0;31m     \u001b[0m_check_values_indices_shape_match\u001b[0m\u001b[0;34m(\u001b[0m\u001b[0mvalues\u001b[0m\u001b[0;34m,\u001b[0m \u001b[0mindex\u001b[0m\u001b[0;34m,\u001b[0m \u001b[0mcolumns\u001b[0m\u001b[0;34m)\u001b[0m\u001b[0;34m\u001b[0m\u001b[0;34m\u001b[0m\u001b[0m\n\u001b[0m\u001b[1;32m    325\u001b[0m \u001b[0;34m\u001b[0m\u001b[0m\n\u001b[1;32m    326\u001b[0m     \u001b[0;32mif\u001b[0m \u001b[0mtyp\u001b[0m \u001b[0;34m==\u001b[0m \u001b[0;34m\"array\"\u001b[0m\u001b[0;34m:\u001b[0m\u001b[0;34m\u001b[0m\u001b[0;34m\u001b[0m\u001b[0m\n",
      "\u001b[0;32m~/opt/anaconda3/lib/python3.9/site-packages/pandas/core/internals/construction.py\u001b[0m in \u001b[0;36m_check_values_indices_shape_match\u001b[0;34m(values, index, columns)\u001b[0m\n\u001b[1;32m    391\u001b[0m         \u001b[0mpassed\u001b[0m \u001b[0;34m=\u001b[0m \u001b[0mvalues\u001b[0m\u001b[0;34m.\u001b[0m\u001b[0mshape\u001b[0m\u001b[0;34m\u001b[0m\u001b[0;34m\u001b[0m\u001b[0m\n\u001b[1;32m    392\u001b[0m         \u001b[0mimplied\u001b[0m \u001b[0;34m=\u001b[0m \u001b[0;34m(\u001b[0m\u001b[0mlen\u001b[0m\u001b[0;34m(\u001b[0m\u001b[0mindex\u001b[0m\u001b[0;34m)\u001b[0m\u001b[0;34m,\u001b[0m \u001b[0mlen\u001b[0m\u001b[0;34m(\u001b[0m\u001b[0mcolumns\u001b[0m\u001b[0;34m)\u001b[0m\u001b[0;34m)\u001b[0m\u001b[0;34m\u001b[0m\u001b[0;34m\u001b[0m\u001b[0m\n\u001b[0;32m--> 393\u001b[0;31m         \u001b[0;32mraise\u001b[0m \u001b[0mValueError\u001b[0m\u001b[0;34m(\u001b[0m\u001b[0;34mf\"Shape of passed values is {passed}, indices imply {implied}\"\u001b[0m\u001b[0;34m)\u001b[0m\u001b[0;34m\u001b[0m\u001b[0;34m\u001b[0m\u001b[0m\n\u001b[0m\u001b[1;32m    394\u001b[0m \u001b[0;34m\u001b[0m\u001b[0m\n\u001b[1;32m    395\u001b[0m \u001b[0;34m\u001b[0m\u001b[0m\n",
      "\u001b[0;31mValueError\u001b[0m: Shape of passed values is (10672, 2483), indices imply (10672, 194)"
     ]
    }
   ],
   "source": [
    "#ベクトルをデータフレームに変換\n",
    "train_feature=pd.DataFrame(train_vec.toarray(),columns=vec_tfidf.get_feature_names())\n",
    "#valid_feature=pd.DataFrame(valid_vec.toarray())\n",
    "#test_feature=pd.DataFrame(test_vec.toarray())"
   ]
  },
  {
   "cell_type": "code",
   "execution_count": 190,
   "metadata": {},
   "outputs": [
    {
     "name": "stdout",
     "output_type": "stream",
     "text": [
      "       0     1     2     3     4     5     6     7     8     9     ...  2509  \\\n",
      "0       0.0   0.0   0.0   0.0   0.0   0.0   0.0   0.0   0.0   0.0  ...   0.0   \n",
      "1       0.0   0.0   0.0   0.0   0.0   0.0   0.0   0.0   0.0   0.0  ...   0.0   \n",
      "2       0.0   0.0   0.0   0.0   0.0   0.0   0.0   0.0   0.0   0.0  ...   0.0   \n",
      "3       0.0   0.0   0.0   0.0   0.0   0.0   0.0   0.0   0.0   0.0  ...   0.0   \n",
      "4       0.0   0.0   0.0   0.0   0.0   0.0   0.0   0.0   0.0   0.0  ...   0.0   \n",
      "...     ...   ...   ...   ...   ...   ...   ...   ...   ...   ...  ...   ...   \n",
      "10667   0.0   0.0   0.0   0.0   0.0   0.0   0.0   0.0   0.0   0.0  ...   0.0   \n",
      "10668   0.0   0.0   0.0   0.0   0.0   0.0   0.0   0.0   0.0   0.0  ...   0.0   \n",
      "10669   0.0   0.0   0.0   0.0   0.0   0.0   0.0   0.0   0.0   0.0  ...   0.0   \n",
      "10670   0.0   0.0   0.0   0.0   0.0   0.0   0.0   0.0   0.0   0.0  ...   0.0   \n",
      "10671   0.0   0.0   0.0   0.0   0.0   0.0   0.0   0.0   0.0   0.0  ...   0.0   \n",
      "\n",
      "           2510  2511  2512  2513  2514  2515  2516  2517  2518  \n",
      "0      0.000000   0.0   0.0   0.0   0.0   0.0   0.0   0.0   0.0  \n",
      "1      0.000000   0.0   0.0   0.0   0.0   0.0   0.0   0.0   0.0  \n",
      "2      0.000000   0.0   0.0   0.0   0.0   0.0   0.0   0.0   0.0  \n",
      "3      0.356752   0.0   0.0   0.0   0.0   0.0   0.0   0.0   0.0  \n",
      "4      0.000000   0.0   0.0   0.0   0.0   0.0   0.0   0.0   0.0  \n",
      "...         ...   ...   ...   ...   ...   ...   ...   ...   ...  \n",
      "10667  0.000000   0.0   0.0   0.0   0.0   0.0   0.0   0.0   0.0  \n",
      "10668  0.000000   0.0   0.0   0.0   0.0   0.0   0.0   0.0   0.0  \n",
      "10669  0.000000   0.0   0.0   0.0   0.0   0.0   0.0   0.0   0.0  \n",
      "10670  0.000000   0.0   0.0   0.0   0.0   0.0   0.0   0.0   0.0  \n",
      "10671  0.000000   0.0   0.0   0.0   0.0   0.0   0.0   0.0   0.0  \n",
      "\n",
      "[10672 rows x 2519 columns]\n"
     ]
    }
   ],
   "source": [
    "print(train_feature)"
   ]
  },
  {
   "cell_type": "code",
   "execution_count": 156,
   "metadata": {},
   "outputs": [],
   "source": [
    "# テキストファイル（カンマ以外の区切り文字）として（ヘッダーあり）\n",
    "train_feature.to_csv(\"text.feature.txt\", sep=\"\\t\")\n",
    "valid_feature.to_csv(\"valid.feature.txt\", sep=\"\\t\", index=False)\n",
    "test_feature.to_csv(\"test.feature.txt\", sep=\"\\t\", index=False)"
   ]
  },
  {
   "cell_type": "code",
   "execution_count": 123,
   "metadata": {},
   "outputs": [
    {
     "ename": "AttributeError",
     "evalue": "idf_ not found",
     "output_type": "error",
     "traceback": [
      "\u001b[0;31m-------------------------------------------------------------------------\u001b[0m",
      "\u001b[0;31mAttributeError\u001b[0m                          Traceback (most recent call last)",
      "\u001b[0;32m<ipython-input-123-63bd72ca8f1b>\u001b[0m in \u001b[0;36m<module>\u001b[0;34m\u001b[0m\n\u001b[1;32m      6\u001b[0m \u001b[0;34m\u001b[0m\u001b[0m\n\u001b[1;32m      7\u001b[0m \u001b[0;32mfor\u001b[0m \u001b[0mi\u001b[0m \u001b[0;32min\u001b[0m \u001b[0mrange\u001b[0m\u001b[0;34m(\u001b[0m\u001b[0mlen\u001b[0m\u001b[0;34m(\u001b[0m\u001b[0mfile_tr\u001b[0m\u001b[0;34m)\u001b[0m\u001b[0;34m)\u001b[0m\u001b[0;34m:\u001b[0m\u001b[0;34m\u001b[0m\u001b[0;34m\u001b[0m\u001b[0m\n\u001b[0;32m----> 8\u001b[0;31m     \u001b[0mX\u001b[0m\u001b[0;34m=\u001b[0m\u001b[0mvectorizer\u001b[0m\u001b[0;34m.\u001b[0m\u001b[0mfit_transform\u001b[0m\u001b[0;34m(\u001b[0m\u001b[0;34m[\u001b[0m\u001b[0mfile_tr\u001b[0m\u001b[0;34m[\u001b[0m\u001b[0mi\u001b[0m\u001b[0;34m]\u001b[0m\u001b[0;34m]\u001b[0m\u001b[0;34m)\u001b[0m\u001b[0;34m.\u001b[0m\u001b[0midf_\u001b[0m\u001b[0;34m\u001b[0m\u001b[0;34m\u001b[0m\u001b[0m\n\u001b[0m\u001b[1;32m      9\u001b[0m     \u001b[0mfeature_train\u001b[0m\u001b[0;34m.\u001b[0m\u001b[0mappend\u001b[0m\u001b[0;34m(\u001b[0m\u001b[0mX\u001b[0m\u001b[0;34m)\u001b[0m\u001b[0;34m\u001b[0m\u001b[0;34m\u001b[0m\u001b[0m\n\u001b[1;32m     10\u001b[0m \u001b[0;34m\u001b[0m\u001b[0m\n",
      "\u001b[0;32m~/opt/anaconda3/lib/python3.7/site-packages/scipy/sparse/base.py\u001b[0m in \u001b[0;36m__getattr__\u001b[0;34m(self, attr)\u001b[0m\n\u001b[1;32m    689\u001b[0m             \u001b[0;32mreturn\u001b[0m \u001b[0mself\u001b[0m\u001b[0;34m.\u001b[0m\u001b[0mgetnnz\u001b[0m\u001b[0;34m(\u001b[0m\u001b[0;34m)\u001b[0m\u001b[0;34m\u001b[0m\u001b[0;34m\u001b[0m\u001b[0m\n\u001b[1;32m    690\u001b[0m         \u001b[0;32melse\u001b[0m\u001b[0;34m:\u001b[0m\u001b[0;34m\u001b[0m\u001b[0;34m\u001b[0m\u001b[0m\n\u001b[0;32m--> 691\u001b[0;31m             \u001b[0;32mraise\u001b[0m \u001b[0mAttributeError\u001b[0m\u001b[0;34m(\u001b[0m\u001b[0mattr\u001b[0m \u001b[0;34m+\u001b[0m \u001b[0;34m\" not found\"\u001b[0m\u001b[0;34m)\u001b[0m\u001b[0;34m\u001b[0m\u001b[0;34m\u001b[0m\u001b[0m\n\u001b[0m\u001b[1;32m    692\u001b[0m \u001b[0;34m\u001b[0m\u001b[0m\n\u001b[1;32m    693\u001b[0m     \u001b[0;32mdef\u001b[0m \u001b[0mtranspose\u001b[0m\u001b[0;34m(\u001b[0m\u001b[0mself\u001b[0m\u001b[0;34m,\u001b[0m \u001b[0maxes\u001b[0m\u001b[0;34m=\u001b[0m\u001b[0;32mNone\u001b[0m\u001b[0;34m,\u001b[0m \u001b[0mcopy\u001b[0m\u001b[0;34m=\u001b[0m\u001b[0;32mFalse\u001b[0m\u001b[0;34m)\u001b[0m\u001b[0;34m:\u001b[0m\u001b[0;34m\u001b[0m\u001b[0;34m\u001b[0m\u001b[0m\n",
      "\u001b[0;31mAttributeError\u001b[0m: idf_ not found"
     ]
    }
   ],
   "source": [
    "#単語列のベクトル配列にする\n",
    "from sklearn.feature_extraction.text import TfidfVectorizer\n",
    "feature_train=[]\n",
    "feature_valid=[]\n",
    "feature_test=[]\n",
    "for i in range(len(file_tr)):\n",
    "    X=vectorizer.fit_transform([file_tr[i]]).toarray()\n",
    "    feature_train.append(X)\n",
    "\n",
    "feature_valid=[]\n",
    "for i in range(len(file_va)):\n",
    "    X=vectorizer.fit_transform([file_va[i]]).toarray()\n",
    "    feature_valid.append(X)\n",
    "    \n",
    "feature_test=[]\n",
    "for i in range(len(file_te)):\n",
    "    X=vectorizer.fit_transform([file_te[i]]).toarray()\n",
    "    feature_test.append(X)"
   ]
  },
  {
   "cell_type": "code",
   "execution_count": 122,
   "metadata": {},
   "outputs": [
    {
     "ename": "TypeError",
     "evalue": "sequence item 0: expected str instance, numpy.ndarray found",
     "output_type": "error",
     "traceback": [
      "\u001b[0;31m-------------------------------------------------------------------------\u001b[0m",
      "\u001b[0;31mTypeError\u001b[0m                               Traceback (most recent call last)",
      "\u001b[0;32m<ipython-input-122-5814966984e7>\u001b[0m in \u001b[0;36m<module>\u001b[0;34m\u001b[0m\n\u001b[1;32m      2\u001b[0m \u001b[0;31m#feature_train.to_csv(\"text.feature.txt\", sep=\"\\t\", index=False)\u001b[0m\u001b[0;34m\u001b[0m\u001b[0;34m\u001b[0m\u001b[0;34m\u001b[0m\u001b[0m\n\u001b[1;32m      3\u001b[0m \u001b[0;31m#feature_valid.to_csv(\"valid.feature.txt\", sep=\"\\t\", index=False)\u001b[0m\u001b[0;34m\u001b[0m\u001b[0;34m\u001b[0m\u001b[0;34m\u001b[0m\u001b[0m\n\u001b[0;32m----> 4\u001b[0;31m \u001b[0mtest_feature\u001b[0m\u001b[0;34m=\u001b[0m\u001b[0;34m''\u001b[0m\u001b[0;34m.\u001b[0m\u001b[0mjoin\u001b[0m\u001b[0;34m(\u001b[0m\u001b[0mfeature_test\u001b[0m\u001b[0;34m)\u001b[0m\u001b[0;34m\u001b[0m\u001b[0;34m\u001b[0m\u001b[0m\n\u001b[0m\u001b[1;32m      5\u001b[0m \u001b[0mtest_feature\u001b[0m\u001b[0;34m.\u001b[0m\u001b[0mto_csv\u001b[0m\u001b[0;34m(\u001b[0m\u001b[0;34m\"test.feature.txt\"\u001b[0m\u001b[0;34m,\u001b[0m \u001b[0mindex\u001b[0m\u001b[0;34m=\u001b[0m\u001b[0;32mFalse\u001b[0m\u001b[0;34m)\u001b[0m\u001b[0;34m\u001b[0m\u001b[0;34m\u001b[0m\u001b[0m\n",
      "\u001b[0;31mTypeError\u001b[0m: sequence item 0: expected str instance, numpy.ndarray found"
     ]
    }
   ],
   "source": [
    "# テキストファイル（カンマ以外の区切り文字）として（ヘッダーあり）\n",
    "#feature_train.to_csv(\"text.feature.txt\", sep=\"\\t\", index=False)\n",
    "#feature_valid.to_csv(\"valid.feature.txt\", sep=\"\\t\", index=False)\n",
    "test_feature=''.join(feature_test)"
   ]
  },
  {
   "cell_type": "code",
   "execution_count": 101,
   "metadata": {},
   "outputs": [
    {
     "data": {
      "text/plain": [
       "array([[0., 0., 0., ..., 0., 0., 0.],\n",
       "       [0., 0., 0., ..., 0., 0., 0.],\n",
       "       [0., 0., 0., ..., 0., 0., 0.],\n",
       "       ...,\n",
       "       [0., 0., 0., ..., 0., 0., 0.],\n",
       "       [0., 0., 0., ..., 0., 0., 0.],\n",
       "       [0., 0., 0., ..., 0., 0., 0.]])"
      ]
     },
     "execution_count": 101,
     "metadata": {},
     "output_type": "execute_result"
    }
   ],
   "source": [
    "train_feature"
   ]
  },
  {
   "cell_type": "code",
   "execution_count": null,
   "metadata": {},
   "outputs": [],
   "source": []
  },
  {
   "cell_type": "code",
   "execution_count": 81,
   "metadata": {},
   "outputs": [],
   "source": [
    "from sklearn.feature_extraction.text import TfidfVectorizer\n",
    "vectorizer=TfidfVectorizer()\n",
    "train_feature=vectorizer.fit(file_tr['TITLE'])\n",
    "valid_feature=vectorizer.fit(file_va['TITLE'])\n",
    "test_feature=vectorizer.fit(file_te['TITLE'])"
   ]
  },
  {
   "cell_type": "code",
   "execution_count": 86,
   "metadata": {},
   "outputs": [
    {
     "data": {
      "text/plain": [
       "\"Valeant sees 'unrivaled' growth in possible Allergan merger\""
      ]
     },
     "execution_count": 86,
     "metadata": {},
     "output_type": "execute_result"
    }
   ],
   "source": [
    "\n",
    "file_tr['TITLE'][0]"
   ]
  },
  {
   "cell_type": "code",
   "execution_count": 82,
   "metadata": {},
   "outputs": [
    {
     "ename": "AttributeError",
     "evalue": "'TfidfVectorizer' object has no attribute 'to_csv'",
     "output_type": "error",
     "traceback": [
      "\u001b[0;31m-------------------------------------------------------------------------\u001b[0m",
      "\u001b[0;31mAttributeError\u001b[0m                          Traceback (most recent call last)",
      "\u001b[0;32m<ipython-input-82-4947430f58c2>\u001b[0m in \u001b[0;36m<module>\u001b[0;34m\u001b[0m\n\u001b[1;32m      1\u001b[0m \u001b[0;31m# テキストファイル（カンマ以外の区切り文字）として（ヘッダーあり）\u001b[0m\u001b[0;34m\u001b[0m\u001b[0;34m\u001b[0m\u001b[0;34m\u001b[0m\u001b[0m\n\u001b[0;32m----> 2\u001b[0;31m \u001b[0mtrain_feature\u001b[0m\u001b[0;34m.\u001b[0m\u001b[0mto_csv\u001b[0m\u001b[0;34m(\u001b[0m\u001b[0;34m\"text.feature.txt\"\u001b[0m\u001b[0;34m,\u001b[0m \u001b[0msep\u001b[0m\u001b[0;34m=\u001b[0m\u001b[0;34m\"\\t\"\u001b[0m\u001b[0;34m,\u001b[0m \u001b[0mindex\u001b[0m\u001b[0;34m=\u001b[0m\u001b[0;32mFalse\u001b[0m\u001b[0;34m)\u001b[0m\u001b[0;34m\u001b[0m\u001b[0;34m\u001b[0m\u001b[0m\n\u001b[0m\u001b[1;32m      3\u001b[0m \u001b[0mvalid_feature\u001b[0m\u001b[0;34m.\u001b[0m\u001b[0mto_csv\u001b[0m\u001b[0;34m(\u001b[0m\u001b[0;34m\"valid.feature.txt\"\u001b[0m\u001b[0;34m,\u001b[0m \u001b[0msep\u001b[0m\u001b[0;34m=\u001b[0m\u001b[0;34m\"\\t\"\u001b[0m\u001b[0;34m,\u001b[0m \u001b[0mindex\u001b[0m\u001b[0;34m=\u001b[0m\u001b[0;32mFalse\u001b[0m\u001b[0;34m)\u001b[0m\u001b[0;34m\u001b[0m\u001b[0;34m\u001b[0m\u001b[0m\n\u001b[1;32m      4\u001b[0m \u001b[0mtest_feature\u001b[0m\u001b[0;34m.\u001b[0m\u001b[0mto_csv\u001b[0m\u001b[0;34m(\u001b[0m\u001b[0;34m\"test.feature.txt\"\u001b[0m\u001b[0;34m,\u001b[0m \u001b[0msep\u001b[0m\u001b[0;34m=\u001b[0m\u001b[0;34m\"\\t\"\u001b[0m\u001b[0;34m,\u001b[0m \u001b[0mindex\u001b[0m\u001b[0;34m=\u001b[0m\u001b[0;32mFalse\u001b[0m\u001b[0;34m)\u001b[0m\u001b[0;34m\u001b[0m\u001b[0;34m\u001b[0m\u001b[0m\n",
      "\u001b[0;31mAttributeError\u001b[0m: 'TfidfVectorizer' object has no attribute 'to_csv'"
     ]
    }
   ],
   "source": [
    "# テキストファイル（カンマ以外の区切り文字）として（ヘッダーあり）\n",
    "train_feature.to_csv(\"text.feature.txt\", sep=\"\\t\", index=False)\n",
    "valid_feature.to_csv(\"valid.feature.txt\", sep=\"\\t\", index=False)\n",
    "test_feature.to_csv(\"test.feature.txt\", sep=\"\\t\", index=False)"
   ]
  },
  {
   "cell_type": "code",
   "execution_count": null,
   "metadata": {},
   "outputs": [],
   "source": []
  },
  {
   "cell_type": "code",
   "execution_count": 10,
   "metadata": {},
   "outputs": [],
   "source": [
    "target=file1[['TITLE','CATEGORY']]#ラベルデータ\n",
    "#ベクトルにする\n",
    "from sklearn.feature_extraction.text import TfidfVectorizer\n",
    "vectorizer=TfidfVectorizer()\n",
    "x_train['TITLE'] = vectorizer.fit(x_train['TITLE'])\n",
    "x_feature_train, x_feature_valid1  = train_test_split( , test_size=0.2,shuffle=True)"
   ]
  },
  {
   "cell_type": "code",
   "execution_count": 11,
   "metadata": {},
   "outputs": [],
   "source": [
    "x_feature_valid, x_feature_test =train_test_split(x_feature_valid1,train_size=0.5,shuffle=True)"
   ]
  },
  {
   "cell_type": "code",
   "execution_count": 14,
   "metadata": {},
   "outputs": [
    {
     "name": "stdout",
     "output_type": "stream",
     "text": [
      "13340\n",
      "10672\n",
      "1334\n",
      "1334\n"
     ]
    }
   ],
   "source": [
    "print(len(file1))\n",
    "print(len(x_feature_train))\n",
    "print(len(x_feature_valid))\n",
    "print(len(x_feature_test))"
   ]
  },
  {
   "cell_type": "code",
   "execution_count": 13,
   "metadata": {},
   "outputs": [],
   "source": [
    "# テキストファイル（カンマ以外の区切り文字）として（ヘッダーあり）\n",
    "x_train.to_csv(\"text.feature.txt\", sep=\"\\t\", index=False)\n",
    "x_valid.to_csv(\"valid.feature.txt\", sep=\"\\t\", index=False)\n",
    "x_test.to_csv(\"test.feature.txt\", sep=\"\\t\", index=False)"
   ]
  },
  {
   "cell_type": "markdown",
   "metadata": {},
   "source": [
    "# 52\n",
    "51で構築した学習データを用いて，ロジスティック回帰モデルを学習せよ．"
   ]
  },
  {
   "cell_type": "code",
   "execution_count": 42,
   "metadata": {},
   "outputs": [],
   "source": [
    "#カテゴリをfloatに直さないと could not convert string to float: 'b'"
   ]
  },
  {
   "cell_type": "code",
   "execution_count": 68,
   "metadata": {},
   "outputs": [],
   "source": [
    "from sklearn.linear_model import LogisticRegression\n",
    "lr=LogisticRegression(max_iter=200)\n",
    "#lbfgs failed to converge (status=1): STOP: TOTAL NO. of ITERATIONS REACHED LIMIT.\n",
    "#上のエラーが出る場合はmax_iterのデフォルト100回で収束しなかったということなので回数を増やしたら良い"
   ]
  },
  {
   "cell_type": "code",
   "execution_count": 69,
   "metadata": {},
   "outputs": [
    {
     "data": {
      "text/plain": [
       "LogisticRegression(max_iter=200)"
      ]
     },
     "execution_count": 69,
     "metadata": {},
     "output_type": "execute_result"
    }
   ],
   "source": [
    "lr.fit(train_feature,x_train['CATEGORY'])"
   ]
  },
  {
   "cell_type": "markdown",
   "metadata": {},
   "source": [
    "# 53\n",
    "52で学習したロジスティック回帰モデルを用い，与えられた記事見出しからカテゴリとその予測確率を計算するプログラムを実装せよ．"
   ]
  },
  {
   "cell_type": "code",
   "execution_count": 70,
   "metadata": {},
   "outputs": [
    {
     "data": {
      "text/plain": [
       "array(['e', 'b', 'b', ..., 'b', 'b', 'e'], dtype=object)"
      ]
     },
     "execution_count": 70,
     "metadata": {},
     "output_type": "execute_result"
    }
   ],
   "source": [
    "lr.predict(train_feature)"
   ]
  },
  {
   "cell_type": "code",
   "execution_count": 71,
   "metadata": {},
   "outputs": [],
   "source": [
    "#predict:メソッドに説明変数を与えてターゲットを予測。proba:クラスの分類確率\n",
    "train_predict=[lr.predict(train_feature),lr.predict_proba(train_feature)]\n",
    "valid_predict=[lr.predict(valid_feature),lr.predict_proba(valid_feature)]\n",
    "test_predict=[lr.predict(test_feature),lr.predict_proba(test_feature)]"
   ]
  },
  {
   "cell_type": "code",
   "execution_count": 82,
   "metadata": {},
   "outputs": [
    {
     "data": {
      "text/plain": [
       "array([[0.04375705, 0.92191956, 0.01531756, 0.01900583],\n",
       "       [0.98735008, 0.00454536, 0.00214642, 0.00595814],\n",
       "       [0.95999404, 0.02015797, 0.00885025, 0.01099774],\n",
       "       ...,\n",
       "       [0.8410876 , 0.04744135, 0.00993659, 0.10153447],\n",
       "       [0.66529675, 0.20602532, 0.02917744, 0.0995005 ],\n",
       "       [0.10950911, 0.67528094, 0.06476502, 0.15044493]])"
      ]
     },
     "execution_count": 82,
     "metadata": {},
     "output_type": "execute_result"
    }
   ],
   "source": [
    "train_predict[1]"
   ]
  },
  {
   "cell_type": "code",
   "execution_count": 77,
   "metadata": {},
   "outputs": [
    {
     "data": {
      "text/html": [
       "<div>\n",
       "<style scoped>\n",
       "    .dataframe tbody tr th:only-of-type {\n",
       "        vertical-align: middle;\n",
       "    }\n",
       "\n",
       "    .dataframe tbody tr th {\n",
       "        vertical-align: top;\n",
       "    }\n",
       "\n",
       "    .dataframe thead th {\n",
       "        text-align: right;\n",
       "    }\n",
       "</style>\n",
       "<table border=\"1\" class=\"dataframe\">\n",
       "  <thead>\n",
       "    <tr style=\"text-align: right;\">\n",
       "      <th></th>\n",
       "      <th>0</th>\n",
       "      <th>1</th>\n",
       "      <th>2</th>\n",
       "      <th>3</th>\n",
       "    </tr>\n",
       "  </thead>\n",
       "  <tbody>\n",
       "    <tr>\n",
       "      <th>e</th>\n",
       "      <td>0.043757</td>\n",
       "      <td>0.921920</td>\n",
       "      <td>0.015318</td>\n",
       "      <td>0.019006</td>\n",
       "    </tr>\n",
       "    <tr>\n",
       "      <th>b</th>\n",
       "      <td>0.987350</td>\n",
       "      <td>0.004545</td>\n",
       "      <td>0.002146</td>\n",
       "      <td>0.005958</td>\n",
       "    </tr>\n",
       "    <tr>\n",
       "      <th>b</th>\n",
       "      <td>0.959994</td>\n",
       "      <td>0.020158</td>\n",
       "      <td>0.008850</td>\n",
       "      <td>0.010998</td>\n",
       "    </tr>\n",
       "    <tr>\n",
       "      <th>b</th>\n",
       "      <td>0.491144</td>\n",
       "      <td>0.089783</td>\n",
       "      <td>0.308137</td>\n",
       "      <td>0.110936</td>\n",
       "    </tr>\n",
       "    <tr>\n",
       "      <th>b</th>\n",
       "      <td>0.953192</td>\n",
       "      <td>0.024674</td>\n",
       "      <td>0.010329</td>\n",
       "      <td>0.011805</td>\n",
       "    </tr>\n",
       "    <tr>\n",
       "      <th>...</th>\n",
       "      <td>...</td>\n",
       "      <td>...</td>\n",
       "      <td>...</td>\n",
       "      <td>...</td>\n",
       "    </tr>\n",
       "    <tr>\n",
       "      <th>t</th>\n",
       "      <td>0.413489</td>\n",
       "      <td>0.109855</td>\n",
       "      <td>0.053448</td>\n",
       "      <td>0.423209</td>\n",
       "    </tr>\n",
       "    <tr>\n",
       "      <th>t</th>\n",
       "      <td>0.112991</td>\n",
       "      <td>0.172883</td>\n",
       "      <td>0.031938</td>\n",
       "      <td>0.682187</td>\n",
       "    </tr>\n",
       "    <tr>\n",
       "      <th>b</th>\n",
       "      <td>0.841088</td>\n",
       "      <td>0.047441</td>\n",
       "      <td>0.009937</td>\n",
       "      <td>0.101534</td>\n",
       "    </tr>\n",
       "    <tr>\n",
       "      <th>b</th>\n",
       "      <td>0.665297</td>\n",
       "      <td>0.206025</td>\n",
       "      <td>0.029177</td>\n",
       "      <td>0.099500</td>\n",
       "    </tr>\n",
       "    <tr>\n",
       "      <th>e</th>\n",
       "      <td>0.109509</td>\n",
       "      <td>0.675281</td>\n",
       "      <td>0.064765</td>\n",
       "      <td>0.150445</td>\n",
       "    </tr>\n",
       "  </tbody>\n",
       "</table>\n",
       "<p>10672 rows × 4 columns</p>\n",
       "</div>"
      ],
      "text/plain": [
       "           0         1         2         3\n",
       "e   0.043757  0.921920  0.015318  0.019006\n",
       "b   0.987350  0.004545  0.002146  0.005958\n",
       "b   0.959994  0.020158  0.008850  0.010998\n",
       "b   0.491144  0.089783  0.308137  0.110936\n",
       "b   0.953192  0.024674  0.010329  0.011805\n",
       "..       ...       ...       ...       ...\n",
       "t   0.413489  0.109855  0.053448  0.423209\n",
       "t   0.112991  0.172883  0.031938  0.682187\n",
       "b   0.841088  0.047441  0.009937  0.101534\n",
       "b   0.665297  0.206025  0.029177  0.099500\n",
       "e   0.109509  0.675281  0.064765  0.150445\n",
       "\n",
       "[10672 rows x 4 columns]"
      ]
     },
     "execution_count": 77,
     "metadata": {},
     "output_type": "execute_result"
    }
   ],
   "source": [
    "pd.DataFrame(train_predict[1],train_predict[0])"
   ]
  },
  {
   "cell_type": "code",
   "execution_count": 193,
   "metadata": {},
   "outputs": [
    {
     "name": "stdout",
     "output_type": "stream",
     "text": [
      "[array(['e', 'b', 'e', ..., 'e', 'e', 'e'], dtype=object), array([[0.06183362, 0.88797719, 0.01725711, 0.03293208],\n",
      "       [0.86440124, 0.07130452, 0.0310094 , 0.03328484],\n",
      "       [0.092747  , 0.79376176, 0.05370337, 0.05978787],\n",
      "       ...,\n",
      "       [0.06581071, 0.88130995, 0.01786384, 0.0350155 ],\n",
      "       [0.07652913, 0.8831307 , 0.0231099 , 0.01723027],\n",
      "       [0.00855126, 0.96597591, 0.01966053, 0.0058123 ]])]\n",
      "-------------------\n",
      "[array(['e', 'e', 'b', ..., 'e', 'b', 'e'], dtype=object), array([[0.2196549 , 0.68007544, 0.04089976, 0.0593699 ],\n",
      "       [0.15319779, 0.77221647, 0.02524967, 0.04933607],\n",
      "       [0.49814933, 0.39141396, 0.04069921, 0.0697375 ],\n",
      "       ...,\n",
      "       [0.14488445, 0.54857791, 0.07730655, 0.2292311 ],\n",
      "       [0.59072045, 0.27800552, 0.04417638, 0.08709765],\n",
      "       [0.03480619, 0.90179894, 0.01656131, 0.04683356]])]\n",
      "-------------------\n",
      "[array(['e', 'b', 'e', ..., 'b', 'b', 'e'], dtype=object), array([[0.04418731, 0.92951841, 0.01070197, 0.0155923 ],\n",
      "       [0.75076145, 0.17523037, 0.03987924, 0.03412893],\n",
      "       [0.06682973, 0.86380026, 0.02218081, 0.0471892 ],\n",
      "       ...,\n",
      "       [0.73743221, 0.05155835, 0.03037288, 0.18063656],\n",
      "       [0.87518304, 0.03794997, 0.04145939, 0.0454076 ],\n",
      "       [0.02309341, 0.94447566, 0.01335515, 0.01907578]])]\n"
     ]
    }
   ],
   "source": [
    "print(train_predict)\n",
    "print('-------------------')\n",
    "print(valid_predict)\n",
    "print('-------------------')\n",
    "print(test_predict)"
   ]
  },
  {
   "cell_type": "markdown",
   "metadata": {},
   "source": [
    "# 54\n",
    "52で学習したロジスティック回帰モデルの正解率を，学習データおよび評価データ上で計測せよ．"
   ]
  },
  {
   "cell_type": "code",
   "execution_count": 78,
   "metadata": {},
   "outputs": [],
   "source": [
    "from sklearn.metrics import accuracy_score"
   ]
  },
  {
   "cell_type": "code",
   "execution_count": 79,
   "metadata": {},
   "outputs": [],
   "source": [
    "train_accuracy=accuracy_score(x_train['CATEGORY'], train_predict[0])\n",
    "valid_accuracy=accuracy_score(x_valid['CATEGORY'], valid_predict[0])\n",
    "test_accuracy=accuracy_score(x_test['CATEGORY'], test_predict[0])"
   ]
  },
  {
   "cell_type": "code",
   "execution_count": 80,
   "metadata": {},
   "outputs": [
    {
     "name": "stdout",
     "output_type": "stream",
     "text": [
      "train_accuracy: 0.9241004497751124\n",
      "test_accuracy: 0.8853073463268366\n"
     ]
    }
   ],
   "source": [
    "print('train_accuracy:',train_accuracy)\n",
    "print('test_accuracy:',test_accuracy)"
   ]
  },
  {
   "cell_type": "markdown",
   "metadata": {},
   "source": [
    "# 55\n",
    "52で学習したロジスティック回帰モデルの混同行列（confusion matrix）を，学習データおよび評価データ上で作成せよ．"
   ]
  },
  {
   "cell_type": "code",
   "execution_count": 197,
   "metadata": {},
   "outputs": [],
   "source": [
    "from sklearn.metrics import confusion_matrix\n",
    "import seaborn as sns\n",
    "import matplotlib.pyplot as plt"
   ]
  },
  {
   "cell_type": "code",
   "execution_count": 198,
   "metadata": {},
   "outputs": [],
   "source": [
    "train_confusion= confusion_matrix(x_train['CATEGORY'],train_predict[0])\n",
    "valid_confusion= confusion_matrix(x_valid['CATEGORY'],valid_predict[0])\n",
    "test_confusion= confusion_matrix(x_test['CATEGORY'],test_predict[0])"
   ]
  },
  {
   "cell_type": "code",
   "execution_count": 199,
   "metadata": {},
   "outputs": [
    {
     "name": "stdout",
     "output_type": "stream",
     "text": [
      "train_confusion_matrix:\n",
      " [[4337   96    9   57]\n",
      " [  59 4168    3   10]\n",
      " [  88  139  492    9]\n",
      " [ 194  140    8  863]]\n",
      "valid_confusion_matrix:\n",
      " [[521  19   1  12]\n",
      " [ 15 513   2   2]\n",
      " [ 14  22  55   3]\n",
      " [ 30  33   2  90]]\n",
      "test_confusion_matrix:\n",
      " [[537  24   3  11]\n",
      " [ 15 488   1   3]\n",
      " [ 15  23  49   1]\n",
      " [ 35  28   2  99]]\n"
     ]
    }
   ],
   "source": [
    "print('train_confusion_matrix:\\n',train_confusion)\n",
    "print('valid_confusion_matrix:\\n',valid_confusion)\n",
    "print('test_confusion_matrix:\\n',test_confusion)"
   ]
  },
  {
   "cell_type": "code",
   "execution_count": 200,
   "metadata": {},
   "outputs": [
    {
     "data": {
      "text/plain": [
       "<matplotlib.axes._subplots.AxesSubplot at 0x119d067d0>"
      ]
     },
     "execution_count": 200,
     "metadata": {},
     "output_type": "execute_result"
    },
    {
     "data": {
      "image/png": "[encoded data removed]",
      "text/plain": [
       "<Figure size 432x288 with 2 Axes>"
      ]
     },
     "metadata": {
      "needs_background": "light"
     },
     "output_type": "display_data"
    }
   ],
   "source": [
    "sns.heatmap(train_confusion,annot=True,cmap='Blues')"
   ]
  },
  {
   "cell_type": "markdown",
   "metadata": {},
   "source": [
    "# 56\n",
    "52で学習したロジスティック回帰モデルの適合率，再現率，F1スコアを，評価データ上で計測せよ．カテゴリごとに適合率，再現率，F1スコアを求め，カテゴリごとの性能をマイクロ平均（micro-average）とマクロ平均（macro-average）で統合せよ．"
   ]
  },
  {
   "cell_type": "code",
   "execution_count": 134,
   "metadata": {},
   "outputs": [],
   "source": [
    "from sklearn.metrics import precision_score,recall_score,f1_score"
   ]
  },
  {
   "cell_type": "code",
   "execution_count": 135,
   "metadata": {},
   "outputs": [
    {
     "name": "stdout",
     "output_type": "stream",
     "text": [
      "test_precision_score micro: 0.41004497751124436\n",
      "test_precision_score macro: 0.24066370107922586\n"
     ]
    },
    {
     "name": "stderr",
     "output_type": "stream",
     "text": [
      "/Users/nakanoyukako/opt/anaconda3/lib/python3.7/site-packages/sklearn/metrics/_classification.py:1272: UndefinedMetricWarning: Precision is ill-defined and being set to 0.0 in labels with no predicted samples. Use `zero_division` parameter to control this behavior.\n",
      "  _warn_prf(average, modifier, msg_start, len(result))\n"
     ]
    }
   ],
   "source": [
    "test_precision_mi=precision_score(x_test['CATEGORY'],test_predict[0],average='micro')\n",
    "print('test_precision_score micro:',test_precision_mi)\n",
    "test_precision_ma=precision_score(x_test['CATEGORY'],test_predict[0],average='macro')\n",
    "print('test_precision_score macro:',test_precision_ma)\n",
    "      "
   ]
  },
  {
   "cell_type": "code",
   "execution_count": 136,
   "metadata": {},
   "outputs": [
    {
     "name": "stdout",
     "output_type": "stream",
     "text": [
      "test_recall_score micro: 0.41004497751124436\n",
      "test_recall_score macro: 0.2550977669398722\n"
     ]
    }
   ],
   "source": [
    "test_recall_mi=recall_score(x_test['CATEGORY'],test_predict[0],average='micro')\n",
    "print('test_recall_score micro:',test_recall_mi)\n",
    "test_recall_ma=recall_score(x_test['CATEGORY'],test_predict[0],average='macro')\n",
    "print('test_recall_score macro:',test_recall_ma)"
   ]
  },
  {
   "cell_type": "code",
   "execution_count": 137,
   "metadata": {},
   "outputs": [
    {
     "name": "stdout",
     "output_type": "stream",
     "text": [
      "test_f1_score micro: 0.41004497751124436\n",
      "test_f1_score macro: 0.22943351480390117\n"
     ]
    }
   ],
   "source": [
    "test_f1_mi=f1_score(x_test['CATEGORY'],test_predict[0],average='micro')\n",
    "print('test_f1_score micro:',test_f1_mi)\n",
    "test_f1_ma=f1_score(x_test['CATEGORY'],test_predict[0],average='macro')\n",
    "print('test_f1_score macro:',test_f1_ma)"
   ]
  },
  {
   "cell_type": "code",
   "execution_count": 138,
   "metadata": {},
   "outputs": [
    {
     "name": "stdout",
     "output_type": "stream",
     "text": [
      "test_precision_score: [0.43117978 0.38861789 0.14285714 0.        ]\n",
      "test_recall_score: [0.55315315 0.46138996 0.00584795 0.        ]\n",
      "test_f1_score: [0.48460931 0.42188879 0.01123596 0.        ]\n"
     ]
    }
   ],
   "source": [
    "test_precision=precision_score(x_test['CATEGORY'],test_predict[0],average=None, labels=['b', 'e', 't', 'm'])\n",
    "print('test_precision_score:',test_precision)\n",
    "test_recall=recall_score(x_test['CATEGORY'],test_predict[0],average=None, labels=['b', 'e', 't', 'm'])\n",
    "print('test_recall_score:',test_recall)\n",
    "test_f1=f1_score(x_test['CATEGORY'],test_predict[0],average=None, labels=['b', 'e', 't', 'm'])\n",
    "print('test_f1_score:',test_f1)\n",
    "\n"
   ]
  },
  {
   "cell_type": "code",
   "execution_count": 139,
   "metadata": {},
   "outputs": [
    {
     "name": "stdout",
     "output_type": "stream",
     "text": [
      "             適合率       再現率     F1スコア\n",
      "b       0.431180  0.553153  0.484609\n",
      "e       0.388618  0.461390  0.421889\n",
      "t       0.142857  0.005848  0.011236\n",
      "m       0.000000  0.000000  0.000000\n",
      "マイクロ平均  0.410045  0.410045  0.410045\n",
      "マクロ平均   0.240664  0.255098  0.229434\n"
     ]
    }
   ],
   "source": [
    "import numpy as  np\n",
    "precision = test_precision\n",
    "precision = np.append(precision, test_precision_mi)  # 末尾にマイクロ平均を追加\n",
    "precision = np.append(precision, test_precision_ma)  # 末尾にマクロ平均を追加\n",
    "\n",
    " #再現率\n",
    "recall = test_recall\n",
    "recall = np.append(recall, test_recall_mi)\n",
    "recall = np.append(recall, test_recall_ma)\n",
    "\n",
    "  # F1スコア\n",
    "f1 = test_f1\n",
    "f1 = np.append(f1, test_f1_mi)\n",
    "f1 = np.append(f1, test_f1_ma)\n",
    "\n",
    "\n",
    "# 結果を結合してデータフレーム化\n",
    "scores = pd.DataFrame({'適合率': precision, '再現率': recall, 'F1スコア': f1},\n",
    "                        index=['b', 'e', 't', 'm', 'マイクロ平均', 'マクロ平均'])\n",
    "print(scores)"
   ]
  },
  {
   "cell_type": "markdown",
   "metadata": {},
   "source": [
    "# 57\n",
    "52で学習したロジスティック回帰モデルの中で，重みの高い特徴量トップ10と，重みの低い特徴量トップ10を確認せよ．"
   ]
  },
  {
   "cell_type": "code",
   "execution_count": 201,
   "metadata": {},
   "outputs": [
    {
     "data": {
      "text/plain": [
       "array([[ 0.12398211, -0.38620303,  0.18534838, ..., -0.52682236,\n",
       "        -0.33524808,  0.60896619],\n",
       "       [ 0.28423808,  0.22411316, -0.20623538, ...,  1.0687586 ,\n",
       "         0.63735979, -0.34212853],\n",
       "       [-0.31687207,  0.29122096, -0.07396743, ..., -0.26774524,\n",
       "        -0.12459934,  0.03649389],\n",
       "       [-0.09134812, -0.1291311 ,  0.09485443, ..., -0.27419099,\n",
       "        -0.17751237, -0.30333156]])"
      ]
     },
     "execution_count": 201,
     "metadata": {},
     "output_type": "execute_result"
    }
   ],
   "source": [
    "lr.coef_"
   ]
  },
  {
   "cell_type": "code",
   "execution_count": 231,
   "metadata": {},
   "outputs": [
    {
     "data": {
      "text/plain": [
       "array(['0m', '0million', '0nd', ..., 'zac efron', 'zendaya', 'zone'],\n",
       "      dtype=object)"
      ]
     },
     "execution_count": 231,
     "metadata": {},
     "output_type": "execute_result"
    }
   ],
   "source": [
    "index = [i for i in range(1, 11)]\n",
    "features"
   ]
  },
  {
   "cell_type": "code",
   "execution_count": 234,
   "metadata": {},
   "outputs": [
    {
     "name": "stdout",
     "output_type": "stream",
     "text": [
      "【カテゴリ】b\n"
     ]
    },
    {
     "data": {
      "text/html": [
       "<div>\n",
       "<style scoped>\n",
       "    .dataframe tbody tr th:only-of-type {\n",
       "        vertical-align: middle;\n",
       "    }\n",
       "\n",
       "    .dataframe tbody tr th {\n",
       "        vertical-align: top;\n",
       "    }\n",
       "\n",
       "    .dataframe thead th {\n",
       "        text-align: right;\n",
       "    }\n",
       "</style>\n",
       "<table border=\"1\" class=\"dataframe\">\n",
       "  <thead>\n",
       "    <tr style=\"text-align: right;\">\n",
       "      <th></th>\n",
       "      <th>1</th>\n",
       "      <th>2</th>\n",
       "      <th>3</th>\n",
       "      <th>4</th>\n",
       "      <th>5</th>\n",
       "      <th>6</th>\n",
       "      <th>7</th>\n",
       "      <th>8</th>\n",
       "      <th>9</th>\n",
       "      <th>10</th>\n",
       "    </tr>\n",
       "  </thead>\n",
       "  <tbody>\n",
       "    <tr>\n",
       "      <th>重要度上位</th>\n",
       "      <td>bank</td>\n",
       "      <td>fed</td>\n",
       "      <td>stocks</td>\n",
       "      <td>ecb</td>\n",
       "      <td>china</td>\n",
       "      <td>oil</td>\n",
       "      <td>euro</td>\n",
       "      <td>obamacare</td>\n",
       "      <td>ukraine</td>\n",
       "      <td>dollar</td>\n",
       "    </tr>\n",
       "    <tr>\n",
       "      <th>重要度下位</th>\n",
       "      <td>ebola</td>\n",
       "      <td>her</td>\n",
       "      <td>and</td>\n",
       "      <td>video</td>\n",
       "      <td>star</td>\n",
       "      <td>aereo</td>\n",
       "      <td>she</td>\n",
       "      <td>tv</td>\n",
       "      <td>microsoft</td>\n",
       "      <td>can</td>\n",
       "    </tr>\n",
       "  </tbody>\n",
       "</table>\n",
       "</div>"
      ],
      "text/plain": [
       "          1    2       3      4      5      6     7          8          9   \\\n",
       "重要度上位   bank  fed  stocks    ecb  china    oil  euro  obamacare    ukraine   \n",
       "重要度下位  ebola  her     and  video   star  aereo   she         tv  microsoft   \n",
       "\n",
       "           10  \n",
       "重要度上位  dollar  \n",
       "重要度下位     can  "
      ]
     },
     "metadata": {},
     "output_type": "display_data"
    },
    {
     "name": "stdout",
     "output_type": "stream",
     "text": [
      "\n",
      "\n",
      "【カテゴリ】e\n"
     ]
    },
    {
     "data": {
      "text/html": [
       "<div>\n",
       "<style scoped>\n",
       "    .dataframe tbody tr th:only-of-type {\n",
       "        vertical-align: middle;\n",
       "    }\n",
       "\n",
       "    .dataframe tbody tr th {\n",
       "        vertical-align: top;\n",
       "    }\n",
       "\n",
       "    .dataframe thead th {\n",
       "        text-align: right;\n",
       "    }\n",
       "</style>\n",
       "<table border=\"1\" class=\"dataframe\">\n",
       "  <thead>\n",
       "    <tr style=\"text-align: right;\">\n",
       "      <th></th>\n",
       "      <th>1</th>\n",
       "      <th>2</th>\n",
       "      <th>3</th>\n",
       "      <th>4</th>\n",
       "      <th>5</th>\n",
       "      <th>6</th>\n",
       "      <th>7</th>\n",
       "      <th>8</th>\n",
       "      <th>9</th>\n",
       "      <th>10</th>\n",
       "    </tr>\n",
       "  </thead>\n",
       "  <tbody>\n",
       "    <tr>\n",
       "      <th>重要度上位</th>\n",
       "      <td>kardashian</td>\n",
       "      <td>chris</td>\n",
       "      <td>star</td>\n",
       "      <td>movie</td>\n",
       "      <td>film</td>\n",
       "      <td>her</td>\n",
       "      <td>she</td>\n",
       "      <td>jay</td>\n",
       "      <td>kim</td>\n",
       "      <td>beyonce</td>\n",
       "    </tr>\n",
       "    <tr>\n",
       "      <th>重要度下位</th>\n",
       "      <td>update</td>\n",
       "      <td>us</td>\n",
       "      <td>google</td>\n",
       "      <td>china</td>\n",
       "      <td>study</td>\n",
       "      <td>gm</td>\n",
       "      <td>apple</td>\n",
       "      <td>says</td>\n",
       "      <td>billion</td>\n",
       "      <td>facebook</td>\n",
       "    </tr>\n",
       "  </tbody>\n",
       "</table>\n",
       "</div>"
      ],
      "text/plain": [
       "               1      2       3      4      5    6      7     8        9   \\\n",
       "重要度上位  kardashian  chris    star  movie   film  her    she   jay      kim   \n",
       "重要度下位      update     us  google  china  study   gm  apple  says  billion   \n",
       "\n",
       "             10  \n",
       "重要度上位   beyonce  \n",
       "重要度下位  facebook  "
      ]
     },
     "metadata": {},
     "output_type": "display_data"
    },
    {
     "name": "stdout",
     "output_type": "stream",
     "text": [
      "\n",
      "\n",
      "【カテゴリ】m\n"
     ]
    },
    {
     "data": {
      "text/html": [
       "<div>\n",
       "<style scoped>\n",
       "    .dataframe tbody tr th:only-of-type {\n",
       "        vertical-align: middle;\n",
       "    }\n",
       "\n",
       "    .dataframe tbody tr th {\n",
       "        vertical-align: top;\n",
       "    }\n",
       "\n",
       "    .dataframe thead th {\n",
       "        text-align: right;\n",
       "    }\n",
       "</style>\n",
       "<table border=\"1\" class=\"dataframe\">\n",
       "  <thead>\n",
       "    <tr style=\"text-align: right;\">\n",
       "      <th></th>\n",
       "      <th>1</th>\n",
       "      <th>2</th>\n",
       "      <th>3</th>\n",
       "      <th>4</th>\n",
       "      <th>5</th>\n",
       "      <th>6</th>\n",
       "      <th>7</th>\n",
       "      <th>8</th>\n",
       "      <th>9</th>\n",
       "      <th>10</th>\n",
       "    </tr>\n",
       "  </thead>\n",
       "  <tbody>\n",
       "    <tr>\n",
       "      <th>重要度上位</th>\n",
       "      <td>ebola</td>\n",
       "      <td>cancer</td>\n",
       "      <td>study</td>\n",
       "      <td>drug</td>\n",
       "      <td>fda</td>\n",
       "      <td>mers</td>\n",
       "      <td>cases</td>\n",
       "      <td>health</td>\n",
       "      <td>cdc</td>\n",
       "      <td>heart</td>\n",
       "    </tr>\n",
       "    <tr>\n",
       "      <th>重要度下位</th>\n",
       "      <td>facebook</td>\n",
       "      <td>gm</td>\n",
       "      <td>google</td>\n",
       "      <td>apple</td>\n",
       "      <td>ceo</td>\n",
       "      <td>bank</td>\n",
       "      <td>climate</td>\n",
       "      <td>deal</td>\n",
       "      <td>twitter</td>\n",
       "      <td>sales</td>\n",
       "    </tr>\n",
       "  </tbody>\n",
       "</table>\n",
       "</div>"
      ],
      "text/plain": [
       "             1       2       3      4    5     6        7       8        9   \\\n",
       "重要度上位     ebola  cancer   study   drug  fda  mers    cases  health      cdc   \n",
       "重要度下位  facebook      gm  google  apple  ceo  bank  climate    deal  twitter   \n",
       "\n",
       "          10  \n",
       "重要度上位  heart  \n",
       "重要度下位  sales  "
      ]
     },
     "metadata": {},
     "output_type": "display_data"
    },
    {
     "name": "stdout",
     "output_type": "stream",
     "text": [
      "\n",
      "\n",
      "【カテゴリ】t\n"
     ]
    },
    {
     "data": {
      "text/html": [
       "<div>\n",
       "<style scoped>\n",
       "    .dataframe tbody tr th:only-of-type {\n",
       "        vertical-align: middle;\n",
       "    }\n",
       "\n",
       "    .dataframe tbody tr th {\n",
       "        vertical-align: top;\n",
       "    }\n",
       "\n",
       "    .dataframe thead th {\n",
       "        text-align: right;\n",
       "    }\n",
       "</style>\n",
       "<table border=\"1\" class=\"dataframe\">\n",
       "  <thead>\n",
       "    <tr style=\"text-align: right;\">\n",
       "      <th></th>\n",
       "      <th>1</th>\n",
       "      <th>2</th>\n",
       "      <th>3</th>\n",
       "      <th>4</th>\n",
       "      <th>5</th>\n",
       "      <th>6</th>\n",
       "      <th>7</th>\n",
       "      <th>8</th>\n",
       "      <th>9</th>\n",
       "      <th>10</th>\n",
       "    </tr>\n",
       "  </thead>\n",
       "  <tbody>\n",
       "    <tr>\n",
       "      <th>重要度上位</th>\n",
       "      <td>google</td>\n",
       "      <td>facebook</td>\n",
       "      <td>apple</td>\n",
       "      <td>microsoft</td>\n",
       "      <td>climate</td>\n",
       "      <td>tesla</td>\n",
       "      <td>gm</td>\n",
       "      <td>heartbleed</td>\n",
       "      <td>nasa</td>\n",
       "      <td>samsung</td>\n",
       "    </tr>\n",
       "    <tr>\n",
       "      <th>重要度下位</th>\n",
       "      <td>stocks</td>\n",
       "      <td>fed</td>\n",
       "      <td>drug</td>\n",
       "      <td>percent</td>\n",
       "      <td>her</td>\n",
       "      <td>cancer</td>\n",
       "      <td>ukraine</td>\n",
       "      <td>heart</td>\n",
       "      <td>his</td>\n",
       "      <td>american</td>\n",
       "    </tr>\n",
       "  </tbody>\n",
       "</table>\n",
       "</div>"
      ],
      "text/plain": [
       "           1         2      3          4        5       6        7   \\\n",
       "重要度上位  google  facebook  apple  microsoft  climate   tesla       gm   \n",
       "重要度下位  stocks       fed   drug    percent      her  cancer  ukraine   \n",
       "\n",
       "               8     9         10  \n",
       "重要度上位  heartbleed  nasa   samsung  \n",
       "重要度下位       heart   his  american  "
      ]
     },
     "metadata": {},
     "output_type": "display_data"
    },
    {
     "name": "stdout",
     "output_type": "stream",
     "text": [
      "\n",
      "\n"
     ]
    }
   ],
   "source": [
    "features = train_feature.columns.values\n",
    "index = [i for i in range(1, 11)]\n",
    "for c, coef in zip(lr.classes_, lr.coef_):\n",
    "    print(f'【カテゴリ】{c}')\n",
    "    best10 = pd.DataFrame(features[np.argsort(coef)[::-1][:10]], columns=['重要度上位'], index=index).T\n",
    "    worst10 = pd.DataFrame(features[np.argsort(coef)[:10]], columns=['重要度下位'], index=index).T\n",
    "    display(pd.concat([best10, worst10], axis=0))\n",
    "    print('\\n')\n"
   ]
  },
  {
   "cell_type": "markdown",
   "metadata": {},
   "source": [
    "# 58\n",
    "ロジスティック回帰モデルを学習するとき，正則化パラメータを調整することで，学習時の過学習（overfitting）の度合いを制御できる．異なる正則化パラメータでロジスティック回帰モデルを学習し，学習データ，検証データ，および評価データ上の正解率を求めよ．実験の結果は，正則化パラメータを横軸，正解率を縦軸としたグラフにまとめよ．"
   ]
  },
  {
   "cell_type": "code",
   "execution_count": 226,
   "metadata": {},
   "outputs": [],
   "source": [
    "from sklearn.linear_model import LogisticRegression\n",
    "from tqdm import tqdm\n",
    "C_list=[10 ** i for i in range(-5, 4)]\n",
    "result=[]\n",
    "for C in C_list:\n",
    "    clr=LogisticRegression(C=C,max_iter=10000)\n",
    "    clr.fit(train_feature,x_train['CATEGORY'])\n",
    "    train_predict_c=[clr.predict(train_feature),clr.predict_proba(train_feature)]\n",
    "    valid_predict_c=[clr.predict(valid_feature),clr.predict_proba(valid_feature)]\n",
    "    test_predict_c=[clr.predict(test_feature),clr.predict_proba(test_feature)]\n",
    "    \n",
    "    train_accuracy_c=accuracy_score(x_train['CATEGORY'], train_predict_c[0])\n",
    "    valid_accuracy_c=accuracy_score(x_valid['CATEGORY'], valid_predict_c[0])\n",
    "    test_accuracy_c=accuracy_score(x_test['CATEGORY'], test_predict_c[0])\n",
    "    \n",
    "    result.append([C,train_accuracy_c,valid_accuracy_c,test_accuracy_c])"
   ]
  },
  {
   "cell_type": "code",
   "execution_count": 227,
   "metadata": {},
   "outputs": [
    {
     "data": {
      "text/plain": [
       "array([[1.00000000e-05, 1.00000000e-04, 1.00000000e-03, 1.00000000e-02,\n",
       "        1.00000000e-01, 1.00000000e+00, 1.00000000e+01, 1.00000000e+02,\n",
       "        1.00000000e+03],\n",
       "       [4.21570465e-01, 4.21570465e-01, 4.76386807e-01, 7.62087706e-01,\n",
       "        8.03879310e-01, 9.23913043e-01, 9.77979760e-01, 9.96720390e-01,\n",
       "        9.98407046e-01],\n",
       "       [4.14542729e-01, 4.14542729e-01, 4.69265367e-01, 7.56371814e-01,\n",
       "        7.88605697e-01, 8.83808096e-01, 9.05547226e-01, 8.86806597e-01,\n",
       "        8.76311844e-01],\n",
       "       [4.31034483e-01, 4.31034483e-01, 4.92503748e-01, 7.48875562e-01,\n",
       "        7.82608696e-01, 8.79310345e-01, 8.83058471e-01, 8.63568216e-01,\n",
       "        8.59070465e-01]])"
      ]
     },
     "execution_count": 227,
     "metadata": {},
     "output_type": "execute_result"
    }
   ],
   "source": [
    "result=np.array(result).T\n",
    "result"
   ]
  },
  {
   "cell_type": "code",
   "execution_count": 228,
   "metadata": {},
   "outputs": [
    {
     "data": {
      "text/plain": [
       "<function matplotlib.pyplot.show(*args, **kw)>"
      ]
     },
     "execution_count": 228,
     "metadata": {},
     "output_type": "execute_result"
    },
    {
     "data": {
      "image/png": "[encoded data removed]",
      "text/plain": [
       "<Figure size 432x288 with 1 Axes>"
      ]
     },
     "metadata": {
      "needs_background": "light"
     },
     "output_type": "display_data"
    }
   ],
   "source": [
    "import matplotlib.pyplot as plt\n",
    "\n",
    "plt.plot(result[0],result[1],label='train')\n",
    "plt.plot(result[0],result[2],label='valid')\n",
    "plt.plot(result[0],result[3],label='test')\n",
    "plt.ylim(0,1.1)\n",
    "plt.ylabel('Accuracy')\n",
    "plt.xscale('log')\n",
    "plt.xlabel('C')\n",
    "plt.legend()\n",
    "plt.show"
   ]
  },
  {
   "cell_type": "markdown",
   "metadata": {},
   "source": [
    "# 59\n",
    "学習アルゴリズムや学習パラメータを変えながら，カテゴリ分類モデルを学習せよ．検証データ上の正解率が最も高くなる学習アルゴリズム・パラメータを求めよ．また，その学習アルゴリズム・パラメータを用いたときの評価データ上の正解率を求めよ．"
   ]
  },
  {
   "cell_type": "code",
   "execution_count": 229,
   "metadata": {},
   "outputs": [],
   "source": [
    "import optuna"
   ]
  },
  {
   "cell_type": "code",
   "execution_count": 230,
   "metadata": {},
   "outputs": [],
   "source": [
    "def objective_lg(trial):\n",
    "    l1_ratio =trial.suggest_uniform('l1_ratio',0,1)#name, low, high Suggest a value\n",
    "    C=trial.suggest_loguniform('C',1e-4,1e4)#name, low, high  Suggest a value for the continuous parameter.\n",
    "    \n",
    "    params= {\n",
    "        'random_state':123,\n",
    "        'max_iter':10000,\n",
    "        'penalty':'elasticnet',\n",
    "        'solver': 'saga',\n",
    "        'l1_ratio':l1_ratio,\n",
    "        'C':C        \n",
    "    }\n",
    "    lr=LogisticRegression(**params)\n",
    "    lr.fit(train_feature,x_train['CATEGORY'])\n",
    "    \n",
    "    valid_pred=[np.max(lr.predict_proba(valid_feature), axis=1), lr.predict(valid_feature)]\n",
    "    valid_accuracy=accuracy_score(x_valid['CATEGORY'],valid_predict[0])\n",
    "    return valid_accuracy"
   ]
  },
  {
   "cell_type": "code",
   "execution_count": 78,
   "metadata": {},
   "outputs": [
    {
     "name": "stderr",
     "output_type": "stream",
     "text": [
      "\u001b[32m[I 2022-05-04 10:01:00,364]\u001b[0m A new study created in memory with name: no-name-f55a3e65-90b0-4269-8c40-eb31ed2ae0c7\u001b[0m\n",
      "\u001b[32m[I 2022-05-04 10:01:47,627]\u001b[0m Trial 0 finished with value: 0.3778110944527736 and parameters: {'l1_ratio': 0.19297704518374426, 'C': 4.111353353649286}. Best is trial 0 with value: 0.3778110944527736.\u001b[0m\n",
      "\u001b[32m[I 2022-05-04 10:01:55,125]\u001b[0m Trial 1 finished with value: 0.3778110944527736 and parameters: {'l1_ratio': 0.25884007443549195, 'C': 0.004317828471550764}. Best is trial 0 with value: 0.3778110944527736.\u001b[0m\n",
      "\u001b[32m[I 2022-05-04 10:02:05,133]\u001b[0m Trial 2 finished with value: 0.3778110944527736 and parameters: {'l1_ratio': 0.5872282064362756, 'C': 0.0023061694037261635}. Best is trial 0 with value: 0.3778110944527736.\u001b[0m\n",
      "\u001b[32m[I 2022-05-04 11:02:17,613]\u001b[0m Trial 3 finished with value: 0.3778110944527736 and parameters: {'l1_ratio': 0.8112970419414341, 'C': 614.2894558562848}. Best is trial 0 with value: 0.3778110944527736.\u001b[0m\n"
     ]
    }
   ],
   "source": [
    "study=optuna.create_study(direction='maximize')\n",
    "study.optimize(objective_lg,timeout=3600)"
   ]
  },
  {
   "cell_type": "code",
   "execution_count": 80,
   "metadata": {},
   "outputs": [
    {
     "name": "stdout",
     "output_type": "stream",
     "text": [
      "Best trial:\n",
      " Value:0.378\n",
      " Params:\n",
      " {}:{}.format(key,value)\n",
      " {}:{}.format(key,value)\n"
     ]
    }
   ],
   "source": [
    "print('Best trial:')\n",
    "trial=study.best_trial\n",
    "print(' Value:{:.3f}'.format(trial.value))\n",
    "print(' Params:')\n",
    "for key ,value in trial.params.items():\n",
    "    print(' {}:{}.format(key,value)')"
   ]
  },
  {
   "cell_type": "code",
   "execution_count": 81,
   "metadata": {},
   "outputs": [
    {
     "ename": "NameError",
     "evalue": "name 'elasticnet' is not defined",
     "output_type": "error",
     "traceback": [
      "\u001b[0;31m-------------------------------------------------------------------------\u001b[0m",
      "\u001b[0;31mNameError\u001b[0m                               Traceback (most recent call last)",
      "\u001b[0;32m<ipython-input-81-27d480ad8e29>\u001b[0m in \u001b[0;36m<module>\u001b[0;34m\u001b[0m\n\u001b[0;32m----> 1\u001b[0;31m \u001b[0mlg\u001b[0m\u001b[0;34m=\u001b[0m\u001b[0mLogisticRegression\u001b[0m\u001b[0;34m(\u001b[0m\u001b[0mrandom_state\u001b[0m\u001b[0;34m=\u001b[0m\u001b[0;36m123\u001b[0m\u001b[0;34m,\u001b[0m\u001b[0mmax_iter\u001b[0m\u001b[0;34m=\u001b[0m\u001b[0;36m10000\u001b[0m\u001b[0;34m,\u001b[0m\u001b[0mpenalty\u001b[0m\u001b[0;34m=\u001b[0m\u001b[0melasticnet\u001b[0m\u001b[0;34m,\u001b[0m\u001b[0msolver\u001b[0m\u001b[0;34m=\u001b[0m\u001b[0msaga\u001b[0m\u001b[0;34m,\u001b[0m\u001b[0ml1_ratio\u001b[0m\u001b[0;34m=\u001b[0m\u001b[0ml1_ratio\u001b[0m\u001b[0;34m,\u001b[0m\u001b[0mC\u001b[0m\u001b[0;34m=\u001b[0m\u001b[0mC\u001b[0m\u001b[0;34m)\u001b[0m\u001b[0;34m\u001b[0m\u001b[0;34m\u001b[0m\u001b[0m\n\u001b[0m\u001b[1;32m      2\u001b[0m \u001b[0mlg\u001b[0m\u001b[0;34m.\u001b[0m\u001b[0mfit\u001b[0m\u001b[0;34m(\u001b[0m\u001b[0mtrain_feature\u001b[0m\u001b[0;34m,\u001b[0m\u001b[0mx_train\u001b[0m\u001b[0;34m[\u001b[0m\u001b[0;34m'CATEGORY'\u001b[0m\u001b[0;34m]\u001b[0m\u001b[0;34m)\u001b[0m\u001b[0;34m\u001b[0m\u001b[0;34m\u001b[0m\u001b[0m\n\u001b[1;32m      3\u001b[0m \u001b[0;34m\u001b[0m\u001b[0m\n\u001b[1;32m      4\u001b[0m \u001b[0mtrain_pred_check\u001b[0m\u001b[0;34m=\u001b[0m\u001b[0;34m[\u001b[0m\u001b[0mnp\u001b[0m\u001b[0;34m.\u001b[0m\u001b[0mmax\u001b[0m\u001b[0;34m(\u001b[0m\u001b[0mlg\u001b[0m\u001b[0;34m.\u001b[0m\u001b[0mpredict_proba\u001b[0m\u001b[0;34m(\u001b[0m\u001b[0mtrain_feature\u001b[0m\u001b[0;34m)\u001b[0m\u001b[0;34m,\u001b[0m \u001b[0maxis\u001b[0m\u001b[0;34m=\u001b[0m\u001b[0;36m1\u001b[0m\u001b[0;34m)\u001b[0m\u001b[0;34m,\u001b[0m \u001b[0mlg\u001b[0m\u001b[0;34m.\u001b[0m\u001b[0mpredict\u001b[0m\u001b[0;34m(\u001b[0m\u001b[0mtrain_feature\u001b[0m\u001b[0;34m)\u001b[0m\u001b[0;34m]\u001b[0m\u001b[0;34m\u001b[0m\u001b[0;34m\u001b[0m\u001b[0m\n\u001b[1;32m      5\u001b[0m \u001b[0mtrain_accuracy_check\u001b[0m\u001b[0;34m=\u001b[0m\u001b[0maccuracy_score\u001b[0m\u001b[0;34m(\u001b[0m\u001b[0mx_train\u001b[0m\u001b[0;34m[\u001b[0m\u001b[0;34m'CATEGORY'\u001b[0m\u001b[0;34m]\u001b[0m\u001b[0;34m,\u001b[0m\u001b[0mtrain_pred_check\u001b[0m\u001b[0;34m[\u001b[0m\u001b[0;36m0\u001b[0m\u001b[0;34m]\u001b[0m\u001b[0;34m)\u001b[0m\u001b[0;34m\u001b[0m\u001b[0;34m\u001b[0m\u001b[0m\n",
      "\u001b[0;31mNameError\u001b[0m: name 'elasticnet' is not defined"
     ]
    }
   ],
   "source": [
    "lg=LogisticRegression(random_state=123,max_iter=10000,penalty=elasticnet,solver=saga,l1_ratio=l1_ratio,C=C)\n",
    "lg.fit(train_feature,x_train['CATEGORY'])\n",
    "    \n",
    "train_pred_check=[np.max(lg.predict_proba(train_feature), axis=1), lg.predict(train_feature)]\n",
    "train_accuracy_check=accuracy_score(x_train['CATEGORY'],train_pred_check[0])\n",
    "\n",
    "valid_pred_check=[np.max(lg.predict_proba(valid_feature), axis=1), lg.predict(valid_feature)]\n",
    "valid_accuracy=accuracy_score(x_valid['CATEGORY'],valid_pred_check[0])\n",
    " \n",
    "test_pred_check=[np.max(lg.predict_proba(test_feature), axis=1), lg.predict(test_feature)]\n",
    "test_accuracy=accuracy_score(x_test['CATEGORY'],test_pred_check[0])\n"
   ]
  },
  {
   "cell_type": "code",
   "execution_count": null,
   "metadata": {},
   "outputs": [],
   "source": [
    "print(f'正解率（学習データ）：{train_accuracy_check:.3f}')\n",
    "print(f'正解率（検証データ）：{valid_accuracy_check:.3f}')\n",
    "print(f'正解率（評価データ）：{test_accuracy_check:.3f}')"
   ]
  }
 ],
 "metadata": {
  "kernelspec": {
   "display_name": "Python 3 (ipykernel)",
   "language": "python",
   "name": "python3"
  },
  "language_info": {
   "codemirror_mode": {
    "name": "ipython",
    "version": 3
   },
   "file_extension": ".py",
   "mimetype": "text/x-python",
   "name": "python",
   "nbconvert_exporter": "python",
   "pygments_lexer": "ipython3",
   "version": "3.9.7"
  }
 },
 "nbformat": 4,
 "nbformat_minor": 4
}
