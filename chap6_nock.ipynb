{
 "cells": [
  {
   "cell_type": "markdown",
   "metadata": {},
   "source": [
    "# 50\n",
    "ダウンロードしたzipファイルを解凍し，readme.txtの説明を読む．\n",
    "情報源（publisher）が”Reuters”, “Huffington Post”, “Businessweek”, “Contactmusic.com”, “Daily Mail”の事例（記事）のみを抽出する．\n",
    "抽出された事例をランダムに並び替える．\n",
    "抽出された事例の80%を学習データ，残りの10%ずつを検証データと評価データに分割し，それぞれtrain.txt，valid.txt，test.txtというファイル名で保存する．ファイルには，１行に１事例を書き出すこととし，カテゴリ名と記事見出しのタブ区切り形式とせよ（このファイルは後に問題70で再利用する）．\n",
    "学習データと評価データを作成したら，各カテゴリの事例数を確認せよ．"
   ]
  },
  {
   "cell_type": "code",
   "execution_count": 4,
   "metadata": {},
   "outputs": [],
   "source": [
    "#情報源（publisher）が”Reuters”, “Huffington Post”, “Businessweek”, “Contactmusic.com”, “Daily Mail”の事例（記事）のみを抽出する．\n",
    "import pandas as pd\n",
    "file=pd.read_csv('newsCorpora.csv',sep='\\t',header=None,names=['ID','TITLE','URL','PUBLISHER','CATEGORY','STORY','HOSTNAME','TIMESTAMP'])\n",
    "file1=file[file['PUBLISHER'].isin(['Reuters','Huffington Post','Businessweek','Contactmusic.com','Daily Mail'])]\n"
   ]
  },
  {
   "cell_type": "code",
   "execution_count": 5,
   "metadata": {},
   "outputs": [
    {
     "data": {
      "text/html": [
       "<div>\n",
       "<style scoped>\n",
       "    .dataframe tbody tr th:only-of-type {\n",
       "        vertical-align: middle;\n",
       "    }\n",
       "\n",
       "    .dataframe tbody tr th {\n",
       "        vertical-align: top;\n",
       "    }\n",
       "\n",
       "    .dataframe thead th {\n",
       "        text-align: right;\n",
       "    }\n",
       "</style>\n",
       "<table border=\"1\" class=\"dataframe\">\n",
       "  <thead>\n",
       "    <tr style=\"text-align: right;\">\n",
       "      <th></th>\n",
       "      <th>ID</th>\n",
       "      <th>TITLE</th>\n",
       "      <th>URL</th>\n",
       "      <th>PUBLISHER</th>\n",
       "      <th>CATEGORY</th>\n",
       "      <th>STORY</th>\n",
       "      <th>HOSTNAME</th>\n",
       "      <th>TIMESTAMP</th>\n",
       "    </tr>\n",
       "  </thead>\n",
       "  <tbody>\n",
       "    <tr>\n",
       "      <th>12</th>\n",
       "      <td>13</td>\n",
       "      <td>Europe reaches crunch point on banking union</td>\n",
       "      <td>http://in.reuters.com/article/2014/03/10/eu-ba...</td>\n",
       "      <td>Reuters</td>\n",
       "      <td>b</td>\n",
       "      <td>dPhGU51DcrolUIMxbRm0InaHGA2XM</td>\n",
       "      <td>in.reuters.com</td>\n",
       "      <td>1394470501755</td>\n",
       "    </tr>\n",
       "    <tr>\n",
       "      <th>13</th>\n",
       "      <td>14</td>\n",
       "      <td>ECB FOCUS-Stronger euro drowns out ECB's messa...</td>\n",
       "      <td>http://in.reuters.com/article/2014/03/10/ecb-p...</td>\n",
       "      <td>Reuters</td>\n",
       "      <td>b</td>\n",
       "      <td>dPhGU51DcrolUIMxbRm0InaHGA2XM</td>\n",
       "      <td>in.reuters.com</td>\n",
       "      <td>1394470501948</td>\n",
       "    </tr>\n",
       "    <tr>\n",
       "      <th>19</th>\n",
       "      <td>20</td>\n",
       "      <td>Euro Anxieties Wane as Bunds Top Treasuries, S...</td>\n",
       "      <td>http://www.businessweek.com/news/2014-03-10/ge...</td>\n",
       "      <td>Businessweek</td>\n",
       "      <td>b</td>\n",
       "      <td>dPhGU51DcrolUIMxbRm0InaHGA2XM</td>\n",
       "      <td>www.businessweek.com</td>\n",
       "      <td>1394470503148</td>\n",
       "    </tr>\n",
       "    <tr>\n",
       "      <th>20</th>\n",
       "      <td>21</td>\n",
       "      <td>Noyer Says Strong Euro Creates Unwarranted Eco...</td>\n",
       "      <td>http://www.businessweek.com/news/2014-03-10/no...</td>\n",
       "      <td>Businessweek</td>\n",
       "      <td>b</td>\n",
       "      <td>dPhGU51DcrolUIMxbRm0InaHGA2XM</td>\n",
       "      <td>www.businessweek.com</td>\n",
       "      <td>1394470503366</td>\n",
       "    </tr>\n",
       "    <tr>\n",
       "      <th>29</th>\n",
       "      <td>30</td>\n",
       "      <td>REFILE-Bad loan triggers key feature in ECB ba...</td>\n",
       "      <td>http://in.reuters.com/article/2014/03/10/euroz...</td>\n",
       "      <td>Reuters</td>\n",
       "      <td>b</td>\n",
       "      <td>dPhGU51DcrolUIMxbRm0InaHGA2XM</td>\n",
       "      <td>in.reuters.com</td>\n",
       "      <td>1394470505070</td>\n",
       "    </tr>\n",
       "  </tbody>\n",
       "</table>\n",
       "</div>"
      ],
      "text/plain": [
       "    ID                                              TITLE  \\\n",
       "12  13       Europe reaches crunch point on banking union   \n",
       "13  14  ECB FOCUS-Stronger euro drowns out ECB's messa...   \n",
       "19  20  Euro Anxieties Wane as Bunds Top Treasuries, S...   \n",
       "20  21  Noyer Says Strong Euro Creates Unwarranted Eco...   \n",
       "29  30  REFILE-Bad loan triggers key feature in ECB ba...   \n",
       "\n",
       "                                                  URL     PUBLISHER CATEGORY  \\\n",
       "12  http://in.reuters.com/article/2014/03/10/eu-ba...       Reuters        b   \n",
       "13  http://in.reuters.com/article/2014/03/10/ecb-p...       Reuters        b   \n",
       "19  http://www.businessweek.com/news/2014-03-10/ge...  Businessweek        b   \n",
       "20  http://www.businessweek.com/news/2014-03-10/no...  Businessweek        b   \n",
       "29  http://in.reuters.com/article/2014/03/10/euroz...       Reuters        b   \n",
       "\n",
       "                            STORY              HOSTNAME      TIMESTAMP  \n",
       "12  dPhGU51DcrolUIMxbRm0InaHGA2XM        in.reuters.com  1394470501755  \n",
       "13  dPhGU51DcrolUIMxbRm0InaHGA2XM        in.reuters.com  1394470501948  \n",
       "19  dPhGU51DcrolUIMxbRm0InaHGA2XM  www.businessweek.com  1394470503148  \n",
       "20  dPhGU51DcrolUIMxbRm0InaHGA2XM  www.businessweek.com  1394470503366  \n",
       "29  dPhGU51DcrolUIMxbRm0InaHGA2XM        in.reuters.com  1394470505070  "
      ]
     },
     "execution_count": 5,
     "metadata": {},
     "output_type": "execute_result"
    }
   ],
   "source": [
    "file1.head()"
   ]
  },
  {
   "cell_type": "code",
   "execution_count": 9,
   "metadata": {},
   "outputs": [],
   "source": [
    "#3.抽出された事例をランダムに並び替える．\n",
    "#4.抽出された事例の80%を学習データ，残りの10%ずつを検証データと評価データに分割し，それぞれtrain.txt，valid.txt，test.txtというファイル名で保存する．\n",
    "from sklearn.model_selection import train_test_split\n",
    "#x_trainとx_validに分ける。random_stateで、stratifyのラベルを偏らないようにする \n",
    "#x_train, x_valid1  = train_test_split( file1, train_size=0.8,shuffle=True,random_state=123)\n",
    "#x_valid,x_test =train_test_split(x_valid1,train_size=0.5,shuffle=True,random_state=123)\n",
    "x_train, x_valid1  = train_test_split( file1, train_size=0.8,shuffle=True,random_state=1)\n",
    "x_valid,x_test =train_test_split(x_valid1,train_size=0.5,shuffle=True,random_state=1)"
   ]
  },
  {
   "cell_type": "code",
   "execution_count": 10,
   "metadata": {},
   "outputs": [
    {
     "name": "stdout",
     "output_type": "stream",
     "text": [
      "b    4543\n",
      "e    4182\n",
      "t    1213\n",
      "m     734\n",
      "Name: CATEGORY, dtype: int64\n",
      "e    559\n",
      "b    506\n",
      "t    180\n",
      "m     89\n",
      "Name: CATEGORY, dtype: int64\n",
      "b    578\n",
      "e    538\n",
      "t    131\n",
      "m     87\n",
      "Name: CATEGORY, dtype: int64\n"
     ]
    }
   ],
   "source": [
    "#学習データと評価データを作成したら，各カテゴリの事例数を確認せよ．\n",
    "print(x_train['CATEGORY'].value_counts())\n",
    "print(x_valid['CATEGORY'].value_counts())\n",
    "print(x_test['CATEGORY'].value_counts())"
   ]
  },
  {
   "cell_type": "code",
   "execution_count": 11,
   "metadata": {},
   "outputs": [
    {
     "name": "stdout",
     "output_type": "stream",
     "text": [
      "            ID                                              TITLE  \\\n",
      "321821  322281  Fed's Bullard says jobs growth is 'ahead of sc...   \n",
      "11584    11585  'The Bachelor:' Juan Pablo Galavis Attempts To...   \n",
      "68297    68298  Health Care Law Changes Are Challenging The Ob...   \n",
      "53206    53207                Conscious Uncoupling: What It Means   \n",
      "196041  196477  Euro zone yields fall to new lows on ECB's cle...   \n",
      "...        ...                                                ...   \n",
      "349085  349545  UPDATE 1-Target 'respectfully' asks customers ...   \n",
      "26546    26547     Ryan Gosling Attached To Busby Berkeley Biopic   \n",
      "169667  170003        Seth Rogen - Seth Rogen was a bad neighbour   \n",
      "385754  386214  One month after Casey Kasem's death his body S...   \n",
      "6305      6306  Grant Gustin in costume as The Flash for new T...   \n",
      "\n",
      "                                                      URL         PUBLISHER  \\\n",
      "321821  http://in.reuters.com/article/2014/06/26/usa-f...           Reuters   \n",
      "11584   http://www.contactmusic.com/article/the-bachel...  Contactmusic.com   \n",
      "68297   http://www.huffingtonpost.com/2014/03/29/healt...   Huffington Post   \n",
      "53206   http://www.huffingtonpost.com/kathlyn-and-gay-...   Huffington Post   \n",
      "196041  http://in.reuters.com/article/2014/05/08/marke...           Reuters   \n",
      "...                                                   ...               ...   \n",
      "349085  http://in.reuters.com/article/2014/07/02/usa-g...           Reuters   \n",
      "26546   http://www.huffingtonpost.com/2014/03/20/ryan-...   Huffington Post   \n",
      "169667  http://www.contactmusic.com/story/seth-rogen-w...  Contactmusic.com   \n",
      "385754  http://www.dailymail.co.uk/news/article-269443...        Daily Mail   \n",
      "6305    http://www.dailymail.co.uk/tvshowbiz/article-2...        Daily Mail   \n",
      "\n",
      "       CATEGORY                          STORY                HOSTNAME  \\\n",
      "321821        b  dJela8uxiRnjVgMbiSKiq4Jvlb0cM          in.reuters.com   \n",
      "11584         e  dxYjgiiUkU2JTxMb-bZHBuIGpi3aM    www.contactmusic.com   \n",
      "68297         b  do2KPH-Gp39IShMBBvPmkb_fvnzBM  www.huffingtonpost.com   \n",
      "53206         e  dQQDUh_eqYkkA5MQTCOY1wWllgFnM  www.huffingtonpost.com   \n",
      "196041        b  dk4owFClCY8fpmMeJ3SHsDptJDeeM          in.reuters.com   \n",
      "...         ...                            ...                     ...   \n",
      "349085        b  dHcqGggwgxq5RRMDRcquHJTtoTj-M          in.reuters.com   \n",
      "26546         e  dTU0cbX1HRUJppMLx-X4yEf-1BiMM  www.huffingtonpost.com   \n",
      "169667        e  dKVbJ1LkRcego-Mf59pMI9oF7yO-M    www.contactmusic.com   \n",
      "385754        e  dMOU9Q-YoEOH77MoZDT0QWI4XKWOM     www.dailymail.co.uk   \n",
      "6305          e  dhEMwa0MwoR1WhMbGqJ5FLoTnr5nM     www.dailymail.co.uk   \n",
      "\n",
      "            TIMESTAMP  \n",
      "321821  1403851073800  \n",
      "11584   1394720646058  \n",
      "68297   1396231504473  \n",
      "53206   1395958506454  \n",
      "196041  1399622959607  \n",
      "...               ...  \n",
      "349085  1404382893566  \n",
      "26546   1395328199132  \n",
      "169667  1398798748841  \n",
      "385754  1405576413937  \n",
      "6305    1394599779196  \n",
      "\n",
      "[10672 rows x 8 columns]\n"
     ]
    }
   ],
   "source": [
    "# テキストファイル（カンマ以外の区切り文字）として（ヘッダーあり）\n",
    "#4.ファイルには，１行に１事例を書き出すこととし，カテゴリ名と記事見出しのタブ区切り形式とせよ\n",
    "x_train.to_csv(\"text.txt\", sep=\"\\t\",index=False)\n",
    "x_valid.to_csv(\"valid.txt\", sep=\"\\t\", index=False)\n",
    "x_test.to_csv(\"test..txt\", sep=\"\\t\", index=False)\n",
    "print(x_train)"
   ]
  },
  {
   "cell_type": "markdown",
   "metadata": {},
   "source": [
    "# 51\n",
    "学習データ，検証データ，評価データから特徴量を抽出し，それぞれtrain.feature.txt，valid.feature.txt，test.feature.txtというファイル名で保存せよ． なお，カテゴリ分類に有用そうな特徴量は各自で自由に設計せよ．記事の見出しを単語列に変換したものが最低限のベースラインとなるであろう．"
   ]
  },
  {
   "cell_type": "code",
   "execution_count": 12,
   "metadata": {},
   "outputs": [],
   "source": [
    "#特徴量:TF-IDF\n",
    "import string\n",
    "import re\n",
    "\n",
    "def preprocessing(text):\n",
    "    table = str.maketrans(string.punctuation, ' '*len(string.punctuation))\n",
    "    text = text.translate(table)  # 記号をスペースに置換                    \n",
    "    text = text.lower()  # 小文字化                                         \n",
    "    text = re.sub('[0-9]+', '0', text)  # 数字列を0に置換                   \n",
    "\n",
    "    return text\n",
    "\n",
    "file1=pd.concat([x_train,x_valid,x_test],axis=0)\n",
    "file1.reset_index(drop=True,inplace=True)\n",
    "\n",
    "#map(関数,シーケンス)\n",
    "file1['TITLE']=file1['TITLE'].map(lambda x:preprocessing(x))\n"
   ]
  },
  {
   "cell_type": "code",
   "execution_count": 13,
   "metadata": {},
   "outputs": [],
   "source": [
    "from sklearn.feature_extraction.text import TfidfVectorizer"
   ]
  },
  {
   "cell_type": "code",
   "execution_count": 14,
   "metadata": {},
   "outputs": [],
   "source": [
    "#初めからlen(x_train)+len(x_valid)まで\n",
    "train_valid=file1[:len(x_train)+len(x_valid)]\n",
    "test=file1[len(x_train)+len(x_valid):]"
   ]
  },
  {
   "cell_type": "code",
   "execution_count": 15,
   "metadata": {},
   "outputs": [
    {
     "name": "stdout",
     "output_type": "stream",
     "text": [
      "12006\n",
      "1334\n",
      "13340\n",
      "10672\n",
      "1334\n"
     ]
    }
   ],
   "source": [
    "print(len(train_valid))\n",
    "print(len(test))\n",
    "print(len(file1))\n",
    "print(len(x_train))\n",
    "print(len(x_valid))"
   ]
  },
  {
   "cell_type": "code",
   "execution_count": 16,
   "metadata": {},
   "outputs": [],
   "source": [
    "train_valid=train_valid[['TITLE','CATEGORY']]\n",
    "test=test[['TITLE','CATEGORY']]"
   ]
  },
  {
   "cell_type": "code",
   "execution_count": 17,
   "metadata": {},
   "outputs": [],
   "source": [
    "#TfidfVectorizer: 文書群を与えると各文書をtf-idfの値を基にしたベクトルに変換する\n",
    "from sklearn.feature_extraction.text import TfidfVectorizer\n",
    "vec_tfidf =TfidfVectorizer(min_df=10,ngram_range=(1,2))"
   ]
  },
  {
   "cell_type": "code",
   "execution_count": 18,
   "metadata": {},
   "outputs": [
    {
     "data": {
      "text/plain": [
       "TfidfVectorizer(min_df=10, ngram_range=(1, 2))"
      ]
     },
     "execution_count": 18,
     "metadata": {},
     "output_type": "execute_result"
    }
   ],
   "source": [
    "vec_tfidf"
   ]
  },
  {
   "cell_type": "code",
   "execution_count": 19,
   "metadata": {},
   "outputs": [],
   "source": [
    "#fit:入力の文書群を与えて語彙の獲得やidfの計算をする\n",
    "#transform: fitしたことで得た語彙やidfを基に文書をtf-idf行列に変換する\n",
    "train_valid_vec= vec_tfidf.fit_transform(train_valid['TITLE'])\n",
    "test_vec= vec_tfidf.transform(test['TITLE'])"
   ]
  },
  {
   "cell_type": "code",
   "execution_count": 20,
   "metadata": {},
   "outputs": [],
   "source": [
    "#ベクトルをデータフレームに変換\n",
    "train_valid_feature=pd.DataFrame(train_valid_vec.toarray(),columns=vec_tfidf.get_feature_names())\n",
    "#valid_feature=pd.DataFrame(valid_vec.toarray())\n",
    "test_feature=pd.DataFrame(test_vec.toarray(),columns=vec_tfidf.get_feature_names())"
   ]
  },
  {
   "cell_type": "code",
   "execution_count": 21,
   "metadata": {},
   "outputs": [],
   "source": [
    "train_feature= train_valid_feature[:len(x_train)]\n",
    "valid_feature= train_valid_feature[len(x_train):]\n",
    "\n",
    "# テキストファイル（カンマ以外の区切り文字）として（ヘッダーあり）\n",
    "train_feature.to_csv(\"text.feature.txt\", sep=\"\\t\",index=False)\n",
    "valid_feature.to_csv(\"valid.feature.txt\", sep=\"\\t\", index=False)\n",
    "test_feature.to_csv(\"test.feature.txt\", sep=\"\\t\", index=False)"
   ]
  },
  {
   "cell_type": "code",
   "execution_count": 22,
   "metadata": {},
   "outputs": [
    {
     "data": {
      "text/html": [
       "<div>\n",
       "<style scoped>\n",
       "    .dataframe tbody tr th:only-of-type {\n",
       "        vertical-align: middle;\n",
       "    }\n",
       "\n",
       "    .dataframe tbody tr th {\n",
       "        vertical-align: top;\n",
       "    }\n",
       "\n",
       "    .dataframe thead th {\n",
       "        text-align: right;\n",
       "    }\n",
       "</style>\n",
       "<table border=\"1\" class=\"dataframe\">\n",
       "  <thead>\n",
       "    <tr style=\"text-align: right;\">\n",
       "      <th></th>\n",
       "      <th>0m</th>\n",
       "      <th>0million</th>\n",
       "      <th>0nd</th>\n",
       "      <th>0s</th>\n",
       "      <th>0st</th>\n",
       "      <th>0th</th>\n",
       "      <th>0th birthday</th>\n",
       "      <th>aa</th>\n",
       "      <th>aaliyah</th>\n",
       "      <th>abbvie</th>\n",
       "      <th>...</th>\n",
       "      <th>you to</th>\n",
       "      <th>young</th>\n",
       "      <th>your</th>\n",
       "      <th>your mother</th>\n",
       "      <th>yr</th>\n",
       "      <th>yuan</th>\n",
       "      <th>zac</th>\n",
       "      <th>zac efron</th>\n",
       "      <th>zendaya</th>\n",
       "      <th>zone</th>\n",
       "    </tr>\n",
       "  </thead>\n",
       "  <tbody>\n",
       "    <tr>\n",
       "      <th>0</th>\n",
       "      <td>0.0</td>\n",
       "      <td>0.0</td>\n",
       "      <td>0.0</td>\n",
       "      <td>0.0</td>\n",
       "      <td>0.0</td>\n",
       "      <td>0.0</td>\n",
       "      <td>0.0</td>\n",
       "      <td>0.0</td>\n",
       "      <td>0.0</td>\n",
       "      <td>0.0</td>\n",
       "      <td>...</td>\n",
       "      <td>0.0</td>\n",
       "      <td>0.0</td>\n",
       "      <td>0.0</td>\n",
       "      <td>0.0</td>\n",
       "      <td>0.0</td>\n",
       "      <td>0.0</td>\n",
       "      <td>0.0</td>\n",
       "      <td>0.0</td>\n",
       "      <td>0.0</td>\n",
       "      <td>0.000000</td>\n",
       "    </tr>\n",
       "    <tr>\n",
       "      <th>1</th>\n",
       "      <td>0.0</td>\n",
       "      <td>0.0</td>\n",
       "      <td>0.0</td>\n",
       "      <td>0.0</td>\n",
       "      <td>0.0</td>\n",
       "      <td>0.0</td>\n",
       "      <td>0.0</td>\n",
       "      <td>0.0</td>\n",
       "      <td>0.0</td>\n",
       "      <td>0.0</td>\n",
       "      <td>...</td>\n",
       "      <td>0.0</td>\n",
       "      <td>0.0</td>\n",
       "      <td>0.0</td>\n",
       "      <td>0.0</td>\n",
       "      <td>0.0</td>\n",
       "      <td>0.0</td>\n",
       "      <td>0.0</td>\n",
       "      <td>0.0</td>\n",
       "      <td>0.0</td>\n",
       "      <td>0.000000</td>\n",
       "    </tr>\n",
       "    <tr>\n",
       "      <th>2</th>\n",
       "      <td>0.0</td>\n",
       "      <td>0.0</td>\n",
       "      <td>0.0</td>\n",
       "      <td>0.0</td>\n",
       "      <td>0.0</td>\n",
       "      <td>0.0</td>\n",
       "      <td>0.0</td>\n",
       "      <td>0.0</td>\n",
       "      <td>0.0</td>\n",
       "      <td>0.0</td>\n",
       "      <td>...</td>\n",
       "      <td>0.0</td>\n",
       "      <td>0.0</td>\n",
       "      <td>0.0</td>\n",
       "      <td>0.0</td>\n",
       "      <td>0.0</td>\n",
       "      <td>0.0</td>\n",
       "      <td>0.0</td>\n",
       "      <td>0.0</td>\n",
       "      <td>0.0</td>\n",
       "      <td>0.000000</td>\n",
       "    </tr>\n",
       "    <tr>\n",
       "      <th>3</th>\n",
       "      <td>0.0</td>\n",
       "      <td>0.0</td>\n",
       "      <td>0.0</td>\n",
       "      <td>0.0</td>\n",
       "      <td>0.0</td>\n",
       "      <td>0.0</td>\n",
       "      <td>0.0</td>\n",
       "      <td>0.0</td>\n",
       "      <td>0.0</td>\n",
       "      <td>0.0</td>\n",
       "      <td>...</td>\n",
       "      <td>0.0</td>\n",
       "      <td>0.0</td>\n",
       "      <td>0.0</td>\n",
       "      <td>0.0</td>\n",
       "      <td>0.0</td>\n",
       "      <td>0.0</td>\n",
       "      <td>0.0</td>\n",
       "      <td>0.0</td>\n",
       "      <td>0.0</td>\n",
       "      <td>0.000000</td>\n",
       "    </tr>\n",
       "    <tr>\n",
       "      <th>4</th>\n",
       "      <td>0.0</td>\n",
       "      <td>0.0</td>\n",
       "      <td>0.0</td>\n",
       "      <td>0.0</td>\n",
       "      <td>0.0</td>\n",
       "      <td>0.0</td>\n",
       "      <td>0.0</td>\n",
       "      <td>0.0</td>\n",
       "      <td>0.0</td>\n",
       "      <td>0.0</td>\n",
       "      <td>...</td>\n",
       "      <td>0.0</td>\n",
       "      <td>0.0</td>\n",
       "      <td>0.0</td>\n",
       "      <td>0.0</td>\n",
       "      <td>0.0</td>\n",
       "      <td>0.0</td>\n",
       "      <td>0.0</td>\n",
       "      <td>0.0</td>\n",
       "      <td>0.0</td>\n",
       "      <td>0.298871</td>\n",
       "    </tr>\n",
       "  </tbody>\n",
       "</table>\n",
       "<p>5 rows × 2825 columns</p>\n",
       "</div>"
      ],
      "text/plain": [
       "    0m  0million  0nd   0s  0st  0th  0th birthday   aa  aaliyah  abbvie  ...  \\\n",
       "0  0.0       0.0  0.0  0.0  0.0  0.0           0.0  0.0      0.0     0.0  ...   \n",
       "1  0.0       0.0  0.0  0.0  0.0  0.0           0.0  0.0      0.0     0.0  ...   \n",
       "2  0.0       0.0  0.0  0.0  0.0  0.0           0.0  0.0      0.0     0.0  ...   \n",
       "3  0.0       0.0  0.0  0.0  0.0  0.0           0.0  0.0      0.0     0.0  ...   \n",
       "4  0.0       0.0  0.0  0.0  0.0  0.0           0.0  0.0      0.0     0.0  ...   \n",
       "\n",
       "   you to  young  your  your mother   yr  yuan  zac  zac efron  zendaya  \\\n",
       "0     0.0    0.0   0.0          0.0  0.0   0.0  0.0        0.0      0.0   \n",
       "1     0.0    0.0   0.0          0.0  0.0   0.0  0.0        0.0      0.0   \n",
       "2     0.0    0.0   0.0          0.0  0.0   0.0  0.0        0.0      0.0   \n",
       "3     0.0    0.0   0.0          0.0  0.0   0.0  0.0        0.0      0.0   \n",
       "4     0.0    0.0   0.0          0.0  0.0   0.0  0.0        0.0      0.0   \n",
       "\n",
       "       zone  \n",
       "0  0.000000  \n",
       "1  0.000000  \n",
       "2  0.000000  \n",
       "3  0.000000  \n",
       "4  0.298871  \n",
       "\n",
       "[5 rows x 2825 columns]"
      ]
     },
     "execution_count": 22,
     "metadata": {},
     "output_type": "execute_result"
    }
   ],
   "source": [
    "train_feature.head()"
   ]
  },
  {
   "cell_type": "markdown",
   "metadata": {},
   "source": [
    "# うまく行かなかった方\n",
    "validとtestのfitをなくしたらうまくいった"
   ]
  },
  {
   "cell_type": "code",
   "execution_count": 102,
   "metadata": {},
   "outputs": [],
   "source": [
    "train_f=x_train[['TITLE','CATEGORY']]\n",
    "valid_f=x_valid[['TITLE','CATEGORY']]\n",
    "test_f=x_test[['TITLE','CATEGORY']]"
   ]
  },
  {
   "cell_type": "code",
   "execution_count": 103,
   "metadata": {},
   "outputs": [
    {
     "data": {
      "text/html": [
       "<div>\n",
       "<style scoped>\n",
       "    .dataframe tbody tr th:only-of-type {\n",
       "        vertical-align: middle;\n",
       "    }\n",
       "\n",
       "    .dataframe tbody tr th {\n",
       "        vertical-align: top;\n",
       "    }\n",
       "\n",
       "    .dataframe thead th {\n",
       "        text-align: right;\n",
       "    }\n",
       "</style>\n",
       "<table border=\"1\" class=\"dataframe\">\n",
       "  <thead>\n",
       "    <tr style=\"text-align: right;\">\n",
       "      <th></th>\n",
       "      <th>TITLE</th>\n",
       "      <th>CATEGORY</th>\n",
       "    </tr>\n",
       "  </thead>\n",
       "  <tbody>\n",
       "    <tr>\n",
       "      <th>6993</th>\n",
       "      <td>yen weakens versus most major peers  kiwi appr...</td>\n",
       "      <td>b</td>\n",
       "    </tr>\n",
       "    <tr>\n",
       "      <th>7906</th>\n",
       "      <td>us debt falls for first time in 0 weeks on ukr...</td>\n",
       "      <td>b</td>\n",
       "    </tr>\n",
       "    <tr>\n",
       "      <th>9934</th>\n",
       "      <td>update 0 ford profit driven down by north amer...</td>\n",
       "      <td>b</td>\n",
       "    </tr>\n",
       "    <tr>\n",
       "      <th>12732</th>\n",
       "      <td>boeing to build largest 0 dreamliner in south ...</td>\n",
       "      <td>b</td>\n",
       "    </tr>\n",
       "    <tr>\n",
       "      <th>8001</th>\n",
       "      <td>us tv network fox to air live  grease  musical...</td>\n",
       "      <td>e</td>\n",
       "    </tr>\n",
       "    <tr>\n",
       "      <th>...</th>\n",
       "      <td>...</td>\n",
       "      <td>...</td>\n",
       "    </tr>\n",
       "    <tr>\n",
       "      <th>4500</th>\n",
       "      <td>level 0 agrees to buy tw telecom in  0 0 billi...</td>\n",
       "      <td>b</td>\n",
       "    </tr>\n",
       "    <tr>\n",
       "      <th>2512</th>\n",
       "      <td>robin thicke s new album is reportedly called ...</td>\n",
       "      <td>e</td>\n",
       "    </tr>\n",
       "    <tr>\n",
       "      <th>5600</th>\n",
       "      <td>kim kardashian wears pencil skirt and tank top...</td>\n",
       "      <td>e</td>\n",
       "    </tr>\n",
       "    <tr>\n",
       "      <th>9462</th>\n",
       "      <td>paul walker gets emotional mtv movie awards tr...</td>\n",
       "      <td>e</td>\n",
       "    </tr>\n",
       "    <tr>\n",
       "      <th>7967</th>\n",
       "      <td>canada jobless rate falls to 0  as labor marke...</td>\n",
       "      <td>b</td>\n",
       "    </tr>\n",
       "  </tbody>\n",
       "</table>\n",
       "<p>1334 rows × 2 columns</p>\n",
       "</div>"
      ],
      "text/plain": [
       "                                                   TITLE CATEGORY\n",
       "6993   yen weakens versus most major peers  kiwi appr...        b\n",
       "7906   us debt falls for first time in 0 weeks on ukr...        b\n",
       "9934   update 0 ford profit driven down by north amer...        b\n",
       "12732  boeing to build largest 0 dreamliner in south ...        b\n",
       "8001   us tv network fox to air live  grease  musical...        e\n",
       "...                                                  ...      ...\n",
       "4500   level 0 agrees to buy tw telecom in  0 0 billi...        b\n",
       "2512   robin thicke s new album is reportedly called ...        e\n",
       "5600   kim kardashian wears pencil skirt and tank top...        e\n",
       "9462   paul walker gets emotional mtv movie awards tr...        e\n",
       "7967   canada jobless rate falls to 0  as labor marke...        b\n",
       "\n",
       "[1334 rows x 2 columns]"
      ]
     },
     "execution_count": 103,
     "metadata": {},
     "output_type": "execute_result"
    }
   ],
   "source": [
    "test_f"
   ]
  },
  {
   "cell_type": "code",
   "execution_count": 104,
   "metadata": {},
   "outputs": [],
   "source": [
    "#TfidfVectorizer\n",
    "from sklearn.feature_extraction.text import TfidfVectorizer\n",
    "vec_tfidf =TfidfVectorizer(min_df=10,ngram_range=(1,2))"
   ]
  },
  {
   "cell_type": "code",
   "execution_count": 112,
   "metadata": {},
   "outputs": [],
   "source": [
    "train_vec= vec_tfidf.fit_transform(train_f['TITLE'])\n",
    "#validとtestは同じ大きさだからfitする必要がない\n",
    "valid_vec= vec_tfidf.transform(valid_f['TITLE'])\n",
    "test_vec= vec_tfidf.transform(test_f['TITLE'])"
   ]
  },
  {
   "cell_type": "code",
   "execution_count": 113,
   "metadata": {},
   "outputs": [
    {
     "name": "stdout",
     "output_type": "stream",
     "text": [
      "  (0, 230)\t0.31801413064933143\n",
      "  (0, 180)\t0.32893186774233096\n",
      "  (0, 2281)\t0.25211167895691217\n",
      "  (0, 774)\t0.13746379619790158\n",
      "  (0, 229)\t0.26657206050329907\n",
      "  (0, 2095)\t0.31255343182011514\n",
      "  (0, 0)\t0.3143003196338374\n",
      "  (0, 816)\t0.19274376182180666\n",
      "  (0, 179)\t0.30330518907239734\n",
      "  (0, 1587)\t0.28083229973254736\n",
      "  (0, 861)\t0.32423911776272596\n",
      "  (0, 601)\t0.32423911776272596\n",
      "  (0, 2314)\t0.1496871940621671\n",
      "  (1, 1626)\t0.39547815453899177\n",
      "  (1, 755)\t0.3004981499816169\n",
      "  (1, 2325)\t0.42384169662524923\n",
      "  (1, 1448)\t0.24843695819414208\n",
      "  (1, 1875)\t0.3599124335679201\n",
      "  (1, 2129)\t0.3118478888752606\n",
      "  (1, 691)\t0.3628283462524844\n",
      "  (1, 1728)\t0.3917967721511741\n",
      "  (2, 141)\t0.4179578636311192\n",
      "  (2, 1489)\t0.31123991557078523\n",
      "  (2, 1768)\t0.3661976037224127\n",
      "  (2, 127)\t0.19393920181596058\n",
      "  :\t:\n",
      "  (10668, 1647)\t0.3352702904770304\n",
      "  (10668, 979)\t0.32530911530134643\n",
      "  (10668, 833)\t0.3575877702147\n",
      "  (10669, 16)\t0.45785228895818497\n",
      "  (10669, 1084)\t0.35550200028120127\n",
      "  (10669, 1027)\t0.45279510485977154\n",
      "  (10669, 1389)\t0.37998332802613943\n",
      "  (10669, 1714)\t0.43607474882661557\n",
      "  (10669, 2180)\t0.13948872658329137\n",
      "  (10669, 1016)\t0.15963519438719834\n",
      "  (10669, 755)\t0.2819169842949523\n",
      "  (10670, 1599)\t0.5037170482201878\n",
      "  (10670, 1828)\t0.4562605739364758\n",
      "  (10670, 2416)\t0.35872424261205305\n",
      "  (10670, 465)\t0.44893304572074244\n",
      "  (10670, 86)\t0.22161081717588893\n",
      "  (10670, 2293)\t0.2778057488715813\n",
      "  (10670, 2180)\t0.15517581541940134\n",
      "  (10670, 154)\t0.23980104282355372\n",
      "  (10671, 990)\t0.2828470265048706\n",
      "  (10671, 1097)\t0.5362521349586135\n",
      "  (10671, 1934)\t0.5323261678012446\n",
      "  (10671, 1096)\t0.49223897501043096\n",
      "  (10671, 711)\t0.23031467628490018\n",
      "  (10671, 1560)\t0.23176712405383407\n"
     ]
    }
   ],
   "source": [
    "print(train_vec)"
   ]
  },
  {
   "cell_type": "code",
   "execution_count": 116,
   "metadata": {},
   "outputs": [],
   "source": [
    "#ベクトルをデータフレームに変換\n",
    "train_feature=pd.DataFrame(train_vec.toarray(),columns=vec_tfidf.get_feature_names())\n",
    "valid_feature=pd.DataFrame(valid_vec.toarray(),columns=vec_tfidf.get_feature_names())\n",
    "test_feature=pd.DataFrame(test_vec.toarray(),columns=vec_tfidf.get_feature_names())"
   ]
  },
  {
   "cell_type": "code",
   "execution_count": 117,
   "metadata": {},
   "outputs": [
    {
     "name": "stdout",
     "output_type": "stream",
     "text": [
      "           0m   0s  0st  0th  0th birthday   aa  abbvie  abc  about  \\\n",
      "0      0.3143  0.0  0.0  0.0           0.0  0.0     0.0  0.0    0.0   \n",
      "1      0.0000  0.0  0.0  0.0           0.0  0.0     0.0  0.0    0.0   \n",
      "2      0.0000  0.0  0.0  0.0           0.0  0.0     0.0  0.0    0.0   \n",
      "3      0.0000  0.0  0.0  0.0           0.0  0.0     0.0  0.0    0.0   \n",
      "4      0.0000  0.0  0.0  0.0           0.0  0.0     0.0  0.0    0.0   \n",
      "...       ...  ...  ...  ...           ...  ...     ...  ...    ...   \n",
      "10667  0.0000  0.0  0.0  0.0           0.0  0.0     0.0  0.0    0.0   \n",
      "10668  0.0000  0.0  0.0  0.0           0.0  0.0     0.0  0.0    0.0   \n",
      "10669  0.0000  0.0  0.0  0.0           0.0  0.0     0.0  0.0    0.0   \n",
      "10670  0.0000  0.0  0.0  0.0           0.0  0.0     0.0  0.0    0.0   \n",
      "10671  0.0000  0.0  0.0  0.0           0.0  0.0     0.0  0.0    0.0   \n",
      "\n",
      "       about the  ...  you can  you need  young  your  your mother   yr  yuan  \\\n",
      "0            0.0  ...      0.0       0.0    0.0   0.0          0.0  0.0   0.0   \n",
      "1            0.0  ...      0.0       0.0    0.0   0.0          0.0  0.0   0.0   \n",
      "2            0.0  ...      0.0       0.0    0.0   0.0          0.0  0.0   0.0   \n",
      "3            0.0  ...      0.0       0.0    0.0   0.0          0.0  0.0   0.0   \n",
      "4            0.0  ...      0.0       0.0    0.0   0.0          0.0  0.0   0.0   \n",
      "...          ...  ...      ...       ...    ...   ...          ...  ...   ...   \n",
      "10667        0.0  ...      0.0       0.0    0.0   0.0          0.0  0.0   0.0   \n",
      "10668        0.0  ...      0.0       0.0    0.0   0.0          0.0  0.0   0.0   \n",
      "10669        0.0  ...      0.0       0.0    0.0   0.0          0.0  0.0   0.0   \n",
      "10670        0.0  ...      0.0       0.0    0.0   0.0          0.0  0.0   0.0   \n",
      "10671        0.0  ...      0.0       0.0    0.0   0.0          0.0  0.0   0.0   \n",
      "\n",
      "       zac  zac efron  zone  \n",
      "0      0.0        0.0   0.0  \n",
      "1      0.0        0.0   0.0  \n",
      "2      0.0        0.0   0.0  \n",
      "3      0.0        0.0   0.0  \n",
      "4      0.0        0.0   0.0  \n",
      "...    ...        ...   ...  \n",
      "10667  0.0        0.0   0.0  \n",
      "10668  0.0        0.0   0.0  \n",
      "10669  0.0        0.0   0.0  \n",
      "10670  0.0        0.0   0.0  \n",
      "10671  0.0        0.0   0.0  \n",
      "\n",
      "[10672 rows x 2483 columns]\n"
     ]
    }
   ],
   "source": [
    "print(train_feature)"
   ]
  },
  {
   "cell_type": "code",
   "execution_count": 118,
   "metadata": {},
   "outputs": [],
   "source": [
    "# テキストファイル（カンマ以外の区切り文字）として（ヘッダーあり）\n",
    "train_feature.to_csv(\"text.feature.txt\", sep=\"\\t\")\n",
    "valid_feature.to_csv(\"valid.feature.txt\", sep=\"\\t\", index=False)\n",
    "test_feature.to_csv(\"test.feature.txt\", sep=\"\\t\", index=False)"
   ]
  },
  {
   "cell_type": "markdown",
   "metadata": {},
   "source": [
    "# 52\n",
    "51で構築した学習データを用いて，ロジスティック回帰モデルを学習せよ．"
   ]
  },
  {
   "cell_type": "code",
   "execution_count": 42,
   "metadata": {},
   "outputs": [],
   "source": [
    "#カテゴリをfloatに直さないと could not convert string to float: 'b'"
   ]
  },
  {
   "cell_type": "code",
   "execution_count": 23,
   "metadata": {},
   "outputs": [],
   "source": [
    "from sklearn.linear_model import LogisticRegression\n",
    "lr=LogisticRegression(max_iter=200)\n",
    "#lbfgs failed to converge (status=1): STOP: TOTAL NO. of ITERATIONS REACHED LIMIT.\n",
    "#上のエラーが出る場合はmax_iterのデフォルト100回で収束しなかったということなので回数を増やしたら良い"
   ]
  },
  {
   "cell_type": "code",
   "execution_count": 24,
   "metadata": {},
   "outputs": [
    {
     "data": {
      "text/plain": [
       "LogisticRegression(max_iter=200)"
      ]
     },
     "execution_count": 24,
     "metadata": {},
     "output_type": "execute_result"
    }
   ],
   "source": [
    "lr.fit(train_feature,x_train['CATEGORY'])"
   ]
  },
  {
   "cell_type": "markdown",
   "metadata": {},
   "source": [
    "# 53\n",
    "52で学習したロジスティック回帰モデルを用い，与えられた記事見出しからカテゴリとその予測確率を計算するプログラムを実装せよ．"
   ]
  },
  {
   "cell_type": "code",
   "execution_count": 25,
   "metadata": {},
   "outputs": [
    {
     "data": {
      "text/plain": [
       "array(['b', 'e', 'b', ..., 'e', 'e', 'e'], dtype=object)"
      ]
     },
     "execution_count": 25,
     "metadata": {},
     "output_type": "execute_result"
    }
   ],
   "source": [
    "lr.predict(train_feature)"
   ]
  },
  {
   "cell_type": "code",
   "execution_count": 26,
   "metadata": {},
   "outputs": [],
   "source": [
    "#predict:メソッドに説明変数を与えてターゲットを予測。proba:クラスの分類確率\n",
    "#\n",
    "train_predict=[lr.predict(train_feature),lr.predict_proba(train_feature)]\n",
    "valid_predict=[lr.predict(valid_feature),lr.predict_proba(valid_feature)]\n",
    "test_predict=[lr.predict(test_feature),lr.predict_proba(test_feature)]"
   ]
  },
  {
   "cell_type": "code",
   "execution_count": 27,
   "metadata": {},
   "outputs": [
    {
     "data": {
      "text/plain": [
       "array([[0.97082327, 0.0130321 , 0.00454426, 0.01160037],\n",
       "       [0.04663677, 0.89760856, 0.01583981, 0.03991486],\n",
       "       [0.52552952, 0.22547133, 0.21947175, 0.02952741],\n",
       "       ...,\n",
       "       [0.06405075, 0.89129133, 0.0183695 , 0.02628842],\n",
       "       [0.16322241, 0.77174836, 0.04572956, 0.01929967],\n",
       "       [0.06400788, 0.84477934, 0.03110386, 0.06010892]])"
      ]
     },
     "execution_count": 27,
     "metadata": {},
     "output_type": "execute_result"
    }
   ],
   "source": [
    "train_predict[1]"
   ]
  },
  {
   "cell_type": "code",
   "execution_count": 28,
   "metadata": {},
   "outputs": [
    {
     "data": {
      "text/html": [
       "<div>\n",
       "<style scoped>\n",
       "    .dataframe tbody tr th:only-of-type {\n",
       "        vertical-align: middle;\n",
       "    }\n",
       "\n",
       "    .dataframe tbody tr th {\n",
       "        vertical-align: top;\n",
       "    }\n",
       "\n",
       "    .dataframe thead th {\n",
       "        text-align: right;\n",
       "    }\n",
       "</style>\n",
       "<table border=\"1\" class=\"dataframe\">\n",
       "  <thead>\n",
       "    <tr style=\"text-align: right;\">\n",
       "      <th></th>\n",
       "      <th>b</th>\n",
       "      <th>t</th>\n",
       "      <th>e</th>\n",
       "      <th>?</th>\n",
       "    </tr>\n",
       "  </thead>\n",
       "  <tbody>\n",
       "    <tr>\n",
       "      <th>0</th>\n",
       "      <td>0.970823</td>\n",
       "      <td>0.013032</td>\n",
       "      <td>0.004544</td>\n",
       "      <td>0.011600</td>\n",
       "    </tr>\n",
       "    <tr>\n",
       "      <th>1</th>\n",
       "      <td>0.046637</td>\n",
       "      <td>0.897609</td>\n",
       "      <td>0.015840</td>\n",
       "      <td>0.039915</td>\n",
       "    </tr>\n",
       "    <tr>\n",
       "      <th>2</th>\n",
       "      <td>0.525530</td>\n",
       "      <td>0.225471</td>\n",
       "      <td>0.219472</td>\n",
       "      <td>0.029527</td>\n",
       "    </tr>\n",
       "    <tr>\n",
       "      <th>3</th>\n",
       "      <td>0.205953</td>\n",
       "      <td>0.678265</td>\n",
       "      <td>0.055104</td>\n",
       "      <td>0.060678</td>\n",
       "    </tr>\n",
       "    <tr>\n",
       "      <th>4</th>\n",
       "      <td>0.970827</td>\n",
       "      <td>0.011337</td>\n",
       "      <td>0.005815</td>\n",
       "      <td>0.012020</td>\n",
       "    </tr>\n",
       "    <tr>\n",
       "      <th>...</th>\n",
       "      <td>...</td>\n",
       "      <td>...</td>\n",
       "      <td>...</td>\n",
       "      <td>...</td>\n",
       "    </tr>\n",
       "    <tr>\n",
       "      <th>10667</th>\n",
       "      <td>0.755419</td>\n",
       "      <td>0.100169</td>\n",
       "      <td>0.037265</td>\n",
       "      <td>0.107147</td>\n",
       "    </tr>\n",
       "    <tr>\n",
       "      <th>10668</th>\n",
       "      <td>0.053027</td>\n",
       "      <td>0.895114</td>\n",
       "      <td>0.020738</td>\n",
       "      <td>0.031120</td>\n",
       "    </tr>\n",
       "    <tr>\n",
       "      <th>10669</th>\n",
       "      <td>0.064051</td>\n",
       "      <td>0.891291</td>\n",
       "      <td>0.018370</td>\n",
       "      <td>0.026288</td>\n",
       "    </tr>\n",
       "    <tr>\n",
       "      <th>10670</th>\n",
       "      <td>0.163222</td>\n",
       "      <td>0.771748</td>\n",
       "      <td>0.045730</td>\n",
       "      <td>0.019300</td>\n",
       "    </tr>\n",
       "    <tr>\n",
       "      <th>10671</th>\n",
       "      <td>0.064008</td>\n",
       "      <td>0.844779</td>\n",
       "      <td>0.031104</td>\n",
       "      <td>0.060109</td>\n",
       "    </tr>\n",
       "  </tbody>\n",
       "</table>\n",
       "<p>10672 rows × 4 columns</p>\n",
       "</div>"
      ],
      "text/plain": [
       "              b         t         e         ?\n",
       "0      0.970823  0.013032  0.004544  0.011600\n",
       "1      0.046637  0.897609  0.015840  0.039915\n",
       "2      0.525530  0.225471  0.219472  0.029527\n",
       "3      0.205953  0.678265  0.055104  0.060678\n",
       "4      0.970827  0.011337  0.005815  0.012020\n",
       "...         ...       ...       ...       ...\n",
       "10667  0.755419  0.100169  0.037265  0.107147\n",
       "10668  0.053027  0.895114  0.020738  0.031120\n",
       "10669  0.064051  0.891291  0.018370  0.026288\n",
       "10670  0.163222  0.771748  0.045730  0.019300\n",
       "10671  0.064008  0.844779  0.031104  0.060109\n",
       "\n",
       "[10672 rows x 4 columns]"
      ]
     },
     "execution_count": 28,
     "metadata": {},
     "output_type": "execute_result"
    }
   ],
   "source": [
    "pd.DataFrame(train_predict[1],columns=['b','t','e','?'])\n",
    "#4列になっているのはe,b,t,?の確率を求めるため"
   ]
  },
  {
   "cell_type": "code",
   "execution_count": 29,
   "metadata": {},
   "outputs": [
    {
     "name": "stdout",
     "output_type": "stream",
     "text": [
      "[array(['b', 'e', 'b', ..., 'e', 'e', 'e'], dtype=object), array([[0.97082327, 0.0130321 , 0.00454426, 0.01160037],\n",
      "       [0.04663677, 0.89760856, 0.01583981, 0.03991486],\n",
      "       [0.52552952, 0.22547133, 0.21947175, 0.02952741],\n",
      "       ...,\n",
      "       [0.06405075, 0.89129133, 0.0183695 , 0.02628842],\n",
      "       [0.16322241, 0.77174836, 0.04572956, 0.01929967],\n",
      "       [0.06400788, 0.84477934, 0.03110386, 0.06010892]])]\n",
      "-------------------\n",
      "[array(['e', 'b', 'b', ..., 'b', 'e', 'b'], dtype=object), array([[0.1532157 , 0.61420847, 0.09803953, 0.13453629],\n",
      "       [0.93157652, 0.0387068 , 0.01298641, 0.01673027],\n",
      "       [0.47425592, 0.18121028, 0.06980282, 0.27473098],\n",
      "       ...,\n",
      "       [0.82071775, 0.08072607, 0.03385281, 0.06470337],\n",
      "       [0.00906041, 0.9818758 , 0.00513609, 0.0039277 ],\n",
      "       [0.96225979, 0.01668099, 0.01281102, 0.0082482 ]])]\n",
      "-------------------\n",
      "[array(['b', 'b', 'm', ..., 't', 't', 'e'], dtype=object), array([[0.91539038, 0.03721348, 0.019241  , 0.02815515],\n",
      "       [0.923123  , 0.03000781, 0.01361247, 0.03325672],\n",
      "       [0.27869132, 0.08766232, 0.39038015, 0.24326622],\n",
      "       ...,\n",
      "       [0.22438403, 0.12930182, 0.02948448, 0.61682968],\n",
      "       [0.16150611, 0.11387707, 0.02830765, 0.69630917],\n",
      "       [0.01822425, 0.94998301, 0.01855602, 0.01323671]])]\n"
     ]
    }
   ],
   "source": [
    "print(train_predict)\n",
    "print('-------------------')\n",
    "print(valid_predict)\n",
    "print('-------------------')\n",
    "print(test_predict)"
   ]
  },
  {
   "cell_type": "markdown",
   "metadata": {},
   "source": [
    "# 54\n",
    "52で学習したロジスティック回帰モデルの正解率を，学習データおよび評価データ上で計測せよ．"
   ]
  },
  {
   "cell_type": "code",
   "execution_count": 30,
   "metadata": {},
   "outputs": [],
   "source": [
    "from sklearn.metrics import accuracy_score"
   ]
  },
  {
   "cell_type": "code",
   "execution_count": 31,
   "metadata": {},
   "outputs": [],
   "source": [
    "#x_trainのcategory・メソッドに説明変数を与えて予測したターゲットを引数にとる\n",
    "train_accuracy=accuracy_score(x_train['CATEGORY'], train_predict[0])\n",
    "valid_accuracy=accuracy_score(x_valid['CATEGORY'], valid_predict[0])\n",
    "test_accuracy=accuracy_score(x_test['CATEGORY'], test_predict[0])"
   ]
  },
  {
   "cell_type": "code",
   "execution_count": 78,
   "metadata": {},
   "outputs": [
    {
     "name": "stdout",
     "output_type": "stream",
     "text": [
      "train_accuracy: 0.924756371814093\n",
      "test_accuracy: 0.8725637181409296\n",
      "valid_accuracy: 0.8733133433283359\n"
     ]
    }
   ],
   "source": [
    "print('train_accuracy:',train_accuracy)\n",
    "print('test_accuracy:',test_accuracy)\n",
    "print('valid_accuracy:',valid_accuracy)"
   ]
  },
  {
   "cell_type": "code",
   "execution_count": 32,
   "metadata": {},
   "outputs": [
    {
     "name": "stdout",
     "output_type": "stream",
     "text": [
      "train_accuracy: 0.924756371814093\n",
      "test_accuracy: 0.8725637181409296\n"
     ]
    }
   ],
   "source": [
    "print('train_accuracy:',train_accuracy)\n",
    "print('test_accuracy:',test_accuracy)"
   ]
  },
  {
   "cell_type": "markdown",
   "metadata": {},
   "source": [
    "# 55\n",
    "52で学習したロジスティック回帰モデルの混同行列（confusion matrix）を，学習データおよび評価データ上で作成せよ．"
   ]
  },
  {
   "cell_type": "code",
   "execution_count": 33,
   "metadata": {},
   "outputs": [],
   "source": [
    "from sklearn.metrics import confusion_matrix\n",
    "import seaborn as sns\n",
    "import matplotlib.pyplot as plt"
   ]
  },
  {
   "cell_type": "code",
   "execution_count": 34,
   "metadata": {},
   "outputs": [],
   "source": [
    "#クラス分類問題の結果を実際のクラスと予測したクラスを軸にしてまとめたもの\n",
    "train_confusion= confusion_matrix(x_train['CATEGORY'],train_predict[0])\n",
    "valid_confusion= confusion_matrix(x_valid['CATEGORY'],valid_predict[0])\n",
    "test_confusion= confusion_matrix(x_test['CATEGORY'],test_predict[0])"
   ]
  },
  {
   "cell_type": "code",
   "execution_count": 35,
   "metadata": {},
   "outputs": [
    {
     "name": "stdout",
     "output_type": "stream",
     "text": [
      "train_confusion_matrix:\n",
      " [[4382   96    8   57]\n",
      " [  52 4118    4    8]\n",
      " [  97  137  493    7]\n",
      " [ 196  133    8  876]]\n",
      "valid_confusion_matrix:\n",
      " [[481  14   5   6]\n",
      " [  7 548   0   4]\n",
      " [ 20  21  46   2]\n",
      " [ 48  39   3  90]]\n",
      "test_confusion_matrix:\n",
      " [[533  32   1  12]\n",
      " [ 18 517   0   3]\n",
      " [ 16  23  45   3]\n",
      " [ 29  32   1  69]]\n"
     ]
    }
   ],
   "source": [
    "print('train_confusion_matrix:\\n',train_confusion)\n",
    "print('valid_confusion_matrix:\\n',valid_confusion)\n",
    "print('test_confusion_matrix:\\n',test_confusion)"
   ]
  },
  {
   "cell_type": "code",
   "execution_count": 36,
   "metadata": {},
   "outputs": [
    {
     "data": {
      "text/plain": [
       "<AxesSubplot:>"
      ]
     },
     "execution_count": 36,
     "metadata": {},
     "output_type": "execute_result"
    },
    {
     "data": {
      "image/png": "[encoded data removed]",
      "text/plain": [
       "<Figure size 432x288 with 2 Axes>"
      ]
     },
     "metadata": {
      "needs_background": "light"
     },
     "output_type": "display_data"
    }
   ],
   "source": [
    "sns.heatmap(train_confusion,annot=True,cmap='Blues')"
   ]
  },
  {
   "cell_type": "markdown",
   "metadata": {},
   "source": [
    "# 56\n",
    "52で学習したロジスティック回帰モデルの適合率，再現率，F1スコアを，評価データ上で計測せよ．カテゴリごとに適合率，再現率，F1スコアを求め，カテゴリごとの性能をマイクロ平均（micro-average）とマクロ平均（macro-average）で統合せよ．"
   ]
  },
  {
   "cell_type": "code",
   "execution_count": 37,
   "metadata": {},
   "outputs": [],
   "source": [
    "from sklearn.metrics import precision_score,recall_score,f1_score"
   ]
  },
  {
   "cell_type": "code",
   "execution_count": 38,
   "metadata": {},
   "outputs": [
    {
     "name": "stdout",
     "output_type": "stream",
     "text": [
      "test_precision_score micro: 0.8725637181409296\n",
      "test_precision_score macro: 0.8752014559251464\n"
     ]
    }
   ],
   "source": [
    "#適合率　正解と推測結果を引数にとる\n",
    "test_precision_mi=precision_score(x_test['CATEGORY'],test_predict[0],average='micro')\n",
    "print('test_precision_score micro:',test_precision_mi)\n",
    "test_precision_ma=precision_score(x_test['CATEGORY'],test_predict[0],average='macro')\n",
    "print('test_precision_score macro:',test_precision_ma)\n",
    "      "
   ]
  },
  {
   "cell_type": "code",
   "execution_count": 39,
   "metadata": {},
   "outputs": [
    {
     "name": "stdout",
     "output_type": "stream",
     "text": [
      "test_recall_score micro: 0.8725637181409296\n",
      "test_recall_score macro: 0.7317677020082264\n"
     ]
    }
   ],
   "source": [
    "#再現率　正解と推測結果を引数にとる\n",
    "test_recall_mi=recall_score(x_test['CATEGORY'],test_predict[0],average='micro')\n",
    "print('test_recall_score micro:',test_recall_mi)\n",
    "test_recall_ma=recall_score(x_test['CATEGORY'],test_predict[0],average='macro')\n",
    "print('test_recall_score macro:',test_recall_ma)"
   ]
  },
  {
   "cell_type": "code",
   "execution_count": 40,
   "metadata": {},
   "outputs": [
    {
     "name": "stdout",
     "output_type": "stream",
     "text": [
      "test_f1_score micro: 0.8725637181409295\n",
      "test_f1_score macro: 0.779526300023615\n"
     ]
    }
   ],
   "source": [
    "#F1値正解と推測結果を引数にとる\n",
    "test_f1_mi=f1_score(x_test['CATEGORY'],test_predict[0],average='micro')\n",
    "print('test_f1_score micro:',test_f1_mi)\n",
    "test_f1_ma=f1_score(x_test['CATEGORY'],test_predict[0],average='macro')\n",
    "print('test_f1_score macro:',test_f1_ma)"
   ]
  },
  {
   "cell_type": "code",
   "execution_count": 41,
   "metadata": {},
   "outputs": [
    {
     "name": "stdout",
     "output_type": "stream",
     "text": [
      "test_precision_score: [0.8942953  0.85596026 0.79310345 0.95744681]\n",
      "test_recall_score: [0.92214533 0.96096654 0.52671756 0.51724138]\n",
      "test_f1_score: [0.90800681 0.90542907 0.63302752 0.67164179]\n"
     ]
    }
   ],
   "source": [
    "# Noneを指定するとクラスごとの精度をndarrayで返す\n",
    "test_precision=precision_score(x_test['CATEGORY'],test_predict[0],average=None, labels=['b', 'e', 't', 'm'])\n",
    "print('test_precision_score:',test_precision)\n",
    "test_recall=recall_score(x_test['CATEGORY'],test_predict[0],average=None, labels=['b', 'e', 't', 'm'])\n",
    "print('test_recall_score:',test_recall)\n",
    "test_f1=f1_score(x_test['CATEGORY'],test_predict[0],average=None, labels=['b', 'e', 't', 'm'])\n",
    "print('test_f1_score:',test_f1)\n",
    "\n"
   ]
  },
  {
   "cell_type": "code",
   "execution_count": 42,
   "metadata": {},
   "outputs": [
    {
     "name": "stdout",
     "output_type": "stream",
     "text": [
      "             適合率       再現率     F1スコア\n",
      "b       0.894295  0.922145  0.908007\n",
      "e       0.855960  0.960967  0.905429\n",
      "t       0.793103  0.526718  0.633028\n",
      "m       0.957447  0.517241  0.671642\n",
      "マイクロ平均  0.872564  0.872564  0.872564\n",
      "マクロ平均   0.875201  0.731768  0.779526\n"
     ]
    }
   ],
   "source": [
    "import numpy as  np\n",
    "precision = test_precision\n",
    "precision = np.append(precision, test_precision_mi)  # 末尾にマイクロ平均を追加\n",
    "precision = np.append(precision, test_precision_ma)  # 末尾にマクロ平均を追加\n",
    "\n",
    " #再現率\n",
    "recall = test_recall\n",
    "recall = np.append(recall, test_recall_mi)\n",
    "recall = np.append(recall, test_recall_ma)\n",
    "\n",
    "  # F1スコア\n",
    "f1 = test_f1\n",
    "f1 = np.append(f1, test_f1_mi)\n",
    "f1 = np.append(f1, test_f1_ma)\n",
    "\n",
    "\n",
    "# 結果を結合してデータフレーム化\n",
    "scores = pd.DataFrame({'適合率': precision, '再現率': recall, 'F1スコア': f1},\n",
    "                        index=['b', 'e', 't', 'm', 'マイクロ平均', 'マクロ平均'])\n",
    "print(scores)"
   ]
  },
  {
   "cell_type": "markdown",
   "metadata": {},
   "source": [
    "# 57\n",
    "52で学習したロジスティック回帰モデルの中で，重みの高い特徴量トップ10と，重みの低い特徴量トップ10を確認せよ．"
   ]
  },
  {
   "cell_type": "code",
   "execution_count": 43,
   "metadata": {},
   "outputs": [
    {
     "data": {
      "text/plain": [
       "array([[ 0.16579188, -0.22867706,  0.27801495, ..., -0.51486025,\n",
       "        -0.29816339,  0.56114576],\n",
       "       [ 0.57655855,  0.24650312, -0.1160406 , ...,  1.01470923,\n",
       "         0.52464163, -0.50334478],\n",
       "       [-0.13089757,  0.29462832, -0.05151306, ..., -0.24437909,\n",
       "        -0.09028596,  0.0281153 ],\n",
       "       [-0.61145286, -0.31245438, -0.11046129, ..., -0.25546989,\n",
       "        -0.13619228, -0.08591627]])"
      ]
     },
     "execution_count": 43,
     "metadata": {},
     "output_type": "execute_result"
    }
   ],
   "source": [
    "lr.coef_#重み係数"
   ]
  },
  {
   "cell_type": "code",
   "execution_count": 45,
   "metadata": {},
   "outputs": [
    {
     "name": "stdout",
     "output_type": "stream",
     "text": [
      "【カテゴリ】b\n"
     ]
    },
    {
     "data": {
      "text/html": [
       "<div>\n",
       "<style scoped>\n",
       "    .dataframe tbody tr th:only-of-type {\n",
       "        vertical-align: middle;\n",
       "    }\n",
       "\n",
       "    .dataframe tbody tr th {\n",
       "        vertical-align: top;\n",
       "    }\n",
       "\n",
       "    .dataframe thead th {\n",
       "        text-align: right;\n",
       "    }\n",
       "</style>\n",
       "<table border=\"1\" class=\"dataframe\">\n",
       "  <thead>\n",
       "    <tr style=\"text-align: right;\">\n",
       "      <th></th>\n",
       "      <th>1</th>\n",
       "      <th>2</th>\n",
       "      <th>3</th>\n",
       "      <th>4</th>\n",
       "      <th>5</th>\n",
       "      <th>6</th>\n",
       "      <th>7</th>\n",
       "      <th>8</th>\n",
       "      <th>9</th>\n",
       "      <th>10</th>\n",
       "    </tr>\n",
       "  </thead>\n",
       "  <tbody>\n",
       "    <tr>\n",
       "      <th>重要度上位</th>\n",
       "      <td>fed</td>\n",
       "      <td>bank</td>\n",
       "      <td>ecb</td>\n",
       "      <td>china</td>\n",
       "      <td>stocks</td>\n",
       "      <td>oil</td>\n",
       "      <td>euro</td>\n",
       "      <td>ukraine</td>\n",
       "      <td>yellen</td>\n",
       "      <td>dollar</td>\n",
       "    </tr>\n",
       "    <tr>\n",
       "      <th>重要度下位</th>\n",
       "      <td>her</td>\n",
       "      <td>ebola</td>\n",
       "      <td>video</td>\n",
       "      <td>and</td>\n",
       "      <td>she</td>\n",
       "      <td>aereo</td>\n",
       "      <td>virus</td>\n",
       "      <td>star</td>\n",
       "      <td>apple</td>\n",
       "      <td>tv</td>\n",
       "    </tr>\n",
       "  </tbody>\n",
       "</table>\n",
       "</div>"
      ],
      "text/plain": [
       "        1      2      3      4       5      6      7        8       9       10\n",
       "重要度上位  fed   bank    ecb  china  stocks    oil   euro  ukraine  yellen  dollar\n",
       "重要度下位  her  ebola  video    and     she  aereo  virus     star   apple      tv"
      ]
     },
     "metadata": {},
     "output_type": "display_data"
    },
    {
     "name": "stdout",
     "output_type": "stream",
     "text": [
      "\n",
      "\n",
      "【カテゴリ】e\n"
     ]
    },
    {
     "data": {
      "text/html": [
       "<div>\n",
       "<style scoped>\n",
       "    .dataframe tbody tr th:only-of-type {\n",
       "        vertical-align: middle;\n",
       "    }\n",
       "\n",
       "    .dataframe tbody tr th {\n",
       "        vertical-align: top;\n",
       "    }\n",
       "\n",
       "    .dataframe thead th {\n",
       "        text-align: right;\n",
       "    }\n",
       "</style>\n",
       "<table border=\"1\" class=\"dataframe\">\n",
       "  <thead>\n",
       "    <tr style=\"text-align: right;\">\n",
       "      <th></th>\n",
       "      <th>1</th>\n",
       "      <th>2</th>\n",
       "      <th>3</th>\n",
       "      <th>4</th>\n",
       "      <th>5</th>\n",
       "      <th>6</th>\n",
       "      <th>7</th>\n",
       "      <th>8</th>\n",
       "      <th>9</th>\n",
       "      <th>10</th>\n",
       "    </tr>\n",
       "  </thead>\n",
       "  <tbody>\n",
       "    <tr>\n",
       "      <th>重要度上位</th>\n",
       "      <td>kardashian</td>\n",
       "      <td>chris</td>\n",
       "      <td>her</td>\n",
       "      <td>film</td>\n",
       "      <td>movie</td>\n",
       "      <td>jay</td>\n",
       "      <td>kim</td>\n",
       "      <td>star</td>\n",
       "      <td>she</td>\n",
       "      <td>beyonce</td>\n",
       "    </tr>\n",
       "    <tr>\n",
       "      <th>重要度下位</th>\n",
       "      <td>update</td>\n",
       "      <td>us</td>\n",
       "      <td>google</td>\n",
       "      <td>china</td>\n",
       "      <td>facebook</td>\n",
       "      <td>study</td>\n",
       "      <td>says</td>\n",
       "      <td>gm</td>\n",
       "      <td>ceo</td>\n",
       "      <td>billion</td>\n",
       "    </tr>\n",
       "  </tbody>\n",
       "</table>\n",
       "</div>"
      ],
      "text/plain": [
       "               1      2       3      4         5      6     7     8    9   \\\n",
       "重要度上位  kardashian  chris     her   film     movie    jay   kim  star  she   \n",
       "重要度下位      update     us  google  china  facebook  study  says    gm  ceo   \n",
       "\n",
       "            10  \n",
       "重要度上位  beyonce  \n",
       "重要度下位  billion  "
      ]
     },
     "metadata": {},
     "output_type": "display_data"
    },
    {
     "name": "stdout",
     "output_type": "stream",
     "text": [
      "\n",
      "\n",
      "【カテゴリ】m\n"
     ]
    },
    {
     "data": {
      "text/html": [
       "<div>\n",
       "<style scoped>\n",
       "    .dataframe tbody tr th:only-of-type {\n",
       "        vertical-align: middle;\n",
       "    }\n",
       "\n",
       "    .dataframe tbody tr th {\n",
       "        vertical-align: top;\n",
       "    }\n",
       "\n",
       "    .dataframe thead th {\n",
       "        text-align: right;\n",
       "    }\n",
       "</style>\n",
       "<table border=\"1\" class=\"dataframe\">\n",
       "  <thead>\n",
       "    <tr style=\"text-align: right;\">\n",
       "      <th></th>\n",
       "      <th>1</th>\n",
       "      <th>2</th>\n",
       "      <th>3</th>\n",
       "      <th>4</th>\n",
       "      <th>5</th>\n",
       "      <th>6</th>\n",
       "      <th>7</th>\n",
       "      <th>8</th>\n",
       "      <th>9</th>\n",
       "      <th>10</th>\n",
       "    </tr>\n",
       "  </thead>\n",
       "  <tbody>\n",
       "    <tr>\n",
       "      <th>重要度上位</th>\n",
       "      <td>ebola</td>\n",
       "      <td>study</td>\n",
       "      <td>cancer</td>\n",
       "      <td>fda</td>\n",
       "      <td>drug</td>\n",
       "      <td>mers</td>\n",
       "      <td>health</td>\n",
       "      <td>cdc</td>\n",
       "      <td>cigarettes</td>\n",
       "      <td>cases</td>\n",
       "    </tr>\n",
       "    <tr>\n",
       "      <th>重要度下位</th>\n",
       "      <td>facebook</td>\n",
       "      <td>gm</td>\n",
       "      <td>apple</td>\n",
       "      <td>twitter</td>\n",
       "      <td>sales</td>\n",
       "      <td>bank</td>\n",
       "      <td>google</td>\n",
       "      <td>climate</td>\n",
       "      <td>ceo</td>\n",
       "      <td>deal</td>\n",
       "    </tr>\n",
       "  </tbody>\n",
       "</table>\n",
       "</div>"
      ],
      "text/plain": [
       "             1      2       3        4      5     6       7        8   \\\n",
       "重要度上位     ebola  study  cancer      fda   drug  mers  health      cdc   \n",
       "重要度下位  facebook     gm   apple  twitter  sales  bank  google  climate   \n",
       "\n",
       "               9      10  \n",
       "重要度上位  cigarettes  cases  \n",
       "重要度下位         ceo   deal  "
      ]
     },
     "metadata": {},
     "output_type": "display_data"
    },
    {
     "name": "stdout",
     "output_type": "stream",
     "text": [
      "\n",
      "\n",
      "【カテゴリ】t\n"
     ]
    },
    {
     "data": {
      "text/html": [
       "<div>\n",
       "<style scoped>\n",
       "    .dataframe tbody tr th:only-of-type {\n",
       "        vertical-align: middle;\n",
       "    }\n",
       "\n",
       "    .dataframe tbody tr th {\n",
       "        vertical-align: top;\n",
       "    }\n",
       "\n",
       "    .dataframe thead th {\n",
       "        text-align: right;\n",
       "    }\n",
       "</style>\n",
       "<table border=\"1\" class=\"dataframe\">\n",
       "  <thead>\n",
       "    <tr style=\"text-align: right;\">\n",
       "      <th></th>\n",
       "      <th>1</th>\n",
       "      <th>2</th>\n",
       "      <th>3</th>\n",
       "      <th>4</th>\n",
       "      <th>5</th>\n",
       "      <th>6</th>\n",
       "      <th>7</th>\n",
       "      <th>8</th>\n",
       "      <th>9</th>\n",
       "      <th>10</th>\n",
       "    </tr>\n",
       "  </thead>\n",
       "  <tbody>\n",
       "    <tr>\n",
       "      <th>重要度上位</th>\n",
       "      <td>google</td>\n",
       "      <td>facebook</td>\n",
       "      <td>apple</td>\n",
       "      <td>microsoft</td>\n",
       "      <td>climate</td>\n",
       "      <td>nasa</td>\n",
       "      <td>gm</td>\n",
       "      <td>tesla</td>\n",
       "      <td>heartbleed</td>\n",
       "      <td>fcc</td>\n",
       "    </tr>\n",
       "    <tr>\n",
       "      <th>重要度下位</th>\n",
       "      <td>stocks</td>\n",
       "      <td>fed</td>\n",
       "      <td>drug</td>\n",
       "      <td>cancer</td>\n",
       "      <td>percent</td>\n",
       "      <td>american</td>\n",
       "      <td>day</td>\n",
       "      <td>ecb</td>\n",
       "      <td>ukraine</td>\n",
       "      <td>her</td>\n",
       "    </tr>\n",
       "  </tbody>\n",
       "</table>\n",
       "</div>"
      ],
      "text/plain": [
       "           1         2      3          4        5         6    7      8   \\\n",
       "重要度上位  google  facebook  apple  microsoft  climate      nasa   gm  tesla   \n",
       "重要度下位  stocks       fed   drug     cancer  percent  american  day    ecb   \n",
       "\n",
       "               9    10  \n",
       "重要度上位  heartbleed  fcc  \n",
       "重要度下位     ukraine  her  "
      ]
     },
     "metadata": {},
     "output_type": "display_data"
    },
    {
     "name": "stdout",
     "output_type": "stream",
     "text": [
      "\n",
      "\n"
     ]
    }
   ],
   "source": [
    "features = train_feature.columns.values#列名をリストとして取得する\n",
    "index = [i for i in range(1, 11)]\n",
    "for c, coef in zip(lr.classes_, lr.coef_):#全てのカテゴリについて\n",
    "    print(f'【カテゴリ】{c}')\n",
    "    best10 = pd.DataFrame(features[np.argsort(coef)[::-1][:10]], columns=['重要度上位'], index=index).T\n",
    "    worst10 = pd.DataFrame(features[np.argsort(coef)[:10]], columns=['重要度下位'], index=index).T\n",
    "    display(pd.concat([best10, worst10], axis=0))\n",
    "    print('\\n')\n"
   ]
  },
  {
   "cell_type": "code",
   "execution_count": 50,
   "metadata": {},
   "outputs": [
    {
     "name": "stdout",
     "output_type": "stream",
     "text": [
      "Index(['0m', '0million', '0nd', '0s', '0st', '0th', '0th birthday', 'aa',\n",
      "       'aaliyah', 'abbvie',\n",
      "       ...\n",
      "       'you to', 'young', 'your', 'your mother', 'yr', 'yuan', 'zac',\n",
      "       'zac efron', 'zendaya', 'zone'],\n",
      "      dtype='object', length=2825)\n",
      "['0m' '0million' '0nd' ... 'zac efron' 'zendaya' 'zone']\n",
      "    0m  0million  0nd   0s  0st  0th  0th birthday   aa  aaliyah  abbvie  ...  \\\n",
      "0  0.0       0.0  0.0  0.0  0.0  0.0           0.0  0.0      0.0     0.0  ...   \n",
      "1  0.0       0.0  0.0  0.0  0.0  0.0           0.0  0.0      0.0     0.0  ...   \n",
      "2  0.0       0.0  0.0  0.0  0.0  0.0           0.0  0.0      0.0     0.0  ...   \n",
      "3  0.0       0.0  0.0  0.0  0.0  0.0           0.0  0.0      0.0     0.0  ...   \n",
      "4  0.0       0.0  0.0  0.0  0.0  0.0           0.0  0.0      0.0     0.0  ...   \n",
      "\n",
      "   you to  young  your  your mother   yr  yuan  zac  zac efron  zendaya  \\\n",
      "0     0.0    0.0   0.0          0.0  0.0   0.0  0.0        0.0      0.0   \n",
      "1     0.0    0.0   0.0          0.0  0.0   0.0  0.0        0.0      0.0   \n",
      "2     0.0    0.0   0.0          0.0  0.0   0.0  0.0        0.0      0.0   \n",
      "3     0.0    0.0   0.0          0.0  0.0   0.0  0.0        0.0      0.0   \n",
      "4     0.0    0.0   0.0          0.0  0.0   0.0  0.0        0.0      0.0   \n",
      "\n",
      "       zone  \n",
      "0  0.000000  \n",
      "1  0.000000  \n",
      "2  0.000000  \n",
      "3  0.000000  \n",
      "4  0.298871  \n",
      "\n",
      "[5 rows x 2825 columns]\n"
     ]
    }
   ],
   "source": [
    "print(train_feature.columns)\n",
    "print( train_feature.columns.values)\n",
    "print(train_feature.head())"
   ]
  },
  {
   "cell_type": "markdown",
   "metadata": {},
   "source": [
    "# 58\n",
    "ロジスティック回帰モデルを学習するとき，正則化パラメータを調整することで，学習時の過学習（overfitting）の度合いを制御できる．異なる正則化パラメータでロジスティック回帰モデルを学習し，学習データ，検証データ，および評価データ上の正解率を求めよ．実験の結果は，正則化パラメータを横軸，正解率を縦軸としたグラフにまとめよ．"
   ]
  },
  {
   "cell_type": "code",
   "execution_count": 66,
   "metadata": {},
   "outputs": [],
   "source": [
    "from sklearn.linear_model import LogisticRegression\n",
    "from tqdm import tqdm\n",
    "C_list=[10 ** i for i in range(-5, 4)]\n",
    "result=[]\n",
    "for C in C_list:\n",
    "    clr=LogisticRegression(C=C,max_iter=10000)\n",
    "    clr.fit(train_feature,x_train['CATEGORY'])\n",
    "    train_predict_c=[clr.predict(train_feature),clr.predict_proba(train_feature)]\n",
    "    valid_predict_c=[clr.predict(valid_feature),clr.predict_proba(valid_feature)]\n",
    "    test_predict_c=[clr.predict(test_feature),clr.predict_proba(test_feature)]\n",
    "    \n",
    "    train_accuracy_c=accuracy_score(x_train['CATEGORY'], train_predict_c[0])\n",
    "    valid_accuracy_c=accuracy_score(x_valid['CATEGORY'], valid_predict_c[0])\n",
    "    test_accuracy_c=accuracy_score(x_test['CATEGORY'], test_predict_c[0])\n",
    "    \n",
    "    result.append([C,train_accuracy_c,valid_accuracy_c,test_accuracy_c])"
   ]
  },
  {
   "cell_type": "code",
   "execution_count": 67,
   "metadata": {},
   "outputs": [
    {
     "data": {
      "text/plain": [
       "array([[1.00000000e-05, 1.00000000e-04, 1.00000000e-03, 1.00000000e-02,\n",
       "        1.00000000e-01, 1.00000000e+00, 1.00000000e+01, 1.00000000e+02,\n",
       "        1.00000000e+03],\n",
       "       [4.25693403e-01, 4.25693403e-01, 4.41341829e-01, 7.53467016e-01,\n",
       "        8.05472264e-01, 9.24756372e-01, 9.81259370e-01, 9.97376312e-01,\n",
       "        9.98219640e-01],\n",
       "       [3.79310345e-01, 3.79310345e-01, 4.01799100e-01, 7.39880060e-01,\n",
       "        7.85607196e-01, 8.73313343e-01, 8.89805097e-01, 8.70314843e-01,\n",
       "        8.59820090e-01],\n",
       "       [4.33283358e-01, 4.33283358e-01, 4.58020990e-01, 7.72113943e-01,\n",
       "        7.99850075e-01, 8.72563718e-01, 8.86056972e-01, 8.71814093e-01,\n",
       "        8.56821589e-01]])"
      ]
     },
     "execution_count": 67,
     "metadata": {},
     "output_type": "execute_result"
    }
   ],
   "source": [
    "result=np.array(result).T\n",
    "result"
   ]
  },
  {
   "cell_type": "code",
   "execution_count": 68,
   "metadata": {},
   "outputs": [
    {
     "data": {
      "text/plain": [
       "<function matplotlib.pyplot.show(close=None, block=None)>"
      ]
     },
     "execution_count": 68,
     "metadata": {},
     "output_type": "execute_result"
    },
    {
     "data": {
      "image/png": "[encoded data removed]",
      "text/plain": [
       "<Figure size 432x288 with 1 Axes>"
      ]
     },
     "metadata": {
      "needs_background": "light"
     },
     "output_type": "display_data"
    }
   ],
   "source": [
    "import matplotlib.pyplot as plt\n",
    "\n",
    "plt.plot(result[0],result[1],label='train')\n",
    "plt.plot(result[0],result[2],label='valid')\n",
    "plt.plot(result[0],result[3],label='test')\n",
    "plt.ylim(0,1.1)\n",
    "plt.ylabel('Accuracy')\n",
    "plt.xscale('log')\n",
    "plt.xlabel('C')\n",
    "plt.legend()\n",
    "plt.show"
   ]
  },
  {
   "cell_type": "markdown",
   "metadata": {},
   "source": [
    "正則化が強すぎる(Cが小さい)と学習が進まず精度が低く、正則化が弱すぎる(Cが大きい)と過学習してしまうことから、適切なCを選ぶことが重要であることが分かる。"
   ]
  },
  {
   "cell_type": "markdown",
   "metadata": {},
   "source": [
    "# 59\n",
    "学習アルゴリズムや学習パラメータを変えながら，カテゴリ分類モデルを学習せよ．検証データ上の正解率が最も高くなる学習アルゴリズム・パラメータを求めよ．また，その学習アルゴリズム・パラメータを用いたときの評価データ上の正解率を求めよ．"
   ]
  },
  {
   "cell_type": "code",
   "execution_count": 57,
   "metadata": {},
   "outputs": [],
   "source": [
    "import optuna"
   ]
  },
  {
   "cell_type": "markdown",
   "metadata": {},
   "source": [
    "L1正則化とL2正則化のバランスを指定するl1_ratioを対象にパラメータ探索"
   ]
  },
  {
   "cell_type": "code",
   "execution_count": 69,
   "metadata": {},
   "outputs": [],
   "source": [
    "def objective_lg(trial):\n",
    "    l1_ratio =trial.suggest_uniform('l1_ratio',0,1)#name, low, high Suggest a value\n",
    "    C=trial.suggest_loguniform('C',1e-4,1e4)#name, low, high  Suggest a value for the continuous parameter.\n",
    "    \n",
    "    params= {\n",
    "        'random_state':123,\n",
    "        'max_iter':10000, #Maximum number of iterations\n",
    "        'penalty':'elasticnet',#正則化の仕方を決めるパラメータ 。このときboth L1 and L2 penalty terms are added\n",
    "        'solver': 'saga',#最適なパラメータの探索方法を設定\n",
    "        'l1_ratio':l1_ratio,#penaltyがelasticnetの時のみに使われ、0 < l1_ratio <1,のときはpenaltyがL1とL2の組み合わせになる\n",
    "        'C':C   #正則化の強度     \n",
    "    }\n",
    "    lr=LogisticRegression(**params)\n",
    "    lr.fit(train_feature,x_train['CATEGORY'])\n",
    "    #予測値の取得\n",
    "    valid_pred=[np.max(lr.predict_proba(valid_feature), axis=1), lr.predict(valid_feature)]\n",
    "    valid_accuracy=accuracy_score(x_valid['CATEGORY'],valid_pred[1])\n",
    "    return valid_accuracy"
   ]
  },
  {
   "cell_type": "code",
   "execution_count": 70,
   "metadata": {},
   "outputs": [
    {
     "name": "stderr",
     "output_type": "stream",
     "text": [
      "\u001b[32m[I 2022-05-17 20:04:26,375]\u001b[0m A new study created in memory with name: no-name-457c9941-0e57-4fa8-bade-aaba6ddb10b0\u001b[0m\n",
      "\u001b[32m[I 2022-05-17 20:04:47,414]\u001b[0m Trial 0 finished with value: 0.3793103448275862 and parameters: {'l1_ratio': 0.010026615952536067, 'C': 0.00015862259903855666}. Best is trial 0 with value: 0.3793103448275862.\u001b[0m\n",
      "\u001b[32m[I 2022-05-17 20:05:07,635]\u001b[0m Trial 1 finished with value: 0.5427286356821589 and parameters: {'l1_ratio': 0.10558102628348676, 'C': 0.008615383602869524}. Best is trial 1 with value: 0.5427286356821589.\u001b[0m\n",
      "\u001b[32m[I 2022-05-17 20:05:14,533]\u001b[0m Trial 2 finished with value: 0.3793103448275862 and parameters: {'l1_ratio': 0.7056095942888116, 'C': 0.0068743674158458935}. Best is trial 1 with value: 0.5427286356821589.\u001b[0m\n",
      "\u001b[32m[I 2022-05-17 20:05:15,492]\u001b[0m Trial 3 finished with value: 0.3793103448275862 and parameters: {'l1_ratio': 0.9500866565423438, 'C': 0.0002375757114957194}. Best is trial 1 with value: 0.5427286356821589.\u001b[0m\n",
      "\u001b[32m[I 2022-05-17 20:05:43,068]\u001b[0m Trial 4 finished with value: 0.7533733133433284 and parameters: {'l1_ratio': 0.12281113064289084, 'C': 0.07717999914155393}. Best is trial 4 with value: 0.7533733133433284.\u001b[0m\n",
      "\u001b[32m[I 2022-05-17 20:16:44,082]\u001b[0m Trial 5 finished with value: 0.8658170914542729 and parameters: {'l1_ratio': 0.4208382024478152, 'C': 235.3189373744051}. Best is trial 5 with value: 0.8658170914542729.\u001b[0m\n",
      "\u001b[32m[I 2022-05-17 20:18:28,933]\u001b[0m Trial 6 finished with value: 0.8793103448275862 and parameters: {'l1_ratio': 0.9555906712961445, 'C': 1.3085302250711177}. Best is trial 6 with value: 0.8793103448275862.\u001b[0m\n",
      "\u001b[32m[I 2022-05-17 20:59:31,857]\u001b[0m Trial 7 finished with value: 0.8628185907046477 and parameters: {'l1_ratio': 0.9563130688202461, 'C': 143.84314175791593}. Best is trial 6 with value: 0.8793103448275862.\u001b[0m\n",
      "\u001b[32m[I 2022-05-17 21:14:11,262]\u001b[0m Trial 8 finished with value: 0.8620689655172413 and parameters: {'l1_ratio': 0.2376062910572211, 'C': 776.0670138096017}. Best is trial 6 with value: 0.8793103448275862.\u001b[0m\n"
     ]
    }
   ],
   "source": [
    "study=optuna.create_study(direction='maximize')\n",
    "study.optimize(objective_lg,timeout=3600)"
   ]
  },
  {
   "cell_type": "code",
   "execution_count": 71,
   "metadata": {},
   "outputs": [
    {
     "name": "stdout",
     "output_type": "stream",
     "text": [
      "Best trial:\n",
      " Value:0.879\n",
      " Params:\n",
      "    l1_ratio: 0.9555906712961445\n",
      "    C: 1.3085302250711177\n"
     ]
    }
   ],
   "source": [
    "print('Best trial:')\n",
    "trial=study.best_trial\n",
    "print(' Value:{:.3f}'.format(trial.value))\n",
    "print(' Params:')\n",
    "for key ,value in trial.params.items():\n",
    "    print('    {}: {}'.format(key, value))\n",
    "  "
   ]
  },
  {
   "cell_type": "code",
   "execution_count": 77,
   "metadata": {},
   "outputs": [
    {
     "name": "stdout",
     "output_type": "stream",
     "text": [
      "正解率（学習データ）：0.925\n",
      "正解率（検証データ）：0.873\n",
      "正解率（評価データ）：0.873\n"
     ]
    }
   ],
   "source": [
    "#ミス\n",
    "l1_ratio_1 = trial.params['l1_ratio']#探索したパラメータで再度モデルを学習\n",
    "C_1 = trial.params['C']\n",
    "\n",
    "\n",
    "lr_1=LogisticRegression(random_state=123, \n",
    "                        max_iter=10000, \n",
    "                        penalty='elasticnet', \n",
    "                        solver='saga', \n",
    "                        l1_ratio=l1_ratio_1, \n",
    "                        C=C)\n",
    "lr_1.fit(train_feature,x_train['CATEGORY'])\n",
    "\n",
    "valid_pred_1=[np.max(lr.predict_proba(valid_feature), axis=1), lr.predict(valid_feature)]\n",
    "valid_accuracy_1=accuracy_score(x_valid['CATEGORY'],valid_pred_1[1])\n",
    "train_pred_1=[np.max(lr.predict_proba(train_feature), axis=1), lr.predict(train_feature)]\n",
    "train_accuracy_1=accuracy_score(x_train['CATEGORY'],train_pred_1[1])\n",
    "test_pred_1=[np.max(lr.predict_proba(test_feature), axis=1), lr.predict(test_feature)]\n",
    "test_accuracy_1=accuracy_score(x_test['CATEGORY'],test_pred_1[1])\n",
    "\n",
    "print(f'正解率（学習データ）：{train_accuracy_1:.3f}')\n",
    "print(f'正解率（検証データ）：{valid_accuracy_1:.3f}')\n",
    "print(f'正解率（評価データ）：{test_accuracy_1:.3f}')"
   ]
  },
  {
   "cell_type": "code",
   "execution_count": 84,
   "metadata": {},
   "outputs": [
    {
     "name": "stdout",
     "output_type": "stream",
     "text": [
      "正解率（学習データ）：0.998\n",
      "正解率（検証データ）：0.857\n",
      "正解率（評価データ）：0.849\n"
     ]
    }
   ],
   "source": [
    "l1_ratio_1 = trial.params['l1_ratio']#探索したパラメータで再度モデルを学習\n",
    "C_1 = trial.params['C']\n",
    "\n",
    "\n",
    "lr_1=LogisticRegression(random_state=123, \n",
    "                        max_iter=10000, \n",
    "                        penalty='elasticnet', \n",
    "                        solver='saga', \n",
    "                        l1_ratio=l1_ratio_1, \n",
    "                        C=C)\n",
    "lr_1.fit(train_feature,x_train['CATEGORY'])\n",
    "\n",
    "valid_pred_1=[np.max(lr_1.predict_proba(valid_feature), axis=1), lr_1.predict(valid_feature)]\n",
    "valid_accuracy_1=accuracy_score(x_valid['CATEGORY'],valid_pred_1[1])\n",
    "train_pred_1=[np.max(lr_1.predict_proba(train_feature), axis=1), lr_1.predict(train_feature)]\n",
    "train_accuracy_1=accuracy_score(x_train['CATEGORY'],train_pred_1[1])\n",
    "test_pred_1=[np.max(lr_1.predict_proba(test_feature), axis=1), lr_1.predict(test_feature)]\n",
    "test_accuracy_1=accuracy_score(x_test['CATEGORY'],test_pred_1[1])"
   ]
  },
  {
   "cell_type": "code",
   "execution_count": 85,
   "metadata": {},
   "outputs": [
    {
     "name": "stdout",
     "output_type": "stream",
     "text": [
      "正解率（学習データ）：0.998\n",
      "正解率（検証データ）：0.857\n",
      "正解率（評価データ）：0.849\n"
     ]
    }
   ],
   "source": [
    "print(f'正解率（学習データ）：{train_accuracy_1:.3f}')\n",
    "print(f'正解率（検証データ）：{valid_accuracy_1:.3f}')\n",
    "print(f'正解率（評価データ）：{test_accuracy_1:.3f}')"
   ]
  },
  {
   "cell_type": "markdown",
   "metadata": {},
   "source": [
    "正解率（学習データ）：0.998<br>\n",
    "正解率（検証データ）：0.857<br>\n",
    "正解率（評価データ）：0.849という結果が出た。<br>\n",
    "train_accuracy: 0.924756371814093<br>\n",
    "valid_accuracy: 0.8733133433283359<br>\n",
    "test_accuracy: 0.8725637181409296<br>\n",
    "であったので学習データの正解率が上がった。(本当は評価データの結果がよくなるはず)"
   ]
  },
  {
   "cell_type": "code",
   "execution_count": 83,
   "metadata": {},
   "outputs": [
    {
     "data": {
      "text/plain": [
       "0.9555906712961445"
      ]
     },
     "execution_count": 83,
     "metadata": {},
     "output_type": "execute_result"
    }
   ],
   "source": [
    "l1_ratio_1"
   ]
  },
  {
   "cell_type": "code",
   "execution_count": 95,
   "metadata": {},
   "outputs": [
    {
     "data": {
      "text/plain": [
       "MultinomialNB()"
      ]
     },
     "execution_count": 95,
     "metadata": {},
     "output_type": "execute_result"
    }
   ],
   "source": [
    "from sklearn.naive_bayes import MultinomialNB\n",
    "nb = MultinomialNB()\n",
    "nb.fit(train_feature, x_train['CATEGORY'])"
   ]
  },
  {
   "cell_type": "code",
   "execution_count": 96,
   "metadata": {},
   "outputs": [
    {
     "data": {
      "text/plain": [
       "MultinomialNB()"
      ]
     },
     "execution_count": 96,
     "metadata": {},
     "output_type": "execute_result"
    }
   ],
   "source": [
    "MultinomialNB(alpha=1.0, class_prior=None, fit_prior=True)"
   ]
  },
  {
   "cell_type": "code",
   "execution_count": 97,
   "metadata": {},
   "outputs": [
    {
     "ename": "NameError",
     "evalue": "name 'accuracy' is not defined",
     "output_type": "error",
     "traceback": [
      "\u001b[0;31m---------------------------------------------------------------------------\u001b[0m",
      "\u001b[0;31mNameError\u001b[0m                                 Traceback (most recent call last)",
      "\u001b[0;32m/var/folders/xk/_k3hq_cj6yg_h593f5p3mmn40000gn/T/ipykernel_4345/1485553224.py\u001b[0m in \u001b[0;36m<module>\u001b[0;34m\u001b[0m\n\u001b[0;32m----> 1\u001b[0;31m \u001b[0maccuracy\u001b[0m\u001b[0;34m(\u001b[0m\u001b[0mnb\u001b[0m\u001b[0;34m,\u001b[0m \u001b[0mfeature_train\u001b[0m\u001b[0;34m,\u001b[0m \u001b[0mtrain\u001b[0m\u001b[0;34m[\u001b[0m\u001b[0;34m'CATEGORY'\u001b[0m\u001b[0;34m]\u001b[0m\u001b[0;34m)\u001b[0m\u001b[0;34m\u001b[0m\u001b[0;34m\u001b[0m\u001b[0m\n\u001b[0m",
      "\u001b[0;31mNameError\u001b[0m: name 'accuracy' is not defined"
     ]
    }
   ],
   "source": [
    "accuracy(nb, feature_train, train['CATEGORY'])"
   ]
  },
  {
   "cell_type": "code",
   "execution_count": null,
   "metadata": {},
   "outputs": [],
   "source": []
  }
 ],
 "metadata": {
  "kernelspec": {
   "display_name": "Python 3 (ipykernel)",
   "language": "python",
   "name": "python3"
  },
  "language_info": {
   "codemirror_mode": {
    "name": "ipython",
    "version": 3
   },
   "file_extension": ".py",
   "mimetype": "text/x-python",
   "name": "python",
   "nbconvert_exporter": "python",
   "pygments_lexer": "ipython3",
   "version": "3.9.7"
  }
 },
 "nbformat": 4,
 "nbformat_minor": 4
}
