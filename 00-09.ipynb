{
 "cells": [
  {
   "cell_type": "markdown",
   "metadata": {},
   "source": [
    "# 00. 文字列の逆順\n",
    "文字列”stressed”の文字を逆に（末尾から先頭に向かって）並べた文字列を得よ．"
   ]
  },
  {
   "cell_type": "code",
   "execution_count": 1,
   "metadata": {},
   "outputs": [
    {
     "name": "stdout",
     "output_type": "stream",
     "text": [
      "desserts\n"
     ]
    }
   ],
   "source": [
    "str1 = 'stressed'\n",
    "str2 = str1[::-1]\n",
    "print(str2)"
   ]
  },
  {
   "cell_type": "markdown",
   "metadata": {},
   "source": [
    "# 01. 「パタトクカシーー」\n",
    "「パタトクカシーー」という文字列の1,3,5,7文字目を取り出して連結した文字列を得よ．\n",
    "\n"
   ]
  },
  {
   "cell_type": "code",
   "execution_count": 2,
   "metadata": {},
   "outputs": [
    {
     "name": "stdout",
     "output_type": "stream",
     "text": [
      "パトカー\n"
     ]
    }
   ],
   "source": [
    "str1 = 'パタトクカシーー'\n",
    "str2 = str1[::2]\n",
    "print(str2)"
   ]
  },
  {
   "cell_type": "markdown",
   "metadata": {},
   "source": [
    "# 02. 「パトカー」＋「タクシー」＝「パタトクカシーー」\n",
    "「パトカー」＋「タクシー」の文字を先頭から交互に連結して文字列「パタトクカシーー」を得よ．"
   ]
  },
  {
   "cell_type": "code",
   "execution_count": 3,
   "metadata": {},
   "outputs": [
    {
     "name": "stdout",
     "output_type": "stream",
     "text": [
      "パタトクカシーー\n"
     ]
    }
   ],
   "source": [
    "str1 = 'パトカー'\n",
    "str2 = 'タクシー'\n",
    "str3 = ''.join(i + j for i, j in zip(str1, str2))\n",
    "print(str3)"
   ]
  },
  {
   "cell_type": "markdown",
   "metadata": {},
   "source": [
    "# 03. 円周率\n",
    "“Now I need a drink, alcoholic of course, after the heavy lectures involving quantum mechanics.”という文を単語に分解し，各単語の（アルファベットの）文字数を先頭から出現順に並べたリストを作成せよ．"
   ]
  },
  {
   "cell_type": "code",
   "execution_count": 6,
   "metadata": {},
   "outputs": [
    {
     "data": {
      "text/plain": [
       "[3, 1, 4, 1, 5, 9, 2, 6, 5, 3, 5, 8, 9, 7, 9]"
      ]
     },
     "execution_count": 6,
     "metadata": {},
     "output_type": "execute_result"
    }
   ],
   "source": [
    "str1 = 'Now I need a drink, alcoholic of course, after the heavy lectures involving quantum mechanics.'\n",
    "str1 = str1.replace(',', '').replace('.', '')\n",
    "words = str1.split()\n",
    "list1 = [len(word) for word in words]\n",
    "list1"
   ]
  },
  {
   "cell_type": "markdown",
   "metadata": {},
   "source": [
    "# 04. 元素記号\n",
    "“Hi He Lied Because Boron Could Not Oxidize Fluorine. New Nations Might Also Sign Peace Security Clause. Arthur King Can.”という文を単語に分解し，1, 5, 6, 7, 8, 9, 15, 16, 19番目の単語は先頭の1文字，それ以外の単語は先頭の2文字を取り出し，取り出した文字列から単語の位置（先頭から何番目の単語か）への連想配列（辞書型もしくはマップ型）を作成せよ．"
   ]
  },
  {
   "cell_type": "code",
   "execution_count": 7,
   "metadata": {},
   "outputs": [
    {
     "name": "stdout",
     "output_type": "stream",
     "text": [
      "{'H': 1, 'He': 2, 'Li': 3, 'Be': 4, 'B': 5, 'C': 6, 'N': 7, 'O': 8, 'F': 9, 'Ne': 10, 'Na': 11, 'Mi': 12, 'Al': 13, 'Si': 14, 'P': 15, 'S': 16, 'Cl': 17, 'Ar': 18, 'K': 19, 'Ca': 20}\n"
     ]
    }
   ],
   "source": [
    "str1 = 'Hi He Lied Because Boron Could Not Oxidize Fluorine. New Nations Might Also Sign Peace Security Clause. Arthur King Can.'\n",
    "str1 = str1.replace(',', '').replace('.', '')\n",
    "w = str1.split()\n",
    "n = [1, 5, 6, 7, 8, 9, 15, 16, 19]\n",
    "d = {}\n",
    "for i, word in enumerate(w):\n",
    "    if i + 1 in n:\n",
    "        d[word[:1]] = i + 1\n",
    "    else:\n",
    "        d[word[:2]] = i + 1\n",
    "print(d)"
   ]
  },
  {
   "cell_type": "markdown",
   "metadata": {},
   "source": [
    "# 05. n-gram\n",
    "与えられたシーケンス（文字列やリストなど）からn-gramを作る関数を作成せよ．この関数を用い，”I am an NLPer”という文から単語bi-gram，文字bi-gramを得よ．"
   ]
  },
  {
   "cell_type": "code",
   "execution_count": 8,
   "metadata": {},
   "outputs": [],
   "source": [
    "def ngram(n, s):\n",
    "    ngram = []\n",
    "    for i in range(len(s) - n + 1):\n",
    "        ngram.append(tuple(s[i : i + n]))\n",
    "    return ngram"
   ]
  },
  {
   "cell_type": "code",
   "execution_count": 9,
   "metadata": {},
   "outputs": [
    {
     "name": "stdout",
     "output_type": "stream",
     "text": [
      "単語bi-gram :  [('I', 'am'), ('am', 'an'), ('an', 'NLPer')]\n",
      "文字bi-gram :  [('I', ' '), (' ', 'a'), ('a', 'm'), ('m', ' '), (' ', 'a'), ('a', 'n'), ('n', ' '), (' ', 'N'), ('N', 'L'), ('L', 'P'), ('P', 'e'), ('e', 'r')]\n"
     ]
    }
   ],
   "source": [
    "str1 = 'I am an NLPer'\n",
    "print('単語bi-gram : ', ngram(2, str1.split()))\n",
    "print('文字bi-gram : ', ngram(2, str1))"
   ]
  },
  {
   "cell_type": "markdown",
   "metadata": {},
   "source": [
    "# 06. 集合\n",
    "“paraparaparadise”と”paragraph”に含まれる文字bi-gramの集合を，それぞれ, XとYとして求め，XとYの和集合，積集合，差集合を求めよ．さらに，’se’というbi-gramがXおよびYに含まれるかどうかを調べよ．"
   ]
  },
  {
   "cell_type": "code",
   "execution_count": 15,
   "metadata": {},
   "outputs": [
    {
     "name": "stdout",
     "output_type": "stream",
     "text": [
      "和集合 :  {('p', 'h'), ('i', 's'), ('d', 'i'), ('s', 'e'), ('a', 'd'), ('p', 'a'), ('a', 'r'), ('r', 'a'), ('a', 'p'), ('g', 'r'), ('a', 'g')}\n",
      "積集合 :  {('a', 'p'), ('p', 'a'), ('a', 'r'), ('r', 'a')}\n",
      "差集合X-Y :  {('a', 'd'), ('i', 's'), ('d', 'i'), ('s', 'e')}\n",
      "差集合Y-X :  {('p', 'h'), ('a', 'g'), ('g', 'r')}\n",
      "’se’というbi-gramはXに含まれる\n",
      "’se’というbi-gramはYに含まれない\n"
     ]
    }
   ],
   "source": [
    "str1 = 'paraparaparadise'\n",
    "str2 = 'paragraph'\n",
    "bigram1 = ngram(2, str1)\n",
    "bigram2 = ngram(2, str2)\n",
    "X = set(bigram1)\n",
    "Y = set(bigram2)\n",
    "\n",
    "print('和集合 : ', X | Y)\n",
    "print('積集合 : ', X & Y)\n",
    "print('差集合X-Y : ', X - Y)\n",
    "print('差集合Y-X : ', Y - X)\n",
    "\n",
    "if ('s', 'e') in X:\n",
    "    print('’se’というbi-gramはXに含まれる')\n",
    "else:\n",
    "    print('’se’というbi-gramはXに含まれない')\n",
    "if ('s', 'e') in Y:\n",
    "    print('’se’というbi-gramはYに含まれる')\n",
    "else:\n",
    "    print('’se’というbi-gramはYに含まれない')"
   ]
  },
  {
   "cell_type": "markdown",
   "metadata": {},
   "source": [
    "# 07. テンプレートによる文生成\n",
    "引数x, y, zを受け取り「x時のyはz」という文字列を返す関数を実装せよ．さらに，x=12, y=”気温”, z=22.4として，実行結果を確認せよ．\n",
    "\n"
   ]
  },
  {
   "cell_type": "code",
   "execution_count": 16,
   "metadata": {},
   "outputs": [],
   "source": [
    "def template(x, y, z):\n",
    "    print(f'{x}時の{y}は{z}')"
   ]
  },
  {
   "cell_type": "code",
   "execution_count": 17,
   "metadata": {},
   "outputs": [
    {
     "name": "stdout",
     "output_type": "stream",
     "text": [
      "12時の気温は22.4\n"
     ]
    }
   ],
   "source": [
    "template(x=12, y='気温', z=22.4)"
   ]
  },
  {
   "cell_type": "markdown",
   "metadata": {},
   "source": [
    "# 08. 暗号文Permalink\n",
    "与えられた文字列の各文字を，以下の仕様で変換する関数cipherを実装せよ．\n",
    "\n",
    "・英小文字ならば(219 - 文字コード)の文字に置換\n",
    "\n",
    "\n",
    "・その他の文字はそのまま出力\n",
    "\n",
    "\n",
    "この関数を用い，英語のメッセージを暗号化・復号化せよ．"
   ]
  },
  {
   "cell_type": "code",
   "execution_count": 18,
   "metadata": {},
   "outputs": [],
   "source": [
    "def cipher(s):\n",
    "    list1 = [chr(219 - ord(x)) if x.islower() else x for x in s]\n",
    "    return ''.join(list1)"
   ]
  },
  {
   "cell_type": "code",
   "execution_count": 19,
   "metadata": {},
   "outputs": [
    {
     "name": "stdout",
     "output_type": "stream",
     "text": [
      "暗号化 :  I zn zm NLPvi\n",
      "復号化 :  I am an NLPer\n"
     ]
    }
   ],
   "source": [
    "str1 = 'I am an NLPer'\n",
    "print('暗号化 : ', cipher(str1))\n",
    "print('復号化 : ', cipher(cipher(str1)))"
   ]
  },
  {
   "cell_type": "markdown",
   "metadata": {},
   "source": [
    "# 09. Typoglycemia\n",
    "スペースで区切られた単語列に対して，各単語の先頭と末尾の文字は残し，それ以外の文字の順序をランダムに並び替えるプログラムを作成せよ．ただし，長さが４以下の単語は並び替えないこととする．適当な英語の文（例えば”I couldn’t believe that I could actually understand what I was reading : the phenomenal power of the human mind .”）を与え，その実行結果を確認せよ．"
   ]
  },
  {
   "cell_type": "code",
   "execution_count": 21,
   "metadata": {},
   "outputs": [],
   "source": [
    "import random\n",
    "def typoglycemia(s):\n",
    "    list1 = s.split()\n",
    "    result = []\n",
    "    for word in list1:\n",
    "        if len(word) > 4:\n",
    "            word = word[:1] + ''.join(random.sample(word[1:-1], len(word) - 2)) + word[-1:]\n",
    "        result.append(word)\n",
    "    return ' '.join(result)"
   ]
  },
  {
   "cell_type": "code",
   "execution_count": 23,
   "metadata": {},
   "outputs": [
    {
     "name": "stdout",
     "output_type": "stream",
     "text": [
      "I codn’lut bvileee that I cloud allcuaty udnsnrtaed what I was rineadg : the poeanhemnl pewor of the hamun mind .\n"
     ]
    }
   ],
   "source": [
    "str1 = 'I couldn’t believe that I could actually understand what I was reading : the phenomenal power of the human mind .'\n",
    "print(typoglycemia(str1))"
   ]
  }
 ],
 "metadata": {
  "kernelspec": {
   "display_name": "Python 3",
   "language": "python",
   "name": "python3"
  },
  "language_info": {
   "codemirror_mode": {
    "name": "ipython",
    "version": 3
   },
   "file_extension": ".py",
   "mimetype": "text/x-python",
   "name": "python",
   "nbconvert_exporter": "python",
   "pygments_lexer": "ipython3",
   "version": "3.7.3"
  }
 },
 "nbformat": 4,
 "nbformat_minor": 2
}
