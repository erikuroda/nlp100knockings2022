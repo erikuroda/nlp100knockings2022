{
 "cells": [
  {
   "cell_type": "markdown",
   "metadata": {},
   "source": [
    "# 第8章:ニューラルネット"
   ]
  },
  {
   "cell_type": "markdown",
   "metadata": {},
   "source": [
    "## 70.単語ベクトルの和による特徴量\n",
    "問題50で構築した学習データ，検証データ，評価データを行列・ベクトルに変換したい．例えば，学習データについて，すべての事例xi\n",
    "の特徴ベクトルxi\n",
    "を並べた行列X\n",
    "と，正解ラベルを並べた行列（ベクトル）Y\n",
    "を作成したい．"
   ]
  },
  {
   "cell_type": "code",
   "execution_count": 1,
   "metadata": {},
   "outputs": [
    {
     "name": "stdout",
     "output_type": "stream",
     "text": [
      "【学習データ】\n",
      "b    4502\n",
      "e    4223\n",
      "t    1219\n",
      "m     728\n",
      "Name: CATEGORY, dtype: int64\n",
      "【検証データ】\n",
      "b    562\n",
      "e    528\n",
      "t    153\n",
      "m     91\n",
      "Name: CATEGORY, dtype: int64\n",
      "【評価データ】\n",
      "b    563\n",
      "e    528\n",
      "t    152\n",
      "m     91\n",
      "Name: CATEGORY, dtype: int64\n"
     ]
    }
   ],
   "source": [
    "import pandas as pd\n",
    "from sklearn.model_selection import train_test_split\n",
    "\n",
    "# データの読込\n",
    "df = pd.read_csv('./NewsAggregatorDataset/newsCorpora.csv', header=None, sep='\\t', names=['ID', 'TITLE', 'URL', 'PUBLISHER', 'CATEGORY', 'STORY', 'HOSTNAME', 'TIMESTAMP'])\n",
    "\n",
    "# データの抽出\n",
    "df = df.loc[df['PUBLISHER'].isin(['Reuters', 'Huffington Post', 'Businessweek', 'Contactmusic.com', 'Daily Mail']), ['TITLE', 'CATEGORY']]\n",
    "\n",
    "# データの分割\n",
    "train, valid_test = train_test_split(df, test_size=0.2, shuffle=True, random_state=123, stratify=df['CATEGORY'])\n",
    "valid, test = train_test_split(valid_test, test_size=0.5, shuffle=True, random_state=123, stratify=valid_test['CATEGORY'])\n",
    "\n",
    "# データの保存\n",
    "train.to_csv('./train.txt', sep='\\t', index=False)\n",
    "valid.to_csv('./valid.txt', sep='\\t', index=False)\n",
    "test.to_csv('./test.txt', sep='\\t', index=False)\n",
    "\n",
    "# 事例数の確認\n",
    "print('【学習データ】')\n",
    "print(train['CATEGORY'].value_counts())\n",
    "print('【検証データ】')\n",
    "print(valid['CATEGORY'].value_counts())\n",
    "print('【評価データ】')\n",
    "print(test['CATEGORY'].value_counts())"
   ]
  },
  {
   "cell_type": "code",
   "execution_count": 2,
   "metadata": {},
   "outputs": [],
   "source": [
    "import gdown\n",
    "from gensim.models import KeyedVectors\n",
    "\n",
    "# ダウンロードファイルのロード  #単語ベクトルを読み込む\n",
    "model = KeyedVectors.load_word2vec_format('GoogleNews-vectors-negative300.bin', binary=True)"
   ]
  },
  {
   "cell_type": "code",
   "execution_count": 3,
   "metadata": {},
   "outputs": [],
   "source": [
    "import string\n",
    "import torch\n",
    "\n",
    "def transform_w2v(text):    #string.punctuation='!\"#$%&\\'()*+,-./:;<=>?@[\\\\]^_`{|}~'\n",
    "    table = str.maketrans(string.punctuation, ' '*len(string.punctuation))\n",
    "    words = text.translate(table).split()  # string.punctuationをスペースに置換後、スペースで分割してリスト化\n",
    "    vec = [model[word] for word in words if word in model]  # 1語ずつベクトル化\n",
    "\n",
    "    return torch.tensor(sum(vec) / len(vec))  # 平均ベクトルをTensor型に変換して出力"
   ]
  },
  {
   "cell_type": "code",
   "execution_count": 4,
   "metadata": {},
   "outputs": [
    {
     "name": "stdout",
     "output_type": "stream",
     "text": [
      "torch.Size([10672, 300])\n",
      "tensor([[-0.0170,  0.1318, -0.0728,  ...,  0.0395,  0.0223,  0.0184],\n",
      "        [-0.1119, -0.0523, -0.1002,  ...,  0.0319, -0.0237, -0.0425],\n",
      "        [-0.0636, -0.0228, -0.0005,  ..., -0.0280,  0.1057,  0.0396],\n",
      "        ...,\n",
      "        [ 0.0301, -0.0355, -0.0082,  ..., -0.0045,  0.0606, -0.0281],\n",
      "        [ 0.0002,  0.0442, -0.0424,  ..., -0.0507,  0.0283,  0.0365],\n",
      "        [ 0.0242,  0.0418,  0.1211,  ..., -0.0564,  0.0144,  0.0277]])\n"
     ]
    }
   ],
   "source": [
    "# 特徴ベクトルの作成\n",
    "X_train = torch.stack([transform_w2v(text) for text in train['TITLE']])\n",
    "X_valid = torch.stack([transform_w2v(text) for text in valid['TITLE']])\n",
    "X_test = torch.stack([transform_w2v(text) for text in test['TITLE']])\n",
    "\n",
    "print(X_train.size())\n",
    "print(X_train)"
   ]
  },
  {
   "cell_type": "code",
   "execution_count": 5,
   "metadata": {},
   "outputs": [
    {
     "name": "stdout",
     "output_type": "stream",
     "text": [
      "torch.Size([10672])\n",
      "tensor([0, 0, 0,  ..., 0, 2, 2])\n"
     ]
    }
   ],
   "source": [
    "# ラベルベクトルの作成\n",
    "category_dict = {'b': 0, 't': 1, 'e':2, 'm':3}\n",
    "y_train = torch.tensor(train['CATEGORY'].map(lambda x: category_dict[x]).values)\n",
    "y_valid = torch.tensor(valid['CATEGORY'].map(lambda x: category_dict[x]).values)\n",
    "y_test = torch.tensor(test['CATEGORY'].map(lambda x: category_dict[x]).values)\n",
    "\n",
    "print(y_train.size())\n",
    "print(y_train)"
   ]
  },
  {
   "cell_type": "code",
   "execution_count": 6,
   "metadata": {},
   "outputs": [],
   "source": [
    "# 保存\n",
    "torch.save(X_train, 'X_train.pt')\n",
    "torch.save(X_valid, 'X_valid.pt')\n",
    "torch.save(X_test, 'X_test.pt')\n",
    "torch.save(y_train, 'y_train.pt')\n",
    "torch.save(y_valid, 'y_valid.pt')\n",
    "torch.save(y_test, 'y_test.pt')"
   ]
  },
  {
   "cell_type": "markdown",
   "metadata": {},
   "source": [
    "## 71.単層ニューラルネットワークによる予測\n",
    "問題70で保存した行列を読み込み，学習データについて以下の計算を実行せよ．"
   ]
  },
  {
   "cell_type": "code",
   "execution_count": 7,
   "metadata": {},
   "outputs": [],
   "source": [
    "from torch import nn\n",
    "\n",
    "class SLPNet(nn.Module): #単層ニューラルネットワークを定義\n",
    "    def __init__(self, input_size, output_size):\n",
    "        super().__init__()\n",
    "        self.fc = nn.Linear(input_size, output_size, bias=False)   #ネットワーク層\n",
    "        nn.init.normal_(self.fc.weight, 0.0, 1.0)  # 正規乱数で重みを初期化\n",
    "\n",
    "    def forward(self, x):   #順伝播で通るレイヤーを配置\n",
    "        x = self.fc(x)\n",
    "        return x"
   ]
  },
  {
   "cell_type": "code",
   "execution_count": 8,
   "metadata": {},
   "outputs": [
    {
     "name": "stdout",
     "output_type": "stream",
     "text": [
      "torch.Size([1, 4])\n",
      "tensor([[0.9240, 0.0202, 0.0200, 0.0358]], grad_fn=<SoftmaxBackward0>)\n"
     ]
    }
   ],
   "source": [
    "model = SLPNet(300, 4)  # 単層ニューラルネットワークの初期化   #定義したモデルを初期化\n",
    "y_hat_1 = torch.softmax(model(X_train[:1]), dim=-1)      #題の計算\n",
    "print(y_hat_1.size())\n",
    "print(y_hat_1)"
   ]
  },
  {
   "cell_type": "code",
   "execution_count": 9,
   "metadata": {},
   "outputs": [
    {
     "name": "stdout",
     "output_type": "stream",
     "text": [
      "torch.Size([4, 4])\n",
      "tensor([[0.9240, 0.0202, 0.0200, 0.0358],\n",
      "        [0.0220, 0.1481, 0.2186, 0.6113],\n",
      "        [0.0313, 0.0629, 0.6321, 0.2737],\n",
      "        [0.3275, 0.2026, 0.0909, 0.3791]], grad_fn=<SoftmaxBackward0>)\n"
     ]
    }
   ],
   "source": [
    "Y_hat = torch.softmax(model.forward(X_train[:4]), dim=-1)   #dim=-1 最後の次元の要素の和が1になる\n",
    "print(Y_hat.size())\n",
    "print(Y_hat)"
   ]
  },
  {
   "cell_type": "markdown",
   "metadata": {},
   "source": [
    "## 72.損失と勾配の計算"
   ]
  },
  {
   "cell_type": "code",
   "execution_count": 10,
   "metadata": {},
   "outputs": [],
   "source": [
    "criterion = nn.CrossEntropyLoss()"
   ]
  },
  {
   "cell_type": "code",
   "execution_count": 11,
   "metadata": {},
   "outputs": [
    {
     "name": "stdout",
     "output_type": "stream",
     "text": [
      "損失: 0.0791\n",
      "勾配:\n",
      "tensor([[ 0.0013, -0.0100,  0.0055,  ..., -0.0030, -0.0017, -0.0014],\n",
      "        [-0.0003,  0.0027, -0.0015,  ...,  0.0008,  0.0005,  0.0004],\n",
      "        [-0.0003,  0.0026, -0.0015,  ...,  0.0008,  0.0004,  0.0004],\n",
      "        [-0.0006,  0.0047, -0.0026,  ...,  0.0014,  0.0008,  0.0007]])\n",
      "-------------------------------\n",
      "tensor([[ 3.1046, -0.7178, -0.7263, -0.1470]], grad_fn=<MmBackward0>)\n",
      "tensor([0])\n"
     ]
    }
   ],
   "source": [
    "l_1 = criterion(model(X_train[:1]), y_train[:1])  # 入力ベクトルはsoftmax前の値\n",
    "model.zero_grad()  # 勾配をゼロで初期化\n",
    "l_1.backward()  # 勾配を計算\n",
    "print(f'損失: {l_1:.4f}')\n",
    "print(f'勾配:\\n{model.fc.weight.grad}')\n",
    "print(\"-------------------------------\")\n",
    "print(model(X_train[:1]))\n",
    "print(y_train[:1])"
   ]
  },
  {
   "cell_type": "code",
   "execution_count": 12,
   "metadata": {},
   "outputs": [
    {
     "name": "stdout",
     "output_type": "stream",
     "text": [
      "損失: 2.1192\n",
      "勾配:\n",
      "tensor([[ 0.0477, -0.0092,  0.0270,  ..., -0.0022, -0.0185, -0.0003],\n",
      "        [-0.0066,  0.0059, -0.0044,  ...,  0.0011,  0.0004, -0.0006],\n",
      "        [-0.0169, -0.0024, -0.0061,  ..., -0.0024,  0.0153,  0.0041],\n",
      "        [-0.0242,  0.0057, -0.0166,  ...,  0.0036,  0.0028, -0.0032]])\n"
     ]
    }
   ],
   "source": [
    "l = criterion(model(X_train[:4]), y_train[:4])\n",
    "model.zero_grad()\n",
    "l.backward()\n",
    "print(f'損失: {l:.4f}')\n",
    "print(f'勾配:\\n{model.fc.weight.grad}')"
   ]
  },
  {
   "cell_type": "markdown",
   "metadata": {},
   "source": [
    "## 73.確率的勾配降下法による学習\n",
    "確率的勾配降下法（SGD: Stochastic Gradient Descent）を用いて，行列W\n",
    "を学習せよ．なお，学習は適当な基準で終了させればよい（例えば「100エポックで終了」など）．"
   ]
  },
  {
   "cell_type": "code",
   "execution_count": 13,
   "metadata": {},
   "outputs": [],
   "source": [
    "from torch.utils.data import Dataset\n",
    "\n",
    "# 特徴ベクトルとラベルベクトルを合わせて保持することができる型\n",
    "class NewsDataset(Dataset):\n",
    "    def __init__(self, X, y):  # datasetの構成要素を指定\n",
    "        self.X = X\n",
    "        self.y = y\n",
    "\n",
    "    def __len__(self):  # len(dataset)で返す値を指定\n",
    "        return len(self.y)\n",
    "\n",
    "    def __getitem__(self, idx):  # dataset[idx]で返す値を指定\n",
    "        return [self.X[idx], self.y[idx]]"
   ]
  },
  {
   "cell_type": "code",
   "execution_count": 14,
   "metadata": {},
   "outputs": [],
   "source": [
    "from torch.utils.data import DataLoader\n",
    "\n",
    "# Datasetの作成\n",
    "dataset_train = NewsDataset(X_train, y_train)\n",
    "dataset_valid = NewsDataset(X_valid, y_valid)\n",
    "dataset_test = NewsDataset(X_test, y_test)\n",
    "\n",
    "# Dataloaderの作成\n",
    "#batch_sizeのデータを取り出す\n",
    "dataloader_train = DataLoader(dataset_train, batch_size=1, shuffle=True)\n",
    "dataloader_valid = DataLoader(dataset_valid, batch_size=len(dataset_valid), shuffle=False)\n",
    "dataloader_test = DataLoader(dataset_test, batch_size=len(dataset_test), shuffle=False)"
   ]
  },
  {
   "cell_type": "code",
   "execution_count": 15,
   "metadata": {},
   "outputs": [
    {
     "name": "stdout",
     "output_type": "stream",
     "text": [
      "10671\n",
      "epoch: 1, loss_train: 0.4856, loss_valid: 0.3718\n",
      "10671\n",
      "epoch: 2, loss_train: 0.3184, loss_valid: 0.3261\n",
      "10671\n",
      "epoch: 3, loss_train: 0.2882, loss_valid: 0.3066\n",
      "10671\n",
      "epoch: 4, loss_train: 0.2736, loss_valid: 0.2969\n",
      "10671\n",
      "epoch: 5, loss_train: 0.2623, loss_valid: 0.2896\n",
      "10671\n",
      "epoch: 6, loss_train: 0.2556, loss_valid: 0.2869\n",
      "10671\n",
      "epoch: 7, loss_train: 0.2496, loss_valid: 0.2815\n",
      "10671\n",
      "epoch: 8, loss_train: 0.2456, loss_valid: 0.2852\n",
      "10671\n",
      "epoch: 9, loss_train: 0.2422, loss_valid: 0.2768\n",
      "10671\n",
      "epoch: 10, loss_train: 0.2386, loss_valid: 0.2828\n"
     ]
    }
   ],
   "source": [
    "# モデルの定義\n",
    "model = SLPNet(300, 4)\n",
    "\n",
    "# 損失関数の定義\n",
    "criterion = nn.CrossEntropyLoss()\n",
    "\n",
    "# オプティマイザの定義 #最適化\n",
    "optimizer = torch.optim.SGD(model.parameters(), lr=1e-1)\n",
    "\n",
    "# 学習\n",
    "num_epochs = 10\n",
    "for epoch in range(num_epochs):\n",
    "    # 訓練モードに設定\n",
    "    model.train()\n",
    "    loss_train = 0.0\n",
    "    for i, (inputs, labels) in enumerate(dataloader_train):\n",
    "        # 勾配をゼロで初期化\n",
    "        optimizer.zero_grad()\n",
    "\n",
    "        # 順伝播 + 誤差逆伝播 + 重み更新\n",
    "        outputs = model(inputs)\n",
    "        loss = criterion(outputs, labels)\n",
    "        loss.backward()\n",
    "        optimizer.step()\n",
    "\n",
    "        # 損失を記録\n",
    "        loss_train += loss.item()\n",
    "\n",
    "    # バッチ単位の平均損失計算   #1epochごと?\n",
    "    loss_train = loss_train / i\n",
    "    print(i)\n",
    "\n",
    "    # 検証データの損失計算\n",
    "    model.eval() \n",
    "    with torch.no_grad():   #検証なので学習時とは違い勾配計算不要、テンソルの勾配計算を不可にしてメモリの消費を減らす\n",
    "        inputs, labels = next(iter(dataloader_valid))\n",
    "        outputs = model(inputs)\n",
    "        loss_valid = criterion(outputs, labels)\n",
    "\n",
    "    # ログを出力\n",
    "    print(f'epoch: {epoch + 1}, loss_train: {loss_train:.4f}, loss_valid: {loss_valid:.4f}')  "
   ]
  },
  {
   "cell_type": "markdown",
   "metadata": {},
   "source": [
    "## 74.正解率の計測\n",
    "問題73で求めた行列を用いて学習データおよび評価データの事例を分類したとき，その正解率をそれぞれ求めよ．"
   ]
  },
  {
   "cell_type": "code",
   "execution_count": 16,
   "metadata": {},
   "outputs": [],
   "source": [
    "def calculate_accuracy(model, loader):\n",
    "    model.eval()\n",
    "    total = 0\n",
    "    correct = 0\n",
    "    with torch.no_grad():\n",
    "        for inputs, labels in loader:  #dataloaderから\n",
    "            outputs = model(inputs)\n",
    "            pred = torch.argmax(outputs, dim=-1)    #予測ラベル\n",
    "            #print(outputs)\n",
    "            total += len(inputs)    #母数\n",
    "            correct += (pred == labels).sum().item()\n",
    "            #print(pred)\n",
    "\n",
    "    return correct / total"
   ]
  },
  {
   "cell_type": "code",
   "execution_count": 17,
   "metadata": {},
   "outputs": [
    {
     "name": "stdout",
     "output_type": "stream",
     "text": [
      "正解率（学習データ）：0.922\n",
      "正解率（評価データ）：0.910\n"
     ]
    }
   ],
   "source": [
    "acc_train = calculate_accuracy(model, dataloader_train)\n",
    "acc_test = calculate_accuracy(model, dataloader_test)\n",
    "print(f'正解率（学習データ）：{acc_train:.3f}')\n",
    "print(f'正解率（評価データ）：{acc_test:.3f}')"
   ]
  },
  {
   "cell_type": "markdown",
   "metadata": {},
   "source": [
    "## 75.損失と正解率のプロット\n",
    "問題73のコードを改変し，各エポックのパラメータ更新が完了するたびに，訓練データでの損失，正解率，検証データでの損失，正解率をグラフにプロットし，学習の進捗状況を確認できるようにせよ．"
   ]
  },
  {
   "cell_type": "code",
   "execution_count": 18,
   "metadata": {},
   "outputs": [],
   "source": [
    "def calculate_loss_and_accuracy(model, criterion, loader):\n",
    "    model.eval()\n",
    "    loss = 0.0\n",
    "    total = 0\n",
    "    correct = 0\n",
    "    with torch.no_grad():      #勾配計算不要\n",
    "        for inputs, labels in loader:\n",
    "            outputs = model(inputs)\n",
    "            loss += criterion(outputs, labels).item()\n",
    "            pred = torch.argmax(outputs, dim=-1)     #予測ラベル\n",
    "            total += len(inputs)      #分母\n",
    "            correct += (pred == labels).sum().item()\n",
    "\n",
    "    return loss / len(loader), correct / total     #平均"
   ]
  },
  {
   "cell_type": "code",
   "execution_count": 19,
   "metadata": {},
   "outputs": [
    {
     "name": "stdout",
     "output_type": "stream",
     "text": [
      "epoch: 1, loss_train: 0.3361, accuracy_train: 0.8869, loss_valid: 0.3659, accuracy_valid: 0.8733\n",
      "epoch: 2, loss_train: 0.2942, accuracy_train: 0.9008, loss_valid: 0.3217, accuracy_valid: 0.8846\n",
      "epoch: 3, loss_train: 0.2748, accuracy_train: 0.9069, loss_valid: 0.3029, accuracy_valid: 0.8883\n",
      "epoch: 4, loss_train: 0.2603, accuracy_train: 0.9129, loss_valid: 0.2914, accuracy_valid: 0.8981\n",
      "epoch: 5, loss_train: 0.2540, accuracy_train: 0.9128, loss_valid: 0.2867, accuracy_valid: 0.8966\n",
      "epoch: 6, loss_train: 0.2475, accuracy_train: 0.9158, loss_valid: 0.2830, accuracy_valid: 0.8981\n",
      "epoch: 7, loss_train: 0.2467, accuracy_train: 0.9141, loss_valid: 0.2787, accuracy_valid: 0.9010\n",
      "epoch: 8, loss_train: 0.2396, accuracy_train: 0.9189, loss_valid: 0.2735, accuracy_valid: 0.9070\n",
      "epoch: 9, loss_train: 0.2353, accuracy_train: 0.9191, loss_valid: 0.2740, accuracy_valid: 0.9025\n",
      "epoch: 10, loss_train: 0.2322, accuracy_train: 0.9215, loss_valid: 0.2722, accuracy_valid: 0.9078\n",
      "epoch: 11, loss_train: 0.2282, accuracy_train: 0.9219, loss_valid: 0.2715, accuracy_valid: 0.9033\n",
      "epoch: 12, loss_train: 0.2281, accuracy_train: 0.9222, loss_valid: 0.2703, accuracy_valid: 0.9070\n",
      "epoch: 13, loss_train: 0.2303, accuracy_train: 0.9230, loss_valid: 0.2763, accuracy_valid: 0.9040\n",
      "epoch: 14, loss_train: 0.2262, accuracy_train: 0.9218, loss_valid: 0.2749, accuracy_valid: 0.9040\n",
      "epoch: 15, loss_train: 0.2244, accuracy_train: 0.9265, loss_valid: 0.2721, accuracy_valid: 0.9078\n",
      "epoch: 16, loss_train: 0.2224, accuracy_train: 0.9243, loss_valid: 0.2707, accuracy_valid: 0.9100\n",
      "epoch: 17, loss_train: 0.2204, accuracy_train: 0.9252, loss_valid: 0.2704, accuracy_valid: 0.9070\n",
      "epoch: 18, loss_train: 0.2212, accuracy_train: 0.9262, loss_valid: 0.2765, accuracy_valid: 0.9055\n",
      "epoch: 19, loss_train: 0.2217, accuracy_train: 0.9255, loss_valid: 0.2784, accuracy_valid: 0.9078\n",
      "epoch: 20, loss_train: 0.2187, accuracy_train: 0.9251, loss_valid: 0.2707, accuracy_valid: 0.9055\n",
      "epoch: 21, loss_train: 0.2169, accuracy_train: 0.9269, loss_valid: 0.2726, accuracy_valid: 0.9100\n",
      "epoch: 22, loss_train: 0.2196, accuracy_train: 0.9255, loss_valid: 0.2768, accuracy_valid: 0.9085\n",
      "epoch: 23, loss_train: 0.2169, accuracy_train: 0.9248, loss_valid: 0.2740, accuracy_valid: 0.9085\n",
      "epoch: 24, loss_train: 0.2162, accuracy_train: 0.9255, loss_valid: 0.2750, accuracy_valid: 0.9063\n",
      "epoch: 25, loss_train: 0.2158, accuracy_train: 0.9254, loss_valid: 0.2764, accuracy_valid: 0.9078\n",
      "epoch: 26, loss_train: 0.2161, accuracy_train: 0.9269, loss_valid: 0.2781, accuracy_valid: 0.9070\n",
      "epoch: 27, loss_train: 0.2144, accuracy_train: 0.9272, loss_valid: 0.2768, accuracy_valid: 0.9048\n",
      "epoch: 28, loss_train: 0.2150, accuracy_train: 0.9263, loss_valid: 0.2756, accuracy_valid: 0.9115\n",
      "epoch: 29, loss_train: 0.2153, accuracy_train: 0.9272, loss_valid: 0.2735, accuracy_valid: 0.9115\n",
      "epoch: 30, loss_train: 0.2140, accuracy_train: 0.9263, loss_valid: 0.2756, accuracy_valid: 0.9085\n"
     ]
    }
   ],
   "source": [
    "# モデルの定義\n",
    "model = SLPNet(300, 4)\n",
    "\n",
    "# 損失関数の定義\n",
    "criterion = nn.CrossEntropyLoss()\n",
    "\n",
    "# オプティマイザの定義  #確率的勾配降下法\n",
    "optimizer = torch.optim.SGD(model.parameters(), lr=1e-1)\n",
    "\n",
    "# 学習\n",
    "num_epochs = 30\n",
    "log_train = []\n",
    "log_valid = []\n",
    "for epoch in range(num_epochs):\n",
    "  # 訓練モードに設定\n",
    "    model.train()\n",
    "    for inputs, labels in dataloader_train:\n",
    "        # 勾配をゼロで初期化\n",
    "        optimizer.zero_grad()\n",
    "\n",
    "        # 順伝播 + 誤差逆伝播 + 重み更新\n",
    "        outputs = model(inputs)\n",
    "        loss = criterion(outputs, labels)\n",
    "        loss.backward()\n",
    "        optimizer.step()\n",
    "\n",
    "    # 損失と正解率の算出\n",
    "    loss_train, acc_train = calculate_loss_and_accuracy(model, criterion, dataloader_train)\n",
    "    loss_valid, acc_valid = calculate_loss_and_accuracy(model, criterion, dataloader_valid)\n",
    "    log_train.append([loss_train, acc_train]) #プロット用\n",
    "    log_valid.append([loss_valid, acc_valid])\n",
    "\n",
    "    # ログを出力\n",
    "    print(f'epoch: {epoch + 1}, loss_train: {loss_train:.4f}, accuracy_train: {acc_train:.4f}, loss_valid: {loss_valid:.4f}, accuracy_valid: {acc_valid:.4f}')  "
   ]
  },
  {
   "cell_type": "code",
   "execution_count": 20,
   "metadata": {},
   "outputs": [
    {
     "data": {
      "image/png": "[encoded data removed]",
      "text/plain": [
       "<Figure size 1080x360 with 2 Axes>"
      ]
     },
     "metadata": {
      "needs_background": "light"
     },
     "output_type": "display_data"
    }
   ],
   "source": [
    "import numpy as np\n",
    "from matplotlib import pyplot as plt\n",
    "\n",
    "# 視覚化\n",
    "fig, ax = plt.subplots(1, 2, figsize=(15, 5))\n",
    "ax[0].plot(np.array(log_train).T[0], label='train')\n",
    "ax[0].plot(np.array(log_valid).T[0], label='valid')\n",
    "ax[0].set_xlabel('epoch')\n",
    "ax[0].set_ylabel('loss')\n",
    "ax[0].legend()    #凡例\n",
    "ax[1].plot(np.array(log_train).T[1], label='train')\n",
    "ax[1].plot(np.array(log_valid).T[1], label='valid')\n",
    "ax[1].set_xlabel('epoch')\n",
    "ax[1].set_ylabel('accuracy')\n",
    "ax[1].legend()\n",
    "plt.show()   #グラフ表示"
   ]
  },
  {
   "cell_type": "markdown",
   "metadata": {},
   "source": [
    "## 76.チェックポイント\n",
    "問題75のコードを改変し，各エポックのパラメータ更新が完了するたびに，チェックポイント（学習途中のパラメータ（重み行列など）の値や最適化アルゴリズムの内部状態）をファイルに書き出せ．"
   ]
  },
  {
   "cell_type": "code",
   "execution_count": 21,
   "metadata": {},
   "outputs": [
    {
     "name": "stdout",
     "output_type": "stream",
     "text": [
      "epoch: 1, loss_train: 0.3298, accuracy_train: 0.8847, loss_valid: 0.3444, accuracy_valid: 0.8711\n",
      "epoch: 2, loss_train: 0.2919, accuracy_train: 0.8992, loss_valid: 0.3108, accuracy_valid: 0.8898\n",
      "epoch: 3, loss_train: 0.2686, accuracy_train: 0.9074, loss_valid: 0.2892, accuracy_valid: 0.8958\n",
      "epoch: 4, loss_train: 0.2586, accuracy_train: 0.9102, loss_valid: 0.2822, accuracy_valid: 0.8996\n",
      "epoch: 5, loss_train: 0.2503, accuracy_train: 0.9155, loss_valid: 0.2757, accuracy_valid: 0.9010\n",
      "epoch: 6, loss_train: 0.2457, accuracy_train: 0.9156, loss_valid: 0.2707, accuracy_valid: 0.8988\n",
      "epoch: 7, loss_train: 0.2385, accuracy_train: 0.9204, loss_valid: 0.2707, accuracy_valid: 0.8996\n",
      "epoch: 8, loss_train: 0.2369, accuracy_train: 0.9179, loss_valid: 0.2688, accuracy_valid: 0.9033\n",
      "epoch: 9, loss_train: 0.2328, accuracy_train: 0.9206, loss_valid: 0.2694, accuracy_valid: 0.9010\n",
      "epoch: 10, loss_train: 0.2294, accuracy_train: 0.9204, loss_valid: 0.2653, accuracy_valid: 0.9048\n"
     ]
    }
   ],
   "source": [
    "# モデルの定義\n",
    "model = SLPNet(300, 4)\n",
    "\n",
    "# 損失関数の定義\n",
    "criterion = nn.CrossEntropyLoss()\n",
    "\n",
    "# オプティマイザの定義\n",
    "optimizer = torch.optim.SGD(model.parameters(), lr=1e-1)\n",
    "\n",
    "# 学習\n",
    "num_epochs = 10\n",
    "log_train = []\n",
    "log_valid = []\n",
    "for epoch in range(num_epochs):\n",
    "    # 訓練モードに設定\n",
    "    model.train()\n",
    "    for inputs, labels in dataloader_train:\n",
    "        # 勾配をゼロで初期化\n",
    "        optimizer.zero_grad()\n",
    "\n",
    "        # 順伝播 + 誤差逆伝播 + 重み更新\n",
    "        outputs = model(inputs)\n",
    "        loss = criterion(outputs, labels)\n",
    "        loss.backward()\n",
    "        optimizer.step()\n",
    "\n",
    "    # 損失と正解率の算出\n",
    "    loss_train, acc_train = calculate_loss_and_accuracy(model, criterion, dataloader_train)\n",
    "    loss_valid, acc_valid = calculate_loss_and_accuracy(model, criterion, dataloader_valid)\n",
    "    #log_train.append([loss_train, acc_train])\n",
    "    #log_valid.append([loss_valid, acc_valid])\n",
    "\n",
    "    # ☆チェックポイントの保存   #学習パラメータの保存    model.state_dict()がモデルのパラメータの状態\n",
    "    torch.save({'epoch': epoch, 'model_state_dict': model.state_dict(), 'optimizer_state_dict': optimizer.state_dict()}, f'checkpoint{epoch + 1}.pt')\n",
    "\n",
    "    # ログを出力\n",
    "    print(f'epoch: {epoch + 1}, loss_train: {loss_train:.4f}, accuracy_train: {acc_train:.4f}, loss_valid: {loss_valid:.4f}, accuracy_valid: {acc_valid:.4f}')  "
   ]
  },
  {
   "cell_type": "markdown",
   "metadata": {},
   "source": [
    "## 77.ミニバッチ化\n",
    "問題76のコードを改変し，  \n",
    "B事例ごとに損失・勾配を計算し，行列  \n",
    "Wの値を更新せよ（ミニバッチ化）．  \n",
    "Bの値を1,2,4,8,…  \n",
    "と変化させながら，1エポックの学習に要する時間を比較せよ．  "
   ]
  },
  {
   "cell_type": "code",
   "execution_count": 22,
   "metadata": {},
   "outputs": [],
   "source": [
    "import time\n",
    "\n",
    "def train_model(dataset_train, dataset_valid, batch_size, model, criterion, optimizer, num_epochs):\n",
    "    # ☆dataloaderの作成  　データのロード batch_sizeを引数とする\n",
    "    dataloader_train = DataLoader(dataset_train, batch_size=batch_size, shuffle=True)\n",
    "    dataloader_valid = DataLoader(dataset_valid, batch_size=len(dataset_valid), shuffle=False)\n",
    "\n",
    "    # 学習\n",
    "    log_train = []\n",
    "    log_valid = []\n",
    "    for epoch in range(num_epochs):\n",
    "        # 開始時刻の記録\n",
    "        s_time = time.time()\n",
    "\n",
    "        # 訓練モードに設定\n",
    "        model.train()\n",
    "        for inputs, labels in dataloader_train:\n",
    "            # 勾配をゼロで初期化\n",
    "            optimizer.zero_grad()\n",
    "\n",
    "            # 順伝播 + 誤差逆伝播 + 重み更新\n",
    "            outputs = model(inputs)\n",
    "            loss = criterion(outputs, labels)\n",
    "            loss.backward()\n",
    "            optimizer.step()\n",
    "\n",
    "        # 損失と正解率の算出\n",
    "        loss_train, acc_train = calculate_loss_and_accuracy(model, criterion, dataloader_train)\n",
    "        loss_valid, acc_valid = calculate_loss_and_accuracy(model, criterion, dataloader_valid)\n",
    "        #log_train.append([loss_train, acc_train])\n",
    "        #log_valid.append([loss_valid, acc_valid])\n",
    "\n",
    "        # チェックポイントの保存\n",
    "        torch.save({'epoch': epoch, 'model_state_dict': model.state_dict(), 'optimizer_state_dict': optimizer.state_dict()}, f'checkpoint{epoch + 1}.pt')\n",
    "\n",
    "        # 終了時刻の記録\n",
    "        e_time = time.time()\n",
    "\n",
    "        # ログを出力\n",
    "        print(f'epoch: {epoch + 1}, loss_train: {loss_train:.4f}, accuracy_train: {acc_train:.4f}, loss_valid: {loss_valid:.4f}, accuracy_valid: {acc_valid:.4f}, {(e_time - s_time):.4f}sec') \n",
    "\n",
    "    return {'train': log_train, 'valid': log_valid}"
   ]
  },
  {
   "cell_type": "code",
   "execution_count": 23,
   "metadata": {},
   "outputs": [
    {
     "name": "stdout",
     "output_type": "stream",
     "text": [
      "バッチサイズ: 1\n",
      "epoch: 1, loss_train: 0.3346, accuracy_train: 0.8864, loss_valid: 0.3491, accuracy_valid: 0.8793, 2.8286sec\n",
      "バッチサイズ: 2\n",
      "epoch: 1, loss_train: 0.3072, accuracy_train: 0.8969, loss_valid: 0.3232, accuracy_valid: 0.8861, 1.5966sec\n",
      "バッチサイズ: 4\n",
      "epoch: 1, loss_train: 0.2970, accuracy_train: 0.9010, loss_valid: 0.3125, accuracy_valid: 0.8853, 0.8996sec\n",
      "バッチサイズ: 8\n",
      "epoch: 1, loss_train: 0.2934, accuracy_train: 0.9019, loss_valid: 0.3091, accuracy_valid: 0.8891, 0.5453sec\n",
      "バッチサイズ: 16\n",
      "epoch: 1, loss_train: 0.2913, accuracy_train: 0.9029, loss_valid: 0.3076, accuracy_valid: 0.8906, 0.3666sec\n",
      "バッチサイズ: 32\n",
      "epoch: 1, loss_train: 0.2909, accuracy_train: 0.9030, loss_valid: 0.3071, accuracy_valid: 0.8906, 0.2762sec\n",
      "バッチサイズ: 64\n",
      "epoch: 1, loss_train: 0.2901, accuracy_train: 0.9034, loss_valid: 0.3068, accuracy_valid: 0.8913, 0.2360sec\n",
      "バッチサイズ: 128\n",
      "epoch: 1, loss_train: 0.2892, accuracy_train: 0.9034, loss_valid: 0.3066, accuracy_valid: 0.8921, 0.2070sec\n",
      "バッチサイズ: 256\n",
      "epoch: 1, loss_train: 0.2911, accuracy_train: 0.9035, loss_valid: 0.3065, accuracy_valid: 0.8921, 0.1856sec\n",
      "バッチサイズ: 512\n",
      "epoch: 1, loss_train: 0.2893, accuracy_train: 0.9035, loss_valid: 0.3065, accuracy_valid: 0.8921, 0.2559sec\n",
      "バッチサイズ: 1024\n",
      "epoch: 1, loss_train: 0.2896, accuracy_train: 0.9035, loss_valid: 0.3065, accuracy_valid: 0.8921, 0.1597sec\n"
     ]
    }
   ],
   "source": [
    "# datasetの作成\n",
    "dataset_train = NewsDataset(X_train, y_train)\n",
    "dataset_valid = NewsDataset(X_valid, y_valid)\n",
    "\n",
    "# モデルの定義\n",
    "model = SLPNet(300, 4)\n",
    "\n",
    "# 損失関数の定義\n",
    "criterion = nn.CrossEntropyLoss()\n",
    "\n",
    "# オプティマイザの定義\n",
    "optimizer = torch.optim.SGD(model.parameters(), lr=1e-1)\n",
    "\n",
    "# ☆モデルの学習  バッチサイズを変えながら、1エポックごとに学習\n",
    "for batch_size in [2 ** i for i in range(11)]:\n",
    "    print(f'バッチサイズ: {batch_size}')\n",
    "    log = train_model(dataset_train, dataset_valid, batch_size, model, criterion, optimizer, 1)"
   ]
  },
  {
   "cell_type": "markdown",
   "metadata": {},
   "source": [
    "## 78.GPU上での学習\n",
    "問題77のコードを改変し，GPU上で学習を実行せよ."
   ]
  },
  {
   "cell_type": "code",
   "execution_count": 24,
   "metadata": {},
   "outputs": [],
   "source": [
    "def calculate_loss_and_accuracy(model, criterion, loader, device):\n",
    "    model.eval()\n",
    "    loss = 0.0\n",
    "    total = 0\n",
    "    correct = 0\n",
    "    with torch.no_grad():   #勾配計算不要\n",
    "        for inputs, labels in loader:\n",
    "            inputs = inputs.to(device)   #GPUに送る\n",
    "            labels = labels.to(device)\n",
    "            outputs = model(inputs)\n",
    "            loss += criterion(outputs, labels).item()\n",
    "            pred = torch.argmax(outputs, dim=-1)\n",
    "            total += len(inputs)\n",
    "            correct += (pred == labels).sum().item()\n",
    "\n",
    "    return loss / len(loader), correct / total\n",
    "\n",
    "\n",
    "def train_model(dataset_train, dataset_valid, batch_size, model, criterion, optimizer, num_epochs, device=None):\n",
    "    # ☆GPUに送る\n",
    "    model.to(device)\n",
    "\n",
    "    # dataloaderの作成\n",
    "    dataloader_train = DataLoader(dataset_train, batch_size=batch_size, shuffle=True)\n",
    "    dataloader_valid = DataLoader(dataset_valid, batch_size=len(dataset_valid), shuffle=False)\n",
    "\n",
    "    # 学習\n",
    "    log_train = []\n",
    "    log_valid = []\n",
    "    for epoch in range(num_epochs):\n",
    "        # 開始時刻の記録\n",
    "        s_time = time.time()\n",
    "\n",
    "        # 訓練モードに設定\n",
    "        model.train()\n",
    "        for inputs, labels in dataloader_train:\n",
    "            # 勾配をゼロで初期化\n",
    "            optimizer.zero_grad()\n",
    "\n",
    "            # 順伝播 + 誤差逆伝播 + 重み更新\n",
    "            inputs = inputs.to(device)\n",
    "            labels = labels.to(device)\n",
    "            outputs = model.forward(inputs)\n",
    "            loss = criterion(outputs, labels)\n",
    "            loss.backward()\n",
    "            optimizer.step()\n",
    "\n",
    "        # 損失と正解率の算出\n",
    "        loss_train, acc_train = calculate_loss_and_accuracy(model, criterion, dataloader_train, device)\n",
    "        loss_valid, acc_valid = calculate_loss_and_accuracy(model, criterion, dataloader_valid, device)\n",
    "        log_train.append([loss_train, acc_train])\n",
    "        log_valid.append([loss_valid, acc_valid])\n",
    "\n",
    "        # チェックポイントの保存\n",
    "        torch.save({'epoch': epoch, 'model_state_dict': model.state_dict(), 'optimizer_state_dict': optimizer.state_dict()}, f'checkpoint{epoch + 1}.pt')\n",
    "\n",
    "        # 終了時刻の記録\n",
    "        e_time = time.time()\n",
    "    \n",
    "        # ログを出力\n",
    "        print(f'epoch: {epoch + 1}, loss_train: {loss_train:.4f}, accuracy_train: {acc_train:.4f}, loss_valid: {loss_valid:.4f}, accuracy_valid: {acc_valid:.4f}, {(e_time - s_time):.4f}sec') \n",
    "\n",
    "    return {'train': log_train, 'valid': log_valid}"
   ]
  },
  {
   "cell_type": "code",
   "execution_count": 25,
   "metadata": {},
   "outputs": [
    {
     "name": "stdout",
     "output_type": "stream",
     "text": [
      "バッチサイズ: 1\n",
      "epoch: 1, loss_train: 0.3366, accuracy_train: 0.8797, loss_valid: 0.3604, accuracy_valid: 0.8748, 6.4549sec\n",
      "バッチサイズ: 2\n",
      "epoch: 1, loss_train: 0.3049, accuracy_train: 0.8951, loss_valid: 0.3281, accuracy_valid: 0.8868, 3.7473sec\n",
      "バッチサイズ: 4\n",
      "epoch: 1, loss_train: 0.2955, accuracy_train: 0.8987, loss_valid: 0.3180, accuracy_valid: 0.8906, 1.9857sec\n",
      "バッチサイズ: 8\n",
      "epoch: 1, loss_train: 0.2918, accuracy_train: 0.8995, loss_valid: 0.3150, accuracy_valid: 0.8906, 1.0298sec\n",
      "バッチサイズ: 16\n",
      "epoch: 1, loss_train: 0.2899, accuracy_train: 0.9016, loss_valid: 0.3130, accuracy_valid: 0.8921, 0.5496sec\n",
      "バッチサイズ: 32\n",
      "epoch: 1, loss_train: 0.2887, accuracy_train: 0.9016, loss_valid: 0.3121, accuracy_valid: 0.8928, 0.3241sec\n",
      "バッチサイズ: 64\n",
      "epoch: 1, loss_train: 0.2885, accuracy_train: 0.9020, loss_valid: 0.3118, accuracy_valid: 0.8928, 0.2062sec\n",
      "バッチサイズ: 128\n",
      "epoch: 1, loss_train: 0.2870, accuracy_train: 0.9017, loss_valid: 0.3115, accuracy_valid: 0.8921, 0.1460sec\n",
      "バッチサイズ: 256\n",
      "epoch: 1, loss_train: 0.2885, accuracy_train: 0.9019, loss_valid: 0.3115, accuracy_valid: 0.8928, 0.1231sec\n",
      "バッチサイズ: 512\n",
      "epoch: 1, loss_train: 0.2881, accuracy_train: 0.9019, loss_valid: 0.3114, accuracy_valid: 0.8921, 0.1764sec\n",
      "バッチサイズ: 1024\n",
      "epoch: 1, loss_train: 0.2873, accuracy_train: 0.9021, loss_valid: 0.3114, accuracy_valid: 0.8913, 0.0969sec\n"
     ]
    }
   ],
   "source": [
    "# datasetの作成\n",
    "dataset_train = NewsDataset(X_train, y_train)\n",
    "dataset_valid = NewsDataset(X_valid, y_valid)\n",
    "\n",
    "# モデルの定義\n",
    "model = SLPNet(300, 4)\n",
    "\n",
    "# 損失関数の定義\n",
    "criterion = nn.CrossEntropyLoss()\n",
    "\n",
    "# オプティマイザの定義\n",
    "optimizer = torch.optim.SGD(model.parameters(), lr=1e-1)\n",
    "\n",
    "# ☆デバイスを指定\n",
    "device = torch.device('cuda')\n",
    "#device = torch.device('cuda:1')\n",
    "\n",
    "# モデルの学習\n",
    "for batch_size in [2 ** i for i in range(11)]:\n",
    "    print(f'バッチサイズ: {batch_size}')\n",
    "    log = train_model(dataset_train, dataset_valid, batch_size, model, criterion, optimizer, 1, device=device)"
   ]
  },
  {
   "cell_type": "markdown",
   "metadata": {},
   "source": [
    "## 79.多層ニューラルネットワーク\n",
    "問題78のコードを改変し，バイアス項の導入や多層化など，ニューラルネットワークの形状を変更しながら，高性能なカテゴリ分類器を構築せよ．"
   ]
  },
  {
   "cell_type": "code",
   "execution_count": 26,
   "metadata": {},
   "outputs": [],
   "source": [
    "from torch.nn import functional as F\n",
    "\n",
    "#3層のニューラルネットワーク\n",
    "class MLPNet(nn.Module):\n",
    "    def __init__(self, input_size, mid_size, output_size, mid_layers):     #次元の数\n",
    "        super().__init__()\n",
    "        self.mid_layers = mid_layers\n",
    "        self.fc = nn.Linear(input_size, mid_size)      #入力層\n",
    "        self.fc_mid = nn.Linear(mid_size, mid_size)    #中間層\n",
    "        self.fc_out = nn.Linear(mid_size, output_size)    #出力層\n",
    "        self.bn = nn.BatchNorm1d(mid_size)      #バッチノーマライゼーション：学習をより高速にかつ安定に\n",
    "\n",
    "    def forward(self, x):\n",
    "        x = F.relu(self.fc(x))    #入力層の出力\n",
    "        for _ in range(self.mid_layers):    #中間層が複数ある時に各々学習させるため(?)\n",
    "            x = F.relu(self.bn(self.fc_mid(x))) #中間層の出力  #中間層の学習の後にバッチノーマライゼーション\n",
    "            x = F.relu(self.fc_out(x))    #最終層の出力\n",
    "\n",
    "        return x #最終層の出力"
   ]
  },
  {
   "cell_type": "code",
   "execution_count": 27,
   "metadata": {},
   "outputs": [],
   "source": [
    "from torch import optim\n",
    "\n",
    "def calculate_loss_and_accuracy(model, criterion, loader, device):\n",
    "    model.eval()\n",
    "    loss = 0.0\n",
    "    total = 0\n",
    "    correct = 0\n",
    "    with torch.no_grad():\n",
    "        for inputs, labels in loader:\n",
    "            inputs = inputs.to(device)\n",
    "            labels = labels.to(device)\n",
    "            outputs = model(inputs)\n",
    "            loss += criterion(outputs, labels).item()\n",
    "            pred = torch.argmax(outputs, dim=-1)\n",
    "            total += len(inputs)\n",
    "            correct += (pred == labels).sum().item()\n",
    "\n",
    "    return loss / len(loader), correct / total\n",
    "\n",
    "\n",
    "def train_model(dataset_train, dataset_valid, batch_size, model, criterion, optimizer, num_epochs, device=None):\n",
    "    # GPUに送る\n",
    "    model.to(device)\n",
    "\n",
    "    # dataloaderの作成\n",
    "    dataloader_train = DataLoader(dataset_train, batch_size=batch_size, shuffle=True)\n",
    "    dataloader_valid = DataLoader(dataset_valid, batch_size=len(dataset_valid), shuffle=False)\n",
    "\n",
    "    # スケジューラの設定\n",
    "    scheduler = optim.lr_scheduler.CosineAnnealingLR(optimizer, num_epochs, eta_min=1e-5, last_epoch=-1)\n",
    "\n",
    "    # 学習\n",
    "    log_train = []\n",
    "    log_valid = []\n",
    "    for epoch in range(num_epochs):\n",
    "        # 開始時刻の記録\n",
    "        s_time = time.time()\n",
    "\n",
    "        # 訓練モードに設定\n",
    "        model.train()\n",
    "        for inputs, labels in dataloader_train:\n",
    "            # 勾配をゼロで初期化\n",
    "            optimizer.zero_grad()\n",
    "\n",
    "            # 順伝播 + 誤差逆伝播 + 重み更新\n",
    "            inputs = inputs.to(device)\n",
    "            labels = labels.to(device)\n",
    "            outputs = model.forward(inputs)\n",
    "            loss = criterion(outputs, labels)\n",
    "            loss.backward()\n",
    "            optimizer.step()\n",
    "\n",
    "        # 損失と正解率の算出\n",
    "        loss_train, acc_train = calculate_loss_and_accuracy(model, criterion, dataloader_train, device)\n",
    "        loss_valid, acc_valid = calculate_loss_and_accuracy(model, criterion, dataloader_valid, device)\n",
    "        log_train.append([loss_train, acc_train])\n",
    "        log_valid.append([loss_valid, acc_valid])\n",
    "\n",
    "        # チェックポイントの保存\n",
    "        torch.save({'epoch': epoch, 'model_state_dict': model.state_dict(), 'optimizer_state_dict': optimizer.state_dict()}, f'checkpoint{epoch + 1}.pt')\n",
    "\n",
    "        # 終了時刻の記録\n",
    "        e_time = time.time()\n",
    "\n",
    "        # ログを出力\n",
    "        print(f'epoch: {epoch + 1}, loss_train: {loss_train:.4f}, accuracy_train: {acc_train:.4f}, loss_valid: {loss_valid:.4f}, accuracy_valid: {acc_valid:.4f}, {(e_time - s_time):.4f}sec') \n",
    "\n",
    "        # ☆検証データの損失が3エポック連続で低下しなかった場合は学習終了\n",
    "        if epoch > 2 and log_valid[epoch - 3][0] <= log_valid[epoch - 2][0] <= log_valid[epoch - 1][0] <= log_valid[epoch][0]:\n",
    "            break\n",
    "\n",
    "        # ☆スケジューラを1ステップ進める    スケジューラ：学習率を調整　学習率：最適化においてどのくらいの値を動かすか？ 大きいと発散し、小さいと収束に時間がかかる\n",
    "        scheduler.step()\n",
    "\n",
    "    return {'train': log_train, 'valid': log_valid}"
   ]
  },
  {
   "cell_type": "code",
   "execution_count": 28,
   "metadata": {},
   "outputs": [
    {
     "name": "stdout",
     "output_type": "stream",
     "text": [
      "epoch: 1, loss_train: 0.8539, accuracy_train: 0.7529, loss_valid: 0.8754, accuracy_valid: 0.7481, 0.6213sec\n",
      "epoch: 2, loss_train: 0.7095, accuracy_train: 0.7695, loss_valid: 0.7355, accuracy_valid: 0.7616, 0.6076sec\n",
      "epoch: 3, loss_train: 0.6429, accuracy_train: 0.7761, loss_valid: 0.6712, accuracy_valid: 0.7661, 0.5896sec\n",
      "epoch: 4, loss_train: 0.6086, accuracy_train: 0.7819, loss_valid: 0.6379, accuracy_valid: 0.7811, 0.6040sec\n",
      "epoch: 5, loss_train: 0.5815, accuracy_train: 0.7874, loss_valid: 0.6107, accuracy_valid: 0.7789, 0.6657sec\n",
      "epoch: 6, loss_train: 0.5571, accuracy_train: 0.7965, loss_valid: 0.5867, accuracy_valid: 0.7931, 0.5812sec\n",
      "epoch: 7, loss_train: 0.5357, accuracy_train: 0.8052, loss_valid: 0.5649, accuracy_valid: 0.7991, 0.5864sec\n",
      "epoch: 8, loss_train: 0.5184, accuracy_train: 0.8157, loss_valid: 0.5480, accuracy_valid: 0.8096, 0.5966sec\n",
      "epoch: 9, loss_train: 0.4992, accuracy_train: 0.8250, loss_valid: 0.5281, accuracy_valid: 0.8171, 0.6798sec\n",
      "epoch: 10, loss_train: 0.4775, accuracy_train: 0.8356, loss_valid: 0.5055, accuracy_valid: 0.8231, 0.6603sec\n",
      "epoch: 11, loss_train: 0.4530, accuracy_train: 0.8505, loss_valid: 0.4805, accuracy_valid: 0.8463, 0.6651sec\n",
      "epoch: 12, loss_train: 0.4319, accuracy_train: 0.8618, loss_valid: 0.4593, accuracy_valid: 0.8621, 0.6312sec\n",
      "epoch: 13, loss_train: 0.4110, accuracy_train: 0.8713, loss_valid: 0.4383, accuracy_valid: 0.8651, 0.6384sec\n",
      "epoch: 14, loss_train: 0.3988, accuracy_train: 0.8755, loss_valid: 0.4254, accuracy_valid: 0.8666, 0.6160sec\n",
      "epoch: 15, loss_train: 0.3818, accuracy_train: 0.8810, loss_valid: 0.4086, accuracy_valid: 0.8771, 0.6614sec\n",
      "epoch: 16, loss_train: 0.3729, accuracy_train: 0.8848, loss_valid: 0.3995, accuracy_valid: 0.8778, 0.6481sec\n",
      "epoch: 17, loss_train: 0.3581, accuracy_train: 0.8890, loss_valid: 0.3843, accuracy_valid: 0.8793, 0.6476sec\n",
      "epoch: 18, loss_train: 0.3499, accuracy_train: 0.8900, loss_valid: 0.3755, accuracy_valid: 0.8846, 0.6547sec\n",
      "epoch: 19, loss_train: 0.3414, accuracy_train: 0.8919, loss_valid: 0.3672, accuracy_valid: 0.8853, 0.6338sec\n",
      "epoch: 20, loss_train: 0.3332, accuracy_train: 0.8941, loss_valid: 0.3584, accuracy_valid: 0.8868, 0.7019sec\n",
      "epoch: 21, loss_train: 0.3259, accuracy_train: 0.8965, loss_valid: 0.3507, accuracy_valid: 0.8868, 0.6103sec\n",
      "epoch: 22, loss_train: 0.3201, accuracy_train: 0.8959, loss_valid: 0.3449, accuracy_valid: 0.8906, 0.6400sec\n",
      "epoch: 23, loss_train: 0.3125, accuracy_train: 0.8988, loss_valid: 0.3375, accuracy_valid: 0.8906, 0.6683sec\n",
      "epoch: 24, loss_train: 0.3097, accuracy_train: 0.9005, loss_valid: 0.3345, accuracy_valid: 0.8906, 0.6597sec\n",
      "epoch: 25, loss_train: 0.3059, accuracy_train: 0.9001, loss_valid: 0.3309, accuracy_valid: 0.8913, 0.6429sec\n",
      "epoch: 26, loss_train: 0.2990, accuracy_train: 0.9021, loss_valid: 0.3245, accuracy_valid: 0.8936, 0.6574sec\n",
      "epoch: 27, loss_train: 0.2939, accuracy_train: 0.9040, loss_valid: 0.3192, accuracy_valid: 0.8951, 0.6162sec\n",
      "epoch: 28, loss_train: 0.2927, accuracy_train: 0.9040, loss_valid: 0.3175, accuracy_valid: 0.8996, 0.6153sec\n",
      "epoch: 29, loss_train: 0.2886, accuracy_train: 0.9067, loss_valid: 0.3136, accuracy_valid: 0.8996, 0.6600sec\n",
      "epoch: 30, loss_train: 0.2839, accuracy_train: 0.9067, loss_valid: 0.3086, accuracy_valid: 0.9003, 0.6535sec\n",
      "epoch: 31, loss_train: 0.2803, accuracy_train: 0.9076, loss_valid: 0.3055, accuracy_valid: 0.8996, 0.6137sec\n",
      "epoch: 32, loss_train: 0.2763, accuracy_train: 0.9103, loss_valid: 0.3026, accuracy_valid: 0.8981, 0.6610sec\n",
      "epoch: 33, loss_train: 0.2725, accuracy_train: 0.9094, loss_valid: 0.2991, accuracy_valid: 0.8988, 0.6149sec\n",
      "epoch: 34, loss_train: 0.2720, accuracy_train: 0.9118, loss_valid: 0.2978, accuracy_valid: 0.9018, 0.5953sec\n",
      "epoch: 35, loss_train: 0.2675, accuracy_train: 0.9126, loss_valid: 0.2936, accuracy_valid: 0.9040, 0.6626sec\n",
      "epoch: 36, loss_train: 0.2643, accuracy_train: 0.9139, loss_valid: 0.2921, accuracy_valid: 0.9033, 0.6566sec\n",
      "epoch: 37, loss_train: 0.2621, accuracy_train: 0.9148, loss_valid: 0.2904, accuracy_valid: 0.9025, 0.6118sec\n",
      "epoch: 38, loss_train: 0.2600, accuracy_train: 0.9159, loss_valid: 0.2879, accuracy_valid: 0.9040, 0.6068sec\n",
      "epoch: 39, loss_train: 0.2566, accuracy_train: 0.9164, loss_valid: 0.2853, accuracy_valid: 0.9063, 0.6336sec\n",
      "epoch: 40, loss_train: 0.2545, accuracy_train: 0.9172, loss_valid: 0.2836, accuracy_valid: 0.9048, 0.5859sec\n",
      "epoch: 41, loss_train: 0.2528, accuracy_train: 0.9164, loss_valid: 0.2820, accuracy_valid: 0.9070, 0.5958sec\n",
      "epoch: 42, loss_train: 0.2499, accuracy_train: 0.9189, loss_valid: 0.2795, accuracy_valid: 0.9070, 0.6689sec\n",
      "epoch: 43, loss_train: 0.2478, accuracy_train: 0.9197, loss_valid: 0.2782, accuracy_valid: 0.9055, 0.6571sec\n",
      "epoch: 44, loss_train: 0.2465, accuracy_train: 0.9205, loss_valid: 0.2773, accuracy_valid: 0.9100, 0.6232sec\n",
      "epoch: 45, loss_train: 0.2435, accuracy_train: 0.9215, loss_valid: 0.2754, accuracy_valid: 0.9078, 0.6557sec\n",
      "epoch: 46, loss_train: 0.2415, accuracy_train: 0.9227, loss_valid: 0.2734, accuracy_valid: 0.9085, 0.6119sec\n",
      "epoch: 47, loss_train: 0.2406, accuracy_train: 0.9230, loss_valid: 0.2721, accuracy_valid: 0.9070, 0.6111sec\n",
      "epoch: 48, loss_train: 0.2389, accuracy_train: 0.9229, loss_valid: 0.2731, accuracy_valid: 0.9070, 0.6557sec\n",
      "epoch: 49, loss_train: 0.2353, accuracy_train: 0.9235, loss_valid: 0.2692, accuracy_valid: 0.9093, 0.6589sec\n",
      "epoch: 50, loss_train: 0.2336, accuracy_train: 0.9253, loss_valid: 0.2689, accuracy_valid: 0.9078, 0.5944sec\n",
      "epoch: 51, loss_train: 0.2323, accuracy_train: 0.9270, loss_valid: 0.2671, accuracy_valid: 0.9085, 0.7360sec\n",
      "epoch: 52, loss_train: 0.2302, accuracy_train: 0.9274, loss_valid: 0.2661, accuracy_valid: 0.9093, 0.6665sec\n",
      "epoch: 53, loss_train: 0.2302, accuracy_train: 0.9256, loss_valid: 0.2655, accuracy_valid: 0.9093, 0.6568sec\n",
      "epoch: 54, loss_train: 0.2279, accuracy_train: 0.9255, loss_valid: 0.2653, accuracy_valid: 0.9093, 0.6696sec\n",
      "epoch: 55, loss_train: 0.2256, accuracy_train: 0.9276, loss_valid: 0.2640, accuracy_valid: 0.9093, 0.6442sec\n",
      "epoch: 56, loss_train: 0.2246, accuracy_train: 0.9290, loss_valid: 0.2633, accuracy_valid: 0.9123, 0.6444sec\n",
      "epoch: 57, loss_train: 0.2220, accuracy_train: 0.9294, loss_valid: 0.2622, accuracy_valid: 0.9085, 0.6691sec\n",
      "epoch: 58, loss_train: 0.2204, accuracy_train: 0.9290, loss_valid: 0.2608, accuracy_valid: 0.9115, 0.6062sec\n",
      "epoch: 59, loss_train: 0.2196, accuracy_train: 0.9308, loss_valid: 0.2608, accuracy_valid: 0.9100, 0.5979sec\n",
      "epoch: 60, loss_train: 0.2188, accuracy_train: 0.9312, loss_valid: 0.2596, accuracy_valid: 0.9115, 0.6187sec\n",
      "epoch: 61, loss_train: 0.2163, accuracy_train: 0.9309, loss_valid: 0.2581, accuracy_valid: 0.9130, 0.6473sec\n",
      "epoch: 62, loss_train: 0.2143, accuracy_train: 0.9319, loss_valid: 0.2565, accuracy_valid: 0.9138, 0.6389sec\n",
      "epoch: 63, loss_train: 0.2132, accuracy_train: 0.9325, loss_valid: 0.2568, accuracy_valid: 0.9145, 0.5943sec\n",
      "epoch: 64, loss_train: 0.2113, accuracy_train: 0.9331, loss_valid: 0.2555, accuracy_valid: 0.9130, 0.6403sec\n",
      "epoch: 65, loss_train: 0.2099, accuracy_train: 0.9341, loss_valid: 0.2548, accuracy_valid: 0.9130, 0.6111sec\n",
      "epoch: 66, loss_train: 0.2089, accuracy_train: 0.9341, loss_valid: 0.2539, accuracy_valid: 0.9130, 0.6290sec\n",
      "epoch: 67, loss_train: 0.2077, accuracy_train: 0.9343, loss_valid: 0.2548, accuracy_valid: 0.9123, 0.6620sec\n",
      "epoch: 68, loss_train: 0.2068, accuracy_train: 0.9340, loss_valid: 0.2542, accuracy_valid: 0.9153, 0.6643sec\n",
      "epoch: 69, loss_train: 0.2052, accuracy_train: 0.9346, loss_valid: 0.2541, accuracy_valid: 0.9153, 0.6567sec\n",
      "epoch: 70, loss_train: 0.2029, accuracy_train: 0.9353, loss_valid: 0.2522, accuracy_valid: 0.9160, 0.6611sec\n",
      "epoch: 71, loss_train: 0.2018, accuracy_train: 0.9358, loss_valid: 0.2521, accuracy_valid: 0.9175, 0.6054sec\n",
      "epoch: 72, loss_train: 0.2008, accuracy_train: 0.9370, loss_valid: 0.2513, accuracy_valid: 0.9145, 0.6167sec\n",
      "epoch: 73, loss_train: 0.1996, accuracy_train: 0.9362, loss_valid: 0.2505, accuracy_valid: 0.9130, 0.6545sec\n",
      "epoch: 74, loss_train: 0.1986, accuracy_train: 0.9368, loss_valid: 0.2498, accuracy_valid: 0.9130, 0.6654sec\n",
      "epoch: 75, loss_train: 0.1964, accuracy_train: 0.9387, loss_valid: 0.2492, accuracy_valid: 0.9130, 0.6583sec\n",
      "epoch: 76, loss_train: 0.1958, accuracy_train: 0.9382, loss_valid: 0.2491, accuracy_valid: 0.9138, 0.6664sec\n"
     ]
    },
    {
     "name": "stdout",
     "output_type": "stream",
     "text": [
      "epoch: 77, loss_train: 0.1953, accuracy_train: 0.9379, loss_valid: 0.2497, accuracy_valid: 0.9123, 0.6167sec\n",
      "epoch: 78, loss_train: 0.1928, accuracy_train: 0.9393, loss_valid: 0.2474, accuracy_valid: 0.9153, 0.5942sec\n",
      "epoch: 79, loss_train: 0.1924, accuracy_train: 0.9397, loss_valid: 0.2476, accuracy_valid: 0.9123, 0.6604sec\n",
      "epoch: 80, loss_train: 0.1911, accuracy_train: 0.9398, loss_valid: 0.2470, accuracy_valid: 0.9153, 0.6668sec\n",
      "epoch: 81, loss_train: 0.1896, accuracy_train: 0.9399, loss_valid: 0.2469, accuracy_valid: 0.9145, 0.6249sec\n",
      "epoch: 82, loss_train: 0.1884, accuracy_train: 0.9407, loss_valid: 0.2467, accuracy_valid: 0.9153, 0.7369sec\n",
      "epoch: 83, loss_train: 0.1877, accuracy_train: 0.9404, loss_valid: 0.2469, accuracy_valid: 0.9130, 0.6091sec\n",
      "epoch: 84, loss_train: 0.1859, accuracy_train: 0.9394, loss_valid: 0.2458, accuracy_valid: 0.9145, 0.6070sec\n",
      "epoch: 85, loss_train: 0.1853, accuracy_train: 0.9414, loss_valid: 0.2451, accuracy_valid: 0.9175, 0.6679sec\n",
      "epoch: 86, loss_train: 0.1850, accuracy_train: 0.9420, loss_valid: 0.2475, accuracy_valid: 0.9175, 0.6619sec\n",
      "epoch: 87, loss_train: 0.1832, accuracy_train: 0.9432, loss_valid: 0.2467, accuracy_valid: 0.9160, 0.6362sec\n",
      "epoch: 88, loss_train: 0.1817, accuracy_train: 0.9416, loss_valid: 0.2437, accuracy_valid: 0.9160, 0.6702sec\n",
      "epoch: 89, loss_train: 0.1803, accuracy_train: 0.9440, loss_valid: 0.2428, accuracy_valid: 0.9153, 0.6253sec\n",
      "epoch: 90, loss_train: 0.1794, accuracy_train: 0.9448, loss_valid: 0.2435, accuracy_valid: 0.9183, 0.6086sec\n",
      "epoch: 91, loss_train: 0.1780, accuracy_train: 0.9443, loss_valid: 0.2428, accuracy_valid: 0.9175, 0.6369sec\n",
      "epoch: 92, loss_train: 0.1773, accuracy_train: 0.9432, loss_valid: 0.2443, accuracy_valid: 0.9183, 0.6642sec\n",
      "epoch: 93, loss_train: 0.1764, accuracy_train: 0.9441, loss_valid: 0.2422, accuracy_valid: 0.9160, 0.6421sec\n",
      "epoch: 94, loss_train: 0.1756, accuracy_train: 0.9451, loss_valid: 0.2432, accuracy_valid: 0.9168, 0.6619sec\n",
      "epoch: 95, loss_train: 0.1738, accuracy_train: 0.9456, loss_valid: 0.2423, accuracy_valid: 0.9145, 0.6447sec\n",
      "epoch: 96, loss_train: 0.1724, accuracy_train: 0.9467, loss_valid: 0.2417, accuracy_valid: 0.9153, 0.6086sec\n",
      "epoch: 97, loss_train: 0.1730, accuracy_train: 0.9467, loss_valid: 0.2421, accuracy_valid: 0.9145, 0.6457sec\n",
      "epoch: 98, loss_train: 0.1724, accuracy_train: 0.9461, loss_valid: 0.2425, accuracy_valid: 0.9145, 0.6829sec\n",
      "epoch: 99, loss_train: 0.1695, accuracy_train: 0.9461, loss_valid: 0.2427, accuracy_valid: 0.9160, 0.6756sec\n"
     ]
    }
   ],
   "source": [
    "# datasetの作成\n",
    "dataset_train = NewsDataset(X_train, y_train)\n",
    "dataset_valid = NewsDataset(X_valid, y_valid)\n",
    "\n",
    "# モデルの定義\n",
    "model = MLPNet(300, 200, 4, 1)\n",
    "\n",
    "# 損失関数の定義\n",
    "criterion = nn.CrossEntropyLoss()\n",
    "\n",
    "# オプティマイザの定義\n",
    "optimizer = torch.optim.SGD(model.parameters(), lr=1e-3)\n",
    "\n",
    "# デバイスの指定\n",
    "device = torch.device('cuda')\n",
    "\n",
    "# モデルの学習\n",
    "log = train_model(dataset_train, dataset_valid, 64, model, criterion, optimizer, 1000, device)"
   ]
  },
  {
   "cell_type": "code",
   "execution_count": 29,
   "metadata": {},
   "outputs": [
    {
     "data": {
      "image/png": "[encoded data removed]",
      "text/plain": [
       "<Figure size 1080x360 with 2 Axes>"
      ]
     },
     "metadata": {
      "needs_background": "light"
     },
     "output_type": "display_data"
    }
   ],
   "source": [
    "fig, ax = plt.subplots(1, 2, figsize=(15, 5))\n",
    "ax[0].plot(np.array(log['train']).T[0], label='train')\n",
    "ax[0].plot(np.array(log['valid']).T[0], label='valid')\n",
    "ax[0].set_xlabel('epoch')\n",
    "ax[0].set_ylabel('loss')\n",
    "ax[0].legend()\n",
    "ax[1].plot(np.array(log['train']).T[1], label='train')\n",
    "ax[1].plot(np.array(log['valid']).T[1], label='valid')\n",
    "ax[1].set_xlabel('epoch')\n",
    "ax[1].set_ylabel('accuracy')\n",
    "ax[1].legend()\n",
    "plt.show()"
   ]
  },
  {
   "cell_type": "code",
   "execution_count": 30,
   "metadata": {},
   "outputs": [],
   "source": [
    "def calculate_accuracy(model, loader, device):\n",
    "    model.eval()\n",
    "    total = 0\n",
    "    correct = 0\n",
    "    with torch.no_grad():\n",
    "        for inputs, labels in loader:\n",
    "            inputs = inputs.to(device)\n",
    "            labels = labels.to(device)\n",
    "            outputs = model(inputs)\n",
    "            pred = torch.argmax(outputs, dim=-1)\n",
    "            total += len(inputs)\n",
    "            correct += (pred == labels).sum().item()\n",
    "\n",
    "    return correct / total"
   ]
  },
  {
   "cell_type": "code",
   "execution_count": 31,
   "metadata": {},
   "outputs": [
    {
     "name": "stdout",
     "output_type": "stream",
     "text": [
      "正解率（学習データ）：0.946\n",
      "正解率（評価データ）：0.910\n"
     ]
    }
   ],
   "source": [
    "# 正解率の確認\n",
    "acc_train = calculate_accuracy(model, dataloader_train, device)\n",
    "acc_test = calculate_accuracy(model, dataloader_test, device)\n",
    "print(f'正解率（学習データ）：{acc_train:.3f}')\n",
    "print(f'正解率（評価データ）：{acc_test:.3f}')"
   ]
  },
  {
   "cell_type": "code",
   "execution_count": 32,
   "metadata": {},
   "outputs": [],
   "source": [
    "#正解率（評価データ）：0.907"
   ]
  }
 ],
 "metadata": {
  "kernelspec": {
   "display_name": "Python 3",
   "language": "python",
   "name": "python3"
  },
  "language_info": {
   "codemirror_mode": {
    "name": "ipython",
    "version": 3
   },
   "file_extension": ".py",
   "mimetype": "text/x-python",
   "name": "python",
   "nbconvert_exporter": "python",
   "pygments_lexer": "ipython3",
   "version": "3.8.5"
  }
 },
 "nbformat": 4,
 "nbformat_minor": 4
}
